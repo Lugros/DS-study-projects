{
 "cells": [
  {
   "cell_type": "markdown",
   "id": "ab2a1cf6",
   "metadata": {},
   "source": [
    "# Определение перспективного тарифа для телеком-компании"
   ]
  },
  {
   "cell_type": "markdown",
   "id": "8b165ae2",
   "metadata": {},
   "source": [
    "В данном исследовании проводится предварительный анализ тарифов на небольшой выборке клиентов. Исследуются данные 500 пользователей «Мегалайна»: кто они, откуда, каким тарифом пользуются, сколько звонков и сообщений каждый отправил за 2018 год. Цель: проанализировать поведение клиентов и сделать вывод — какой тариф лучше."
   ]
  },
  {
   "cell_type": "markdown",
   "id": "d5617e7a",
   "metadata": {},
   "source": [
    "## Описание тарифов\n",
    "\n",
    "**Тариф «Смарт»**\n",
    "\n",
    "    Ежемесячная плата: 550 рублей\n",
    "    Включено 500 минут разговора, 50 сообщений и 15 Гб интернет-трафика\n",
    "    Стоимость услуг сверх тарифного пакета:\n",
    "        - минута разговора: 3 рубля\n",
    "        - сообщение: 3 рубля\n",
    "        - 1 Гб интернет-трафика: 200 рублей\n",
    "\n",
    "**Тариф «Ультра»**\n",
    "    \n",
    "    Ежемесячная плата: 1950 рублей\n",
    "    Включено 3000 минут разговора, 1000 сообщений и 30 Гб интернет-трафика\n",
    "    Стоимость услуг сверх тарифного пакета:\n",
    "        - минута разговора: 1 рубль\n",
    "        - сообщение: 1 рубль\n",
    "        - 1 Гб интернет-трафика: 150 рублей\n",
    "\n",
    "**Примечание:**\n",
    "«Мегалайн» всегда округляет секунды до минут, а мегабайты — до гигабайт. Каждый звонок округляется отдельно: даже если он длился всего 1 секунду, будет засчитан как 1 минута.\n",
    "Для веб-трафика отдельные сессии не считаются. Вместо этого общая сумма за месяц округляется в бо́льшую сторону. Если абонент использует 1025 мегабайт в этом месяце, с него возьмут плату за 2 гигабайта."
   ]
  },
  {
   "cell_type": "markdown",
   "id": "f7c91a0b",
   "metadata": {},
   "source": [
    "## Подготовка данных"
   ]
  },
  {
   "cell_type": "code",
   "execution_count": 1,
   "id": "a653a322",
   "metadata": {},
   "outputs": [],
   "source": [
    "import pandas as pd\n",
    "import numpy as np\n",
    "import seaborn as sns\n",
    "import matplotlib.pyplot as plt\n",
    "import scipy.stats as st"
   ]
  },
  {
   "cell_type": "code",
   "execution_count": 2,
   "id": "11d9c0a8",
   "metadata": {
    "scrolled": true
   },
   "outputs": [
    {
     "name": "stdout",
     "output_type": "stream",
     "text": [
      "Defaulting to user installation because normal site-packages is not writeable\n",
      "Requirement already up-to-date: seaborn in /home/jovyan/.local/lib/python3.7/site-packages (0.11.2)\n",
      "Requirement already satisfied, skipping upgrade: pandas>=0.23 in /opt/conda/lib/python3.7/site-packages (from seaborn) (0.25.1)\n",
      "Requirement already satisfied, skipping upgrade: scipy>=1.0 in /opt/conda/lib/python3.7/site-packages (from seaborn) (1.4.1)\n",
      "Requirement already satisfied, skipping upgrade: matplotlib>=2.2 in /opt/conda/lib/python3.7/site-packages (from seaborn) (3.1.0)\n",
      "Requirement already satisfied, skipping upgrade: numpy>=1.15 in /opt/conda/lib/python3.7/site-packages (from seaborn) (1.19.5)\n",
      "Requirement already satisfied, skipping upgrade: pytz>=2017.2 in /opt/conda/lib/python3.7/site-packages (from pandas>=0.23->seaborn) (2021.1)\n",
      "Requirement already satisfied, skipping upgrade: python-dateutil>=2.6.1 in /opt/conda/lib/python3.7/site-packages (from pandas>=0.23->seaborn) (2.8.1)\n",
      "Requirement already satisfied, skipping upgrade: kiwisolver>=1.0.1 in /opt/conda/lib/python3.7/site-packages (from matplotlib>=2.2->seaborn) (1.3.1)\n",
      "Requirement already satisfied, skipping upgrade: pyparsing!=2.0.4,!=2.1.2,!=2.1.6,>=2.0.1 in /opt/conda/lib/python3.7/site-packages (from matplotlib>=2.2->seaborn) (2.4.7)\n",
      "Requirement already satisfied, skipping upgrade: cycler>=0.10 in /opt/conda/lib/python3.7/site-packages (from matplotlib>=2.2->seaborn) (0.10.0)\n",
      "Requirement already satisfied, skipping upgrade: six>=1.5 in /opt/conda/lib/python3.7/site-packages (from python-dateutil>=2.6.1->pandas>=0.23->seaborn) (1.15.0)\n",
      "Note: you may need to restart the kernel to use updated packages.\n"
     ]
    }
   ],
   "source": [
    "pip install -U seaborn"
   ]
  },
  {
   "cell_type": "markdown",
   "id": "44127da4",
   "metadata": {},
   "source": [
    "### Таблица users (информация о пользователях):\n",
    "- user_id — уникальный идентификатор пользователя\n",
    "- first_name — имя пользователя\n",
    "- last_name — фамилия пользователя\n",
    "- age — возраст пользователя (годы)\n",
    "- reg_date — дата подключения тарифа (день, месяц, год)\n",
    "- churn_date — дата прекращения пользования тарифом (если значение пропущено, то тариф ещё действовал на момент выгрузки данных)\n",
    "- city — город проживания пользователя\n",
    "- tarif — название тарифного плана"
   ]
  },
  {
   "cell_type": "code",
   "execution_count": 3,
   "id": "edf80c8d",
   "metadata": {
    "scrolled": true
   },
   "outputs": [
    {
     "name": "stdout",
     "output_type": "stream",
     "text": [
      "<class 'pandas.core.frame.DataFrame'>\n",
      "RangeIndex: 500 entries, 0 to 499\n",
      "Data columns (total 8 columns):\n",
      "user_id       500 non-null int64\n",
      "age           500 non-null int64\n",
      "churn_date    38 non-null object\n",
      "city          500 non-null object\n",
      "first_name    500 non-null object\n",
      "last_name     500 non-null object\n",
      "reg_date      500 non-null object\n",
      "tariff        500 non-null object\n",
      "dtypes: int64(2), object(6)\n",
      "memory usage: 31.4+ KB\n"
     ]
    }
   ],
   "source": [
    "df_users = pd.read_csv('/datasets/users.csv')\n",
    "df_users.info()"
   ]
  },
  {
   "cell_type": "markdown",
   "id": "89ec39f2",
   "metadata": {},
   "source": [
    "В данных есть пропуски в столбце churn_date, в дальнейшем данный столбец не потребуется, пропуски можно оставить"
   ]
  },
  {
   "cell_type": "code",
   "execution_count": 4,
   "id": "c24996e3",
   "metadata": {},
   "outputs": [
    {
     "data": {
      "text/html": [
       "<div>\n",
       "<style scoped>\n",
       "    .dataframe tbody tr th:only-of-type {\n",
       "        vertical-align: middle;\n",
       "    }\n",
       "\n",
       "    .dataframe tbody tr th {\n",
       "        vertical-align: top;\n",
       "    }\n",
       "\n",
       "    .dataframe thead th {\n",
       "        text-align: right;\n",
       "    }\n",
       "</style>\n",
       "<table border=\"1\" class=\"dataframe\">\n",
       "  <thead>\n",
       "    <tr style=\"text-align: right;\">\n",
       "      <th></th>\n",
       "      <th>user_id</th>\n",
       "      <th>age</th>\n",
       "      <th>churn_date</th>\n",
       "      <th>city</th>\n",
       "      <th>first_name</th>\n",
       "      <th>last_name</th>\n",
       "      <th>reg_date</th>\n",
       "      <th>tariff</th>\n",
       "    </tr>\n",
       "  </thead>\n",
       "  <tbody>\n",
       "    <tr>\n",
       "      <td>0</td>\n",
       "      <td>1000</td>\n",
       "      <td>52</td>\n",
       "      <td>NaN</td>\n",
       "      <td>Краснодар</td>\n",
       "      <td>Рафаил</td>\n",
       "      <td>Верещагин</td>\n",
       "      <td>2018-05-25</td>\n",
       "      <td>ultra</td>\n",
       "    </tr>\n",
       "    <tr>\n",
       "      <td>1</td>\n",
       "      <td>1001</td>\n",
       "      <td>41</td>\n",
       "      <td>NaN</td>\n",
       "      <td>Москва</td>\n",
       "      <td>Иван</td>\n",
       "      <td>Ежов</td>\n",
       "      <td>2018-11-01</td>\n",
       "      <td>smart</td>\n",
       "    </tr>\n",
       "    <tr>\n",
       "      <td>2</td>\n",
       "      <td>1002</td>\n",
       "      <td>59</td>\n",
       "      <td>NaN</td>\n",
       "      <td>Стерлитамак</td>\n",
       "      <td>Евгений</td>\n",
       "      <td>Абрамович</td>\n",
       "      <td>2018-06-17</td>\n",
       "      <td>smart</td>\n",
       "    </tr>\n",
       "    <tr>\n",
       "      <td>3</td>\n",
       "      <td>1003</td>\n",
       "      <td>23</td>\n",
       "      <td>NaN</td>\n",
       "      <td>Москва</td>\n",
       "      <td>Белла</td>\n",
       "      <td>Белякова</td>\n",
       "      <td>2018-08-17</td>\n",
       "      <td>ultra</td>\n",
       "    </tr>\n",
       "    <tr>\n",
       "      <td>4</td>\n",
       "      <td>1004</td>\n",
       "      <td>68</td>\n",
       "      <td>NaN</td>\n",
       "      <td>Новокузнецк</td>\n",
       "      <td>Татьяна</td>\n",
       "      <td>Авдеенко</td>\n",
       "      <td>2018-05-14</td>\n",
       "      <td>ultra</td>\n",
       "    </tr>\n",
       "  </tbody>\n",
       "</table>\n",
       "</div>"
      ],
      "text/plain": [
       "   user_id  age churn_date         city first_name  last_name    reg_date  \\\n",
       "0     1000   52        NaN    Краснодар     Рафаил  Верещагин  2018-05-25   \n",
       "1     1001   41        NaN       Москва       Иван       Ежов  2018-11-01   \n",
       "2     1002   59        NaN  Стерлитамак    Евгений  Абрамович  2018-06-17   \n",
       "3     1003   23        NaN       Москва      Белла   Белякова  2018-08-17   \n",
       "4     1004   68        NaN  Новокузнецк    Татьяна   Авдеенко  2018-05-14   \n",
       "\n",
       "  tariff  \n",
       "0  ultra  \n",
       "1  smart  \n",
       "2  smart  \n",
       "3  ultra  \n",
       "4  ultra  "
      ]
     },
     "execution_count": 4,
     "metadata": {},
     "output_type": "execute_result"
    }
   ],
   "source": [
    "df_users.head()"
   ]
  },
  {
   "cell_type": "code",
   "execution_count": 5,
   "id": "8015f58d",
   "metadata": {},
   "outputs": [
    {
     "name": "stdout",
     "output_type": "stream",
     "text": [
      "<class 'pandas.core.frame.DataFrame'>\n",
      "RangeIndex: 500 entries, 0 to 499\n",
      "Data columns (total 8 columns):\n",
      "user_id       500 non-null int64\n",
      "age           500 non-null int64\n",
      "churn_date    38 non-null object\n",
      "city          500 non-null object\n",
      "first_name    500 non-null object\n",
      "last_name     500 non-null object\n",
      "reg_date      500 non-null datetime64[ns]\n",
      "tariff        500 non-null object\n",
      "dtypes: datetime64[ns](1), int64(2), object(5)\n",
      "memory usage: 31.4+ KB\n"
     ]
    }
   ],
   "source": [
    "df_users['reg_date'] = pd.to_datetime(df_users['reg_date'])\n",
    "df_users.info()"
   ]
  },
  {
   "cell_type": "code",
   "execution_count": 6,
   "id": "832d6b98",
   "metadata": {},
   "outputs": [
    {
     "data": {
      "text/plain": [
       "<matplotlib.axes._subplots.AxesSubplot at 0x7f3843681c10>"
      ]
     },
     "execution_count": 6,
     "metadata": {},
     "output_type": "execute_result"
    },
    {
     "data": {
      "image/png": "[encoded data removed]",
      "text/plain": [
       "<Figure size 432x288 with 1 Axes>"
      ]
     },
     "metadata": {
      "needs_background": "light"
     },
     "output_type": "display_data"
    }
   ],
   "source": [
    "df_users.age.hist(bins=10)"
   ]
  },
  {
   "cell_type": "code",
   "execution_count": 7,
   "id": "e4374624",
   "metadata": {
    "scrolled": true
   },
   "outputs": [
    {
     "data": {
      "text/plain": [
       "Москва             99\n",
       "Санкт-Петербург    39\n",
       "Новосибирск        16\n",
       "Омск               14\n",
       "Казань             14\n",
       "                   ..\n",
       "Архангельск         1\n",
       "Нижневартовск       1\n",
       "Подольск            1\n",
       "Иваново             1\n",
       "Химки               1\n",
       "Name: city, Length: 76, dtype: int64"
      ]
     },
     "execution_count": 7,
     "metadata": {},
     "output_type": "execute_result"
    }
   ],
   "source": [
    "df_users.city.value_counts()"
   ]
  },
  {
   "cell_type": "code",
   "execution_count": 8,
   "id": "a5cc7c57",
   "metadata": {
    "scrolled": true
   },
   "outputs": [
    {
     "data": {
      "text/plain": [
       "smart    351\n",
       "ultra    149\n",
       "Name: tariff, dtype: int64"
      ]
     },
     "execution_count": 8,
     "metadata": {},
     "output_type": "execute_result"
    }
   ],
   "source": [
    "df_users.tariff.value_counts()"
   ]
  },
  {
   "cell_type": "code",
   "execution_count": 9,
   "id": "7b60ecd7",
   "metadata": {},
   "outputs": [
    {
     "data": {
      "text/plain": [
       "500"
      ]
     },
     "execution_count": 9,
     "metadata": {},
     "output_type": "execute_result"
    }
   ],
   "source": [
    "len(df_users.user_id.unique())"
   ]
  },
  {
   "cell_type": "markdown",
   "id": "159886ec",
   "metadata": {},
   "source": [
    "### Таблица calls (информация о звонках):\n",
    "- id — уникальный номер звонка\n",
    "- call_date — дата звонка\n",
    "- duration — длительность звонка в минутах\n",
    "- user_id — идентификатор пользователя, сделавшего звонок"
   ]
  },
  {
   "cell_type": "code",
   "execution_count": 10,
   "id": "086dcff0",
   "metadata": {
    "scrolled": true
   },
   "outputs": [
    {
     "data": {
      "text/html": [
       "<div>\n",
       "<style scoped>\n",
       "    .dataframe tbody tr th:only-of-type {\n",
       "        vertical-align: middle;\n",
       "    }\n",
       "\n",
       "    .dataframe tbody tr th {\n",
       "        vertical-align: top;\n",
       "    }\n",
       "\n",
       "    .dataframe thead th {\n",
       "        text-align: right;\n",
       "    }\n",
       "</style>\n",
       "<table border=\"1\" class=\"dataframe\">\n",
       "  <thead>\n",
       "    <tr style=\"text-align: right;\">\n",
       "      <th></th>\n",
       "      <th>id</th>\n",
       "      <th>call_date</th>\n",
       "      <th>duration</th>\n",
       "      <th>user_id</th>\n",
       "    </tr>\n",
       "  </thead>\n",
       "  <tbody>\n",
       "    <tr>\n",
       "      <td>0</td>\n",
       "      <td>1000_0</td>\n",
       "      <td>2018-07-25</td>\n",
       "      <td>0.00</td>\n",
       "      <td>1000</td>\n",
       "    </tr>\n",
       "    <tr>\n",
       "      <td>1</td>\n",
       "      <td>1000_1</td>\n",
       "      <td>2018-08-17</td>\n",
       "      <td>0.00</td>\n",
       "      <td>1000</td>\n",
       "    </tr>\n",
       "    <tr>\n",
       "      <td>2</td>\n",
       "      <td>1000_2</td>\n",
       "      <td>2018-06-11</td>\n",
       "      <td>2.85</td>\n",
       "      <td>1000</td>\n",
       "    </tr>\n",
       "    <tr>\n",
       "      <td>3</td>\n",
       "      <td>1000_3</td>\n",
       "      <td>2018-09-21</td>\n",
       "      <td>13.80</td>\n",
       "      <td>1000</td>\n",
       "    </tr>\n",
       "    <tr>\n",
       "      <td>4</td>\n",
       "      <td>1000_4</td>\n",
       "      <td>2018-12-15</td>\n",
       "      <td>5.18</td>\n",
       "      <td>1000</td>\n",
       "    </tr>\n",
       "  </tbody>\n",
       "</table>\n",
       "</div>"
      ],
      "text/plain": [
       "       id   call_date  duration  user_id\n",
       "0  1000_0  2018-07-25      0.00     1000\n",
       "1  1000_1  2018-08-17      0.00     1000\n",
       "2  1000_2  2018-06-11      2.85     1000\n",
       "3  1000_3  2018-09-21     13.80     1000\n",
       "4  1000_4  2018-12-15      5.18     1000"
      ]
     },
     "execution_count": 10,
     "metadata": {},
     "output_type": "execute_result"
    }
   ],
   "source": [
    "df_calls = pd.read_csv('/datasets/calls.csv')\n",
    "df_calls.head()"
   ]
  },
  {
   "cell_type": "code",
   "execution_count": 11,
   "id": "aa4c805c",
   "metadata": {
    "scrolled": true
   },
   "outputs": [
    {
     "name": "stdout",
     "output_type": "stream",
     "text": [
      "<class 'pandas.core.frame.DataFrame'>\n",
      "RangeIndex: 202607 entries, 0 to 202606\n",
      "Data columns (total 4 columns):\n",
      "id           202607 non-null object\n",
      "call_date    202607 non-null object\n",
      "duration     202607 non-null float64\n",
      "user_id      202607 non-null int64\n",
      "dtypes: float64(1), int64(1), object(2)\n",
      "memory usage: 6.2+ MB\n"
     ]
    }
   ],
   "source": [
    "df_calls.info()"
   ]
  },
  {
   "cell_type": "code",
   "execution_count": 12,
   "id": "f2dce18b",
   "metadata": {
    "scrolled": true
   },
   "outputs": [
    {
     "data": {
      "text/plain": [
       "492"
      ]
     },
     "execution_count": 12,
     "metadata": {},
     "output_type": "execute_result"
    }
   ],
   "source": [
    "len(df_calls.user_id.unique())"
   ]
  },
  {
   "cell_type": "markdown",
   "id": "23aa6048",
   "metadata": {},
   "source": [
    "Не все пользователи делали звонки"
   ]
  },
  {
   "cell_type": "markdown",
   "id": "9250f1ed",
   "metadata": {},
   "source": [
    "Дату звонков переведем в формат даты"
   ]
  },
  {
   "cell_type": "code",
   "execution_count": 13,
   "id": "cec2e6bd",
   "metadata": {
    "scrolled": false
   },
   "outputs": [],
   "source": [
    "df_calls['call_date'] = pd.to_datetime(df_calls['call_date'])"
   ]
  },
  {
   "cell_type": "code",
   "execution_count": 14,
   "id": "8f4c87ff",
   "metadata": {
    "scrolled": true
   },
   "outputs": [
    {
     "data": {
      "text/html": [
       "<div>\n",
       "<style scoped>\n",
       "    .dataframe tbody tr th:only-of-type {\n",
       "        vertical-align: middle;\n",
       "    }\n",
       "\n",
       "    .dataframe tbody tr th {\n",
       "        vertical-align: top;\n",
       "    }\n",
       "\n",
       "    .dataframe thead th {\n",
       "        text-align: right;\n",
       "    }\n",
       "</style>\n",
       "<table border=\"1\" class=\"dataframe\">\n",
       "  <thead>\n",
       "    <tr style=\"text-align: right;\">\n",
       "      <th></th>\n",
       "      <th>duration</th>\n",
       "      <th>user_id</th>\n",
       "    </tr>\n",
       "  </thead>\n",
       "  <tbody>\n",
       "    <tr>\n",
       "      <td>count</td>\n",
       "      <td>202607.000000</td>\n",
       "      <td>202607.000000</td>\n",
       "    </tr>\n",
       "    <tr>\n",
       "      <td>mean</td>\n",
       "      <td>6.755887</td>\n",
       "      <td>1253.940619</td>\n",
       "    </tr>\n",
       "    <tr>\n",
       "      <td>std</td>\n",
       "      <td>5.843365</td>\n",
       "      <td>144.722751</td>\n",
       "    </tr>\n",
       "    <tr>\n",
       "      <td>min</td>\n",
       "      <td>0.000000</td>\n",
       "      <td>1000.000000</td>\n",
       "    </tr>\n",
       "    <tr>\n",
       "      <td>25%</td>\n",
       "      <td>1.300000</td>\n",
       "      <td>1126.000000</td>\n",
       "    </tr>\n",
       "    <tr>\n",
       "      <td>50%</td>\n",
       "      <td>6.000000</td>\n",
       "      <td>1260.000000</td>\n",
       "    </tr>\n",
       "    <tr>\n",
       "      <td>75%</td>\n",
       "      <td>10.700000</td>\n",
       "      <td>1379.000000</td>\n",
       "    </tr>\n",
       "    <tr>\n",
       "      <td>max</td>\n",
       "      <td>38.000000</td>\n",
       "      <td>1499.000000</td>\n",
       "    </tr>\n",
       "  </tbody>\n",
       "</table>\n",
       "</div>"
      ],
      "text/plain": [
       "            duration        user_id\n",
       "count  202607.000000  202607.000000\n",
       "mean        6.755887    1253.940619\n",
       "std         5.843365     144.722751\n",
       "min         0.000000    1000.000000\n",
       "25%         1.300000    1126.000000\n",
       "50%         6.000000    1260.000000\n",
       "75%        10.700000    1379.000000\n",
       "max        38.000000    1499.000000"
      ]
     },
     "execution_count": 14,
     "metadata": {},
     "output_type": "execute_result"
    }
   ],
   "source": [
    "df_calls.describe()"
   ]
  },
  {
   "cell_type": "code",
   "execution_count": 15,
   "id": "9fd2024b",
   "metadata": {},
   "outputs": [
    {
     "data": {
      "text/plain": [
       "user_id\n",
       "1257      14\n",
       "1016      20\n",
       "1373      24\n",
       "1442      28\n",
       "1397      33\n",
       "        ... \n",
       "1196    1240\n",
       "1453    1440\n",
       "1375    1560\n",
       "1168    1692\n",
       "1377    1760\n",
       "Name: duration, Length: 492, dtype: int64"
      ]
     },
     "execution_count": 15,
     "metadata": {},
     "output_type": "execute_result"
    }
   ],
   "source": [
    "df_calls.groupby('user_id')['duration'].count().sort_values()"
   ]
  },
  {
   "cell_type": "code",
   "execution_count": 16,
   "id": "3cd7ec1c",
   "metadata": {},
   "outputs": [
    {
     "data": {
      "text/plain": [
       "0"
      ]
     },
     "execution_count": 16,
     "metadata": {},
     "output_type": "execute_result"
    }
   ],
   "source": [
    "df_calls.duplicated().sum()"
   ]
  },
  {
   "cell_type": "markdown",
   "id": "f6022e02",
   "metadata": {},
   "source": [
    "### Таблица internet (информация об интернет-сессиях):\n",
    "-\tid — уникальный номер сессии\n",
    "-\tmb_used — объём потраченного за сессию интернет-трафика (в мегабайтах)\n",
    "-\tsession_date — дата интернет-сессии\n",
    "-\tuser_id — идентификатор пользователя\n"
   ]
  },
  {
   "cell_type": "code",
   "execution_count": 17,
   "id": "febfb78a",
   "metadata": {},
   "outputs": [
    {
     "data": {
      "text/html": [
       "<div>\n",
       "<style scoped>\n",
       "    .dataframe tbody tr th:only-of-type {\n",
       "        vertical-align: middle;\n",
       "    }\n",
       "\n",
       "    .dataframe tbody tr th {\n",
       "        vertical-align: top;\n",
       "    }\n",
       "\n",
       "    .dataframe thead th {\n",
       "        text-align: right;\n",
       "    }\n",
       "</style>\n",
       "<table border=\"1\" class=\"dataframe\">\n",
       "  <thead>\n",
       "    <tr style=\"text-align: right;\">\n",
       "      <th></th>\n",
       "      <th>Unnamed: 0</th>\n",
       "      <th>id</th>\n",
       "      <th>mb_used</th>\n",
       "      <th>session_date</th>\n",
       "      <th>user_id</th>\n",
       "    </tr>\n",
       "  </thead>\n",
       "  <tbody>\n",
       "    <tr>\n",
       "      <td>0</td>\n",
       "      <td>0</td>\n",
       "      <td>1000_0</td>\n",
       "      <td>112.95</td>\n",
       "      <td>2018-11-25</td>\n",
       "      <td>1000</td>\n",
       "    </tr>\n",
       "    <tr>\n",
       "      <td>1</td>\n",
       "      <td>1</td>\n",
       "      <td>1000_1</td>\n",
       "      <td>1052.81</td>\n",
       "      <td>2018-09-07</td>\n",
       "      <td>1000</td>\n",
       "    </tr>\n",
       "    <tr>\n",
       "      <td>2</td>\n",
       "      <td>2</td>\n",
       "      <td>1000_2</td>\n",
       "      <td>1197.26</td>\n",
       "      <td>2018-06-25</td>\n",
       "      <td>1000</td>\n",
       "    </tr>\n",
       "    <tr>\n",
       "      <td>3</td>\n",
       "      <td>3</td>\n",
       "      <td>1000_3</td>\n",
       "      <td>550.27</td>\n",
       "      <td>2018-08-22</td>\n",
       "      <td>1000</td>\n",
       "    </tr>\n",
       "    <tr>\n",
       "      <td>4</td>\n",
       "      <td>4</td>\n",
       "      <td>1000_4</td>\n",
       "      <td>302.56</td>\n",
       "      <td>2018-09-24</td>\n",
       "      <td>1000</td>\n",
       "    </tr>\n",
       "  </tbody>\n",
       "</table>\n",
       "</div>"
      ],
      "text/plain": [
       "   Unnamed: 0      id  mb_used session_date  user_id\n",
       "0           0  1000_0   112.95   2018-11-25     1000\n",
       "1           1  1000_1  1052.81   2018-09-07     1000\n",
       "2           2  1000_2  1197.26   2018-06-25     1000\n",
       "3           3  1000_3   550.27   2018-08-22     1000\n",
       "4           4  1000_4   302.56   2018-09-24     1000"
      ]
     },
     "execution_count": 17,
     "metadata": {},
     "output_type": "execute_result"
    }
   ],
   "source": [
    "df_internet = pd.read_csv(\"/datasets/internet.csv\")\n",
    "df_internet.head()"
   ]
  },
  {
   "cell_type": "code",
   "execution_count": 18,
   "id": "882590dc",
   "metadata": {
    "scrolled": true
   },
   "outputs": [
    {
     "name": "stdout",
     "output_type": "stream",
     "text": [
      "<class 'pandas.core.frame.DataFrame'>\n",
      "RangeIndex: 149396 entries, 0 to 149395\n",
      "Data columns (total 5 columns):\n",
      "Unnamed: 0      149396 non-null int64\n",
      "id              149396 non-null object\n",
      "mb_used         149396 non-null float64\n",
      "session_date    149396 non-null object\n",
      "user_id         149396 non-null int64\n",
      "dtypes: float64(1), int64(2), object(2)\n",
      "memory usage: 5.7+ MB\n"
     ]
    }
   ],
   "source": [
    "df_internet.info()"
   ]
  },
  {
   "cell_type": "markdown",
   "id": "47e7094f",
   "metadata": {},
   "source": [
    "В данных есть лишний столбец 'Unnamed: 0', который дублирует индексацию строк и никак не описан в документации к данным, удалим его.\n",
    "В столбце с датой сессии хранится тип object, переведем его в datetime"
   ]
  },
  {
   "cell_type": "code",
   "execution_count": 19,
   "id": "65868f78",
   "metadata": {},
   "outputs": [
    {
     "data": {
      "text/html": [
       "<div>\n",
       "<style scoped>\n",
       "    .dataframe tbody tr th:only-of-type {\n",
       "        vertical-align: middle;\n",
       "    }\n",
       "\n",
       "    .dataframe tbody tr th {\n",
       "        vertical-align: top;\n",
       "    }\n",
       "\n",
       "    .dataframe thead th {\n",
       "        text-align: right;\n",
       "    }\n",
       "</style>\n",
       "<table border=\"1\" class=\"dataframe\">\n",
       "  <thead>\n",
       "    <tr style=\"text-align: right;\">\n",
       "      <th></th>\n",
       "      <th>id</th>\n",
       "      <th>mb_used</th>\n",
       "      <th>session_date</th>\n",
       "      <th>user_id</th>\n",
       "    </tr>\n",
       "  </thead>\n",
       "  <tbody>\n",
       "    <tr>\n",
       "      <td>0</td>\n",
       "      <td>1000_0</td>\n",
       "      <td>112.95</td>\n",
       "      <td>2018-11-25</td>\n",
       "      <td>1000</td>\n",
       "    </tr>\n",
       "    <tr>\n",
       "      <td>1</td>\n",
       "      <td>1000_1</td>\n",
       "      <td>1052.81</td>\n",
       "      <td>2018-09-07</td>\n",
       "      <td>1000</td>\n",
       "    </tr>\n",
       "    <tr>\n",
       "      <td>2</td>\n",
       "      <td>1000_2</td>\n",
       "      <td>1197.26</td>\n",
       "      <td>2018-06-25</td>\n",
       "      <td>1000</td>\n",
       "    </tr>\n",
       "    <tr>\n",
       "      <td>3</td>\n",
       "      <td>1000_3</td>\n",
       "      <td>550.27</td>\n",
       "      <td>2018-08-22</td>\n",
       "      <td>1000</td>\n",
       "    </tr>\n",
       "    <tr>\n",
       "      <td>4</td>\n",
       "      <td>1000_4</td>\n",
       "      <td>302.56</td>\n",
       "      <td>2018-09-24</td>\n",
       "      <td>1000</td>\n",
       "    </tr>\n",
       "  </tbody>\n",
       "</table>\n",
       "</div>"
      ],
      "text/plain": [
       "       id  mb_used session_date  user_id\n",
       "0  1000_0   112.95   2018-11-25     1000\n",
       "1  1000_1  1052.81   2018-09-07     1000\n",
       "2  1000_2  1197.26   2018-06-25     1000\n",
       "3  1000_3   550.27   2018-08-22     1000\n",
       "4  1000_4   302.56   2018-09-24     1000"
      ]
     },
     "execution_count": 19,
     "metadata": {},
     "output_type": "execute_result"
    }
   ],
   "source": [
    "df_internet.pop('Unnamed: 0')\n",
    "df_internet.head()"
   ]
  },
  {
   "cell_type": "code",
   "execution_count": 20,
   "id": "b47b6510",
   "metadata": {},
   "outputs": [],
   "source": [
    "df_internet['session_date'] = pd.to_datetime(df_internet['session_date'])"
   ]
  },
  {
   "cell_type": "code",
   "execution_count": 21,
   "id": "b87513e1",
   "metadata": {
    "scrolled": true
   },
   "outputs": [
    {
     "name": "stdout",
     "output_type": "stream",
     "text": [
      "<class 'pandas.core.frame.DataFrame'>\n",
      "RangeIndex: 149396 entries, 0 to 149395\n",
      "Data columns (total 4 columns):\n",
      "id              149396 non-null object\n",
      "mb_used         149396 non-null float64\n",
      "session_date    149396 non-null datetime64[ns]\n",
      "user_id         149396 non-null int64\n",
      "dtypes: datetime64[ns](1), float64(1), int64(1), object(1)\n",
      "memory usage: 4.6+ MB\n"
     ]
    }
   ],
   "source": [
    "df_internet.info()"
   ]
  },
  {
   "cell_type": "code",
   "execution_count": 22,
   "id": "4e75cc42",
   "metadata": {
    "scrolled": true
   },
   "outputs": [
    {
     "data": {
      "text/html": [
       "<div>\n",
       "<style scoped>\n",
       "    .dataframe tbody tr th:only-of-type {\n",
       "        vertical-align: middle;\n",
       "    }\n",
       "\n",
       "    .dataframe tbody tr th {\n",
       "        vertical-align: top;\n",
       "    }\n",
       "\n",
       "    .dataframe thead th {\n",
       "        text-align: right;\n",
       "    }\n",
       "</style>\n",
       "<table border=\"1\" class=\"dataframe\">\n",
       "  <thead>\n",
       "    <tr style=\"text-align: right;\">\n",
       "      <th></th>\n",
       "      <th>mb_used</th>\n",
       "      <th>user_id</th>\n",
       "    </tr>\n",
       "  </thead>\n",
       "  <tbody>\n",
       "    <tr>\n",
       "      <td>count</td>\n",
       "      <td>149396.000000</td>\n",
       "      <td>149396.000000</td>\n",
       "    </tr>\n",
       "    <tr>\n",
       "      <td>mean</td>\n",
       "      <td>370.192426</td>\n",
       "      <td>1252.099842</td>\n",
       "    </tr>\n",
       "    <tr>\n",
       "      <td>std</td>\n",
       "      <td>278.300951</td>\n",
       "      <td>144.050823</td>\n",
       "    </tr>\n",
       "    <tr>\n",
       "      <td>min</td>\n",
       "      <td>0.000000</td>\n",
       "      <td>1000.000000</td>\n",
       "    </tr>\n",
       "    <tr>\n",
       "      <td>25%</td>\n",
       "      <td>138.187500</td>\n",
       "      <td>1130.000000</td>\n",
       "    </tr>\n",
       "    <tr>\n",
       "      <td>50%</td>\n",
       "      <td>348.015000</td>\n",
       "      <td>1251.000000</td>\n",
       "    </tr>\n",
       "    <tr>\n",
       "      <td>75%</td>\n",
       "      <td>559.552500</td>\n",
       "      <td>1380.000000</td>\n",
       "    </tr>\n",
       "    <tr>\n",
       "      <td>max</td>\n",
       "      <td>1724.830000</td>\n",
       "      <td>1499.000000</td>\n",
       "    </tr>\n",
       "  </tbody>\n",
       "</table>\n",
       "</div>"
      ],
      "text/plain": [
       "             mb_used        user_id\n",
       "count  149396.000000  149396.000000\n",
       "mean      370.192426    1252.099842\n",
       "std       278.300951     144.050823\n",
       "min         0.000000    1000.000000\n",
       "25%       138.187500    1130.000000\n",
       "50%       348.015000    1251.000000\n",
       "75%       559.552500    1380.000000\n",
       "max      1724.830000    1499.000000"
      ]
     },
     "execution_count": 22,
     "metadata": {},
     "output_type": "execute_result"
    }
   ],
   "source": [
    "df_internet.describe()"
   ]
  },
  {
   "cell_type": "markdown",
   "id": "e5f95c1d",
   "metadata": {},
   "source": [
    "### Таблица messages (информация о сообщениях):"
   ]
  },
  {
   "cell_type": "markdown",
   "id": "ff40aff0",
   "metadata": {},
   "source": [
    "- id — уникальный номер сообщения\n",
    "- message_date — дата сообщения\n",
    "- user_id — идентификатор пользователя, отправившего сообщение\n"
   ]
  },
  {
   "cell_type": "code",
   "execution_count": 23,
   "id": "1a9578b8",
   "metadata": {},
   "outputs": [
    {
     "data": {
      "text/html": [
       "<div>\n",
       "<style scoped>\n",
       "    .dataframe tbody tr th:only-of-type {\n",
       "        vertical-align: middle;\n",
       "    }\n",
       "\n",
       "    .dataframe tbody tr th {\n",
       "        vertical-align: top;\n",
       "    }\n",
       "\n",
       "    .dataframe thead th {\n",
       "        text-align: right;\n",
       "    }\n",
       "</style>\n",
       "<table border=\"1\" class=\"dataframe\">\n",
       "  <thead>\n",
       "    <tr style=\"text-align: right;\">\n",
       "      <th></th>\n",
       "      <th>id</th>\n",
       "      <th>message_date</th>\n",
       "      <th>user_id</th>\n",
       "    </tr>\n",
       "  </thead>\n",
       "  <tbody>\n",
       "    <tr>\n",
       "      <td>0</td>\n",
       "      <td>1000_0</td>\n",
       "      <td>2018-06-27</td>\n",
       "      <td>1000</td>\n",
       "    </tr>\n",
       "    <tr>\n",
       "      <td>1</td>\n",
       "      <td>1000_1</td>\n",
       "      <td>2018-10-08</td>\n",
       "      <td>1000</td>\n",
       "    </tr>\n",
       "    <tr>\n",
       "      <td>2</td>\n",
       "      <td>1000_2</td>\n",
       "      <td>2018-08-04</td>\n",
       "      <td>1000</td>\n",
       "    </tr>\n",
       "    <tr>\n",
       "      <td>3</td>\n",
       "      <td>1000_3</td>\n",
       "      <td>2018-06-16</td>\n",
       "      <td>1000</td>\n",
       "    </tr>\n",
       "    <tr>\n",
       "      <td>4</td>\n",
       "      <td>1000_4</td>\n",
       "      <td>2018-12-05</td>\n",
       "      <td>1000</td>\n",
       "    </tr>\n",
       "  </tbody>\n",
       "</table>\n",
       "</div>"
      ],
      "text/plain": [
       "       id message_date  user_id\n",
       "0  1000_0   2018-06-27     1000\n",
       "1  1000_1   2018-10-08     1000\n",
       "2  1000_2   2018-08-04     1000\n",
       "3  1000_3   2018-06-16     1000\n",
       "4  1000_4   2018-12-05     1000"
      ]
     },
     "execution_count": 23,
     "metadata": {},
     "output_type": "execute_result"
    }
   ],
   "source": [
    "df_messages = pd.read_csv(\"/datasets/messages.csv\")\n",
    "df_messages.head()"
   ]
  },
  {
   "cell_type": "code",
   "execution_count": 24,
   "id": "a0696b8e",
   "metadata": {
    "scrolled": true
   },
   "outputs": [
    {
     "name": "stdout",
     "output_type": "stream",
     "text": [
      "<class 'pandas.core.frame.DataFrame'>\n",
      "RangeIndex: 123036 entries, 0 to 123035\n",
      "Data columns (total 3 columns):\n",
      "id              123036 non-null object\n",
      "message_date    123036 non-null object\n",
      "user_id         123036 non-null int64\n",
      "dtypes: int64(1), object(2)\n",
      "memory usage: 2.8+ MB\n"
     ]
    }
   ],
   "source": [
    "df_messages.info()"
   ]
  },
  {
   "cell_type": "markdown",
   "id": "40027b87",
   "metadata": {},
   "source": [
    "Пропусков в данных нет, столбец с датой сообщения типа object, приведем его к типу datetime "
   ]
  },
  {
   "cell_type": "code",
   "execution_count": 25,
   "id": "44084fbe",
   "metadata": {
    "scrolled": true
   },
   "outputs": [
    {
     "name": "stdout",
     "output_type": "stream",
     "text": [
      "<class 'pandas.core.frame.DataFrame'>\n",
      "RangeIndex: 123036 entries, 0 to 123035\n",
      "Data columns (total 3 columns):\n",
      "id              123036 non-null object\n",
      "message_date    123036 non-null datetime64[ns]\n",
      "user_id         123036 non-null int64\n",
      "dtypes: datetime64[ns](1), int64(1), object(1)\n",
      "memory usage: 2.8+ MB\n"
     ]
    }
   ],
   "source": [
    "df_messages['message_date'] = pd.to_datetime(df_messages['message_date'])\n",
    "df_messages.info()"
   ]
  },
  {
   "cell_type": "code",
   "execution_count": 26,
   "id": "981351c3",
   "metadata": {},
   "outputs": [
    {
     "data": {
      "text/plain": [
       "0"
      ]
     },
     "execution_count": 26,
     "metadata": {},
     "output_type": "execute_result"
    }
   ],
   "source": [
    "df_messages.duplicated().sum()"
   ]
  },
  {
   "cell_type": "markdown",
   "id": "6a9d7408",
   "metadata": {},
   "source": [
    "### Таблица tariffs (информация об интернет-сессиях):"
   ]
  },
  {
   "cell_type": "markdown",
   "id": "87515ca8",
   "metadata": {},
   "source": [
    "- tariff_name — название тарифа\n",
    "- rub_monthly_fee — ежемесячная абонентская плата в рублях\n",
    "- minutes_included — количество минут разговора в месяц, включённых в абонентскую плату\n",
    "- messages_included — количество сообщений в месяц, включённых в абонентскую плату\n",
    "- mb_per_month_included — объём интернет-трафика, включённого в абонентскую плату (в мегабайтах)\n",
    "- rub_per_minute — стоимость минуты разговора сверх тарифного пакета (например, если в тарифе 100 минут разговора в месяц, то со 101 минуты будет взиматься плата)\n",
    "- rub_per_message — стоимость отправки сообщения сверх тарифного пакета\n",
    "- rub_per_gb — стоимость дополнительного гигабайта интернет-трафика сверх тарифного пакета (1 гигабайт = 1024 мегабайта)\n"
   ]
  },
  {
   "cell_type": "code",
   "execution_count": 27,
   "id": "3675abf7",
   "metadata": {
    "scrolled": true
   },
   "outputs": [
    {
     "data": {
      "text/html": [
       "<div>\n",
       "<style scoped>\n",
       "    .dataframe tbody tr th:only-of-type {\n",
       "        vertical-align: middle;\n",
       "    }\n",
       "\n",
       "    .dataframe tbody tr th {\n",
       "        vertical-align: top;\n",
       "    }\n",
       "\n",
       "    .dataframe thead th {\n",
       "        text-align: right;\n",
       "    }\n",
       "</style>\n",
       "<table border=\"1\" class=\"dataframe\">\n",
       "  <thead>\n",
       "    <tr style=\"text-align: right;\">\n",
       "      <th></th>\n",
       "      <th>messages_included</th>\n",
       "      <th>mb_per_month_included</th>\n",
       "      <th>minutes_included</th>\n",
       "      <th>rub_monthly_fee</th>\n",
       "      <th>rub_per_gb</th>\n",
       "      <th>rub_per_message</th>\n",
       "      <th>rub_per_minute</th>\n",
       "      <th>tariff_name</th>\n",
       "    </tr>\n",
       "  </thead>\n",
       "  <tbody>\n",
       "    <tr>\n",
       "      <td>0</td>\n",
       "      <td>50</td>\n",
       "      <td>15360</td>\n",
       "      <td>500</td>\n",
       "      <td>550</td>\n",
       "      <td>200</td>\n",
       "      <td>3</td>\n",
       "      <td>3</td>\n",
       "      <td>smart</td>\n",
       "    </tr>\n",
       "    <tr>\n",
       "      <td>1</td>\n",
       "      <td>1000</td>\n",
       "      <td>30720</td>\n",
       "      <td>3000</td>\n",
       "      <td>1950</td>\n",
       "      <td>150</td>\n",
       "      <td>1</td>\n",
       "      <td>1</td>\n",
       "      <td>ultra</td>\n",
       "    </tr>\n",
       "  </tbody>\n",
       "</table>\n",
       "</div>"
      ],
      "text/plain": [
       "   messages_included  mb_per_month_included  minutes_included  \\\n",
       "0                 50                  15360               500   \n",
       "1               1000                  30720              3000   \n",
       "\n",
       "   rub_monthly_fee  rub_per_gb  rub_per_message  rub_per_minute tariff_name  \n",
       "0              550         200                3               3       smart  \n",
       "1             1950         150                1               1       ultra  "
      ]
     },
     "execution_count": 27,
     "metadata": {},
     "output_type": "execute_result"
    }
   ],
   "source": [
    "df_tariffs = pd.read_csv(\"/datasets/tariffs.csv\")\n",
    "df_tariffs.head()"
   ]
  },
  {
   "cell_type": "markdown",
   "id": "533ea16e",
   "metadata": {},
   "source": [
    "Переведем включенный пакет интернета в гигабайты "
   ]
  },
  {
   "cell_type": "code",
   "execution_count": 28,
   "id": "68131035",
   "metadata": {},
   "outputs": [],
   "source": [
    "df_tariffs['mb_per_month_included'] = (df_tariffs['mb_per_month_included']/1024).astype('int')\n",
    "df_tariffs = df_tariffs.rename(columns={'mb_per_month_included': 'gb_per_month_included'})"
   ]
  },
  {
   "cell_type": "markdown",
   "id": "d449b163",
   "metadata": {},
   "source": [
    "Во все таблицы с данными добавим столбец с месяцем. Также проверим,только 2018 год в данных или нет?"
   ]
  },
  {
   "cell_type": "code",
   "execution_count": 29,
   "id": "44491ab8",
   "metadata": {},
   "outputs": [
    {
     "name": "stdout",
     "output_type": "stream",
     "text": [
      "[2018]\n",
      "[2018]\n",
      "[2018]\n"
     ]
    }
   ],
   "source": [
    "print(df_calls['call_date'].dt.year.unique())\n",
    "print(df_messages['message_date'].dt.year.unique())\n",
    "print(df_internet['session_date'].dt.year.unique())\n",
    "df_calls['call_month'] = df_calls['call_date'].dt.month\n",
    "df_messages['message_month'] = df_messages['message_date'].dt.month\n",
    "df_internet['session_month'] = df_internet['session_date'].dt.month"
   ]
  },
  {
   "cell_type": "markdown",
   "id": "f9ed183a",
   "metadata": {},
   "source": [
    "Посчтаем количество и длительность по месяцам сделанных звонков каждым пользователем."
   ]
  },
  {
   "cell_type": "code",
   "execution_count": 30,
   "id": "be4a1c14",
   "metadata": {},
   "outputs": [
    {
     "data": {
      "text/html": [
       "<div>\n",
       "<style scoped>\n",
       "    .dataframe tbody tr th:only-of-type {\n",
       "        vertical-align: middle;\n",
       "    }\n",
       "\n",
       "    .dataframe tbody tr th {\n",
       "        vertical-align: top;\n",
       "    }\n",
       "\n",
       "    .dataframe thead th {\n",
       "        text-align: right;\n",
       "    }\n",
       "</style>\n",
       "<table border=\"1\" class=\"dataframe\">\n",
       "  <thead>\n",
       "    <tr style=\"text-align: right;\">\n",
       "      <th></th>\n",
       "      <th>user_id</th>\n",
       "      <th>call_month</th>\n",
       "      <th>count_call</th>\n",
       "      <th>sum_duration</th>\n",
       "    </tr>\n",
       "  </thead>\n",
       "  <tbody>\n",
       "    <tr>\n",
       "      <td>0</td>\n",
       "      <td>1000</td>\n",
       "      <td>5</td>\n",
       "      <td>22</td>\n",
       "      <td>150.06</td>\n",
       "    </tr>\n",
       "    <tr>\n",
       "      <td>1</td>\n",
       "      <td>1000</td>\n",
       "      <td>6</td>\n",
       "      <td>43</td>\n",
       "      <td>158.90</td>\n",
       "    </tr>\n",
       "    <tr>\n",
       "      <td>2</td>\n",
       "      <td>1000</td>\n",
       "      <td>7</td>\n",
       "      <td>47</td>\n",
       "      <td>318.80</td>\n",
       "    </tr>\n",
       "    <tr>\n",
       "      <td>3</td>\n",
       "      <td>1000</td>\n",
       "      <td>8</td>\n",
       "      <td>52</td>\n",
       "      <td>389.87</td>\n",
       "    </tr>\n",
       "    <tr>\n",
       "      <td>4</td>\n",
       "      <td>1000</td>\n",
       "      <td>9</td>\n",
       "      <td>58</td>\n",
       "      <td>440.14</td>\n",
       "    </tr>\n",
       "    <tr>\n",
       "      <td>...</td>\n",
       "      <td>...</td>\n",
       "      <td>...</td>\n",
       "      <td>...</td>\n",
       "      <td>...</td>\n",
       "    </tr>\n",
       "    <tr>\n",
       "      <td>3169</td>\n",
       "      <td>1498</td>\n",
       "      <td>10</td>\n",
       "      <td>41</td>\n",
       "      <td>232.63</td>\n",
       "    </tr>\n",
       "    <tr>\n",
       "      <td>3170</td>\n",
       "      <td>1499</td>\n",
       "      <td>9</td>\n",
       "      <td>9</td>\n",
       "      <td>64.65</td>\n",
       "    </tr>\n",
       "    <tr>\n",
       "      <td>3171</td>\n",
       "      <td>1499</td>\n",
       "      <td>10</td>\n",
       "      <td>68</td>\n",
       "      <td>429.91</td>\n",
       "    </tr>\n",
       "    <tr>\n",
       "      <td>3172</td>\n",
       "      <td>1499</td>\n",
       "      <td>11</td>\n",
       "      <td>74</td>\n",
       "      <td>576.50</td>\n",
       "    </tr>\n",
       "    <tr>\n",
       "      <td>3173</td>\n",
       "      <td>1499</td>\n",
       "      <td>12</td>\n",
       "      <td>69</td>\n",
       "      <td>465.16</td>\n",
       "    </tr>\n",
       "  </tbody>\n",
       "</table>\n",
       "<p>3174 rows × 4 columns</p>\n",
       "</div>"
      ],
      "text/plain": [
       "      user_id  call_month  count_call  sum_duration\n",
       "0        1000           5          22        150.06\n",
       "1        1000           6          43        158.90\n",
       "2        1000           7          47        318.80\n",
       "3        1000           8          52        389.87\n",
       "4        1000           9          58        440.14\n",
       "...       ...         ...         ...           ...\n",
       "3169     1498          10          41        232.63\n",
       "3170     1499           9           9         64.65\n",
       "3171     1499          10          68        429.91\n",
       "3172     1499          11          74        576.50\n",
       "3173     1499          12          69        465.16\n",
       "\n",
       "[3174 rows x 4 columns]"
      ]
     },
     "execution_count": 30,
     "metadata": {},
     "output_type": "execute_result"
    }
   ],
   "source": [
    "group_users_call = df_calls.groupby(by = ['user_id','call_month'])['duration'].agg(['count','sum']).reset_index()\n",
    "group_users_call.columns = ['user_id', 'call_month', 'count_call', 'sum_duration']\n",
    "group_users_call"
   ]
  },
  {
   "cell_type": "markdown",
   "id": "af342b5e",
   "metadata": {},
   "source": [
    "Посчитаем количество отправленных сообщений для каждого пользователя по месяцам"
   ]
  },
  {
   "cell_type": "code",
   "execution_count": 31,
   "id": "45d7d9d9",
   "metadata": {},
   "outputs": [
    {
     "data": {
      "text/html": [
       "<div>\n",
       "<style scoped>\n",
       "    .dataframe tbody tr th:only-of-type {\n",
       "        vertical-align: middle;\n",
       "    }\n",
       "\n",
       "    .dataframe tbody tr th {\n",
       "        vertical-align: top;\n",
       "    }\n",
       "\n",
       "    .dataframe thead th {\n",
       "        text-align: right;\n",
       "    }\n",
       "</style>\n",
       "<table border=\"1\" class=\"dataframe\">\n",
       "  <thead>\n",
       "    <tr style=\"text-align: right;\">\n",
       "      <th></th>\n",
       "      <th>user_id</th>\n",
       "      <th>message_month</th>\n",
       "      <th>count_messages</th>\n",
       "    </tr>\n",
       "  </thead>\n",
       "  <tbody>\n",
       "    <tr>\n",
       "      <td>0</td>\n",
       "      <td>1000</td>\n",
       "      <td>5</td>\n",
       "      <td>22</td>\n",
       "    </tr>\n",
       "    <tr>\n",
       "      <td>1</td>\n",
       "      <td>1000</td>\n",
       "      <td>6</td>\n",
       "      <td>60</td>\n",
       "    </tr>\n",
       "    <tr>\n",
       "      <td>2</td>\n",
       "      <td>1000</td>\n",
       "      <td>7</td>\n",
       "      <td>75</td>\n",
       "    </tr>\n",
       "    <tr>\n",
       "      <td>3</td>\n",
       "      <td>1000</td>\n",
       "      <td>8</td>\n",
       "      <td>81</td>\n",
       "    </tr>\n",
       "    <tr>\n",
       "      <td>4</td>\n",
       "      <td>1000</td>\n",
       "      <td>9</td>\n",
       "      <td>57</td>\n",
       "    </tr>\n",
       "    <tr>\n",
       "      <td>...</td>\n",
       "      <td>...</td>\n",
       "      <td>...</td>\n",
       "      <td>...</td>\n",
       "    </tr>\n",
       "    <tr>\n",
       "      <td>2712</td>\n",
       "      <td>1498</td>\n",
       "      <td>10</td>\n",
       "      <td>42</td>\n",
       "    </tr>\n",
       "    <tr>\n",
       "      <td>2713</td>\n",
       "      <td>1499</td>\n",
       "      <td>9</td>\n",
       "      <td>11</td>\n",
       "    </tr>\n",
       "    <tr>\n",
       "      <td>2714</td>\n",
       "      <td>1499</td>\n",
       "      <td>10</td>\n",
       "      <td>48</td>\n",
       "    </tr>\n",
       "    <tr>\n",
       "      <td>2715</td>\n",
       "      <td>1499</td>\n",
       "      <td>11</td>\n",
       "      <td>59</td>\n",
       "    </tr>\n",
       "    <tr>\n",
       "      <td>2716</td>\n",
       "      <td>1499</td>\n",
       "      <td>12</td>\n",
       "      <td>66</td>\n",
       "    </tr>\n",
       "  </tbody>\n",
       "</table>\n",
       "<p>2717 rows × 3 columns</p>\n",
       "</div>"
      ],
      "text/plain": [
       "      user_id  message_month  count_messages\n",
       "0        1000              5              22\n",
       "1        1000              6              60\n",
       "2        1000              7              75\n",
       "3        1000              8              81\n",
       "4        1000              9              57\n",
       "...       ...            ...             ...\n",
       "2712     1498             10              42\n",
       "2713     1499              9              11\n",
       "2714     1499             10              48\n",
       "2715     1499             11              59\n",
       "2716     1499             12              66\n",
       "\n",
       "[2717 rows x 3 columns]"
      ]
     },
     "execution_count": 31,
     "metadata": {},
     "output_type": "execute_result"
    }
   ],
   "source": [
    "group_users_messages = df_messages.groupby(by = ['user_id','message_month'])['id'].agg(['count']).reset_index()\n",
    "group_users_messages.columns = ['user_id', 'message_month', 'count_messages']\n",
    "group_users_messages"
   ]
  },
  {
   "cell_type": "markdown",
   "id": "c925032d",
   "metadata": {},
   "source": [
    "Посчитаем количество потраченного трафика для каждого пользователя в месяц"
   ]
  },
  {
   "cell_type": "code",
   "execution_count": 32,
   "id": "cd009024",
   "metadata": {},
   "outputs": [
    {
     "data": {
      "text/html": [
       "<div>\n",
       "<style scoped>\n",
       "    .dataframe tbody tr th:only-of-type {\n",
       "        vertical-align: middle;\n",
       "    }\n",
       "\n",
       "    .dataframe tbody tr th {\n",
       "        vertical-align: top;\n",
       "    }\n",
       "\n",
       "    .dataframe thead th {\n",
       "        text-align: right;\n",
       "    }\n",
       "</style>\n",
       "<table border=\"1\" class=\"dataframe\">\n",
       "  <thead>\n",
       "    <tr style=\"text-align: right;\">\n",
       "      <th></th>\n",
       "      <th>user_id</th>\n",
       "      <th>session_month</th>\n",
       "      <th>sum_session</th>\n",
       "    </tr>\n",
       "  </thead>\n",
       "  <tbody>\n",
       "    <tr>\n",
       "      <td>0</td>\n",
       "      <td>1000</td>\n",
       "      <td>5</td>\n",
       "      <td>2253.49</td>\n",
       "    </tr>\n",
       "    <tr>\n",
       "      <td>1</td>\n",
       "      <td>1000</td>\n",
       "      <td>6</td>\n",
       "      <td>23233.77</td>\n",
       "    </tr>\n",
       "    <tr>\n",
       "      <td>2</td>\n",
       "      <td>1000</td>\n",
       "      <td>7</td>\n",
       "      <td>14003.64</td>\n",
       "    </tr>\n",
       "    <tr>\n",
       "      <td>3</td>\n",
       "      <td>1000</td>\n",
       "      <td>8</td>\n",
       "      <td>14055.93</td>\n",
       "    </tr>\n",
       "    <tr>\n",
       "      <td>4</td>\n",
       "      <td>1000</td>\n",
       "      <td>9</td>\n",
       "      <td>14568.91</td>\n",
       "    </tr>\n",
       "    <tr>\n",
       "      <td>...</td>\n",
       "      <td>...</td>\n",
       "      <td>...</td>\n",
       "      <td>...</td>\n",
       "    </tr>\n",
       "    <tr>\n",
       "      <td>3198</td>\n",
       "      <td>1498</td>\n",
       "      <td>10</td>\n",
       "      <td>20579.36</td>\n",
       "    </tr>\n",
       "    <tr>\n",
       "      <td>3199</td>\n",
       "      <td>1499</td>\n",
       "      <td>9</td>\n",
       "      <td>1845.75</td>\n",
       "    </tr>\n",
       "    <tr>\n",
       "      <td>3200</td>\n",
       "      <td>1499</td>\n",
       "      <td>10</td>\n",
       "      <td>17788.51</td>\n",
       "    </tr>\n",
       "    <tr>\n",
       "      <td>3201</td>\n",
       "      <td>1499</td>\n",
       "      <td>11</td>\n",
       "      <td>17963.31</td>\n",
       "    </tr>\n",
       "    <tr>\n",
       "      <td>3202</td>\n",
       "      <td>1499</td>\n",
       "      <td>12</td>\n",
       "      <td>13055.58</td>\n",
       "    </tr>\n",
       "  </tbody>\n",
       "</table>\n",
       "<p>3203 rows × 3 columns</p>\n",
       "</div>"
      ],
      "text/plain": [
       "      user_id  session_month  sum_session\n",
       "0        1000              5      2253.49\n",
       "1        1000              6     23233.77\n",
       "2        1000              7     14003.64\n",
       "3        1000              8     14055.93\n",
       "4        1000              9     14568.91\n",
       "...       ...            ...          ...\n",
       "3198     1498             10     20579.36\n",
       "3199     1499              9      1845.75\n",
       "3200     1499             10     17788.51\n",
       "3201     1499             11     17963.31\n",
       "3202     1499             12     13055.58\n",
       "\n",
       "[3203 rows x 3 columns]"
      ]
     },
     "execution_count": 32,
     "metadata": {},
     "output_type": "execute_result"
    }
   ],
   "source": [
    "group_users_internet = df_internet.groupby(by = ['user_id','session_month'])['mb_used'].agg('sum').reset_index()\n",
    "group_users_internet.columns = ['user_id', 'session_month', 'sum_session']\n",
    "group_users_internet"
   ]
  },
  {
   "cell_type": "markdown",
   "id": "61099763",
   "metadata": {},
   "source": [
    "Соединим таблицы с информацией о звонках и с инофрмацией о сообщениях."
   ]
  },
  {
   "cell_type": "code",
   "execution_count": 33,
   "id": "d213ed5a",
   "metadata": {},
   "outputs": [],
   "source": [
    "group_month = pd.merge(group_users_messages, group_users_call,  how='outer', left_on=['user_id','message_month'], right_on = ['user_id','call_month'])"
   ]
  },
  {
   "cell_type": "code",
   "execution_count": 34,
   "id": "d9fb0d26",
   "metadata": {},
   "outputs": [
    {
     "data": {
      "text/plain": [
       "496"
      ]
     },
     "execution_count": 34,
     "metadata": {},
     "output_type": "execute_result"
    }
   ],
   "source": [
    "group_month['message_month'].isna().sum()"
   ]
  },
  {
   "cell_type": "code",
   "execution_count": 35,
   "id": "572aaee4",
   "metadata": {
    "scrolled": true
   },
   "outputs": [
    {
     "data": {
      "text/plain": [
       "39"
      ]
     },
     "execution_count": 35,
     "metadata": {},
     "output_type": "execute_result"
    }
   ],
   "source": [
    "group_month['call_month'].isna().sum()"
   ]
  },
  {
   "cell_type": "markdown",
   "id": "4e17ecef",
   "metadata": {},
   "source": [
    "496 месяцев было у разных пользователей, когда они делали звонки, но не отправляли смс. \n",
    "\n",
    "39 месяцев было у разных пользователей, когда они отправляли смс, но не делали звонки."
   ]
  },
  {
   "cell_type": "code",
   "execution_count": 36,
   "id": "1eb78912",
   "metadata": {
    "scrolled": true
   },
   "outputs": [
    {
     "name": "stdout",
     "output_type": "stream",
     "text": [
      "0\n",
      "0\n"
     ]
    }
   ],
   "source": [
    "group_month['message_month'] = group_month['message_month'].fillna(group_month['call_month'])\n",
    "group_month['call_month'] = group_month['call_month'].fillna(group_month['message_month'])\n",
    "print(group_month['message_month'].isna().sum())\n",
    "print(group_month['call_month'].isna().sum())"
   ]
  },
  {
   "cell_type": "markdown",
   "id": "c0afaf94",
   "metadata": {},
   "source": [
    "Соединим таблицы с информацией о звонках и сообщениях с таблицей о расходах интернет трафика."
   ]
  },
  {
   "cell_type": "code",
   "execution_count": 37,
   "id": "39e3d8c8",
   "metadata": {},
   "outputs": [
    {
     "data": {
      "text/html": [
       "<div>\n",
       "<style scoped>\n",
       "    .dataframe tbody tr th:only-of-type {\n",
       "        vertical-align: middle;\n",
       "    }\n",
       "\n",
       "    .dataframe tbody tr th {\n",
       "        vertical-align: top;\n",
       "    }\n",
       "\n",
       "    .dataframe thead th {\n",
       "        text-align: right;\n",
       "    }\n",
       "</style>\n",
       "<table border=\"1\" class=\"dataframe\">\n",
       "  <thead>\n",
       "    <tr style=\"text-align: right;\">\n",
       "      <th></th>\n",
       "      <th>user_id</th>\n",
       "      <th>message_month</th>\n",
       "      <th>count_messages</th>\n",
       "      <th>call_month</th>\n",
       "      <th>count_call</th>\n",
       "      <th>sum_duration</th>\n",
       "      <th>session_month</th>\n",
       "      <th>sum_session</th>\n",
       "    </tr>\n",
       "  </thead>\n",
       "  <tbody>\n",
       "    <tr>\n",
       "      <td>0</td>\n",
       "      <td>1000</td>\n",
       "      <td>5.0</td>\n",
       "      <td>22.0</td>\n",
       "      <td>5.0</td>\n",
       "      <td>22.0</td>\n",
       "      <td>150.06</td>\n",
       "      <td>5.0</td>\n",
       "      <td>2253.49</td>\n",
       "    </tr>\n",
       "    <tr>\n",
       "      <td>1</td>\n",
       "      <td>1000</td>\n",
       "      <td>6.0</td>\n",
       "      <td>60.0</td>\n",
       "      <td>6.0</td>\n",
       "      <td>43.0</td>\n",
       "      <td>158.90</td>\n",
       "      <td>6.0</td>\n",
       "      <td>23233.77</td>\n",
       "    </tr>\n",
       "    <tr>\n",
       "      <td>2</td>\n",
       "      <td>1000</td>\n",
       "      <td>7.0</td>\n",
       "      <td>75.0</td>\n",
       "      <td>7.0</td>\n",
       "      <td>47.0</td>\n",
       "      <td>318.80</td>\n",
       "      <td>7.0</td>\n",
       "      <td>14003.64</td>\n",
       "    </tr>\n",
       "    <tr>\n",
       "      <td>3</td>\n",
       "      <td>1000</td>\n",
       "      <td>8.0</td>\n",
       "      <td>81.0</td>\n",
       "      <td>8.0</td>\n",
       "      <td>52.0</td>\n",
       "      <td>389.87</td>\n",
       "      <td>8.0</td>\n",
       "      <td>14055.93</td>\n",
       "    </tr>\n",
       "    <tr>\n",
       "      <td>4</td>\n",
       "      <td>1000</td>\n",
       "      <td>9.0</td>\n",
       "      <td>57.0</td>\n",
       "      <td>9.0</td>\n",
       "      <td>58.0</td>\n",
       "      <td>440.14</td>\n",
       "      <td>9.0</td>\n",
       "      <td>14568.91</td>\n",
       "    </tr>\n",
       "    <tr>\n",
       "      <td>...</td>\n",
       "      <td>...</td>\n",
       "      <td>...</td>\n",
       "      <td>...</td>\n",
       "      <td>...</td>\n",
       "      <td>...</td>\n",
       "      <td>...</td>\n",
       "      <td>...</td>\n",
       "      <td>...</td>\n",
       "    </tr>\n",
       "    <tr>\n",
       "      <td>3209</td>\n",
       "      <td>1494</td>\n",
       "      <td>9.0</td>\n",
       "      <td>NaN</td>\n",
       "      <td>9.0</td>\n",
       "      <td>66.0</td>\n",
       "      <td>469.48</td>\n",
       "      <td>9.0</td>\n",
       "      <td>16962.51</td>\n",
       "    </tr>\n",
       "    <tr>\n",
       "      <td>3210</td>\n",
       "      <td>1494</td>\n",
       "      <td>10.0</td>\n",
       "      <td>NaN</td>\n",
       "      <td>10.0</td>\n",
       "      <td>52.0</td>\n",
       "      <td>330.66</td>\n",
       "      <td>10.0</td>\n",
       "      <td>17767.24</td>\n",
       "    </tr>\n",
       "    <tr>\n",
       "      <td>3211</td>\n",
       "      <td>1494</td>\n",
       "      <td>11.0</td>\n",
       "      <td>NaN</td>\n",
       "      <td>11.0</td>\n",
       "      <td>63.0</td>\n",
       "      <td>389.17</td>\n",
       "      <td>11.0</td>\n",
       "      <td>18052.45</td>\n",
       "    </tr>\n",
       "    <tr>\n",
       "      <td>3212</td>\n",
       "      <td>1494</td>\n",
       "      <td>12.0</td>\n",
       "      <td>NaN</td>\n",
       "      <td>12.0</td>\n",
       "      <td>62.0</td>\n",
       "      <td>388.29</td>\n",
       "      <td>12.0</td>\n",
       "      <td>17621.21</td>\n",
       "    </tr>\n",
       "    <tr>\n",
       "      <td>3213</td>\n",
       "      <td>1476</td>\n",
       "      <td>NaN</td>\n",
       "      <td>NaN</td>\n",
       "      <td>NaN</td>\n",
       "      <td>NaN</td>\n",
       "      <td>NaN</td>\n",
       "      <td>4.0</td>\n",
       "      <td>530.78</td>\n",
       "    </tr>\n",
       "  </tbody>\n",
       "</table>\n",
       "<p>3214 rows × 8 columns</p>\n",
       "</div>"
      ],
      "text/plain": [
       "      user_id  message_month  count_messages  call_month  count_call  \\\n",
       "0        1000            5.0            22.0         5.0        22.0   \n",
       "1        1000            6.0            60.0         6.0        43.0   \n",
       "2        1000            7.0            75.0         7.0        47.0   \n",
       "3        1000            8.0            81.0         8.0        52.0   \n",
       "4        1000            9.0            57.0         9.0        58.0   \n",
       "...       ...            ...             ...         ...         ...   \n",
       "3209     1494            9.0             NaN         9.0        66.0   \n",
       "3210     1494           10.0             NaN        10.0        52.0   \n",
       "3211     1494           11.0             NaN        11.0        63.0   \n",
       "3212     1494           12.0             NaN        12.0        62.0   \n",
       "3213     1476            NaN             NaN         NaN         NaN   \n",
       "\n",
       "      sum_duration  session_month  sum_session  \n",
       "0           150.06            5.0      2253.49  \n",
       "1           158.90            6.0     23233.77  \n",
       "2           318.80            7.0     14003.64  \n",
       "3           389.87            8.0     14055.93  \n",
       "4           440.14            9.0     14568.91  \n",
       "...            ...            ...          ...  \n",
       "3209        469.48            9.0     16962.51  \n",
       "3210        330.66           10.0     17767.24  \n",
       "3211        389.17           11.0     18052.45  \n",
       "3212        388.29           12.0     17621.21  \n",
       "3213           NaN            4.0       530.78  \n",
       "\n",
       "[3214 rows x 8 columns]"
      ]
     },
     "execution_count": 37,
     "metadata": {},
     "output_type": "execute_result"
    }
   ],
   "source": [
    "group_month = pd.merge(group_month, group_users_internet,  how='outer', left_on=['user_id','message_month'], right_on = ['user_id','session_month'])\n",
    "group_month"
   ]
  },
  {
   "cell_type": "code",
   "execution_count": 38,
   "id": "41c3256d",
   "metadata": {
    "scrolled": true
   },
   "outputs": [
    {
     "data": {
      "text/plain": [
       "user_id           0\n",
       "message_month     0\n",
       "count_messages    0\n",
       "call_month        0\n",
       "count_call        0\n",
       "sum_duration      0\n",
       "session_month     0\n",
       "sum_session       0\n",
       "dtype: int64"
      ]
     },
     "execution_count": 38,
     "metadata": {},
     "output_type": "execute_result"
    }
   ],
   "source": [
    "group_month[['count_messages','count_call','sum_session','sum_duration']] = group_month[['count_messages','count_call','sum_session','sum_duration']].fillna(0)\n",
    "group_month[['call_month','message_month']] = group_month[['call_month','message_month']].fillna(group_month['session_month'])\n",
    "group_month['session_month'] = group_month['session_month'].fillna(group_month['call_month'])\n",
    "group_month.loc[group_month['user_id']==1476] = group_month.query('user_id==1476').fillna(4)\n",
    "group_month.isna().sum()"
   ]
  },
  {
   "cell_type": "markdown",
   "id": "571b27db",
   "metadata": {},
   "source": [
    "Посчитаем для каждого пользователя сколько месяцев он проявлял какую-то активность (звонки, смс, интернет). \n",
    "\n",
    "Проверим соотвествует ли количество месяцев сколько пользователь подключен количеству месяцев его активности."
   ]
  },
  {
   "cell_type": "code",
   "execution_count": 39,
   "id": "0e8fd3b3",
   "metadata": {
    "scrolled": false
   },
   "outputs": [
    {
     "data": {
      "text/html": [
       "<div>\n",
       "<style scoped>\n",
       "    .dataframe tbody tr th:only-of-type {\n",
       "        vertical-align: middle;\n",
       "    }\n",
       "\n",
       "    .dataframe tbody tr th {\n",
       "        vertical-align: top;\n",
       "    }\n",
       "\n",
       "    .dataframe thead th {\n",
       "        text-align: right;\n",
       "    }\n",
       "</style>\n",
       "<table border=\"1\" class=\"dataframe\">\n",
       "  <thead>\n",
       "    <tr style=\"text-align: right;\">\n",
       "      <th></th>\n",
       "      <th>user_id</th>\n",
       "      <th>age</th>\n",
       "      <th>churn_date</th>\n",
       "      <th>city</th>\n",
       "      <th>first_name</th>\n",
       "      <th>last_name</th>\n",
       "      <th>reg_date</th>\n",
       "      <th>tariff</th>\n",
       "      <th>session_month</th>\n",
       "      <th>month_date</th>\n",
       "    </tr>\n",
       "  </thead>\n",
       "  <tbody>\n",
       "    <tr>\n",
       "      <td>19</td>\n",
       "      <td>1019</td>\n",
       "      <td>63</td>\n",
       "      <td>2018-10-05</td>\n",
       "      <td>Томск</td>\n",
       "      <td>Игнатий</td>\n",
       "      <td>Круглов</td>\n",
       "      <td>2018-05-16</td>\n",
       "      <td>ultra</td>\n",
       "      <td>6.0</td>\n",
       "      <td>5</td>\n",
       "    </tr>\n",
       "    <tr>\n",
       "      <td>34</td>\n",
       "      <td>1034</td>\n",
       "      <td>66</td>\n",
       "      <td>2018-11-21</td>\n",
       "      <td>Вологда</td>\n",
       "      <td>Святослав</td>\n",
       "      <td>Бондарев</td>\n",
       "      <td>2018-08-26</td>\n",
       "      <td>smart</td>\n",
       "      <td>4.0</td>\n",
       "      <td>8</td>\n",
       "    </tr>\n",
       "    <tr>\n",
       "      <td>50</td>\n",
       "      <td>1050</td>\n",
       "      <td>44</td>\n",
       "      <td>2018-10-03</td>\n",
       "      <td>Тюмень</td>\n",
       "      <td>Рузана</td>\n",
       "      <td>Аничкина</td>\n",
       "      <td>2018-06-16</td>\n",
       "      <td>ultra</td>\n",
       "      <td>5.0</td>\n",
       "      <td>6</td>\n",
       "    </tr>\n",
       "    <tr>\n",
       "      <td>51</td>\n",
       "      <td>1051</td>\n",
       "      <td>37</td>\n",
       "      <td>2018-10-14</td>\n",
       "      <td>Москва</td>\n",
       "      <td>Кристина</td>\n",
       "      <td>Сомова</td>\n",
       "      <td>2018-05-28</td>\n",
       "      <td>smart</td>\n",
       "      <td>6.0</td>\n",
       "      <td>5</td>\n",
       "    </tr>\n",
       "    <tr>\n",
       "      <td>56</td>\n",
       "      <td>1056</td>\n",
       "      <td>73</td>\n",
       "      <td>2018-10-14</td>\n",
       "      <td>Иркутск</td>\n",
       "      <td>Радислав</td>\n",
       "      <td>Артемьев</td>\n",
       "      <td>2018-04-13</td>\n",
       "      <td>smart</td>\n",
       "      <td>7.0</td>\n",
       "      <td>4</td>\n",
       "    </tr>\n",
       "    <tr>\n",
       "      <td>71</td>\n",
       "      <td>1071</td>\n",
       "      <td>20</td>\n",
       "      <td>2018-08-31</td>\n",
       "      <td>Омск</td>\n",
       "      <td>Гектор</td>\n",
       "      <td>Чумаков</td>\n",
       "      <td>2018-01-09</td>\n",
       "      <td>smart</td>\n",
       "      <td>8.0</td>\n",
       "      <td>1</td>\n",
       "    </tr>\n",
       "    <tr>\n",
       "      <td>128</td>\n",
       "      <td>1128</td>\n",
       "      <td>51</td>\n",
       "      <td>2018-12-23</td>\n",
       "      <td>Волжский</td>\n",
       "      <td>Ксения</td>\n",
       "      <td>Агаева</td>\n",
       "      <td>2018-12-15</td>\n",
       "      <td>ultra</td>\n",
       "      <td>NaN</td>\n",
       "      <td>12</td>\n",
       "    </tr>\n",
       "    <tr>\n",
       "      <td>161</td>\n",
       "      <td>1161</td>\n",
       "      <td>65</td>\n",
       "      <td>2018-11-07</td>\n",
       "      <td>Набережные Челны</td>\n",
       "      <td>Татьяна</td>\n",
       "      <td>Голованова</td>\n",
       "      <td>2018-07-03</td>\n",
       "      <td>smart</td>\n",
       "      <td>5.0</td>\n",
       "      <td>7</td>\n",
       "    </tr>\n",
       "    <tr>\n",
       "      <td>191</td>\n",
       "      <td>1191</td>\n",
       "      <td>64</td>\n",
       "      <td>2018-10-03</td>\n",
       "      <td>Набережные Челны</td>\n",
       "      <td>Александр</td>\n",
       "      <td>Акиндинов</td>\n",
       "      <td>2018-06-30</td>\n",
       "      <td>smart</td>\n",
       "      <td>5.0</td>\n",
       "      <td>6</td>\n",
       "    </tr>\n",
       "    <tr>\n",
       "      <td>232</td>\n",
       "      <td>1232</td>\n",
       "      <td>60</td>\n",
       "      <td>2018-11-30</td>\n",
       "      <td>Томск</td>\n",
       "      <td>Виктория</td>\n",
       "      <td>Ларина</td>\n",
       "      <td>2018-10-07</td>\n",
       "      <td>smart</td>\n",
       "      <td>2.0</td>\n",
       "      <td>10</td>\n",
       "    </tr>\n",
       "    <tr>\n",
       "      <td>254</td>\n",
       "      <td>1254</td>\n",
       "      <td>75</td>\n",
       "      <td>2018-08-17</td>\n",
       "      <td>Москва</td>\n",
       "      <td>Александра</td>\n",
       "      <td>Сухарева</td>\n",
       "      <td>2018-01-04</td>\n",
       "      <td>ultra</td>\n",
       "      <td>8.0</td>\n",
       "      <td>1</td>\n",
       "    </tr>\n",
       "    <tr>\n",
       "      <td>255</td>\n",
       "      <td>1255</td>\n",
       "      <td>40</td>\n",
       "      <td>2018-09-02</td>\n",
       "      <td>Саранск</td>\n",
       "      <td>Серафима</td>\n",
       "      <td>Пономарева</td>\n",
       "      <td>2018-02-19</td>\n",
       "      <td>ultra</td>\n",
       "      <td>8.0</td>\n",
       "      <td>2</td>\n",
       "    </tr>\n",
       "    <tr>\n",
       "      <td>265</td>\n",
       "      <td>1265</td>\n",
       "      <td>24</td>\n",
       "      <td>2018-10-04</td>\n",
       "      <td>Омск</td>\n",
       "      <td>Радим</td>\n",
       "      <td>Адамов</td>\n",
       "      <td>2018-06-24</td>\n",
       "      <td>ultra</td>\n",
       "      <td>5.0</td>\n",
       "      <td>6</td>\n",
       "    </tr>\n",
       "    <tr>\n",
       "      <td>271</td>\n",
       "      <td>1271</td>\n",
       "      <td>69</td>\n",
       "      <td>2018-11-13</td>\n",
       "      <td>Челябинск</td>\n",
       "      <td>Аурелия</td>\n",
       "      <td>Чижова</td>\n",
       "      <td>2018-07-14</td>\n",
       "      <td>ultra</td>\n",
       "      <td>5.0</td>\n",
       "      <td>7</td>\n",
       "    </tr>\n",
       "    <tr>\n",
       "      <td>293</td>\n",
       "      <td>1293</td>\n",
       "      <td>39</td>\n",
       "      <td>2018-11-22</td>\n",
       "      <td>Санкт-Петербург</td>\n",
       "      <td>Эдита</td>\n",
       "      <td>Дубинина</td>\n",
       "      <td>2018-09-05</td>\n",
       "      <td>smart</td>\n",
       "      <td>3.0</td>\n",
       "      <td>9</td>\n",
       "    </tr>\n",
       "    <tr>\n",
       "      <td>343</td>\n",
       "      <td>1343</td>\n",
       "      <td>30</td>\n",
       "      <td>2018-10-28</td>\n",
       "      <td>Кострома</td>\n",
       "      <td>Анита</td>\n",
       "      <td>Верещагина</td>\n",
       "      <td>2018-08-15</td>\n",
       "      <td>ultra</td>\n",
       "      <td>3.0</td>\n",
       "      <td>8</td>\n",
       "    </tr>\n",
       "    <tr>\n",
       "      <td>353</td>\n",
       "      <td>1353</td>\n",
       "      <td>57</td>\n",
       "      <td>2018-11-26</td>\n",
       "      <td>Санкт-Петербург</td>\n",
       "      <td>Доминика</td>\n",
       "      <td>Анищенко</td>\n",
       "      <td>2018-04-22</td>\n",
       "      <td>smart</td>\n",
       "      <td>8.0</td>\n",
       "      <td>4</td>\n",
       "    </tr>\n",
       "    <tr>\n",
       "      <td>355</td>\n",
       "      <td>1355</td>\n",
       "      <td>33</td>\n",
       "      <td>2018-11-27</td>\n",
       "      <td>Киров</td>\n",
       "      <td>Сара</td>\n",
       "      <td>Абрикосова</td>\n",
       "      <td>2018-07-21</td>\n",
       "      <td>smart</td>\n",
       "      <td>5.0</td>\n",
       "      <td>7</td>\n",
       "    </tr>\n",
       "    <tr>\n",
       "      <td>367</td>\n",
       "      <td>1367</td>\n",
       "      <td>43</td>\n",
       "      <td>2018-11-16</td>\n",
       "      <td>Москва</td>\n",
       "      <td>Всеволод</td>\n",
       "      <td>Антоненко</td>\n",
       "      <td>2018-09-14</td>\n",
       "      <td>ultra</td>\n",
       "      <td>3.0</td>\n",
       "      <td>9</td>\n",
       "    </tr>\n",
       "    <tr>\n",
       "      <td>370</td>\n",
       "      <td>1370</td>\n",
       "      <td>48</td>\n",
       "      <td>2018-10-27</td>\n",
       "      <td>Новороссийск</td>\n",
       "      <td>Гектор</td>\n",
       "      <td>Сысоев</td>\n",
       "      <td>2018-02-06</td>\n",
       "      <td>smart</td>\n",
       "      <td>9.0</td>\n",
       "      <td>2</td>\n",
       "    </tr>\n",
       "    <tr>\n",
       "      <td>371</td>\n",
       "      <td>1371</td>\n",
       "      <td>50</td>\n",
       "      <td>2018-12-30</td>\n",
       "      <td>Омск</td>\n",
       "      <td>Ириней</td>\n",
       "      <td>Трофимов</td>\n",
       "      <td>2018-12-25</td>\n",
       "      <td>smart</td>\n",
       "      <td>NaN</td>\n",
       "      <td>12</td>\n",
       "    </tr>\n",
       "    <tr>\n",
       "      <td>392</td>\n",
       "      <td>1392</td>\n",
       "      <td>54</td>\n",
       "      <td>2018-09-27</td>\n",
       "      <td>Челябинск</td>\n",
       "      <td>Алла</td>\n",
       "      <td>Беликова</td>\n",
       "      <td>2018-02-27</td>\n",
       "      <td>ultra</td>\n",
       "      <td>8.0</td>\n",
       "      <td>2</td>\n",
       "    </tr>\n",
       "    <tr>\n",
       "      <td>480</td>\n",
       "      <td>1480</td>\n",
       "      <td>29</td>\n",
       "      <td>2018-09-26</td>\n",
       "      <td>Новокузнецк</td>\n",
       "      <td>Гелена</td>\n",
       "      <td>Емельянова</td>\n",
       "      <td>2018-02-14</td>\n",
       "      <td>smart</td>\n",
       "      <td>8.0</td>\n",
       "      <td>2</td>\n",
       "    </tr>\n",
       "    <tr>\n",
       "      <td>498</td>\n",
       "      <td>1498</td>\n",
       "      <td>68</td>\n",
       "      <td>2018-10-25</td>\n",
       "      <td>Владикавказ</td>\n",
       "      <td>Всеволод</td>\n",
       "      <td>Акимчин</td>\n",
       "      <td>2018-07-19</td>\n",
       "      <td>smart</td>\n",
       "      <td>4.0</td>\n",
       "      <td>7</td>\n",
       "    </tr>\n",
       "  </tbody>\n",
       "</table>\n",
       "</div>"
      ],
      "text/plain": [
       "     user_id  age  churn_date              city  first_name   last_name  \\\n",
       "19      1019   63  2018-10-05             Томск     Игнатий     Круглов   \n",
       "34      1034   66  2018-11-21           Вологда   Святослав    Бондарев   \n",
       "50      1050   44  2018-10-03            Тюмень      Рузана    Аничкина   \n",
       "51      1051   37  2018-10-14            Москва    Кристина      Сомова   \n",
       "56      1056   73  2018-10-14           Иркутск    Радислав    Артемьев   \n",
       "71      1071   20  2018-08-31              Омск      Гектор     Чумаков   \n",
       "128     1128   51  2018-12-23          Волжский      Ксения      Агаева   \n",
       "161     1161   65  2018-11-07  Набережные Челны     Татьяна  Голованова   \n",
       "191     1191   64  2018-10-03  Набережные Челны   Александр   Акиндинов   \n",
       "232     1232   60  2018-11-30             Томск    Виктория      Ларина   \n",
       "254     1254   75  2018-08-17            Москва  Александра    Сухарева   \n",
       "255     1255   40  2018-09-02           Саранск    Серафима  Пономарева   \n",
       "265     1265   24  2018-10-04              Омск       Радим      Адамов   \n",
       "271     1271   69  2018-11-13         Челябинск     Аурелия      Чижова   \n",
       "293     1293   39  2018-11-22   Санкт-Петербург       Эдита    Дубинина   \n",
       "343     1343   30  2018-10-28          Кострома       Анита  Верещагина   \n",
       "353     1353   57  2018-11-26   Санкт-Петербург    Доминика    Анищенко   \n",
       "355     1355   33  2018-11-27             Киров        Сара  Абрикосова   \n",
       "367     1367   43  2018-11-16            Москва    Всеволод   Антоненко   \n",
       "370     1370   48  2018-10-27      Новороссийск      Гектор      Сысоев   \n",
       "371     1371   50  2018-12-30              Омск      Ириней    Трофимов   \n",
       "392     1392   54  2018-09-27         Челябинск        Алла    Беликова   \n",
       "480     1480   29  2018-09-26       Новокузнецк      Гелена  Емельянова   \n",
       "498     1498   68  2018-10-25       Владикавказ    Всеволод     Акимчин   \n",
       "\n",
       "      reg_date tariff  session_month  month_date  \n",
       "19  2018-05-16  ultra            6.0           5  \n",
       "34  2018-08-26  smart            4.0           8  \n",
       "50  2018-06-16  ultra            5.0           6  \n",
       "51  2018-05-28  smart            6.0           5  \n",
       "56  2018-04-13  smart            7.0           4  \n",
       "71  2018-01-09  smart            8.0           1  \n",
       "128 2018-12-15  ultra            NaN          12  \n",
       "161 2018-07-03  smart            5.0           7  \n",
       "191 2018-06-30  smart            5.0           6  \n",
       "232 2018-10-07  smart            2.0          10  \n",
       "254 2018-01-04  ultra            8.0           1  \n",
       "255 2018-02-19  ultra            8.0           2  \n",
       "265 2018-06-24  ultra            5.0           6  \n",
       "271 2018-07-14  ultra            5.0           7  \n",
       "293 2018-09-05  smart            3.0           9  \n",
       "343 2018-08-15  ultra            3.0           8  \n",
       "353 2018-04-22  smart            8.0           4  \n",
       "355 2018-07-21  smart            5.0           7  \n",
       "367 2018-09-14  ultra            3.0           9  \n",
       "370 2018-02-06  smart            9.0           2  \n",
       "371 2018-12-25  smart            NaN          12  \n",
       "392 2018-02-27  ultra            8.0           2  \n",
       "480 2018-02-14  smart            8.0           2  \n",
       "498 2018-07-19  smart            4.0           7  "
      ]
     },
     "execution_count": 39,
     "metadata": {},
     "output_type": "execute_result"
    }
   ],
   "source": [
    "users_count_month = group_month.groupby('user_id')['session_month'].count().reset_index()\n",
    "df_users = df_users.merge(users_count_month,how='outer')\n",
    "df_users['month_date'] = df_users['reg_date'].dt.month\n",
    "df_users_churn = df_users.query('session_month + month_date != 13')\n",
    "df_users_churn"
   ]
  },
  {
   "cell_type": "markdown",
   "id": "a14db0b4",
   "metadata": {},
   "source": [
    "В данных есть пользователи, которые не пользовались тарифами и были подключены только в декабре. Исключим их из дальнейшего анализа"
   ]
  },
  {
   "cell_type": "code",
   "execution_count": 40,
   "id": "a48e8a01",
   "metadata": {
    "scrolled": false
   },
   "outputs": [
    {
     "data": {
      "text/html": [
       "<div>\n",
       "<style scoped>\n",
       "    .dataframe tbody tr th:only-of-type {\n",
       "        vertical-align: middle;\n",
       "    }\n",
       "\n",
       "    .dataframe tbody tr th {\n",
       "        vertical-align: top;\n",
       "    }\n",
       "\n",
       "    .dataframe thead th {\n",
       "        text-align: right;\n",
       "    }\n",
       "</style>\n",
       "<table border=\"1\" class=\"dataframe\">\n",
       "  <thead>\n",
       "    <tr style=\"text-align: right;\">\n",
       "      <th></th>\n",
       "      <th>user_id</th>\n",
       "      <th>age</th>\n",
       "      <th>churn_date</th>\n",
       "      <th>city</th>\n",
       "      <th>first_name</th>\n",
       "      <th>last_name</th>\n",
       "      <th>reg_date</th>\n",
       "      <th>tariff</th>\n",
       "      <th>session_month</th>\n",
       "      <th>month_date</th>\n",
       "    </tr>\n",
       "  </thead>\n",
       "  <tbody>\n",
       "    <tr>\n",
       "      <td>128</td>\n",
       "      <td>1128</td>\n",
       "      <td>51</td>\n",
       "      <td>2018-12-23</td>\n",
       "      <td>Волжский</td>\n",
       "      <td>Ксения</td>\n",
       "      <td>Агаева</td>\n",
       "      <td>2018-12-15</td>\n",
       "      <td>ultra</td>\n",
       "      <td>NaN</td>\n",
       "      <td>12</td>\n",
       "    </tr>\n",
       "    <tr>\n",
       "      <td>371</td>\n",
       "      <td>1371</td>\n",
       "      <td>50</td>\n",
       "      <td>2018-12-30</td>\n",
       "      <td>Омск</td>\n",
       "      <td>Ириней</td>\n",
       "      <td>Трофимов</td>\n",
       "      <td>2018-12-25</td>\n",
       "      <td>smart</td>\n",
       "      <td>NaN</td>\n",
       "      <td>12</td>\n",
       "    </tr>\n",
       "  </tbody>\n",
       "</table>\n",
       "</div>"
      ],
      "text/plain": [
       "     user_id  age  churn_date      city first_name last_name   reg_date  \\\n",
       "128     1128   51  2018-12-23  Волжский     Ксения    Агаева 2018-12-15   \n",
       "371     1371   50  2018-12-30      Омск     Ириней  Трофимов 2018-12-25   \n",
       "\n",
       "    tariff  session_month  month_date  \n",
       "128  ultra            NaN          12  \n",
       "371  smart            NaN          12  "
      ]
     },
     "execution_count": 40,
     "metadata": {},
     "output_type": "execute_result"
    }
   ],
   "source": [
    "df_users[df_users['session_month'].isna()]"
   ]
  },
  {
   "cell_type": "code",
   "execution_count": 41,
   "id": "767fa447",
   "metadata": {},
   "outputs": [
    {
     "data": {
      "text/html": [
       "<div>\n",
       "<style scoped>\n",
       "    .dataframe tbody tr th:only-of-type {\n",
       "        vertical-align: middle;\n",
       "    }\n",
       "\n",
       "    .dataframe tbody tr th {\n",
       "        vertical-align: top;\n",
       "    }\n",
       "\n",
       "    .dataframe thead th {\n",
       "        text-align: right;\n",
       "    }\n",
       "</style>\n",
       "<table border=\"1\" class=\"dataframe\">\n",
       "  <thead>\n",
       "    <tr style=\"text-align: right;\">\n",
       "      <th></th>\n",
       "      <th>user_id</th>\n",
       "      <th>age</th>\n",
       "      <th>churn_date</th>\n",
       "      <th>city</th>\n",
       "      <th>first_name</th>\n",
       "      <th>last_name</th>\n",
       "      <th>reg_date</th>\n",
       "      <th>tariff</th>\n",
       "      <th>session_month</th>\n",
       "      <th>month_date</th>\n",
       "    </tr>\n",
       "  </thead>\n",
       "  <tbody>\n",
       "  </tbody>\n",
       "</table>\n",
       "</div>"
      ],
      "text/plain": [
       "Empty DataFrame\n",
       "Columns: [user_id, age, churn_date, city, first_name, last_name, reg_date, tariff, session_month, month_date]\n",
       "Index: []"
      ]
     },
     "execution_count": 41,
     "metadata": {},
     "output_type": "execute_result"
    }
   ],
   "source": [
    "df_users = df_users.dropna(subset=[\"session_month\"])\n",
    "df_users[df_users['session_month'].isna()]"
   ]
  },
  {
   "cell_type": "code",
   "execution_count": 42,
   "id": "93ae4aeb",
   "metadata": {},
   "outputs": [
    {
     "data": {
      "text/html": [
       "<div>\n",
       "<style scoped>\n",
       "    .dataframe tbody tr th:only-of-type {\n",
       "        vertical-align: middle;\n",
       "    }\n",
       "\n",
       "    .dataframe tbody tr th {\n",
       "        vertical-align: top;\n",
       "    }\n",
       "\n",
       "    .dataframe thead th {\n",
       "        text-align: right;\n",
       "    }\n",
       "</style>\n",
       "<table border=\"1\" class=\"dataframe\">\n",
       "  <thead>\n",
       "    <tr style=\"text-align: right;\">\n",
       "      <th></th>\n",
       "      <th>user_id</th>\n",
       "      <th>age</th>\n",
       "      <th>churn_date</th>\n",
       "      <th>city</th>\n",
       "      <th>first_name</th>\n",
       "      <th>last_name</th>\n",
       "      <th>reg_date</th>\n",
       "      <th>tariff</th>\n",
       "      <th>session_month</th>\n",
       "      <th>month_date</th>\n",
       "    </tr>\n",
       "  </thead>\n",
       "  <tbody>\n",
       "  </tbody>\n",
       "</table>\n",
       "</div>"
      ],
      "text/plain": [
       "Empty DataFrame\n",
       "Columns: [user_id, age, churn_date, city, first_name, last_name, reg_date, tariff, session_month, month_date]\n",
       "Index: []"
      ]
     },
     "execution_count": 42,
     "metadata": {},
     "output_type": "execute_result"
    }
   ],
   "source": [
    "df_users[df_users['session_month'].isna()]"
   ]
  },
  {
   "cell_type": "markdown",
   "id": "c7ef89d6",
   "metadata": {},
   "source": [
    "Все пользователи, которые не ушли в 2018 году, проявляли активность все месяцы с момента подключения."
   ]
  },
  {
   "cell_type": "markdown",
   "id": "2566339d",
   "metadata": {},
   "source": [
    "Для пользователей, которые отключились, сделаем проверку все ли месяцы пока они были подключены, они проявляли активность."
   ]
  },
  {
   "cell_type": "code",
   "execution_count": 43,
   "id": "e4eb26f1",
   "metadata": {
    "scrolled": false
   },
   "outputs": [
    {
     "data": {
      "text/html": [
       "<div>\n",
       "<style scoped>\n",
       "    .dataframe tbody tr th:only-of-type {\n",
       "        vertical-align: middle;\n",
       "    }\n",
       "\n",
       "    .dataframe tbody tr th {\n",
       "        vertical-align: top;\n",
       "    }\n",
       "\n",
       "    .dataframe thead th {\n",
       "        text-align: right;\n",
       "    }\n",
       "</style>\n",
       "<table border=\"1\" class=\"dataframe\">\n",
       "  <thead>\n",
       "    <tr style=\"text-align: right;\">\n",
       "      <th></th>\n",
       "      <th>user_id</th>\n",
       "      <th>age</th>\n",
       "      <th>churn_date</th>\n",
       "      <th>city</th>\n",
       "      <th>first_name</th>\n",
       "      <th>last_name</th>\n",
       "      <th>reg_date</th>\n",
       "      <th>tariff</th>\n",
       "      <th>session_month</th>\n",
       "      <th>month_date</th>\n",
       "      <th>churn_month</th>\n",
       "    </tr>\n",
       "  </thead>\n",
       "  <tbody>\n",
       "    <tr>\n",
       "      <td>19</td>\n",
       "      <td>1019</td>\n",
       "      <td>63</td>\n",
       "      <td>2018-10-05</td>\n",
       "      <td>Томск</td>\n",
       "      <td>Игнатий</td>\n",
       "      <td>Круглов</td>\n",
       "      <td>2018-05-16</td>\n",
       "      <td>ultra</td>\n",
       "      <td>6.0</td>\n",
       "      <td>5</td>\n",
       "      <td>10</td>\n",
       "    </tr>\n",
       "    <tr>\n",
       "      <td>34</td>\n",
       "      <td>1034</td>\n",
       "      <td>66</td>\n",
       "      <td>2018-11-21</td>\n",
       "      <td>Вологда</td>\n",
       "      <td>Святослав</td>\n",
       "      <td>Бондарев</td>\n",
       "      <td>2018-08-26</td>\n",
       "      <td>smart</td>\n",
       "      <td>4.0</td>\n",
       "      <td>8</td>\n",
       "      <td>11</td>\n",
       "    </tr>\n",
       "    <tr>\n",
       "      <td>50</td>\n",
       "      <td>1050</td>\n",
       "      <td>44</td>\n",
       "      <td>2018-10-03</td>\n",
       "      <td>Тюмень</td>\n",
       "      <td>Рузана</td>\n",
       "      <td>Аничкина</td>\n",
       "      <td>2018-06-16</td>\n",
       "      <td>ultra</td>\n",
       "      <td>5.0</td>\n",
       "      <td>6</td>\n",
       "      <td>10</td>\n",
       "    </tr>\n",
       "    <tr>\n",
       "      <td>51</td>\n",
       "      <td>1051</td>\n",
       "      <td>37</td>\n",
       "      <td>2018-10-14</td>\n",
       "      <td>Москва</td>\n",
       "      <td>Кристина</td>\n",
       "      <td>Сомова</td>\n",
       "      <td>2018-05-28</td>\n",
       "      <td>smart</td>\n",
       "      <td>6.0</td>\n",
       "      <td>5</td>\n",
       "      <td>10</td>\n",
       "    </tr>\n",
       "    <tr>\n",
       "      <td>56</td>\n",
       "      <td>1056</td>\n",
       "      <td>73</td>\n",
       "      <td>2018-10-14</td>\n",
       "      <td>Иркутск</td>\n",
       "      <td>Радислав</td>\n",
       "      <td>Артемьев</td>\n",
       "      <td>2018-04-13</td>\n",
       "      <td>smart</td>\n",
       "      <td>7.0</td>\n",
       "      <td>4</td>\n",
       "      <td>10</td>\n",
       "    </tr>\n",
       "    <tr>\n",
       "      <td>71</td>\n",
       "      <td>1071</td>\n",
       "      <td>20</td>\n",
       "      <td>2018-08-31</td>\n",
       "      <td>Омск</td>\n",
       "      <td>Гектор</td>\n",
       "      <td>Чумаков</td>\n",
       "      <td>2018-01-09</td>\n",
       "      <td>smart</td>\n",
       "      <td>8.0</td>\n",
       "      <td>1</td>\n",
       "      <td>8</td>\n",
       "    </tr>\n",
       "    <tr>\n",
       "      <td>128</td>\n",
       "      <td>1128</td>\n",
       "      <td>51</td>\n",
       "      <td>2018-12-23</td>\n",
       "      <td>Волжский</td>\n",
       "      <td>Ксения</td>\n",
       "      <td>Агаева</td>\n",
       "      <td>2018-12-15</td>\n",
       "      <td>ultra</td>\n",
       "      <td>NaN</td>\n",
       "      <td>12</td>\n",
       "      <td>12</td>\n",
       "    </tr>\n",
       "    <tr>\n",
       "      <td>161</td>\n",
       "      <td>1161</td>\n",
       "      <td>65</td>\n",
       "      <td>2018-11-07</td>\n",
       "      <td>Набережные Челны</td>\n",
       "      <td>Татьяна</td>\n",
       "      <td>Голованова</td>\n",
       "      <td>2018-07-03</td>\n",
       "      <td>smart</td>\n",
       "      <td>5.0</td>\n",
       "      <td>7</td>\n",
       "      <td>11</td>\n",
       "    </tr>\n",
       "    <tr>\n",
       "      <td>191</td>\n",
       "      <td>1191</td>\n",
       "      <td>64</td>\n",
       "      <td>2018-10-03</td>\n",
       "      <td>Набережные Челны</td>\n",
       "      <td>Александр</td>\n",
       "      <td>Акиндинов</td>\n",
       "      <td>2018-06-30</td>\n",
       "      <td>smart</td>\n",
       "      <td>5.0</td>\n",
       "      <td>6</td>\n",
       "      <td>10</td>\n",
       "    </tr>\n",
       "    <tr>\n",
       "      <td>232</td>\n",
       "      <td>1232</td>\n",
       "      <td>60</td>\n",
       "      <td>2018-11-30</td>\n",
       "      <td>Томск</td>\n",
       "      <td>Виктория</td>\n",
       "      <td>Ларина</td>\n",
       "      <td>2018-10-07</td>\n",
       "      <td>smart</td>\n",
       "      <td>2.0</td>\n",
       "      <td>10</td>\n",
       "      <td>11</td>\n",
       "    </tr>\n",
       "    <tr>\n",
       "      <td>254</td>\n",
       "      <td>1254</td>\n",
       "      <td>75</td>\n",
       "      <td>2018-08-17</td>\n",
       "      <td>Москва</td>\n",
       "      <td>Александра</td>\n",
       "      <td>Сухарева</td>\n",
       "      <td>2018-01-04</td>\n",
       "      <td>ultra</td>\n",
       "      <td>8.0</td>\n",
       "      <td>1</td>\n",
       "      <td>8</td>\n",
       "    </tr>\n",
       "    <tr>\n",
       "      <td>255</td>\n",
       "      <td>1255</td>\n",
       "      <td>40</td>\n",
       "      <td>2018-09-02</td>\n",
       "      <td>Саранск</td>\n",
       "      <td>Серафима</td>\n",
       "      <td>Пономарева</td>\n",
       "      <td>2018-02-19</td>\n",
       "      <td>ultra</td>\n",
       "      <td>8.0</td>\n",
       "      <td>2</td>\n",
       "      <td>9</td>\n",
       "    </tr>\n",
       "    <tr>\n",
       "      <td>265</td>\n",
       "      <td>1265</td>\n",
       "      <td>24</td>\n",
       "      <td>2018-10-04</td>\n",
       "      <td>Омск</td>\n",
       "      <td>Радим</td>\n",
       "      <td>Адамов</td>\n",
       "      <td>2018-06-24</td>\n",
       "      <td>ultra</td>\n",
       "      <td>5.0</td>\n",
       "      <td>6</td>\n",
       "      <td>10</td>\n",
       "    </tr>\n",
       "    <tr>\n",
       "      <td>271</td>\n",
       "      <td>1271</td>\n",
       "      <td>69</td>\n",
       "      <td>2018-11-13</td>\n",
       "      <td>Челябинск</td>\n",
       "      <td>Аурелия</td>\n",
       "      <td>Чижова</td>\n",
       "      <td>2018-07-14</td>\n",
       "      <td>ultra</td>\n",
       "      <td>5.0</td>\n",
       "      <td>7</td>\n",
       "      <td>11</td>\n",
       "    </tr>\n",
       "    <tr>\n",
       "      <td>293</td>\n",
       "      <td>1293</td>\n",
       "      <td>39</td>\n",
       "      <td>2018-11-22</td>\n",
       "      <td>Санкт-Петербург</td>\n",
       "      <td>Эдита</td>\n",
       "      <td>Дубинина</td>\n",
       "      <td>2018-09-05</td>\n",
       "      <td>smart</td>\n",
       "      <td>3.0</td>\n",
       "      <td>9</td>\n",
       "      <td>11</td>\n",
       "    </tr>\n",
       "    <tr>\n",
       "      <td>343</td>\n",
       "      <td>1343</td>\n",
       "      <td>30</td>\n",
       "      <td>2018-10-28</td>\n",
       "      <td>Кострома</td>\n",
       "      <td>Анита</td>\n",
       "      <td>Верещагина</td>\n",
       "      <td>2018-08-15</td>\n",
       "      <td>ultra</td>\n",
       "      <td>3.0</td>\n",
       "      <td>8</td>\n",
       "      <td>10</td>\n",
       "    </tr>\n",
       "    <tr>\n",
       "      <td>353</td>\n",
       "      <td>1353</td>\n",
       "      <td>57</td>\n",
       "      <td>2018-11-26</td>\n",
       "      <td>Санкт-Петербург</td>\n",
       "      <td>Доминика</td>\n",
       "      <td>Анищенко</td>\n",
       "      <td>2018-04-22</td>\n",
       "      <td>smart</td>\n",
       "      <td>8.0</td>\n",
       "      <td>4</td>\n",
       "      <td>11</td>\n",
       "    </tr>\n",
       "    <tr>\n",
       "      <td>355</td>\n",
       "      <td>1355</td>\n",
       "      <td>33</td>\n",
       "      <td>2018-11-27</td>\n",
       "      <td>Киров</td>\n",
       "      <td>Сара</td>\n",
       "      <td>Абрикосова</td>\n",
       "      <td>2018-07-21</td>\n",
       "      <td>smart</td>\n",
       "      <td>5.0</td>\n",
       "      <td>7</td>\n",
       "      <td>11</td>\n",
       "    </tr>\n",
       "    <tr>\n",
       "      <td>367</td>\n",
       "      <td>1367</td>\n",
       "      <td>43</td>\n",
       "      <td>2018-11-16</td>\n",
       "      <td>Москва</td>\n",
       "      <td>Всеволод</td>\n",
       "      <td>Антоненко</td>\n",
       "      <td>2018-09-14</td>\n",
       "      <td>ultra</td>\n",
       "      <td>3.0</td>\n",
       "      <td>9</td>\n",
       "      <td>11</td>\n",
       "    </tr>\n",
       "    <tr>\n",
       "      <td>370</td>\n",
       "      <td>1370</td>\n",
       "      <td>48</td>\n",
       "      <td>2018-10-27</td>\n",
       "      <td>Новороссийск</td>\n",
       "      <td>Гектор</td>\n",
       "      <td>Сысоев</td>\n",
       "      <td>2018-02-06</td>\n",
       "      <td>smart</td>\n",
       "      <td>9.0</td>\n",
       "      <td>2</td>\n",
       "      <td>10</td>\n",
       "    </tr>\n",
       "    <tr>\n",
       "      <td>371</td>\n",
       "      <td>1371</td>\n",
       "      <td>50</td>\n",
       "      <td>2018-12-30</td>\n",
       "      <td>Омск</td>\n",
       "      <td>Ириней</td>\n",
       "      <td>Трофимов</td>\n",
       "      <td>2018-12-25</td>\n",
       "      <td>smart</td>\n",
       "      <td>NaN</td>\n",
       "      <td>12</td>\n",
       "      <td>12</td>\n",
       "    </tr>\n",
       "    <tr>\n",
       "      <td>392</td>\n",
       "      <td>1392</td>\n",
       "      <td>54</td>\n",
       "      <td>2018-09-27</td>\n",
       "      <td>Челябинск</td>\n",
       "      <td>Алла</td>\n",
       "      <td>Беликова</td>\n",
       "      <td>2018-02-27</td>\n",
       "      <td>ultra</td>\n",
       "      <td>8.0</td>\n",
       "      <td>2</td>\n",
       "      <td>9</td>\n",
       "    </tr>\n",
       "    <tr>\n",
       "      <td>480</td>\n",
       "      <td>1480</td>\n",
       "      <td>29</td>\n",
       "      <td>2018-09-26</td>\n",
       "      <td>Новокузнецк</td>\n",
       "      <td>Гелена</td>\n",
       "      <td>Емельянова</td>\n",
       "      <td>2018-02-14</td>\n",
       "      <td>smart</td>\n",
       "      <td>8.0</td>\n",
       "      <td>2</td>\n",
       "      <td>9</td>\n",
       "    </tr>\n",
       "    <tr>\n",
       "      <td>498</td>\n",
       "      <td>1498</td>\n",
       "      <td>68</td>\n",
       "      <td>2018-10-25</td>\n",
       "      <td>Владикавказ</td>\n",
       "      <td>Всеволод</td>\n",
       "      <td>Акимчин</td>\n",
       "      <td>2018-07-19</td>\n",
       "      <td>smart</td>\n",
       "      <td>4.0</td>\n",
       "      <td>7</td>\n",
       "      <td>10</td>\n",
       "    </tr>\n",
       "  </tbody>\n",
       "</table>\n",
       "</div>"
      ],
      "text/plain": [
       "     user_id  age churn_date              city  first_name   last_name  \\\n",
       "19      1019   63 2018-10-05             Томск     Игнатий     Круглов   \n",
       "34      1034   66 2018-11-21           Вологда   Святослав    Бондарев   \n",
       "50      1050   44 2018-10-03            Тюмень      Рузана    Аничкина   \n",
       "51      1051   37 2018-10-14            Москва    Кристина      Сомова   \n",
       "56      1056   73 2018-10-14           Иркутск    Радислав    Артемьев   \n",
       "71      1071   20 2018-08-31              Омск      Гектор     Чумаков   \n",
       "128     1128   51 2018-12-23          Волжский      Ксения      Агаева   \n",
       "161     1161   65 2018-11-07  Набережные Челны     Татьяна  Голованова   \n",
       "191     1191   64 2018-10-03  Набережные Челны   Александр   Акиндинов   \n",
       "232     1232   60 2018-11-30             Томск    Виктория      Ларина   \n",
       "254     1254   75 2018-08-17            Москва  Александра    Сухарева   \n",
       "255     1255   40 2018-09-02           Саранск    Серафима  Пономарева   \n",
       "265     1265   24 2018-10-04              Омск       Радим      Адамов   \n",
       "271     1271   69 2018-11-13         Челябинск     Аурелия      Чижова   \n",
       "293     1293   39 2018-11-22   Санкт-Петербург       Эдита    Дубинина   \n",
       "343     1343   30 2018-10-28          Кострома       Анита  Верещагина   \n",
       "353     1353   57 2018-11-26   Санкт-Петербург    Доминика    Анищенко   \n",
       "355     1355   33 2018-11-27             Киров        Сара  Абрикосова   \n",
       "367     1367   43 2018-11-16            Москва    Всеволод   Антоненко   \n",
       "370     1370   48 2018-10-27      Новороссийск      Гектор      Сысоев   \n",
       "371     1371   50 2018-12-30              Омск      Ириней    Трофимов   \n",
       "392     1392   54 2018-09-27         Челябинск        Алла    Беликова   \n",
       "480     1480   29 2018-09-26       Новокузнецк      Гелена  Емельянова   \n",
       "498     1498   68 2018-10-25       Владикавказ    Всеволод     Акимчин   \n",
       "\n",
       "      reg_date tariff  session_month  month_date  churn_month  \n",
       "19  2018-05-16  ultra            6.0           5           10  \n",
       "34  2018-08-26  smart            4.0           8           11  \n",
       "50  2018-06-16  ultra            5.0           6           10  \n",
       "51  2018-05-28  smart            6.0           5           10  \n",
       "56  2018-04-13  smart            7.0           4           10  \n",
       "71  2018-01-09  smart            8.0           1            8  \n",
       "128 2018-12-15  ultra            NaN          12           12  \n",
       "161 2018-07-03  smart            5.0           7           11  \n",
       "191 2018-06-30  smart            5.0           6           10  \n",
       "232 2018-10-07  smart            2.0          10           11  \n",
       "254 2018-01-04  ultra            8.0           1            8  \n",
       "255 2018-02-19  ultra            8.0           2            9  \n",
       "265 2018-06-24  ultra            5.0           6           10  \n",
       "271 2018-07-14  ultra            5.0           7           11  \n",
       "293 2018-09-05  smart            3.0           9           11  \n",
       "343 2018-08-15  ultra            3.0           8           10  \n",
       "353 2018-04-22  smart            8.0           4           11  \n",
       "355 2018-07-21  smart            5.0           7           11  \n",
       "367 2018-09-14  ultra            3.0           9           11  \n",
       "370 2018-02-06  smart            9.0           2           10  \n",
       "371 2018-12-25  smart            NaN          12           12  \n",
       "392 2018-02-27  ultra            8.0           2            9  \n",
       "480 2018-02-14  smart            8.0           2            9  \n",
       "498 2018-07-19  smart            4.0           7           10  "
      ]
     },
     "execution_count": 43,
     "metadata": {},
     "output_type": "execute_result"
    }
   ],
   "source": [
    "df_users_churn['churn_date'] = pd.to_datetime(df_users_churn['churn_date'])\n",
    "df_users_churn['churn_month'] = df_users_churn['churn_date'].dt.month\n",
    "df_users_churn"
   ]
  },
  {
   "cell_type": "markdown",
   "id": "b6b4bfbf",
   "metadata": {},
   "source": [
    "Все пользователи до их ухода проявляли активность ежемесячно."
   ]
  },
  {
   "cell_type": "code",
   "execution_count": 44,
   "id": "d3d5b334",
   "metadata": {
    "scrolled": false
   },
   "outputs": [
    {
     "data": {
      "text/plain": [
       "<matplotlib.axes._subplots.AxesSubplot at 0x7f385bce8f10>"
      ]
     },
     "execution_count": 44,
     "metadata": {},
     "output_type": "execute_result"
    },
    {
     "data": {
      "image/png": "[encoded data removed]",
      "text/plain": [
       "<Figure size 432x288 with 1 Axes>"
      ]
     },
     "metadata": {
      "needs_background": "light"
     },
     "output_type": "display_data"
    }
   ],
   "source": [
    "df_users['session_month'].hist(bins=30)"
   ]
  },
  {
   "cell_type": "markdown",
   "id": "1723face",
   "metadata": {},
   "source": [
    "Вернемся к таблице с группировкой по пользователям и месяцам."
   ]
  },
  {
   "cell_type": "code",
   "execution_count": 45,
   "id": "a6152a8b",
   "metadata": {
    "scrolled": true
   },
   "outputs": [
    {
     "data": {
      "text/html": [
       "<div>\n",
       "<style scoped>\n",
       "    .dataframe tbody tr th:only-of-type {\n",
       "        vertical-align: middle;\n",
       "    }\n",
       "\n",
       "    .dataframe tbody tr th {\n",
       "        vertical-align: top;\n",
       "    }\n",
       "\n",
       "    .dataframe thead th {\n",
       "        text-align: right;\n",
       "    }\n",
       "</style>\n",
       "<table border=\"1\" class=\"dataframe\">\n",
       "  <thead>\n",
       "    <tr style=\"text-align: right;\">\n",
       "      <th></th>\n",
       "      <th>user_id</th>\n",
       "      <th>message_month</th>\n",
       "      <th>count_messages</th>\n",
       "      <th>call_month</th>\n",
       "      <th>count_call</th>\n",
       "      <th>sum_duration</th>\n",
       "      <th>session_month</th>\n",
       "      <th>sum_session</th>\n",
       "    </tr>\n",
       "  </thead>\n",
       "  <tbody>\n",
       "    <tr>\n",
       "      <td>0</td>\n",
       "      <td>1000</td>\n",
       "      <td>5.0</td>\n",
       "      <td>22.0</td>\n",
       "      <td>5.0</td>\n",
       "      <td>22.0</td>\n",
       "      <td>150.06</td>\n",
       "      <td>5.0</td>\n",
       "      <td>2253.49</td>\n",
       "    </tr>\n",
       "    <tr>\n",
       "      <td>1</td>\n",
       "      <td>1000</td>\n",
       "      <td>6.0</td>\n",
       "      <td>60.0</td>\n",
       "      <td>6.0</td>\n",
       "      <td>43.0</td>\n",
       "      <td>158.90</td>\n",
       "      <td>6.0</td>\n",
       "      <td>23233.77</td>\n",
       "    </tr>\n",
       "    <tr>\n",
       "      <td>2</td>\n",
       "      <td>1000</td>\n",
       "      <td>7.0</td>\n",
       "      <td>75.0</td>\n",
       "      <td>7.0</td>\n",
       "      <td>47.0</td>\n",
       "      <td>318.80</td>\n",
       "      <td>7.0</td>\n",
       "      <td>14003.64</td>\n",
       "    </tr>\n",
       "    <tr>\n",
       "      <td>3</td>\n",
       "      <td>1000</td>\n",
       "      <td>8.0</td>\n",
       "      <td>81.0</td>\n",
       "      <td>8.0</td>\n",
       "      <td>52.0</td>\n",
       "      <td>389.87</td>\n",
       "      <td>8.0</td>\n",
       "      <td>14055.93</td>\n",
       "    </tr>\n",
       "    <tr>\n",
       "      <td>4</td>\n",
       "      <td>1000</td>\n",
       "      <td>9.0</td>\n",
       "      <td>57.0</td>\n",
       "      <td>9.0</td>\n",
       "      <td>58.0</td>\n",
       "      <td>440.14</td>\n",
       "      <td>9.0</td>\n",
       "      <td>14568.91</td>\n",
       "    </tr>\n",
       "  </tbody>\n",
       "</table>\n",
       "</div>"
      ],
      "text/plain": [
       "   user_id  message_month  count_messages  call_month  count_call  \\\n",
       "0     1000            5.0            22.0         5.0        22.0   \n",
       "1     1000            6.0            60.0         6.0        43.0   \n",
       "2     1000            7.0            75.0         7.0        47.0   \n",
       "3     1000            8.0            81.0         8.0        52.0   \n",
       "4     1000            9.0            57.0         9.0        58.0   \n",
       "\n",
       "   sum_duration  session_month  sum_session  \n",
       "0        150.06            5.0      2253.49  \n",
       "1        158.90            6.0     23233.77  \n",
       "2        318.80            7.0     14003.64  \n",
       "3        389.87            8.0     14055.93  \n",
       "4        440.14            9.0     14568.91  "
      ]
     },
     "execution_count": 45,
     "metadata": {},
     "output_type": "execute_result"
    }
   ],
   "source": [
    "group_month.head()"
   ]
  },
  {
   "cell_type": "markdown",
   "id": "1585f47a",
   "metadata": {},
   "source": [
    "- удалим дублирующие столбцы с месяцами 'message_month' 'call_month'\n",
    "- оставшийся столбец с месяцем приведем к целочисленному типу и переименуем в 'month'"
   ]
  },
  {
   "cell_type": "code",
   "execution_count": 46,
   "id": "0ca7d774",
   "metadata": {},
   "outputs": [
    {
     "data": {
      "text/plain": [
       "0        5.0\n",
       "1        6.0\n",
       "2        7.0\n",
       "3        8.0\n",
       "4        9.0\n",
       "        ... \n",
       "3209     9.0\n",
       "3210    10.0\n",
       "3211    11.0\n",
       "3212    12.0\n",
       "3213     4.0\n",
       "Name: message_month, Length: 3214, dtype: float64"
      ]
     },
     "execution_count": 46,
     "metadata": {},
     "output_type": "execute_result"
    }
   ],
   "source": [
    "group_month.pop('message_month')"
   ]
  },
  {
   "cell_type": "code",
   "execution_count": 47,
   "id": "7910ed9c",
   "metadata": {},
   "outputs": [
    {
     "data": {
      "text/plain": [
       "0        5.0\n",
       "1        6.0\n",
       "2        7.0\n",
       "3        8.0\n",
       "4        9.0\n",
       "        ... \n",
       "3209     9.0\n",
       "3210    10.0\n",
       "3211    11.0\n",
       "3212    12.0\n",
       "3213     4.0\n",
       "Name: session_month, Length: 3214, dtype: float64"
      ]
     },
     "execution_count": 47,
     "metadata": {},
     "output_type": "execute_result"
    }
   ],
   "source": [
    "group_month.pop('session_month')"
   ]
  },
  {
   "cell_type": "code",
   "execution_count": 48,
   "id": "13d6a659",
   "metadata": {},
   "outputs": [],
   "source": [
    "group_month.columns = ['user_id', 'count_messages', 'month', 'count_call', 'sum_duration', 'sum_session']"
   ]
  },
  {
   "cell_type": "code",
   "execution_count": 49,
   "id": "e1707565",
   "metadata": {
    "scrolled": false
   },
   "outputs": [
    {
     "data": {
      "text/html": [
       "<div>\n",
       "<style scoped>\n",
       "    .dataframe tbody tr th:only-of-type {\n",
       "        vertical-align: middle;\n",
       "    }\n",
       "\n",
       "    .dataframe tbody tr th {\n",
       "        vertical-align: top;\n",
       "    }\n",
       "\n",
       "    .dataframe thead th {\n",
       "        text-align: right;\n",
       "    }\n",
       "</style>\n",
       "<table border=\"1\" class=\"dataframe\">\n",
       "  <thead>\n",
       "    <tr style=\"text-align: right;\">\n",
       "      <th></th>\n",
       "      <th>user_id</th>\n",
       "      <th>count_messages</th>\n",
       "      <th>month</th>\n",
       "      <th>count_call</th>\n",
       "      <th>sum_duration</th>\n",
       "      <th>sum_session</th>\n",
       "    </tr>\n",
       "  </thead>\n",
       "  <tbody>\n",
       "    <tr>\n",
       "      <td>0</td>\n",
       "      <td>1000</td>\n",
       "      <td>22</td>\n",
       "      <td>5</td>\n",
       "      <td>22</td>\n",
       "      <td>150.06</td>\n",
       "      <td>2253.49</td>\n",
       "    </tr>\n",
       "    <tr>\n",
       "      <td>1</td>\n",
       "      <td>1000</td>\n",
       "      <td>60</td>\n",
       "      <td>6</td>\n",
       "      <td>43</td>\n",
       "      <td>158.90</td>\n",
       "      <td>23233.77</td>\n",
       "    </tr>\n",
       "    <tr>\n",
       "      <td>2</td>\n",
       "      <td>1000</td>\n",
       "      <td>75</td>\n",
       "      <td>7</td>\n",
       "      <td>47</td>\n",
       "      <td>318.80</td>\n",
       "      <td>14003.64</td>\n",
       "    </tr>\n",
       "    <tr>\n",
       "      <td>3</td>\n",
       "      <td>1000</td>\n",
       "      <td>81</td>\n",
       "      <td>8</td>\n",
       "      <td>52</td>\n",
       "      <td>389.87</td>\n",
       "      <td>14055.93</td>\n",
       "    </tr>\n",
       "    <tr>\n",
       "      <td>4</td>\n",
       "      <td>1000</td>\n",
       "      <td>57</td>\n",
       "      <td>9</td>\n",
       "      <td>58</td>\n",
       "      <td>440.14</td>\n",
       "      <td>14568.91</td>\n",
       "    </tr>\n",
       "  </tbody>\n",
       "</table>\n",
       "</div>"
      ],
      "text/plain": [
       "   user_id  count_messages  month  count_call  sum_duration  sum_session\n",
       "0     1000              22      5          22        150.06      2253.49\n",
       "1     1000              60      6          43        158.90     23233.77\n",
       "2     1000              75      7          47        318.80     14003.64\n",
       "3     1000              81      8          52        389.87     14055.93\n",
       "4     1000              57      9          58        440.14     14568.91"
      ]
     },
     "execution_count": 49,
     "metadata": {},
     "output_type": "execute_result"
    }
   ],
   "source": [
    "group_month[['count_messages','month','count_call']] = group_month[['count_messages','month','count_call']].astype('int')\n",
    "group_month.head()"
   ]
  },
  {
   "cell_type": "markdown",
   "id": "b9edd5b7",
   "metadata": {},
   "source": [
    "Округлим длительность звонков с избытком"
   ]
  },
  {
   "cell_type": "code",
   "execution_count": 50,
   "id": "8f0e5ce3",
   "metadata": {
    "scrolled": true
   },
   "outputs": [
    {
     "data": {
      "text/plain": [
       "0       151\n",
       "1       159\n",
       "2       319\n",
       "3       390\n",
       "4       441\n",
       "       ... \n",
       "3209    470\n",
       "3210    331\n",
       "3211    390\n",
       "3212    389\n",
       "3213      0\n",
       "Name: sum_duration, Length: 3214, dtype: int64"
      ]
     },
     "execution_count": 50,
     "metadata": {},
     "output_type": "execute_result"
    }
   ],
   "source": [
    "group_month['sum_duration'] = np.ceil(group_month['sum_duration']).astype('int')\n",
    "group_month['sum_duration']"
   ]
  },
  {
   "cell_type": "markdown",
   "id": "9fc49b7d",
   "metadata": {},
   "source": [
    "Расходы интренет трафика, переведём в гигабайты и окурглим и избытком"
   ]
  },
  {
   "cell_type": "code",
   "execution_count": 51,
   "id": "adbf85a6",
   "metadata": {},
   "outputs": [
    {
     "data": {
      "text/plain": [
       "0     2.200674\n",
       "1    22.689229\n",
       "2    13.675430\n",
       "3    13.726494\n",
       "4    14.227451\n",
       "5    14.357900\n",
       "6    14.410615\n",
       "7     9.587510\n",
       "8    10.602363\n",
       "9    17.168066\n",
       "Name: sum_session, dtype: float64"
      ]
     },
     "execution_count": 51,
     "metadata": {},
     "output_type": "execute_result"
    }
   ],
   "source": [
    "group_month['sum_session'] = group_month['sum_session']/1024\n",
    "group_month['sum_session'].head(10)"
   ]
  },
  {
   "cell_type": "code",
   "execution_count": 52,
   "id": "b0450bec",
   "metadata": {
    "scrolled": true
   },
   "outputs": [
    {
     "data": {
      "text/plain": [
       "0        3\n",
       "1       23\n",
       "2       14\n",
       "3       14\n",
       "4       15\n",
       "        ..\n",
       "3209    17\n",
       "3210    18\n",
       "3211    18\n",
       "3212    18\n",
       "3213     1\n",
       "Name: sum_session, Length: 3214, dtype: int64"
      ]
     },
     "execution_count": 52,
     "metadata": {},
     "output_type": "execute_result"
    }
   ],
   "source": [
    "group_month['sum_session'] = np.ceil(group_month['sum_session']).astype('int')\n",
    "group_month['sum_session']"
   ]
  },
  {
   "cell_type": "markdown",
   "id": "d363cb76",
   "metadata": {},
   "source": [
    "Соединим таблицу с пользователями с таблице о тарифах, а затем с таблицей с расходами."
   ]
  },
  {
   "cell_type": "code",
   "execution_count": 53,
   "id": "0dc872a0",
   "metadata": {
    "scrolled": true
   },
   "outputs": [
    {
     "data": {
      "text/html": [
       "<div>\n",
       "<style scoped>\n",
       "    .dataframe tbody tr th:only-of-type {\n",
       "        vertical-align: middle;\n",
       "    }\n",
       "\n",
       "    .dataframe tbody tr th {\n",
       "        vertical-align: top;\n",
       "    }\n",
       "\n",
       "    .dataframe thead th {\n",
       "        text-align: right;\n",
       "    }\n",
       "</style>\n",
       "<table border=\"1\" class=\"dataframe\">\n",
       "  <thead>\n",
       "    <tr style=\"text-align: right;\">\n",
       "      <th></th>\n",
       "      <th>user_id</th>\n",
       "      <th>age</th>\n",
       "      <th>churn_date</th>\n",
       "      <th>city</th>\n",
       "      <th>first_name</th>\n",
       "      <th>last_name</th>\n",
       "      <th>reg_date</th>\n",
       "      <th>tariff</th>\n",
       "      <th>session_month</th>\n",
       "      <th>month_date</th>\n",
       "      <th>...</th>\n",
       "      <th>sum_duration</th>\n",
       "      <th>sum_session</th>\n",
       "      <th>messages_included</th>\n",
       "      <th>gb_per_month_included</th>\n",
       "      <th>minutes_included</th>\n",
       "      <th>rub_monthly_fee</th>\n",
       "      <th>rub_per_gb</th>\n",
       "      <th>rub_per_message</th>\n",
       "      <th>rub_per_minute</th>\n",
       "      <th>tariff_name</th>\n",
       "    </tr>\n",
       "  </thead>\n",
       "  <tbody>\n",
       "    <tr>\n",
       "      <td>0</td>\n",
       "      <td>1000</td>\n",
       "      <td>52</td>\n",
       "      <td>NaN</td>\n",
       "      <td>Краснодар</td>\n",
       "      <td>Рафаил</td>\n",
       "      <td>Верещагин</td>\n",
       "      <td>2018-05-25</td>\n",
       "      <td>ultra</td>\n",
       "      <td>8.0</td>\n",
       "      <td>5</td>\n",
       "      <td>...</td>\n",
       "      <td>151</td>\n",
       "      <td>3</td>\n",
       "      <td>1000</td>\n",
       "      <td>30</td>\n",
       "      <td>3000</td>\n",
       "      <td>1950</td>\n",
       "      <td>150</td>\n",
       "      <td>1</td>\n",
       "      <td>1</td>\n",
       "      <td>ultra</td>\n",
       "    </tr>\n",
       "    <tr>\n",
       "      <td>1</td>\n",
       "      <td>1000</td>\n",
       "      <td>52</td>\n",
       "      <td>NaN</td>\n",
       "      <td>Краснодар</td>\n",
       "      <td>Рафаил</td>\n",
       "      <td>Верещагин</td>\n",
       "      <td>2018-05-25</td>\n",
       "      <td>ultra</td>\n",
       "      <td>8.0</td>\n",
       "      <td>5</td>\n",
       "      <td>...</td>\n",
       "      <td>159</td>\n",
       "      <td>23</td>\n",
       "      <td>1000</td>\n",
       "      <td>30</td>\n",
       "      <td>3000</td>\n",
       "      <td>1950</td>\n",
       "      <td>150</td>\n",
       "      <td>1</td>\n",
       "      <td>1</td>\n",
       "      <td>ultra</td>\n",
       "    </tr>\n",
       "    <tr>\n",
       "      <td>2</td>\n",
       "      <td>1000</td>\n",
       "      <td>52</td>\n",
       "      <td>NaN</td>\n",
       "      <td>Краснодар</td>\n",
       "      <td>Рафаил</td>\n",
       "      <td>Верещагин</td>\n",
       "      <td>2018-05-25</td>\n",
       "      <td>ultra</td>\n",
       "      <td>8.0</td>\n",
       "      <td>5</td>\n",
       "      <td>...</td>\n",
       "      <td>319</td>\n",
       "      <td>14</td>\n",
       "      <td>1000</td>\n",
       "      <td>30</td>\n",
       "      <td>3000</td>\n",
       "      <td>1950</td>\n",
       "      <td>150</td>\n",
       "      <td>1</td>\n",
       "      <td>1</td>\n",
       "      <td>ultra</td>\n",
       "    </tr>\n",
       "    <tr>\n",
       "      <td>3</td>\n",
       "      <td>1000</td>\n",
       "      <td>52</td>\n",
       "      <td>NaN</td>\n",
       "      <td>Краснодар</td>\n",
       "      <td>Рафаил</td>\n",
       "      <td>Верещагин</td>\n",
       "      <td>2018-05-25</td>\n",
       "      <td>ultra</td>\n",
       "      <td>8.0</td>\n",
       "      <td>5</td>\n",
       "      <td>...</td>\n",
       "      <td>390</td>\n",
       "      <td>14</td>\n",
       "      <td>1000</td>\n",
       "      <td>30</td>\n",
       "      <td>3000</td>\n",
       "      <td>1950</td>\n",
       "      <td>150</td>\n",
       "      <td>1</td>\n",
       "      <td>1</td>\n",
       "      <td>ultra</td>\n",
       "    </tr>\n",
       "    <tr>\n",
       "      <td>4</td>\n",
       "      <td>1000</td>\n",
       "      <td>52</td>\n",
       "      <td>NaN</td>\n",
       "      <td>Краснодар</td>\n",
       "      <td>Рафаил</td>\n",
       "      <td>Верещагин</td>\n",
       "      <td>2018-05-25</td>\n",
       "      <td>ultra</td>\n",
       "      <td>8.0</td>\n",
       "      <td>5</td>\n",
       "      <td>...</td>\n",
       "      <td>441</td>\n",
       "      <td>15</td>\n",
       "      <td>1000</td>\n",
       "      <td>30</td>\n",
       "      <td>3000</td>\n",
       "      <td>1950</td>\n",
       "      <td>150</td>\n",
       "      <td>1</td>\n",
       "      <td>1</td>\n",
       "      <td>ultra</td>\n",
       "    </tr>\n",
       "  </tbody>\n",
       "</table>\n",
       "<p>5 rows × 23 columns</p>\n",
       "</div>"
      ],
      "text/plain": [
       "   user_id  age churn_date       city first_name  last_name   reg_date tariff  \\\n",
       "0     1000   52        NaN  Краснодар     Рафаил  Верещагин 2018-05-25  ultra   \n",
       "1     1000   52        NaN  Краснодар     Рафаил  Верещагин 2018-05-25  ultra   \n",
       "2     1000   52        NaN  Краснодар     Рафаил  Верещагин 2018-05-25  ultra   \n",
       "3     1000   52        NaN  Краснодар     Рафаил  Верещагин 2018-05-25  ultra   \n",
       "4     1000   52        NaN  Краснодар     Рафаил  Верещагин 2018-05-25  ultra   \n",
       "\n",
       "   session_month  month_date  ...  sum_duration  sum_session  \\\n",
       "0            8.0           5  ...           151            3   \n",
       "1            8.0           5  ...           159           23   \n",
       "2            8.0           5  ...           319           14   \n",
       "3            8.0           5  ...           390           14   \n",
       "4            8.0           5  ...           441           15   \n",
       "\n",
       "   messages_included  gb_per_month_included  minutes_included  \\\n",
       "0               1000                     30              3000   \n",
       "1               1000                     30              3000   \n",
       "2               1000                     30              3000   \n",
       "3               1000                     30              3000   \n",
       "4               1000                     30              3000   \n",
       "\n",
       "   rub_monthly_fee  rub_per_gb  rub_per_message  rub_per_minute  tariff_name  \n",
       "0             1950         150                1               1        ultra  \n",
       "1             1950         150                1               1        ultra  \n",
       "2             1950         150                1               1        ultra  \n",
       "3             1950         150                1               1        ultra  \n",
       "4             1950         150                1               1        ultra  \n",
       "\n",
       "[5 rows x 23 columns]"
      ]
     },
     "execution_count": 53,
     "metadata": {},
     "output_type": "execute_result"
    }
   ],
   "source": [
    "df_all_users = df_users.merge(group_month, how = \"outer\",on='user_id')\n",
    "df_all_users = df_all_users.merge(df_tariffs,how=\"left\",left_on=['tariff'], right_on = ['tariff_name'])\n",
    "df_all_users.head()"
   ]
  },
  {
   "cell_type": "markdown",
   "id": "4356fc27",
   "metadata": {},
   "source": [
    "Вычислим ежемесячную выручку по каждому из клиентов"
   ]
  },
  {
   "cell_type": "code",
   "execution_count": 54,
   "id": "a2d08708",
   "metadata": {},
   "outputs": [],
   "source": [
    "def calc_profit(raw):\n",
    "    call_profit = 0\n",
    "    mes_profit = 0\n",
    "    session_profit = 0\n",
    "    if raw['sum_duration'] > raw['minutes_included']:\n",
    "        call_profit = (raw['sum_duration'] - raw['minutes_included'] ) * raw['rub_per_minute']\n",
    "    if raw['count_messages'] > raw['messages_included']:\n",
    "        mes_profit = (raw['count_messages'] - raw['messages_included'])*raw['rub_per_message']\n",
    "    if raw['sum_session'] > raw['gb_per_month_included']:\n",
    "        session_profit = (raw['sum_session'] - raw['gb_per_month_included'])*raw['rub_per_gb']\n",
    "    return raw['rub_monthly_fee'] + call_profit + mes_profit + session_profit"
   ]
  },
  {
   "cell_type": "code",
   "execution_count": 55,
   "id": "e8f7d3de",
   "metadata": {
    "scrolled": false
   },
   "outputs": [
    {
     "data": {
      "text/html": [
       "<div>\n",
       "<style scoped>\n",
       "    .dataframe tbody tr th:only-of-type {\n",
       "        vertical-align: middle;\n",
       "    }\n",
       "\n",
       "    .dataframe tbody tr th {\n",
       "        vertical-align: top;\n",
       "    }\n",
       "\n",
       "    .dataframe thead th {\n",
       "        text-align: right;\n",
       "    }\n",
       "</style>\n",
       "<table border=\"1\" class=\"dataframe\">\n",
       "  <thead>\n",
       "    <tr style=\"text-align: right;\">\n",
       "      <th></th>\n",
       "      <th>user_id</th>\n",
       "      <th>age</th>\n",
       "      <th>churn_date</th>\n",
       "      <th>city</th>\n",
       "      <th>first_name</th>\n",
       "      <th>last_name</th>\n",
       "      <th>reg_date</th>\n",
       "      <th>tariff</th>\n",
       "      <th>session_month</th>\n",
       "      <th>month_date</th>\n",
       "      <th>...</th>\n",
       "      <th>sum_session</th>\n",
       "      <th>messages_included</th>\n",
       "      <th>gb_per_month_included</th>\n",
       "      <th>minutes_included</th>\n",
       "      <th>rub_monthly_fee</th>\n",
       "      <th>rub_per_gb</th>\n",
       "      <th>rub_per_message</th>\n",
       "      <th>rub_per_minute</th>\n",
       "      <th>tariff_name</th>\n",
       "      <th>profit</th>\n",
       "    </tr>\n",
       "  </thead>\n",
       "  <tbody>\n",
       "    <tr>\n",
       "      <td>0</td>\n",
       "      <td>1000</td>\n",
       "      <td>52</td>\n",
       "      <td>NaN</td>\n",
       "      <td>Краснодар</td>\n",
       "      <td>Рафаил</td>\n",
       "      <td>Верещагин</td>\n",
       "      <td>2018-05-25</td>\n",
       "      <td>ultra</td>\n",
       "      <td>8.0</td>\n",
       "      <td>5</td>\n",
       "      <td>...</td>\n",
       "      <td>3</td>\n",
       "      <td>1000</td>\n",
       "      <td>30</td>\n",
       "      <td>3000</td>\n",
       "      <td>1950</td>\n",
       "      <td>150</td>\n",
       "      <td>1</td>\n",
       "      <td>1</td>\n",
       "      <td>ultra</td>\n",
       "      <td>1950</td>\n",
       "    </tr>\n",
       "    <tr>\n",
       "      <td>1</td>\n",
       "      <td>1000</td>\n",
       "      <td>52</td>\n",
       "      <td>NaN</td>\n",
       "      <td>Краснодар</td>\n",
       "      <td>Рафаил</td>\n",
       "      <td>Верещагин</td>\n",
       "      <td>2018-05-25</td>\n",
       "      <td>ultra</td>\n",
       "      <td>8.0</td>\n",
       "      <td>5</td>\n",
       "      <td>...</td>\n",
       "      <td>23</td>\n",
       "      <td>1000</td>\n",
       "      <td>30</td>\n",
       "      <td>3000</td>\n",
       "      <td>1950</td>\n",
       "      <td>150</td>\n",
       "      <td>1</td>\n",
       "      <td>1</td>\n",
       "      <td>ultra</td>\n",
       "      <td>1950</td>\n",
       "    </tr>\n",
       "    <tr>\n",
       "      <td>2</td>\n",
       "      <td>1000</td>\n",
       "      <td>52</td>\n",
       "      <td>NaN</td>\n",
       "      <td>Краснодар</td>\n",
       "      <td>Рафаил</td>\n",
       "      <td>Верещагин</td>\n",
       "      <td>2018-05-25</td>\n",
       "      <td>ultra</td>\n",
       "      <td>8.0</td>\n",
       "      <td>5</td>\n",
       "      <td>...</td>\n",
       "      <td>14</td>\n",
       "      <td>1000</td>\n",
       "      <td>30</td>\n",
       "      <td>3000</td>\n",
       "      <td>1950</td>\n",
       "      <td>150</td>\n",
       "      <td>1</td>\n",
       "      <td>1</td>\n",
       "      <td>ultra</td>\n",
       "      <td>1950</td>\n",
       "    </tr>\n",
       "    <tr>\n",
       "      <td>3</td>\n",
       "      <td>1000</td>\n",
       "      <td>52</td>\n",
       "      <td>NaN</td>\n",
       "      <td>Краснодар</td>\n",
       "      <td>Рафаил</td>\n",
       "      <td>Верещагин</td>\n",
       "      <td>2018-05-25</td>\n",
       "      <td>ultra</td>\n",
       "      <td>8.0</td>\n",
       "      <td>5</td>\n",
       "      <td>...</td>\n",
       "      <td>14</td>\n",
       "      <td>1000</td>\n",
       "      <td>30</td>\n",
       "      <td>3000</td>\n",
       "      <td>1950</td>\n",
       "      <td>150</td>\n",
       "      <td>1</td>\n",
       "      <td>1</td>\n",
       "      <td>ultra</td>\n",
       "      <td>1950</td>\n",
       "    </tr>\n",
       "    <tr>\n",
       "      <td>4</td>\n",
       "      <td>1000</td>\n",
       "      <td>52</td>\n",
       "      <td>NaN</td>\n",
       "      <td>Краснодар</td>\n",
       "      <td>Рафаил</td>\n",
       "      <td>Верещагин</td>\n",
       "      <td>2018-05-25</td>\n",
       "      <td>ultra</td>\n",
       "      <td>8.0</td>\n",
       "      <td>5</td>\n",
       "      <td>...</td>\n",
       "      <td>15</td>\n",
       "      <td>1000</td>\n",
       "      <td>30</td>\n",
       "      <td>3000</td>\n",
       "      <td>1950</td>\n",
       "      <td>150</td>\n",
       "      <td>1</td>\n",
       "      <td>1</td>\n",
       "      <td>ultra</td>\n",
       "      <td>1950</td>\n",
       "    </tr>\n",
       "    <tr>\n",
       "      <td>...</td>\n",
       "      <td>...</td>\n",
       "      <td>...</td>\n",
       "      <td>...</td>\n",
       "      <td>...</td>\n",
       "      <td>...</td>\n",
       "      <td>...</td>\n",
       "      <td>...</td>\n",
       "      <td>...</td>\n",
       "      <td>...</td>\n",
       "      <td>...</td>\n",
       "      <td>...</td>\n",
       "      <td>...</td>\n",
       "      <td>...</td>\n",
       "      <td>...</td>\n",
       "      <td>...</td>\n",
       "      <td>...</td>\n",
       "      <td>...</td>\n",
       "      <td>...</td>\n",
       "      <td>...</td>\n",
       "      <td>...</td>\n",
       "      <td>...</td>\n",
       "    </tr>\n",
       "    <tr>\n",
       "      <td>3209</td>\n",
       "      <td>1498</td>\n",
       "      <td>68</td>\n",
       "      <td>2018-10-25</td>\n",
       "      <td>Владикавказ</td>\n",
       "      <td>Всеволод</td>\n",
       "      <td>Акимчин</td>\n",
       "      <td>2018-07-19</td>\n",
       "      <td>smart</td>\n",
       "      <td>4.0</td>\n",
       "      <td>7</td>\n",
       "      <td>...</td>\n",
       "      <td>21</td>\n",
       "      <td>50</td>\n",
       "      <td>15</td>\n",
       "      <td>500</td>\n",
       "      <td>550</td>\n",
       "      <td>200</td>\n",
       "      <td>3</td>\n",
       "      <td>3</td>\n",
       "      <td>smart</td>\n",
       "      <td>1750</td>\n",
       "    </tr>\n",
       "    <tr>\n",
       "      <td>3210</td>\n",
       "      <td>1499</td>\n",
       "      <td>35</td>\n",
       "      <td>NaN</td>\n",
       "      <td>Пермь</td>\n",
       "      <td>Гектор</td>\n",
       "      <td>Корнилов</td>\n",
       "      <td>2018-09-27</td>\n",
       "      <td>smart</td>\n",
       "      <td>4.0</td>\n",
       "      <td>9</td>\n",
       "      <td>...</td>\n",
       "      <td>2</td>\n",
       "      <td>50</td>\n",
       "      <td>15</td>\n",
       "      <td>500</td>\n",
       "      <td>550</td>\n",
       "      <td>200</td>\n",
       "      <td>3</td>\n",
       "      <td>3</td>\n",
       "      <td>smart</td>\n",
       "      <td>550</td>\n",
       "    </tr>\n",
       "    <tr>\n",
       "      <td>3211</td>\n",
       "      <td>1499</td>\n",
       "      <td>35</td>\n",
       "      <td>NaN</td>\n",
       "      <td>Пермь</td>\n",
       "      <td>Гектор</td>\n",
       "      <td>Корнилов</td>\n",
       "      <td>2018-09-27</td>\n",
       "      <td>smart</td>\n",
       "      <td>4.0</td>\n",
       "      <td>9</td>\n",
       "      <td>...</td>\n",
       "      <td>18</td>\n",
       "      <td>50</td>\n",
       "      <td>15</td>\n",
       "      <td>500</td>\n",
       "      <td>550</td>\n",
       "      <td>200</td>\n",
       "      <td>3</td>\n",
       "      <td>3</td>\n",
       "      <td>smart</td>\n",
       "      <td>1150</td>\n",
       "    </tr>\n",
       "    <tr>\n",
       "      <td>3212</td>\n",
       "      <td>1499</td>\n",
       "      <td>35</td>\n",
       "      <td>NaN</td>\n",
       "      <td>Пермь</td>\n",
       "      <td>Гектор</td>\n",
       "      <td>Корнилов</td>\n",
       "      <td>2018-09-27</td>\n",
       "      <td>smart</td>\n",
       "      <td>4.0</td>\n",
       "      <td>9</td>\n",
       "      <td>...</td>\n",
       "      <td>18</td>\n",
       "      <td>50</td>\n",
       "      <td>15</td>\n",
       "      <td>500</td>\n",
       "      <td>550</td>\n",
       "      <td>200</td>\n",
       "      <td>3</td>\n",
       "      <td>3</td>\n",
       "      <td>smart</td>\n",
       "      <td>1408</td>\n",
       "    </tr>\n",
       "    <tr>\n",
       "      <td>3213</td>\n",
       "      <td>1499</td>\n",
       "      <td>35</td>\n",
       "      <td>NaN</td>\n",
       "      <td>Пермь</td>\n",
       "      <td>Гектор</td>\n",
       "      <td>Корнилов</td>\n",
       "      <td>2018-09-27</td>\n",
       "      <td>smart</td>\n",
       "      <td>4.0</td>\n",
       "      <td>9</td>\n",
       "      <td>...</td>\n",
       "      <td>13</td>\n",
       "      <td>50</td>\n",
       "      <td>15</td>\n",
       "      <td>500</td>\n",
       "      <td>550</td>\n",
       "      <td>200</td>\n",
       "      <td>3</td>\n",
       "      <td>3</td>\n",
       "      <td>smart</td>\n",
       "      <td>598</td>\n",
       "    </tr>\n",
       "  </tbody>\n",
       "</table>\n",
       "<p>3214 rows × 24 columns</p>\n",
       "</div>"
      ],
      "text/plain": [
       "      user_id  age  churn_date         city first_name  last_name   reg_date  \\\n",
       "0        1000   52         NaN    Краснодар     Рафаил  Верещагин 2018-05-25   \n",
       "1        1000   52         NaN    Краснодар     Рафаил  Верещагин 2018-05-25   \n",
       "2        1000   52         NaN    Краснодар     Рафаил  Верещагин 2018-05-25   \n",
       "3        1000   52         NaN    Краснодар     Рафаил  Верещагин 2018-05-25   \n",
       "4        1000   52         NaN    Краснодар     Рафаил  Верещагин 2018-05-25   \n",
       "...       ...  ...         ...          ...        ...        ...        ...   \n",
       "3209     1498   68  2018-10-25  Владикавказ   Всеволод    Акимчин 2018-07-19   \n",
       "3210     1499   35         NaN        Пермь     Гектор   Корнилов 2018-09-27   \n",
       "3211     1499   35         NaN        Пермь     Гектор   Корнилов 2018-09-27   \n",
       "3212     1499   35         NaN        Пермь     Гектор   Корнилов 2018-09-27   \n",
       "3213     1499   35         NaN        Пермь     Гектор   Корнилов 2018-09-27   \n",
       "\n",
       "     tariff  session_month  month_date  ...  sum_session  messages_included  \\\n",
       "0     ultra            8.0           5  ...            3               1000   \n",
       "1     ultra            8.0           5  ...           23               1000   \n",
       "2     ultra            8.0           5  ...           14               1000   \n",
       "3     ultra            8.0           5  ...           14               1000   \n",
       "4     ultra            8.0           5  ...           15               1000   \n",
       "...     ...            ...         ...  ...          ...                ...   \n",
       "3209  smart            4.0           7  ...           21                 50   \n",
       "3210  smart            4.0           9  ...            2                 50   \n",
       "3211  smart            4.0           9  ...           18                 50   \n",
       "3212  smart            4.0           9  ...           18                 50   \n",
       "3213  smart            4.0           9  ...           13                 50   \n",
       "\n",
       "      gb_per_month_included  minutes_included  rub_monthly_fee  rub_per_gb  \\\n",
       "0                        30              3000             1950         150   \n",
       "1                        30              3000             1950         150   \n",
       "2                        30              3000             1950         150   \n",
       "3                        30              3000             1950         150   \n",
       "4                        30              3000             1950         150   \n",
       "...                     ...               ...              ...         ...   \n",
       "3209                     15               500              550         200   \n",
       "3210                     15               500              550         200   \n",
       "3211                     15               500              550         200   \n",
       "3212                     15               500              550         200   \n",
       "3213                     15               500              550         200   \n",
       "\n",
       "      rub_per_message  rub_per_minute  tariff_name  profit  \n",
       "0                   1               1        ultra    1950  \n",
       "1                   1               1        ultra    1950  \n",
       "2                   1               1        ultra    1950  \n",
       "3                   1               1        ultra    1950  \n",
       "4                   1               1        ultra    1950  \n",
       "...               ...             ...          ...     ...  \n",
       "3209                3               3        smart    1750  \n",
       "3210                3               3        smart     550  \n",
       "3211                3               3        smart    1150  \n",
       "3212                3               3        smart    1408  \n",
       "3213                3               3        smart     598  \n",
       "\n",
       "[3214 rows x 24 columns]"
      ]
     },
     "execution_count": 55,
     "metadata": {},
     "output_type": "execute_result"
    }
   ],
   "source": [
    "df_all_users['profit'] = df_all_users.apply(calc_profit,axis=1)\n",
    "df_all_users"
   ]
  },
  {
   "cell_type": "markdown",
   "id": "2195ed42",
   "metadata": {},
   "source": [
    "## Анализ данных"
   ]
  },
  {
   "cell_type": "code",
   "execution_count": 56,
   "id": "a97f7444",
   "metadata": {},
   "outputs": [],
   "source": [
    "def info_tariff(column, title, label):\n",
    "    fig, axes = plt.subplots(1, 2, figsize=(12,6), sharey=False)\n",
    "    ax = sns.histplot(data=df_all_users, x=column, hue=\"tariff\", kde=True, ax = axes[0])\n",
    "    ax.set(title = title, xlabel = label,ylabel = \"Количество\")\n",
    "   \n",
    "    ax = sns.boxplot(x=\"tariff\", y=column, data=df_all_users,ax = axes[1])\n",
    "    ax.set(title = \"Диаграмма размаха\", xlabel = \"Тариф\",ylabel = label)\n",
    "\n",
    "    plt.show()\n",
    "    \n",
    "    display(df_all_users.pivot_table(index = 'tariff',\n",
    "                         values = column,\n",
    "                         aggfunc = ['median','mean','std','var']))"
   ]
  },
  {
   "cell_type": "markdown",
   "id": "4522ac7d",
   "metadata": {},
   "source": [
    "### Распределение ежемесячно затраченных минут разговора"
   ]
  },
  {
   "cell_type": "code",
   "execution_count": 57,
   "id": "9d68cc72",
   "metadata": {
    "scrolled": false
   },
   "outputs": [
    {
     "data": {
      "image/png": "[encoded data removed]",
      "text/plain": [
       "<Figure size 864x432 with 2 Axes>"
      ]
     },
     "metadata": {
      "needs_background": "light"
     },
     "output_type": "display_data"
    },
    {
     "data": {
      "text/html": [
       "<div>\n",
       "<style scoped>\n",
       "    .dataframe tbody tr th:only-of-type {\n",
       "        vertical-align: middle;\n",
       "    }\n",
       "\n",
       "    .dataframe tbody tr th {\n",
       "        vertical-align: top;\n",
       "    }\n",
       "\n",
       "    .dataframe thead tr th {\n",
       "        text-align: left;\n",
       "    }\n",
       "\n",
       "    .dataframe thead tr:last-of-type th {\n",
       "        text-align: right;\n",
       "    }\n",
       "</style>\n",
       "<table border=\"1\" class=\"dataframe\">\n",
       "  <thead>\n",
       "    <tr>\n",
       "      <th></th>\n",
       "      <th>median</th>\n",
       "      <th>mean</th>\n",
       "      <th>std</th>\n",
       "      <th>var</th>\n",
       "    </tr>\n",
       "    <tr>\n",
       "      <th></th>\n",
       "      <th>sum_duration</th>\n",
       "      <th>sum_duration</th>\n",
       "      <th>sum_duration</th>\n",
       "      <th>sum_duration</th>\n",
       "    </tr>\n",
       "    <tr>\n",
       "      <th>tariff</th>\n",
       "      <th></th>\n",
       "      <th></th>\n",
       "      <th></th>\n",
       "      <th></th>\n",
       "    </tr>\n",
       "  </thead>\n",
       "  <tbody>\n",
       "    <tr>\n",
       "      <td>smart</td>\n",
       "      <td>398</td>\n",
       "      <td>394.922387</td>\n",
       "      <td>179.980292</td>\n",
       "      <td>32392.905553</td>\n",
       "    </tr>\n",
       "    <tr>\n",
       "      <td>ultra</td>\n",
       "      <td>489</td>\n",
       "      <td>497.547208</td>\n",
       "      <td>299.929524</td>\n",
       "      <td>89957.719568</td>\n",
       "    </tr>\n",
       "  </tbody>\n",
       "</table>\n",
       "</div>"
      ],
      "text/plain": [
       "             median         mean          std           var\n",
       "       sum_duration sum_duration sum_duration  sum_duration\n",
       "tariff                                                     \n",
       "smart           398   394.922387   179.980292  32392.905553\n",
       "ultra           489   497.547208   299.929524  89957.719568"
      ]
     },
     "metadata": {},
     "output_type": "display_data"
    }
   ],
   "source": [
    "info_tariff(\"sum_duration\",\"Распределение ежемесячной длительности звонков\",\"Длительность звонков (мин.)\")"
   ]
  },
  {
   "cell_type": "markdown",
   "id": "d85664b8",
   "metadata": {},
   "source": [
    "- пользователи, тарифа smart ежемесячно меньше разговаривают по телефону\n",
    "- из даной выборки нет ни одного пользователя, который расходовал бы весь лимит 3000 мин по тарифу ultra\n",
    "- приблизительно половина пользователей тарифа smart укладываются в лимит по минутам\n",
    "- распределение длительности разговора близко к нормальному\n",
    "- дисперсия двух выборок по тарифам отличается существенно\n",
    "- медиана и средние по обоим тарифам приблизительно равны, что показывает слабовыраженную ассиметрию. По тарифу smart в левую сторону, а по тарифу ultra в правую сторону"
   ]
  },
  {
   "cell_type": "markdown",
   "id": "158fef0d",
   "metadata": {},
   "source": [
    "### Распределение ежемесячного расхода смс"
   ]
  },
  {
   "cell_type": "code",
   "execution_count": 58,
   "id": "519e84e4",
   "metadata": {},
   "outputs": [
    {
     "data": {
      "image/png": "[encoded data removed]",
      "text/plain": [
       "<Figure size 864x432 with 2 Axes>"
      ]
     },
     "metadata": {
      "needs_background": "light"
     },
     "output_type": "display_data"
    },
    {
     "data": {
      "text/html": [
       "<div>\n",
       "<style scoped>\n",
       "    .dataframe tbody tr th:only-of-type {\n",
       "        vertical-align: middle;\n",
       "    }\n",
       "\n",
       "    .dataframe tbody tr th {\n",
       "        vertical-align: top;\n",
       "    }\n",
       "\n",
       "    .dataframe thead tr th {\n",
       "        text-align: left;\n",
       "    }\n",
       "\n",
       "    .dataframe thead tr:last-of-type th {\n",
       "        text-align: right;\n",
       "    }\n",
       "</style>\n",
       "<table border=\"1\" class=\"dataframe\">\n",
       "  <thead>\n",
       "    <tr>\n",
       "      <th></th>\n",
       "      <th>median</th>\n",
       "      <th>mean</th>\n",
       "      <th>std</th>\n",
       "      <th>var</th>\n",
       "    </tr>\n",
       "    <tr>\n",
       "      <th></th>\n",
       "      <th>count_messages</th>\n",
       "      <th>count_messages</th>\n",
       "      <th>count_messages</th>\n",
       "      <th>count_messages</th>\n",
       "    </tr>\n",
       "    <tr>\n",
       "      <th>tariff</th>\n",
       "      <th></th>\n",
       "      <th></th>\n",
       "      <th></th>\n",
       "      <th></th>\n",
       "    </tr>\n",
       "  </thead>\n",
       "  <tbody>\n",
       "    <tr>\n",
       "      <td>smart</td>\n",
       "      <td>28</td>\n",
       "      <td>33.384029</td>\n",
       "      <td>28.227876</td>\n",
       "      <td>796.812958</td>\n",
       "    </tr>\n",
       "    <tr>\n",
       "      <td>ultra</td>\n",
       "      <td>38</td>\n",
       "      <td>49.363452</td>\n",
       "      <td>47.804457</td>\n",
       "      <td>2285.266143</td>\n",
       "    </tr>\n",
       "  </tbody>\n",
       "</table>\n",
       "</div>"
      ],
      "text/plain": [
       "               median           mean            std            var\n",
       "       count_messages count_messages count_messages count_messages\n",
       "tariff                                                            \n",
       "smart              28      33.384029      28.227876     796.812958\n",
       "ultra              38      49.363452      47.804457    2285.266143"
      ]
     },
     "metadata": {},
     "output_type": "display_data"
    }
   ],
   "source": [
    "info_tariff(\"count_messages\",\"Распределение количества сообщений по месяцам\",\"Количество сообщений\")"
   ]
  },
  {
   "cell_type": "markdown",
   "id": "49806a8a",
   "metadata": {},
   "source": [
    "Много месяцев, когда пользователи не отправляли смс. Что нельзя считать аномалией\n",
    ", с распространением интернета, люди меньше пользуются сообщениями."
   ]
  },
  {
   "cell_type": "markdown",
   "id": "7ef8106d",
   "metadata": {},
   "source": [
    "- из даной выборки нет ни одного пользователя, который расходовал бы весь лимит 1000 сообщений по тарифу ultra\n",
    "- распределение имеет ассиметрию в большую сторону\n",
    "- в среднем пользователи тарифа smart отправляют меньше сообщений\n",
    "- в тарифе ultra отличие медианы (38) от среднего значения (49) существенней, а это значит, что распределение по данному тарифу имеет более выраженную правостороннюю асиметрию"
   ]
  },
  {
   "cell_type": "markdown",
   "id": "85bec7a4",
   "metadata": {},
   "source": [
    "### Распределение ежемесячного расхода трафика"
   ]
  },
  {
   "cell_type": "code",
   "execution_count": 59,
   "id": "e197b04b",
   "metadata": {},
   "outputs": [
    {
     "data": {
      "image/png": "[encoded data removed]",
      "text/plain": [
       "<Figure size 864x432 with 2 Axes>"
      ]
     },
     "metadata": {
      "needs_background": "light"
     },
     "output_type": "display_data"
    },
    {
     "data": {
      "text/html": [
       "<div>\n",
       "<style scoped>\n",
       "    .dataframe tbody tr th:only-of-type {\n",
       "        vertical-align: middle;\n",
       "    }\n",
       "\n",
       "    .dataframe tbody tr th {\n",
       "        vertical-align: top;\n",
       "    }\n",
       "\n",
       "    .dataframe thead tr th {\n",
       "        text-align: left;\n",
       "    }\n",
       "\n",
       "    .dataframe thead tr:last-of-type th {\n",
       "        text-align: right;\n",
       "    }\n",
       "</style>\n",
       "<table border=\"1\" class=\"dataframe\">\n",
       "  <thead>\n",
       "    <tr>\n",
       "      <th></th>\n",
       "      <th>median</th>\n",
       "      <th>mean</th>\n",
       "      <th>std</th>\n",
       "      <th>var</th>\n",
       "    </tr>\n",
       "    <tr>\n",
       "      <th></th>\n",
       "      <th>sum_session</th>\n",
       "      <th>sum_session</th>\n",
       "      <th>sum_session</th>\n",
       "      <th>sum_session</th>\n",
       "    </tr>\n",
       "    <tr>\n",
       "      <th>tariff</th>\n",
       "      <th></th>\n",
       "      <th></th>\n",
       "      <th></th>\n",
       "      <th></th>\n",
       "    </tr>\n",
       "  </thead>\n",
       "  <tbody>\n",
       "    <tr>\n",
       "      <td>smart</td>\n",
       "      <td>17</td>\n",
       "      <td>16.328847</td>\n",
       "      <td>5.747061</td>\n",
       "      <td>33.028705</td>\n",
       "    </tr>\n",
       "    <tr>\n",
       "      <td>ultra</td>\n",
       "      <td>19</td>\n",
       "      <td>19.494416</td>\n",
       "      <td>9.853511</td>\n",
       "      <td>97.091686</td>\n",
       "    </tr>\n",
       "  </tbody>\n",
       "</table>\n",
       "</div>"
      ],
      "text/plain": [
       "            median        mean         std         var\n",
       "       sum_session sum_session sum_session sum_session\n",
       "tariff                                                \n",
       "smart           17   16.328847    5.747061   33.028705\n",
       "ultra           19   19.494416    9.853511   97.091686"
      ]
     },
     "metadata": {},
     "output_type": "display_data"
    }
   ],
   "source": [
    "info_tariff(\"sum_session\",\"Распределение расхода интернета по месяцам\",\"Интернет трафик (Гб)\")"
   ]
  },
  {
   "cell_type": "markdown",
   "id": "a1ca9bb9",
   "metadata": {},
   "source": [
    "- По тарифу smart ярко выраженный пик в 16 гб. Значение близко с лимитом по тарифу, что означает, многие перестают использовать интернет или продлевают только на 1 Гб, или не сразу замечают, что вышли из лимита и не продлевают его.\n",
    "- По тарифу ultra в отличии от других услуг ( звонки, сообщения), есть пользователи, которые выходят за пределы лимита 30 Гб по расходу трафика.\n",
    "- Согласно медиане и среднему значению, распределения по обоим тарифам являются нормальными без ассиметрии."
   ]
  },
  {
   "cell_type": "markdown",
   "id": "bc8e214c",
   "metadata": {},
   "source": [
    "**Распределение ежемесячного дохода по тарифам**"
   ]
  },
  {
   "cell_type": "code",
   "execution_count": 60,
   "id": "e1294c0c",
   "metadata": {
    "scrolled": false
   },
   "outputs": [
    {
     "data": {
      "image/png": "[encoded data removed]",
      "text/plain": [
       "<Figure size 864x432 with 2 Axes>"
      ]
     },
     "metadata": {
      "needs_background": "light"
     },
     "output_type": "display_data"
    },
    {
     "data": {
      "text/html": [
       "<div>\n",
       "<style scoped>\n",
       "    .dataframe tbody tr th:only-of-type {\n",
       "        vertical-align: middle;\n",
       "    }\n",
       "\n",
       "    .dataframe tbody tr th {\n",
       "        vertical-align: top;\n",
       "    }\n",
       "\n",
       "    .dataframe thead tr th {\n",
       "        text-align: left;\n",
       "    }\n",
       "\n",
       "    .dataframe thead tr:last-of-type th {\n",
       "        text-align: right;\n",
       "    }\n",
       "</style>\n",
       "<table border=\"1\" class=\"dataframe\">\n",
       "  <thead>\n",
       "    <tr>\n",
       "      <th></th>\n",
       "      <th>median</th>\n",
       "      <th>mean</th>\n",
       "      <th>std</th>\n",
       "      <th>var</th>\n",
       "    </tr>\n",
       "    <tr>\n",
       "      <th></th>\n",
       "      <th>profit</th>\n",
       "      <th>profit</th>\n",
       "      <th>profit</th>\n",
       "      <th>profit</th>\n",
       "    </tr>\n",
       "    <tr>\n",
       "      <th>tariff</th>\n",
       "      <th></th>\n",
       "      <th></th>\n",
       "      <th></th>\n",
       "      <th></th>\n",
       "    </tr>\n",
       "  </thead>\n",
       "  <tbody>\n",
       "    <tr>\n",
       "      <td>smart</td>\n",
       "      <td>962</td>\n",
       "      <td>1257.588605</td>\n",
       "      <td>800.915599</td>\n",
       "      <td>641465.797016</td>\n",
       "    </tr>\n",
       "    <tr>\n",
       "      <td>ultra</td>\n",
       "      <td>1950</td>\n",
       "      <td>2070.152284</td>\n",
       "      <td>376.187114</td>\n",
       "      <td>141516.745079</td>\n",
       "    </tr>\n",
       "  </tbody>\n",
       "</table>\n",
       "</div>"
      ],
      "text/plain": [
       "       median         mean         std            var\n",
       "       profit       profit      profit         profit\n",
       "tariff                                               \n",
       "smart     962  1257.588605  800.915599  641465.797016\n",
       "ultra    1950  2070.152284  376.187114  141516.745079"
      ]
     },
     "metadata": {},
     "output_type": "display_data"
    }
   ],
   "source": [
    "info_tariff(\"profit\",\"Распределение ежемесячного дохода по тарифам\",\"Доход (руб)\")"
   ]
  },
  {
   "cell_type": "code",
   "execution_count": 61,
   "id": "5951c89e",
   "metadata": {},
   "outputs": [
    {
     "data": {
      "text/html": [
       "<div>\n",
       "<style scoped>\n",
       "    .dataframe tbody tr th:only-of-type {\n",
       "        vertical-align: middle;\n",
       "    }\n",
       "\n",
       "    .dataframe tbody tr th {\n",
       "        vertical-align: top;\n",
       "    }\n",
       "\n",
       "    .dataframe thead th {\n",
       "        text-align: right;\n",
       "    }\n",
       "</style>\n",
       "<table border=\"1\" class=\"dataframe\">\n",
       "  <thead>\n",
       "    <tr style=\"text-align: right;\">\n",
       "      <th></th>\n",
       "      <th>profit</th>\n",
       "    </tr>\n",
       "    <tr>\n",
       "      <th>tariff</th>\n",
       "      <th></th>\n",
       "    </tr>\n",
       "  </thead>\n",
       "  <tbody>\n",
       "    <tr>\n",
       "      <td>smart</td>\n",
       "      <td>2803165</td>\n",
       "    </tr>\n",
       "    <tr>\n",
       "      <td>ultra</td>\n",
       "      <td>2039100</td>\n",
       "    </tr>\n",
       "  </tbody>\n",
       "</table>\n",
       "</div>"
      ],
      "text/plain": [
       "         profit\n",
       "tariff         \n",
       "smart   2803165\n",
       "ultra   2039100"
      ]
     },
     "metadata": {},
     "output_type": "display_data"
    }
   ],
   "source": [
    "display(df_all_users.pivot_table(index = 'tariff',\n",
    "                         values = 'profit',\n",
    "                         aggfunc = 'sum'))"
   ]
  },
  {
   "cell_type": "markdown",
   "id": "af72768a",
   "metadata": {},
   "source": [
    "Пики по доходам в значениях равных абонентской плате по каждому тарифу."
   ]
  },
  {
   "cell_type": "markdown",
   "id": "0d0d7e7f",
   "metadata": {},
   "source": [
    "- распределения с обрывом слева\n",
    "- по тарифу smart распределение более скошено вправо\n",
    "- по тарифу smart существенно больше стандартное отклонение и дисперсия\n",
    "- по тарифу ultra, единичные случаи, когда клиенты не укладываются в лимиты и именно по интернет траффику, исходя из предыдущего анализа.  \n",
    "- по тарифу smart, большинство клиентов не укладываются в лимиты и переплачивают за продление услуг."
   ]
  },
  {
   "cell_type": "markdown",
   "id": "d619690a",
   "metadata": {},
   "source": [
    "**Вывод:**\n",
    "В среднем пользователям тарифа smart требуется:\n",
    "- 398 минут в месяц (хватает лимита тарифа)\n",
    "- 28 сообщений (хватает лимита тарифа)\n",
    "- 17 Гб (не хватает лимита тарифа)\n",
    "\n",
    "В среднем пользователям тарифа ultra требуется:\n",
    "- 489 минут в месяц (хватает лимита тарифа)\n",
    "- 38 сообщений (хватает лимита тарифа)\n",
    "- 19 Гб (хватает лимита тарифа)\n",
    "\n",
    "Стоит отметить, что по среднему расходу (по звонкам и сообщениям) пользователи тарифа ultra укладывались бы и в лимиты по более дешевому тарифу smart.  \n"
   ]
  },
  {
   "cell_type": "markdown",
   "id": "9f1261bc",
   "metadata": {},
   "source": [
    "## Проверка гипотез"
   ]
  },
  {
   "cell_type": "markdown",
   "id": "84de9467",
   "metadata": {},
   "source": [
    "**Проверить:** средняя выручка пользователей тарифов «Ультра» и «Смарт» различаются;"
   ]
  },
  {
   "cell_type": "markdown",
   "id": "cdaf3e7a",
   "metadata": {},
   "source": [
    "**Нулевая гипотеза:** средняя выручка пользователей тарифов «Ультра» и «Смарт» одинаковая."
   ]
  },
  {
   "cell_type": "markdown",
   "id": "7e9167e9",
   "metadata": {},
   "source": [
    "**Альтернативная гипотеза:** средняя выручка пользователей тарифов «Ультра» и «Смарт» разная."
   ]
  },
  {
   "cell_type": "markdown",
   "id": "95ed5e48",
   "metadata": {},
   "source": [
    "Гипотеза двусторонняя."
   ]
  },
  {
   "cell_type": "markdown",
   "id": "7fabbaee",
   "metadata": {},
   "source": [
    "Имеются 2 выборки. Чтобы проверить гипотезу о равенстве средних двух генеральных совокупностей по тарифам \"Ультра\" и \"Смарт\" выборки должны удовлетворять следующим условиям:\n",
    "\n",
    "    - совокупности, а значит и выборки независимы\n",
    "    - выборки должны быть распределены нормально если они маленькие (<30), или быть достаточно большими, тогда нормальное распределение не обязательно\n",
    "    - учесть равны ли дисперсии"
   ]
  },
  {
   "cell_type": "markdown",
   "id": "46b71d65",
   "metadata": {},
   "source": [
    "**Выборки независимы**, предполагаем, что компания не может подключить одного пользователя к нескольким тарифам.\n",
    "\n",
    "**Размеры выборок** выборки отличаются более чем в 2 раза 350 и 148, но их размеры достаточные для проверки гипотезы\n",
    "\n",
    "**Дисперсия выборок** существенно отличаются 141516 и 641465, это учтём при проверки гипотезы"
   ]
  },
  {
   "cell_type": "code",
   "execution_count": 62,
   "id": "6d90a72a",
   "metadata": {},
   "outputs": [],
   "source": [
    "#функция для проверки гипотезы о среднем двух выборок\n",
    "def ttest(list_1, list_2, alpha, equal_var=True):\n",
    "    results = st.ttest_ind(list_1, list_2,equal_var = equal_var)\n",
    "    print(f'p-value = {results.pvalue}, alpha = {alpha}')\n",
    "    if results.pvalue > alpha:\n",
    "        print('Нулевую гипотезу отвергать нельзя')\n",
    "    else:\n",
    "        print('Нулевую гипотезу можно отвергнуть и не отвергать альтернативную гипотезу')"
   ]
  },
  {
   "cell_type": "code",
   "execution_count": 63,
   "id": "5b3cc9b5",
   "metadata": {
    "scrolled": true
   },
   "outputs": [
    {
     "data": {
      "text/plain": [
       "tariff\n",
       "smart    2229\n",
       "ultra     985\n",
       "Name: user_id, dtype: int64"
      ]
     },
     "execution_count": 63,
     "metadata": {},
     "output_type": "execute_result"
    }
   ],
   "source": [
    "df_all_users.groupby('tariff')['user_id'].count()"
   ]
  },
  {
   "cell_type": "code",
   "execution_count": 64,
   "id": "6657889a",
   "metadata": {},
   "outputs": [
    {
     "data": {
      "text/html": [
       "<div>\n",
       "<style scoped>\n",
       "    .dataframe tbody tr th:only-of-type {\n",
       "        vertical-align: middle;\n",
       "    }\n",
       "\n",
       "    .dataframe tbody tr th {\n",
       "        vertical-align: top;\n",
       "    }\n",
       "\n",
       "    .dataframe thead th {\n",
       "        text-align: right;\n",
       "    }\n",
       "</style>\n",
       "<table border=\"1\" class=\"dataframe\">\n",
       "  <thead>\n",
       "    <tr style=\"text-align: right;\">\n",
       "      <th></th>\n",
       "      <th>profit</th>\n",
       "    </tr>\n",
       "    <tr>\n",
       "      <th>tariff</th>\n",
       "      <th></th>\n",
       "    </tr>\n",
       "  </thead>\n",
       "  <tbody>\n",
       "    <tr>\n",
       "      <td>smart</td>\n",
       "      <td>641465.797016</td>\n",
       "    </tr>\n",
       "    <tr>\n",
       "      <td>ultra</td>\n",
       "      <td>141516.745079</td>\n",
       "    </tr>\n",
       "  </tbody>\n",
       "</table>\n",
       "</div>"
      ],
      "text/plain": [
       "               profit\n",
       "tariff               \n",
       "smart   641465.797016\n",
       "ultra   141516.745079"
      ]
     },
     "metadata": {},
     "output_type": "display_data"
    }
   ],
   "source": [
    "display(df_all_users.pivot_table(index = 'tariff',\n",
    "                         values = 'profit',\n",
    "                         aggfunc = 'var'))"
   ]
  },
  {
   "cell_type": "markdown",
   "id": "c1a6b9b2",
   "metadata": {},
   "source": [
    "Выборки подходят для проведения t-test, но из-за различия их размеров и дисперсий, параметр equal_var сделаем False"
   ]
  },
  {
   "cell_type": "code",
   "execution_count": 65,
   "id": "1c906c52",
   "metadata": {},
   "outputs": [
    {
     "name": "stdout",
     "output_type": "stream",
     "text": [
      "p-value = 6.179723168444486e-274, alpha = 0.05\n",
      "Нулевую гипотезу можно отвергнуть и не отвергать альтернативную гипотезу\n"
     ]
    }
   ],
   "source": [
    "profit_tariff_ultra = df_all_users.query('tariff == \"ultra\"')['profit']\n",
    "profit_tariff_smart = df_all_users.query('tariff == \"smart\"')['profit']\n",
    "\n",
    "ttest(list_1 = profit_tariff_ultra,\n",
    "      list_2 = profit_tariff_smart,\n",
    "      alpha = 0.05,\n",
    "      equal_var=False)\n",
    "        \n",
    "    \n",
    "  "
   ]
  },
  {
   "cell_type": "markdown",
   "id": "7aff8069",
   "metadata": {},
   "source": [
    "**Вывод:** гипотеза \"Средняя выручка пользователей тарифов «Ультра» и «Смарт» различаются\" не может быть отвергнута"
   ]
  },
  {
   "cell_type": "markdown",
   "id": "d69cfc5b",
   "metadata": {},
   "source": [
    "**Проверить:** средняя выручка пользователей из Москвы отличается от выручки пользователей из других регионов."
   ]
  },
  {
   "cell_type": "markdown",
   "id": "d1494ae9",
   "metadata": {},
   "source": [
    "**Нулевая гипотеза:** средняя выручка пользователей из Москвы и из других регионов одинаковая."
   ]
  },
  {
   "cell_type": "markdown",
   "id": "7e974998",
   "metadata": {},
   "source": [
    "**Альтернативная гипотеза:** средняя выручка пользователей из Москвы и из других регионов разная."
   ]
  },
  {
   "cell_type": "markdown",
   "id": "1425ccf5",
   "metadata": {},
   "source": [
    "Гипотеза двусторонняя"
   ]
  },
  {
   "cell_type": "markdown",
   "id": "7724b401",
   "metadata": {},
   "source": [
    "Проверим выполняются ли условия для проведения t-test"
   ]
  },
  {
   "cell_type": "code",
   "execution_count": 66,
   "id": "f56acee0",
   "metadata": {
    "scrolled": true
   },
   "outputs": [
    {
     "name": "stdout",
     "output_type": "stream",
     "text": [
      "Количество в Москве 611\n",
      "Количество в других регионах 2603\n"
     ]
    }
   ],
   "source": [
    "df_city_moscow = df_all_users.query('city == \"Москва\"')\n",
    "df_city_other = df_all_users.query('city != \"Москва\"')\n",
    "count_moscow = df_city_moscow['profit'].count()\n",
    "count_other = df_city_other['profit'].count()\n",
    "print(f'Количество в Москве {count_moscow}')\n",
    "print(f'Количество в других регионах {count_other}')"
   ]
  },
  {
   "cell_type": "code",
   "execution_count": 67,
   "id": "262ab4ff",
   "metadata": {
    "scrolled": true
   },
   "outputs": [
    {
     "name": "stdout",
     "output_type": "stream",
     "text": [
      "Дисперсия выборки по Москве 562832.1982935794\n",
      "Дисперсия выборки по остальным регионам 644059.3108572472\n"
     ]
    }
   ],
   "source": [
    "city_moscow_var = df_city_moscow['profit'].var()\n",
    "city_other_var = df_city_other['profit'].var()\n",
    "print(f'Дисперсия выборки по Москве {city_moscow_var}')\n",
    "print(f'Дисперсия выборки по остальным регионам {city_other_var}')"
   ]
  },
  {
   "cell_type": "markdown",
   "id": "455db150",
   "metadata": {},
   "source": [
    "- выборки существенно отличаются, но достаточные для проведения ttest\n",
    "- дисперсии существенно отличаются\n",
    "- t-test можно проводить, но с equal_var = False"
   ]
  },
  {
   "cell_type": "code",
   "execution_count": 68,
   "id": "e6ae6a94",
   "metadata": {},
   "outputs": [
    {
     "name": "stdout",
     "output_type": "stream",
     "text": [
      "p-value = 0.46532858228722906, alpha = 0.05\n",
      "Нулевую гипотезу отвергать нельзя\n"
     ]
    }
   ],
   "source": [
    "ttest(list_1 = df_city_moscow['profit'],\n",
    "      list_2 = df_city_other['profit'],\n",
    "      alpha = 0.05,\n",
    "      equal_var = False\n",
    "     )"
   ]
  },
  {
   "cell_type": "markdown",
   "id": "959f401b",
   "metadata": {},
   "source": [
    "**Вывод:** гипотеза \"Cредняя выручка пользователей из Москвы отличается от выручки пользователей из других регионов\" может быть отвергнута"
   ]
  },
  {
   "cell_type": "markdown",
   "id": "82709b17",
   "metadata": {},
   "source": [
    "## Общий вывод"
   ]
  },
  {
   "cell_type": "code",
   "execution_count": 69,
   "id": "5f323a3b",
   "metadata": {},
   "outputs": [
    {
     "data": {
      "text/html": [
       "<div>\n",
       "<style scoped>\n",
       "    .dataframe tbody tr th:only-of-type {\n",
       "        vertical-align: middle;\n",
       "    }\n",
       "\n",
       "    .dataframe tbody tr th {\n",
       "        vertical-align: top;\n",
       "    }\n",
       "\n",
       "    .dataframe thead tr th {\n",
       "        text-align: left;\n",
       "    }\n",
       "\n",
       "    .dataframe thead tr:last-of-type th {\n",
       "        text-align: right;\n",
       "    }\n",
       "</style>\n",
       "<table border=\"1\" class=\"dataframe\">\n",
       "  <thead>\n",
       "    <tr>\n",
       "      <th></th>\n",
       "      <th colspan=\"4\" halign=\"left\">mean</th>\n",
       "      <th colspan=\"4\" halign=\"left\">sum</th>\n",
       "    </tr>\n",
       "    <tr>\n",
       "      <th></th>\n",
       "      <th>count_messages</th>\n",
       "      <th>profit</th>\n",
       "      <th>sum_duration</th>\n",
       "      <th>sum_session</th>\n",
       "      <th>count_messages</th>\n",
       "      <th>profit</th>\n",
       "      <th>sum_duration</th>\n",
       "      <th>sum_session</th>\n",
       "    </tr>\n",
       "    <tr>\n",
       "      <th>tariff</th>\n",
       "      <th></th>\n",
       "      <th></th>\n",
       "      <th></th>\n",
       "      <th></th>\n",
       "      <th></th>\n",
       "      <th></th>\n",
       "      <th></th>\n",
       "      <th></th>\n",
       "    </tr>\n",
       "  </thead>\n",
       "  <tbody>\n",
       "    <tr>\n",
       "      <td>smart</td>\n",
       "      <td>33.384029</td>\n",
       "      <td>1257.588605</td>\n",
       "      <td>394.922387</td>\n",
       "      <td>16.328847</td>\n",
       "      <td>74413</td>\n",
       "      <td>2803165</td>\n",
       "      <td>880282</td>\n",
       "      <td>36397</td>\n",
       "    </tr>\n",
       "    <tr>\n",
       "      <td>ultra</td>\n",
       "      <td>49.363452</td>\n",
       "      <td>2070.152284</td>\n",
       "      <td>497.547208</td>\n",
       "      <td>19.494416</td>\n",
       "      <td>48623</td>\n",
       "      <td>2039100</td>\n",
       "      <td>490084</td>\n",
       "      <td>19202</td>\n",
       "    </tr>\n",
       "  </tbody>\n",
       "</table>\n",
       "</div>"
      ],
      "text/plain": [
       "                 mean                                                  sum  \\\n",
       "       count_messages       profit sum_duration sum_session count_messages   \n",
       "tariff                                                                       \n",
       "smart       33.384029  1257.588605   394.922387   16.328847          74413   \n",
       "ultra       49.363452  2070.152284   497.547208   19.494416          48623   \n",
       "\n",
       "                                          \n",
       "         profit sum_duration sum_session  \n",
       "tariff                                    \n",
       "smart   2803165       880282       36397  \n",
       "ultra   2039100       490084       19202  "
      ]
     },
     "metadata": {},
     "output_type": "display_data"
    }
   ],
   "source": [
    "display(df_all_users.pivot_table(index = 'tariff',\n",
    "                         values = ['profit','count_messages','sum_duration','sum_session'],\n",
    "                         aggfunc = ['mean','sum']))\n"
   ]
  },
  {
   "cell_type": "markdown",
   "id": "3597aca1",
   "metadata": {},
   "source": [
    "- средние значения ежемесячного дохода по тарифам smart и ultra различны для всех абонентов\n",
    "- для данной выборки ежемесячный доход по тарифу ultra = 2070 больше, чем по тарифу smart = 1257, при этом пользователи в среднем по звонкам и смс укладывались бы в тариф smart. И переплачивали бы лишь за превышение лимита интернет трафика на 4 Гб, а это +800 руб по тарифу smart. \n",
    "- стоит отметить, что суммарно по тарифу smart больше доход за год, чем ultra, это связано с большим количеством пользователей подключенных к smart\n",
    "- неважно клиент из Москвы или нет"
   ]
  }
 ],
 "metadata": {
  "ExecuteTimeLog": [
   {
    "duration": 1506,
    "start_time": "2022-02-15T09:02:59.134Z"
   },
   {
    "duration": 26,
    "start_time": "2022-02-15T09:03:00.643Z"
   },
   {
    "duration": 33,
    "start_time": "2022-02-15T09:03:00.672Z"
   },
   {
    "duration": 30,
    "start_time": "2022-02-15T09:03:00.708Z"
   },
   {
    "duration": 462,
    "start_time": "2022-02-15T09:03:00.741Z"
   },
   {
    "duration": 8,
    "start_time": "2022-02-15T09:03:01.206Z"
   },
   {
    "duration": 7,
    "start_time": "2022-02-15T09:03:01.233Z"
   },
   {
    "duration": 9,
    "start_time": "2022-02-15T09:03:01.244Z"
   },
   {
    "duration": 220,
    "start_time": "2022-02-15T09:03:01.256Z"
   },
   {
    "duration": 27,
    "start_time": "2022-02-15T09:03:01.479Z"
   },
   {
    "duration": 28,
    "start_time": "2022-02-15T09:03:01.508Z"
   },
   {
    "duration": 54,
    "start_time": "2022-02-15T09:03:01.539Z"
   },
   {
    "duration": 41,
    "start_time": "2022-02-15T09:03:01.596Z"
   },
   {
    "duration": 16,
    "start_time": "2022-02-15T09:03:01.640Z"
   },
   {
    "duration": 147,
    "start_time": "2022-02-15T09:03:01.659Z"
   },
   {
    "duration": 191,
    "start_time": "2022-02-15T09:03:01.809Z"
   },
   {
    "duration": 30,
    "start_time": "2022-02-15T09:03:02.002Z"
   },
   {
    "duration": 16,
    "start_time": "2022-02-15T09:03:02.035Z"
   },
   {
    "duration": 80,
    "start_time": "2022-02-15T09:03:02.053Z"
   },
   {
    "duration": 15,
    "start_time": "2022-02-15T09:03:02.136Z"
   },
   {
    "duration": 41,
    "start_time": "2022-02-15T09:03:02.154Z"
   },
   {
    "duration": 135,
    "start_time": "2022-02-15T09:03:02.198Z"
   },
   {
    "duration": 18,
    "start_time": "2022-02-15T09:03:02.339Z"
   },
   {
    "duration": 34,
    "start_time": "2022-02-15T09:03:02.361Z"
   },
   {
    "duration": 85,
    "start_time": "2022-02-15T09:03:02.397Z"
   },
   {
    "duration": 22,
    "start_time": "2022-02-15T09:03:02.484Z"
   },
   {
    "duration": 41,
    "start_time": "2022-02-15T09:03:02.508Z"
   },
   {
    "duration": 153,
    "start_time": "2022-02-15T09:03:02.551Z"
   },
   {
    "duration": 58,
    "start_time": "2022-02-15T09:03:02.707Z"
   },
   {
    "duration": 33,
    "start_time": "2022-02-15T09:03:02.768Z"
   },
   {
    "duration": 51,
    "start_time": "2022-02-15T09:03:02.804Z"
   },
   {
    "duration": 11,
    "start_time": "2022-02-15T09:03:02.857Z"
   },
   {
    "duration": 6,
    "start_time": "2022-02-15T09:03:02.870Z"
   },
   {
    "duration": 15,
    "start_time": "2022-02-15T09:03:02.879Z"
   },
   {
    "duration": 42,
    "start_time": "2022-02-15T09:03:02.896Z"
   },
   {
    "duration": 34,
    "start_time": "2022-02-15T09:03:02.941Z"
   },
   {
    "duration": 67,
    "start_time": "2022-02-15T09:03:02.977Z"
   },
   {
    "duration": 38,
    "start_time": "2022-02-15T09:03:03.047Z"
   },
   {
    "duration": 44,
    "start_time": "2022-02-15T09:03:03.088Z"
   },
   {
    "duration": 16,
    "start_time": "2022-02-15T09:03:03.135Z"
   },
   {
    "duration": 14,
    "start_time": "2022-02-15T09:03:03.153Z"
   },
   {
    "duration": 33,
    "start_time": "2022-02-15T09:03:03.170Z"
   },
   {
    "duration": 364,
    "start_time": "2022-02-15T09:03:03.206Z"
   },
   {
    "duration": 16,
    "start_time": "2022-02-15T09:03:03.573Z"
   },
   {
    "duration": 13,
    "start_time": "2022-02-15T09:03:03.592Z"
   },
   {
    "duration": 32,
    "start_time": "2022-02-15T09:03:03.608Z"
   },
   {
    "duration": 7,
    "start_time": "2022-02-15T09:03:03.643Z"
   },
   {
    "duration": 27,
    "start_time": "2022-02-15T09:03:03.652Z"
   },
   {
    "duration": 12,
    "start_time": "2022-02-15T09:03:03.683Z"
   },
   {
    "duration": 44,
    "start_time": "2022-02-15T09:03:03.698Z"
   },
   {
    "duration": 13,
    "start_time": "2022-02-15T09:03:03.745Z"
   },
   {
    "duration": 71,
    "start_time": "2022-02-15T09:03:03.761Z"
   },
   {
    "duration": 6,
    "start_time": "2022-02-15T09:03:03.835Z"
   },
   {
    "duration": 424,
    "start_time": "2022-02-15T09:03:03.843Z"
   },
   {
    "duration": 7,
    "start_time": "2022-02-15T09:03:04.269Z"
   },
   {
    "duration": 1112,
    "start_time": "2022-02-15T09:03:04.278Z"
   },
   {
    "duration": 341,
    "start_time": "2022-02-15T09:03:05.051Z"
   },
   {
    "duration": 328,
    "start_time": "2022-02-15T09:03:05.066Z"
   },
   {
    "duration": 323,
    "start_time": "2022-02-15T09:03:05.072Z"
   },
   {
    "duration": 321,
    "start_time": "2022-02-15T09:03:05.076Z"
   },
   {
    "duration": 317,
    "start_time": "2022-02-15T09:03:05.081Z"
   },
   {
    "duration": 314,
    "start_time": "2022-02-15T09:03:05.086Z"
   },
   {
    "duration": 310,
    "start_time": "2022-02-15T09:03:05.091Z"
   },
   {
    "duration": 298,
    "start_time": "2022-02-15T09:03:05.105Z"
   },
   {
    "duration": 322,
    "start_time": "2022-02-15T09:03:05.110Z"
   },
   {
    "duration": 319,
    "start_time": "2022-02-15T09:03:05.115Z"
   },
   {
    "duration": 315,
    "start_time": "2022-02-15T09:03:05.120Z"
   },
   {
    "duration": 312,
    "start_time": "2022-02-15T09:03:05.125Z"
   },
   {
    "duration": 4291,
    "start_time": "2022-02-15T09:06:20.590Z"
   },
   {
    "duration": 1491,
    "start_time": "2022-02-15T09:07:02.181Z"
   },
   {
    "duration": 3194,
    "start_time": "2022-02-15T09:07:03.675Z"
   },
   {
    "duration": 30,
    "start_time": "2022-02-15T09:07:06.873Z"
   },
   {
    "duration": 20,
    "start_time": "2022-02-15T09:07:06.905Z"
   },
   {
    "duration": 19,
    "start_time": "2022-02-15T09:07:06.927Z"
   },
   {
    "duration": 396,
    "start_time": "2022-02-15T09:07:06.948Z"
   },
   {
    "duration": 8,
    "start_time": "2022-02-15T09:07:07.347Z"
   },
   {
    "duration": 10,
    "start_time": "2022-02-15T09:07:07.357Z"
   },
   {
    "duration": 5,
    "start_time": "2022-02-15T09:07:07.372Z"
   },
   {
    "duration": 231,
    "start_time": "2022-02-15T09:07:07.380Z"
   },
   {
    "duration": 35,
    "start_time": "2022-02-15T09:07:07.614Z"
   },
   {
    "duration": 9,
    "start_time": "2022-02-15T09:07:07.653Z"
   },
   {
    "duration": 69,
    "start_time": "2022-02-15T09:07:07.664Z"
   },
   {
    "duration": 38,
    "start_time": "2022-02-15T09:07:07.736Z"
   },
   {
    "duration": 17,
    "start_time": "2022-02-15T09:07:07.777Z"
   },
   {
    "duration": 152,
    "start_time": "2022-02-15T09:07:07.797Z"
   },
   {
    "duration": 170,
    "start_time": "2022-02-15T09:07:07.951Z"
   },
   {
    "duration": 28,
    "start_time": "2022-02-15T09:07:08.123Z"
   },
   {
    "duration": 13,
    "start_time": "2022-02-15T09:07:08.153Z"
   },
   {
    "duration": 29,
    "start_time": "2022-02-15T09:07:08.168Z"
   },
   {
    "duration": 45,
    "start_time": "2022-02-15T09:07:08.199Z"
   },
   {
    "duration": 31,
    "start_time": "2022-02-15T09:07:08.247Z"
   },
   {
    "duration": 136,
    "start_time": "2022-02-15T09:07:08.280Z"
   },
   {
    "duration": 21,
    "start_time": "2022-02-15T09:07:08.418Z"
   },
   {
    "duration": 33,
    "start_time": "2022-02-15T09:07:08.442Z"
   },
   {
    "duration": 75,
    "start_time": "2022-02-15T09:07:08.478Z"
   },
   {
    "duration": 20,
    "start_time": "2022-02-15T09:07:08.560Z"
   },
   {
    "duration": 11,
    "start_time": "2022-02-15T09:07:08.584Z"
   },
   {
    "duration": 157,
    "start_time": "2022-02-15T09:07:08.598Z"
   },
   {
    "duration": 38,
    "start_time": "2022-02-15T09:07:08.757Z"
   },
   {
    "duration": 49,
    "start_time": "2022-02-15T09:07:08.798Z"
   },
   {
    "duration": 28,
    "start_time": "2022-02-15T09:07:08.849Z"
   },
   {
    "duration": 12,
    "start_time": "2022-02-15T09:07:08.879Z"
   },
   {
    "duration": 5,
    "start_time": "2022-02-15T09:07:08.893Z"
   },
   {
    "duration": 36,
    "start_time": "2022-02-15T09:07:08.900Z"
   },
   {
    "duration": 10,
    "start_time": "2022-02-15T09:07:08.938Z"
   },
   {
    "duration": 31,
    "start_time": "2022-02-15T09:07:08.950Z"
   },
   {
    "duration": 65,
    "start_time": "2022-02-15T09:07:08.984Z"
   },
   {
    "duration": 38,
    "start_time": "2022-02-15T09:07:09.051Z"
   },
   {
    "duration": 41,
    "start_time": "2022-02-15T09:07:09.091Z"
   },
   {
    "duration": 15,
    "start_time": "2022-02-15T09:07:09.134Z"
   },
   {
    "duration": 13,
    "start_time": "2022-02-15T09:07:09.152Z"
   },
   {
    "duration": 26,
    "start_time": "2022-02-15T09:07:09.168Z"
   },
   {
    "duration": 356,
    "start_time": "2022-02-15T09:07:09.197Z"
   },
   {
    "duration": 20,
    "start_time": "2022-02-15T09:07:09.556Z"
   },
   {
    "duration": 9,
    "start_time": "2022-02-15T09:07:09.579Z"
   },
   {
    "duration": 9,
    "start_time": "2022-02-15T09:07:09.591Z"
   },
   {
    "duration": 4,
    "start_time": "2022-02-15T09:07:09.633Z"
   },
   {
    "duration": 18,
    "start_time": "2022-02-15T09:07:09.639Z"
   },
   {
    "duration": 8,
    "start_time": "2022-02-15T09:07:09.660Z"
   },
   {
    "duration": 8,
    "start_time": "2022-02-15T09:07:09.670Z"
   },
   {
    "duration": 11,
    "start_time": "2022-02-15T09:07:09.680Z"
   },
   {
    "duration": 41,
    "start_time": "2022-02-15T09:07:09.733Z"
   },
   {
    "duration": 5,
    "start_time": "2022-02-15T09:07:09.777Z"
   },
   {
    "duration": 408,
    "start_time": "2022-02-15T09:07:09.785Z"
   },
   {
    "duration": 7,
    "start_time": "2022-02-15T09:07:10.195Z"
   },
   {
    "duration": 1063,
    "start_time": "2022-02-15T09:07:10.204Z"
   },
   {
    "duration": 1008,
    "start_time": "2022-02-15T09:07:11.269Z"
   },
   {
    "duration": 1055,
    "start_time": "2022-02-15T09:07:12.280Z"
   },
   {
    "duration": 965,
    "start_time": "2022-02-15T09:07:13.337Z"
   },
   {
    "duration": 30,
    "start_time": "2022-02-15T09:07:14.304Z"
   },
   {
    "duration": 7,
    "start_time": "2022-02-15T09:07:14.336Z"
   },
   {
    "duration": 10,
    "start_time": "2022-02-15T09:07:14.345Z"
   },
   {
    "duration": 17,
    "start_time": "2022-02-15T09:07:14.358Z"
   },
   {
    "duration": 397,
    "start_time": "2022-02-15T09:07:14.378Z"
   },
   {
    "duration": 365,
    "start_time": "2022-02-15T09:07:14.412Z"
   },
   {
    "duration": 363,
    "start_time": "2022-02-15T09:07:14.416Z"
   },
   {
    "duration": 359,
    "start_time": "2022-02-15T09:07:14.421Z"
   },
   {
    "duration": 356,
    "start_time": "2022-02-15T09:07:14.425Z"
   },
   {
    "duration": 4,
    "start_time": "2022-02-15T09:07:21.109Z"
   },
   {
    "duration": 3153,
    "start_time": "2022-02-15T09:07:22.568Z"
   },
   {
    "duration": 33,
    "start_time": "2022-02-15T09:07:39.446Z"
   },
   {
    "duration": 18,
    "start_time": "2022-02-15T09:07:39.482Z"
   },
   {
    "duration": 31,
    "start_time": "2022-02-15T09:07:39.504Z"
   },
   {
    "duration": 367,
    "start_time": "2022-02-15T09:07:39.539Z"
   },
   {
    "duration": 10,
    "start_time": "2022-02-15T09:07:39.910Z"
   },
   {
    "duration": 9,
    "start_time": "2022-02-15T09:07:39.933Z"
   },
   {
    "duration": 13,
    "start_time": "2022-02-15T09:07:39.944Z"
   },
   {
    "duration": 216,
    "start_time": "2022-02-15T09:07:39.960Z"
   },
   {
    "duration": 28,
    "start_time": "2022-02-15T09:07:40.179Z"
   },
   {
    "duration": 27,
    "start_time": "2022-02-15T09:07:40.210Z"
   },
   {
    "duration": 39,
    "start_time": "2022-02-15T09:07:40.239Z"
   },
   {
    "duration": 56,
    "start_time": "2022-02-15T09:07:40.280Z"
   },
   {
    "duration": 15,
    "start_time": "2022-02-15T09:07:40.338Z"
   },
   {
    "duration": 156,
    "start_time": "2022-02-15T09:07:40.356Z"
   },
   {
    "duration": 175,
    "start_time": "2022-02-15T09:07:40.515Z"
   },
   {
    "duration": 22,
    "start_time": "2022-02-15T09:07:40.692Z"
   },
   {
    "duration": 11,
    "start_time": "2022-02-15T09:07:40.732Z"
   },
   {
    "duration": 27,
    "start_time": "2022-02-15T09:07:40.745Z"
   },
   {
    "duration": 16,
    "start_time": "2022-02-15T09:07:40.775Z"
   },
   {
    "duration": 58,
    "start_time": "2022-02-15T09:07:40.793Z"
   },
   {
    "duration": 129,
    "start_time": "2022-02-15T09:07:40.853Z"
   },
   {
    "duration": 19,
    "start_time": "2022-02-15T09:07:40.984Z"
   },
   {
    "duration": 51,
    "start_time": "2022-02-15T09:07:41.009Z"
   },
   {
    "duration": 47,
    "start_time": "2022-02-15T09:07:41.064Z"
   },
   {
    "duration": 22,
    "start_time": "2022-02-15T09:07:41.132Z"
   },
   {
    "duration": 10,
    "start_time": "2022-02-15T09:07:41.156Z"
   },
   {
    "duration": 156,
    "start_time": "2022-02-15T09:07:41.168Z"
   },
   {
    "duration": 36,
    "start_time": "2022-02-15T09:07:41.327Z"
   },
   {
    "duration": 32,
    "start_time": "2022-02-15T09:07:41.366Z"
   },
   {
    "duration": 53,
    "start_time": "2022-02-15T09:07:41.401Z"
   },
   {
    "duration": 11,
    "start_time": "2022-02-15T09:07:41.458Z"
   },
   {
    "duration": 12,
    "start_time": "2022-02-15T09:07:41.471Z"
   },
   {
    "duration": 15,
    "start_time": "2022-02-15T09:07:41.486Z"
   },
   {
    "duration": 32,
    "start_time": "2022-02-15T09:07:41.503Z"
   },
   {
    "duration": 30,
    "start_time": "2022-02-15T09:07:41.538Z"
   },
   {
    "duration": 31,
    "start_time": "2022-02-15T09:07:41.570Z"
   },
   {
    "duration": 62,
    "start_time": "2022-02-15T09:07:41.603Z"
   },
   {
    "duration": 16,
    "start_time": "2022-02-15T09:07:41.667Z"
   },
   {
    "duration": 29,
    "start_time": "2022-02-15T09:07:41.686Z"
   },
   {
    "duration": 11,
    "start_time": "2022-02-15T09:07:41.733Z"
   },
   {
    "duration": 46,
    "start_time": "2022-02-15T09:07:41.746Z"
   },
   {
    "duration": 332,
    "start_time": "2022-02-15T09:07:41.794Z"
   },
   {
    "duration": 17,
    "start_time": "2022-02-15T09:07:42.132Z"
   },
   {
    "duration": 24,
    "start_time": "2022-02-15T09:07:42.152Z"
   },
   {
    "duration": 13,
    "start_time": "2022-02-15T09:07:42.179Z"
   },
   {
    "duration": 17,
    "start_time": "2022-02-15T09:07:42.195Z"
   },
   {
    "duration": 30,
    "start_time": "2022-02-15T09:07:42.215Z"
   },
   {
    "duration": 12,
    "start_time": "2022-02-15T09:07:42.247Z"
   },
   {
    "duration": 26,
    "start_time": "2022-02-15T09:07:42.262Z"
   },
   {
    "duration": 27,
    "start_time": "2022-02-15T09:07:42.291Z"
   },
   {
    "duration": 54,
    "start_time": "2022-02-15T09:07:42.321Z"
   },
   {
    "duration": 6,
    "start_time": "2022-02-15T09:07:42.377Z"
   },
   {
    "duration": 403,
    "start_time": "2022-02-15T09:07:42.386Z"
   },
   {
    "duration": 8,
    "start_time": "2022-02-15T09:07:42.792Z"
   },
   {
    "duration": 1068,
    "start_time": "2022-02-15T09:07:42.803Z"
   },
   {
    "duration": 1016,
    "start_time": "2022-02-15T09:07:43.874Z"
   },
   {
    "duration": 1050,
    "start_time": "2022-02-15T09:07:44.892Z"
   },
   {
    "duration": 993,
    "start_time": "2022-02-15T09:07:45.945Z"
   },
   {
    "duration": 18,
    "start_time": "2022-02-15T09:07:46.940Z"
   },
   {
    "duration": 7,
    "start_time": "2022-02-15T09:07:46.960Z"
   },
   {
    "duration": 10,
    "start_time": "2022-02-15T09:07:46.969Z"
   },
   {
    "duration": 18,
    "start_time": "2022-02-15T09:07:46.981Z"
   },
   {
    "duration": 274,
    "start_time": "2022-02-15T09:07:47.033Z"
   },
   {
    "duration": 352,
    "start_time": "2022-02-15T09:07:46.957Z"
   },
   {
    "duration": 349,
    "start_time": "2022-02-15T09:07:46.962Z"
   },
   {
    "duration": 345,
    "start_time": "2022-02-15T09:07:46.967Z"
   },
   {
    "duration": 343,
    "start_time": "2022-02-15T09:07:46.971Z"
   },
   {
    "duration": 253,
    "start_time": "2022-02-15T09:08:01.383Z"
   },
   {
    "duration": 19,
    "start_time": "2022-02-15T09:08:06.502Z"
   },
   {
    "duration": 15,
    "start_time": "2022-02-15T09:08:25.291Z"
   },
   {
    "duration": 14,
    "start_time": "2022-02-15T09:08:29.897Z"
   },
   {
    "duration": 6,
    "start_time": "2022-02-15T09:08:29.913Z"
   },
   {
    "duration": 7,
    "start_time": "2022-02-15T09:08:29.922Z"
   },
   {
    "duration": 37,
    "start_time": "2022-02-15T09:08:29.932Z"
   },
   {
    "duration": 1620,
    "start_time": "2022-02-15T09:08:39.435Z"
   },
   {
    "duration": 3265,
    "start_time": "2022-02-15T09:08:41.058Z"
   },
   {
    "duration": 31,
    "start_time": "2022-02-15T09:08:44.326Z"
   },
   {
    "duration": 18,
    "start_time": "2022-02-15T09:08:44.360Z"
   },
   {
    "duration": 12,
    "start_time": "2022-02-15T09:08:44.381Z"
   },
   {
    "duration": 312,
    "start_time": "2022-02-15T09:08:44.395Z"
   },
   {
    "duration": 9,
    "start_time": "2022-02-15T09:08:44.709Z"
   },
   {
    "duration": 16,
    "start_time": "2022-02-15T09:08:44.721Z"
   },
   {
    "duration": 8,
    "start_time": "2022-02-15T09:08:44.740Z"
   },
   {
    "duration": 214,
    "start_time": "2022-02-15T09:08:44.750Z"
   },
   {
    "duration": 25,
    "start_time": "2022-02-15T09:08:44.967Z"
   },
   {
    "duration": 5,
    "start_time": "2022-02-15T09:08:44.995Z"
   },
   {
    "duration": 63,
    "start_time": "2022-02-15T09:08:45.004Z"
   },
   {
    "duration": 36,
    "start_time": "2022-02-15T09:08:45.069Z"
   },
   {
    "duration": 30,
    "start_time": "2022-02-15T09:08:45.107Z"
   },
   {
    "duration": 129,
    "start_time": "2022-02-15T09:08:45.139Z"
   },
   {
    "duration": 175,
    "start_time": "2022-02-15T09:08:45.270Z"
   },
   {
    "duration": 22,
    "start_time": "2022-02-15T09:08:45.447Z"
   },
   {
    "duration": 12,
    "start_time": "2022-02-15T09:08:45.472Z"
   },
   {
    "duration": 59,
    "start_time": "2022-02-15T09:08:45.486Z"
   },
   {
    "duration": 17,
    "start_time": "2022-02-15T09:08:45.547Z"
   },
   {
    "duration": 32,
    "start_time": "2022-02-15T09:08:45.566Z"
   },
   {
    "duration": 139,
    "start_time": "2022-02-15T09:08:45.604Z"
   },
   {
    "duration": 18,
    "start_time": "2022-02-15T09:08:45.747Z"
   },
   {
    "duration": 35,
    "start_time": "2022-02-15T09:08:45.768Z"
   },
   {
    "duration": 76,
    "start_time": "2022-02-15T09:08:45.805Z"
   },
   {
    "duration": 22,
    "start_time": "2022-02-15T09:08:45.883Z"
   },
   {
    "duration": 31,
    "start_time": "2022-02-15T09:08:45.907Z"
   },
   {
    "duration": 145,
    "start_time": "2022-02-15T09:08:45.941Z"
   },
   {
    "duration": 47,
    "start_time": "2022-02-15T09:08:46.088Z"
   },
   {
    "duration": 31,
    "start_time": "2022-02-15T09:08:46.137Z"
   },
   {
    "duration": 27,
    "start_time": "2022-02-15T09:08:46.170Z"
   },
   {
    "duration": 39,
    "start_time": "2022-02-15T09:08:46.200Z"
   },
   {
    "duration": 17,
    "start_time": "2022-02-15T09:08:46.241Z"
   },
   {
    "duration": 22,
    "start_time": "2022-02-15T09:08:46.260Z"
   },
   {
    "duration": 19,
    "start_time": "2022-02-15T09:08:46.284Z"
   },
   {
    "duration": 36,
    "start_time": "2022-02-15T09:08:46.305Z"
   },
   {
    "duration": 35,
    "start_time": "2022-02-15T09:08:46.343Z"
   },
   {
    "duration": 53,
    "start_time": "2022-02-15T09:08:46.381Z"
   },
   {
    "duration": 17,
    "start_time": "2022-02-15T09:08:46.436Z"
   },
   {
    "duration": 18,
    "start_time": "2022-02-15T09:08:46.456Z"
   },
   {
    "duration": 14,
    "start_time": "2022-02-15T09:08:46.477Z"
   },
   {
    "duration": 62,
    "start_time": "2022-02-15T09:08:46.493Z"
   },
   {
    "duration": 347,
    "start_time": "2022-02-15T09:08:46.557Z"
   },
   {
    "duration": 25,
    "start_time": "2022-02-15T09:08:46.907Z"
   },
   {
    "duration": 8,
    "start_time": "2022-02-15T09:08:46.934Z"
   },
   {
    "duration": 8,
    "start_time": "2022-02-15T09:08:46.945Z"
   },
   {
    "duration": 4,
    "start_time": "2022-02-15T09:08:46.955Z"
   },
   {
    "duration": 18,
    "start_time": "2022-02-15T09:08:46.962Z"
   },
   {
    "duration": 50,
    "start_time": "2022-02-15T09:08:46.982Z"
   },
   {
    "duration": 8,
    "start_time": "2022-02-15T09:08:47.034Z"
   },
   {
    "duration": 11,
    "start_time": "2022-02-15T09:08:47.044Z"
   },
   {
    "duration": 40,
    "start_time": "2022-02-15T09:08:47.058Z"
   },
   {
    "duration": 6,
    "start_time": "2022-02-15T09:08:47.132Z"
   },
   {
    "duration": 382,
    "start_time": "2022-02-15T09:08:47.141Z"
   },
   {
    "duration": 6,
    "start_time": "2022-02-15T09:08:47.532Z"
   },
   {
    "duration": 1016,
    "start_time": "2022-02-15T09:08:47.540Z"
   },
   {
    "duration": 1001,
    "start_time": "2022-02-15T09:08:48.558Z"
   },
   {
    "duration": 1001,
    "start_time": "2022-02-15T09:08:49.561Z"
   },
   {
    "duration": 1051,
    "start_time": "2022-02-15T09:08:50.564Z"
   },
   {
    "duration": 26,
    "start_time": "2022-02-15T09:08:51.618Z"
   },
   {
    "duration": 6,
    "start_time": "2022-02-15T09:08:51.646Z"
   },
   {
    "duration": 14,
    "start_time": "2022-02-15T09:08:51.655Z"
   },
   {
    "duration": 20,
    "start_time": "2022-02-15T09:08:51.671Z"
   },
   {
    "duration": 48,
    "start_time": "2022-02-15T09:08:51.694Z"
   },
   {
    "duration": 13,
    "start_time": "2022-02-15T09:08:51.744Z"
   },
   {
    "duration": 10,
    "start_time": "2022-02-15T09:08:51.760Z"
   },
   {
    "duration": 7,
    "start_time": "2022-02-15T09:08:51.777Z"
   },
   {
    "duration": 75,
    "start_time": "2022-02-15T09:08:51.786Z"
   }
  ],
  "kernelspec": {
   "display_name": "Python 3 (ipykernel)",
   "language": "python",
   "name": "python3"
  },
  "language_info": {
   "codemirror_mode": {
    "name": "ipython",
    "version": 3
   },
   "file_extension": ".py",
   "mimetype": "text/x-python",
   "name": "python",
   "nbconvert_exporter": "python",
   "pygments_lexer": "ipython3",
   "version": "3.9.12"
  },
  "toc": {
   "base_numbering": 1,
   "nav_menu": {},
   "number_sections": true,
   "sideBar": true,
   "skip_h1_title": true,
   "title_cell": "Table of Contents",
   "title_sidebar": "Contents",
   "toc_cell": false,
   "toc_position": {},
   "toc_section_display": true,
   "toc_window_display": false
  }
 },
 "nbformat": 4,
 "nbformat_minor": 5
}
