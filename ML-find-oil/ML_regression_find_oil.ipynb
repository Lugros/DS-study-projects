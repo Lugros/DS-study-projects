{
 "cells": [
  {
   "cell_type": "markdown",
   "metadata": {},
   "source": [
    "# Выбор локации для скважины"
   ]
  },
  {
   "cell_type": "markdown",
   "metadata": {},
   "source": [
    "Допустим, вы работаете в добывающей компании «ГлавРосГосНефть». Нужно решить, где бурить новую скважину.\n",
    "\n",
    "Вам предоставлены пробы нефти в трёх регионах: в каждом 10 000 месторождений, где измерили качество нефти и объём её запасов. Постройте модель машинного обучения, которая поможет определить регион, где добыча принесёт наибольшую прибыль. Проанализируйте возможную прибыль и риски техникой *Bootstrap.*\n",
    "\n",
    "Шаги для выбора локации:\n",
    "\n",
    "- В избранном регионе ищут месторождения, для каждого определяют значения признаков;\n",
    "- Строят модель и оценивают объём запасов;\n",
    "- Выбирают месторождения с самым высокими оценками значений. Количество месторождений зависит от бюджета компании и стоимости разработки одной скважины;\n",
    "- Прибыль равна суммарной прибыли отобранных месторождений."
   ]
  },
  {
   "cell_type": "markdown",
   "metadata": {},
   "source": [
    "## Загрузка и подготовка данных"
   ]
  },
  {
   "cell_type": "code",
   "execution_count": 1,
   "metadata": {},
   "outputs": [],
   "source": [
    "import pandas as pd\n",
    "import numpy as np\n",
    "\n",
    "from matplotlib.pyplot import show\n",
    "\n",
    "from sklearn.model_selection import train_test_split\n",
    "from sklearn.model_selection import cross_val_score\n",
    "\n",
    "from sklearn.linear_model import LinearRegression\n",
    "\n",
    "from sklearn.metrics import mean_squared_error"
   ]
  },
  {
   "cell_type": "code",
   "execution_count": 2,
   "metadata": {
    "scrolled": false
   },
   "outputs": [
    {
     "name": "stdout",
     "output_type": "stream",
     "text": [
      "В регионе 1\n"
     ]
    },
    {
     "data": {
      "text/html": [
       "<div>\n",
       "<style scoped>\n",
       "    .dataframe tbody tr th:only-of-type {\n",
       "        vertical-align: middle;\n",
       "    }\n",
       "\n",
       "    .dataframe tbody tr th {\n",
       "        vertical-align: top;\n",
       "    }\n",
       "\n",
       "    .dataframe thead th {\n",
       "        text-align: right;\n",
       "    }\n",
       "</style>\n",
       "<table border=\"1\" class=\"dataframe\">\n",
       "  <thead>\n",
       "    <tr style=\"text-align: right;\">\n",
       "      <th></th>\n",
       "      <th>id</th>\n",
       "      <th>f0</th>\n",
       "      <th>f1</th>\n",
       "      <th>f2</th>\n",
       "      <th>product</th>\n",
       "    </tr>\n",
       "  </thead>\n",
       "  <tbody>\n",
       "    <tr>\n",
       "      <th>0</th>\n",
       "      <td>txEyH</td>\n",
       "      <td>0.705745</td>\n",
       "      <td>-0.497823</td>\n",
       "      <td>1.221170</td>\n",
       "      <td>105.280062</td>\n",
       "    </tr>\n",
       "    <tr>\n",
       "      <th>1</th>\n",
       "      <td>2acmU</td>\n",
       "      <td>1.334711</td>\n",
       "      <td>-0.340164</td>\n",
       "      <td>4.365080</td>\n",
       "      <td>73.037750</td>\n",
       "    </tr>\n",
       "    <tr>\n",
       "      <th>2</th>\n",
       "      <td>409Wp</td>\n",
       "      <td>1.022732</td>\n",
       "      <td>0.151990</td>\n",
       "      <td>1.419926</td>\n",
       "      <td>85.265647</td>\n",
       "    </tr>\n",
       "    <tr>\n",
       "      <th>3</th>\n",
       "      <td>iJLyR</td>\n",
       "      <td>-0.032172</td>\n",
       "      <td>0.139033</td>\n",
       "      <td>2.978566</td>\n",
       "      <td>168.620776</td>\n",
       "    </tr>\n",
       "    <tr>\n",
       "      <th>4</th>\n",
       "      <td>Xdl7t</td>\n",
       "      <td>1.988431</td>\n",
       "      <td>0.155413</td>\n",
       "      <td>4.751769</td>\n",
       "      <td>154.036647</td>\n",
       "    </tr>\n",
       "  </tbody>\n",
       "</table>\n",
       "</div>"
      ],
      "text/plain": [
       "      id        f0        f1        f2     product\n",
       "0  txEyH  0.705745 -0.497823  1.221170  105.280062\n",
       "1  2acmU  1.334711 -0.340164  4.365080   73.037750\n",
       "2  409Wp  1.022732  0.151990  1.419926   85.265647\n",
       "3  iJLyR -0.032172  0.139033  2.978566  168.620776\n",
       "4  Xdl7t  1.988431  0.155413  4.751769  154.036647"
      ]
     },
     "metadata": {},
     "output_type": "display_data"
    },
    {
     "name": "stdout",
     "output_type": "stream",
     "text": [
      "<class 'pandas.core.frame.DataFrame'>\n",
      "RangeIndex: 100000 entries, 0 to 99999\n",
      "Data columns (total 5 columns):\n",
      " #   Column   Non-Null Count   Dtype  \n",
      "---  ------   --------------   -----  \n",
      " 0   id       100000 non-null  object \n",
      " 1   f0       100000 non-null  float64\n",
      " 2   f1       100000 non-null  float64\n",
      " 3   f2       100000 non-null  float64\n",
      " 4   product  100000 non-null  float64\n",
      "dtypes: float64(4), object(1)\n",
      "memory usage: 3.8+ MB\n",
      "None\n",
      "                  f0             f1             f2        product\n",
      "count  100000.000000  100000.000000  100000.000000  100000.000000\n",
      "mean        0.500419       0.250143       2.502647      92.500000\n",
      "std         0.871832       0.504433       3.248248      44.288691\n",
      "min        -1.408605      -0.848218     -12.088328       0.000000\n",
      "25%        -0.072580      -0.200881       0.287748      56.497507\n",
      "50%         0.502360       0.250252       2.515969      91.849972\n",
      "75%         1.073581       0.700646       4.715088     128.564089\n",
      "max         2.362331       1.343769      16.003790     185.364347\n",
      "В регионе 2\n"
     ]
    },
    {
     "data": {
      "text/html": [
       "<div>\n",
       "<style scoped>\n",
       "    .dataframe tbody tr th:only-of-type {\n",
       "        vertical-align: middle;\n",
       "    }\n",
       "\n",
       "    .dataframe tbody tr th {\n",
       "        vertical-align: top;\n",
       "    }\n",
       "\n",
       "    .dataframe thead th {\n",
       "        text-align: right;\n",
       "    }\n",
       "</style>\n",
       "<table border=\"1\" class=\"dataframe\">\n",
       "  <thead>\n",
       "    <tr style=\"text-align: right;\">\n",
       "      <th></th>\n",
       "      <th>id</th>\n",
       "      <th>f0</th>\n",
       "      <th>f1</th>\n",
       "      <th>f2</th>\n",
       "      <th>product</th>\n",
       "    </tr>\n",
       "  </thead>\n",
       "  <tbody>\n",
       "    <tr>\n",
       "      <th>0</th>\n",
       "      <td>kBEdx</td>\n",
       "      <td>-15.001348</td>\n",
       "      <td>-8.276000</td>\n",
       "      <td>-0.005876</td>\n",
       "      <td>3.179103</td>\n",
       "    </tr>\n",
       "    <tr>\n",
       "      <th>1</th>\n",
       "      <td>62mP7</td>\n",
       "      <td>14.272088</td>\n",
       "      <td>-3.475083</td>\n",
       "      <td>0.999183</td>\n",
       "      <td>26.953261</td>\n",
       "    </tr>\n",
       "    <tr>\n",
       "      <th>2</th>\n",
       "      <td>vyE1P</td>\n",
       "      <td>6.263187</td>\n",
       "      <td>-5.948386</td>\n",
       "      <td>5.001160</td>\n",
       "      <td>134.766305</td>\n",
       "    </tr>\n",
       "    <tr>\n",
       "      <th>3</th>\n",
       "      <td>KcrkZ</td>\n",
       "      <td>-13.081196</td>\n",
       "      <td>-11.506057</td>\n",
       "      <td>4.999415</td>\n",
       "      <td>137.945408</td>\n",
       "    </tr>\n",
       "    <tr>\n",
       "      <th>4</th>\n",
       "      <td>AHL4O</td>\n",
       "      <td>12.702195</td>\n",
       "      <td>-8.147433</td>\n",
       "      <td>5.004363</td>\n",
       "      <td>134.766305</td>\n",
       "    </tr>\n",
       "  </tbody>\n",
       "</table>\n",
       "</div>"
      ],
      "text/plain": [
       "      id         f0         f1        f2     product\n",
       "0  kBEdx -15.001348  -8.276000 -0.005876    3.179103\n",
       "1  62mP7  14.272088  -3.475083  0.999183   26.953261\n",
       "2  vyE1P   6.263187  -5.948386  5.001160  134.766305\n",
       "3  KcrkZ -13.081196 -11.506057  4.999415  137.945408\n",
       "4  AHL4O  12.702195  -8.147433  5.004363  134.766305"
      ]
     },
     "metadata": {},
     "output_type": "display_data"
    },
    {
     "name": "stdout",
     "output_type": "stream",
     "text": [
      "<class 'pandas.core.frame.DataFrame'>\n",
      "RangeIndex: 100000 entries, 0 to 99999\n",
      "Data columns (total 5 columns):\n",
      " #   Column   Non-Null Count   Dtype  \n",
      "---  ------   --------------   -----  \n",
      " 0   id       100000 non-null  object \n",
      " 1   f0       100000 non-null  float64\n",
      " 2   f1       100000 non-null  float64\n",
      " 3   f2       100000 non-null  float64\n",
      " 4   product  100000 non-null  float64\n",
      "dtypes: float64(4), object(1)\n",
      "memory usage: 3.8+ MB\n",
      "None\n",
      "                  f0             f1             f2        product\n",
      "count  100000.000000  100000.000000  100000.000000  100000.000000\n",
      "mean        1.141296      -4.796579       2.494541      68.825000\n",
      "std         8.965932       5.119872       1.703572      45.944423\n",
      "min       -31.609576     -26.358598      -0.018144       0.000000\n",
      "25%        -6.298551      -8.267985       1.000021      26.953261\n",
      "50%         1.153055      -4.813172       2.011479      57.085625\n",
      "75%         8.621015      -1.332816       3.999904     107.813044\n",
      "max        29.421755      18.734063       5.019721     137.945408\n",
      "В регионе 3\n"
     ]
    },
    {
     "data": {
      "text/html": [
       "<div>\n",
       "<style scoped>\n",
       "    .dataframe tbody tr th:only-of-type {\n",
       "        vertical-align: middle;\n",
       "    }\n",
       "\n",
       "    .dataframe tbody tr th {\n",
       "        vertical-align: top;\n",
       "    }\n",
       "\n",
       "    .dataframe thead th {\n",
       "        text-align: right;\n",
       "    }\n",
       "</style>\n",
       "<table border=\"1\" class=\"dataframe\">\n",
       "  <thead>\n",
       "    <tr style=\"text-align: right;\">\n",
       "      <th></th>\n",
       "      <th>id</th>\n",
       "      <th>f0</th>\n",
       "      <th>f1</th>\n",
       "      <th>f2</th>\n",
       "      <th>product</th>\n",
       "    </tr>\n",
       "  </thead>\n",
       "  <tbody>\n",
       "    <tr>\n",
       "      <th>0</th>\n",
       "      <td>fwXo0</td>\n",
       "      <td>-1.146987</td>\n",
       "      <td>0.963328</td>\n",
       "      <td>-0.828965</td>\n",
       "      <td>27.758673</td>\n",
       "    </tr>\n",
       "    <tr>\n",
       "      <th>1</th>\n",
       "      <td>WJtFt</td>\n",
       "      <td>0.262778</td>\n",
       "      <td>0.269839</td>\n",
       "      <td>-2.530187</td>\n",
       "      <td>56.069697</td>\n",
       "    </tr>\n",
       "    <tr>\n",
       "      <th>2</th>\n",
       "      <td>ovLUW</td>\n",
       "      <td>0.194587</td>\n",
       "      <td>0.289035</td>\n",
       "      <td>-5.586433</td>\n",
       "      <td>62.871910</td>\n",
       "    </tr>\n",
       "    <tr>\n",
       "      <th>3</th>\n",
       "      <td>q6cA6</td>\n",
       "      <td>2.236060</td>\n",
       "      <td>-0.553760</td>\n",
       "      <td>0.930038</td>\n",
       "      <td>114.572842</td>\n",
       "    </tr>\n",
       "    <tr>\n",
       "      <th>4</th>\n",
       "      <td>WPMUX</td>\n",
       "      <td>-0.515993</td>\n",
       "      <td>1.716266</td>\n",
       "      <td>5.899011</td>\n",
       "      <td>149.600746</td>\n",
       "    </tr>\n",
       "  </tbody>\n",
       "</table>\n",
       "</div>"
      ],
      "text/plain": [
       "      id        f0        f1        f2     product\n",
       "0  fwXo0 -1.146987  0.963328 -0.828965   27.758673\n",
       "1  WJtFt  0.262778  0.269839 -2.530187   56.069697\n",
       "2  ovLUW  0.194587  0.289035 -5.586433   62.871910\n",
       "3  q6cA6  2.236060 -0.553760  0.930038  114.572842\n",
       "4  WPMUX -0.515993  1.716266  5.899011  149.600746"
      ]
     },
     "metadata": {},
     "output_type": "display_data"
    },
    {
     "name": "stdout",
     "output_type": "stream",
     "text": [
      "<class 'pandas.core.frame.DataFrame'>\n",
      "RangeIndex: 100000 entries, 0 to 99999\n",
      "Data columns (total 5 columns):\n",
      " #   Column   Non-Null Count   Dtype  \n",
      "---  ------   --------------   -----  \n",
      " 0   id       100000 non-null  object \n",
      " 1   f0       100000 non-null  float64\n",
      " 2   f1       100000 non-null  float64\n",
      " 3   f2       100000 non-null  float64\n",
      " 4   product  100000 non-null  float64\n",
      "dtypes: float64(4), object(1)\n",
      "memory usage: 3.8+ MB\n",
      "None\n",
      "                  f0             f1             f2        product\n",
      "count  100000.000000  100000.000000  100000.000000  100000.000000\n",
      "mean        0.002023      -0.002081       2.495128      95.000000\n",
      "std         1.732045       1.730417       3.473445      44.749921\n",
      "min        -8.760004      -7.084020     -11.970335       0.000000\n",
      "25%        -1.162288      -1.174820       0.130359      59.450441\n",
      "50%         0.009424      -0.009482       2.484236      94.925613\n",
      "75%         1.158535       1.163678       4.858794     130.595027\n",
      "max         7.238262       7.844801      16.739402     190.029838\n"
     ]
    }
   ],
   "source": [
    "df = []\n",
    "for i in range(3):\n",
    "    df.append(pd.read_csv(f'/datasets/geo_data_{i}.csv'))\n",
    "    print(f'В регионе {i+1}')\n",
    "    display(df[i].head())\n",
    "    print(df[i].info())\n",
    "    print(df[i].describe())"
   ]
  },
  {
   "cell_type": "markdown",
   "metadata": {},
   "source": [
    "## Обучение и проверка модели"
   ]
  },
  {
   "cell_type": "markdown",
   "metadata": {},
   "source": [
    "Подготовка признаков и обучение модели"
   ]
  },
  {
   "cell_type": "code",
   "execution_count": 3,
   "metadata": {
    "scrolled": false
   },
   "outputs": [
    {
     "name": "stdout",
     "output_type": "stream",
     "text": [
      "Средний объём в 1 регионе 92.5493618911634\n",
      "RMSE предсказания в 1 регионе 37.64786282376176\n",
      "Средний объём в 2 регионе 69.28001860653958\n",
      "RMSE предсказания в 2 регионе 0.8954139804944313\n",
      "Средний объём в 3 регионе 95.09859933591403\n",
      "RMSE предсказания в 3 регионе 40.12803006598514\n"
     ]
    }
   ],
   "source": [
    "feature = []\n",
    "target = []\n",
    "feature_train = []\n",
    "target_train = []\n",
    "feature_valid = []\n",
    "target_valid = []\n",
    "prob_valid = []\n",
    "for i in range(3):\n",
    "    feature.append(df[i].drop(['id','product'], axis = 1))\n",
    "    target.append(df[i]['product'])\n",
    "    f_train, f_valid, t_train, t_valid = train_test_split(feature[i],target[i], test_size = 0.25, random_state = 123 )\n",
    "    \n",
    "    feature_train.append(f_train)\n",
    "    target_train.append(t_train)\n",
    "    feature_valid.append(f_valid)\n",
    "    target_valid.append(t_valid)\n",
    "    \n",
    "    model = LinearRegression()\n",
    "    model.fit(feature_train[i], target_train[i])\n",
    "    prob_valid.append(model.predict(feature_valid[i]))\n",
    "    print(f'Средний объём в {i+1} регионе',sum(prob_valid[i])/len(prob_valid[i]))\n",
    "    print(f'RMSE предсказания в {i+1} регионе',mean_squared_error(target_valid[i], prob_valid[i])**0.5)"
   ]
  },
  {
   "cell_type": "markdown",
   "metadata": {},
   "source": [
    "**Выводы:** в 1 и 3 регионе предсказания, с бОльшей ошибкой."
   ]
  },
  {
   "cell_type": "markdown",
   "metadata": {},
   "source": [
    "## Подготовка к расчёту прибыли"
   ]
  },
  {
   "cell_type": "code",
   "execution_count": 4,
   "metadata": {
    "scrolled": false
   },
   "outputs": [
    {
     "name": "stdout",
     "output_type": "stream",
     "text": [
      "111.11111111111111\n"
     ]
    }
   ],
   "source": [
    "BUDGET = 10**10\n",
    "PROFIT_ONE_UNIT = 450000\n",
    "COUNT_WELL = 200\n",
    "\n",
    "mean_count_unit = BUDGET/PROFIT_ONE_UNIT/COUNT_WELL\n",
    "print(mean_count_unit)\n",
    "\n",
    "\n",
    "def calc_profit( targ, pred, count):\n",
    "\n",
    "    predict_slice = pred.sort_values(ascending = False).head(count)\n",
    "    best_profit = (targ.loc[predict_slice.index].sum()*PROFIT_ONE_UNIT) - BUDGET\n",
    "    return best_profit/1000000\n"
   ]
  },
  {
   "cell_type": "markdown",
   "metadata": {},
   "source": [
    "**Выводы:** Чтобы бурение было безубыточным в 200 скважинах в среднем должно быть не менее 112 тыс.баррелей запасов."
   ]
  },
  {
   "cell_type": "markdown",
   "metadata": {},
   "source": [
    "## Расчёт прибыли и рисков "
   ]
  },
  {
   "cell_type": "code",
   "execution_count": 5,
   "metadata": {
    "scrolled": false
   },
   "outputs": [
    {
     "name": "stdout",
     "output_type": "stream",
     "text": [
      "AxesSubplot(0.125,0.125;0.775x0.755)\n",
      "Средний доход в регионе 1 477.4168242664123\n",
      "Доверительный 95% интервал дохода в регионе 1, между -57.99391179927572 и 974.8220147728731\n",
      "Риск убытка 4.1000000000000005%\n",
      "AxesSubplot(0.125,0.125;0.775x0.755)\n",
      "Средний доход в регионе 2 467.47768391890946\n",
      "Доверительный 95% интервал дохода в регионе 2, между 68.76437566249166 и 871.4920973551784\n",
      "Риск убытка 1.0%\n",
      "AxesSubplot(0.125,0.125;0.775x0.755)\n",
      "Средний доход в регионе 3 362.1327806198197\n",
      "Доверительный 95% интервал дохода в регионе 3, между -182.9922332490984 и 870.9668515726878\n",
      "Риск убытка 8.9%\n"
     ]
    },
    {
     "data": {
      "image/png": "[encoded data removed]",
      "text/plain": [
       "<Figure size 432x288 with 1 Axes>"
      ]
     },
     "metadata": {
      "needs_background": "light"
     },
     "output_type": "display_data"
    }
   ],
   "source": [
    "state = np.random.RandomState(123)\n",
    "  \n",
    "\n",
    "for i in range(3):\n",
    "    target_valid[i] = target_valid[i].reset_index(drop = True)\n",
    "    prob_valid[i] = pd.Series(prob_valid[i])\n",
    "    values = []\n",
    "    for j in range(1000):\n",
    "        \n",
    "        target_subsample = target_valid[i].sample(n = 500, replace = True , random_state = state)\n",
    "        probs_subsample = prob_valid[i].loc[target_subsample.index]\n",
    "        target_subsample = target_subsample.reset_index(drop = True)\n",
    "        probs_subsample = probs_subsample.reset_index(drop = True)\n",
    "        values.append(calc_profit(target_subsample, probs_subsample, 200))\n",
    "        \n",
    "       \n",
    "    values = pd.Series(values)\n",
    "    risk = (values < 0).mean()*100\n",
    "    print(values.hist(alpha = .5))\n",
    "    print(f'Средний доход в регионе {i+1}',values.mean())\n",
    "    print(f'Доверительный 95% интервал дохода в регионе {i+1}, между {values.quantile(0.025)} и {values.quantile(0.975) }')\n",
    "    print(f'Риск убытка {risk}%')"
   ]
  },
  {
   "cell_type": "markdown",
   "metadata": {},
   "source": [
    "**Выводы:** только во втором регионе скважины принесут прибыль с вероятностью 99%, в остальных регионах риск получить убыток более 2,5%, при условии, что доход с каждой единицы продукта составляет 450 тыс. рублей и бюджет на разработку скважин в регионе — 10 млрд рублей."
   ]
  }
 ],
 "metadata": {
  "ExecuteTimeLog": [
   {
    "duration": 387,
    "start_time": "2022-04-05T13:21:43.825Z"
   },
   {
    "duration": 124,
    "start_time": "2022-04-05T13:22:08.631Z"
   },
   {
    "duration": 133,
    "start_time": "2022-04-05T13:22:16.103Z"
   },
   {
    "duration": 137,
    "start_time": "2022-04-05T13:22:25.483Z"
   },
   {
    "duration": 17,
    "start_time": "2022-04-05T13:22:43.074Z"
   },
   {
    "duration": 174,
    "start_time": "2022-04-05T13:24:38.601Z"
   },
   {
    "duration": 113,
    "start_time": "2022-04-05T13:24:51.621Z"
   },
   {
    "duration": 8,
    "start_time": "2022-04-05T13:25:16.360Z"
   },
   {
    "duration": 7,
    "start_time": "2022-04-05T13:25:25.892Z"
   },
   {
    "duration": 7,
    "start_time": "2022-04-05T13:25:41.876Z"
   },
   {
    "duration": 2,
    "start_time": "2022-04-05T13:25:45.600Z"
   },
   {
    "duration": 7,
    "start_time": "2022-04-05T13:25:48.262Z"
   },
   {
    "duration": 8,
    "start_time": "2022-04-05T13:26:31.673Z"
   },
   {
    "duration": 365,
    "start_time": "2022-04-05T13:26:57.818Z"
   },
   {
    "duration": 403,
    "start_time": "2022-04-05T13:27:42.185Z"
   },
   {
    "duration": 396,
    "start_time": "2022-04-05T13:27:55.491Z"
   },
   {
    "duration": 93,
    "start_time": "2022-04-05T13:28:15.233Z"
   },
   {
    "duration": 406,
    "start_time": "2022-04-05T13:28:19.512Z"
   },
   {
    "duration": 103,
    "start_time": "2022-04-05T13:28:29.953Z"
   },
   {
    "duration": 410,
    "start_time": "2022-04-05T13:28:36.640Z"
   },
   {
    "duration": 384,
    "start_time": "2022-04-05T13:28:58.792Z"
   },
   {
    "duration": 485,
    "start_time": "2022-04-05T13:29:43.204Z"
   },
   {
    "duration": 7,
    "start_time": "2022-04-05T13:34:32.754Z"
   },
   {
    "duration": 7,
    "start_time": "2022-04-05T13:34:44.668Z"
   },
   {
    "duration": 8,
    "start_time": "2022-04-05T13:35:30.306Z"
   },
   {
    "duration": 8,
    "start_time": "2022-04-05T13:35:33.281Z"
   },
   {
    "duration": 2,
    "start_time": "2022-04-05T13:35:45.929Z"
   },
   {
    "duration": 496,
    "start_time": "2022-04-05T13:35:45.933Z"
   },
   {
    "duration": 8,
    "start_time": "2022-04-05T13:35:46.432Z"
   },
   {
    "duration": 7,
    "start_time": "2022-04-05T13:36:14.704Z"
   },
   {
    "duration": 7,
    "start_time": "2022-04-05T13:36:43.463Z"
   },
   {
    "duration": 11,
    "start_time": "2022-04-05T13:37:45.684Z"
   },
   {
    "duration": 11,
    "start_time": "2022-04-05T13:38:52.100Z"
   },
   {
    "duration": 14,
    "start_time": "2022-04-05T13:39:00.423Z"
   },
   {
    "duration": 1107,
    "start_time": "2022-04-05T13:39:27.376Z"
   },
   {
    "duration": 10,
    "start_time": "2022-04-05T13:39:37.316Z"
   },
   {
    "duration": 72,
    "start_time": "2022-04-05T13:39:44.603Z"
   },
   {
    "duration": 10,
    "start_time": "2022-04-05T13:39:49.292Z"
   },
   {
    "duration": 14,
    "start_time": "2022-04-05T13:39:53.100Z"
   },
   {
    "duration": 15,
    "start_time": "2022-04-05T13:39:57.675Z"
   },
   {
    "duration": 2,
    "start_time": "2022-04-05T13:40:00.220Z"
   },
   {
    "duration": 515,
    "start_time": "2022-04-05T13:40:00.224Z"
   },
   {
    "duration": 13,
    "start_time": "2022-04-05T13:40:00.740Z"
   },
   {
    "duration": 416,
    "start_time": "2022-04-05T13:40:12.615Z"
   },
   {
    "duration": 67,
    "start_time": "2022-04-05T13:40:13.033Z"
   },
   {
    "duration": 0,
    "start_time": "2022-04-05T13:40:13.101Z"
   },
   {
    "duration": 13,
    "start_time": "2022-04-05T13:40:39.136Z"
   },
   {
    "duration": 488,
    "start_time": "2022-04-05T13:40:40.944Z"
   },
   {
    "duration": 14,
    "start_time": "2022-04-05T13:40:44.000Z"
   },
   {
    "duration": 26,
    "start_time": "2022-04-05T13:49:36.065Z"
   },
   {
    "duration": 12,
    "start_time": "2022-04-05T13:50:35.441Z"
   },
   {
    "duration": 12,
    "start_time": "2022-04-05T13:50:43.306Z"
   },
   {
    "duration": 10,
    "start_time": "2022-04-05T13:50:46.536Z"
   },
   {
    "duration": 5951,
    "start_time": "2022-04-05T13:54:27.296Z"
   },
   {
    "duration": 174,
    "start_time": "2022-04-05T13:54:44.211Z"
   },
   {
    "duration": 105,
    "start_time": "2022-04-05T13:55:06.871Z"
   },
   {
    "duration": 1537,
    "start_time": "2022-04-05T13:55:11.262Z"
   },
   {
    "duration": 704,
    "start_time": "2022-04-05T13:56:41.239Z"
   },
   {
    "duration": 306,
    "start_time": "2022-04-05T13:56:50.006Z"
   },
   {
    "duration": 619,
    "start_time": "2022-04-05T13:57:03.062Z"
   },
   {
    "duration": 303,
    "start_time": "2022-04-05T13:57:32.738Z"
   },
   {
    "duration": 296,
    "start_time": "2022-04-05T13:58:21.536Z"
   },
   {
    "duration": 285,
    "start_time": "2022-04-05T13:58:57.231Z"
   },
   {
    "duration": 286,
    "start_time": "2022-04-05T13:59:05.155Z"
   },
   {
    "duration": 298,
    "start_time": "2022-04-05T13:59:52.749Z"
   },
   {
    "duration": 176,
    "start_time": "2022-04-05T14:00:09.105Z"
   },
   {
    "duration": 629,
    "start_time": "2022-04-05T14:02:01.376Z"
   },
   {
    "duration": 47,
    "start_time": "2022-04-07T18:26:35.461Z"
   },
   {
    "duration": 786,
    "start_time": "2022-04-07T18:26:38.248Z"
   },
   {
    "duration": 1155,
    "start_time": "2022-04-07T18:26:39.624Z"
   },
   {
    "duration": 623,
    "start_time": "2022-04-07T18:26:50.185Z"
   },
   {
    "duration": 308,
    "start_time": "2022-04-07T18:27:43.073Z"
   },
   {
    "duration": 630,
    "start_time": "2022-04-07T18:27:49.362Z"
   },
   {
    "duration": 346,
    "start_time": "2022-04-07T18:28:14.868Z"
   },
   {
    "duration": 616,
    "start_time": "2022-04-07T18:28:24.640Z"
   },
   {
    "duration": 586,
    "start_time": "2022-04-07T18:30:18.151Z"
   },
   {
    "duration": 9,
    "start_time": "2022-04-07T18:30:51.019Z"
   },
   {
    "duration": 806,
    "start_time": "2022-04-07T18:35:28.415Z"
   },
   {
    "duration": 16,
    "start_time": "2022-04-07T18:35:35.628Z"
   },
   {
    "duration": 734,
    "start_time": "2022-04-07T18:36:10.009Z"
   },
   {
    "duration": 31,
    "start_time": "2022-04-07T18:39:47.034Z"
   },
   {
    "duration": 23,
    "start_time": "2022-04-07T18:53:25.406Z"
   },
   {
    "duration": 20,
    "start_time": "2022-04-07T18:53:30.341Z"
   },
   {
    "duration": 29,
    "start_time": "2022-04-07T18:53:35.204Z"
   },
   {
    "duration": 21,
    "start_time": "2022-04-07T18:54:03.871Z"
   },
   {
    "duration": 21,
    "start_time": "2022-04-07T18:54:37.509Z"
   },
   {
    "duration": 26,
    "start_time": "2022-04-07T18:54:45.831Z"
   },
   {
    "duration": 26,
    "start_time": "2022-04-07T18:57:56.674Z"
   },
   {
    "duration": 348,
    "start_time": "2022-04-07T18:58:08.721Z"
   },
   {
    "duration": 426,
    "start_time": "2022-04-07T18:58:27.038Z"
   },
   {
    "duration": 3,
    "start_time": "2022-04-07T18:59:37.956Z"
   },
   {
    "duration": 399,
    "start_time": "2022-04-07T18:59:49.672Z"
   },
   {
    "duration": 493,
    "start_time": "2022-04-07T19:00:11.673Z"
   },
   {
    "duration": 430,
    "start_time": "2022-04-07T19:01:02.936Z"
   },
   {
    "duration": 661,
    "start_time": "2022-04-07T19:16:11.845Z"
   },
   {
    "duration": 880,
    "start_time": "2022-04-07T19:16:26.161Z"
   },
   {
    "duration": 757,
    "start_time": "2022-04-07T19:16:37.374Z"
   },
   {
    "duration": 2366,
    "start_time": "2022-04-07T19:19:17.050Z"
   },
   {
    "duration": 694,
    "start_time": "2022-04-07T19:19:20.396Z"
   },
   {
    "duration": 629,
    "start_time": "2022-04-07T19:26:20.266Z"
   },
   {
    "duration": 776,
    "start_time": "2022-04-07T19:27:06.875Z"
   },
   {
    "duration": 844,
    "start_time": "2022-04-07T19:28:13.979Z"
   },
   {
    "duration": 480,
    "start_time": "2022-04-07T19:29:00.961Z"
   },
   {
    "duration": 3,
    "start_time": "2022-04-07T19:30:27.005Z"
   },
   {
    "duration": 3,
    "start_time": "2022-04-07T19:30:29.333Z"
   },
   {
    "duration": 237,
    "start_time": "2022-04-07T19:30:32.932Z"
   },
   {
    "duration": 27,
    "start_time": "2022-04-07T19:35:39.353Z"
   },
   {
    "duration": 3,
    "start_time": "2022-04-07T19:35:45.236Z"
   },
   {
    "duration": 23,
    "start_time": "2022-04-07T19:35:49.545Z"
   },
   {
    "duration": 450,
    "start_time": "2022-04-07T19:36:14.913Z"
   },
   {
    "duration": 378,
    "start_time": "2022-04-07T19:36:22.700Z"
   },
   {
    "duration": 375,
    "start_time": "2022-04-07T19:36:41.211Z"
   },
   {
    "duration": 3,
    "start_time": "2022-04-07T19:38:13.036Z"
   },
   {
    "duration": 520,
    "start_time": "2022-04-07T19:38:32.142Z"
   },
   {
    "duration": 448,
    "start_time": "2022-04-07T19:38:36.832Z"
   },
   {
    "duration": 3,
    "start_time": "2022-04-07T19:45:26.680Z"
   },
   {
    "duration": 25,
    "start_time": "2022-04-07T19:45:42.420Z"
   },
   {
    "duration": 22,
    "start_time": "2022-04-07T19:47:26.719Z"
   },
   {
    "duration": 22,
    "start_time": "2022-04-07T19:47:39.451Z"
   },
   {
    "duration": 72,
    "start_time": "2022-04-08T06:42:22.132Z"
   },
   {
    "duration": 2142,
    "start_time": "2022-04-08T06:42:25.977Z"
   },
   {
    "duration": 624,
    "start_time": "2022-04-08T06:42:28.122Z"
   },
   {
    "duration": 499,
    "start_time": "2022-04-08T06:42:28.748Z"
   },
   {
    "duration": 214,
    "start_time": "2022-04-08T06:42:29.251Z"
   },
   {
    "duration": 5,
    "start_time": "2022-04-08T06:42:40.387Z"
   },
   {
    "duration": 674,
    "start_time": "2022-04-08T06:42:45.077Z"
   },
   {
    "duration": 2110,
    "start_time": "2022-04-08T06:42:58.936Z"
   },
   {
    "duration": 2357,
    "start_time": "2022-04-08T06:43:13.408Z"
   },
   {
    "duration": 34,
    "start_time": "2022-04-08T06:43:58.759Z"
   },
   {
    "duration": 2312,
    "start_time": "2022-04-08T06:44:12.331Z"
   },
   {
    "duration": 2340,
    "start_time": "2022-04-08T06:44:33.308Z"
   },
   {
    "duration": 2334,
    "start_time": "2022-04-08T06:44:51.815Z"
   },
   {
    "duration": 792,
    "start_time": "2022-04-08T06:48:42.461Z"
   },
   {
    "duration": 11,
    "start_time": "2022-04-08T06:56:23.435Z"
   },
   {
    "duration": 4,
    "start_time": "2022-04-08T06:56:28.488Z"
   },
   {
    "duration": 4,
    "start_time": "2022-04-08T06:57:19.941Z"
   },
   {
    "duration": 17,
    "start_time": "2022-04-08T07:35:12.511Z"
   },
   {
    "duration": 17,
    "start_time": "2022-04-08T07:35:20.626Z"
   },
   {
    "duration": 15,
    "start_time": "2022-04-08T07:35:41.129Z"
   },
   {
    "duration": 627,
    "start_time": "2022-04-08T07:35:50.516Z"
   },
   {
    "duration": 25,
    "start_time": "2022-04-08T07:35:52.873Z"
   },
   {
    "duration": 19,
    "start_time": "2022-04-08T07:36:15.421Z"
   },
   {
    "duration": 34,
    "start_time": "2022-04-08T07:38:55.222Z"
   },
   {
    "duration": 29,
    "start_time": "2022-04-08T07:39:49.315Z"
   },
   {
    "duration": 29,
    "start_time": "2022-04-08T07:39:50.747Z"
   },
   {
    "duration": 27,
    "start_time": "2022-04-08T07:39:51.295Z"
   },
   {
    "duration": 28,
    "start_time": "2022-04-08T07:39:51.820Z"
   },
   {
    "duration": 28,
    "start_time": "2022-04-08T07:43:14.711Z"
   },
   {
    "duration": 30,
    "start_time": "2022-04-08T07:43:26.376Z"
   },
   {
    "duration": 8,
    "start_time": "2022-04-08T07:43:33.758Z"
   },
   {
    "duration": 23,
    "start_time": "2022-04-08T07:44:58.874Z"
   },
   {
    "duration": 24,
    "start_time": "2022-04-08T07:45:39.642Z"
   },
   {
    "duration": 19,
    "start_time": "2022-04-08T07:45:44.505Z"
   },
   {
    "duration": 8,
    "start_time": "2022-04-08T07:45:56.338Z"
   },
   {
    "duration": 10,
    "start_time": "2022-04-08T07:46:03.973Z"
   },
   {
    "duration": 12,
    "start_time": "2022-04-08T07:46:58.926Z"
   },
   {
    "duration": 19,
    "start_time": "2022-04-08T07:48:00.045Z"
   },
   {
    "duration": 17,
    "start_time": "2022-04-08T07:49:07.014Z"
   },
   {
    "duration": 456,
    "start_time": "2022-04-08T07:49:34.287Z"
   },
   {
    "duration": 24,
    "start_time": "2022-04-08T07:49:36.815Z"
   },
   {
    "duration": 514,
    "start_time": "2022-04-08T07:50:03.435Z"
   },
   {
    "duration": 574,
    "start_time": "2022-04-08T07:50:47.370Z"
   },
   {
    "duration": 21,
    "start_time": "2022-04-08T07:50:50.330Z"
   },
   {
    "duration": 12,
    "start_time": "2022-04-08T07:50:57.834Z"
   },
   {
    "duration": 16,
    "start_time": "2022-04-08T07:51:08.331Z"
   },
   {
    "duration": 17,
    "start_time": "2022-04-08T07:51:20.974Z"
   },
   {
    "duration": 16,
    "start_time": "2022-04-08T07:51:29.983Z"
   },
   {
    "duration": 17,
    "start_time": "2022-04-08T07:52:00.843Z"
   },
   {
    "duration": 18,
    "start_time": "2022-04-08T07:52:14.730Z"
   },
   {
    "duration": 4,
    "start_time": "2022-04-08T07:52:31.252Z"
   },
   {
    "duration": 720,
    "start_time": "2022-04-08T07:52:31.259Z"
   },
   {
    "duration": 478,
    "start_time": "2022-04-08T07:52:31.982Z"
   },
   {
    "duration": 21,
    "start_time": "2022-04-08T07:52:38.299Z"
   },
   {
    "duration": 20,
    "start_time": "2022-04-08T07:53:41.345Z"
   },
   {
    "duration": 21,
    "start_time": "2022-04-08T07:54:36.376Z"
   },
   {
    "duration": 18,
    "start_time": "2022-04-08T07:55:14.008Z"
   },
   {
    "duration": 16,
    "start_time": "2022-04-08T07:55:40.714Z"
   },
   {
    "duration": 20,
    "start_time": "2022-04-08T07:55:53.570Z"
   },
   {
    "duration": 22,
    "start_time": "2022-04-08T07:56:42.857Z"
   },
   {
    "duration": 14,
    "start_time": "2022-04-08T07:57:44.301Z"
   },
   {
    "duration": 16,
    "start_time": "2022-04-08T07:57:55.014Z"
   },
   {
    "duration": 13,
    "start_time": "2022-04-08T07:58:50.003Z"
   },
   {
    "duration": 15,
    "start_time": "2022-04-08T08:20:48.354Z"
   },
   {
    "duration": 15,
    "start_time": "2022-04-08T08:21:07.941Z"
   },
   {
    "duration": 14,
    "start_time": "2022-04-08T08:21:49.125Z"
   },
   {
    "duration": 53,
    "start_time": "2022-04-08T13:24:02.528Z"
   },
   {
    "duration": 1504,
    "start_time": "2022-04-08T13:24:07.491Z"
   },
   {
    "duration": 567,
    "start_time": "2022-04-08T13:24:08.997Z"
   },
   {
    "duration": 461,
    "start_time": "2022-04-08T13:24:09.566Z"
   },
   {
    "duration": 243,
    "start_time": "2022-04-08T13:24:10.030Z"
   },
   {
    "duration": 15,
    "start_time": "2022-04-08T13:24:15.452Z"
   },
   {
    "duration": 11,
    "start_time": "2022-04-08T13:24:48.661Z"
   },
   {
    "duration": 13,
    "start_time": "2022-04-08T13:25:18.325Z"
   },
   {
    "duration": 13,
    "start_time": "2022-04-08T13:25:43.077Z"
   },
   {
    "duration": 13,
    "start_time": "2022-04-08T13:26:00.449Z"
   },
   {
    "duration": 775,
    "start_time": "2022-04-08T13:27:23.084Z"
   },
   {
    "duration": 398,
    "start_time": "2022-04-08T13:27:45.544Z"
   },
   {
    "duration": 12,
    "start_time": "2022-04-08T13:27:51.169Z"
   },
   {
    "duration": 10,
    "start_time": "2022-04-08T13:28:45.855Z"
   },
   {
    "duration": 10,
    "start_time": "2022-04-08T13:29:19.611Z"
   },
   {
    "duration": 10,
    "start_time": "2022-04-08T13:29:26.371Z"
   },
   {
    "duration": 13,
    "start_time": "2022-04-08T13:29:40.151Z"
   },
   {
    "duration": 12,
    "start_time": "2022-04-08T13:30:10.965Z"
   },
   {
    "duration": 15,
    "start_time": "2022-04-08T13:30:13.170Z"
   },
   {
    "duration": 14,
    "start_time": "2022-04-08T13:30:13.746Z"
   },
   {
    "duration": 15,
    "start_time": "2022-04-08T13:30:14.149Z"
   },
   {
    "duration": 16,
    "start_time": "2022-04-08T13:30:14.362Z"
   },
   {
    "duration": 16,
    "start_time": "2022-04-08T13:30:14.554Z"
   },
   {
    "duration": 4,
    "start_time": "2022-04-08T13:32:52.466Z"
   },
   {
    "duration": 12,
    "start_time": "2022-04-08T13:33:37.172Z"
   },
   {
    "duration": 13,
    "start_time": "2022-04-08T13:34:16.884Z"
   },
   {
    "duration": 9598,
    "start_time": "2022-04-08T13:35:00.641Z"
   },
   {
    "duration": 4,
    "start_time": "2022-04-08T13:35:43.551Z"
   },
   {
    "duration": 9487,
    "start_time": "2022-04-08T13:35:47.160Z"
   },
   {
    "duration": 9338,
    "start_time": "2022-04-08T13:36:14.719Z"
   },
   {
    "duration": 11337,
    "start_time": "2022-04-08T13:37:00.720Z"
   },
   {
    "duration": 11301,
    "start_time": "2022-04-08T13:39:32.049Z"
   },
   {
    "duration": 11363,
    "start_time": "2022-04-08T13:40:21.483Z"
   },
   {
    "duration": 10863,
    "start_time": "2022-04-08T13:41:23.968Z"
   },
   {
    "duration": 81,
    "start_time": "2022-04-08T13:41:49.052Z"
   },
   {
    "duration": 62,
    "start_time": "2022-04-08T13:41:54.826Z"
   },
   {
    "duration": 10784,
    "start_time": "2022-04-08T13:42:01.510Z"
   },
   {
    "duration": 18,
    "start_time": "2022-04-08T13:42:18.880Z"
   },
   {
    "duration": 20,
    "start_time": "2022-04-08T13:42:27.936Z"
   },
   {
    "duration": 19,
    "start_time": "2022-04-08T13:42:40.101Z"
   },
   {
    "duration": 9055,
    "start_time": "2022-04-08T13:43:01.860Z"
   },
   {
    "duration": 9501,
    "start_time": "2022-04-08T13:43:15.318Z"
   },
   {
    "duration": 12,
    "start_time": "2022-04-08T13:43:38.634Z"
   },
   {
    "duration": 11,
    "start_time": "2022-04-08T13:43:49.299Z"
   },
   {
    "duration": 4,
    "start_time": "2022-04-08T13:45:04.366Z"
   },
   {
    "duration": 5,
    "start_time": "2022-04-08T13:45:05.333Z"
   },
   {
    "duration": 14,
    "start_time": "2022-04-08T13:45:07.306Z"
   },
   {
    "duration": 16,
    "start_time": "2022-04-08T13:45:35.809Z"
   },
   {
    "duration": 16,
    "start_time": "2022-04-08T13:46:04.742Z"
   },
   {
    "duration": 4,
    "start_time": "2022-04-08T13:46:44.642Z"
   },
   {
    "duration": 9,
    "start_time": "2022-04-08T13:47:28.736Z"
   },
   {
    "duration": 1242,
    "start_time": "2022-04-08T13:47:32.714Z"
   },
   {
    "duration": 470,
    "start_time": "2022-04-08T13:47:33.958Z"
   },
   {
    "duration": 393,
    "start_time": "2022-04-08T13:47:34.429Z"
   },
   {
    "duration": 87,
    "start_time": "2022-04-08T13:47:34.824Z"
   },
   {
    "duration": 105,
    "start_time": "2022-04-08T13:47:41.690Z"
   },
   {
    "duration": 15020,
    "start_time": "2022-04-08T13:48:07.742Z"
   },
   {
    "duration": 4,
    "start_time": "2022-04-08T13:49:01.004Z"
   },
   {
    "duration": 12177,
    "start_time": "2022-04-08T13:49:07.720Z"
   },
   {
    "duration": 5334,
    "start_time": "2022-04-08T13:49:32.855Z"
   },
   {
    "duration": 13,
    "start_time": "2022-04-08T13:50:52.395Z"
   },
   {
    "duration": 14,
    "start_time": "2022-04-08T13:51:14.087Z"
   },
   {
    "duration": 13,
    "start_time": "2022-04-08T13:51:58.131Z"
   },
   {
    "duration": 1768,
    "start_time": "2022-04-08T13:52:48.859Z"
   },
   {
    "duration": 4,
    "start_time": "2022-04-08T13:53:02.645Z"
   },
   {
    "duration": 7066,
    "start_time": "2022-04-08T13:53:15.999Z"
   },
   {
    "duration": 3816,
    "start_time": "2022-04-08T13:53:38.782Z"
   },
   {
    "duration": 5503,
    "start_time": "2022-04-08T16:14:14.383Z"
   },
   {
    "duration": 49,
    "start_time": "2022-04-08T19:47:33.377Z"
   },
   {
    "duration": 1546,
    "start_time": "2022-04-08T19:47:38.249Z"
   },
   {
    "duration": 492,
    "start_time": "2022-04-08T19:47:39.797Z"
   },
   {
    "duration": 398,
    "start_time": "2022-04-08T19:47:40.291Z"
   },
   {
    "duration": 90,
    "start_time": "2022-04-08T19:47:40.691Z"
   },
   {
    "duration": 4676,
    "start_time": "2022-04-08T19:47:41.663Z"
   },
   {
    "duration": 4681,
    "start_time": "2022-04-08T19:47:50.065Z"
   },
   {
    "duration": 4780,
    "start_time": "2022-04-08T19:49:31.756Z"
   },
   {
    "duration": 4676,
    "start_time": "2022-04-08T19:52:24.997Z"
   },
   {
    "duration": 3675,
    "start_time": "2022-04-08T19:53:28.893Z"
   },
   {
    "duration": 4,
    "start_time": "2022-04-08T19:55:00.508Z"
   },
   {
    "duration": 6,
    "start_time": "2022-04-08T19:55:03.456Z"
   },
   {
    "duration": 7557,
    "start_time": "2022-04-08T19:55:06.098Z"
   },
   {
    "duration": 5,
    "start_time": "2022-04-08T19:55:27.535Z"
   },
   {
    "duration": 11085,
    "start_time": "2022-04-08T19:55:30.657Z"
   },
   {
    "duration": 4,
    "start_time": "2022-04-08T19:59:45.988Z"
   },
   {
    "duration": 3720,
    "start_time": "2022-04-08T19:59:48.682Z"
   },
   {
    "duration": 396,
    "start_time": "2022-04-08T20:06:03.595Z"
   },
   {
    "duration": 3858,
    "start_time": "2022-04-08T20:06:08.911Z"
   },
   {
    "duration": 3699,
    "start_time": "2022-04-08T20:06:29.072Z"
   },
   {
    "duration": 1462,
    "start_time": "2022-04-08T20:09:59.222Z"
   },
   {
    "duration": 1430,
    "start_time": "2022-04-08T20:10:10.791Z"
   },
   {
    "duration": 2653,
    "start_time": "2022-04-08T20:10:16.499Z"
   },
   {
    "duration": 1442,
    "start_time": "2022-04-08T20:10:23.163Z"
   },
   {
    "duration": 1446,
    "start_time": "2022-04-08T20:10:56.318Z"
   },
   {
    "duration": 1462,
    "start_time": "2022-04-08T20:11:39.553Z"
   },
   {
    "duration": 3841,
    "start_time": "2022-04-08T20:11:47.698Z"
   },
   {
    "duration": 3885,
    "start_time": "2022-04-08T20:11:54.466Z"
   },
   {
    "duration": 4,
    "start_time": "2022-04-08T20:12:37.268Z"
   },
   {
    "duration": 4019,
    "start_time": "2022-04-08T20:12:41.763Z"
   },
   {
    "duration": 106,
    "start_time": "2022-04-08T20:36:55.349Z"
   },
   {
    "duration": 4046,
    "start_time": "2022-04-08T20:37:07.749Z"
   },
   {
    "duration": 3714,
    "start_time": "2022-04-08T20:37:52.932Z"
   },
   {
    "duration": 105,
    "start_time": "2022-04-08T20:38:11.492Z"
   },
   {
    "duration": 3778,
    "start_time": "2022-04-08T20:38:16.244Z"
   },
   {
    "duration": 3777,
    "start_time": "2022-04-08T20:38:54.639Z"
   },
   {
    "duration": 3806,
    "start_time": "2022-04-08T20:39:01.292Z"
   },
   {
    "duration": 3770,
    "start_time": "2022-04-08T20:39:14.579Z"
   },
   {
    "duration": 114,
    "start_time": "2022-04-08T20:39:34.920Z"
   },
   {
    "duration": 3751,
    "start_time": "2022-04-08T20:39:43.962Z"
   },
   {
    "duration": 385,
    "start_time": "2022-04-08T20:40:01.606Z"
   },
   {
    "duration": 3812,
    "start_time": "2022-04-08T20:40:13.871Z"
   },
   {
    "duration": 1374,
    "start_time": "2022-04-08T20:46:02.986Z"
   },
   {
    "duration": 470,
    "start_time": "2022-04-08T20:46:04.362Z"
   },
   {
    "duration": 359,
    "start_time": "2022-04-08T20:46:04.834Z"
   },
   {
    "duration": 6,
    "start_time": "2022-04-08T20:46:05.281Z"
   },
   {
    "duration": 3771,
    "start_time": "2022-04-08T20:46:05.379Z"
   },
   {
    "duration": 13,
    "start_time": "2022-04-09T14:31:40.253Z"
   },
   {
    "duration": 2028,
    "start_time": "2022-04-09T14:31:48.614Z"
   },
   {
    "duration": 510,
    "start_time": "2022-04-09T14:31:50.644Z"
   },
   {
    "duration": 501,
    "start_time": "2022-04-09T14:31:51.158Z"
   },
   {
    "duration": 10,
    "start_time": "2022-04-09T14:31:51.661Z"
   },
   {
    "duration": 207,
    "start_time": "2022-04-09T14:31:51.673Z"
   },
   {
    "duration": 23,
    "start_time": "2022-04-09T14:32:22.423Z"
   },
   {
    "duration": 24,
    "start_time": "2022-04-09T15:42:05.917Z"
   },
   {
    "duration": 24,
    "start_time": "2022-04-09T15:44:00.670Z"
   },
   {
    "duration": 24,
    "start_time": "2022-04-09T15:45:16.392Z"
   },
   {
    "duration": 28,
    "start_time": "2022-04-09T15:46:01.646Z"
   },
   {
    "duration": 29,
    "start_time": "2022-04-09T15:46:47.972Z"
   },
   {
    "duration": 26,
    "start_time": "2022-04-09T15:46:49.170Z"
   },
   {
    "duration": 9690,
    "start_time": "2022-04-09T15:48:17.190Z"
   },
   {
    "duration": 7555,
    "start_time": "2022-04-09T15:48:42.824Z"
   },
   {
    "duration": 7244,
    "start_time": "2022-04-09T15:48:55.983Z"
   },
   {
    "duration": 2769,
    "start_time": "2022-04-09T15:49:14.935Z"
   },
   {
    "duration": 11101,
    "start_time": "2022-04-09T15:50:09.218Z"
   },
   {
    "duration": 17013,
    "start_time": "2022-04-09T15:51:10.170Z"
   },
   {
    "duration": 22092,
    "start_time": "2022-04-09T15:52:34.680Z"
   },
   {
    "duration": 3986,
    "start_time": "2022-04-09T15:53:27.997Z"
   },
   {
    "duration": 1471,
    "start_time": "2022-04-09T15:54:40.394Z"
   },
   {
    "duration": 591,
    "start_time": "2022-04-09T15:54:41.868Z"
   },
   {
    "duration": 504,
    "start_time": "2022-04-09T15:54:42.461Z"
   },
   {
    "duration": 90,
    "start_time": "2022-04-09T15:54:42.970Z"
   },
   {
    "duration": 2847,
    "start_time": "2022-04-09T15:54:43.063Z"
   },
   {
    "duration": 5150,
    "start_time": "2022-04-09T15:58:22.631Z"
   },
   {
    "duration": 3014,
    "start_time": "2022-04-09T15:58:40.914Z"
   },
   {
    "duration": 2848,
    "start_time": "2022-04-09T15:58:51.811Z"
   },
   {
    "duration": 1752,
    "start_time": "2022-04-09T16:05:51.238Z"
   },
   {
    "duration": 466,
    "start_time": "2022-04-09T16:05:52.992Z"
   },
   {
    "duration": 415,
    "start_time": "2022-04-09T16:05:53.459Z"
   },
   {
    "duration": 82,
    "start_time": "2022-04-09T16:05:53.877Z"
   },
   {
    "duration": 2832,
    "start_time": "2022-04-09T16:05:53.962Z"
   }
  ],
  "kernelspec": {
   "display_name": "Python 3 (ipykernel)",
   "language": "python",
   "name": "python3"
  },
  "language_info": {
   "codemirror_mode": {
    "name": "ipython",
    "version": 3
   },
   "file_extension": ".py",
   "mimetype": "text/x-python",
   "name": "python",
   "nbconvert_exporter": "python",
   "pygments_lexer": "ipython3",
   "version": "3.9.12"
  },
  "toc": {
   "base_numbering": 1,
   "nav_menu": {},
   "number_sections": true,
   "sideBar": true,
   "skip_h1_title": true,
   "title_cell": "Table of Contents",
   "title_sidebar": "Contents",
   "toc_cell": false,
   "toc_position": {},
   "toc_section_display": true,
   "toc_window_display": false
  }
 },
 "nbformat": 4,
 "nbformat_minor": 2
}
