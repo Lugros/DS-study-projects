{
 "cells": [
  {
   "cell_type": "markdown",
   "metadata": {},
   "source": [
    "# Определение стоимости автомобилей"
   ]
  },
  {
   "cell_type": "markdown",
   "metadata": {},
   "source": [
    "Сервис по продаже автомобилей с пробегом «Не бит, не крашен» разрабатывает приложение для привлечения новых клиентов. В нём можно быстро узнать рыночную стоимость своего автомобиля. В вашем распоряжении исторические данные: технические характеристики, комплектации и цены автомобилей. Вам нужно построить модель для определения стоимости. \n",
    "\n",
    "Заказчику важны:\n",
    "\n",
    "- качество предсказания;\n",
    "- скорость предсказания;\n",
    "- время обучения."
   ]
  },
  {
   "cell_type": "markdown",
   "metadata": {},
   "source": [
    "## Подготовка данных"
   ]
  },
  {
   "cell_type": "code",
   "execution_count": 1,
   "metadata": {},
   "outputs": [],
   "source": [
    "import pandas as pd\n",
    "from re import sub\n",
    "\n",
    "\n",
    "import seaborn as sb\n",
    "from lightgbm import LGBMRegressor\n",
    "import matplotlib.pyplot as plt\n",
    "\n",
    "\n",
    "from sklearn.preprocessing import LabelEncoder\n",
    "\n",
    "from sklearn.model_selection import train_test_split\n",
    "from sklearn.model_selection import GridSearchCV\n",
    "from sklearn.model_selection import cross_val_score\n",
    "\n",
    "from catboost import CatBoostRegressor\n",
    "from sklearn.linear_model import LinearRegression\n",
    "from sklearn.ensemble import RandomForestRegressor\n",
    "\n",
    "\n",
    "from sklearn.metrics import mean_squared_error\n"
   ]
  },
  {
   "cell_type": "markdown",
   "metadata": {},
   "source": [
    "**Столбцы**\n",
    "- DateCrawled — дата скачивания анкеты из базы\n",
    "- VehicleType — тип автомобильного кузова\n",
    "- RegistrationYear — год регистрации автомобиля\n",
    "- Gearbox — тип коробки передач\n",
    "- Power — мощность (л. с.)\n",
    "- Model — модель автомобиля\n",
    "- Kilometer — пробег (км)\n",
    "- RegistrationMonth — месяц регистрации автомобиля\n",
    "- FuelType — тип топлива\n",
    "- Brand — марка автомобиля\n",
    "- NotRepaired — была машина в ремонте или нет\n",
    "- DateCreated — дата создания анкеты\n",
    "- NumberOfPictures — количество фотографий автомобиля\n",
    "- PostalCode — почтовый индекс владельца анкеты (пользователя)\n",
    "- LastSeen — дата последней активности пользователя"
   ]
  },
  {
   "cell_type": "code",
   "execution_count": 2,
   "metadata": {
    "scrolled": true
   },
   "outputs": [
    {
     "data": {
      "text/html": [
       "<div>\n",
       "<style scoped>\n",
       "    .dataframe tbody tr th:only-of-type {\n",
       "        vertical-align: middle;\n",
       "    }\n",
       "\n",
       "    .dataframe tbody tr th {\n",
       "        vertical-align: top;\n",
       "    }\n",
       "\n",
       "    .dataframe thead th {\n",
       "        text-align: right;\n",
       "    }\n",
       "</style>\n",
       "<table border=\"1\" class=\"dataframe\">\n",
       "  <thead>\n",
       "    <tr style=\"text-align: right;\">\n",
       "      <th></th>\n",
       "      <th>DateCrawled</th>\n",
       "      <th>Price</th>\n",
       "      <th>VehicleType</th>\n",
       "      <th>RegistrationYear</th>\n",
       "      <th>Gearbox</th>\n",
       "      <th>Power</th>\n",
       "      <th>Model</th>\n",
       "      <th>Kilometer</th>\n",
       "      <th>RegistrationMonth</th>\n",
       "      <th>FuelType</th>\n",
       "      <th>Brand</th>\n",
       "      <th>NotRepaired</th>\n",
       "      <th>DateCreated</th>\n",
       "      <th>NumberOfPictures</th>\n",
       "      <th>PostalCode</th>\n",
       "      <th>LastSeen</th>\n",
       "    </tr>\n",
       "  </thead>\n",
       "  <tbody>\n",
       "    <tr>\n",
       "      <th>0</th>\n",
       "      <td>2016-03-24 11:52:17</td>\n",
       "      <td>480</td>\n",
       "      <td>NaN</td>\n",
       "      <td>1993</td>\n",
       "      <td>manual</td>\n",
       "      <td>0</td>\n",
       "      <td>golf</td>\n",
       "      <td>150000</td>\n",
       "      <td>0</td>\n",
       "      <td>petrol</td>\n",
       "      <td>volkswagen</td>\n",
       "      <td>NaN</td>\n",
       "      <td>2016-03-24 00:00:00</td>\n",
       "      <td>0</td>\n",
       "      <td>70435</td>\n",
       "      <td>2016-04-07 03:16:57</td>\n",
       "    </tr>\n",
       "    <tr>\n",
       "      <th>1</th>\n",
       "      <td>2016-03-24 10:58:45</td>\n",
       "      <td>18300</td>\n",
       "      <td>coupe</td>\n",
       "      <td>2011</td>\n",
       "      <td>manual</td>\n",
       "      <td>190</td>\n",
       "      <td>NaN</td>\n",
       "      <td>125000</td>\n",
       "      <td>5</td>\n",
       "      <td>gasoline</td>\n",
       "      <td>audi</td>\n",
       "      <td>yes</td>\n",
       "      <td>2016-03-24 00:00:00</td>\n",
       "      <td>0</td>\n",
       "      <td>66954</td>\n",
       "      <td>2016-04-07 01:46:50</td>\n",
       "    </tr>\n",
       "    <tr>\n",
       "      <th>2</th>\n",
       "      <td>2016-03-14 12:52:21</td>\n",
       "      <td>9800</td>\n",
       "      <td>suv</td>\n",
       "      <td>2004</td>\n",
       "      <td>auto</td>\n",
       "      <td>163</td>\n",
       "      <td>grand</td>\n",
       "      <td>125000</td>\n",
       "      <td>8</td>\n",
       "      <td>gasoline</td>\n",
       "      <td>jeep</td>\n",
       "      <td>NaN</td>\n",
       "      <td>2016-03-14 00:00:00</td>\n",
       "      <td>0</td>\n",
       "      <td>90480</td>\n",
       "      <td>2016-04-05 12:47:46</td>\n",
       "    </tr>\n",
       "    <tr>\n",
       "      <th>3</th>\n",
       "      <td>2016-03-17 16:54:04</td>\n",
       "      <td>1500</td>\n",
       "      <td>small</td>\n",
       "      <td>2001</td>\n",
       "      <td>manual</td>\n",
       "      <td>75</td>\n",
       "      <td>golf</td>\n",
       "      <td>150000</td>\n",
       "      <td>6</td>\n",
       "      <td>petrol</td>\n",
       "      <td>volkswagen</td>\n",
       "      <td>no</td>\n",
       "      <td>2016-03-17 00:00:00</td>\n",
       "      <td>0</td>\n",
       "      <td>91074</td>\n",
       "      <td>2016-03-17 17:40:17</td>\n",
       "    </tr>\n",
       "    <tr>\n",
       "      <th>4</th>\n",
       "      <td>2016-03-31 17:25:20</td>\n",
       "      <td>3600</td>\n",
       "      <td>small</td>\n",
       "      <td>2008</td>\n",
       "      <td>manual</td>\n",
       "      <td>69</td>\n",
       "      <td>fabia</td>\n",
       "      <td>90000</td>\n",
       "      <td>7</td>\n",
       "      <td>gasoline</td>\n",
       "      <td>skoda</td>\n",
       "      <td>no</td>\n",
       "      <td>2016-03-31 00:00:00</td>\n",
       "      <td>0</td>\n",
       "      <td>60437</td>\n",
       "      <td>2016-04-06 10:17:21</td>\n",
       "    </tr>\n",
       "  </tbody>\n",
       "</table>\n",
       "</div>"
      ],
      "text/plain": [
       "           DateCrawled  Price VehicleType  RegistrationYear Gearbox  Power  \\\n",
       "0  2016-03-24 11:52:17    480         NaN              1993  manual      0   \n",
       "1  2016-03-24 10:58:45  18300       coupe              2011  manual    190   \n",
       "2  2016-03-14 12:52:21   9800         suv              2004    auto    163   \n",
       "3  2016-03-17 16:54:04   1500       small              2001  manual     75   \n",
       "4  2016-03-31 17:25:20   3600       small              2008  manual     69   \n",
       "\n",
       "   Model  Kilometer  RegistrationMonth  FuelType       Brand NotRepaired  \\\n",
       "0   golf     150000                  0    petrol  volkswagen         NaN   \n",
       "1    NaN     125000                  5  gasoline        audi         yes   \n",
       "2  grand     125000                  8  gasoline        jeep         NaN   \n",
       "3   golf     150000                  6    petrol  volkswagen          no   \n",
       "4  fabia      90000                  7  gasoline       skoda          no   \n",
       "\n",
       "           DateCreated  NumberOfPictures  PostalCode             LastSeen  \n",
       "0  2016-03-24 00:00:00                 0       70435  2016-04-07 03:16:57  \n",
       "1  2016-03-24 00:00:00                 0       66954  2016-04-07 01:46:50  \n",
       "2  2016-03-14 00:00:00                 0       90480  2016-04-05 12:47:46  \n",
       "3  2016-03-17 00:00:00                 0       91074  2016-03-17 17:40:17  \n",
       "4  2016-03-31 00:00:00                 0       60437  2016-04-06 10:17:21  "
      ]
     },
     "metadata": {},
     "output_type": "display_data"
    }
   ],
   "source": [
    "df = pd.read_csv('/datasets/autos.csv')\n",
    "display(df.head())"
   ]
  },
  {
   "cell_type": "markdown",
   "metadata": {},
   "source": [
    "Отсутствуют сильно коррелирующие признаки"
   ]
  },
  {
   "cell_type": "code",
   "execution_count": 3,
   "metadata": {
    "scrolled": true
   },
   "outputs": [
    {
     "data": {
      "text/plain": [
       "<AxesSubplot:>"
      ]
     },
     "execution_count": 3,
     "metadata": {},
     "output_type": "execute_result"
    },
    {
     "data": {
      "image/png": "[encoded data removed]",
      "text/plain": [
       "<Figure size 432x288 with 2 Axes>"
      ]
     },
     "metadata": {
      "needs_background": "light"
     },
     "output_type": "display_data"
    }
   ],
   "source": [
    "sb.heatmap(df.corr())"
   ]
  },
  {
   "cell_type": "code",
   "execution_count": 4,
   "metadata": {
    "scrolled": false
   },
   "outputs": [
    {
     "data": {
      "text/html": [
       "<div>\n",
       "<style scoped>\n",
       "    .dataframe tbody tr th:only-of-type {\n",
       "        vertical-align: middle;\n",
       "    }\n",
       "\n",
       "    .dataframe tbody tr th {\n",
       "        vertical-align: top;\n",
       "    }\n",
       "\n",
       "    .dataframe thead th {\n",
       "        text-align: right;\n",
       "    }\n",
       "</style>\n",
       "<table border=\"1\" class=\"dataframe\">\n",
       "  <thead>\n",
       "    <tr style=\"text-align: right;\">\n",
       "      <th></th>\n",
       "      <th>Price</th>\n",
       "      <th>RegistrationYear</th>\n",
       "      <th>Power</th>\n",
       "      <th>Kilometer</th>\n",
       "      <th>RegistrationMonth</th>\n",
       "      <th>NumberOfPictures</th>\n",
       "      <th>PostalCode</th>\n",
       "    </tr>\n",
       "  </thead>\n",
       "  <tbody>\n",
       "    <tr>\n",
       "      <th>count</th>\n",
       "      <td>354369.000000</td>\n",
       "      <td>354369.000000</td>\n",
       "      <td>354369.000000</td>\n",
       "      <td>354369.000000</td>\n",
       "      <td>354369.000000</td>\n",
       "      <td>354369.0</td>\n",
       "      <td>354369.000000</td>\n",
       "    </tr>\n",
       "    <tr>\n",
       "      <th>mean</th>\n",
       "      <td>4416.656776</td>\n",
       "      <td>2004.234448</td>\n",
       "      <td>110.094337</td>\n",
       "      <td>128211.172535</td>\n",
       "      <td>5.714645</td>\n",
       "      <td>0.0</td>\n",
       "      <td>50508.689087</td>\n",
       "    </tr>\n",
       "    <tr>\n",
       "      <th>std</th>\n",
       "      <td>4514.158514</td>\n",
       "      <td>90.227958</td>\n",
       "      <td>189.850405</td>\n",
       "      <td>37905.341530</td>\n",
       "      <td>3.726421</td>\n",
       "      <td>0.0</td>\n",
       "      <td>25783.096248</td>\n",
       "    </tr>\n",
       "    <tr>\n",
       "      <th>min</th>\n",
       "      <td>0.000000</td>\n",
       "      <td>1000.000000</td>\n",
       "      <td>0.000000</td>\n",
       "      <td>5000.000000</td>\n",
       "      <td>0.000000</td>\n",
       "      <td>0.0</td>\n",
       "      <td>1067.000000</td>\n",
       "    </tr>\n",
       "    <tr>\n",
       "      <th>25%</th>\n",
       "      <td>1050.000000</td>\n",
       "      <td>1999.000000</td>\n",
       "      <td>69.000000</td>\n",
       "      <td>125000.000000</td>\n",
       "      <td>3.000000</td>\n",
       "      <td>0.0</td>\n",
       "      <td>30165.000000</td>\n",
       "    </tr>\n",
       "    <tr>\n",
       "      <th>50%</th>\n",
       "      <td>2700.000000</td>\n",
       "      <td>2003.000000</td>\n",
       "      <td>105.000000</td>\n",
       "      <td>150000.000000</td>\n",
       "      <td>6.000000</td>\n",
       "      <td>0.0</td>\n",
       "      <td>49413.000000</td>\n",
       "    </tr>\n",
       "    <tr>\n",
       "      <th>75%</th>\n",
       "      <td>6400.000000</td>\n",
       "      <td>2008.000000</td>\n",
       "      <td>143.000000</td>\n",
       "      <td>150000.000000</td>\n",
       "      <td>9.000000</td>\n",
       "      <td>0.0</td>\n",
       "      <td>71083.000000</td>\n",
       "    </tr>\n",
       "    <tr>\n",
       "      <th>max</th>\n",
       "      <td>20000.000000</td>\n",
       "      <td>9999.000000</td>\n",
       "      <td>20000.000000</td>\n",
       "      <td>150000.000000</td>\n",
       "      <td>12.000000</td>\n",
       "      <td>0.0</td>\n",
       "      <td>99998.000000</td>\n",
       "    </tr>\n",
       "  </tbody>\n",
       "</table>\n",
       "</div>"
      ],
      "text/plain": [
       "               Price  RegistrationYear          Power      Kilometer  \\\n",
       "count  354369.000000     354369.000000  354369.000000  354369.000000   \n",
       "mean     4416.656776       2004.234448     110.094337  128211.172535   \n",
       "std      4514.158514         90.227958     189.850405   37905.341530   \n",
       "min         0.000000       1000.000000       0.000000    5000.000000   \n",
       "25%      1050.000000       1999.000000      69.000000  125000.000000   \n",
       "50%      2700.000000       2003.000000     105.000000  150000.000000   \n",
       "75%      6400.000000       2008.000000     143.000000  150000.000000   \n",
       "max     20000.000000       9999.000000   20000.000000  150000.000000   \n",
       "\n",
       "       RegistrationMonth  NumberOfPictures     PostalCode  \n",
       "count      354369.000000          354369.0  354369.000000  \n",
       "mean            5.714645               0.0   50508.689087  \n",
       "std             3.726421               0.0   25783.096248  \n",
       "min             0.000000               0.0    1067.000000  \n",
       "25%             3.000000               0.0   30165.000000  \n",
       "50%             6.000000               0.0   49413.000000  \n",
       "75%             9.000000               0.0   71083.000000  \n",
       "max            12.000000               0.0   99998.000000  "
      ]
     },
     "execution_count": 4,
     "metadata": {},
     "output_type": "execute_result"
    }
   ],
   "source": [
    "df.describe()"
   ]
  },
  {
   "cell_type": "markdown",
   "metadata": {},
   "source": [
    "Данные содержат артефакты, такие как RegistrationYear = 9999,  Power = 0"
   ]
  },
  {
   "cell_type": "markdown",
   "metadata": {},
   "source": [
    "Для определения рыночной стоимости часть столбцов не потребуется. Оставим только следующие столбцы:\n",
    "\n",
    "- VehicleType — тип автомобильного кузова\n",
    "- RegistrationYear — год регистрации автомобиля\n",
    "- Gearbox — тип коробки передач\n",
    "- Power — мощность (л. с.)\n",
    "- Model — модель автомобиля\n",
    "- Kilometer — пробег (км)\n",
    "- FuelType — тип топлива\n",
    "- Brand — марка автомобиля\n",
    "- NotRepaired — была машина в ремонте или нет\n"
   ]
  },
  {
   "cell_type": "code",
   "execution_count": 5,
   "metadata": {},
   "outputs": [],
   "source": [
    "df = df.drop(['DateCrawled','RegistrationMonth','DateCreated',\n",
    "'NumberOfPictures',\n",
    "'PostalCode',\n",
    "'LastSeen'],axis=1)"
   ]
  },
  {
   "cell_type": "markdown",
   "metadata": {},
   "source": [
    "Переименуем столбцы"
   ]
  },
  {
   "cell_type": "code",
   "execution_count": 6,
   "metadata": {},
   "outputs": [],
   "source": [
    "for name in df.columns:\n",
    "    rena = sub(r\"(?=[A-Z])(?!^)\", '_', name).lower()\n",
    "    df = df.rename(columns={name:rena})"
   ]
  },
  {
   "cell_type": "markdown",
   "metadata": {},
   "source": [
    "Удалим строки в которых неизвестна модель автомобиля, так как это ключевый признак для определения цены и заполнить его невозможно. Пропуски в остальных признаках заполним как \"неизвестно\""
   ]
  },
  {
   "cell_type": "code",
   "execution_count": 7,
   "metadata": {},
   "outputs": [],
   "source": [
    "df['not_repaired'] = df['not_repaired'].fillna('неизвестно')\n",
    "df['fuel_type'] = df['fuel_type'].fillna('неизвестно')\n",
    "df['vehicle_type'] = df['vehicle_type'].fillna('неизвестно')\n",
    "df['gearbox'] = df['gearbox'].fillna('неизвестно')"
   ]
  },
  {
   "cell_type": "code",
   "execution_count": 8,
   "metadata": {
    "scrolled": false
   },
   "outputs": [],
   "source": [
    "df = df.dropna()"
   ]
  },
  {
   "cell_type": "code",
   "execution_count": 9,
   "metadata": {},
   "outputs": [
    {
     "data": {
      "text/plain": [
       "price                0\n",
       "vehicle_type         0\n",
       "registration_year    0\n",
       "gearbox              0\n",
       "power                0\n",
       "model                0\n",
       "kilometer            0\n",
       "fuel_type            0\n",
       "brand                0\n",
       "not_repaired         0\n",
       "dtype: int64"
      ]
     },
     "execution_count": 9,
     "metadata": {},
     "output_type": "execute_result"
    }
   ],
   "source": [
    "df.isna().sum()"
   ]
  },
  {
   "cell_type": "markdown",
   "metadata": {},
   "source": [
    "Выделим обучающие и целевые признаки:"
   ]
  },
  {
   "cell_type": "code",
   "execution_count": 10,
   "metadata": {
    "scrolled": true
   },
   "outputs": [
    {
     "name": "stdout",
     "output_type": "stream",
     "text": [
      "price [    0     1     2 ... 19998 19999 20000]\n"
     ]
    },
    {
     "data": {
      "image/png": "[encoded data removed]",
      "text/plain": [
       "<Figure size 432x288 with 1 Axes>"
      ]
     },
     "metadata": {
      "needs_background": "light"
     },
     "output_type": "display_data"
    },
    {
     "name": "stdout",
     "output_type": "stream",
     "text": [
      "vehicle_type ['bus' 'convertible' 'coupe' 'other' 'sedan' 'small' 'suv' 'wagon'\n",
      " 'неизвестно']\n"
     ]
    },
    {
     "data": {
      "image/png": "[encoded data removed]",
      "text/plain": [
       "<Figure size 432x288 with 1 Axes>"
      ]
     },
     "metadata": {
      "needs_background": "light"
     },
     "output_type": "display_data"
    },
    {
     "name": "stdout",
     "output_type": "stream",
     "text": [
      "registration_year [1000 1001 1111 1200 1234 1300 1400 1500 1600 1602 1800 1910 1919 1923\n",
      " 1927 1928 1929 1930 1931 1932 1933 1934 1935 1936 1937 1938 1941 1942\n",
      " 1943 1945 1947 1949 1950 1951 1952 1953 1954 1955 1956 1957 1958 1959\n",
      " 1960 1961 1962 1963 1964 1965 1966 1967 1968 1969 1970 1971 1972 1973\n",
      " 1974 1975 1976 1977 1978 1979 1980 1981 1982 1983 1984 1985 1986 1987\n",
      " 1988 1989 1990 1991 1992 1993 1994 1995 1996 1997 1998 1999 2000 2001\n",
      " 2002 2003 2004 2005 2006 2007 2008 2009 2010 2011 2012 2013 2014 2015\n",
      " 2016 2017 2018 2019 2066 2200 2290 2500 2900 3000 3700 4000 4500 5000\n",
      " 5555 5900 5911 6000 6500 7000 7100 7500 7800 8000 8200 8500 9000 9999]\n"
     ]
    },
    {
     "data": {
      "image/png": "[encoded data removed]",
      "text/plain": [
       "<Figure size 432x288 with 1 Axes>"
      ]
     },
     "metadata": {
      "needs_background": "light"
     },
     "output_type": "display_data"
    },
    {
     "name": "stdout",
     "output_type": "stream",
     "text": [
      "gearbox ['auto' 'manual' 'неизвестно']\n"
     ]
    },
    {
     "data": {
      "image/png": "[encoded data removed]",
      "text/plain": [
       "<Figure size 432x288 with 1 Axes>"
      ]
     },
     "metadata": {
      "needs_background": "light"
     },
     "output_type": "display_data"
    },
    {
     "name": "stdout",
     "output_type": "stream",
     "text": [
      "power [    0     1     2     3     4     5     6     7     8     9    10    11\n",
      "    12    13    14    15    16    17    18    19    20    21    22    23\n",
      "    24    25    26    27    28    29    30    31    32    33    34    35\n",
      "    36    37    38    39    40    41    42    43    44    45    46    47\n",
      "    48    49    50    51    52    53    54    55    56    57    58    59\n",
      "    60    61    62    63    64    65    66    67    68    69    70    71\n",
      "    72    73    74    75    76    77    78    79    80    81    82    83\n",
      "    84    85    86    87    88    89    90    91    92    93    94    95\n",
      "    96    97    98    99   100   101   102   103   104   105   106   107\n",
      "   108   109   110   111   112   113   114   115   116   117   118   119\n",
      "   120   121   122   123   124   125   126   127   128   129   130   131\n",
      "   132   133   134   135   136   137   138   139   140   141   142   143\n",
      "   144   145   146   147   148   149   150   151   152   153   154   155\n",
      "   156   157   158   159   160   161   162   163   164   165   166   167\n",
      "   168   169   170   171   172   173   174   175   176   177   178   179\n",
      "   180   181   182   183   184   185   186   187   188   189   190   191\n",
      "   192   193   194   195   196   197   198   199   200   201   202   203\n",
      "   204   205   206   207   208   209   210   211   212   213   214   215\n",
      "   216   217   218   219   220   221   222   223   224   225   226   227\n",
      "   228   229   230   231   232   233   234   235   236   237   238   239\n",
      "   240   241   242   243   244   245   246   247   248   249   250   251\n",
      "   252   253   254   255   256   257   258   259   260   261   262   264\n",
      "   265   266   267   268   269   270   271   272   273   274   275   276\n",
      "   277   278   279   280   281   282   283   284   285   286   287   288\n",
      "   289   290   292   293   294   295   296   298   299   300   301   303\n",
      "   304   305   306   307   308   309   310   311   313   314   315   316\n",
      "   317   318   320   321   322   323   324   325   326   327   328   329\n",
      "   330   331   332   333   334   335   336   337   338   339   340   341\n",
      "   343   344   345   346   347   348   349   350   351   352   353   354\n",
      "   355   356   357   358   360   361   362   363   364   365   367   368\n",
      "   370   371   374   375   376   377   379   380   381   382   385   386\n",
      "   387   388   390   392   394   396   398   399   400   401   405   408\n",
      "   409   411   416   420   421   425   426   428   430   431   435   440\n",
      "   445   449   450   454   457   459   460   475   476   485   487   489\n",
      "   490   500   504   505   507   508   510   514   515   517   519   520\n",
      "   521   525   530   540   541   544   550   551   560   572   574   579\n",
      "   580   584   585   599   600   601   603   604   606   607   610   612\n",
      "   620   640   645   650   651   671   678   685   696   700   702   703\n",
      "   743   750   751   754   771   776   800   805   808   850   871   900\n",
      "   901   902   903   907   909   923   950   952   953   960   998   999\n",
      "  1000  1001  1003  1004  1005  1011  1012  1016  1017  1021  1024  1054\n",
      "  1055  1056  1062  1079  1082  1090  1100  1103  1105  1111  1115  1149\n",
      "  1151  1158  1160  1162  1164  1199  1200  1202  1221  1223  1230  1239\n",
      "  1240  1241  1250  1252  1275  1288  1299  1300  1312  1339  1360  1362\n",
      "  1363  1367  1390  1394  1398  1399  1400  1401  1403  1405  1416  1432\n",
      "  1433  1436  1500  1501  1502  1503  1506  1521  1548  1595  1597  1598\n",
      "  1600  1625  1631  1653  1659  1689  1700  1701  1703  1704  1707  1753\n",
      "  1771  1779  1780  1781  1783  1793  1796  1799  1800  1870  1895  1896\n",
      "  1900  1910  1920  1933  1937  1968  1986  1988  1992  1993  1995  1998\n",
      "  1999  2000  2005  2007  2009  2016  2017  2018  2172  2200  2201  2331\n",
      "  2402  2461  2598  2729  2789  2792  2799  3000  3199  3454  3500  3750\n",
      "  4400  4507  4700  5000  5411  5420  5575  5809  5815  5867  6006  6010\n",
      "  6011  6012  6018  6045  6062  6226  6512  6920  7508  7511  7512  7515\n",
      "  7518  7529  7544  8011  8259  8404  8500  9000  9007  9011  9012  9013\n",
      "  9710 10110 10218 10311 10317 10520 10522 10710 11011 11025 11111 11509\n",
      " 11530 11635 12012 12510 12512 13616 13636 15001 15016 15017 15020 15033\n",
      " 16011 16311 16312 17011 17019 17410 17700 17932 19208 19211 19312 20000]\n"
     ]
    },
    {
     "data": {
      "image/png": "[encoded data removed]",
      "text/plain": [
       "<Figure size 432x288 with 1 Axes>"
      ]
     },
     "metadata": {
      "needs_background": "light"
     },
     "output_type": "display_data"
    },
    {
     "name": "stdout",
     "output_type": "stream",
     "text": [
      "model ['100' '145' '147' '156' '159' '1_reihe' '1er' '200' '2_reihe' '300c'\n",
      " '3_reihe' '3er' '4_reihe' '500' '5_reihe' '5er' '601' '6_reihe' '6er'\n",
      " '7er' '80' '850' '90' '900' '9000' '911' 'a1' 'a2' 'a3' 'a4' 'a5' 'a6'\n",
      " 'a8' 'a_klasse' 'accord' 'agila' 'alhambra' 'almera' 'altea' 'amarok'\n",
      " 'antara' 'arosa' 'astra' 'auris' 'avensis' 'aveo' 'aygo' 'b_klasse'\n",
      " 'b_max' 'beetle' 'berlingo' 'bora' 'boxster' 'bravo' 'c1' 'c2' 'c3' 'c4'\n",
      " 'c5' 'c_klasse' 'c_max' 'c_reihe' 'caddy' 'calibra' 'captiva' 'carisma'\n",
      " 'carnival' 'cayenne' 'cc' 'ceed' 'charade' 'cherokee' 'citigo' 'civic'\n",
      " 'cl' 'clio' 'clk' 'clubman' 'colt' 'combo' 'cooper' 'cordoba' 'corolla'\n",
      " 'corsa' 'cr_reihe' 'croma' 'crossfire' 'cuore' 'cx_reihe' 'defender'\n",
      " 'delta' 'discovery' 'doblo' 'ducato' 'duster' 'e_klasse' 'elefantino'\n",
      " 'eos' 'escort' 'espace' 'exeo' 'fabia' 'fiesta' 'focus' 'forester'\n",
      " 'forfour' 'fortwo' 'fox' 'freelander' 'fusion' 'g_klasse' 'galant'\n",
      " 'galaxy' 'getz' 'gl' 'glk' 'golf' 'grand' 'i3' 'i_reihe' 'ibiza'\n",
      " 'impreza' 'insignia' 'jazz' 'jetta' 'jimny' 'juke' 'justy' 'ka' 'kadett'\n",
      " 'kaefer' 'kalina' 'kalos' 'kangoo' 'kappa' 'kuga' 'laguna' 'lancer'\n",
      " 'lanos' 'legacy' 'leon' 'lodgy' 'logan' 'lupo' 'lybra' 'm_klasse'\n",
      " 'm_reihe' 'materia' 'matiz' 'megane' 'meriva' 'micra' 'mii' 'modus'\n",
      " 'mondeo' 'move' 'musa' 'mustang' 'mx_reihe' 'navara' 'niva' 'note'\n",
      " 'nubira' 'octavia' 'omega' 'one' 'other' 'outlander' 'pajero' 'panda'\n",
      " 'passat' 'phaeton' 'picanto' 'polo' 'primera' 'ptcruiser' 'punto' 'q3'\n",
      " 'q5' 'q7' 'qashqai' 'r19' 'range_rover' 'range_rover_evoque'\n",
      " 'range_rover_sport' 'rangerover' 'rav' 'rio' 'roadster' 'roomster'\n",
      " 'rx_reihe' 's60' 's_klasse' 's_max' 's_type' 'samara' 'sandero' 'santa'\n",
      " 'scenic' 'scirocco' 'seicento' 'serie_1' 'serie_2' 'serie_3' 'sharan'\n",
      " 'signum' 'sirion' 'sl' 'slk' 'sorento' 'spark' 'spider' 'sportage'\n",
      " 'sprinter' 'stilo' 'superb' 'swift' 'terios' 'tigra' 'tiguan' 'toledo'\n",
      " 'touareg' 'touran' 'transit' 'transporter' 'tt' 'tucson' 'twingo' 'up'\n",
      " 'v40' 'v50' 'v60' 'v70' 'v_klasse' 'vectra' 'verso' 'viano' 'vito'\n",
      " 'vivaro' 'voyager' 'wrangler' 'x_reihe' 'x_trail' 'x_type' 'xc_reihe'\n",
      " 'yaris' 'yeti' 'ypsilon' 'z_reihe' 'zafira']\n"
     ]
    },
    {
     "data": {
      "image/png": "[encoded data removed]",
      "text/plain": [
       "<Figure size 432x288 with 1 Axes>"
      ]
     },
     "metadata": {
      "needs_background": "light"
     },
     "output_type": "display_data"
    },
    {
     "name": "stdout",
     "output_type": "stream",
     "text": [
      "kilometer [  5000  10000  20000  30000  40000  50000  60000  70000  80000  90000\n",
      " 100000 125000 150000]\n"
     ]
    },
    {
     "data": {
      "image/png": "[encoded data removed]",
      "text/plain": [
       "<Figure size 432x288 with 1 Axes>"
      ]
     },
     "metadata": {
      "needs_background": "light"
     },
     "output_type": "display_data"
    },
    {
     "name": "stdout",
     "output_type": "stream",
     "text": [
      "fuel_type ['cng' 'electric' 'gasoline' 'hybrid' 'lpg' 'other' 'petrol' 'неизвестно']\n"
     ]
    },
    {
     "data": {
      "image/png": "[encoded data removed]",
      "text/plain": [
       "<Figure size 432x288 with 1 Axes>"
      ]
     },
     "metadata": {
      "needs_background": "light"
     },
     "output_type": "display_data"
    },
    {
     "name": "stdout",
     "output_type": "stream",
     "text": [
      "brand ['alfa_romeo' 'audi' 'bmw' 'chevrolet' 'chrysler' 'citroen' 'dacia'\n",
      " 'daewoo' 'daihatsu' 'fiat' 'ford' 'honda' 'hyundai' 'jaguar' 'jeep' 'kia'\n",
      " 'lada' 'lancia' 'land_rover' 'mazda' 'mercedes_benz' 'mini' 'mitsubishi'\n",
      " 'nissan' 'opel' 'peugeot' 'porsche' 'renault' 'rover' 'saab' 'seat'\n",
      " 'skoda' 'smart' 'subaru' 'suzuki' 'toyota' 'trabant' 'volkswagen' 'volvo']\n"
     ]
    },
    {
     "data": {
      "image/png": "[encoded data removed]",
      "text/plain": [
       "<Figure size 432x288 with 1 Axes>"
      ]
     },
     "metadata": {
      "needs_background": "light"
     },
     "output_type": "display_data"
    },
    {
     "name": "stdout",
     "output_type": "stream",
     "text": [
      "not_repaired ['no' 'yes' 'неизвестно']\n"
     ]
    },
    {
     "data": {
      "image/png": "[encoded data removed]",
      "text/plain": [
       "<Figure size 432x288 with 1 Axes>"
      ]
     },
     "metadata": {
      "needs_background": "light"
     },
     "output_type": "display_data"
    }
   ],
   "source": [
    "for column in df.columns:\n",
    "    print(column, df[column].sort_values().unique())\n",
    "    df[column].hist()\n",
    "    plt.show()"
   ]
  },
  {
   "cell_type": "code",
   "execution_count": 11,
   "metadata": {},
   "outputs": [
    {
     "data": {
      "text/plain": [
       "<AxesSubplot:xlabel='registration_year'>"
      ]
     },
     "execution_count": 11,
     "metadata": {},
     "output_type": "execute_result"
    },
    {
     "data": {
      "image/png": "[encoded data removed]",
      "text/plain": [
       "<Figure size 432x288 with 1 Axes>"
      ]
     },
     "metadata": {
      "needs_background": "light"
     },
     "output_type": "display_data"
    }
   ],
   "source": [
    "sb.boxplot(x=df['registration_year'])"
   ]
  },
  {
   "cell_type": "code",
   "execution_count": 12,
   "metadata": {
    "scrolled": true
   },
   "outputs": [
    {
     "data": {
      "text/plain": [
       "<AxesSubplot:xlabel='registration_year'>"
      ]
     },
     "execution_count": 12,
     "metadata": {},
     "output_type": "execute_result"
    },
    {
     "data": {
      "image/png": "[encoded data removed]",
      "text/plain": [
       "<Figure size 432x288 with 1 Axes>"
      ]
     },
     "metadata": {
      "needs_background": "light"
     },
     "output_type": "display_data"
    }
   ],
   "source": [
    "df = df[(df['registration_year']<2022) & (df['registration_year']>df['registration_year'].quantile(0.05))]\n",
    "sb.boxplot(x=df['registration_year'])"
   ]
  },
  {
   "cell_type": "code",
   "execution_count": 13,
   "metadata": {
    "scrolled": true
   },
   "outputs": [
    {
     "data": {
      "text/plain": [
       "<AxesSubplot:xlabel='power'>"
      ]
     },
     "execution_count": 13,
     "metadata": {},
     "output_type": "execute_result"
    },
    {
     "data": {
      "image/png": "[encoded data removed]",
      "text/plain": [
       "<Figure size 432x288 with 1 Axes>"
      ]
     },
     "metadata": {
      "needs_background": "light"
     },
     "output_type": "display_data"
    }
   ],
   "source": [
    "sb.boxplot(x=df['power'])"
   ]
  },
  {
   "cell_type": "code",
   "execution_count": 14,
   "metadata": {},
   "outputs": [],
   "source": [
    "df = df.loc[(df['power']>39) & (df['power']<550)]"
   ]
  },
  {
   "cell_type": "code",
   "execution_count": 15,
   "metadata": {
    "scrolled": true
   },
   "outputs": [
    {
     "data": {
      "text/plain": [
       "<AxesSubplot:xlabel='power'>"
      ]
     },
     "execution_count": 15,
     "metadata": {},
     "output_type": "execute_result"
    },
    {
     "data": {
      "image/png": "[encoded data removed]",
      "text/plain": [
       "<Figure size 432x288 with 1 Axes>"
      ]
     },
     "metadata": {
      "needs_background": "light"
     },
     "output_type": "display_data"
    }
   ],
   "source": [
    "sb.boxplot(x=df['power'])"
   ]
  },
  {
   "cell_type": "code",
   "execution_count": 16,
   "metadata": {
    "scrolled": false
   },
   "outputs": [
    {
     "data": {
      "text/plain": [
       "<AxesSubplot:xlabel='price'>"
      ]
     },
     "execution_count": 16,
     "metadata": {},
     "output_type": "execute_result"
    },
    {
     "data": {
      "image/png": "[encoded data removed]",
      "text/plain": [
       "<Figure size 432x288 with 1 Axes>"
      ]
     },
     "metadata": {
      "needs_background": "light"
     },
     "output_type": "display_data"
    }
   ],
   "source": [
    "sb.boxplot(x=df['price'])"
   ]
  },
  {
   "cell_type": "code",
   "execution_count": 17,
   "metadata": {},
   "outputs": [],
   "source": [
    "df = df[df.price>500]"
   ]
  },
  {
   "cell_type": "code",
   "execution_count": 18,
   "metadata": {
    "scrolled": true
   },
   "outputs": [
    {
     "data": {
      "text/html": [
       "<div>\n",
       "<style scoped>\n",
       "    .dataframe tbody tr th:only-of-type {\n",
       "        vertical-align: middle;\n",
       "    }\n",
       "\n",
       "    .dataframe tbody tr th {\n",
       "        vertical-align: top;\n",
       "    }\n",
       "\n",
       "    .dataframe thead th {\n",
       "        text-align: right;\n",
       "    }\n",
       "</style>\n",
       "<table border=\"1\" class=\"dataframe\">\n",
       "  <thead>\n",
       "    <tr style=\"text-align: right;\">\n",
       "      <th></th>\n",
       "      <th>price</th>\n",
       "      <th>vehicle_type</th>\n",
       "      <th>registration_year</th>\n",
       "      <th>gearbox</th>\n",
       "      <th>power</th>\n",
       "      <th>model</th>\n",
       "      <th>kilometer</th>\n",
       "      <th>fuel_type</th>\n",
       "      <th>brand</th>\n",
       "      <th>not_repaired</th>\n",
       "    </tr>\n",
       "  </thead>\n",
       "  <tbody>\n",
       "    <tr>\n",
       "      <th>count</th>\n",
       "      <td>260793.000000</td>\n",
       "      <td>260793</td>\n",
       "      <td>260793.00000</td>\n",
       "      <td>260793</td>\n",
       "      <td>260793.000000</td>\n",
       "      <td>260793</td>\n",
       "      <td>260793.000000</td>\n",
       "      <td>260793</td>\n",
       "      <td>260793</td>\n",
       "      <td>260793</td>\n",
       "    </tr>\n",
       "    <tr>\n",
       "      <th>unique</th>\n",
       "      <td>NaN</td>\n",
       "      <td>9</td>\n",
       "      <td>NaN</td>\n",
       "      <td>3</td>\n",
       "      <td>NaN</td>\n",
       "      <td>247</td>\n",
       "      <td>NaN</td>\n",
       "      <td>8</td>\n",
       "      <td>38</td>\n",
       "      <td>3</td>\n",
       "    </tr>\n",
       "    <tr>\n",
       "      <th>top</th>\n",
       "      <td>NaN</td>\n",
       "      <td>sedan</td>\n",
       "      <td>NaN</td>\n",
       "      <td>manual</td>\n",
       "      <td>NaN</td>\n",
       "      <td>golf</td>\n",
       "      <td>NaN</td>\n",
       "      <td>petrol</td>\n",
       "      <td>volkswagen</td>\n",
       "      <td>no</td>\n",
       "    </tr>\n",
       "    <tr>\n",
       "      <th>freq</th>\n",
       "      <td>NaN</td>\n",
       "      <td>71071</td>\n",
       "      <td>NaN</td>\n",
       "      <td>202941</td>\n",
       "      <td>NaN</td>\n",
       "      <td>22083</td>\n",
       "      <td>NaN</td>\n",
       "      <td>158148</td>\n",
       "      <td>56218</td>\n",
       "      <td>207064</td>\n",
       "    </tr>\n",
       "    <tr>\n",
       "      <th>mean</th>\n",
       "      <td>5254.617754</td>\n",
       "      <td>NaN</td>\n",
       "      <td>2004.51432</td>\n",
       "      <td>NaN</td>\n",
       "      <td>123.657123</td>\n",
       "      <td>NaN</td>\n",
       "      <td>127690.428808</td>\n",
       "      <td>NaN</td>\n",
       "      <td>NaN</td>\n",
       "      <td>NaN</td>\n",
       "    </tr>\n",
       "    <tr>\n",
       "      <th>std</th>\n",
       "      <td>4605.469753</td>\n",
       "      <td>NaN</td>\n",
       "      <td>5.41487</td>\n",
       "      <td>NaN</td>\n",
       "      <td>53.020391</td>\n",
       "      <td>NaN</td>\n",
       "      <td>36711.515311</td>\n",
       "      <td>NaN</td>\n",
       "      <td>NaN</td>\n",
       "      <td>NaN</td>\n",
       "    </tr>\n",
       "    <tr>\n",
       "      <th>min</th>\n",
       "      <td>501.000000</td>\n",
       "      <td>NaN</td>\n",
       "      <td>1994.00000</td>\n",
       "      <td>NaN</td>\n",
       "      <td>40.000000</td>\n",
       "      <td>NaN</td>\n",
       "      <td>5000.000000</td>\n",
       "      <td>NaN</td>\n",
       "      <td>NaN</td>\n",
       "      <td>NaN</td>\n",
       "    </tr>\n",
       "    <tr>\n",
       "      <th>25%</th>\n",
       "      <td>1650.000000</td>\n",
       "      <td>NaN</td>\n",
       "      <td>2000.00000</td>\n",
       "      <td>NaN</td>\n",
       "      <td>83.000000</td>\n",
       "      <td>NaN</td>\n",
       "      <td>125000.000000</td>\n",
       "      <td>NaN</td>\n",
       "      <td>NaN</td>\n",
       "      <td>NaN</td>\n",
       "    </tr>\n",
       "    <tr>\n",
       "      <th>50%</th>\n",
       "      <td>3600.000000</td>\n",
       "      <td>NaN</td>\n",
       "      <td>2004.00000</td>\n",
       "      <td>NaN</td>\n",
       "      <td>116.000000</td>\n",
       "      <td>NaN</td>\n",
       "      <td>150000.000000</td>\n",
       "      <td>NaN</td>\n",
       "      <td>NaN</td>\n",
       "      <td>NaN</td>\n",
       "    </tr>\n",
       "    <tr>\n",
       "      <th>75%</th>\n",
       "      <td>7500.000000</td>\n",
       "      <td>NaN</td>\n",
       "      <td>2008.00000</td>\n",
       "      <td>NaN</td>\n",
       "      <td>150.000000</td>\n",
       "      <td>NaN</td>\n",
       "      <td>150000.000000</td>\n",
       "      <td>NaN</td>\n",
       "      <td>NaN</td>\n",
       "      <td>NaN</td>\n",
       "    </tr>\n",
       "    <tr>\n",
       "      <th>max</th>\n",
       "      <td>20000.000000</td>\n",
       "      <td>NaN</td>\n",
       "      <td>2019.00000</td>\n",
       "      <td>NaN</td>\n",
       "      <td>540.000000</td>\n",
       "      <td>NaN</td>\n",
       "      <td>150000.000000</td>\n",
       "      <td>NaN</td>\n",
       "      <td>NaN</td>\n",
       "      <td>NaN</td>\n",
       "    </tr>\n",
       "  </tbody>\n",
       "</table>\n",
       "</div>"
      ],
      "text/plain": [
       "                price vehicle_type  registration_year gearbox          power  \\\n",
       "count   260793.000000       260793       260793.00000  260793  260793.000000   \n",
       "unique            NaN            9                NaN       3            NaN   \n",
       "top               NaN        sedan                NaN  manual            NaN   \n",
       "freq              NaN        71071                NaN  202941            NaN   \n",
       "mean      5254.617754          NaN         2004.51432     NaN     123.657123   \n",
       "std       4605.469753          NaN            5.41487     NaN      53.020391   \n",
       "min        501.000000          NaN         1994.00000     NaN      40.000000   \n",
       "25%       1650.000000          NaN         2000.00000     NaN      83.000000   \n",
       "50%       3600.000000          NaN         2004.00000     NaN     116.000000   \n",
       "75%       7500.000000          NaN         2008.00000     NaN     150.000000   \n",
       "max      20000.000000          NaN         2019.00000     NaN     540.000000   \n",
       "\n",
       "         model      kilometer fuel_type       brand not_repaired  \n",
       "count   260793  260793.000000    260793      260793       260793  \n",
       "unique     247            NaN         8          38            3  \n",
       "top       golf            NaN    petrol  volkswagen           no  \n",
       "freq     22083            NaN    158148       56218       207064  \n",
       "mean       NaN  127690.428808       NaN         NaN          NaN  \n",
       "std        NaN   36711.515311       NaN         NaN          NaN  \n",
       "min        NaN    5000.000000       NaN         NaN          NaN  \n",
       "25%        NaN  125000.000000       NaN         NaN          NaN  \n",
       "50%        NaN  150000.000000       NaN         NaN          NaN  \n",
       "75%        NaN  150000.000000       NaN         NaN          NaN  \n",
       "max        NaN  150000.000000       NaN         NaN          NaN  "
      ]
     },
     "execution_count": 18,
     "metadata": {},
     "output_type": "execute_result"
    }
   ],
   "source": [
    "#код ревьюера\n",
    "df.describe(include='all')"
   ]
  },
  {
   "cell_type": "code",
   "execution_count": 19,
   "metadata": {},
   "outputs": [],
   "source": [
    "target = df['price']\n",
    "features = df.drop(['price'], axis=1)"
   ]
  },
  {
   "cell_type": "code",
   "execution_count": 20,
   "metadata": {},
   "outputs": [],
   "source": [
    "features_OHE = pd.get_dummies(features[['vehicle_type','gearbox','fuel_type','not_repaired']],drop_first=True)"
   ]
  },
  {
   "cell_type": "code",
   "execution_count": 21,
   "metadata": {},
   "outputs": [
    {
     "data": {
      "text/html": [
       "<div>\n",
       "<style scoped>\n",
       "    .dataframe tbody tr th:only-of-type {\n",
       "        vertical-align: middle;\n",
       "    }\n",
       "\n",
       "    .dataframe tbody tr th {\n",
       "        vertical-align: top;\n",
       "    }\n",
       "\n",
       "    .dataframe thead th {\n",
       "        text-align: right;\n",
       "    }\n",
       "</style>\n",
       "<table border=\"1\" class=\"dataframe\">\n",
       "  <thead>\n",
       "    <tr style=\"text-align: right;\">\n",
       "      <th></th>\n",
       "      <th>vehicle_type_convertible</th>\n",
       "      <th>vehicle_type_coupe</th>\n",
       "      <th>vehicle_type_other</th>\n",
       "      <th>vehicle_type_sedan</th>\n",
       "      <th>vehicle_type_small</th>\n",
       "      <th>vehicle_type_suv</th>\n",
       "      <th>vehicle_type_wagon</th>\n",
       "      <th>vehicle_type_неизвестно</th>\n",
       "      <th>gearbox_manual</th>\n",
       "      <th>gearbox_неизвестно</th>\n",
       "      <th>fuel_type_electric</th>\n",
       "      <th>fuel_type_gasoline</th>\n",
       "      <th>fuel_type_hybrid</th>\n",
       "      <th>fuel_type_lpg</th>\n",
       "      <th>fuel_type_other</th>\n",
       "      <th>fuel_type_petrol</th>\n",
       "      <th>fuel_type_неизвестно</th>\n",
       "      <th>not_repaired_yes</th>\n",
       "      <th>not_repaired_неизвестно</th>\n",
       "    </tr>\n",
       "  </thead>\n",
       "  <tbody>\n",
       "    <tr>\n",
       "      <th>2</th>\n",
       "      <td>0</td>\n",
       "      <td>0</td>\n",
       "      <td>0</td>\n",
       "      <td>0</td>\n",
       "      <td>0</td>\n",
       "      <td>1</td>\n",
       "      <td>0</td>\n",
       "      <td>0</td>\n",
       "      <td>0</td>\n",
       "      <td>0</td>\n",
       "      <td>0</td>\n",
       "      <td>1</td>\n",
       "      <td>0</td>\n",
       "      <td>0</td>\n",
       "      <td>0</td>\n",
       "      <td>0</td>\n",
       "      <td>0</td>\n",
       "      <td>0</td>\n",
       "      <td>1</td>\n",
       "    </tr>\n",
       "    <tr>\n",
       "      <th>3</th>\n",
       "      <td>0</td>\n",
       "      <td>0</td>\n",
       "      <td>0</td>\n",
       "      <td>0</td>\n",
       "      <td>1</td>\n",
       "      <td>0</td>\n",
       "      <td>0</td>\n",
       "      <td>0</td>\n",
       "      <td>1</td>\n",
       "      <td>0</td>\n",
       "      <td>0</td>\n",
       "      <td>0</td>\n",
       "      <td>0</td>\n",
       "      <td>0</td>\n",
       "      <td>0</td>\n",
       "      <td>1</td>\n",
       "      <td>0</td>\n",
       "      <td>0</td>\n",
       "      <td>0</td>\n",
       "    </tr>\n",
       "    <tr>\n",
       "      <th>4</th>\n",
       "      <td>0</td>\n",
       "      <td>0</td>\n",
       "      <td>0</td>\n",
       "      <td>0</td>\n",
       "      <td>1</td>\n",
       "      <td>0</td>\n",
       "      <td>0</td>\n",
       "      <td>0</td>\n",
       "      <td>1</td>\n",
       "      <td>0</td>\n",
       "      <td>0</td>\n",
       "      <td>1</td>\n",
       "      <td>0</td>\n",
       "      <td>0</td>\n",
       "      <td>0</td>\n",
       "      <td>0</td>\n",
       "      <td>0</td>\n",
       "      <td>0</td>\n",
       "      <td>0</td>\n",
       "    </tr>\n",
       "    <tr>\n",
       "      <th>5</th>\n",
       "      <td>0</td>\n",
       "      <td>0</td>\n",
       "      <td>0</td>\n",
       "      <td>1</td>\n",
       "      <td>0</td>\n",
       "      <td>0</td>\n",
       "      <td>0</td>\n",
       "      <td>0</td>\n",
       "      <td>1</td>\n",
       "      <td>0</td>\n",
       "      <td>0</td>\n",
       "      <td>0</td>\n",
       "      <td>0</td>\n",
       "      <td>0</td>\n",
       "      <td>0</td>\n",
       "      <td>1</td>\n",
       "      <td>0</td>\n",
       "      <td>1</td>\n",
       "      <td>0</td>\n",
       "    </tr>\n",
       "    <tr>\n",
       "      <th>6</th>\n",
       "      <td>1</td>\n",
       "      <td>0</td>\n",
       "      <td>0</td>\n",
       "      <td>0</td>\n",
       "      <td>0</td>\n",
       "      <td>0</td>\n",
       "      <td>0</td>\n",
       "      <td>0</td>\n",
       "      <td>1</td>\n",
       "      <td>0</td>\n",
       "      <td>0</td>\n",
       "      <td>0</td>\n",
       "      <td>0</td>\n",
       "      <td>0</td>\n",
       "      <td>0</td>\n",
       "      <td>1</td>\n",
       "      <td>0</td>\n",
       "      <td>0</td>\n",
       "      <td>0</td>\n",
       "    </tr>\n",
       "  </tbody>\n",
       "</table>\n",
       "</div>"
      ],
      "text/plain": [
       "   vehicle_type_convertible  vehicle_type_coupe  vehicle_type_other  \\\n",
       "2                         0                   0                   0   \n",
       "3                         0                   0                   0   \n",
       "4                         0                   0                   0   \n",
       "5                         0                   0                   0   \n",
       "6                         1                   0                   0   \n",
       "\n",
       "   vehicle_type_sedan  vehicle_type_small  vehicle_type_suv  \\\n",
       "2                   0                   0                 1   \n",
       "3                   0                   1                 0   \n",
       "4                   0                   1                 0   \n",
       "5                   1                   0                 0   \n",
       "6                   0                   0                 0   \n",
       "\n",
       "   vehicle_type_wagon  vehicle_type_неизвестно  gearbox_manual  \\\n",
       "2                   0                        0               0   \n",
       "3                   0                        0               1   \n",
       "4                   0                        0               1   \n",
       "5                   0                        0               1   \n",
       "6                   0                        0               1   \n",
       "\n",
       "   gearbox_неизвестно  fuel_type_electric  fuel_type_gasoline  \\\n",
       "2                   0                   0                   1   \n",
       "3                   0                   0                   0   \n",
       "4                   0                   0                   1   \n",
       "5                   0                   0                   0   \n",
       "6                   0                   0                   0   \n",
       "\n",
       "   fuel_type_hybrid  fuel_type_lpg  fuel_type_other  fuel_type_petrol  \\\n",
       "2                 0              0                0                 0   \n",
       "3                 0              0                0                 1   \n",
       "4                 0              0                0                 0   \n",
       "5                 0              0                0                 1   \n",
       "6                 0              0                0                 1   \n",
       "\n",
       "   fuel_type_неизвестно  not_repaired_yes  not_repaired_неизвестно  \n",
       "2                     0                 0                        1  \n",
       "3                     0                 0                        0  \n",
       "4                     0                 0                        0  \n",
       "5                     0                 1                        0  \n",
       "6                     0                 0                        0  "
      ]
     },
     "execution_count": 21,
     "metadata": {},
     "output_type": "execute_result"
    }
   ],
   "source": [
    "features_OHE.head()"
   ]
  },
  {
   "cell_type": "markdown",
   "metadata": {},
   "source": [
    "Категориальные признаки которые имеют много различных значений, закодируем числовыми метками."
   ]
  },
  {
   "cell_type": "code",
   "execution_count": 22,
   "metadata": {},
   "outputs": [],
   "source": [
    "features_encoder = df[['brand','model']].apply(LabelEncoder().fit_transform) "
   ]
  },
  {
   "cell_type": "code",
   "execution_count": 23,
   "metadata": {},
   "outputs": [],
   "source": [
    "cat_features = ['vehicle_type','gearbox','model','fuel_type','brand','not_repaired']"
   ]
  },
  {
   "cell_type": "markdown",
   "metadata": {},
   "source": [
    "В *features_preproc* лежат данные с предобработанными категориальными признаками, для простых моделей"
   ]
  },
  {
   "cell_type": "code",
   "execution_count": 24,
   "metadata": {},
   "outputs": [],
   "source": [
    "features_preproc = df.drop(cat_features,axis=1)\n",
    "features_preproc = features_preproc.drop('price', axis = 1)\n",
    "features_preproc[features_encoder.columns] = features_encoder\n",
    "features_preproc[features_OHE.columns] = features_OHE"
   ]
  },
  {
   "cell_type": "code",
   "execution_count": 25,
   "metadata": {},
   "outputs": [
    {
     "name": "stdout",
     "output_type": "stream",
     "text": [
      "<class 'pandas.core.frame.DataFrame'>\n",
      "Int64Index: 260793 entries, 2 to 354368\n",
      "Data columns (total 24 columns):\n",
      " #   Column                    Non-Null Count   Dtype\n",
      "---  ------                    --------------   -----\n",
      " 0   registration_year         260793 non-null  int64\n",
      " 1   power                     260793 non-null  int64\n",
      " 2   kilometer                 260793 non-null  int64\n",
      " 3   brand                     260793 non-null  int64\n",
      " 4   model                     260793 non-null  int64\n",
      " 5   vehicle_type_convertible  260793 non-null  uint8\n",
      " 6   vehicle_type_coupe        260793 non-null  uint8\n",
      " 7   vehicle_type_other        260793 non-null  uint8\n",
      " 8   vehicle_type_sedan        260793 non-null  uint8\n",
      " 9   vehicle_type_small        260793 non-null  uint8\n",
      " 10  vehicle_type_suv          260793 non-null  uint8\n",
      " 11  vehicle_type_wagon        260793 non-null  uint8\n",
      " 12  vehicle_type_неизвестно   260793 non-null  uint8\n",
      " 13  gearbox_manual            260793 non-null  uint8\n",
      " 14  gearbox_неизвестно        260793 non-null  uint8\n",
      " 15  fuel_type_electric        260793 non-null  uint8\n",
      " 16  fuel_type_gasoline        260793 non-null  uint8\n",
      " 17  fuel_type_hybrid          260793 non-null  uint8\n",
      " 18  fuel_type_lpg             260793 non-null  uint8\n",
      " 19  fuel_type_other           260793 non-null  uint8\n",
      " 20  fuel_type_petrol          260793 non-null  uint8\n",
      " 21  fuel_type_неизвестно      260793 non-null  uint8\n",
      " 22  not_repaired_yes          260793 non-null  uint8\n",
      " 23  not_repaired_неизвестно   260793 non-null  uint8\n",
      "dtypes: int64(5), uint8(19)\n",
      "memory usage: 16.7 MB\n"
     ]
    }
   ],
   "source": [
    "features_preproc.info()"
   ]
  },
  {
   "cell_type": "code",
   "execution_count": 26,
   "metadata": {},
   "outputs": [],
   "source": [
    "features_preproc_train,features_preproc_test, target_preproc_train, target_preproc_test = train_test_split(features_preproc,target,test_size=0.25,random_state=1234)"
   ]
  },
  {
   "cell_type": "code",
   "execution_count": 27,
   "metadata": {},
   "outputs": [
    {
     "name": "stdout",
     "output_type": "stream",
     "text": [
      "(195594, 24) (65199, 24) (195594,) (65199,)\n"
     ]
    }
   ],
   "source": [
    "print(features_preproc_train.shape,features_preproc_test.shape, target_preproc_train.shape, target_preproc_test.shape)"
   ]
  },
  {
   "cell_type": "code",
   "execution_count": 28,
   "metadata": {},
   "outputs": [],
   "source": [
    "features_train,features_test, target_train, target_test = train_test_split(features,target,test_size=0.25,random_state=1234)\n"
   ]
  },
  {
   "cell_type": "code",
   "execution_count": 29,
   "metadata": {},
   "outputs": [
    {
     "name": "stdout",
     "output_type": "stream",
     "text": [
      "(195594, 9) (65199, 9) (195594,) (65199,)\n"
     ]
    }
   ],
   "source": [
    "print(features_train.shape,features_test.shape, target_train.shape, target_test.shape)"
   ]
  },
  {
   "cell_type": "markdown",
   "metadata": {},
   "source": [
    "## Обучение моделей"
   ]
  },
  {
   "cell_type": "markdown",
   "metadata": {},
   "source": [
    "### Линейная регрессия"
   ]
  },
  {
   "cell_type": "code",
   "execution_count": 30,
   "metadata": {},
   "outputs": [
    {
     "name": "stdout",
     "output_type": "stream",
     "text": [
      "2513.300711264126\n"
     ]
    }
   ],
   "source": [
    "model_LR = LinearRegression()\n",
    "score_LR = -cross_val_score(model_LR, features_preproc_train, target_preproc_train, \n",
    "                             scoring='neg_root_mean_squared_error',\n",
    "                             cv = 3).mean()\n",
    "\n",
    "model_LR.fit(features_preproc_train, target_preproc_train)\n",
    "\n",
    "print(score_LR)"
   ]
  },
  {
   "cell_type": "markdown",
   "metadata": {},
   "source": [
    "### Случайный лес"
   ]
  },
  {
   "cell_type": "markdown",
   "metadata": {},
   "source": [
    "Подбор параметров на обучающей выборке"
   ]
  },
  {
   "cell_type": "code",
   "execution_count": 34,
   "metadata": {
    "scrolled": true
   },
   "outputs": [
    {
     "data": {},
     "execution_count": 34,
     "metadata": {},
     "output_type": "execute_result"
    }
   ],
   "source": [
    "%%time\n",
    "rfr = RandomForestRegressor()\n",
    "\n",
    "parametrs = { 'n_estimators': range (80, 150,30),\n",
    "              'max_depth': range (13,17, 3),\n",
    "            'max_features':range (10,21, 10)}\n",
    "\n",
    "grid_RFR = GridSearchCV(rfr, parametrs, cv=3,scoring='neg_root_mean_squared_error',verbose=10)\n",
    "grid_RFR.fit(features_preproc_train, target_preproc_train)\n",
    "print(grid_RFR.best_params_)\n",
    "print(grid_RFR.best_score_)"
   ]
  },
  {
   "cell_type": "code",
   "execution_count": 31,
   "metadata": {},
   "outputs": [
    {
     "name": "stdout",
     "output_type": "stream",
     "text": [
      "1518.7275219430203\n"
     ]
    }
   ],
   "source": [
    "rfr = RandomForestRegressor(max_depth= 16, max_features=10, n_estimators= 140)\n",
    "score_RFR = -cross_val_score(rfr, features_preproc_train, target_preproc_train, \n",
    "                             scoring='neg_root_mean_squared_error',\n",
    "                             cv = 3).mean()\n",
    "print(score_RFR)"
   ]
  },
  {
   "cell_type": "markdown",
   "metadata": {},
   "source": [
    "### Градиентный бустинг CatBoost"
   ]
  },
  {
   "cell_type": "code",
   "execution_count": 36,
   "metadata": {
    "scrolled": true
   },
   "outputs": [
    {
     "data": {},
     "execution_count": 36,
     "metadata": {},
     "output_type": "execute_result"
    }
   ],
   "source": [
    "model_CBR = CatBoostRegressor( cat_features=cat_features,loss_function=\"RMSE\",verbose=False)\n",
    "\n",
    "grid = {'iterations': range(80, 150,30),\n",
    "        'depth': range(13, 17, 3),\n",
    "        }\n",
    "\n",
    "grid_CBR = GridSearchCV(estimator=model_CBR,param_grid=grid,\n",
    "                                       verbose = 20,\n",
    "                                       scoring = 'neg_root_mean_squared_error',\n",
    "                          cv = 3)\n",
    "\n",
    "grid_CBR.fit(features_train,target_train)\n",
    "print(grid_CBR.best_params_)\n",
    "print(grid_CBR.best_score_)"
   ]
  },
  {
   "cell_type": "code",
   "execution_count": 32,
   "metadata": {},
   "outputs": [
    {
     "name": "stdout",
     "output_type": "stream",
     "text": [
      "1499.8189609876433\n"
     ]
    }
   ],
   "source": [
    "cbr = CatBoostRegressor(depth = 13, iterations = 140,cat_features=cat_features,loss_function=\"RMSE\",verbose=False)\n",
    "score_CBR = -cross_val_score(cbr, features_train, target_train, \n",
    "                             scoring='neg_root_mean_squared_error',\n",
    "                             cv = 3).mean()\n",
    "print(score_CBR)"
   ]
  },
  {
   "cell_type": "markdown",
   "metadata": {},
   "source": [
    "### Градиентный бустинг LightGBM"
   ]
  },
  {
   "cell_type": "markdown",
   "metadata": {},
   "source": [
    "Обучение модели на заранее обработанных катогериальных признаках"
   ]
  },
  {
   "cell_type": "code",
   "execution_count": 38,
   "metadata": {
    "scrolled": true
   },
   "outputs": [
    {
     "data": {},
     "execution_count": 38,
     "metadata": {},
     "output_type": "execute_result"
    }
   ],
   "source": [
    "%%time\n",
    "model_LGBM = LGBMRegressor()\n",
    "grid = {'max_depth': range(16,30,3),\n",
    "        'n_estimators': range(140,200,30),\n",
    "        }\n",
    "\n",
    "grid_LGBM = GridSearchCV(estimator=model_LGBM,param_grid=grid,\n",
    "                                       verbose = 20,\n",
    "                                       scoring = 'neg_root_mean_squared_error',\n",
    "                          cv = 3)\n",
    "grid_LGBM.fit(features_preproc_train, target_preproc_train)\n",
    "print(grid_LGBM.best_params_)\n",
    "print(grid_LGBM.best_score_)"
   ]
  },
  {
   "cell_type": "markdown",
   "metadata": {},
   "source": [
    "Обучение модели без заранее обработанных катогериальных признаках"
   ]
  },
  {
   "cell_type": "code",
   "execution_count": 33,
   "metadata": {},
   "outputs": [
    {
     "name": "stderr",
     "output_type": "stream",
     "text": [
      "/opt/conda/lib/python3.9/site-packages/pandas/core/frame.py:3191: SettingWithCopyWarning: \n",
      "A value is trying to be set on a copy of a slice from a DataFrame.\n",
      "Try using .loc[row_indexer,col_indexer] = value instead\n",
      "\n",
      "See the caveats in the documentation: https://pandas.pydata.org/pandas-docs/stable/user_guide/indexing.html#returning-a-view-versus-a-copy\n",
      "  self[k1] = value[k2]\n"
     ]
    }
   ],
   "source": [
    "features_train[cat_features] = features_train[cat_features].astype('category')"
   ]
  },
  {
   "cell_type": "code",
   "execution_count": null,
   "metadata": {
    "scrolled": true
   },
   "outputs": [],
   "source": [
    "%%time\n",
    "model_LGBM = LGBMRegressor()\n",
    "grid = {'max_depth': range(16,30,3),\n",
    "        'n_estimators': range(140,200,30),\n",
    "        }\n",
    "\n",
    "grid_LGBM = GridSearchCV(estimator=model_LGBM,param_grid=grid,\n",
    "                                       verbose = 20,\n",
    "                                       scoring = 'neg_root_mean_squared_error',\n",
    "                          cv = 3)\n",
    "\n",
    "grid_LGBM.fit(features_train, target_train)\n",
    "print(grid_LGBM.best_params_)\n",
    "print(grid_LGBM.best_score_)"
   ]
  },
  {
   "cell_type": "code",
   "execution_count": 35,
   "metadata": {},
   "outputs": [
    {
     "name": "stdout",
     "output_type": "stream",
     "text": [
      "1512.057806132411\n"
     ]
    }
   ],
   "source": [
    "lgbm = LGBMRegressor(max_depth = 16, n_estimators= 170)\n",
    "score_LGBM = -cross_val_score(lgbm, features_train, target_train, \n",
    "                             scoring='neg_root_mean_squared_error',\n",
    "                             cv = 3).mean()\n",
    "print(score_LGBM)"
   ]
  },
  {
   "cell_type": "markdown",
   "metadata": {},
   "source": [
    "### Вычисление времени обучения отобранных моделей"
   ]
  },
  {
   "cell_type": "code",
   "execution_count": 36,
   "metadata": {},
   "outputs": [
    {
     "name": "stdout",
     "output_type": "stream",
     "text": [
      "CPU times: user 258 ms, sys: 93.1 ms, total: 351 ms\n",
      "Wall time: 314 ms\n"
     ]
    },
    {
     "data": {
      "text/plain": [
       "LinearRegression()"
      ]
     },
     "execution_count": 36,
     "metadata": {},
     "output_type": "execute_result"
    }
   ],
   "source": [
    "%%time\n",
    "\n",
    "model_LR.fit(features_preproc_train, target_preproc_train)"
   ]
  },
  {
   "cell_type": "code",
   "execution_count": 37,
   "metadata": {
    "scrolled": true
   },
   "outputs": [
    {
     "name": "stdout",
     "output_type": "stream",
     "text": [
      "CPU times: user 33.7 s, sys: 110 ms, total: 33.8 s\n",
      "Wall time: 33.8 s\n"
     ]
    },
    {
     "data": {
      "text/plain": [
       "RandomForestRegressor(max_depth=16, max_features=10, n_estimators=140)"
      ]
     },
     "execution_count": 37,
     "metadata": {},
     "output_type": "execute_result"
    }
   ],
   "source": [
    "%%time\n",
    "rfr.fit(features_preproc_train, target_preproc_train)"
   ]
  },
  {
   "cell_type": "code",
   "execution_count": 38,
   "metadata": {
    "scrolled": true
   },
   "outputs": [
    {
     "name": "stdout",
     "output_type": "stream",
     "text": [
      "CPU times: user 31.2 s, sys: 143 ms, total: 31.4 s\n",
      "Wall time: 31.8 s\n"
     ]
    },
    {
     "data": {
      "text/plain": [
       "<catboost.core.CatBoostRegressor at 0x7fd6d192a250>"
      ]
     },
     "execution_count": 38,
     "metadata": {},
     "output_type": "execute_result"
    }
   ],
   "source": [
    "%%time\n",
    "cbr.fit(features_train, target_train)"
   ]
  },
  {
   "cell_type": "code",
   "execution_count": 41,
   "metadata": {
    "scrolled": false
   },
   "outputs": [
    {
     "name": "stdout",
     "output_type": "stream",
     "text": [
      "CPU times: user 5.69 s, sys: 13.5 ms, total: 5.71 s\n",
      "Wall time: 5.76 s\n"
     ]
    },
    {
     "data": {
      "text/plain": [
       "LGBMRegressor(max_depth=16, n_estimators=170)"
      ]
     },
     "execution_count": 41,
     "metadata": {},
     "output_type": "execute_result"
    }
   ],
   "source": [
    "%%time\n",
    "lgbm.fit(features_train, target_train)"
   ]
  },
  {
   "cell_type": "code",
   "execution_count": 151,
   "metadata": {},
   "outputs": [
    {
     "data": {},
     "execution_count": 151,
     "metadata": {},
     "output_type": "execute_result"
    }
   ],
   "source": [
    "new_rows = {'model':['Linear','RandomForest','CatBoost','LGBM'], 'RMSE':[score_LR,score_RFR,score_CBR,score_LGBM] , 'time':[0.314,33.8,31.8,5.76]}\n",
    "df_result = pd.DataFrame(data=new_rows,columns=['model','RMSE','time'])\n",
    "df_result.sort_values('RMSE')"
   ]
  },
  {
   "cell_type": "markdown",
   "metadata": {},
   "source": [
    "Cамый быстрый результат показала модель - LGBM. Самый точный - CatBoost"
   ]
  },
  {
   "cell_type": "markdown",
   "metadata": {},
   "source": [
    "## Анализ моделей"
   ]
  },
  {
   "cell_type": "markdown",
   "metadata": {},
   "source": [
    "Проверим лучшую модель на тестовых данных"
   ]
  },
  {
   "cell_type": "code",
   "execution_count": 42,
   "metadata": {},
   "outputs": [
    {
     "name": "stderr",
     "output_type": "stream",
     "text": [
      "/opt/conda/lib/python3.9/site-packages/pandas/core/frame.py:3191: SettingWithCopyWarning: \n",
      "A value is trying to be set on a copy of a slice from a DataFrame.\n",
      "Try using .loc[row_indexer,col_indexer] = value instead\n",
      "\n",
      "See the caveats in the documentation: https://pandas.pydata.org/pandas-docs/stable/user_guide/indexing.html#returning-a-view-versus-a-copy\n",
      "  self[k1] = value[k2]\n"
     ]
    }
   ],
   "source": [
    "features_test[cat_features] = features_test[cat_features].astype('category')\n",
    "predict = lgbm.predict(features_test)"
   ]
  },
  {
   "cell_type": "code",
   "execution_count": 43,
   "metadata": {
    "scrolled": true
   },
   "outputs": [
    {
     "data": {
      "text/plain": [
       "1504.9905598468815"
      ]
     },
     "execution_count": 43,
     "metadata": {},
     "output_type": "execute_result"
    }
   ],
   "source": [
    "mean_squared_error(target_test,predict)**0.5"
   ]
  },
  {
   "cell_type": "markdown",
   "metadata": {},
   "source": [
    "**Выводы:** наилучшую скорость обучения показала модель LGBM, при этом ошибка наименьшая у модели CatBoost. Так как заказчику кроме точности важна и скорость, рекомендуется использовать модель LGBM, преимущество в скорости значительно превосходит преимущество по точности."
   ]
  }
 ],
 "metadata": {
  "ExecuteTimeLog": [
   {
    "duration": 659,
    "start_time": "2022-05-16T10:00:39.944Z"
   },
   {
    "duration": 1226,
    "start_time": "2022-05-16T10:01:23.089Z"
   },
   {
    "duration": 1371,
    "start_time": "2022-05-16T10:01:37.428Z"
   },
   {
    "duration": 168,
    "start_time": "2022-05-16T10:06:55.703Z"
   },
   {
    "duration": 9,
    "start_time": "2022-05-16T10:07:51.549Z"
   },
   {
    "duration": 1230,
    "start_time": "2022-05-16T10:07:54.526Z"
   },
   {
    "duration": 618,
    "start_time": "2022-05-16T10:07:57.301Z"
   },
   {
    "duration": 401,
    "start_time": "2022-05-16T10:08:59.070Z"
   },
   {
    "duration": 433,
    "start_time": "2022-05-16T10:09:11.589Z"
   },
   {
    "duration": 689,
    "start_time": "2022-05-16T10:09:16.238Z"
   },
   {
    "duration": 163,
    "start_time": "2022-05-16T10:09:34.905Z"
   },
   {
    "duration": 251,
    "start_time": "2022-05-16T10:09:39.747Z"
   },
   {
    "duration": 9,
    "start_time": "2022-05-16T10:10:02.757Z"
   },
   {
    "duration": 9,
    "start_time": "2022-05-16T10:10:38.920Z"
   },
   {
    "duration": 8,
    "start_time": "2022-05-16T10:10:43.157Z"
   },
   {
    "duration": 66,
    "start_time": "2022-05-16T10:12:27.680Z"
   },
   {
    "duration": 112,
    "start_time": "2022-05-16T10:13:19.024Z"
   },
   {
    "duration": 1050,
    "start_time": "2022-05-16T10:16:50.676Z"
   },
   {
    "duration": 111,
    "start_time": "2022-05-16T10:16:54.154Z"
   },
   {
    "duration": 55,
    "start_time": "2022-05-16T10:18:53.078Z"
   },
   {
    "duration": 131,
    "start_time": "2022-05-16T10:19:03.784Z"
   },
   {
    "duration": 17,
    "start_time": "2022-05-16T10:20:46.957Z"
   },
   {
    "duration": 12,
    "start_time": "2022-05-16T10:30:41.144Z"
   },
   {
    "duration": 4,
    "start_time": "2022-05-16T10:30:59.477Z"
   },
   {
    "duration": 12,
    "start_time": "2022-05-16T10:31:27.739Z"
   },
   {
    "duration": 7,
    "start_time": "2022-05-16T10:31:33.027Z"
   },
   {
    "duration": 218,
    "start_time": "2022-05-16T10:31:39.611Z"
   },
   {
    "duration": 6,
    "start_time": "2022-05-16T10:32:01.071Z"
   },
   {
    "duration": 119,
    "start_time": "2022-05-16T10:33:04.668Z"
   },
   {
    "duration": 26,
    "start_time": "2022-05-16T10:34:05.825Z"
   },
   {
    "duration": 139,
    "start_time": "2022-05-16T10:34:47.254Z"
   },
   {
    "duration": 44,
    "start_time": "2022-05-16T10:36:23.970Z"
   },
   {
    "duration": 34,
    "start_time": "2022-05-16T10:39:12.750Z"
   },
   {
    "duration": 179,
    "start_time": "2022-05-16T10:39:23.624Z"
   },
   {
    "duration": 6,
    "start_time": "2022-05-16T10:39:55.372Z"
   },
   {
    "duration": 6,
    "start_time": "2022-05-16T10:51:54.168Z"
   },
   {
    "duration": 13,
    "start_time": "2022-05-16T10:51:57.300Z"
   },
   {
    "duration": 4,
    "start_time": "2022-05-16T10:52:02.311Z"
   },
   {
    "duration": 4858,
    "start_time": "2022-05-16T10:52:19.298Z"
   },
   {
    "duration": 5203,
    "start_time": "2022-05-16T11:17:43.786Z"
   },
   {
    "duration": 1571,
    "start_time": "2022-05-28T16:56:05.242Z"
   },
   {
    "duration": 150,
    "start_time": "2022-05-28T16:56:06.815Z"
   },
   {
    "duration": 0,
    "start_time": "2022-05-28T16:56:06.968Z"
   },
   {
    "duration": 0,
    "start_time": "2022-05-28T16:56:06.969Z"
   },
   {
    "duration": 0,
    "start_time": "2022-05-28T16:56:06.976Z"
   },
   {
    "duration": 0,
    "start_time": "2022-05-28T16:56:06.978Z"
   },
   {
    "duration": 0,
    "start_time": "2022-05-28T16:56:06.979Z"
   },
   {
    "duration": 0,
    "start_time": "2022-05-28T16:56:06.980Z"
   },
   {
    "duration": 0,
    "start_time": "2022-05-28T16:56:06.982Z"
   },
   {
    "duration": 0,
    "start_time": "2022-05-28T16:56:06.983Z"
   },
   {
    "duration": 0,
    "start_time": "2022-05-28T16:56:06.988Z"
   },
   {
    "duration": 3,
    "start_time": "2022-05-28T16:56:37.195Z"
   },
   {
    "duration": 3148,
    "start_time": "2022-05-28T16:56:39.459Z"
   },
   {
    "duration": 528,
    "start_time": "2022-05-28T16:56:42.609Z"
   },
   {
    "duration": 102,
    "start_time": "2022-05-28T16:56:45.526Z"
   },
   {
    "duration": 10,
    "start_time": "2022-05-28T16:58:26.308Z"
   },
   {
    "duration": 127054,
    "start_time": "2022-05-28T16:58:42.155Z"
   },
   {
    "duration": 1413,
    "start_time": "2022-05-31T06:41:27.033Z"
   },
   {
    "duration": 1005,
    "start_time": "2022-05-31T06:41:37.846Z"
   },
   {
    "duration": 580,
    "start_time": "2022-05-31T06:42:27.506Z"
   },
   {
    "duration": 96,
    "start_time": "2022-05-31T06:42:30.678Z"
   },
   {
    "duration": 34,
    "start_time": "2022-05-31T06:42:33.543Z"
   },
   {
    "duration": 124,
    "start_time": "2022-05-31T06:42:36.118Z"
   },
   {
    "duration": 66,
    "start_time": "2022-05-31T06:42:37.999Z"
   },
   {
    "duration": 97,
    "start_time": "2022-05-31T06:42:40.198Z"
   },
   {
    "duration": 69,
    "start_time": "2022-05-31T06:42:42.816Z"
   },
   {
    "duration": 6139,
    "start_time": "2022-05-31T06:42:45.712Z"
   },
   {
    "duration": 103,
    "start_time": "2022-05-31T06:42:54.618Z"
   },
   {
    "duration": 114,
    "start_time": "2022-05-31T06:42:57.008Z"
   },
   {
    "duration": 113,
    "start_time": "2022-05-31T06:42:59.602Z"
   },
   {
    "duration": 126,
    "start_time": "2022-05-31T06:43:01.926Z"
   },
   {
    "duration": 12,
    "start_time": "2022-05-31T06:43:04.173Z"
   },
   {
    "duration": 95,
    "start_time": "2022-05-31T06:43:06.128Z"
   },
   {
    "duration": 11,
    "start_time": "2022-05-31T06:43:08.025Z"
   },
   {
    "duration": 97,
    "start_time": "2022-05-31T06:43:10.470Z"
   },
   {
    "duration": 2,
    "start_time": "2022-05-31T06:43:12.830Z"
   },
   {
    "duration": 21,
    "start_time": "2022-05-31T06:43:14.982Z"
   },
   {
    "duration": 22,
    "start_time": "2022-05-31T06:43:17.494Z"
   },
   {
    "duration": 52,
    "start_time": "2022-05-31T06:43:21.152Z"
   },
   {
    "duration": 4,
    "start_time": "2022-05-31T06:43:21.913Z"
   },
   {
    "duration": 58,
    "start_time": "2022-05-31T06:43:22.666Z"
   },
   {
    "duration": 3,
    "start_time": "2022-05-31T06:43:23.393Z"
   },
   {
    "duration": 1619,
    "start_time": "2022-05-31T06:43:26.721Z"
   },
   {
    "duration": 318,
    "start_time": "2022-05-31T06:43:45.224Z"
   },
   {
    "duration": 11,
    "start_time": "2022-05-31T06:44:14.989Z"
   },
   {
    "duration": 150,
    "start_time": "2022-05-31T06:44:28.202Z"
   },
   {
    "duration": 3,
    "start_time": "2022-05-31T06:44:34.128Z"
   },
   {
    "duration": 14,
    "start_time": "2022-05-31T06:44:36.887Z"
   },
   {
    "duration": 48,
    "start_time": "2022-05-31T06:44:55.777Z"
   },
   {
    "duration": 96,
    "start_time": "2022-05-31T06:45:22.706Z"
   },
   {
    "duration": 9294,
    "start_time": "2022-05-31T06:45:34.145Z"
   },
   {
    "duration": 990,
    "start_time": "2022-05-31T06:46:26.444Z"
   },
   {
    "duration": 6,
    "start_time": "2022-05-31T06:46:30.101Z"
   },
   {
    "duration": 202,
    "start_time": "2022-05-31T10:28:06.028Z"
   },
   {
    "duration": 207,
    "start_time": "2022-05-31T10:31:54.628Z"
   },
   {
    "duration": 201,
    "start_time": "2022-05-31T10:32:35.127Z"
   },
   {
    "duration": 202,
    "start_time": "2022-05-31T10:33:26.927Z"
   },
   {
    "duration": 10103,
    "start_time": "2022-05-31T10:34:31.628Z"
   },
   {
    "duration": 9102,
    "start_time": "2022-05-31T10:34:41.733Z"
   },
   {
    "duration": 2502,
    "start_time": "2022-05-31T10:34:50.837Z"
   },
   {
    "duration": 791,
    "start_time": "2022-05-31T10:34:53.341Z"
   },
   {
    "duration": 295,
    "start_time": "2022-05-31T10:34:54.134Z"
   },
   {
    "duration": 897,
    "start_time": "2022-05-31T10:34:54.433Z"
   },
   {
    "duration": 689,
    "start_time": "2022-05-31T10:34:55.339Z"
   },
   {
    "duration": 899,
    "start_time": "2022-05-31T10:34:56.033Z"
   },
   {
    "duration": 794,
    "start_time": "2022-05-31T10:34:56.935Z"
   },
   {
    "duration": 53505,
    "start_time": "2022-05-31T10:34:57.737Z"
   },
   {
    "duration": 1096,
    "start_time": "2022-05-31T10:35:51.243Z"
   },
   {
    "duration": 1105,
    "start_time": "2022-05-31T10:35:52.428Z"
   },
   {
    "duration": 901,
    "start_time": "2022-05-31T10:35:53.535Z"
   },
   {
    "duration": 989,
    "start_time": "2022-05-31T10:35:54.442Z"
   },
   {
    "duration": 400,
    "start_time": "2022-05-31T10:35:55.433Z"
   },
   {
    "duration": 1101,
    "start_time": "2022-05-31T10:35:55.841Z"
   },
   {
    "duration": 0,
    "start_time": "2022-05-31T10:35:57.032Z"
   },
   {
    "duration": 0,
    "start_time": "2022-05-31T10:35:57.034Z"
   },
   {
    "duration": 0,
    "start_time": "2022-05-31T10:35:57.036Z"
   },
   {
    "duration": 0,
    "start_time": "2022-05-31T10:35:57.037Z"
   },
   {
    "duration": 0,
    "start_time": "2022-05-31T10:35:57.039Z"
   },
   {
    "duration": 0,
    "start_time": "2022-05-31T10:35:57.040Z"
   },
   {
    "duration": 0,
    "start_time": "2022-05-31T10:35:57.041Z"
   },
   {
    "duration": 0,
    "start_time": "2022-05-31T10:35:57.043Z"
   },
   {
    "duration": 0,
    "start_time": "2022-05-31T10:35:57.044Z"
   },
   {
    "duration": 0,
    "start_time": "2022-05-31T10:35:57.044Z"
   },
   {
    "duration": 0,
    "start_time": "2022-05-31T10:35:57.045Z"
   },
   {
    "duration": 0,
    "start_time": "2022-05-31T10:35:57.045Z"
   },
   {
    "duration": 0,
    "start_time": "2022-05-31T10:35:57.046Z"
   },
   {
    "duration": 0,
    "start_time": "2022-05-31T10:35:57.046Z"
   },
   {
    "duration": 0,
    "start_time": "2022-05-31T10:35:57.046Z"
   },
   {
    "duration": 0,
    "start_time": "2022-05-31T10:35:57.047Z"
   },
   {
    "duration": 0,
    "start_time": "2022-05-31T10:35:57.126Z"
   },
   {
    "duration": 0,
    "start_time": "2022-05-31T10:35:57.130Z"
   },
   {
    "duration": 0,
    "start_time": "2022-05-31T10:35:57.131Z"
   },
   {
    "duration": 0,
    "start_time": "2022-05-31T10:35:57.132Z"
   },
   {
    "duration": 0,
    "start_time": "2022-05-31T10:35:57.133Z"
   },
   {
    "duration": 0,
    "start_time": "2022-05-31T10:35:57.135Z"
   },
   {
    "duration": 0,
    "start_time": "2022-05-31T10:35:57.136Z"
   },
   {
    "duration": 0,
    "start_time": "2022-05-31T10:35:57.137Z"
   },
   {
    "duration": 0,
    "start_time": "2022-05-31T10:35:57.138Z"
   },
   {
    "duration": 0,
    "start_time": "2022-05-31T10:35:57.226Z"
   },
   {
    "duration": 0,
    "start_time": "2022-05-31T10:35:57.228Z"
   },
   {
    "duration": 0,
    "start_time": "2022-05-31T10:35:57.229Z"
   },
   {
    "duration": 0,
    "start_time": "2022-05-31T10:35:57.230Z"
   },
   {
    "duration": 1,
    "start_time": "2022-05-31T10:35:57.231Z"
   },
   {
    "duration": 246,
    "start_time": "2022-05-31T10:46:45.472Z"
   },
   {
    "duration": 13,
    "start_time": "2022-05-31T10:47:17.692Z"
   },
   {
    "duration": 109,
    "start_time": "2022-05-31T10:47:18.053Z"
   },
   {
    "duration": 11,
    "start_time": "2022-05-31T10:47:18.357Z"
   },
   {
    "duration": 114,
    "start_time": "2022-05-31T10:47:19.165Z"
   },
   {
    "duration": 3,
    "start_time": "2022-05-31T10:47:19.552Z"
   },
   {
    "duration": 21,
    "start_time": "2022-05-31T10:47:20.281Z"
   },
   {
    "duration": 23,
    "start_time": "2022-05-31T10:47:20.715Z"
   },
   {
    "duration": 67,
    "start_time": "2022-05-31T10:47:21.105Z"
   },
   {
    "duration": 5,
    "start_time": "2022-05-31T10:47:21.587Z"
   },
   {
    "duration": 61,
    "start_time": "2022-05-31T10:47:21.885Z"
   },
   {
    "duration": 4,
    "start_time": "2022-05-31T10:47:22.281Z"
   },
   {
    "duration": 2042,
    "start_time": "2022-05-31T10:47:30.589Z"
   },
   {
    "duration": 958545,
    "start_time": "2022-05-31T10:49:37.322Z"
   },
   {
    "duration": 4,
    "start_time": "2022-05-31T11:05:35.869Z"
   },
   {
    "duration": 1204767,
    "start_time": "2022-05-31T11:05:35.875Z"
   },
   {
    "duration": 3,
    "start_time": "2022-05-31T11:25:40.646Z"
   },
   {
    "duration": 2758789,
    "start_time": "2022-05-31T11:25:40.650Z"
   },
   {
    "duration": 167,
    "start_time": "2022-05-31T12:11:39.440Z"
   },
   {
    "duration": 1584,
    "start_time": "2022-06-02T07:21:31.320Z"
   },
   {
    "duration": 1060,
    "start_time": "2022-06-02T07:21:35.274Z"
   },
   {
    "duration": 443,
    "start_time": "2022-06-02T07:21:38.796Z"
   },
   {
    "duration": 90,
    "start_time": "2022-06-02T07:21:41.824Z"
   },
   {
    "duration": 40,
    "start_time": "2022-06-02T07:21:45.378Z"
   },
   {
    "duration": 143,
    "start_time": "2022-06-02T07:21:48.089Z"
   },
   {
    "duration": 63,
    "start_time": "2022-06-02T07:21:48.817Z"
   },
   {
    "duration": 93,
    "start_time": "2022-06-02T07:21:50.797Z"
   },
   {
    "duration": 70,
    "start_time": "2022-06-02T07:21:51.509Z"
   },
   {
    "duration": 5766,
    "start_time": "2022-06-02T07:21:54.632Z"
   },
   {
    "duration": 96,
    "start_time": "2022-06-02T07:22:25.705Z"
   },
   {
    "duration": 120,
    "start_time": "2022-06-02T07:22:27.377Z"
   },
   {
    "duration": 127,
    "start_time": "2022-06-02T07:22:29.033Z"
   },
   {
    "duration": 23,
    "start_time": "2022-06-02T07:22:30.663Z"
   },
   {
    "duration": 102,
    "start_time": "2022-06-02T07:22:31.946Z"
   },
   {
    "duration": 114,
    "start_time": "2022-06-02T07:22:34.121Z"
   },
   {
    "duration": 19,
    "start_time": "2022-06-02T07:22:38.756Z"
   },
   {
    "duration": 207,
    "start_time": "2022-06-02T07:22:47.956Z"
   },
   {
    "duration": 13,
    "start_time": "2022-06-02T07:22:50.076Z"
   },
   {
    "duration": 80,
    "start_time": "2022-06-02T07:22:50.917Z"
   },
   {
    "duration": 10,
    "start_time": "2022-06-02T07:22:51.693Z"
   },
   {
    "duration": 89,
    "start_time": "2022-06-02T07:22:53.229Z"
   },
   {
    "duration": 3,
    "start_time": "2022-06-02T07:22:53.906Z"
   },
   {
    "duration": 24,
    "start_time": "2022-06-02T07:22:54.877Z"
   },
   {
    "duration": 20,
    "start_time": "2022-06-02T07:22:56.334Z"
   },
   {
    "duration": 54,
    "start_time": "2022-06-02T07:22:58.893Z"
   },
   {
    "duration": 3,
    "start_time": "2022-06-02T07:22:59.734Z"
   },
   {
    "duration": 59,
    "start_time": "2022-06-02T07:23:00.709Z"
   },
   {
    "duration": 4,
    "start_time": "2022-06-02T07:23:02.263Z"
   },
   {
    "duration": 1650,
    "start_time": "2022-06-02T07:23:14.005Z"
   },
   {
    "duration": 63282,
    "start_time": "2022-06-02T07:24:01.021Z"
   },
   {
    "duration": 74228,
    "start_time": "2022-06-02T07:25:04.305Z"
   },
   {
    "duration": 91,
    "start_time": "2022-06-02T07:26:18.535Z"
   },
   {
    "duration": 22880,
    "start_time": "2022-06-02T07:26:18.627Z"
   },
   {
    "duration": 0,
    "start_time": "2022-06-02T07:26:41.508Z"
   },
   {
    "duration": 21791,
    "start_time": "2022-06-02T07:36:58.876Z"
   },
   {
    "duration": 322,
    "start_time": "2022-06-02T07:37:23.348Z"
   },
   {
    "duration": 33783,
    "start_time": "2022-06-02T07:37:26.538Z"
   },
   {
    "duration": 31755,
    "start_time": "2022-06-02T07:38:12.326Z"
   },
   {
    "duration": 219020,
    "start_time": "2022-06-02T07:38:57.509Z"
   },
   {
    "duration": 352622,
    "start_time": "2022-06-02T07:42:37.841Z"
   },
   {
    "duration": 5768,
    "start_time": "2022-06-02T07:48:38.799Z"
   },
   {
    "duration": 923,
    "start_time": "2022-06-02T07:49:12.844Z"
   },
   {
    "duration": 5,
    "start_time": "2022-06-02T07:49:15.179Z"
   }
  ],
  "kernelspec": {
   "display_name": "Python 3 (ipykernel)",
   "language": "python",
   "name": "python3"
  },
  "language_info": {
   "codemirror_mode": {
    "name": "ipython",
    "version": 3
   },
   "file_extension": ".py",
   "mimetype": "text/x-python",
   "name": "python",
   "nbconvert_exporter": "python",
   "pygments_lexer": "ipython3",
   "version": "3.9.12"
  },
  "toc": {
   "base_numbering": 1,
   "nav_menu": {},
   "number_sections": true,
   "sideBar": true,
   "skip_h1_title": true,
   "title_cell": "Table of Contents",
   "title_sidebar": "Contents",
   "toc_cell": false,
   "toc_position": {},
   "toc_section_display": true,
   "toc_window_display": true
  }
 },
 "nbformat": 4,
 "nbformat_minor": 2
}
