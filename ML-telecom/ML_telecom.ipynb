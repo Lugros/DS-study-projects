{
 "cells": [
  {
   "cell_type": "markdown",
   "id": "465fdcea",
   "metadata": {},
   "source": [
    "# Рекомендация тарифов"
   ]
  },
  {
   "cell_type": "markdown",
   "id": "5cc73a77",
   "metadata": {},
   "source": [
    "В вашем распоряжении данные о поведении клиентов, которые уже перешли на эти тарифы (из проекта курса «Статистический анализ данных»). Нужно построить модель для задачи классификации, которая выберет подходящий тариф. Предобработка данных не понадобится — вы её уже сделали.\n",
    "\n",
    "Постройте модель с максимально большим значением *accuracy*. Чтобы сдать проект успешно, нужно довести долю правильных ответов по крайней мере до 0.75. Проверьте *accuracy* на тестовой выборке самостоятельно."
   ]
  },
  {
   "cell_type": "markdown",
   "id": "6cbfed10",
   "metadata": {},
   "source": [
    "## Описание данных"
   ]
  },
  {
   "cell_type": "markdown",
   "id": "6602fc5f",
   "metadata": {},
   "source": [
    "Каждый объект в наборе данных — это информация о поведении одного пользователя за месяц. Известно:\n",
    "- сalls — количество звонков,\n",
    "- minutes — суммарная длительность звонков в минутах,\n",
    "- messages — количество sms-сообщений,\n",
    "- mb_used — израсходованный интернет-трафик в Мб,\n",
    "- is_ultra — каким тарифом пользовался в течение месяца («Ультра» — 1, «Смарт» — 0)."
   ]
  },
  {
   "cell_type": "markdown",
   "id": "0fbb6511",
   "metadata": {},
   "source": [
    "## Изучение данных"
   ]
  },
  {
   "cell_type": "code",
   "execution_count": 1,
   "id": "a6a48e3d",
   "metadata": {},
   "outputs": [],
   "source": [
    "import pandas as pd\n",
    "from sklearn.model_selection import train_test_split \n",
    "from sklearn.tree import DecisionTreeClassifier\n",
    "from sklearn.metrics import accuracy_score\n",
    "from sklearn.ensemble import RandomForestClassifier\n",
    "from sklearn.linear_model import LogisticRegression\n",
    "from sklearn.dummy import DummyClassifier"
   ]
  },
  {
   "cell_type": "code",
   "execution_count": 2,
   "id": "464edef1",
   "metadata": {
    "scrolled": false
   },
   "outputs": [
    {
     "data": {
      "text/html": [
       "<div>\n",
       "<style scoped>\n",
       "    .dataframe tbody tr th:only-of-type {\n",
       "        vertical-align: middle;\n",
       "    }\n",
       "\n",
       "    .dataframe tbody tr th {\n",
       "        vertical-align: top;\n",
       "    }\n",
       "\n",
       "    .dataframe thead th {\n",
       "        text-align: right;\n",
       "    }\n",
       "</style>\n",
       "<table border=\"1\" class=\"dataframe\">\n",
       "  <thead>\n",
       "    <tr style=\"text-align: right;\">\n",
       "      <th></th>\n",
       "      <th>calls</th>\n",
       "      <th>minutes</th>\n",
       "      <th>messages</th>\n",
       "      <th>mb_used</th>\n",
       "      <th>is_ultra</th>\n",
       "    </tr>\n",
       "  </thead>\n",
       "  <tbody>\n",
       "    <tr>\n",
       "      <th>0</th>\n",
       "      <td>40.0</td>\n",
       "      <td>311.90</td>\n",
       "      <td>83.0</td>\n",
       "      <td>19915.42</td>\n",
       "      <td>0</td>\n",
       "    </tr>\n",
       "    <tr>\n",
       "      <th>1</th>\n",
       "      <td>85.0</td>\n",
       "      <td>516.75</td>\n",
       "      <td>56.0</td>\n",
       "      <td>22696.96</td>\n",
       "      <td>0</td>\n",
       "    </tr>\n",
       "    <tr>\n",
       "      <th>2</th>\n",
       "      <td>77.0</td>\n",
       "      <td>467.66</td>\n",
       "      <td>86.0</td>\n",
       "      <td>21060.45</td>\n",
       "      <td>0</td>\n",
       "    </tr>\n",
       "    <tr>\n",
       "      <th>3</th>\n",
       "      <td>106.0</td>\n",
       "      <td>745.53</td>\n",
       "      <td>81.0</td>\n",
       "      <td>8437.39</td>\n",
       "      <td>1</td>\n",
       "    </tr>\n",
       "    <tr>\n",
       "      <th>4</th>\n",
       "      <td>66.0</td>\n",
       "      <td>418.74</td>\n",
       "      <td>1.0</td>\n",
       "      <td>14502.75</td>\n",
       "      <td>0</td>\n",
       "    </tr>\n",
       "  </tbody>\n",
       "</table>\n",
       "</div>"
      ],
      "text/plain": [
       "   calls  minutes  messages   mb_used  is_ultra\n",
       "0   40.0   311.90      83.0  19915.42         0\n",
       "1   85.0   516.75      56.0  22696.96         0\n",
       "2   77.0   467.66      86.0  21060.45         0\n",
       "3  106.0   745.53      81.0   8437.39         1\n",
       "4   66.0   418.74       1.0  14502.75         0"
      ]
     },
     "execution_count": 2,
     "metadata": {},
     "output_type": "execute_result"
    }
   ],
   "source": [
    "df = pd.read_csv('/datasets/users_behavior.csv')\n",
    "df.head()"
   ]
  },
  {
   "cell_type": "code",
   "execution_count": 3,
   "id": "999e612d",
   "metadata": {
    "scrolled": false
   },
   "outputs": [
    {
     "name": "stdout",
     "output_type": "stream",
     "text": [
      "<class 'pandas.core.frame.DataFrame'>\n",
      "RangeIndex: 3214 entries, 0 to 3213\n",
      "Data columns (total 5 columns):\n",
      " #   Column    Non-Null Count  Dtype  \n",
      "---  ------    --------------  -----  \n",
      " 0   calls     3214 non-null   float64\n",
      " 1   minutes   3214 non-null   float64\n",
      " 2   messages  3214 non-null   float64\n",
      " 3   mb_used   3214 non-null   float64\n",
      " 4   is_ultra  3214 non-null   int64  \n",
      "dtypes: float64(4), int64(1)\n",
      "memory usage: 125.7 KB\n"
     ]
    }
   ],
   "source": [
    "df.info()"
   ]
  },
  {
   "cell_type": "code",
   "execution_count": 4,
   "id": "cef803df",
   "metadata": {},
   "outputs": [
    {
     "name": "stdout",
     "output_type": "stream",
     "text": [
      "[0.]\n",
      "[0.]\n"
     ]
    }
   ],
   "source": [
    "from numpy import floor\n",
    "print((df['calls'] - floor(df['calls'])).unique())\n",
    "print((df['messages'] - floor(df['messages'])).unique())"
   ]
  },
  {
   "cell_type": "markdown",
   "id": "f9b4ac67",
   "metadata": {},
   "source": [
    "Данные не содеражт пропусков, количество звонков и пропуски можно привести к целочисленному типу"
   ]
  },
  {
   "cell_type": "code",
   "execution_count": 5,
   "id": "7e4c29b4",
   "metadata": {
    "scrolled": true
   },
   "outputs": [
    {
     "name": "stdout",
     "output_type": "stream",
     "text": [
      "<class 'pandas.core.frame.DataFrame'>\n",
      "RangeIndex: 3214 entries, 0 to 3213\n",
      "Data columns (total 5 columns):\n",
      " #   Column    Non-Null Count  Dtype  \n",
      "---  ------    --------------  -----  \n",
      " 0   calls     3214 non-null   int16  \n",
      " 1   minutes   3214 non-null   float64\n",
      " 2   messages  3214 non-null   int16  \n",
      " 3   mb_used   3214 non-null   float64\n",
      " 4   is_ultra  3214 non-null   int64  \n",
      "dtypes: float64(2), int16(2), int64(1)\n",
      "memory usage: 88.0 KB\n"
     ]
    }
   ],
   "source": [
    "df.calls = pd.to_numeric(df.calls,downcast=\"integer\")\n",
    "df.messages = pd.to_numeric(df.messages,downcast=\"integer\")\n",
    "df.info()"
   ]
  },
  {
   "cell_type": "markdown",
   "id": "549ead76",
   "metadata": {},
   "source": [
    "## Разбейте данные на выборки"
   ]
  },
  {
   "cell_type": "markdown",
   "id": "9e273418",
   "metadata": {},
   "source": [
    "Так как тестовая выборка отдельно не предоставляется, то исходные данные надо разбить на 3 выборки:\n",
    "- обучающая\n",
    "- валидационная\n",
    "- тестовая\n",
    "\n",
    "в отношении 60/20/20"
   ]
  },
  {
   "cell_type": "code",
   "execution_count": 6,
   "id": "29190d12",
   "metadata": {},
   "outputs": [],
   "source": [
    "features = df.drop('is_ultra',axis = 1)\n",
    "target = df['is_ultra']\n",
    "\n",
    "features_train, features_valid_test, target_train, target_valid_test = train_test_split(features, target, test_size = 0.4, random_state = 12345)\n",
    "\n",
    "features_valid, features_test, target_valid, target_test = train_test_split(features_valid_test, target_valid_test, test_size = 0.5, random_state = 12345)"
   ]
  },
  {
   "cell_type": "markdown",
   "id": "bc60c8f3",
   "metadata": {},
   "source": [
    "В данных выделен целевой признак: \"is_ultra\""
   ]
  },
  {
   "cell_type": "code",
   "execution_count": 7,
   "id": "20f71965",
   "metadata": {
    "scrolled": true
   },
   "outputs": [
    {
     "name": "stdout",
     "output_type": "stream",
     "text": [
      "Размер обучающей выборки ((1928, 4), (1928,))\n",
      "Размер валидационной выборки((643, 4), (643,))\n",
      "Размер тестовой выборки((643, 4), (643,))\n"
     ]
    }
   ],
   "source": [
    "print(f'Размер обучающей выборки {features_train.shape, target_train.shape}')\n",
    "print(f'Размер валидационной выборки{features_valid.shape, target_valid.shape}')\n",
    "print(f'Размер тестовой выборки{features_test.shape, target_test.shape}')"
   ]
  },
  {
   "cell_type": "markdown",
   "id": "9d5f5638",
   "metadata": {},
   "source": [
    "## Исследуйте модели"
   ]
  },
  {
   "cell_type": "markdown",
   "id": "73106d36",
   "metadata": {},
   "source": [
    "### Дерево решений"
   ]
  },
  {
   "cell_type": "code",
   "execution_count": 8,
   "id": "aeeac374",
   "metadata": {
    "scrolled": true
   },
   "outputs": [
    {
     "name": "stdout",
     "output_type": "stream",
     "text": [
      "max_depth =  1 accurcy =  0.7542768273716952\n",
      "max_depth =  2 accurcy =  0.7822706065318819\n",
      "max_depth =  3 accurcy =  0.7853810264385692\n",
      "max_depth =  4 accurcy =  0.7791601866251944\n",
      "max_depth =  5 accurcy =  0.7791601866251944\n"
     ]
    }
   ],
   "source": [
    "best_model = None\n",
    "best_accuracy = 0\n",
    "for i in range(1,6):\n",
    "    model = DecisionTreeClassifier(max_depth = i, random_state = 1234)\n",
    "    model.fit(features_train,target_train)\n",
    "    predictions_valid = model.predict(features_valid)\n",
    "    accuracy = accuracy_score(target_valid, predictions_valid)\n",
    "    print(\"max_depth = \",i,\"accurcy = \",accuracy_score(target_valid, predictions_valid))\n",
    "    if best_accuracy < accuracy:\n",
    "        best_model_tree = model\n",
    "        best_accuracy = accuracy"
   ]
  },
  {
   "cell_type": "markdown",
   "id": "0e91448b",
   "metadata": {},
   "source": [
    "**Вывод:** Модель классификации \"Дерево решений\" дала наилучшей результат с accuracy = 0.785, с гиперпараметром \"максимальная глубина\" = 3 "
   ]
  },
  {
   "cell_type": "markdown",
   "id": "4315f0cf",
   "metadata": {},
   "source": [
    "### Случайный лес"
   ]
  },
  {
   "cell_type": "code",
   "execution_count": 9,
   "id": "3a57b25c",
   "metadata": {
    "scrolled": true
   },
   "outputs": [
    {
     "name": "stdout",
     "output_type": "stream",
     "text": [
      "RandomForestClassifier(max_depth=5, n_estimators=8, random_state=12345)\n",
      "0.7931570762052877\n"
     ]
    }
   ],
   "source": [
    "best_model_forest = None\n",
    "best_result = 0\n",
    "for est in range(1,11):\n",
    "    for i in range(1,6):\n",
    "        model = RandomForestClassifier(random_state = 12345, n_estimators = est,max_depth = i)\n",
    "        model.fit(features_train,target_train)\n",
    "        predictions_valid = model.predict(features_valid)\n",
    "        result = accuracy_score(predictions_valid,target_valid)\n",
    "        if result > best_result:\n",
    "            best_model_forest = model\n",
    "            best_result = result\n",
    "print(best_model_forest)\n",
    "print(best_result)"
   ]
  },
  {
   "cell_type": "markdown",
   "id": "1d2edc9c",
   "metadata": {},
   "source": [
    "**Вывод:**\n",
    "Модель классификации \"RandomForest\" дала наилучший результат с accuracy = 0.793 и гиперпараметрами количество деревьев - 8, и максимальной глубиной дерева - 5."
   ]
  },
  {
   "cell_type": "markdown",
   "id": "c62db8c1",
   "metadata": {},
   "source": [
    "### Логистическая регрессия"
   ]
  },
  {
   "cell_type": "code",
   "execution_count": 10,
   "id": "aa3a3b5d",
   "metadata": {},
   "outputs": [
    {
     "name": "stdout",
     "output_type": "stream",
     "text": [
      "Accuracy модели логистической регрессии на валидационной выборке: 0.7107309486780715\n"
     ]
    }
   ],
   "source": [
    "model = LogisticRegression(random_state = 12345)\n",
    "model.fit(features_train,target_train)\n",
    "predictions_valid = model.predict(features_valid)\n",
    "result = accuracy_score(predictions_valid,target_valid)\n",
    "\n",
    "print(\"Accuracy модели логистической регрессии на валидационной выборке:\", result)"
   ]
  },
  {
   "cell_type": "markdown",
   "id": "40c5da7e",
   "metadata": {},
   "source": [
    "Вывод: Модель классификации \"LogisticRegression\" дала наилучший результат с accuracy = 0.71"
   ]
  },
  {
   "cell_type": "markdown",
   "id": "086d031b",
   "metadata": {},
   "source": [
    "## Проверьте модель на тестовой выборке"
   ]
  },
  {
   "cell_type": "code",
   "execution_count": 11,
   "id": "d098ec5e",
   "metadata": {
    "scrolled": false
   },
   "outputs": [
    {
     "name": "stdout",
     "output_type": "stream",
     "text": [
      "0.7962674961119751\n"
     ]
    }
   ],
   "source": [
    "prediction_test = best_model_forest.predict(features_test)\n",
    "print(accuracy_score(prediction_test,target_test))"
   ]
  },
  {
   "cell_type": "markdown",
   "id": "1a960250",
   "metadata": {},
   "source": [
    "### Проверка модели на адекватность"
   ]
  },
  {
   "cell_type": "code",
   "execution_count": 12,
   "id": "972cb428",
   "metadata": {},
   "outputs": [
    {
     "name": "stdout",
     "output_type": "stream",
     "text": [
      "Test score:  0.7060653188180405\n"
     ]
    }
   ],
   "source": [
    "dummy_model = DummyClassifier(strategy='most_frequent').fit(features_train,target_train)\n",
    "dummy_predictions = dummy_model.predict(features_valid)\n",
    "\n",
    "print('Test score: ', accuracy_score(target_valid,dummy_predictions))"
   ]
  },
  {
   "cell_type": "markdown",
   "id": "591ce16d",
   "metadata": {},
   "source": [
    "**Вывод:**\n",
    "Лучшая модель \"RandomForest\" оказалась точнее чем константная модель \"Dummy\", с долей правильных ответов 0.796 и 0.706 соответственно"
   ]
  },
  {
   "cell_type": "markdown",
   "id": "980958a4",
   "metadata": {},
   "source": [
    "## Общий вывод:"
   ]
  },
  {
   "cell_type": "markdown",
   "id": "7b2c4021",
   "metadata": {},
   "source": [
    "1. Исходные данные были подготовлены\n",
    "2. На данных были обучены 3 модели:\n",
    "    - Дерево решений, доля правильных ответов на валидационной выборке составила 0.785\n",
    "    - Случайный лес, доля правильных ответов на валидационной выборке составила 0.793\n",
    "    - Логистическая регрессия, доля правильных ответов на валидационной выборке составила 0.71\n",
    "3. Наилучшая модель \"Случайный лес\" на тестовой выборке дала долю правильных ответв: 0.796"
   ]
  }
 ],
 "metadata": {
  "ExecuteTimeLog": [
   {
    "duration": 1480,
    "start_time": "2022-03-19T10:57:37.083Z"
   },
   {
    "duration": 33,
    "start_time": "2022-03-19T10:57:38.567Z"
   },
   {
    "duration": 16,
    "start_time": "2022-03-19T10:57:38.602Z"
   },
   {
    "duration": 19,
    "start_time": "2022-03-19T10:57:38.620Z"
   },
   {
    "duration": 11,
    "start_time": "2022-03-19T10:57:38.667Z"
   },
   {
    "duration": 50,
    "start_time": "2022-03-19T10:57:38.681Z"
   },
   {
    "duration": 1045,
    "start_time": "2022-03-19T10:57:38.734Z"
   },
   {
    "duration": 37,
    "start_time": "2022-03-19T10:57:39.781Z"
   },
   {
    "duration": 11,
    "start_time": "2022-03-19T10:57:39.820Z"
   },
   {
    "duration": 43,
    "start_time": "2022-03-19T10:57:39.834Z"
   },
   {
    "duration": 9,
    "start_time": "2022-03-19T10:58:01.028Z"
   },
   {
    "duration": 1576,
    "start_time": "2022-03-20T14:37:21.929Z"
   },
   {
    "duration": 41,
    "start_time": "2022-03-20T14:37:23.507Z"
   },
   {
    "duration": 17,
    "start_time": "2022-03-20T14:37:23.550Z"
   },
   {
    "duration": 136,
    "start_time": "2022-03-20T14:37:26.925Z"
   },
   {
    "duration": 12,
    "start_time": "2022-03-20T14:37:36.413Z"
   },
   {
    "duration": 11,
    "start_time": "2022-03-20T14:38:00.369Z"
   },
   {
    "duration": 11,
    "start_time": "2022-03-20T14:39:06.419Z"
   },
   {
    "duration": 13,
    "start_time": "2022-03-20T14:40:10.060Z"
   },
   {
    "duration": 12,
    "start_time": "2022-03-20T14:40:19.877Z"
   },
   {
    "duration": 12,
    "start_time": "2022-03-20T14:40:27.560Z"
   },
   {
    "duration": 11,
    "start_time": "2022-03-20T14:40:36.743Z"
   },
   {
    "duration": 10,
    "start_time": "2022-03-20T14:40:53.132Z"
   },
   {
    "duration": 108,
    "start_time": "2022-03-20T14:41:12.884Z"
   },
   {
    "duration": 89,
    "start_time": "2022-03-20T14:41:21.559Z"
   },
   {
    "duration": 84,
    "start_time": "2022-03-20T14:41:28.983Z"
   },
   {
    "duration": 7,
    "start_time": "2022-03-20T14:41:32.407Z"
   },
   {
    "duration": 8,
    "start_time": "2022-03-20T14:41:47.643Z"
   },
   {
    "duration": 11,
    "start_time": "2022-03-20T14:42:17.427Z"
   },
   {
    "duration": 26,
    "start_time": "2022-03-20T14:42:31.993Z"
   },
   {
    "duration": 10,
    "start_time": "2022-03-20T14:42:44.318Z"
   },
   {
    "duration": 10,
    "start_time": "2022-03-20T14:42:52.834Z"
   },
   {
    "duration": 8,
    "start_time": "2022-03-20T14:43:00.475Z"
   },
   {
    "duration": 8,
    "start_time": "2022-03-20T14:43:12.109Z"
   },
   {
    "duration": 15,
    "start_time": "2022-03-20T14:48:59.133Z"
   },
   {
    "duration": 7,
    "start_time": "2022-03-20T14:49:04.594Z"
   },
   {
    "duration": 29,
    "start_time": "2022-03-20T14:49:04.606Z"
   },
   {
    "duration": 16,
    "start_time": "2022-03-20T14:49:04.637Z"
   },
   {
    "duration": 10,
    "start_time": "2022-03-20T14:49:04.655Z"
   },
   {
    "duration": 19,
    "start_time": "2022-03-20T14:49:04.668Z"
   },
   {
    "duration": 13,
    "start_time": "2022-03-20T14:49:04.690Z"
   },
   {
    "duration": 6,
    "start_time": "2022-03-20T14:49:06.251Z"
   },
   {
    "duration": 6,
    "start_time": "2022-03-20T14:50:03.627Z"
   },
   {
    "duration": 5,
    "start_time": "2022-03-20T14:51:09.103Z"
   },
   {
    "duration": 96,
    "start_time": "2022-03-20T14:51:47.085Z"
   },
   {
    "duration": 1669,
    "start_time": "2022-03-20T14:52:03.738Z"
   },
   {
    "duration": 38,
    "start_time": "2022-03-20T14:52:05.410Z"
   },
   {
    "duration": 19,
    "start_time": "2022-03-20T14:52:05.451Z"
   },
   {
    "duration": 20,
    "start_time": "2022-03-20T14:52:05.472Z"
   },
   {
    "duration": 19,
    "start_time": "2022-03-20T14:52:05.495Z"
   },
   {
    "duration": 14,
    "start_time": "2022-03-20T14:52:05.516Z"
   },
   {
    "duration": 38,
    "start_time": "2022-03-20T14:52:05.532Z"
   },
   {
    "duration": 54,
    "start_time": "2022-03-20T14:52:05.572Z"
   },
   {
    "duration": 1119,
    "start_time": "2022-03-20T14:52:05.628Z"
   },
   {
    "duration": 47,
    "start_time": "2022-03-20T14:52:06.749Z"
   },
   {
    "duration": 10,
    "start_time": "2022-03-20T14:52:06.798Z"
   },
   {
    "duration": 8,
    "start_time": "2022-03-20T14:52:06.811Z"
   },
   {
    "duration": 8,
    "start_time": "2022-03-20T14:52:32.220Z"
   },
   {
    "duration": 1631,
    "start_time": "2022-03-20T14:52:43.673Z"
   },
   {
    "duration": 35,
    "start_time": "2022-03-20T14:52:45.307Z"
   },
   {
    "duration": 26,
    "start_time": "2022-03-20T14:52:45.344Z"
   },
   {
    "duration": 12,
    "start_time": "2022-03-20T14:52:45.372Z"
   },
   {
    "duration": 17,
    "start_time": "2022-03-20T14:52:45.387Z"
   },
   {
    "duration": 12,
    "start_time": "2022-03-20T14:52:45.407Z"
   },
   {
    "duration": 48,
    "start_time": "2022-03-20T14:52:45.422Z"
   },
   {
    "duration": 55,
    "start_time": "2022-03-20T14:52:45.473Z"
   },
   {
    "duration": 1184,
    "start_time": "2022-03-20T14:52:45.531Z"
   },
   {
    "duration": 54,
    "start_time": "2022-03-20T14:52:46.718Z"
   },
   {
    "duration": 12,
    "start_time": "2022-03-20T14:52:46.775Z"
   },
   {
    "duration": 9,
    "start_time": "2022-03-20T14:52:46.790Z"
   }
  ],
  "kernelspec": {
   "display_name": "Python 3 (ipykernel)",
   "language": "python",
   "name": "python3"
  },
  "language_info": {
   "codemirror_mode": {
    "name": "ipython",
    "version": 3
   },
   "file_extension": ".py",
   "mimetype": "text/x-python",
   "name": "python",
   "nbconvert_exporter": "python",
   "pygments_lexer": "ipython3",
   "version": "3.9.5"
  },
  "toc": {
   "base_numbering": 1,
   "nav_menu": {},
   "number_sections": true,
   "sideBar": true,
   "skip_h1_title": true,
   "title_cell": "Table of Contents",
   "title_sidebar": "Contents",
   "toc_cell": false,
   "toc_position": {},
   "toc_section_display": true,
   "toc_window_display": false
  }
 },
 "nbformat": 4,
 "nbformat_minor": 5
}
