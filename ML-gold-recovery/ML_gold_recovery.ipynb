{
 "cells": [
  {
   "cell_type": "markdown",
   "metadata": {},
   "source": [
    "# Восстановление золота из руды"
   ]
  },
  {
   "cell_type": "markdown",
   "metadata": {},
   "source": [
    "Подготовьте прототип модели машинного обучения для «Цифры». Компания разрабатывает решения для эффективной работы промышленных предприятий.\n",
    "\n",
    "Модель должна предсказать коэффициент восстановления золота из золотосодержащей руды. Используйте данные с параметрами добычи и очистки. \n",
    "\n",
    "Модель поможет оптимизировать производство, чтобы не запускать предприятие с убыточными характеристиками.\n",
    "\n",
    "Вам нужно:\n",
    "\n",
    "1. Подготовить данные;\n",
    "2. Провести исследовательский анализ данных;\n",
    "3. Построить и обучить модель.\n",
    "\n",
    "Чтобы выполнить проект, обращайтесь к библиотекам *pandas*, *matplotlib* и *sklearn.* Вам поможет их документация."
   ]
  },
  {
   "cell_type": "markdown",
   "metadata": {},
   "source": [
    "## Подготовка данных"
   ]
  },
  {
   "cell_type": "code",
   "execution_count": 1,
   "metadata": {},
   "outputs": [],
   "source": [
    "import pandas as pd\n",
    "import numpy as np\n",
    "\n",
    "import matplotlib.pyplot as plt\n",
    "\n",
    "from sklearn.metrics import mean_absolute_error\n",
    "\n",
    "\n",
    "from sklearn.linear_model import LinearRegression\n",
    "from sklearn.ensemble import RandomForestRegressor\n",
    "from sklearn.model_selection import GridSearchCV\n",
    "from sklearn.model_selection import cross_val_score\n",
    "from sklearn.metrics import make_scorer\n",
    "\n",
    "\n",
    "import scipy.stats as stats\n"
   ]
  },
  {
   "cell_type": "markdown",
   "metadata": {},
   "source": [
    "### Общая информация по данным"
   ]
  },
  {
   "cell_type": "code",
   "execution_count": 2,
   "metadata": {
    "scrolled": true
   },
   "outputs": [],
   "source": [
    "def data_info(data_file):\n",
    "    data = pd.read_csv(data_file, index_col = 'date', parse_dates=True)\n",
    "    print(data_file)\n",
    "    display(data.head(10))\n",
    "    display(data.info())\n",
    "    return(data)"
   ]
  },
  {
   "cell_type": "code",
   "execution_count": 3,
   "metadata": {
    "scrolled": false
   },
   "outputs": [
    {
     "name": "stdout",
     "output_type": "stream",
     "text": [
      "/datasets/gold_recovery_test_new.csv\n"
     ]
    },
    {
     "data": {
      "text/html": [
       "<div>\n",
       "<style scoped>\n",
       "    .dataframe tbody tr th:only-of-type {\n",
       "        vertical-align: middle;\n",
       "    }\n",
       "\n",
       "    .dataframe tbody tr th {\n",
       "        vertical-align: top;\n",
       "    }\n",
       "\n",
       "    .dataframe thead th {\n",
       "        text-align: right;\n",
       "    }\n",
       "</style>\n",
       "<table border=\"1\" class=\"dataframe\">\n",
       "  <thead>\n",
       "    <tr style=\"text-align: right;\">\n",
       "      <th></th>\n",
       "      <th>primary_cleaner.input.sulfate</th>\n",
       "      <th>primary_cleaner.input.depressant</th>\n",
       "      <th>primary_cleaner.input.feed_size</th>\n",
       "      <th>primary_cleaner.input.xanthate</th>\n",
       "      <th>primary_cleaner.state.floatbank8_a_air</th>\n",
       "      <th>primary_cleaner.state.floatbank8_a_level</th>\n",
       "      <th>primary_cleaner.state.floatbank8_b_air</th>\n",
       "      <th>primary_cleaner.state.floatbank8_b_level</th>\n",
       "      <th>primary_cleaner.state.floatbank8_c_air</th>\n",
       "      <th>primary_cleaner.state.floatbank8_c_level</th>\n",
       "      <th>...</th>\n",
       "      <th>secondary_cleaner.state.floatbank4_a_air</th>\n",
       "      <th>secondary_cleaner.state.floatbank4_a_level</th>\n",
       "      <th>secondary_cleaner.state.floatbank4_b_air</th>\n",
       "      <th>secondary_cleaner.state.floatbank4_b_level</th>\n",
       "      <th>secondary_cleaner.state.floatbank5_a_air</th>\n",
       "      <th>secondary_cleaner.state.floatbank5_a_level</th>\n",
       "      <th>secondary_cleaner.state.floatbank5_b_air</th>\n",
       "      <th>secondary_cleaner.state.floatbank5_b_level</th>\n",
       "      <th>secondary_cleaner.state.floatbank6_a_air</th>\n",
       "      <th>secondary_cleaner.state.floatbank6_a_level</th>\n",
       "    </tr>\n",
       "    <tr>\n",
       "      <th>date</th>\n",
       "      <th></th>\n",
       "      <th></th>\n",
       "      <th></th>\n",
       "      <th></th>\n",
       "      <th></th>\n",
       "      <th></th>\n",
       "      <th></th>\n",
       "      <th></th>\n",
       "      <th></th>\n",
       "      <th></th>\n",
       "      <th></th>\n",
       "      <th></th>\n",
       "      <th></th>\n",
       "      <th></th>\n",
       "      <th></th>\n",
       "      <th></th>\n",
       "      <th></th>\n",
       "      <th></th>\n",
       "      <th></th>\n",
       "      <th></th>\n",
       "      <th></th>\n",
       "    </tr>\n",
       "  </thead>\n",
       "  <tbody>\n",
       "    <tr>\n",
       "      <th>2016-09-01 00:59:59</th>\n",
       "      <td>210.800909</td>\n",
       "      <td>14.993118</td>\n",
       "      <td>8.080000</td>\n",
       "      <td>1.005021</td>\n",
       "      <td>1398.981301</td>\n",
       "      <td>-500.225577</td>\n",
       "      <td>1399.144926</td>\n",
       "      <td>-499.919735</td>\n",
       "      <td>1400.102998</td>\n",
       "      <td>-500.704369</td>\n",
       "      <td>...</td>\n",
       "      <td>12.023554</td>\n",
       "      <td>-497.795834</td>\n",
       "      <td>8.016656</td>\n",
       "      <td>-501.289139</td>\n",
       "      <td>7.946562</td>\n",
       "      <td>-432.317850</td>\n",
       "      <td>4.872511</td>\n",
       "      <td>-500.037437</td>\n",
       "      <td>26.705889</td>\n",
       "      <td>-499.709414</td>\n",
       "    </tr>\n",
       "    <tr>\n",
       "      <th>2016-09-01 01:59:59</th>\n",
       "      <td>215.392455</td>\n",
       "      <td>14.987471</td>\n",
       "      <td>8.080000</td>\n",
       "      <td>0.990469</td>\n",
       "      <td>1398.777912</td>\n",
       "      <td>-500.057435</td>\n",
       "      <td>1398.055362</td>\n",
       "      <td>-499.778182</td>\n",
       "      <td>1396.151033</td>\n",
       "      <td>-499.240168</td>\n",
       "      <td>...</td>\n",
       "      <td>12.058140</td>\n",
       "      <td>-498.695773</td>\n",
       "      <td>8.130979</td>\n",
       "      <td>-499.634209</td>\n",
       "      <td>7.958270</td>\n",
       "      <td>-525.839648</td>\n",
       "      <td>4.878850</td>\n",
       "      <td>-500.162375</td>\n",
       "      <td>25.019940</td>\n",
       "      <td>-499.819438</td>\n",
       "    </tr>\n",
       "    <tr>\n",
       "      <th>2016-09-01 02:59:59</th>\n",
       "      <td>215.259946</td>\n",
       "      <td>12.884934</td>\n",
       "      <td>7.786667</td>\n",
       "      <td>0.996043</td>\n",
       "      <td>1398.493666</td>\n",
       "      <td>-500.868360</td>\n",
       "      <td>1398.860436</td>\n",
       "      <td>-499.764529</td>\n",
       "      <td>1398.075709</td>\n",
       "      <td>-502.151509</td>\n",
       "      <td>...</td>\n",
       "      <td>11.962366</td>\n",
       "      <td>-498.767484</td>\n",
       "      <td>8.096893</td>\n",
       "      <td>-500.827423</td>\n",
       "      <td>8.071056</td>\n",
       "      <td>-500.801673</td>\n",
       "      <td>4.905125</td>\n",
       "      <td>-499.828510</td>\n",
       "      <td>24.994862</td>\n",
       "      <td>-500.622559</td>\n",
       "    </tr>\n",
       "    <tr>\n",
       "      <th>2016-09-01 03:59:59</th>\n",
       "      <td>215.336236</td>\n",
       "      <td>12.006805</td>\n",
       "      <td>7.640000</td>\n",
       "      <td>0.863514</td>\n",
       "      <td>1399.618111</td>\n",
       "      <td>-498.863574</td>\n",
       "      <td>1397.440120</td>\n",
       "      <td>-499.211024</td>\n",
       "      <td>1400.129303</td>\n",
       "      <td>-498.355873</td>\n",
       "      <td>...</td>\n",
       "      <td>12.033091</td>\n",
       "      <td>-498.350935</td>\n",
       "      <td>8.074946</td>\n",
       "      <td>-499.474407</td>\n",
       "      <td>7.897085</td>\n",
       "      <td>-500.868509</td>\n",
       "      <td>4.931400</td>\n",
       "      <td>-499.963623</td>\n",
       "      <td>24.948919</td>\n",
       "      <td>-498.709987</td>\n",
       "    </tr>\n",
       "    <tr>\n",
       "      <th>2016-09-01 04:59:59</th>\n",
       "      <td>199.099327</td>\n",
       "      <td>10.682530</td>\n",
       "      <td>7.530000</td>\n",
       "      <td>0.805575</td>\n",
       "      <td>1401.268123</td>\n",
       "      <td>-500.808305</td>\n",
       "      <td>1398.128818</td>\n",
       "      <td>-499.504543</td>\n",
       "      <td>1402.172226</td>\n",
       "      <td>-500.810606</td>\n",
       "      <td>...</td>\n",
       "      <td>12.025367</td>\n",
       "      <td>-500.786497</td>\n",
       "      <td>8.054678</td>\n",
       "      <td>-500.397500</td>\n",
       "      <td>8.107890</td>\n",
       "      <td>-509.526725</td>\n",
       "      <td>4.957674</td>\n",
       "      <td>-500.360026</td>\n",
       "      <td>25.003331</td>\n",
       "      <td>-500.856333</td>\n",
       "    </tr>\n",
       "    <tr>\n",
       "      <th>2016-09-01 05:59:59</th>\n",
       "      <td>168.485085</td>\n",
       "      <td>8.817007</td>\n",
       "      <td>7.420000</td>\n",
       "      <td>0.791191</td>\n",
       "      <td>1402.826803</td>\n",
       "      <td>-499.299521</td>\n",
       "      <td>1401.511119</td>\n",
       "      <td>-499.205357</td>\n",
       "      <td>1404.088107</td>\n",
       "      <td>-497.903666</td>\n",
       "      <td>...</td>\n",
       "      <td>12.029797</td>\n",
       "      <td>-499.814895</td>\n",
       "      <td>8.036586</td>\n",
       "      <td>-500.371492</td>\n",
       "      <td>8.041446</td>\n",
       "      <td>-510.037054</td>\n",
       "      <td>4.983949</td>\n",
       "      <td>-499.990990</td>\n",
       "      <td>24.978973</td>\n",
       "      <td>-500.475640</td>\n",
       "    </tr>\n",
       "    <tr>\n",
       "      <th>2016-09-01 06:59:59</th>\n",
       "      <td>144.133440</td>\n",
       "      <td>7.924610</td>\n",
       "      <td>7.420000</td>\n",
       "      <td>0.788838</td>\n",
       "      <td>1398.252401</td>\n",
       "      <td>-499.748672</td>\n",
       "      <td>1393.255503</td>\n",
       "      <td>-499.195380</td>\n",
       "      <td>1396.738566</td>\n",
       "      <td>-497.923683</td>\n",
       "      <td>...</td>\n",
       "      <td>12.026296</td>\n",
       "      <td>-499.473127</td>\n",
       "      <td>8.027984</td>\n",
       "      <td>-500.983079</td>\n",
       "      <td>7.907340</td>\n",
       "      <td>-507.964971</td>\n",
       "      <td>5.010224</td>\n",
       "      <td>-500.043697</td>\n",
       "      <td>25.040709</td>\n",
       "      <td>-499.501984</td>\n",
       "    </tr>\n",
       "    <tr>\n",
       "      <th>2016-09-01 07:59:59</th>\n",
       "      <td>133.513396</td>\n",
       "      <td>8.055252</td>\n",
       "      <td>6.988000</td>\n",
       "      <td>0.801871</td>\n",
       "      <td>1401.669677</td>\n",
       "      <td>-501.777839</td>\n",
       "      <td>1400.754446</td>\n",
       "      <td>-502.514024</td>\n",
       "      <td>1400.465244</td>\n",
       "      <td>-503.451306</td>\n",
       "      <td>...</td>\n",
       "      <td>12.040911</td>\n",
       "      <td>-501.293852</td>\n",
       "      <td>8.020490</td>\n",
       "      <td>-499.185229</td>\n",
       "      <td>8.116897</td>\n",
       "      <td>-511.927561</td>\n",
       "      <td>5.036498</td>\n",
       "      <td>-500.149615</td>\n",
       "      <td>25.032580</td>\n",
       "      <td>-503.970657</td>\n",
       "    </tr>\n",
       "    <tr>\n",
       "      <th>2016-09-01 08:59:59</th>\n",
       "      <td>133.735356</td>\n",
       "      <td>7.999618</td>\n",
       "      <td>6.935000</td>\n",
       "      <td>0.789329</td>\n",
       "      <td>1402.358981</td>\n",
       "      <td>-499.981597</td>\n",
       "      <td>1400.985954</td>\n",
       "      <td>-496.802968</td>\n",
       "      <td>1401.168584</td>\n",
       "      <td>-499.890350</td>\n",
       "      <td>...</td>\n",
       "      <td>11.998184</td>\n",
       "      <td>-499.481608</td>\n",
       "      <td>8.012610</td>\n",
       "      <td>-500.896783</td>\n",
       "      <td>7.974422</td>\n",
       "      <td>-521.199104</td>\n",
       "      <td>5.061599</td>\n",
       "      <td>-499.791519</td>\n",
       "      <td>25.005063</td>\n",
       "      <td>-497.613716</td>\n",
       "    </tr>\n",
       "    <tr>\n",
       "      <th>2016-09-01 09:59:59</th>\n",
       "      <td>126.961069</td>\n",
       "      <td>8.017856</td>\n",
       "      <td>7.030000</td>\n",
       "      <td>0.805298</td>\n",
       "      <td>1400.816120</td>\n",
       "      <td>-499.014158</td>\n",
       "      <td>1399.975401</td>\n",
       "      <td>-499.570552</td>\n",
       "      <td>1401.871924</td>\n",
       "      <td>-499.577934</td>\n",
       "      <td>...</td>\n",
       "      <td>12.040725</td>\n",
       "      <td>-499.987743</td>\n",
       "      <td>7.989503</td>\n",
       "      <td>-499.750625</td>\n",
       "      <td>7.989710</td>\n",
       "      <td>-509.946737</td>\n",
       "      <td>5.068811</td>\n",
       "      <td>-499.293900</td>\n",
       "      <td>24.992741</td>\n",
       "      <td>-499.272255</td>\n",
       "    </tr>\n",
       "  </tbody>\n",
       "</table>\n",
       "<p>10 rows × 52 columns</p>\n",
       "</div>"
      ],
      "text/plain": [
       "                     primary_cleaner.input.sulfate  \\\n",
       "date                                                 \n",
       "2016-09-01 00:59:59                     210.800909   \n",
       "2016-09-01 01:59:59                     215.392455   \n",
       "2016-09-01 02:59:59                     215.259946   \n",
       "2016-09-01 03:59:59                     215.336236   \n",
       "2016-09-01 04:59:59                     199.099327   \n",
       "2016-09-01 05:59:59                     168.485085   \n",
       "2016-09-01 06:59:59                     144.133440   \n",
       "2016-09-01 07:59:59                     133.513396   \n",
       "2016-09-01 08:59:59                     133.735356   \n",
       "2016-09-01 09:59:59                     126.961069   \n",
       "\n",
       "                     primary_cleaner.input.depressant  \\\n",
       "date                                                    \n",
       "2016-09-01 00:59:59                         14.993118   \n",
       "2016-09-01 01:59:59                         14.987471   \n",
       "2016-09-01 02:59:59                         12.884934   \n",
       "2016-09-01 03:59:59                         12.006805   \n",
       "2016-09-01 04:59:59                         10.682530   \n",
       "2016-09-01 05:59:59                          8.817007   \n",
       "2016-09-01 06:59:59                          7.924610   \n",
       "2016-09-01 07:59:59                          8.055252   \n",
       "2016-09-01 08:59:59                          7.999618   \n",
       "2016-09-01 09:59:59                          8.017856   \n",
       "\n",
       "                     primary_cleaner.input.feed_size  \\\n",
       "date                                                   \n",
       "2016-09-01 00:59:59                         8.080000   \n",
       "2016-09-01 01:59:59                         8.080000   \n",
       "2016-09-01 02:59:59                         7.786667   \n",
       "2016-09-01 03:59:59                         7.640000   \n",
       "2016-09-01 04:59:59                         7.530000   \n",
       "2016-09-01 05:59:59                         7.420000   \n",
       "2016-09-01 06:59:59                         7.420000   \n",
       "2016-09-01 07:59:59                         6.988000   \n",
       "2016-09-01 08:59:59                         6.935000   \n",
       "2016-09-01 09:59:59                         7.030000   \n",
       "\n",
       "                     primary_cleaner.input.xanthate  \\\n",
       "date                                                  \n",
       "2016-09-01 00:59:59                        1.005021   \n",
       "2016-09-01 01:59:59                        0.990469   \n",
       "2016-09-01 02:59:59                        0.996043   \n",
       "2016-09-01 03:59:59                        0.863514   \n",
       "2016-09-01 04:59:59                        0.805575   \n",
       "2016-09-01 05:59:59                        0.791191   \n",
       "2016-09-01 06:59:59                        0.788838   \n",
       "2016-09-01 07:59:59                        0.801871   \n",
       "2016-09-01 08:59:59                        0.789329   \n",
       "2016-09-01 09:59:59                        0.805298   \n",
       "\n",
       "                     primary_cleaner.state.floatbank8_a_air  \\\n",
       "date                                                          \n",
       "2016-09-01 00:59:59                             1398.981301   \n",
       "2016-09-01 01:59:59                             1398.777912   \n",
       "2016-09-01 02:59:59                             1398.493666   \n",
       "2016-09-01 03:59:59                             1399.618111   \n",
       "2016-09-01 04:59:59                             1401.268123   \n",
       "2016-09-01 05:59:59                             1402.826803   \n",
       "2016-09-01 06:59:59                             1398.252401   \n",
       "2016-09-01 07:59:59                             1401.669677   \n",
       "2016-09-01 08:59:59                             1402.358981   \n",
       "2016-09-01 09:59:59                             1400.816120   \n",
       "\n",
       "                     primary_cleaner.state.floatbank8_a_level  \\\n",
       "date                                                            \n",
       "2016-09-01 00:59:59                               -500.225577   \n",
       "2016-09-01 01:59:59                               -500.057435   \n",
       "2016-09-01 02:59:59                               -500.868360   \n",
       "2016-09-01 03:59:59                               -498.863574   \n",
       "2016-09-01 04:59:59                               -500.808305   \n",
       "2016-09-01 05:59:59                               -499.299521   \n",
       "2016-09-01 06:59:59                               -499.748672   \n",
       "2016-09-01 07:59:59                               -501.777839   \n",
       "2016-09-01 08:59:59                               -499.981597   \n",
       "2016-09-01 09:59:59                               -499.014158   \n",
       "\n",
       "                     primary_cleaner.state.floatbank8_b_air  \\\n",
       "date                                                          \n",
       "2016-09-01 00:59:59                             1399.144926   \n",
       "2016-09-01 01:59:59                             1398.055362   \n",
       "2016-09-01 02:59:59                             1398.860436   \n",
       "2016-09-01 03:59:59                             1397.440120   \n",
       "2016-09-01 04:59:59                             1398.128818   \n",
       "2016-09-01 05:59:59                             1401.511119   \n",
       "2016-09-01 06:59:59                             1393.255503   \n",
       "2016-09-01 07:59:59                             1400.754446   \n",
       "2016-09-01 08:59:59                             1400.985954   \n",
       "2016-09-01 09:59:59                             1399.975401   \n",
       "\n",
       "                     primary_cleaner.state.floatbank8_b_level  \\\n",
       "date                                                            \n",
       "2016-09-01 00:59:59                               -499.919735   \n",
       "2016-09-01 01:59:59                               -499.778182   \n",
       "2016-09-01 02:59:59                               -499.764529   \n",
       "2016-09-01 03:59:59                               -499.211024   \n",
       "2016-09-01 04:59:59                               -499.504543   \n",
       "2016-09-01 05:59:59                               -499.205357   \n",
       "2016-09-01 06:59:59                               -499.195380   \n",
       "2016-09-01 07:59:59                               -502.514024   \n",
       "2016-09-01 08:59:59                               -496.802968   \n",
       "2016-09-01 09:59:59                               -499.570552   \n",
       "\n",
       "                     primary_cleaner.state.floatbank8_c_air  \\\n",
       "date                                                          \n",
       "2016-09-01 00:59:59                             1400.102998   \n",
       "2016-09-01 01:59:59                             1396.151033   \n",
       "2016-09-01 02:59:59                             1398.075709   \n",
       "2016-09-01 03:59:59                             1400.129303   \n",
       "2016-09-01 04:59:59                             1402.172226   \n",
       "2016-09-01 05:59:59                             1404.088107   \n",
       "2016-09-01 06:59:59                             1396.738566   \n",
       "2016-09-01 07:59:59                             1400.465244   \n",
       "2016-09-01 08:59:59                             1401.168584   \n",
       "2016-09-01 09:59:59                             1401.871924   \n",
       "\n",
       "                     primary_cleaner.state.floatbank8_c_level  ...  \\\n",
       "date                                                           ...   \n",
       "2016-09-01 00:59:59                               -500.704369  ...   \n",
       "2016-09-01 01:59:59                               -499.240168  ...   \n",
       "2016-09-01 02:59:59                               -502.151509  ...   \n",
       "2016-09-01 03:59:59                               -498.355873  ...   \n",
       "2016-09-01 04:59:59                               -500.810606  ...   \n",
       "2016-09-01 05:59:59                               -497.903666  ...   \n",
       "2016-09-01 06:59:59                               -497.923683  ...   \n",
       "2016-09-01 07:59:59                               -503.451306  ...   \n",
       "2016-09-01 08:59:59                               -499.890350  ...   \n",
       "2016-09-01 09:59:59                               -499.577934  ...   \n",
       "\n",
       "                     secondary_cleaner.state.floatbank4_a_air  \\\n",
       "date                                                            \n",
       "2016-09-01 00:59:59                                 12.023554   \n",
       "2016-09-01 01:59:59                                 12.058140   \n",
       "2016-09-01 02:59:59                                 11.962366   \n",
       "2016-09-01 03:59:59                                 12.033091   \n",
       "2016-09-01 04:59:59                                 12.025367   \n",
       "2016-09-01 05:59:59                                 12.029797   \n",
       "2016-09-01 06:59:59                                 12.026296   \n",
       "2016-09-01 07:59:59                                 12.040911   \n",
       "2016-09-01 08:59:59                                 11.998184   \n",
       "2016-09-01 09:59:59                                 12.040725   \n",
       "\n",
       "                     secondary_cleaner.state.floatbank4_a_level  \\\n",
       "date                                                              \n",
       "2016-09-01 00:59:59                                 -497.795834   \n",
       "2016-09-01 01:59:59                                 -498.695773   \n",
       "2016-09-01 02:59:59                                 -498.767484   \n",
       "2016-09-01 03:59:59                                 -498.350935   \n",
       "2016-09-01 04:59:59                                 -500.786497   \n",
       "2016-09-01 05:59:59                                 -499.814895   \n",
       "2016-09-01 06:59:59                                 -499.473127   \n",
       "2016-09-01 07:59:59                                 -501.293852   \n",
       "2016-09-01 08:59:59                                 -499.481608   \n",
       "2016-09-01 09:59:59                                 -499.987743   \n",
       "\n",
       "                     secondary_cleaner.state.floatbank4_b_air  \\\n",
       "date                                                            \n",
       "2016-09-01 00:59:59                                  8.016656   \n",
       "2016-09-01 01:59:59                                  8.130979   \n",
       "2016-09-01 02:59:59                                  8.096893   \n",
       "2016-09-01 03:59:59                                  8.074946   \n",
       "2016-09-01 04:59:59                                  8.054678   \n",
       "2016-09-01 05:59:59                                  8.036586   \n",
       "2016-09-01 06:59:59                                  8.027984   \n",
       "2016-09-01 07:59:59                                  8.020490   \n",
       "2016-09-01 08:59:59                                  8.012610   \n",
       "2016-09-01 09:59:59                                  7.989503   \n",
       "\n",
       "                     secondary_cleaner.state.floatbank4_b_level  \\\n",
       "date                                                              \n",
       "2016-09-01 00:59:59                                 -501.289139   \n",
       "2016-09-01 01:59:59                                 -499.634209   \n",
       "2016-09-01 02:59:59                                 -500.827423   \n",
       "2016-09-01 03:59:59                                 -499.474407   \n",
       "2016-09-01 04:59:59                                 -500.397500   \n",
       "2016-09-01 05:59:59                                 -500.371492   \n",
       "2016-09-01 06:59:59                                 -500.983079   \n",
       "2016-09-01 07:59:59                                 -499.185229   \n",
       "2016-09-01 08:59:59                                 -500.896783   \n",
       "2016-09-01 09:59:59                                 -499.750625   \n",
       "\n",
       "                     secondary_cleaner.state.floatbank5_a_air  \\\n",
       "date                                                            \n",
       "2016-09-01 00:59:59                                  7.946562   \n",
       "2016-09-01 01:59:59                                  7.958270   \n",
       "2016-09-01 02:59:59                                  8.071056   \n",
       "2016-09-01 03:59:59                                  7.897085   \n",
       "2016-09-01 04:59:59                                  8.107890   \n",
       "2016-09-01 05:59:59                                  8.041446   \n",
       "2016-09-01 06:59:59                                  7.907340   \n",
       "2016-09-01 07:59:59                                  8.116897   \n",
       "2016-09-01 08:59:59                                  7.974422   \n",
       "2016-09-01 09:59:59                                  7.989710   \n",
       "\n",
       "                     secondary_cleaner.state.floatbank5_a_level  \\\n",
       "date                                                              \n",
       "2016-09-01 00:59:59                                 -432.317850   \n",
       "2016-09-01 01:59:59                                 -525.839648   \n",
       "2016-09-01 02:59:59                                 -500.801673   \n",
       "2016-09-01 03:59:59                                 -500.868509   \n",
       "2016-09-01 04:59:59                                 -509.526725   \n",
       "2016-09-01 05:59:59                                 -510.037054   \n",
       "2016-09-01 06:59:59                                 -507.964971   \n",
       "2016-09-01 07:59:59                                 -511.927561   \n",
       "2016-09-01 08:59:59                                 -521.199104   \n",
       "2016-09-01 09:59:59                                 -509.946737   \n",
       "\n",
       "                     secondary_cleaner.state.floatbank5_b_air  \\\n",
       "date                                                            \n",
       "2016-09-01 00:59:59                                  4.872511   \n",
       "2016-09-01 01:59:59                                  4.878850   \n",
       "2016-09-01 02:59:59                                  4.905125   \n",
       "2016-09-01 03:59:59                                  4.931400   \n",
       "2016-09-01 04:59:59                                  4.957674   \n",
       "2016-09-01 05:59:59                                  4.983949   \n",
       "2016-09-01 06:59:59                                  5.010224   \n",
       "2016-09-01 07:59:59                                  5.036498   \n",
       "2016-09-01 08:59:59                                  5.061599   \n",
       "2016-09-01 09:59:59                                  5.068811   \n",
       "\n",
       "                     secondary_cleaner.state.floatbank5_b_level  \\\n",
       "date                                                              \n",
       "2016-09-01 00:59:59                                 -500.037437   \n",
       "2016-09-01 01:59:59                                 -500.162375   \n",
       "2016-09-01 02:59:59                                 -499.828510   \n",
       "2016-09-01 03:59:59                                 -499.963623   \n",
       "2016-09-01 04:59:59                                 -500.360026   \n",
       "2016-09-01 05:59:59                                 -499.990990   \n",
       "2016-09-01 06:59:59                                 -500.043697   \n",
       "2016-09-01 07:59:59                                 -500.149615   \n",
       "2016-09-01 08:59:59                                 -499.791519   \n",
       "2016-09-01 09:59:59                                 -499.293900   \n",
       "\n",
       "                     secondary_cleaner.state.floatbank6_a_air  \\\n",
       "date                                                            \n",
       "2016-09-01 00:59:59                                 26.705889   \n",
       "2016-09-01 01:59:59                                 25.019940   \n",
       "2016-09-01 02:59:59                                 24.994862   \n",
       "2016-09-01 03:59:59                                 24.948919   \n",
       "2016-09-01 04:59:59                                 25.003331   \n",
       "2016-09-01 05:59:59                                 24.978973   \n",
       "2016-09-01 06:59:59                                 25.040709   \n",
       "2016-09-01 07:59:59                                 25.032580   \n",
       "2016-09-01 08:59:59                                 25.005063   \n",
       "2016-09-01 09:59:59                                 24.992741   \n",
       "\n",
       "                     secondary_cleaner.state.floatbank6_a_level  \n",
       "date                                                             \n",
       "2016-09-01 00:59:59                                 -499.709414  \n",
       "2016-09-01 01:59:59                                 -499.819438  \n",
       "2016-09-01 02:59:59                                 -500.622559  \n",
       "2016-09-01 03:59:59                                 -498.709987  \n",
       "2016-09-01 04:59:59                                 -500.856333  \n",
       "2016-09-01 05:59:59                                 -500.475640  \n",
       "2016-09-01 06:59:59                                 -499.501984  \n",
       "2016-09-01 07:59:59                                 -503.970657  \n",
       "2016-09-01 08:59:59                                 -497.613716  \n",
       "2016-09-01 09:59:59                                 -499.272255  \n",
       "\n",
       "[10 rows x 52 columns]"
      ]
     },
     "metadata": {},
     "output_type": "display_data"
    },
    {
     "name": "stdout",
     "output_type": "stream",
     "text": [
      "<class 'pandas.core.frame.DataFrame'>\n",
      "DatetimeIndex: 5290 entries, 2016-09-01 00:59:59 to 2017-12-31 23:59:59\n",
      "Data columns (total 52 columns):\n",
      " #   Column                                      Non-Null Count  Dtype  \n",
      "---  ------                                      --------------  -----  \n",
      " 0   primary_cleaner.input.sulfate               5286 non-null   float64\n",
      " 1   primary_cleaner.input.depressant            5285 non-null   float64\n",
      " 2   primary_cleaner.input.feed_size             5290 non-null   float64\n",
      " 3   primary_cleaner.input.xanthate              5286 non-null   float64\n",
      " 4   primary_cleaner.state.floatbank8_a_air      5290 non-null   float64\n",
      " 5   primary_cleaner.state.floatbank8_a_level    5290 non-null   float64\n",
      " 6   primary_cleaner.state.floatbank8_b_air      5290 non-null   float64\n",
      " 7   primary_cleaner.state.floatbank8_b_level    5290 non-null   float64\n",
      " 8   primary_cleaner.state.floatbank8_c_air      5290 non-null   float64\n",
      " 9   primary_cleaner.state.floatbank8_c_level    5290 non-null   float64\n",
      " 10  primary_cleaner.state.floatbank8_d_air      5290 non-null   float64\n",
      " 11  primary_cleaner.state.floatbank8_d_level    5290 non-null   float64\n",
      " 12  rougher.input.feed_ag                       5290 non-null   float64\n",
      " 13  rougher.input.feed_pb                       5290 non-null   float64\n",
      " 14  rougher.input.feed_rate                     5287 non-null   float64\n",
      " 15  rougher.input.feed_size                     5289 non-null   float64\n",
      " 16  rougher.input.feed_sol                      5269 non-null   float64\n",
      " 17  rougher.input.feed_au                       5290 non-null   float64\n",
      " 18  rougher.input.floatbank10_sulfate           5285 non-null   float64\n",
      " 19  rougher.input.floatbank10_xanthate          5290 non-null   float64\n",
      " 20  rougher.input.floatbank11_sulfate           5282 non-null   float64\n",
      " 21  rougher.input.floatbank11_xanthate          5265 non-null   float64\n",
      " 22  rougher.state.floatbank10_a_air             5290 non-null   float64\n",
      " 23  rougher.state.floatbank10_a_level           5290 non-null   float64\n",
      " 24  rougher.state.floatbank10_b_air             5290 non-null   float64\n",
      " 25  rougher.state.floatbank10_b_level           5290 non-null   float64\n",
      " 26  rougher.state.floatbank10_c_air             5290 non-null   float64\n",
      " 27  rougher.state.floatbank10_c_level           5290 non-null   float64\n",
      " 28  rougher.state.floatbank10_d_air             5290 non-null   float64\n",
      " 29  rougher.state.floatbank10_d_level           5290 non-null   float64\n",
      " 30  rougher.state.floatbank10_e_air             5290 non-null   float64\n",
      " 31  rougher.state.floatbank10_e_level           5290 non-null   float64\n",
      " 32  rougher.state.floatbank10_f_air             5290 non-null   float64\n",
      " 33  rougher.state.floatbank10_f_level           5290 non-null   float64\n",
      " 34  secondary_cleaner.state.floatbank2_a_air    5287 non-null   float64\n",
      " 35  secondary_cleaner.state.floatbank2_a_level  5290 non-null   float64\n",
      " 36  secondary_cleaner.state.floatbank2_b_air    5288 non-null   float64\n",
      " 37  secondary_cleaner.state.floatbank2_b_level  5290 non-null   float64\n",
      " 38  secondary_cleaner.state.floatbank3_a_air    5281 non-null   float64\n",
      " 39  secondary_cleaner.state.floatbank3_a_level  5290 non-null   float64\n",
      " 40  secondary_cleaner.state.floatbank3_b_air    5290 non-null   float64\n",
      " 41  secondary_cleaner.state.floatbank3_b_level  5290 non-null   float64\n",
      " 42  secondary_cleaner.state.floatbank4_a_air    5290 non-null   float64\n",
      " 43  secondary_cleaner.state.floatbank4_a_level  5290 non-null   float64\n",
      " 44  secondary_cleaner.state.floatbank4_b_air    5290 non-null   float64\n",
      " 45  secondary_cleaner.state.floatbank4_b_level  5290 non-null   float64\n",
      " 46  secondary_cleaner.state.floatbank5_a_air    5290 non-null   float64\n",
      " 47  secondary_cleaner.state.floatbank5_a_level  5290 non-null   float64\n",
      " 48  secondary_cleaner.state.floatbank5_b_air    5290 non-null   float64\n",
      " 49  secondary_cleaner.state.floatbank5_b_level  5290 non-null   float64\n",
      " 50  secondary_cleaner.state.floatbank6_a_air    5290 non-null   float64\n",
      " 51  secondary_cleaner.state.floatbank6_a_level  5290 non-null   float64\n",
      "dtypes: float64(52)\n",
      "memory usage: 2.1 MB\n"
     ]
    },
    {
     "data": {
      "text/plain": [
       "None"
      ]
     },
     "metadata": {},
     "output_type": "display_data"
    },
    {
     "name": "stdout",
     "output_type": "stream",
     "text": [
      "/datasets/gold_recovery_train_new.csv\n"
     ]
    },
    {
     "data": {
      "text/html": [
       "<div>\n",
       "<style scoped>\n",
       "    .dataframe tbody tr th:only-of-type {\n",
       "        vertical-align: middle;\n",
       "    }\n",
       "\n",
       "    .dataframe tbody tr th {\n",
       "        vertical-align: top;\n",
       "    }\n",
       "\n",
       "    .dataframe thead th {\n",
       "        text-align: right;\n",
       "    }\n",
       "</style>\n",
       "<table border=\"1\" class=\"dataframe\">\n",
       "  <thead>\n",
       "    <tr style=\"text-align: right;\">\n",
       "      <th></th>\n",
       "      <th>final.output.concentrate_ag</th>\n",
       "      <th>final.output.concentrate_pb</th>\n",
       "      <th>final.output.concentrate_sol</th>\n",
       "      <th>final.output.concentrate_au</th>\n",
       "      <th>final.output.recovery</th>\n",
       "      <th>final.output.tail_ag</th>\n",
       "      <th>final.output.tail_pb</th>\n",
       "      <th>final.output.tail_sol</th>\n",
       "      <th>final.output.tail_au</th>\n",
       "      <th>primary_cleaner.input.sulfate</th>\n",
       "      <th>...</th>\n",
       "      <th>secondary_cleaner.state.floatbank4_a_air</th>\n",
       "      <th>secondary_cleaner.state.floatbank4_a_level</th>\n",
       "      <th>secondary_cleaner.state.floatbank4_b_air</th>\n",
       "      <th>secondary_cleaner.state.floatbank4_b_level</th>\n",
       "      <th>secondary_cleaner.state.floatbank5_a_air</th>\n",
       "      <th>secondary_cleaner.state.floatbank5_a_level</th>\n",
       "      <th>secondary_cleaner.state.floatbank5_b_air</th>\n",
       "      <th>secondary_cleaner.state.floatbank5_b_level</th>\n",
       "      <th>secondary_cleaner.state.floatbank6_a_air</th>\n",
       "      <th>secondary_cleaner.state.floatbank6_a_level</th>\n",
       "    </tr>\n",
       "    <tr>\n",
       "      <th>date</th>\n",
       "      <th></th>\n",
       "      <th></th>\n",
       "      <th></th>\n",
       "      <th></th>\n",
       "      <th></th>\n",
       "      <th></th>\n",
       "      <th></th>\n",
       "      <th></th>\n",
       "      <th></th>\n",
       "      <th></th>\n",
       "      <th></th>\n",
       "      <th></th>\n",
       "      <th></th>\n",
       "      <th></th>\n",
       "      <th></th>\n",
       "      <th></th>\n",
       "      <th></th>\n",
       "      <th></th>\n",
       "      <th></th>\n",
       "      <th></th>\n",
       "      <th></th>\n",
       "    </tr>\n",
       "  </thead>\n",
       "  <tbody>\n",
       "    <tr>\n",
       "      <th>2016-01-15 00:00:00</th>\n",
       "      <td>6.055403</td>\n",
       "      <td>9.889648</td>\n",
       "      <td>5.507324</td>\n",
       "      <td>42.192020</td>\n",
       "      <td>70.541216</td>\n",
       "      <td>10.411962</td>\n",
       "      <td>0.895447</td>\n",
       "      <td>16.904297</td>\n",
       "      <td>2.143149</td>\n",
       "      <td>127.092003</td>\n",
       "      <td>...</td>\n",
       "      <td>14.016835</td>\n",
       "      <td>-502.488007</td>\n",
       "      <td>12.099931</td>\n",
       "      <td>-504.715942</td>\n",
       "      <td>9.925633</td>\n",
       "      <td>-498.310211</td>\n",
       "      <td>8.079666</td>\n",
       "      <td>-500.470978</td>\n",
       "      <td>14.151341</td>\n",
       "      <td>-605.841980</td>\n",
       "    </tr>\n",
       "    <tr>\n",
       "      <th>2016-01-15 01:00:00</th>\n",
       "      <td>6.029369</td>\n",
       "      <td>9.968944</td>\n",
       "      <td>5.257781</td>\n",
       "      <td>42.701629</td>\n",
       "      <td>69.266198</td>\n",
       "      <td>10.462676</td>\n",
       "      <td>0.927452</td>\n",
       "      <td>16.634514</td>\n",
       "      <td>2.224930</td>\n",
       "      <td>125.629232</td>\n",
       "      <td>...</td>\n",
       "      <td>13.992281</td>\n",
       "      <td>-505.503262</td>\n",
       "      <td>11.950531</td>\n",
       "      <td>-501.331529</td>\n",
       "      <td>10.039245</td>\n",
       "      <td>-500.169983</td>\n",
       "      <td>7.984757</td>\n",
       "      <td>-500.582168</td>\n",
       "      <td>13.998353</td>\n",
       "      <td>-599.787184</td>\n",
       "    </tr>\n",
       "    <tr>\n",
       "      <th>2016-01-15 02:00:00</th>\n",
       "      <td>6.055926</td>\n",
       "      <td>10.213995</td>\n",
       "      <td>5.383759</td>\n",
       "      <td>42.657501</td>\n",
       "      <td>68.116445</td>\n",
       "      <td>10.507046</td>\n",
       "      <td>0.953716</td>\n",
       "      <td>16.208849</td>\n",
       "      <td>2.257889</td>\n",
       "      <td>123.819808</td>\n",
       "      <td>...</td>\n",
       "      <td>14.015015</td>\n",
       "      <td>-502.520901</td>\n",
       "      <td>11.912783</td>\n",
       "      <td>-501.133383</td>\n",
       "      <td>10.070913</td>\n",
       "      <td>-500.129135</td>\n",
       "      <td>8.013877</td>\n",
       "      <td>-500.517572</td>\n",
       "      <td>14.028663</td>\n",
       "      <td>-601.427363</td>\n",
       "    </tr>\n",
       "    <tr>\n",
       "      <th>2016-01-15 03:00:00</th>\n",
       "      <td>6.047977</td>\n",
       "      <td>9.977019</td>\n",
       "      <td>4.858634</td>\n",
       "      <td>42.689819</td>\n",
       "      <td>68.347543</td>\n",
       "      <td>10.422762</td>\n",
       "      <td>0.883763</td>\n",
       "      <td>16.532835</td>\n",
       "      <td>2.146849</td>\n",
       "      <td>122.270188</td>\n",
       "      <td>...</td>\n",
       "      <td>14.036510</td>\n",
       "      <td>-500.857308</td>\n",
       "      <td>11.999550</td>\n",
       "      <td>-501.193686</td>\n",
       "      <td>9.970366</td>\n",
       "      <td>-499.201640</td>\n",
       "      <td>7.977324</td>\n",
       "      <td>-500.255908</td>\n",
       "      <td>14.005551</td>\n",
       "      <td>-599.996129</td>\n",
       "    </tr>\n",
       "    <tr>\n",
       "      <th>2016-01-15 04:00:00</th>\n",
       "      <td>6.148599</td>\n",
       "      <td>10.142511</td>\n",
       "      <td>4.939416</td>\n",
       "      <td>42.774141</td>\n",
       "      <td>66.927016</td>\n",
       "      <td>10.360302</td>\n",
       "      <td>0.792826</td>\n",
       "      <td>16.525686</td>\n",
       "      <td>2.055292</td>\n",
       "      <td>117.988169</td>\n",
       "      <td>...</td>\n",
       "      <td>14.027298</td>\n",
       "      <td>-499.838632</td>\n",
       "      <td>11.953070</td>\n",
       "      <td>-501.053894</td>\n",
       "      <td>9.925709</td>\n",
       "      <td>-501.686727</td>\n",
       "      <td>7.894242</td>\n",
       "      <td>-500.356035</td>\n",
       "      <td>13.996647</td>\n",
       "      <td>-601.496691</td>\n",
       "    </tr>\n",
       "    <tr>\n",
       "      <th>2016-01-15 05:00:00</th>\n",
       "      <td>6.482968</td>\n",
       "      <td>10.049416</td>\n",
       "      <td>5.480257</td>\n",
       "      <td>41.633678</td>\n",
       "      <td>69.465816</td>\n",
       "      <td>10.182708</td>\n",
       "      <td>0.664118</td>\n",
       "      <td>16.999638</td>\n",
       "      <td>1.918586</td>\n",
       "      <td>115.581252</td>\n",
       "      <td>...</td>\n",
       "      <td>13.938497</td>\n",
       "      <td>-500.970168</td>\n",
       "      <td>11.883350</td>\n",
       "      <td>-500.395298</td>\n",
       "      <td>10.054147</td>\n",
       "      <td>-496.374715</td>\n",
       "      <td>7.965083</td>\n",
       "      <td>-499.364752</td>\n",
       "      <td>14.017067</td>\n",
       "      <td>-599.707915</td>\n",
       "    </tr>\n",
       "    <tr>\n",
       "      <th>2016-01-15 06:00:00</th>\n",
       "      <td>6.533849</td>\n",
       "      <td>10.058141</td>\n",
       "      <td>4.569100</td>\n",
       "      <td>41.995316</td>\n",
       "      <td>69.300835</td>\n",
       "      <td>10.304598</td>\n",
       "      <td>0.807342</td>\n",
       "      <td>16.723575</td>\n",
       "      <td>2.058913</td>\n",
       "      <td>117.322323</td>\n",
       "      <td>...</td>\n",
       "      <td>14.046819</td>\n",
       "      <td>-500.971133</td>\n",
       "      <td>12.091543</td>\n",
       "      <td>-500.501426</td>\n",
       "      <td>10.003247</td>\n",
       "      <td>-497.083180</td>\n",
       "      <td>8.010890</td>\n",
       "      <td>-500.002423</td>\n",
       "      <td>14.029649</td>\n",
       "      <td>-600.905470</td>\n",
       "    </tr>\n",
       "    <tr>\n",
       "      <th>2016-01-15 07:00:00</th>\n",
       "      <td>6.130823</td>\n",
       "      <td>9.935481</td>\n",
       "      <td>4.389813</td>\n",
       "      <td>42.452727</td>\n",
       "      <td>70.230976</td>\n",
       "      <td>10.443288</td>\n",
       "      <td>0.949346</td>\n",
       "      <td>16.689959</td>\n",
       "      <td>2.143437</td>\n",
       "      <td>124.592960</td>\n",
       "      <td>...</td>\n",
       "      <td>13.974691</td>\n",
       "      <td>-501.819696</td>\n",
       "      <td>12.101324</td>\n",
       "      <td>-500.583446</td>\n",
       "      <td>9.873169</td>\n",
       "      <td>-499.171928</td>\n",
       "      <td>7.993381</td>\n",
       "      <td>-499.794518</td>\n",
       "      <td>13.984498</td>\n",
       "      <td>-600.411070</td>\n",
       "    </tr>\n",
       "    <tr>\n",
       "      <th>2016-01-15 08:00:00</th>\n",
       "      <td>5.834140</td>\n",
       "      <td>10.071156</td>\n",
       "      <td>4.876389</td>\n",
       "      <td>43.404078</td>\n",
       "      <td>69.688595</td>\n",
       "      <td>10.420140</td>\n",
       "      <td>1.065453</td>\n",
       "      <td>17.201948</td>\n",
       "      <td>2.209881</td>\n",
       "      <td>131.781026</td>\n",
       "      <td>...</td>\n",
       "      <td>13.964030</td>\n",
       "      <td>-504.252450</td>\n",
       "      <td>12.060738</td>\n",
       "      <td>-501.174549</td>\n",
       "      <td>10.033838</td>\n",
       "      <td>-501.178133</td>\n",
       "      <td>7.881604</td>\n",
       "      <td>-499.729434</td>\n",
       "      <td>13.967135</td>\n",
       "      <td>-599.061188</td>\n",
       "    </tr>\n",
       "    <tr>\n",
       "      <th>2016-01-15 09:00:00</th>\n",
       "      <td>5.687063</td>\n",
       "      <td>9.980404</td>\n",
       "      <td>5.282514</td>\n",
       "      <td>43.235220</td>\n",
       "      <td>70.279619</td>\n",
       "      <td>10.487013</td>\n",
       "      <td>1.159805</td>\n",
       "      <td>17.483979</td>\n",
       "      <td>2.209593</td>\n",
       "      <td>138.120409</td>\n",
       "      <td>...</td>\n",
       "      <td>13.989632</td>\n",
       "      <td>-503.195299</td>\n",
       "      <td>12.052233</td>\n",
       "      <td>-500.928547</td>\n",
       "      <td>9.962574</td>\n",
       "      <td>-502.986357</td>\n",
       "      <td>7.979219</td>\n",
       "      <td>-500.146835</td>\n",
       "      <td>13.981614</td>\n",
       "      <td>-598.070855</td>\n",
       "    </tr>\n",
       "  </tbody>\n",
       "</table>\n",
       "<p>10 rows × 86 columns</p>\n",
       "</div>"
      ],
      "text/plain": [
       "                     final.output.concentrate_ag  final.output.concentrate_pb  \\\n",
       "date                                                                            \n",
       "2016-01-15 00:00:00                     6.055403                     9.889648   \n",
       "2016-01-15 01:00:00                     6.029369                     9.968944   \n",
       "2016-01-15 02:00:00                     6.055926                    10.213995   \n",
       "2016-01-15 03:00:00                     6.047977                     9.977019   \n",
       "2016-01-15 04:00:00                     6.148599                    10.142511   \n",
       "2016-01-15 05:00:00                     6.482968                    10.049416   \n",
       "2016-01-15 06:00:00                     6.533849                    10.058141   \n",
       "2016-01-15 07:00:00                     6.130823                     9.935481   \n",
       "2016-01-15 08:00:00                     5.834140                    10.071156   \n",
       "2016-01-15 09:00:00                     5.687063                     9.980404   \n",
       "\n",
       "                     final.output.concentrate_sol  \\\n",
       "date                                                \n",
       "2016-01-15 00:00:00                      5.507324   \n",
       "2016-01-15 01:00:00                      5.257781   \n",
       "2016-01-15 02:00:00                      5.383759   \n",
       "2016-01-15 03:00:00                      4.858634   \n",
       "2016-01-15 04:00:00                      4.939416   \n",
       "2016-01-15 05:00:00                      5.480257   \n",
       "2016-01-15 06:00:00                      4.569100   \n",
       "2016-01-15 07:00:00                      4.389813   \n",
       "2016-01-15 08:00:00                      4.876389   \n",
       "2016-01-15 09:00:00                      5.282514   \n",
       "\n",
       "                     final.output.concentrate_au  final.output.recovery  \\\n",
       "date                                                                      \n",
       "2016-01-15 00:00:00                    42.192020              70.541216   \n",
       "2016-01-15 01:00:00                    42.701629              69.266198   \n",
       "2016-01-15 02:00:00                    42.657501              68.116445   \n",
       "2016-01-15 03:00:00                    42.689819              68.347543   \n",
       "2016-01-15 04:00:00                    42.774141              66.927016   \n",
       "2016-01-15 05:00:00                    41.633678              69.465816   \n",
       "2016-01-15 06:00:00                    41.995316              69.300835   \n",
       "2016-01-15 07:00:00                    42.452727              70.230976   \n",
       "2016-01-15 08:00:00                    43.404078              69.688595   \n",
       "2016-01-15 09:00:00                    43.235220              70.279619   \n",
       "\n",
       "                     final.output.tail_ag  final.output.tail_pb  \\\n",
       "date                                                              \n",
       "2016-01-15 00:00:00             10.411962              0.895447   \n",
       "2016-01-15 01:00:00             10.462676              0.927452   \n",
       "2016-01-15 02:00:00             10.507046              0.953716   \n",
       "2016-01-15 03:00:00             10.422762              0.883763   \n",
       "2016-01-15 04:00:00             10.360302              0.792826   \n",
       "2016-01-15 05:00:00             10.182708              0.664118   \n",
       "2016-01-15 06:00:00             10.304598              0.807342   \n",
       "2016-01-15 07:00:00             10.443288              0.949346   \n",
       "2016-01-15 08:00:00             10.420140              1.065453   \n",
       "2016-01-15 09:00:00             10.487013              1.159805   \n",
       "\n",
       "                     final.output.tail_sol  final.output.tail_au  \\\n",
       "date                                                               \n",
       "2016-01-15 00:00:00              16.904297              2.143149   \n",
       "2016-01-15 01:00:00              16.634514              2.224930   \n",
       "2016-01-15 02:00:00              16.208849              2.257889   \n",
       "2016-01-15 03:00:00              16.532835              2.146849   \n",
       "2016-01-15 04:00:00              16.525686              2.055292   \n",
       "2016-01-15 05:00:00              16.999638              1.918586   \n",
       "2016-01-15 06:00:00              16.723575              2.058913   \n",
       "2016-01-15 07:00:00              16.689959              2.143437   \n",
       "2016-01-15 08:00:00              17.201948              2.209881   \n",
       "2016-01-15 09:00:00              17.483979              2.209593   \n",
       "\n",
       "                     primary_cleaner.input.sulfate  ...  \\\n",
       "date                                                ...   \n",
       "2016-01-15 00:00:00                     127.092003  ...   \n",
       "2016-01-15 01:00:00                     125.629232  ...   \n",
       "2016-01-15 02:00:00                     123.819808  ...   \n",
       "2016-01-15 03:00:00                     122.270188  ...   \n",
       "2016-01-15 04:00:00                     117.988169  ...   \n",
       "2016-01-15 05:00:00                     115.581252  ...   \n",
       "2016-01-15 06:00:00                     117.322323  ...   \n",
       "2016-01-15 07:00:00                     124.592960  ...   \n",
       "2016-01-15 08:00:00                     131.781026  ...   \n",
       "2016-01-15 09:00:00                     138.120409  ...   \n",
       "\n",
       "                     secondary_cleaner.state.floatbank4_a_air  \\\n",
       "date                                                            \n",
       "2016-01-15 00:00:00                                 14.016835   \n",
       "2016-01-15 01:00:00                                 13.992281   \n",
       "2016-01-15 02:00:00                                 14.015015   \n",
       "2016-01-15 03:00:00                                 14.036510   \n",
       "2016-01-15 04:00:00                                 14.027298   \n",
       "2016-01-15 05:00:00                                 13.938497   \n",
       "2016-01-15 06:00:00                                 14.046819   \n",
       "2016-01-15 07:00:00                                 13.974691   \n",
       "2016-01-15 08:00:00                                 13.964030   \n",
       "2016-01-15 09:00:00                                 13.989632   \n",
       "\n",
       "                     secondary_cleaner.state.floatbank4_a_level  \\\n",
       "date                                                              \n",
       "2016-01-15 00:00:00                                 -502.488007   \n",
       "2016-01-15 01:00:00                                 -505.503262   \n",
       "2016-01-15 02:00:00                                 -502.520901   \n",
       "2016-01-15 03:00:00                                 -500.857308   \n",
       "2016-01-15 04:00:00                                 -499.838632   \n",
       "2016-01-15 05:00:00                                 -500.970168   \n",
       "2016-01-15 06:00:00                                 -500.971133   \n",
       "2016-01-15 07:00:00                                 -501.819696   \n",
       "2016-01-15 08:00:00                                 -504.252450   \n",
       "2016-01-15 09:00:00                                 -503.195299   \n",
       "\n",
       "                     secondary_cleaner.state.floatbank4_b_air  \\\n",
       "date                                                            \n",
       "2016-01-15 00:00:00                                 12.099931   \n",
       "2016-01-15 01:00:00                                 11.950531   \n",
       "2016-01-15 02:00:00                                 11.912783   \n",
       "2016-01-15 03:00:00                                 11.999550   \n",
       "2016-01-15 04:00:00                                 11.953070   \n",
       "2016-01-15 05:00:00                                 11.883350   \n",
       "2016-01-15 06:00:00                                 12.091543   \n",
       "2016-01-15 07:00:00                                 12.101324   \n",
       "2016-01-15 08:00:00                                 12.060738   \n",
       "2016-01-15 09:00:00                                 12.052233   \n",
       "\n",
       "                     secondary_cleaner.state.floatbank4_b_level  \\\n",
       "date                                                              \n",
       "2016-01-15 00:00:00                                 -504.715942   \n",
       "2016-01-15 01:00:00                                 -501.331529   \n",
       "2016-01-15 02:00:00                                 -501.133383   \n",
       "2016-01-15 03:00:00                                 -501.193686   \n",
       "2016-01-15 04:00:00                                 -501.053894   \n",
       "2016-01-15 05:00:00                                 -500.395298   \n",
       "2016-01-15 06:00:00                                 -500.501426   \n",
       "2016-01-15 07:00:00                                 -500.583446   \n",
       "2016-01-15 08:00:00                                 -501.174549   \n",
       "2016-01-15 09:00:00                                 -500.928547   \n",
       "\n",
       "                     secondary_cleaner.state.floatbank5_a_air  \\\n",
       "date                                                            \n",
       "2016-01-15 00:00:00                                  9.925633   \n",
       "2016-01-15 01:00:00                                 10.039245   \n",
       "2016-01-15 02:00:00                                 10.070913   \n",
       "2016-01-15 03:00:00                                  9.970366   \n",
       "2016-01-15 04:00:00                                  9.925709   \n",
       "2016-01-15 05:00:00                                 10.054147   \n",
       "2016-01-15 06:00:00                                 10.003247   \n",
       "2016-01-15 07:00:00                                  9.873169   \n",
       "2016-01-15 08:00:00                                 10.033838   \n",
       "2016-01-15 09:00:00                                  9.962574   \n",
       "\n",
       "                     secondary_cleaner.state.floatbank5_a_level  \\\n",
       "date                                                              \n",
       "2016-01-15 00:00:00                                 -498.310211   \n",
       "2016-01-15 01:00:00                                 -500.169983   \n",
       "2016-01-15 02:00:00                                 -500.129135   \n",
       "2016-01-15 03:00:00                                 -499.201640   \n",
       "2016-01-15 04:00:00                                 -501.686727   \n",
       "2016-01-15 05:00:00                                 -496.374715   \n",
       "2016-01-15 06:00:00                                 -497.083180   \n",
       "2016-01-15 07:00:00                                 -499.171928   \n",
       "2016-01-15 08:00:00                                 -501.178133   \n",
       "2016-01-15 09:00:00                                 -502.986357   \n",
       "\n",
       "                     secondary_cleaner.state.floatbank5_b_air  \\\n",
       "date                                                            \n",
       "2016-01-15 00:00:00                                  8.079666   \n",
       "2016-01-15 01:00:00                                  7.984757   \n",
       "2016-01-15 02:00:00                                  8.013877   \n",
       "2016-01-15 03:00:00                                  7.977324   \n",
       "2016-01-15 04:00:00                                  7.894242   \n",
       "2016-01-15 05:00:00                                  7.965083   \n",
       "2016-01-15 06:00:00                                  8.010890   \n",
       "2016-01-15 07:00:00                                  7.993381   \n",
       "2016-01-15 08:00:00                                  7.881604   \n",
       "2016-01-15 09:00:00                                  7.979219   \n",
       "\n",
       "                     secondary_cleaner.state.floatbank5_b_level  \\\n",
       "date                                                              \n",
       "2016-01-15 00:00:00                                 -500.470978   \n",
       "2016-01-15 01:00:00                                 -500.582168   \n",
       "2016-01-15 02:00:00                                 -500.517572   \n",
       "2016-01-15 03:00:00                                 -500.255908   \n",
       "2016-01-15 04:00:00                                 -500.356035   \n",
       "2016-01-15 05:00:00                                 -499.364752   \n",
       "2016-01-15 06:00:00                                 -500.002423   \n",
       "2016-01-15 07:00:00                                 -499.794518   \n",
       "2016-01-15 08:00:00                                 -499.729434   \n",
       "2016-01-15 09:00:00                                 -500.146835   \n",
       "\n",
       "                     secondary_cleaner.state.floatbank6_a_air  \\\n",
       "date                                                            \n",
       "2016-01-15 00:00:00                                 14.151341   \n",
       "2016-01-15 01:00:00                                 13.998353   \n",
       "2016-01-15 02:00:00                                 14.028663   \n",
       "2016-01-15 03:00:00                                 14.005551   \n",
       "2016-01-15 04:00:00                                 13.996647   \n",
       "2016-01-15 05:00:00                                 14.017067   \n",
       "2016-01-15 06:00:00                                 14.029649   \n",
       "2016-01-15 07:00:00                                 13.984498   \n",
       "2016-01-15 08:00:00                                 13.967135   \n",
       "2016-01-15 09:00:00                                 13.981614   \n",
       "\n",
       "                     secondary_cleaner.state.floatbank6_a_level  \n",
       "date                                                             \n",
       "2016-01-15 00:00:00                                 -605.841980  \n",
       "2016-01-15 01:00:00                                 -599.787184  \n",
       "2016-01-15 02:00:00                                 -601.427363  \n",
       "2016-01-15 03:00:00                                 -599.996129  \n",
       "2016-01-15 04:00:00                                 -601.496691  \n",
       "2016-01-15 05:00:00                                 -599.707915  \n",
       "2016-01-15 06:00:00                                 -600.905470  \n",
       "2016-01-15 07:00:00                                 -600.411070  \n",
       "2016-01-15 08:00:00                                 -599.061188  \n",
       "2016-01-15 09:00:00                                 -598.070855  \n",
       "\n",
       "[10 rows x 86 columns]"
      ]
     },
     "metadata": {},
     "output_type": "display_data"
    },
    {
     "name": "stdout",
     "output_type": "stream",
     "text": [
      "<class 'pandas.core.frame.DataFrame'>\n",
      "DatetimeIndex: 14149 entries, 2016-01-15 00:00:00 to 2018-08-18 10:59:59\n",
      "Data columns (total 86 columns):\n",
      " #   Column                                              Non-Null Count  Dtype  \n",
      "---  ------                                              --------------  -----  \n",
      " 0   final.output.concentrate_ag                         14148 non-null  float64\n",
      " 1   final.output.concentrate_pb                         14148 non-null  float64\n",
      " 2   final.output.concentrate_sol                        13938 non-null  float64\n",
      " 3   final.output.concentrate_au                         14149 non-null  float64\n",
      " 4   final.output.recovery                               14149 non-null  float64\n",
      " 5   final.output.tail_ag                                14149 non-null  float64\n",
      " 6   final.output.tail_pb                                14049 non-null  float64\n",
      " 7   final.output.tail_sol                               14144 non-null  float64\n",
      " 8   final.output.tail_au                                14149 non-null  float64\n",
      " 9   primary_cleaner.input.sulfate                       14129 non-null  float64\n",
      " 10  primary_cleaner.input.depressant                    14117 non-null  float64\n",
      " 11  primary_cleaner.input.feed_size                     14149 non-null  float64\n",
      " 12  primary_cleaner.input.xanthate                      14049 non-null  float64\n",
      " 13  primary_cleaner.output.concentrate_ag               14149 non-null  float64\n",
      " 14  primary_cleaner.output.concentrate_pb               14063 non-null  float64\n",
      " 15  primary_cleaner.output.concentrate_sol              13863 non-null  float64\n",
      " 16  primary_cleaner.output.concentrate_au               14149 non-null  float64\n",
      " 17  primary_cleaner.output.tail_ag                      14148 non-null  float64\n",
      " 18  primary_cleaner.output.tail_pb                      14134 non-null  float64\n",
      " 19  primary_cleaner.output.tail_sol                     14103 non-null  float64\n",
      " 20  primary_cleaner.output.tail_au                      14149 non-null  float64\n",
      " 21  primary_cleaner.state.floatbank8_a_air              14145 non-null  float64\n",
      " 22  primary_cleaner.state.floatbank8_a_level            14148 non-null  float64\n",
      " 23  primary_cleaner.state.floatbank8_b_air              14145 non-null  float64\n",
      " 24  primary_cleaner.state.floatbank8_b_level            14148 non-null  float64\n",
      " 25  primary_cleaner.state.floatbank8_c_air              14147 non-null  float64\n",
      " 26  primary_cleaner.state.floatbank8_c_level            14148 non-null  float64\n",
      " 27  primary_cleaner.state.floatbank8_d_air              14146 non-null  float64\n",
      " 28  primary_cleaner.state.floatbank8_d_level            14148 non-null  float64\n",
      " 29  rougher.calculation.sulfate_to_au_concentrate       14148 non-null  float64\n",
      " 30  rougher.calculation.floatbank10_sulfate_to_au_feed  14148 non-null  float64\n",
      " 31  rougher.calculation.floatbank11_sulfate_to_au_feed  14148 non-null  float64\n",
      " 32  rougher.calculation.au_pb_ratio                     14149 non-null  float64\n",
      " 33  rougher.input.feed_ag                               14149 non-null  float64\n",
      " 34  rougher.input.feed_pb                               14049 non-null  float64\n",
      " 35  rougher.input.feed_rate                             14141 non-null  float64\n",
      " 36  rougher.input.feed_size                             14005 non-null  float64\n",
      " 37  rougher.input.feed_sol                              14071 non-null  float64\n",
      " 38  rougher.input.feed_au                               14149 non-null  float64\n",
      " 39  rougher.input.floatbank10_sulfate                   14120 non-null  float64\n",
      " 40  rougher.input.floatbank10_xanthate                  14141 non-null  float64\n",
      " 41  rougher.input.floatbank11_sulfate                   14113 non-null  float64\n",
      " 42  rougher.input.floatbank11_xanthate                  13721 non-null  float64\n",
      " 43  rougher.output.concentrate_ag                       14149 non-null  float64\n",
      " 44  rougher.output.concentrate_pb                       14149 non-null  float64\n",
      " 45  rougher.output.concentrate_sol                      14127 non-null  float64\n",
      " 46  rougher.output.concentrate_au                       14149 non-null  float64\n",
      " 47  rougher.output.recovery                             14149 non-null  float64\n",
      " 48  rougher.output.tail_ag                              14148 non-null  float64\n",
      " 49  rougher.output.tail_pb                              14149 non-null  float64\n",
      " 50  rougher.output.tail_sol                             14149 non-null  float64\n",
      " 51  rougher.output.tail_au                              14149 non-null  float64\n",
      " 52  rougher.state.floatbank10_a_air                     14148 non-null  float64\n",
      " 53  rougher.state.floatbank10_a_level                   14148 non-null  float64\n",
      " 54  rougher.state.floatbank10_b_air                     14148 non-null  float64\n",
      " 55  rougher.state.floatbank10_b_level                   14148 non-null  float64\n",
      " 56  rougher.state.floatbank10_c_air                     14148 non-null  float64\n",
      " 57  rougher.state.floatbank10_c_level                   14148 non-null  float64\n",
      " 58  rougher.state.floatbank10_d_air                     14149 non-null  float64\n",
      " 59  rougher.state.floatbank10_d_level                   14149 non-null  float64\n",
      " 60  rougher.state.floatbank10_e_air                     13713 non-null  float64\n",
      " 61  rougher.state.floatbank10_e_level                   14149 non-null  float64\n",
      " 62  rougher.state.floatbank10_f_air                     14149 non-null  float64\n",
      " 63  rougher.state.floatbank10_f_level                   14149 non-null  float64\n",
      " 64  secondary_cleaner.output.tail_ag                    14147 non-null  float64\n",
      " 65  secondary_cleaner.output.tail_pb                    14139 non-null  float64\n",
      " 66  secondary_cleaner.output.tail_sol                   12544 non-null  float64\n",
      " 67  secondary_cleaner.output.tail_au                    14149 non-null  float64\n",
      " 68  secondary_cleaner.state.floatbank2_a_air            13932 non-null  float64\n",
      " 69  secondary_cleaner.state.floatbank2_a_level          14148 non-null  float64\n",
      " 70  secondary_cleaner.state.floatbank2_b_air            14128 non-null  float64\n",
      " 71  secondary_cleaner.state.floatbank2_b_level          14148 non-null  float64\n",
      " 72  secondary_cleaner.state.floatbank3_a_air            14145 non-null  float64\n",
      " 73  secondary_cleaner.state.floatbank3_a_level          14148 non-null  float64\n",
      " 74  secondary_cleaner.state.floatbank3_b_air            14148 non-null  float64\n",
      " 75  secondary_cleaner.state.floatbank3_b_level          14148 non-null  float64\n",
      " 76  secondary_cleaner.state.floatbank4_a_air            14143 non-null  float64\n",
      " 77  secondary_cleaner.state.floatbank4_a_level          14148 non-null  float64\n",
      " 78  secondary_cleaner.state.floatbank4_b_air            14148 non-null  float64\n",
      " 79  secondary_cleaner.state.floatbank4_b_level          14148 non-null  float64\n",
      " 80  secondary_cleaner.state.floatbank5_a_air            14148 non-null  float64\n",
      " 81  secondary_cleaner.state.floatbank5_a_level          14148 non-null  float64\n",
      " 82  secondary_cleaner.state.floatbank5_b_air            14148 non-null  float64\n",
      " 83  secondary_cleaner.state.floatbank5_b_level          14148 non-null  float64\n",
      " 84  secondary_cleaner.state.floatbank6_a_air            14147 non-null  float64\n",
      " 85  secondary_cleaner.state.floatbank6_a_level          14148 non-null  float64\n",
      "dtypes: float64(86)\n",
      "memory usage: 9.4 MB\n"
     ]
    },
    {
     "data": {
      "text/plain": [
       "None"
      ]
     },
     "metadata": {},
     "output_type": "display_data"
    },
    {
     "name": "stdout",
     "output_type": "stream",
     "text": [
      "/datasets/gold_recovery_full_new.csv\n"
     ]
    },
    {
     "data": {
      "text/html": [
       "<div>\n",
       "<style scoped>\n",
       "    .dataframe tbody tr th:only-of-type {\n",
       "        vertical-align: middle;\n",
       "    }\n",
       "\n",
       "    .dataframe tbody tr th {\n",
       "        vertical-align: top;\n",
       "    }\n",
       "\n",
       "    .dataframe thead th {\n",
       "        text-align: right;\n",
       "    }\n",
       "</style>\n",
       "<table border=\"1\" class=\"dataframe\">\n",
       "  <thead>\n",
       "    <tr style=\"text-align: right;\">\n",
       "      <th></th>\n",
       "      <th>final.output.concentrate_ag</th>\n",
       "      <th>final.output.concentrate_pb</th>\n",
       "      <th>final.output.concentrate_sol</th>\n",
       "      <th>final.output.concentrate_au</th>\n",
       "      <th>final.output.recovery</th>\n",
       "      <th>final.output.tail_ag</th>\n",
       "      <th>final.output.tail_pb</th>\n",
       "      <th>final.output.tail_sol</th>\n",
       "      <th>final.output.tail_au</th>\n",
       "      <th>primary_cleaner.input.sulfate</th>\n",
       "      <th>...</th>\n",
       "      <th>secondary_cleaner.state.floatbank4_a_air</th>\n",
       "      <th>secondary_cleaner.state.floatbank4_a_level</th>\n",
       "      <th>secondary_cleaner.state.floatbank4_b_air</th>\n",
       "      <th>secondary_cleaner.state.floatbank4_b_level</th>\n",
       "      <th>secondary_cleaner.state.floatbank5_a_air</th>\n",
       "      <th>secondary_cleaner.state.floatbank5_a_level</th>\n",
       "      <th>secondary_cleaner.state.floatbank5_b_air</th>\n",
       "      <th>secondary_cleaner.state.floatbank5_b_level</th>\n",
       "      <th>secondary_cleaner.state.floatbank6_a_air</th>\n",
       "      <th>secondary_cleaner.state.floatbank6_a_level</th>\n",
       "    </tr>\n",
       "    <tr>\n",
       "      <th>date</th>\n",
       "      <th></th>\n",
       "      <th></th>\n",
       "      <th></th>\n",
       "      <th></th>\n",
       "      <th></th>\n",
       "      <th></th>\n",
       "      <th></th>\n",
       "      <th></th>\n",
       "      <th></th>\n",
       "      <th></th>\n",
       "      <th></th>\n",
       "      <th></th>\n",
       "      <th></th>\n",
       "      <th></th>\n",
       "      <th></th>\n",
       "      <th></th>\n",
       "      <th></th>\n",
       "      <th></th>\n",
       "      <th></th>\n",
       "      <th></th>\n",
       "      <th></th>\n",
       "    </tr>\n",
       "  </thead>\n",
       "  <tbody>\n",
       "    <tr>\n",
       "      <th>2016-01-15 00:00:00</th>\n",
       "      <td>6.055403</td>\n",
       "      <td>9.889648</td>\n",
       "      <td>5.507324</td>\n",
       "      <td>42.192020</td>\n",
       "      <td>70.541216</td>\n",
       "      <td>10.411962</td>\n",
       "      <td>0.895447</td>\n",
       "      <td>16.904297</td>\n",
       "      <td>2.143149</td>\n",
       "      <td>127.092003</td>\n",
       "      <td>...</td>\n",
       "      <td>14.016835</td>\n",
       "      <td>-502.488007</td>\n",
       "      <td>12.099931</td>\n",
       "      <td>-504.715942</td>\n",
       "      <td>9.925633</td>\n",
       "      <td>-498.310211</td>\n",
       "      <td>8.079666</td>\n",
       "      <td>-500.470978</td>\n",
       "      <td>14.151341</td>\n",
       "      <td>-605.841980</td>\n",
       "    </tr>\n",
       "    <tr>\n",
       "      <th>2016-01-15 01:00:00</th>\n",
       "      <td>6.029369</td>\n",
       "      <td>9.968944</td>\n",
       "      <td>5.257781</td>\n",
       "      <td>42.701629</td>\n",
       "      <td>69.266198</td>\n",
       "      <td>10.462676</td>\n",
       "      <td>0.927452</td>\n",
       "      <td>16.634514</td>\n",
       "      <td>2.224930</td>\n",
       "      <td>125.629232</td>\n",
       "      <td>...</td>\n",
       "      <td>13.992281</td>\n",
       "      <td>-505.503262</td>\n",
       "      <td>11.950531</td>\n",
       "      <td>-501.331529</td>\n",
       "      <td>10.039245</td>\n",
       "      <td>-500.169983</td>\n",
       "      <td>7.984757</td>\n",
       "      <td>-500.582168</td>\n",
       "      <td>13.998353</td>\n",
       "      <td>-599.787184</td>\n",
       "    </tr>\n",
       "    <tr>\n",
       "      <th>2016-01-15 02:00:00</th>\n",
       "      <td>6.055926</td>\n",
       "      <td>10.213995</td>\n",
       "      <td>5.383759</td>\n",
       "      <td>42.657501</td>\n",
       "      <td>68.116445</td>\n",
       "      <td>10.507046</td>\n",
       "      <td>0.953716</td>\n",
       "      <td>16.208849</td>\n",
       "      <td>2.257889</td>\n",
       "      <td>123.819808</td>\n",
       "      <td>...</td>\n",
       "      <td>14.015015</td>\n",
       "      <td>-502.520901</td>\n",
       "      <td>11.912783</td>\n",
       "      <td>-501.133383</td>\n",
       "      <td>10.070913</td>\n",
       "      <td>-500.129135</td>\n",
       "      <td>8.013877</td>\n",
       "      <td>-500.517572</td>\n",
       "      <td>14.028663</td>\n",
       "      <td>-601.427363</td>\n",
       "    </tr>\n",
       "    <tr>\n",
       "      <th>2016-01-15 03:00:00</th>\n",
       "      <td>6.047977</td>\n",
       "      <td>9.977019</td>\n",
       "      <td>4.858634</td>\n",
       "      <td>42.689819</td>\n",
       "      <td>68.347543</td>\n",
       "      <td>10.422762</td>\n",
       "      <td>0.883763</td>\n",
       "      <td>16.532835</td>\n",
       "      <td>2.146849</td>\n",
       "      <td>122.270188</td>\n",
       "      <td>...</td>\n",
       "      <td>14.036510</td>\n",
       "      <td>-500.857308</td>\n",
       "      <td>11.999550</td>\n",
       "      <td>-501.193686</td>\n",
       "      <td>9.970366</td>\n",
       "      <td>-499.201640</td>\n",
       "      <td>7.977324</td>\n",
       "      <td>-500.255908</td>\n",
       "      <td>14.005551</td>\n",
       "      <td>-599.996129</td>\n",
       "    </tr>\n",
       "    <tr>\n",
       "      <th>2016-01-15 04:00:00</th>\n",
       "      <td>6.148599</td>\n",
       "      <td>10.142511</td>\n",
       "      <td>4.939416</td>\n",
       "      <td>42.774141</td>\n",
       "      <td>66.927016</td>\n",
       "      <td>10.360302</td>\n",
       "      <td>0.792826</td>\n",
       "      <td>16.525686</td>\n",
       "      <td>2.055292</td>\n",
       "      <td>117.988169</td>\n",
       "      <td>...</td>\n",
       "      <td>14.027298</td>\n",
       "      <td>-499.838632</td>\n",
       "      <td>11.953070</td>\n",
       "      <td>-501.053894</td>\n",
       "      <td>9.925709</td>\n",
       "      <td>-501.686727</td>\n",
       "      <td>7.894242</td>\n",
       "      <td>-500.356035</td>\n",
       "      <td>13.996647</td>\n",
       "      <td>-601.496691</td>\n",
       "    </tr>\n",
       "    <tr>\n",
       "      <th>2016-01-15 05:00:00</th>\n",
       "      <td>6.482968</td>\n",
       "      <td>10.049416</td>\n",
       "      <td>5.480257</td>\n",
       "      <td>41.633678</td>\n",
       "      <td>69.465816</td>\n",
       "      <td>10.182708</td>\n",
       "      <td>0.664118</td>\n",
       "      <td>16.999638</td>\n",
       "      <td>1.918586</td>\n",
       "      <td>115.581252</td>\n",
       "      <td>...</td>\n",
       "      <td>13.938497</td>\n",
       "      <td>-500.970168</td>\n",
       "      <td>11.883350</td>\n",
       "      <td>-500.395298</td>\n",
       "      <td>10.054147</td>\n",
       "      <td>-496.374715</td>\n",
       "      <td>7.965083</td>\n",
       "      <td>-499.364752</td>\n",
       "      <td>14.017067</td>\n",
       "      <td>-599.707915</td>\n",
       "    </tr>\n",
       "    <tr>\n",
       "      <th>2016-01-15 06:00:00</th>\n",
       "      <td>6.533849</td>\n",
       "      <td>10.058141</td>\n",
       "      <td>4.569100</td>\n",
       "      <td>41.995316</td>\n",
       "      <td>69.300835</td>\n",
       "      <td>10.304598</td>\n",
       "      <td>0.807342</td>\n",
       "      <td>16.723575</td>\n",
       "      <td>2.058913</td>\n",
       "      <td>117.322323</td>\n",
       "      <td>...</td>\n",
       "      <td>14.046819</td>\n",
       "      <td>-500.971133</td>\n",
       "      <td>12.091543</td>\n",
       "      <td>-500.501426</td>\n",
       "      <td>10.003247</td>\n",
       "      <td>-497.083180</td>\n",
       "      <td>8.010890</td>\n",
       "      <td>-500.002423</td>\n",
       "      <td>14.029649</td>\n",
       "      <td>-600.905470</td>\n",
       "    </tr>\n",
       "    <tr>\n",
       "      <th>2016-01-15 07:00:00</th>\n",
       "      <td>6.130823</td>\n",
       "      <td>9.935481</td>\n",
       "      <td>4.389813</td>\n",
       "      <td>42.452727</td>\n",
       "      <td>70.230976</td>\n",
       "      <td>10.443288</td>\n",
       "      <td>0.949346</td>\n",
       "      <td>16.689959</td>\n",
       "      <td>2.143437</td>\n",
       "      <td>124.592960</td>\n",
       "      <td>...</td>\n",
       "      <td>13.974691</td>\n",
       "      <td>-501.819696</td>\n",
       "      <td>12.101324</td>\n",
       "      <td>-500.583446</td>\n",
       "      <td>9.873169</td>\n",
       "      <td>-499.171928</td>\n",
       "      <td>7.993381</td>\n",
       "      <td>-499.794518</td>\n",
       "      <td>13.984498</td>\n",
       "      <td>-600.411070</td>\n",
       "    </tr>\n",
       "    <tr>\n",
       "      <th>2016-01-15 08:00:00</th>\n",
       "      <td>5.834140</td>\n",
       "      <td>10.071156</td>\n",
       "      <td>4.876389</td>\n",
       "      <td>43.404078</td>\n",
       "      <td>69.688595</td>\n",
       "      <td>10.420140</td>\n",
       "      <td>1.065453</td>\n",
       "      <td>17.201948</td>\n",
       "      <td>2.209881</td>\n",
       "      <td>131.781026</td>\n",
       "      <td>...</td>\n",
       "      <td>13.964030</td>\n",
       "      <td>-504.252450</td>\n",
       "      <td>12.060738</td>\n",
       "      <td>-501.174549</td>\n",
       "      <td>10.033838</td>\n",
       "      <td>-501.178133</td>\n",
       "      <td>7.881604</td>\n",
       "      <td>-499.729434</td>\n",
       "      <td>13.967135</td>\n",
       "      <td>-599.061188</td>\n",
       "    </tr>\n",
       "    <tr>\n",
       "      <th>2016-01-15 09:00:00</th>\n",
       "      <td>5.687063</td>\n",
       "      <td>9.980404</td>\n",
       "      <td>5.282514</td>\n",
       "      <td>43.235220</td>\n",
       "      <td>70.279619</td>\n",
       "      <td>10.487013</td>\n",
       "      <td>1.159805</td>\n",
       "      <td>17.483979</td>\n",
       "      <td>2.209593</td>\n",
       "      <td>138.120409</td>\n",
       "      <td>...</td>\n",
       "      <td>13.989632</td>\n",
       "      <td>-503.195299</td>\n",
       "      <td>12.052233</td>\n",
       "      <td>-500.928547</td>\n",
       "      <td>9.962574</td>\n",
       "      <td>-502.986357</td>\n",
       "      <td>7.979219</td>\n",
       "      <td>-500.146835</td>\n",
       "      <td>13.981614</td>\n",
       "      <td>-598.070855</td>\n",
       "    </tr>\n",
       "  </tbody>\n",
       "</table>\n",
       "<p>10 rows × 86 columns</p>\n",
       "</div>"
      ],
      "text/plain": [
       "                     final.output.concentrate_ag  final.output.concentrate_pb  \\\n",
       "date                                                                            \n",
       "2016-01-15 00:00:00                     6.055403                     9.889648   \n",
       "2016-01-15 01:00:00                     6.029369                     9.968944   \n",
       "2016-01-15 02:00:00                     6.055926                    10.213995   \n",
       "2016-01-15 03:00:00                     6.047977                     9.977019   \n",
       "2016-01-15 04:00:00                     6.148599                    10.142511   \n",
       "2016-01-15 05:00:00                     6.482968                    10.049416   \n",
       "2016-01-15 06:00:00                     6.533849                    10.058141   \n",
       "2016-01-15 07:00:00                     6.130823                     9.935481   \n",
       "2016-01-15 08:00:00                     5.834140                    10.071156   \n",
       "2016-01-15 09:00:00                     5.687063                     9.980404   \n",
       "\n",
       "                     final.output.concentrate_sol  \\\n",
       "date                                                \n",
       "2016-01-15 00:00:00                      5.507324   \n",
       "2016-01-15 01:00:00                      5.257781   \n",
       "2016-01-15 02:00:00                      5.383759   \n",
       "2016-01-15 03:00:00                      4.858634   \n",
       "2016-01-15 04:00:00                      4.939416   \n",
       "2016-01-15 05:00:00                      5.480257   \n",
       "2016-01-15 06:00:00                      4.569100   \n",
       "2016-01-15 07:00:00                      4.389813   \n",
       "2016-01-15 08:00:00                      4.876389   \n",
       "2016-01-15 09:00:00                      5.282514   \n",
       "\n",
       "                     final.output.concentrate_au  final.output.recovery  \\\n",
       "date                                                                      \n",
       "2016-01-15 00:00:00                    42.192020              70.541216   \n",
       "2016-01-15 01:00:00                    42.701629              69.266198   \n",
       "2016-01-15 02:00:00                    42.657501              68.116445   \n",
       "2016-01-15 03:00:00                    42.689819              68.347543   \n",
       "2016-01-15 04:00:00                    42.774141              66.927016   \n",
       "2016-01-15 05:00:00                    41.633678              69.465816   \n",
       "2016-01-15 06:00:00                    41.995316              69.300835   \n",
       "2016-01-15 07:00:00                    42.452727              70.230976   \n",
       "2016-01-15 08:00:00                    43.404078              69.688595   \n",
       "2016-01-15 09:00:00                    43.235220              70.279619   \n",
       "\n",
       "                     final.output.tail_ag  final.output.tail_pb  \\\n",
       "date                                                              \n",
       "2016-01-15 00:00:00             10.411962              0.895447   \n",
       "2016-01-15 01:00:00             10.462676              0.927452   \n",
       "2016-01-15 02:00:00             10.507046              0.953716   \n",
       "2016-01-15 03:00:00             10.422762              0.883763   \n",
       "2016-01-15 04:00:00             10.360302              0.792826   \n",
       "2016-01-15 05:00:00             10.182708              0.664118   \n",
       "2016-01-15 06:00:00             10.304598              0.807342   \n",
       "2016-01-15 07:00:00             10.443288              0.949346   \n",
       "2016-01-15 08:00:00             10.420140              1.065453   \n",
       "2016-01-15 09:00:00             10.487013              1.159805   \n",
       "\n",
       "                     final.output.tail_sol  final.output.tail_au  \\\n",
       "date                                                               \n",
       "2016-01-15 00:00:00              16.904297              2.143149   \n",
       "2016-01-15 01:00:00              16.634514              2.224930   \n",
       "2016-01-15 02:00:00              16.208849              2.257889   \n",
       "2016-01-15 03:00:00              16.532835              2.146849   \n",
       "2016-01-15 04:00:00              16.525686              2.055292   \n",
       "2016-01-15 05:00:00              16.999638              1.918586   \n",
       "2016-01-15 06:00:00              16.723575              2.058913   \n",
       "2016-01-15 07:00:00              16.689959              2.143437   \n",
       "2016-01-15 08:00:00              17.201948              2.209881   \n",
       "2016-01-15 09:00:00              17.483979              2.209593   \n",
       "\n",
       "                     primary_cleaner.input.sulfate  ...  \\\n",
       "date                                                ...   \n",
       "2016-01-15 00:00:00                     127.092003  ...   \n",
       "2016-01-15 01:00:00                     125.629232  ...   \n",
       "2016-01-15 02:00:00                     123.819808  ...   \n",
       "2016-01-15 03:00:00                     122.270188  ...   \n",
       "2016-01-15 04:00:00                     117.988169  ...   \n",
       "2016-01-15 05:00:00                     115.581252  ...   \n",
       "2016-01-15 06:00:00                     117.322323  ...   \n",
       "2016-01-15 07:00:00                     124.592960  ...   \n",
       "2016-01-15 08:00:00                     131.781026  ...   \n",
       "2016-01-15 09:00:00                     138.120409  ...   \n",
       "\n",
       "                     secondary_cleaner.state.floatbank4_a_air  \\\n",
       "date                                                            \n",
       "2016-01-15 00:00:00                                 14.016835   \n",
       "2016-01-15 01:00:00                                 13.992281   \n",
       "2016-01-15 02:00:00                                 14.015015   \n",
       "2016-01-15 03:00:00                                 14.036510   \n",
       "2016-01-15 04:00:00                                 14.027298   \n",
       "2016-01-15 05:00:00                                 13.938497   \n",
       "2016-01-15 06:00:00                                 14.046819   \n",
       "2016-01-15 07:00:00                                 13.974691   \n",
       "2016-01-15 08:00:00                                 13.964030   \n",
       "2016-01-15 09:00:00                                 13.989632   \n",
       "\n",
       "                     secondary_cleaner.state.floatbank4_a_level  \\\n",
       "date                                                              \n",
       "2016-01-15 00:00:00                                 -502.488007   \n",
       "2016-01-15 01:00:00                                 -505.503262   \n",
       "2016-01-15 02:00:00                                 -502.520901   \n",
       "2016-01-15 03:00:00                                 -500.857308   \n",
       "2016-01-15 04:00:00                                 -499.838632   \n",
       "2016-01-15 05:00:00                                 -500.970168   \n",
       "2016-01-15 06:00:00                                 -500.971133   \n",
       "2016-01-15 07:00:00                                 -501.819696   \n",
       "2016-01-15 08:00:00                                 -504.252450   \n",
       "2016-01-15 09:00:00                                 -503.195299   \n",
       "\n",
       "                     secondary_cleaner.state.floatbank4_b_air  \\\n",
       "date                                                            \n",
       "2016-01-15 00:00:00                                 12.099931   \n",
       "2016-01-15 01:00:00                                 11.950531   \n",
       "2016-01-15 02:00:00                                 11.912783   \n",
       "2016-01-15 03:00:00                                 11.999550   \n",
       "2016-01-15 04:00:00                                 11.953070   \n",
       "2016-01-15 05:00:00                                 11.883350   \n",
       "2016-01-15 06:00:00                                 12.091543   \n",
       "2016-01-15 07:00:00                                 12.101324   \n",
       "2016-01-15 08:00:00                                 12.060738   \n",
       "2016-01-15 09:00:00                                 12.052233   \n",
       "\n",
       "                     secondary_cleaner.state.floatbank4_b_level  \\\n",
       "date                                                              \n",
       "2016-01-15 00:00:00                                 -504.715942   \n",
       "2016-01-15 01:00:00                                 -501.331529   \n",
       "2016-01-15 02:00:00                                 -501.133383   \n",
       "2016-01-15 03:00:00                                 -501.193686   \n",
       "2016-01-15 04:00:00                                 -501.053894   \n",
       "2016-01-15 05:00:00                                 -500.395298   \n",
       "2016-01-15 06:00:00                                 -500.501426   \n",
       "2016-01-15 07:00:00                                 -500.583446   \n",
       "2016-01-15 08:00:00                                 -501.174549   \n",
       "2016-01-15 09:00:00                                 -500.928547   \n",
       "\n",
       "                     secondary_cleaner.state.floatbank5_a_air  \\\n",
       "date                                                            \n",
       "2016-01-15 00:00:00                                  9.925633   \n",
       "2016-01-15 01:00:00                                 10.039245   \n",
       "2016-01-15 02:00:00                                 10.070913   \n",
       "2016-01-15 03:00:00                                  9.970366   \n",
       "2016-01-15 04:00:00                                  9.925709   \n",
       "2016-01-15 05:00:00                                 10.054147   \n",
       "2016-01-15 06:00:00                                 10.003247   \n",
       "2016-01-15 07:00:00                                  9.873169   \n",
       "2016-01-15 08:00:00                                 10.033838   \n",
       "2016-01-15 09:00:00                                  9.962574   \n",
       "\n",
       "                     secondary_cleaner.state.floatbank5_a_level  \\\n",
       "date                                                              \n",
       "2016-01-15 00:00:00                                 -498.310211   \n",
       "2016-01-15 01:00:00                                 -500.169983   \n",
       "2016-01-15 02:00:00                                 -500.129135   \n",
       "2016-01-15 03:00:00                                 -499.201640   \n",
       "2016-01-15 04:00:00                                 -501.686727   \n",
       "2016-01-15 05:00:00                                 -496.374715   \n",
       "2016-01-15 06:00:00                                 -497.083180   \n",
       "2016-01-15 07:00:00                                 -499.171928   \n",
       "2016-01-15 08:00:00                                 -501.178133   \n",
       "2016-01-15 09:00:00                                 -502.986357   \n",
       "\n",
       "                     secondary_cleaner.state.floatbank5_b_air  \\\n",
       "date                                                            \n",
       "2016-01-15 00:00:00                                  8.079666   \n",
       "2016-01-15 01:00:00                                  7.984757   \n",
       "2016-01-15 02:00:00                                  8.013877   \n",
       "2016-01-15 03:00:00                                  7.977324   \n",
       "2016-01-15 04:00:00                                  7.894242   \n",
       "2016-01-15 05:00:00                                  7.965083   \n",
       "2016-01-15 06:00:00                                  8.010890   \n",
       "2016-01-15 07:00:00                                  7.993381   \n",
       "2016-01-15 08:00:00                                  7.881604   \n",
       "2016-01-15 09:00:00                                  7.979219   \n",
       "\n",
       "                     secondary_cleaner.state.floatbank5_b_level  \\\n",
       "date                                                              \n",
       "2016-01-15 00:00:00                                 -500.470978   \n",
       "2016-01-15 01:00:00                                 -500.582168   \n",
       "2016-01-15 02:00:00                                 -500.517572   \n",
       "2016-01-15 03:00:00                                 -500.255908   \n",
       "2016-01-15 04:00:00                                 -500.356035   \n",
       "2016-01-15 05:00:00                                 -499.364752   \n",
       "2016-01-15 06:00:00                                 -500.002423   \n",
       "2016-01-15 07:00:00                                 -499.794518   \n",
       "2016-01-15 08:00:00                                 -499.729434   \n",
       "2016-01-15 09:00:00                                 -500.146835   \n",
       "\n",
       "                     secondary_cleaner.state.floatbank6_a_air  \\\n",
       "date                                                            \n",
       "2016-01-15 00:00:00                                 14.151341   \n",
       "2016-01-15 01:00:00                                 13.998353   \n",
       "2016-01-15 02:00:00                                 14.028663   \n",
       "2016-01-15 03:00:00                                 14.005551   \n",
       "2016-01-15 04:00:00                                 13.996647   \n",
       "2016-01-15 05:00:00                                 14.017067   \n",
       "2016-01-15 06:00:00                                 14.029649   \n",
       "2016-01-15 07:00:00                                 13.984498   \n",
       "2016-01-15 08:00:00                                 13.967135   \n",
       "2016-01-15 09:00:00                                 13.981614   \n",
       "\n",
       "                     secondary_cleaner.state.floatbank6_a_level  \n",
       "date                                                             \n",
       "2016-01-15 00:00:00                                 -605.841980  \n",
       "2016-01-15 01:00:00                                 -599.787184  \n",
       "2016-01-15 02:00:00                                 -601.427363  \n",
       "2016-01-15 03:00:00                                 -599.996129  \n",
       "2016-01-15 04:00:00                                 -601.496691  \n",
       "2016-01-15 05:00:00                                 -599.707915  \n",
       "2016-01-15 06:00:00                                 -600.905470  \n",
       "2016-01-15 07:00:00                                 -600.411070  \n",
       "2016-01-15 08:00:00                                 -599.061188  \n",
       "2016-01-15 09:00:00                                 -598.070855  \n",
       "\n",
       "[10 rows x 86 columns]"
      ]
     },
     "metadata": {},
     "output_type": "display_data"
    },
    {
     "name": "stdout",
     "output_type": "stream",
     "text": [
      "<class 'pandas.core.frame.DataFrame'>\n",
      "DatetimeIndex: 19439 entries, 2016-01-15 00:00:00 to 2018-08-18 10:59:59\n",
      "Data columns (total 86 columns):\n",
      " #   Column                                              Non-Null Count  Dtype  \n",
      "---  ------                                              --------------  -----  \n",
      " 0   final.output.concentrate_ag                         19438 non-null  float64\n",
      " 1   final.output.concentrate_pb                         19438 non-null  float64\n",
      " 2   final.output.concentrate_sol                        19228 non-null  float64\n",
      " 3   final.output.concentrate_au                         19439 non-null  float64\n",
      " 4   final.output.recovery                               19439 non-null  float64\n",
      " 5   final.output.tail_ag                                19438 non-null  float64\n",
      " 6   final.output.tail_pb                                19338 non-null  float64\n",
      " 7   final.output.tail_sol                               19433 non-null  float64\n",
      " 8   final.output.tail_au                                19439 non-null  float64\n",
      " 9   primary_cleaner.input.sulfate                       19415 non-null  float64\n",
      " 10  primary_cleaner.input.depressant                    19402 non-null  float64\n",
      " 11  primary_cleaner.input.feed_size                     19439 non-null  float64\n",
      " 12  primary_cleaner.input.xanthate                      19335 non-null  float64\n",
      " 13  primary_cleaner.output.concentrate_ag               19439 non-null  float64\n",
      " 14  primary_cleaner.output.concentrate_pb               19323 non-null  float64\n",
      " 15  primary_cleaner.output.concentrate_sol              19069 non-null  float64\n",
      " 16  primary_cleaner.output.concentrate_au               19439 non-null  float64\n",
      " 17  primary_cleaner.output.tail_ag                      19435 non-null  float64\n",
      " 18  primary_cleaner.output.tail_pb                      19418 non-null  float64\n",
      " 19  primary_cleaner.output.tail_sol                     19377 non-null  float64\n",
      " 20  primary_cleaner.output.tail_au                      19439 non-null  float64\n",
      " 21  primary_cleaner.state.floatbank8_a_air              19435 non-null  float64\n",
      " 22  primary_cleaner.state.floatbank8_a_level            19438 non-null  float64\n",
      " 23  primary_cleaner.state.floatbank8_b_air              19435 non-null  float64\n",
      " 24  primary_cleaner.state.floatbank8_b_level            19438 non-null  float64\n",
      " 25  primary_cleaner.state.floatbank8_c_air              19437 non-null  float64\n",
      " 26  primary_cleaner.state.floatbank8_c_level            19438 non-null  float64\n",
      " 27  primary_cleaner.state.floatbank8_d_air              19436 non-null  float64\n",
      " 28  primary_cleaner.state.floatbank8_d_level            19438 non-null  float64\n",
      " 29  rougher.calculation.sulfate_to_au_concentrate       19437 non-null  float64\n",
      " 30  rougher.calculation.floatbank10_sulfate_to_au_feed  19437 non-null  float64\n",
      " 31  rougher.calculation.floatbank11_sulfate_to_au_feed  19437 non-null  float64\n",
      " 32  rougher.calculation.au_pb_ratio                     19439 non-null  float64\n",
      " 33  rougher.input.feed_ag                               19439 non-null  float64\n",
      " 34  rougher.input.feed_pb                               19339 non-null  float64\n",
      " 35  rougher.input.feed_rate                             19428 non-null  float64\n",
      " 36  rougher.input.feed_size                             19294 non-null  float64\n",
      " 37  rougher.input.feed_sol                              19340 non-null  float64\n",
      " 38  rougher.input.feed_au                               19439 non-null  float64\n",
      " 39  rougher.input.floatbank10_sulfate                   19405 non-null  float64\n",
      " 40  rougher.input.floatbank10_xanthate                  19431 non-null  float64\n",
      " 41  rougher.input.floatbank11_sulfate                   19395 non-null  float64\n",
      " 42  rougher.input.floatbank11_xanthate                  18986 non-null  float64\n",
      " 43  rougher.output.concentrate_ag                       19439 non-null  float64\n",
      " 44  rougher.output.concentrate_pb                       19439 non-null  float64\n",
      " 45  rougher.output.concentrate_sol                      19416 non-null  float64\n",
      " 46  rougher.output.concentrate_au                       19439 non-null  float64\n",
      " 47  rougher.output.recovery                             19439 non-null  float64\n",
      " 48  rougher.output.tail_ag                              19438 non-null  float64\n",
      " 49  rougher.output.tail_pb                              19439 non-null  float64\n",
      " 50  rougher.output.tail_sol                             19439 non-null  float64\n",
      " 51  rougher.output.tail_au                              19439 non-null  float64\n",
      " 52  rougher.state.floatbank10_a_air                     19438 non-null  float64\n",
      " 53  rougher.state.floatbank10_a_level                   19438 non-null  float64\n",
      " 54  rougher.state.floatbank10_b_air                     19438 non-null  float64\n",
      " 55  rougher.state.floatbank10_b_level                   19438 non-null  float64\n",
      " 56  rougher.state.floatbank10_c_air                     19438 non-null  float64\n",
      " 57  rougher.state.floatbank10_c_level                   19438 non-null  float64\n",
      " 58  rougher.state.floatbank10_d_air                     19439 non-null  float64\n",
      " 59  rougher.state.floatbank10_d_level                   19439 non-null  float64\n",
      " 60  rougher.state.floatbank10_e_air                     19003 non-null  float64\n",
      " 61  rougher.state.floatbank10_e_level                   19439 non-null  float64\n",
      " 62  rougher.state.floatbank10_f_air                     19439 non-null  float64\n",
      " 63  rougher.state.floatbank10_f_level                   19439 non-null  float64\n",
      " 64  secondary_cleaner.output.tail_ag                    19437 non-null  float64\n",
      " 65  secondary_cleaner.output.tail_pb                    19427 non-null  float64\n",
      " 66  secondary_cleaner.output.tail_sol                   17691 non-null  float64\n",
      " 67  secondary_cleaner.output.tail_au                    19439 non-null  float64\n",
      " 68  secondary_cleaner.state.floatbank2_a_air            19219 non-null  float64\n",
      " 69  secondary_cleaner.state.floatbank2_a_level          19438 non-null  float64\n",
      " 70  secondary_cleaner.state.floatbank2_b_air            19416 non-null  float64\n",
      " 71  secondary_cleaner.state.floatbank2_b_level          19438 non-null  float64\n",
      " 72  secondary_cleaner.state.floatbank3_a_air            19426 non-null  float64\n",
      " 73  secondary_cleaner.state.floatbank3_a_level          19438 non-null  float64\n",
      " 74  secondary_cleaner.state.floatbank3_b_air            19438 non-null  float64\n",
      " 75  secondary_cleaner.state.floatbank3_b_level          19438 non-null  float64\n",
      " 76  secondary_cleaner.state.floatbank4_a_air            19433 non-null  float64\n",
      " 77  secondary_cleaner.state.floatbank4_a_level          19438 non-null  float64\n",
      " 78  secondary_cleaner.state.floatbank4_b_air            19438 non-null  float64\n",
      " 79  secondary_cleaner.state.floatbank4_b_level          19438 non-null  float64\n",
      " 80  secondary_cleaner.state.floatbank5_a_air            19438 non-null  float64\n",
      " 81  secondary_cleaner.state.floatbank5_a_level          19438 non-null  float64\n",
      " 82  secondary_cleaner.state.floatbank5_b_air            19438 non-null  float64\n",
      " 83  secondary_cleaner.state.floatbank5_b_level          19438 non-null  float64\n",
      " 84  secondary_cleaner.state.floatbank6_a_air            19437 non-null  float64\n",
      " 85  secondary_cleaner.state.floatbank6_a_level          19438 non-null  float64\n",
      "dtypes: float64(86)\n",
      "memory usage: 12.9 MB\n"
     ]
    },
    {
     "data": {
      "text/plain": [
       "None"
      ]
     },
     "metadata": {},
     "output_type": "display_data"
    }
   ],
   "source": [
    "test = data_info('/datasets/gold_recovery_test_new.csv')\n",
    "train = data_info('/datasets/gold_recovery_train_new.csv')\n",
    "full = data_info('/datasets/gold_recovery_full_new.csv')"
   ]
  },
  {
   "cell_type": "markdown",
   "metadata": {},
   "source": [
    "<div class=\"alert alert-success\">\n",
    "<b>Комментарий ревьюера ✔️:</b> Хорошая идея, дату перевести в индекс:)</div>"
   ]
  },
  {
   "cell_type": "markdown",
   "metadata": {},
   "source": [
    "### Проверка расчета эффективности обогащения"
   ]
  },
  {
   "cell_type": "code",
   "execution_count": 4,
   "metadata": {
    "scrolled": true
   },
   "outputs": [
    {
     "name": "stdout",
     "output_type": "stream",
     "text": [
      "date\n",
      "2016-01-15 00:00:00    87.107763\n",
      "2016-01-15 01:00:00    86.843261\n",
      "2016-01-15 02:00:00    86.842308\n",
      "2016-01-15 03:00:00    87.226430\n",
      "2016-01-15 04:00:00    86.688794\n",
      "                         ...    \n",
      "2018-08-18 06:59:59    89.574376\n",
      "2018-08-18 07:59:59    87.724007\n",
      "2018-08-18 08:59:59    88.890579\n",
      "2018-08-18 09:59:59    89.858126\n",
      "2018-08-18 10:59:59    89.514960\n",
      "Name: rougher.output.recovery, Length: 14149, dtype: float64\n"
     ]
    }
   ],
   "source": [
    "print(train['rougher.output.recovery'])"
   ]
  },
  {
   "cell_type": "code",
   "execution_count": 5,
   "metadata": {},
   "outputs": [],
   "source": [
    "def calc_rougher_recovery(row):\n",
    "     return(row['rougher.output.concentrate_au']*(row['rougher.input.feed_au']-row['rougher.output.tail_au']) ) / (row['rougher.input.feed_au']*(row['rougher.output.concentrate_au']-row['rougher.output.tail_au']))*100"
   ]
  },
  {
   "cell_type": "code",
   "execution_count": 6,
   "metadata": {
    "scrolled": true
   },
   "outputs": [
    {
     "data": {
      "text/html": [
       "<div>\n",
       "<style scoped>\n",
       "    .dataframe tbody tr th:only-of-type {\n",
       "        vertical-align: middle;\n",
       "    }\n",
       "\n",
       "    .dataframe tbody tr th {\n",
       "        vertical-align: top;\n",
       "    }\n",
       "\n",
       "    .dataframe thead th {\n",
       "        text-align: right;\n",
       "    }\n",
       "</style>\n",
       "<table border=\"1\" class=\"dataframe\">\n",
       "  <thead>\n",
       "    <tr style=\"text-align: right;\">\n",
       "      <th></th>\n",
       "      <th>rougher.output.recovery_calc</th>\n",
       "      <th>rougher.output.recovery</th>\n",
       "    </tr>\n",
       "    <tr>\n",
       "      <th>date</th>\n",
       "      <th></th>\n",
       "      <th></th>\n",
       "    </tr>\n",
       "  </thead>\n",
       "  <tbody>\n",
       "    <tr>\n",
       "      <th>2016-01-15 00:00:00</th>\n",
       "      <td>87.107763</td>\n",
       "      <td>87.107763</td>\n",
       "    </tr>\n",
       "    <tr>\n",
       "      <th>2016-01-15 01:00:00</th>\n",
       "      <td>86.843261</td>\n",
       "      <td>86.843261</td>\n",
       "    </tr>\n",
       "    <tr>\n",
       "      <th>2016-01-15 02:00:00</th>\n",
       "      <td>86.842308</td>\n",
       "      <td>86.842308</td>\n",
       "    </tr>\n",
       "    <tr>\n",
       "      <th>2016-01-15 03:00:00</th>\n",
       "      <td>87.226430</td>\n",
       "      <td>87.226430</td>\n",
       "    </tr>\n",
       "    <tr>\n",
       "      <th>2016-01-15 04:00:00</th>\n",
       "      <td>86.688794</td>\n",
       "      <td>86.688794</td>\n",
       "    </tr>\n",
       "    <tr>\n",
       "      <th>...</th>\n",
       "      <td>...</td>\n",
       "      <td>...</td>\n",
       "    </tr>\n",
       "    <tr>\n",
       "      <th>2018-08-18 06:59:59</th>\n",
       "      <td>89.574376</td>\n",
       "      <td>89.574376</td>\n",
       "    </tr>\n",
       "    <tr>\n",
       "      <th>2018-08-18 07:59:59</th>\n",
       "      <td>87.724007</td>\n",
       "      <td>87.724007</td>\n",
       "    </tr>\n",
       "    <tr>\n",
       "      <th>2018-08-18 08:59:59</th>\n",
       "      <td>88.890579</td>\n",
       "      <td>88.890579</td>\n",
       "    </tr>\n",
       "    <tr>\n",
       "      <th>2018-08-18 09:59:59</th>\n",
       "      <td>89.858126</td>\n",
       "      <td>89.858126</td>\n",
       "    </tr>\n",
       "    <tr>\n",
       "      <th>2018-08-18 10:59:59</th>\n",
       "      <td>89.514960</td>\n",
       "      <td>89.514960</td>\n",
       "    </tr>\n",
       "  </tbody>\n",
       "</table>\n",
       "<p>14149 rows × 2 columns</p>\n",
       "</div>"
      ],
      "text/plain": [
       "                     rougher.output.recovery_calc  rougher.output.recovery\n",
       "date                                                                      \n",
       "2016-01-15 00:00:00                     87.107763                87.107763\n",
       "2016-01-15 01:00:00                     86.843261                86.843261\n",
       "2016-01-15 02:00:00                     86.842308                86.842308\n",
       "2016-01-15 03:00:00                     87.226430                87.226430\n",
       "2016-01-15 04:00:00                     86.688794                86.688794\n",
       "...                                           ...                      ...\n",
       "2018-08-18 06:59:59                     89.574376                89.574376\n",
       "2018-08-18 07:59:59                     87.724007                87.724007\n",
       "2018-08-18 08:59:59                     88.890579                88.890579\n",
       "2018-08-18 09:59:59                     89.858126                89.858126\n",
       "2018-08-18 10:59:59                     89.514960                89.514960\n",
       "\n",
       "[14149 rows x 2 columns]"
      ]
     },
     "metadata": {},
     "output_type": "display_data"
    },
    {
     "name": "stdout",
     "output_type": "stream",
     "text": [
      "Средняя абсолютная ошибка:  9.73512347450521e-15\n"
     ]
    }
   ],
   "source": [
    "train['rougher.output.recovery_calc'] = train.apply(calc_rougher_recovery, axis=1)\n",
    "display(train[['rougher.output.recovery_calc','rougher.output.recovery']])\n",
    "print('Средняя абсолютная ошибка: ',mean_absolute_error(train['rougher.output.recovery'],train['rougher.output.recovery_calc']))"
   ]
  },
  {
   "cell_type": "markdown",
   "metadata": {},
   "source": [
    "**Выводы:** ошибка вычисленной эффективности обогащения ничтожна мала, значит она вычислена правильно."
   ]
  },
  {
   "cell_type": "markdown",
   "metadata": {},
   "source": [
    "### Отбор признаков из обучающей выборки"
   ]
  },
  {
   "cell_type": "code",
   "execution_count": 7,
   "metadata": {
    "scrolled": false
   },
   "outputs": [
    {
     "data": {
      "text/plain": [
       "['final.output.concentrate_ag',\n",
       " 'final.output.concentrate_au',\n",
       " 'final.output.concentrate_pb',\n",
       " 'final.output.concentrate_sol',\n",
       " 'final.output.recovery',\n",
       " 'final.output.tail_ag',\n",
       " 'final.output.tail_au',\n",
       " 'final.output.tail_pb',\n",
       " 'final.output.tail_sol',\n",
       " 'primary_cleaner.output.concentrate_ag',\n",
       " 'primary_cleaner.output.concentrate_au',\n",
       " 'primary_cleaner.output.concentrate_pb',\n",
       " 'primary_cleaner.output.concentrate_sol',\n",
       " 'primary_cleaner.output.tail_ag',\n",
       " 'primary_cleaner.output.tail_au',\n",
       " 'primary_cleaner.output.tail_pb',\n",
       " 'primary_cleaner.output.tail_sol',\n",
       " 'rougher.calculation.au_pb_ratio',\n",
       " 'rougher.calculation.floatbank10_sulfate_to_au_feed',\n",
       " 'rougher.calculation.floatbank11_sulfate_to_au_feed',\n",
       " 'rougher.calculation.sulfate_to_au_concentrate',\n",
       " 'rougher.output.concentrate_ag',\n",
       " 'rougher.output.concentrate_au',\n",
       " 'rougher.output.concentrate_pb',\n",
       " 'rougher.output.concentrate_sol',\n",
       " 'rougher.output.recovery',\n",
       " 'rougher.output.recovery_calc',\n",
       " 'rougher.output.tail_ag',\n",
       " 'rougher.output.tail_au',\n",
       " 'rougher.output.tail_pb',\n",
       " 'rougher.output.tail_sol',\n",
       " 'secondary_cleaner.output.tail_ag',\n",
       " 'secondary_cleaner.output.tail_au',\n",
       " 'secondary_cleaner.output.tail_pb',\n",
       " 'secondary_cleaner.output.tail_sol']"
      ]
     },
     "metadata": {},
     "output_type": "display_data"
    }
   ],
   "source": [
    "free_columns = list(set(train.columns) ^ set(test.columns))\n",
    "display(sorted(free_columns))"
   ]
  },
  {
   "cell_type": "code",
   "execution_count": 8,
   "metadata": {},
   "outputs": [
    {
     "data": {
      "text/html": [
       "<div>\n",
       "<style scoped>\n",
       "    .dataframe tbody tr th:only-of-type {\n",
       "        vertical-align: middle;\n",
       "    }\n",
       "\n",
       "    .dataframe tbody tr th {\n",
       "        vertical-align: top;\n",
       "    }\n",
       "\n",
       "    .dataframe thead th {\n",
       "        text-align: right;\n",
       "    }\n",
       "</style>\n",
       "<table border=\"1\" class=\"dataframe\">\n",
       "  <thead>\n",
       "    <tr style=\"text-align: right;\">\n",
       "      <th></th>\n",
       "      <th>primary_cleaner.output.concentrate_au</th>\n",
       "      <th>final.output.tail_pb</th>\n",
       "      <th>rougher.output.concentrate_sol</th>\n",
       "      <th>primary_cleaner.output.concentrate_pb</th>\n",
       "      <th>rougher.output.tail_au</th>\n",
       "      <th>final.output.tail_sol</th>\n",
       "      <th>final.output.recovery</th>\n",
       "      <th>rougher.output.concentrate_au</th>\n",
       "      <th>primary_cleaner.output.tail_pb</th>\n",
       "      <th>secondary_cleaner.output.tail_au</th>\n",
       "      <th>...</th>\n",
       "      <th>secondary_cleaner.output.tail_pb</th>\n",
       "      <th>final.output.concentrate_pb</th>\n",
       "      <th>rougher.output.recovery</th>\n",
       "      <th>primary_cleaner.output.tail_ag</th>\n",
       "      <th>rougher.calculation.floatbank11_sulfate_to_au_feed</th>\n",
       "      <th>primary_cleaner.output.concentrate_sol</th>\n",
       "      <th>final.output.concentrate_ag</th>\n",
       "      <th>primary_cleaner.output.tail_au</th>\n",
       "      <th>rougher.output.recovery_calc</th>\n",
       "      <th>rougher.calculation.sulfate_to_au_concentrate</th>\n",
       "    </tr>\n",
       "    <tr>\n",
       "      <th>date</th>\n",
       "      <th></th>\n",
       "      <th></th>\n",
       "      <th></th>\n",
       "      <th></th>\n",
       "      <th></th>\n",
       "      <th></th>\n",
       "      <th></th>\n",
       "      <th></th>\n",
       "      <th></th>\n",
       "      <th></th>\n",
       "      <th></th>\n",
       "      <th></th>\n",
       "      <th></th>\n",
       "      <th></th>\n",
       "      <th></th>\n",
       "      <th></th>\n",
       "      <th></th>\n",
       "      <th></th>\n",
       "      <th></th>\n",
       "      <th></th>\n",
       "      <th></th>\n",
       "    </tr>\n",
       "  </thead>\n",
       "  <tbody>\n",
       "    <tr>\n",
       "      <th>2016-01-15 00:00:00</th>\n",
       "      <td>34.174427</td>\n",
       "      <td>0.895447</td>\n",
       "      <td>28.029297</td>\n",
       "      <td>10.389648</td>\n",
       "      <td>1.170244</td>\n",
       "      <td>16.904297</td>\n",
       "      <td>70.541216</td>\n",
       "      <td>19.793808</td>\n",
       "      <td>2.534912</td>\n",
       "      <td>2.606185</td>\n",
       "      <td>...</td>\n",
       "      <td>4.694824</td>\n",
       "      <td>9.889648</td>\n",
       "      <td>87.107763</td>\n",
       "      <td>14.936526</td>\n",
       "      <td>3520.337158</td>\n",
       "      <td>19.529297</td>\n",
       "      <td>6.055403</td>\n",
       "      <td>2.106679</td>\n",
       "      <td>87.107763</td>\n",
       "      <td>41885.707031</td>\n",
       "    </tr>\n",
       "    <tr>\n",
       "      <th>2016-01-15 01:00:00</th>\n",
       "      <td>34.118526</td>\n",
       "      <td>0.927452</td>\n",
       "      <td>28.067063</td>\n",
       "      <td>10.497069</td>\n",
       "      <td>1.184827</td>\n",
       "      <td>16.634514</td>\n",
       "      <td>69.266198</td>\n",
       "      <td>20.050975</td>\n",
       "      <td>3.049646</td>\n",
       "      <td>2.488248</td>\n",
       "      <td>...</td>\n",
       "      <td>4.592547</td>\n",
       "      <td>9.968944</td>\n",
       "      <td>86.843261</td>\n",
       "      <td>16.250511</td>\n",
       "      <td>3489.981857</td>\n",
       "      <td>19.369147</td>\n",
       "      <td>6.029369</td>\n",
       "      <td>2.353017</td>\n",
       "      <td>86.843261</td>\n",
       "      <td>42050.861809</td>\n",
       "    </tr>\n",
       "    <tr>\n",
       "      <th>2016-01-15 02:00:00</th>\n",
       "      <td>33.969464</td>\n",
       "      <td>0.953716</td>\n",
       "      <td>27.454037</td>\n",
       "      <td>10.354494</td>\n",
       "      <td>1.162562</td>\n",
       "      <td>16.208849</td>\n",
       "      <td>68.116445</td>\n",
       "      <td>19.737170</td>\n",
       "      <td>3.124664</td>\n",
       "      <td>2.458187</td>\n",
       "      <td>...</td>\n",
       "      <td>4.624775</td>\n",
       "      <td>10.213995</td>\n",
       "      <td>86.842308</td>\n",
       "      <td>16.491823</td>\n",
       "      <td>3502.359819</td>\n",
       "      <td>19.167579</td>\n",
       "      <td>6.055926</td>\n",
       "      <td>2.416800</td>\n",
       "      <td>86.842308</td>\n",
       "      <td>42018.101184</td>\n",
       "    </tr>\n",
       "    <tr>\n",
       "      <th>2016-01-15 03:00:00</th>\n",
       "      <td>28.260743</td>\n",
       "      <td>0.883763</td>\n",
       "      <td>27.341277</td>\n",
       "      <td>8.496563</td>\n",
       "      <td>1.079755</td>\n",
       "      <td>16.532835</td>\n",
       "      <td>68.347543</td>\n",
       "      <td>19.320810</td>\n",
       "      <td>2.960362</td>\n",
       "      <td>2.322062</td>\n",
       "      <td>...</td>\n",
       "      <td>4.482453</td>\n",
       "      <td>9.977019</td>\n",
       "      <td>87.226430</td>\n",
       "      <td>16.024359</td>\n",
       "      <td>3499.162912</td>\n",
       "      <td>15.978538</td>\n",
       "      <td>6.047977</td>\n",
       "      <td>2.262051</td>\n",
       "      <td>87.226430</td>\n",
       "      <td>42029.447991</td>\n",
       "    </tr>\n",
       "    <tr>\n",
       "      <th>2016-01-15 04:00:00</th>\n",
       "      <td>33.044932</td>\n",
       "      <td>0.792826</td>\n",
       "      <td>27.041023</td>\n",
       "      <td>9.986786</td>\n",
       "      <td>1.012642</td>\n",
       "      <td>16.525686</td>\n",
       "      <td>66.927016</td>\n",
       "      <td>19.216101</td>\n",
       "      <td>3.112100</td>\n",
       "      <td>2.330448</td>\n",
       "      <td>...</td>\n",
       "      <td>4.470737</td>\n",
       "      <td>10.142511</td>\n",
       "      <td>86.688794</td>\n",
       "      <td>16.480185</td>\n",
       "      <td>3506.679315</td>\n",
       "      <td>19.199864</td>\n",
       "      <td>6.148599</td>\n",
       "      <td>2.277073</td>\n",
       "      <td>86.688794</td>\n",
       "      <td>42125.354245</td>\n",
       "    </tr>\n",
       "  </tbody>\n",
       "</table>\n",
       "<p>5 rows × 35 columns</p>\n",
       "</div>"
      ],
      "text/plain": [
       "                     primary_cleaner.output.concentrate_au  \\\n",
       "date                                                         \n",
       "2016-01-15 00:00:00                              34.174427   \n",
       "2016-01-15 01:00:00                              34.118526   \n",
       "2016-01-15 02:00:00                              33.969464   \n",
       "2016-01-15 03:00:00                              28.260743   \n",
       "2016-01-15 04:00:00                              33.044932   \n",
       "\n",
       "                     final.output.tail_pb  rougher.output.concentrate_sol  \\\n",
       "date                                                                        \n",
       "2016-01-15 00:00:00              0.895447                       28.029297   \n",
       "2016-01-15 01:00:00              0.927452                       28.067063   \n",
       "2016-01-15 02:00:00              0.953716                       27.454037   \n",
       "2016-01-15 03:00:00              0.883763                       27.341277   \n",
       "2016-01-15 04:00:00              0.792826                       27.041023   \n",
       "\n",
       "                     primary_cleaner.output.concentrate_pb  \\\n",
       "date                                                         \n",
       "2016-01-15 00:00:00                              10.389648   \n",
       "2016-01-15 01:00:00                              10.497069   \n",
       "2016-01-15 02:00:00                              10.354494   \n",
       "2016-01-15 03:00:00                               8.496563   \n",
       "2016-01-15 04:00:00                               9.986786   \n",
       "\n",
       "                     rougher.output.tail_au  final.output.tail_sol  \\\n",
       "date                                                                 \n",
       "2016-01-15 00:00:00                1.170244              16.904297   \n",
       "2016-01-15 01:00:00                1.184827              16.634514   \n",
       "2016-01-15 02:00:00                1.162562              16.208849   \n",
       "2016-01-15 03:00:00                1.079755              16.532835   \n",
       "2016-01-15 04:00:00                1.012642              16.525686   \n",
       "\n",
       "                     final.output.recovery  rougher.output.concentrate_au  \\\n",
       "date                                                                        \n",
       "2016-01-15 00:00:00              70.541216                      19.793808   \n",
       "2016-01-15 01:00:00              69.266198                      20.050975   \n",
       "2016-01-15 02:00:00              68.116445                      19.737170   \n",
       "2016-01-15 03:00:00              68.347543                      19.320810   \n",
       "2016-01-15 04:00:00              66.927016                      19.216101   \n",
       "\n",
       "                     primary_cleaner.output.tail_pb  \\\n",
       "date                                                  \n",
       "2016-01-15 00:00:00                        2.534912   \n",
       "2016-01-15 01:00:00                        3.049646   \n",
       "2016-01-15 02:00:00                        3.124664   \n",
       "2016-01-15 03:00:00                        2.960362   \n",
       "2016-01-15 04:00:00                        3.112100   \n",
       "\n",
       "                     secondary_cleaner.output.tail_au  ...  \\\n",
       "date                                                   ...   \n",
       "2016-01-15 00:00:00                          2.606185  ...   \n",
       "2016-01-15 01:00:00                          2.488248  ...   \n",
       "2016-01-15 02:00:00                          2.458187  ...   \n",
       "2016-01-15 03:00:00                          2.322062  ...   \n",
       "2016-01-15 04:00:00                          2.330448  ...   \n",
       "\n",
       "                     secondary_cleaner.output.tail_pb  \\\n",
       "date                                                    \n",
       "2016-01-15 00:00:00                          4.694824   \n",
       "2016-01-15 01:00:00                          4.592547   \n",
       "2016-01-15 02:00:00                          4.624775   \n",
       "2016-01-15 03:00:00                          4.482453   \n",
       "2016-01-15 04:00:00                          4.470737   \n",
       "\n",
       "                     final.output.concentrate_pb  rougher.output.recovery  \\\n",
       "date                                                                        \n",
       "2016-01-15 00:00:00                     9.889648                87.107763   \n",
       "2016-01-15 01:00:00                     9.968944                86.843261   \n",
       "2016-01-15 02:00:00                    10.213995                86.842308   \n",
       "2016-01-15 03:00:00                     9.977019                87.226430   \n",
       "2016-01-15 04:00:00                    10.142511                86.688794   \n",
       "\n",
       "                     primary_cleaner.output.tail_ag  \\\n",
       "date                                                  \n",
       "2016-01-15 00:00:00                       14.936526   \n",
       "2016-01-15 01:00:00                       16.250511   \n",
       "2016-01-15 02:00:00                       16.491823   \n",
       "2016-01-15 03:00:00                       16.024359   \n",
       "2016-01-15 04:00:00                       16.480185   \n",
       "\n",
       "                     rougher.calculation.floatbank11_sulfate_to_au_feed  \\\n",
       "date                                                                      \n",
       "2016-01-15 00:00:00                                        3520.337158    \n",
       "2016-01-15 01:00:00                                        3489.981857    \n",
       "2016-01-15 02:00:00                                        3502.359819    \n",
       "2016-01-15 03:00:00                                        3499.162912    \n",
       "2016-01-15 04:00:00                                        3506.679315    \n",
       "\n",
       "                     primary_cleaner.output.concentrate_sol  \\\n",
       "date                                                          \n",
       "2016-01-15 00:00:00                               19.529297   \n",
       "2016-01-15 01:00:00                               19.369147   \n",
       "2016-01-15 02:00:00                               19.167579   \n",
       "2016-01-15 03:00:00                               15.978538   \n",
       "2016-01-15 04:00:00                               19.199864   \n",
       "\n",
       "                     final.output.concentrate_ag  \\\n",
       "date                                               \n",
       "2016-01-15 00:00:00                     6.055403   \n",
       "2016-01-15 01:00:00                     6.029369   \n",
       "2016-01-15 02:00:00                     6.055926   \n",
       "2016-01-15 03:00:00                     6.047977   \n",
       "2016-01-15 04:00:00                     6.148599   \n",
       "\n",
       "                     primary_cleaner.output.tail_au  \\\n",
       "date                                                  \n",
       "2016-01-15 00:00:00                        2.106679   \n",
       "2016-01-15 01:00:00                        2.353017   \n",
       "2016-01-15 02:00:00                        2.416800   \n",
       "2016-01-15 03:00:00                        2.262051   \n",
       "2016-01-15 04:00:00                        2.277073   \n",
       "\n",
       "                     rougher.output.recovery_calc  \\\n",
       "date                                                \n",
       "2016-01-15 00:00:00                     87.107763   \n",
       "2016-01-15 01:00:00                     86.843261   \n",
       "2016-01-15 02:00:00                     86.842308   \n",
       "2016-01-15 03:00:00                     87.226430   \n",
       "2016-01-15 04:00:00                     86.688794   \n",
       "\n",
       "                     rougher.calculation.sulfate_to_au_concentrate  \n",
       "date                                                                \n",
       "2016-01-15 00:00:00                                   41885.707031  \n",
       "2016-01-15 01:00:00                                   42050.861809  \n",
       "2016-01-15 02:00:00                                   42018.101184  \n",
       "2016-01-15 03:00:00                                   42029.447991  \n",
       "2016-01-15 04:00:00                                   42125.354245  \n",
       "\n",
       "[5 rows x 35 columns]"
      ]
     },
     "execution_count": 8,
     "metadata": {},
     "output_type": "execute_result"
    }
   ],
   "source": [
    "train[free_columns].head()"
   ]
  },
  {
   "cell_type": "markdown",
   "metadata": {},
   "source": [
    "Для обучения модели, исключим признаки, которые отсутствуют в тестовой выборке"
   ]
  },
  {
   "cell_type": "code",
   "execution_count": 9,
   "metadata": {},
   "outputs": [],
   "source": [
    "train = train.drop(free_columns, axis=1)"
   ]
  },
  {
   "cell_type": "markdown",
   "metadata": {},
   "source": [
    "**Выводы:** в тестовой выборке отсутствуют столбцы\n",
    "- с выходными значениями на каждом из этапов 'output'\n",
    "- расчетами 'calculation'\n",
    "- с итоговыми зачениями 'final'\n",
    "\n",
    "все эти признаки, кроме целевых были удалены."
   ]
  },
  {
   "cell_type": "markdown",
   "metadata": {},
   "source": [
    "###  Предобработка данных"
   ]
  },
  {
   "cell_type": "code",
   "execution_count": 10,
   "metadata": {
    "scrolled": true
   },
   "outputs": [
    {
     "data": {
      "text/plain": [
       "(1470, 52)"
      ]
     },
     "execution_count": 10,
     "metadata": {},
     "output_type": "execute_result"
    }
   ],
   "source": [
    "train[train.isna().any(axis=1)].shape"
   ]
  },
  {
   "cell_type": "code",
   "execution_count": 11,
   "metadata": {
    "scrolled": true
   },
   "outputs": [
    {
     "data": {
      "text/plain": [
       "(61, 52)"
      ]
     },
     "execution_count": 11,
     "metadata": {},
     "output_type": "execute_result"
    }
   ],
   "source": [
    "test[test.isna().any(axis=1)].shape"
   ]
  },
  {
   "cell_type": "markdown",
   "metadata": {},
   "source": [
    "В обучающей выборке пропуски у 1470 объектов, в тестовой у 61"
   ]
  },
  {
   "cell_type": "markdown",
   "metadata": {},
   "source": [
    "В дальнейшем при моделировании рассмотрим два варианта\n",
    "- пропуски удалены\n",
    "- пропуски заполнены ближайшими значениями"
   ]
  },
  {
   "cell_type": "markdown",
   "metadata": {},
   "source": [
    "## Анализ данных"
   ]
  },
  {
   "cell_type": "markdown",
   "metadata": {},
   "source": [
    "### Исследование распределения концентрации металлов на разных стадиях"
   ]
  },
  {
   "cell_type": "code",
   "execution_count": 12,
   "metadata": {},
   "outputs": [],
   "source": [
    "full = full.fillna(method = 'ffill')"
   ]
  },
  {
   "cell_type": "code",
   "execution_count": 13,
   "metadata": {},
   "outputs": [],
   "source": [
    "def show_dynamics_concentrate(met):\n",
    "    plt.figure(figsize=(12, 7))\n",
    "\n",
    "    plt.hist(full['rougher.input.feed_'+met],bins=100,facecolor='#3d8f3f',alpha = 0.6,label=\"Исходное сырьё\")\n",
    "    plt.hist(full['rougher.output.concentrate_'+met],bins=100,facecolor='#a9b763',alpha = 0.6, label=\"После флотации\")\n",
    "    plt.hist(full['primary_cleaner.output.concentrate_'+met],bins=100,facecolor='#ffdfa1',alpha = 0.6, label=\"После первичной очистки\")\n",
    "    plt.hist(full['final.output.concentrate_'+met],bins=100,facecolor='#de425b',alpha =0.8, label=\"Финальный результат\")\n",
    "\n",
    "    plt.title(f'Распределение концентрации {met.upper()} на разных стадиях')\n",
    "    plt.xlabel('Концентрация, у.е.')\n",
    "    plt.ylabel('Количество наблюдений')\n",
    "    plt.legend()\n",
    "    \n",
    "    plt.show()"
   ]
  },
  {
   "cell_type": "code",
   "execution_count": 14,
   "metadata": {
    "scrolled": false
   },
   "outputs": [
    {
     "data": {
      "image/png": "[encoded data removed]",
      "text/plain": [
       "<Figure size 864x504 with 1 Axes>"
      ]
     },
     "metadata": {
      "needs_background": "light"
     },
     "output_type": "display_data"
    }
   ],
   "source": [
    "show_dynamics_concentrate('au')"
   ]
  },
  {
   "cell_type": "code",
   "execution_count": 15,
   "metadata": {
    "scrolled": false
   },
   "outputs": [
    {
     "data": {
      "image/png": "[encoded data removed]",
      "text/plain": [
       "<Figure size 864x504 with 1 Axes>"
      ]
     },
     "metadata": {
      "needs_background": "light"
     },
     "output_type": "display_data"
    }
   ],
   "source": [
    "show_dynamics_concentrate('pb')"
   ]
  },
  {
   "cell_type": "code",
   "execution_count": 16,
   "metadata": {
    "scrolled": false
   },
   "outputs": [
    {
     "data": {
      "image/png": "[encoded data removed]",
      "text/plain": [
       "<Figure size 864x504 with 1 Axes>"
      ]
     },
     "metadata": {
      "needs_background": "light"
     },
     "output_type": "display_data"
    }
   ],
   "source": [
    "show_dynamics_concentrate('ag')"
   ]
  },
  {
   "cell_type": "markdown",
   "metadata": {},
   "source": [
    "- На каждом этапе коцентрация AU - золота увеличивается\n",
    "- Концетраци PB - свинца после первчиной очистки и на финальной стадии меняется не существенно\n",
    "- Концетраци AG - серебра существенно уменьшается в финальном результате\n",
    "\n",
    "На всех этапах для всех металлов в данных есть нулевые значения"
   ]
  },
  {
   "cell_type": "markdown",
   "metadata": {},
   "source": [
    "### Сравнение распределений размеров частиц"
   ]
  },
  {
   "cell_type": "code",
   "execution_count": 17,
   "metadata": {
    "scrolled": false
   },
   "outputs": [
    {
     "data": {
      "image/png": "[encoded data removed]",
      "text/plain": [
       "<Figure size 720x432 with 1 Axes>"
      ]
     },
     "metadata": {
      "needs_background": "light"
     },
     "output_type": "display_data"
    }
   ],
   "source": [
    "plt.figure(figsize=(10,6))\n",
    "plt.hist(train['rougher.input.feed_size'].dropna(), label='Обучающая выборка',bins=100,facecolor='#3d8f3f',alpha = 0.6)\n",
    "plt.hist(test['rougher.input.feed_size'].dropna(), label='Тестовая выборка',bins=100,facecolor='#de425b',alpha =0.8)\n",
    "plt.title('Распределения размеров частиц в обучающей и тестовой выборках')\n",
    "plt.legend()\n",
    "plt.xlabel('Размер')\n",
    "plt.ylabel('Количество')\n",
    "plt.show()"
   ]
  },
  {
   "cell_type": "code",
   "execution_count": 18,
   "metadata": {
    "scrolled": false
   },
   "outputs": [
    {
     "data": {
      "image/png": "[encoded data removed]",
      "text/plain": [
       "<Figure size 432x288 with 1 Axes>"
      ]
     },
     "metadata": {
      "needs_background": "light"
     },
     "output_type": "display_data"
    },
    {
     "data": {
      "image/png": "[encoded data removed]",
      "text/plain": [
       "<Figure size 432x288 with 1 Axes>"
      ]
     },
     "metadata": {
      "needs_background": "light"
     },
     "output_type": "display_data"
    }
   ],
   "source": [
    "import statsmodels.api as sm\n",
    "import scipy\n",
    "\n",
    "\n",
    "fig = sm.qqplot(train['rougher.input.feed_size'], loc=train['rougher.input.feed_size'].mean(), scale=train['rougher.input.feed_size'].std(), line ='45')\n",
    "fig = sm.qqplot(test['rougher.input.feed_size'], loc=train['rougher.input.feed_size'].mean(), scale=train['rougher.input.feed_size'].std(), line ='45')\n"
   ]
  },
  {
   "cell_type": "markdown",
   "metadata": {},
   "source": [
    "Как видим распределения не являются нормальными, но между собой очень схожи"
   ]
  },
  {
   "cell_type": "markdown",
   "metadata": {},
   "source": [
    "### Исследование суммарных концентраций веществ и поиск аномалий"
   ]
  },
  {
   "cell_type": "code",
   "execution_count": 19,
   "metadata": {
    "scrolled": true
   },
   "outputs": [
    {
     "data": {
      "image/png": "[encoded data removed]",
      "text/plain": [
       "<Figure size 720x432 with 1 Axes>"
      ]
     },
     "metadata": {
      "needs_background": "light"
     },
     "output_type": "display_data"
    }
   ],
   "source": [
    "elements = ['au', 'ag','pb','sol']\n",
    "steps = ['rougher.input.feed_','rougher.output.concentrate_','final.output.concentrate_']\n",
    "list_columns = []\n",
    "\n",
    "summary = pd.DataFrame()\n",
    "#наполнение списка столбцов, по которым будет происходить суммирование\n",
    "for i in range(3):\n",
    "    list_columns.append([])\n",
    "    for j in range(4):\n",
    "        list_columns[i].append(steps[i]+elements[j])\n",
    "\n",
    "#сохранение сумм в summary на каждом из этапов\n",
    "for index in range(len(list_columns)):\n",
    "    summary[steps[index]+'sum'] = full[list_columns[index]].sum(axis=1)\n",
    "    \n",
    "summary.plot(kind='hist',bins=100,figsize=(10,6),legend=True,alpha=0.6, title=\"Распределние сумм концентраций веществ\")\n",
    "    \n",
    "plt.show()"
   ]
  },
  {
   "cell_type": "markdown",
   "metadata": {},
   "source": [
    "Нулевые суммарные концентрации веществ можно считать аномальными"
   ]
  },
  {
   "cell_type": "markdown",
   "metadata": {},
   "source": [
    "Удалим наблюдения, содержащие нулевые суммарные значения во всех таблицах"
   ]
  },
  {
   "cell_type": "code",
   "execution_count": 20,
   "metadata": {
    "scrolled": true
   },
   "outputs": [
    {
     "data": {
      "text/plain": [
       "(18949, 86)"
      ]
     },
     "execution_count": 20,
     "metadata": {},
     "output_type": "execute_result"
    }
   ],
   "source": [
    "index_drop = summary.loc[(summary == 0).sum(axis=1)>0].index\n",
    "\n",
    "full = full.drop(index_drop,axis = 0)\n",
    "\n",
    "full.shape"
   ]
  },
  {
   "cell_type": "code",
   "execution_count": 21,
   "metadata": {
    "scrolled": false
   },
   "outputs": [
    {
     "name": "stderr",
     "output_type": "stream",
     "text": [
      "/tmp/ipykernel_181/4238293573.py:1: FutureWarning: Index.__and__ operating as a set operation is deprecated, in the future this will be a logical operation matching Series.__and__.  Use index.intersection(other) instead\n",
      "  train = train.drop((train.index & index_drop),axis = 0)\n"
     ]
    }
   ],
   "source": [
    "train = train.drop((train.index & index_drop),axis = 0)"
   ]
  },
  {
   "cell_type": "code",
   "execution_count": 22,
   "metadata": {
    "scrolled": true
   },
   "outputs": [
    {
     "name": "stderr",
     "output_type": "stream",
     "text": [
      "/tmp/ipykernel_181/3698992944.py:1: FutureWarning: Index.__and__ operating as a set operation is deprecated, in the future this will be a logical operation matching Series.__and__.  Use index.intersection(other) instead\n",
      "  test = test.drop((test.index & index_drop),axis = 0)\n"
     ]
    }
   ],
   "source": [
    "test = test.drop((test.index & index_drop),axis = 0)"
   ]
  },
  {
   "cell_type": "code",
   "execution_count": 23,
   "metadata": {},
   "outputs": [
    {
     "name": "stdout",
     "output_type": "stream",
     "text": [
      "(13795, 52) (5154, 52)\n"
     ]
    }
   ],
   "source": [
    "print(train.shape, test.shape)"
   ]
  },
  {
   "cell_type": "markdown",
   "metadata": {},
   "source": [
    "**Выводы:** \n",
    "- на разных этапах концентрация веществ меняется\n",
    "- были обнаружены аномальные значения, когда на одном из этапов все концентрации элементов равны 0, такие данные были удалены\n",
    "- распределения размеров частиц в обучающей и тестовой выборках, очень схожи"
   ]
  },
  {
   "cell_type": "markdown",
   "metadata": {},
   "source": [
    "## Модель"
   ]
  },
  {
   "cell_type": "markdown",
   "metadata": {},
   "source": [
    "### Подготовка признаков"
   ]
  },
  {
   "cell_type": "markdown",
   "metadata": {},
   "source": [
    "Выделим целевой признак для тестовой выборки"
   ]
  },
  {
   "cell_type": "code",
   "execution_count": 24,
   "metadata": {},
   "outputs": [
    {
     "data": {
      "text/plain": [
       "(18949, 86)"
      ]
     },
     "execution_count": 24,
     "metadata": {},
     "output_type": "execute_result"
    }
   ],
   "source": [
    "full.shape"
   ]
  },
  {
   "cell_type": "code",
   "execution_count": 25,
   "metadata": {
    "scrolled": true
   },
   "outputs": [],
   "source": [
    "train_target = full[['final.output.recovery','rougher.output.recovery']].loc[train.index,:]\n",
    "test_target = full[['final.output.recovery','rougher.output.recovery']].loc[test.index,:]"
   ]
  },
  {
   "cell_type": "markdown",
   "metadata": {},
   "source": [
    "### Подготовка функции sMAPE"
   ]
  },
  {
   "cell_type": "code",
   "execution_count": 26,
   "metadata": {},
   "outputs": [],
   "source": [
    "def smape(target_actual, target_predictions):\n",
    "    numerator = np.abs(target_actual - target_predictions)\n",
    "    denominator = (np.abs(target_actual) + np.abs(target_predictions)) / 2\n",
    "\n",
    "    return 1 / len(target_actual) * np.sum(numerator / denominator) * 100 \n",
    "  \n",
    "def final_smape(smape_r, smape_f):\n",
    "    return 0.25 * smape_r + 0.75 * smape_f"
   ]
  },
  {
   "cell_type": "code",
   "execution_count": 28,
   "metadata": {},
   "outputs": [
    {
     "name": "stdout",
     "output_type": "stream",
     "text": [
      "(12434, 52)\n",
      "(12434, 2)\n"
     ]
    }
   ],
   "source": [
    "train_feature = train.dropna()\n",
    "train_target = train_target.loc[train_feature.index,:]\n",
    "print(train_feature.shape)\n",
    "print(train_target.shape)"
   ]
  },
  {
   "cell_type": "code",
   "execution_count": 28,
   "metadata": {
    "scrolled": false
   },
   "outputs": [],
   "source": [
    "def smape_lm(train_feature, train_target):\n",
    "    lm = LinearRegression()\n",
    "\n",
    "    smape_lm_r = cross_val_score(lm, train_feature, train_target['rougher.output.recovery'], \n",
    "                             scoring = make_scorer(smape),\n",
    "                             cv = 5).mean()\n",
    "    lm = LinearRegression()\n",
    "\n",
    "    smape_lm_f = cross_val_score(lm, train_feature, train_target['final.output.recovery'], \n",
    "                             scoring = make_scorer(smape),\n",
    "                             cv = 5).mean()\n",
    "\n",
    "\n",
    "    print('Линейная регрессия:')\n",
    "    print('    sMAPE rougher: {:.2f} %'.format(smape_lm_r))\n",
    "    print('    sMAPE final: {:.2f} %'.format(smape_lm_f))\n",
    "    print('Final sMAPE: {:.2f} %'.format(final_smape(smape_lm_r, smape_lm_f)))"
   ]
  },
  {
   "cell_type": "code",
   "execution_count": 29,
   "metadata": {
    "scrolled": true
   },
   "outputs": [
    {
     "name": "stdout",
     "output_type": "stream",
     "text": [
      "Линейная регрессия:\n",
      "    sMAPE rougher: 6.90 %\n",
      "    sMAPE final: 10.21 %\n",
      "Final sMAPE: 9.38 %\n"
     ]
    }
   ],
   "source": [
    "smape_lm(train_feature,train_target)"
   ]
  },
  {
   "cell_type": "markdown",
   "metadata": {},
   "source": [
    "### Обучение модели, для данных с заполненными пропускам ближайшим известным значением "
   ]
  },
  {
   "cell_type": "code",
   "execution_count": 30,
   "metadata": {},
   "outputs": [],
   "source": [
    "train_feature = train.fillna(method = 'bfill')\n",
    "train_target = full[['rougher.output.recovery','final.output.recovery']].loc[train_feature.index,:]"
   ]
  },
  {
   "cell_type": "code",
   "execution_count": 31,
   "metadata": {
    "scrolled": false
   },
   "outputs": [
    {
     "name": "stdout",
     "output_type": "stream",
     "text": [
      "Линейная регрессия:\n",
      "    sMAPE rougher: 7.19 %\n",
      "    sMAPE final: 10.97 %\n",
      "Final sMAPE: 10.03 %\n"
     ]
    }
   ],
   "source": [
    "smape_lm(train_feature,train_target)"
   ]
  },
  {
   "cell_type": "markdown",
   "metadata": {},
   "source": [
    "### Подбор гиперпарметров для Random Forest"
   ]
  },
  {
   "cell_type": "code",
   "execution_count": 32,
   "metadata": {
    "scrolled": true
   },
   "outputs": [
    {
     "name": "stdout",
     "output_type": "stream",
     "text": [
      "Fitting 5 folds for each of 210 candidates, totalling 1050 fits\n",
      "[CV 1/5; 1/210] START max_depth=2, max_features=5, n_estimators=10..............\n",
      "[CV 1/5; 1/210] END max_depth=2, max_features=5, n_estimators=10; total time=   0.3s\n",
      "[CV 2/5; 1/210] START max_depth=2, max_features=5, n_estimators=10..............\n",
      "[CV 2/5; 1/210] END max_depth=2, max_features=5, n_estimators=10; total time=   0.2s\n",
      "[CV 3/5; 1/210] START max_depth=2, max_features=5, n_estimators=10..............\n",
      "[CV 3/5; 1/210] END max_depth=2, max_features=5, n_estimators=10; total time=   0.2s\n",
      "[CV 4/5; 1/210] START max_depth=2, max_features=5, n_estimators=10..............\n",
      "[CV 4/5; 1/210] END max_depth=2, max_features=5, n_estimators=10; total time=   0.2s\n",
      "[CV 5/5; 1/210] START max_depth=2, max_features=5, n_estimators=10..............\n",
      "[CV 5/5; 1/210] END max_depth=2, max_features=5, n_estimators=10; total time=   0.3s\n",
      "[CV 1/5; 2/210] START max_depth=2, max_features=5, n_estimators=15..............\n",
      "[CV 1/5; 2/210] END max_depth=2, max_features=5, n_estimators=15; total time=   0.3s\n",
      "[CV 2/5; 2/210] START max_depth=2, max_features=5, n_estimators=15..............\n",
      "[CV 2/5; 2/210] END max_depth=2, max_features=5, n_estimators=15; total time=   0.4s\n",
      "[CV 3/5; 2/210] START max_depth=2, max_features=5, n_estimators=15..............\n",
      "[CV 3/5; 2/210] END max_depth=2, max_features=5, n_estimators=15; total time=   0.3s\n",
      "[CV 4/5; 2/210] START max_depth=2, max_features=5, n_estimators=15..............\n",
      "[CV 4/5; 2/210] END max_depth=2, max_features=5, n_estimators=15; total time=   0.2s\n",
      "[CV 5/5; 2/210] START max_depth=2, max_features=5, n_estimators=15..............\n",
      "[CV 5/5; 2/210] END max_depth=2, max_features=5, n_estimators=15; total time=   0.2s\n",
      "[CV 1/5; 3/210] START max_depth=2, max_features=5, n_estimators=20..............\n",
      "[CV 1/5; 3/210] END max_depth=2, max_features=5, n_estimators=20; total time=   0.2s\n",
      "[CV 2/5; 3/210] START max_depth=2, max_features=5, n_estimators=20..............\n",
      "[CV 2/5; 3/210] END max_depth=2, max_features=5, n_estimators=20; total time=   0.2s\n",
      "[CV 3/5; 3/210] START max_depth=2, max_features=5, n_estimators=20..............\n",
      "[CV 3/5; 3/210] END max_depth=2, max_features=5, n_estimators=20; total time=   0.2s\n",
      "[CV 4/5; 3/210] START max_depth=2, max_features=5, n_estimators=20..............\n",
      "[CV 4/5; 3/210] END max_depth=2, max_features=5, n_estimators=20; total time=   0.2s\n",
      "[CV 5/5; 3/210] START max_depth=2, max_features=5, n_estimators=20..............\n",
      "[CV 5/5; 3/210] END max_depth=2, max_features=5, n_estimators=20; total time=   0.2s\n",
      "[CV 1/5; 4/210] START max_depth=2, max_features=5, n_estimators=25..............\n",
      "[CV 1/5; 4/210] END max_depth=2, max_features=5, n_estimators=25; total time=   0.3s\n",
      "[CV 2/5; 4/210] START max_depth=2, max_features=5, n_estimators=25..............\n",
      "[CV 2/5; 4/210] END max_depth=2, max_features=5, n_estimators=25; total time=   0.3s\n",
      "[CV 3/5; 4/210] START max_depth=2, max_features=5, n_estimators=25..............\n",
      "[CV 3/5; 4/210] END max_depth=2, max_features=5, n_estimators=25; total time=   0.3s\n",
      "[CV 4/5; 4/210] START max_depth=2, max_features=5, n_estimators=25..............\n",
      "[CV 4/5; 4/210] END max_depth=2, max_features=5, n_estimators=25; total time=   0.3s\n",
      "[CV 5/5; 4/210] START max_depth=2, max_features=5, n_estimators=25..............\n",
      "[CV 5/5; 4/210] END max_depth=2, max_features=5, n_estimators=25; total time=   0.2s\n",
      "[CV 1/5; 5/210] START max_depth=2, max_features=5, n_estimators=30..............\n",
      "[CV 1/5; 5/210] END max_depth=2, max_features=5, n_estimators=30; total time=   0.3s\n",
      "[CV 2/5; 5/210] START max_depth=2, max_features=5, n_estimators=30..............\n",
      "[CV 2/5; 5/210] END max_depth=2, max_features=5, n_estimators=30; total time=   0.3s\n",
      "[CV 3/5; 5/210] START max_depth=2, max_features=5, n_estimators=30..............\n",
      "[CV 3/5; 5/210] END max_depth=2, max_features=5, n_estimators=30; total time=   0.3s\n",
      "[CV 4/5; 5/210] START max_depth=2, max_features=5, n_estimators=30..............\n",
      "[CV 4/5; 5/210] END max_depth=2, max_features=5, n_estimators=30; total time=   0.3s\n",
      "[CV 5/5; 5/210] START max_depth=2, max_features=5, n_estimators=30..............\n",
      "[CV 5/5; 5/210] END max_depth=2, max_features=5, n_estimators=30; total time=   0.3s\n",
      "[CV 1/5; 6/210] START max_depth=2, max_features=5, n_estimators=35..............\n",
      "[CV 1/5; 6/210] END max_depth=2, max_features=5, n_estimators=35; total time=   0.4s\n",
      "[CV 2/5; 6/210] START max_depth=2, max_features=5, n_estimators=35..............\n",
      "[CV 2/5; 6/210] END max_depth=2, max_features=5, n_estimators=35; total time=   0.4s\n",
      "[CV 3/5; 6/210] START max_depth=2, max_features=5, n_estimators=35..............\n",
      "[CV 3/5; 6/210] END max_depth=2, max_features=5, n_estimators=35; total time=   0.4s\n",
      "[CV 4/5; 6/210] START max_depth=2, max_features=5, n_estimators=35..............\n",
      "[CV 4/5; 6/210] END max_depth=2, max_features=5, n_estimators=35; total time=   0.4s\n",
      "[CV 5/5; 6/210] START max_depth=2, max_features=5, n_estimators=35..............\n",
      "[CV 5/5; 6/210] END max_depth=2, max_features=5, n_estimators=35; total time=   0.5s\n",
      "[CV 1/5; 7/210] START max_depth=2, max_features=5, n_estimators=40..............\n",
      "[CV 1/5; 7/210] END max_depth=2, max_features=5, n_estimators=40; total time=   0.4s\n",
      "[CV 2/5; 7/210] START max_depth=2, max_features=5, n_estimators=40..............\n",
      "[CV 2/5; 7/210] END max_depth=2, max_features=5, n_estimators=40; total time=   0.4s\n",
      "[CV 3/5; 7/210] START max_depth=2, max_features=5, n_estimators=40..............\n",
      "[CV 3/5; 7/210] END max_depth=2, max_features=5, n_estimators=40; total time=   0.4s\n",
      "[CV 4/5; 7/210] START max_depth=2, max_features=5, n_estimators=40..............\n",
      "[CV 4/5; 7/210] END max_depth=2, max_features=5, n_estimators=40; total time=   0.3s\n",
      "[CV 5/5; 7/210] START max_depth=2, max_features=5, n_estimators=40..............\n",
      "[CV 5/5; 7/210] END max_depth=2, max_features=5, n_estimators=40; total time=   0.3s\n",
      "[CV 1/5; 8/210] START max_depth=2, max_features=5, n_estimators=45..............\n",
      "[CV 1/5; 8/210] END max_depth=2, max_features=5, n_estimators=45; total time=   0.3s\n",
      "[CV 2/5; 8/210] START max_depth=2, max_features=5, n_estimators=45..............\n",
      "[CV 2/5; 8/210] END max_depth=2, max_features=5, n_estimators=45; total time=   0.3s\n",
      "[CV 3/5; 8/210] START max_depth=2, max_features=5, n_estimators=45..............\n",
      "[CV 3/5; 8/210] END max_depth=2, max_features=5, n_estimators=45; total time=   0.3s\n",
      "[CV 4/5; 8/210] START max_depth=2, max_features=5, n_estimators=45..............\n",
      "[CV 4/5; 8/210] END max_depth=2, max_features=5, n_estimators=45; total time=   0.4s\n",
      "[CV 5/5; 8/210] START max_depth=2, max_features=5, n_estimators=45..............\n",
      "[CV 5/5; 8/210] END max_depth=2, max_features=5, n_estimators=45; total time=   0.3s\n",
      "[CV 1/5; 9/210] START max_depth=2, max_features=5, n_estimators=50..............\n",
      "[CV 1/5; 9/210] END max_depth=2, max_features=5, n_estimators=50; total time=   0.3s\n",
      "[CV 2/5; 9/210] START max_depth=2, max_features=5, n_estimators=50..............\n",
      "[CV 2/5; 9/210] END max_depth=2, max_features=5, n_estimators=50; total time=   0.3s\n",
      "[CV 3/5; 9/210] START max_depth=2, max_features=5, n_estimators=50..............\n",
      "[CV 3/5; 9/210] END max_depth=2, max_features=5, n_estimators=50; total time=   0.4s\n",
      "[CV 4/5; 9/210] START max_depth=2, max_features=5, n_estimators=50..............\n",
      "[CV 4/5; 9/210] END max_depth=2, max_features=5, n_estimators=50; total time=   0.4s\n",
      "[CV 5/5; 9/210] START max_depth=2, max_features=5, n_estimators=50..............\n",
      "[CV 5/5; 9/210] END max_depth=2, max_features=5, n_estimators=50; total time=   0.4s\n",
      "[CV 1/5; 10/210] START max_depth=2, max_features=5, n_estimators=55.............\n",
      "[CV 1/5; 10/210] END max_depth=2, max_features=5, n_estimators=55; total time=   0.4s\n",
      "[CV 2/5; 10/210] START max_depth=2, max_features=5, n_estimators=55.............\n",
      "[CV 2/5; 10/210] END max_depth=2, max_features=5, n_estimators=55; total time=   0.4s\n",
      "[CV 3/5; 10/210] START max_depth=2, max_features=5, n_estimators=55.............\n",
      "[CV 3/5; 10/210] END max_depth=2, max_features=5, n_estimators=55; total time=   0.4s\n",
      "[CV 4/5; 10/210] START max_depth=2, max_features=5, n_estimators=55.............\n",
      "[CV 4/5; 10/210] END max_depth=2, max_features=5, n_estimators=55; total time=   0.4s\n",
      "[CV 5/5; 10/210] START max_depth=2, max_features=5, n_estimators=55.............\n",
      "[CV 5/5; 10/210] END max_depth=2, max_features=5, n_estimators=55; total time=   0.4s\n",
      "[CV 1/5; 11/210] START max_depth=2, max_features=5, n_estimators=60.............\n",
      "[CV 1/5; 11/210] END max_depth=2, max_features=5, n_estimators=60; total time=   0.4s\n",
      "[CV 2/5; 11/210] START max_depth=2, max_features=5, n_estimators=60.............\n",
      "[CV 2/5; 11/210] END max_depth=2, max_features=5, n_estimators=60; total time=   0.5s\n",
      "[CV 3/5; 11/210] START max_depth=2, max_features=5, n_estimators=60.............\n",
      "[CV 3/5; 11/210] END max_depth=2, max_features=5, n_estimators=60; total time=   0.5s\n",
      "[CV 4/5; 11/210] START max_depth=2, max_features=5, n_estimators=60.............\n",
      "[CV 4/5; 11/210] END max_depth=2, max_features=5, n_estimators=60; total time=   0.4s\n",
      "[CV 5/5; 11/210] START max_depth=2, max_features=5, n_estimators=60.............\n",
      "[CV 5/5; 11/210] END max_depth=2, max_features=5, n_estimators=60; total time=   0.4s\n",
      "[CV 1/5; 12/210] START max_depth=2, max_features=5, n_estimators=65.............\n",
      "[CV 1/5; 12/210] END max_depth=2, max_features=5, n_estimators=65; total time=   0.5s\n",
      "[CV 2/5; 12/210] START max_depth=2, max_features=5, n_estimators=65.............\n",
      "[CV 2/5; 12/210] END max_depth=2, max_features=5, n_estimators=65; total time=   0.5s\n",
      "[CV 3/5; 12/210] START max_depth=2, max_features=5, n_estimators=65.............\n",
      "[CV 3/5; 12/210] END max_depth=2, max_features=5, n_estimators=65; total time=   0.5s\n",
      "[CV 4/5; 12/210] START max_depth=2, max_features=5, n_estimators=65.............\n",
      "[CV 4/5; 12/210] END max_depth=2, max_features=5, n_estimators=65; total time=   0.5s\n",
      "[CV 5/5; 12/210] START max_depth=2, max_features=5, n_estimators=65.............\n",
      "[CV 5/5; 12/210] END max_depth=2, max_features=5, n_estimators=65; total time=   0.5s\n",
      "[CV 1/5; 13/210] START max_depth=2, max_features=5, n_estimators=70.............\n",
      "[CV 1/5; 13/210] END max_depth=2, max_features=5, n_estimators=70; total time=   0.5s\n",
      "[CV 2/5; 13/210] START max_depth=2, max_features=5, n_estimators=70.............\n",
      "[CV 2/5; 13/210] END max_depth=2, max_features=5, n_estimators=70; total time=   0.5s\n",
      "[CV 3/5; 13/210] START max_depth=2, max_features=5, n_estimators=70.............\n",
      "[CV 3/5; 13/210] END max_depth=2, max_features=5, n_estimators=70; total time=   0.5s\n",
      "[CV 4/5; 13/210] START max_depth=2, max_features=5, n_estimators=70.............\n",
      "[CV 4/5; 13/210] END max_depth=2, max_features=5, n_estimators=70; total time=   0.5s\n",
      "[CV 5/5; 13/210] START max_depth=2, max_features=5, n_estimators=70.............\n",
      "[CV 5/5; 13/210] END max_depth=2, max_features=5, n_estimators=70; total time=   0.5s\n",
      "[CV 1/5; 14/210] START max_depth=2, max_features=5, n_estimators=75.............\n",
      "[CV 1/5; 14/210] END max_depth=2, max_features=5, n_estimators=75; total time=   0.5s\n",
      "[CV 2/5; 14/210] START max_depth=2, max_features=5, n_estimators=75.............\n",
      "[CV 2/5; 14/210] END max_depth=2, max_features=5, n_estimators=75; total time=   0.5s\n",
      "[CV 3/5; 14/210] START max_depth=2, max_features=5, n_estimators=75.............\n",
      "[CV 3/5; 14/210] END max_depth=2, max_features=5, n_estimators=75; total time=   0.5s\n",
      "[CV 4/5; 14/210] START max_depth=2, max_features=5, n_estimators=75.............\n",
      "[CV 4/5; 14/210] END max_depth=2, max_features=5, n_estimators=75; total time=   0.5s\n",
      "[CV 5/5; 14/210] START max_depth=2, max_features=5, n_estimators=75.............\n",
      "[CV 5/5; 14/210] END max_depth=2, max_features=5, n_estimators=75; total time=   0.5s\n",
      "[CV 1/5; 15/210] START max_depth=2, max_features=7, n_estimators=10.............\n",
      "[CV 1/5; 15/210] END max_depth=2, max_features=7, n_estimators=10; total time=   0.1s\n",
      "[CV 2/5; 15/210] START max_depth=2, max_features=7, n_estimators=10.............\n",
      "[CV 2/5; 15/210] END max_depth=2, max_features=7, n_estimators=10; total time=   0.1s\n",
      "[CV 3/5; 15/210] START max_depth=2, max_features=7, n_estimators=10.............\n",
      "[CV 3/5; 15/210] END max_depth=2, max_features=7, n_estimators=10; total time=   0.1s\n",
      "[CV 4/5; 15/210] START max_depth=2, max_features=7, n_estimators=10.............\n",
      "[CV 4/5; 15/210] END max_depth=2, max_features=7, n_estimators=10; total time=   0.1s\n",
      "[CV 5/5; 15/210] START max_depth=2, max_features=7, n_estimators=10.............\n",
      "[CV 5/5; 15/210] END max_depth=2, max_features=7, n_estimators=10; total time=   0.1s\n",
      "[CV 1/5; 16/210] START max_depth=2, max_features=7, n_estimators=15.............\n",
      "[CV 1/5; 16/210] END max_depth=2, max_features=7, n_estimators=15; total time=   0.2s\n",
      "[CV 2/5; 16/210] START max_depth=2, max_features=7, n_estimators=15.............\n",
      "[CV 2/5; 16/210] END max_depth=2, max_features=7, n_estimators=15; total time=   0.2s\n",
      "[CV 3/5; 16/210] START max_depth=2, max_features=7, n_estimators=15.............\n",
      "[CV 3/5; 16/210] END max_depth=2, max_features=7, n_estimators=15; total time=   0.2s\n",
      "[CV 4/5; 16/210] START max_depth=2, max_features=7, n_estimators=15.............\n",
      "[CV 4/5; 16/210] END max_depth=2, max_features=7, n_estimators=15; total time=   0.2s\n",
      "[CV 5/5; 16/210] START max_depth=2, max_features=7, n_estimators=15.............\n",
      "[CV 5/5; 16/210] END max_depth=2, max_features=7, n_estimators=15; total time=   0.2s\n",
      "[CV 1/5; 17/210] START max_depth=2, max_features=7, n_estimators=20.............\n",
      "[CV 1/5; 17/210] END max_depth=2, max_features=7, n_estimators=20; total time=   0.2s\n",
      "[CV 2/5; 17/210] START max_depth=2, max_features=7, n_estimators=20.............\n",
      "[CV 2/5; 17/210] END max_depth=2, max_features=7, n_estimators=20; total time=   0.2s\n",
      "[CV 3/5; 17/210] START max_depth=2, max_features=7, n_estimators=20.............\n",
      "[CV 3/5; 17/210] END max_depth=2, max_features=7, n_estimators=20; total time=   0.2s\n",
      "[CV 4/5; 17/210] START max_depth=2, max_features=7, n_estimators=20.............\n",
      "[CV 4/5; 17/210] END max_depth=2, max_features=7, n_estimators=20; total time=   0.2s\n",
      "[CV 5/5; 17/210] START max_depth=2, max_features=7, n_estimators=20.............\n",
      "[CV 5/5; 17/210] END max_depth=2, max_features=7, n_estimators=20; total time=   0.2s\n",
      "[CV 1/5; 18/210] START max_depth=2, max_features=7, n_estimators=25.............\n",
      "[CV 1/5; 18/210] END max_depth=2, max_features=7, n_estimators=25; total time=   0.2s\n",
      "[CV 2/5; 18/210] START max_depth=2, max_features=7, n_estimators=25.............\n",
      "[CV 2/5; 18/210] END max_depth=2, max_features=7, n_estimators=25; total time=   0.2s\n",
      "[CV 3/5; 18/210] START max_depth=2, max_features=7, n_estimators=25.............\n",
      "[CV 3/5; 18/210] END max_depth=2, max_features=7, n_estimators=25; total time=   0.2s\n",
      "[CV 4/5; 18/210] START max_depth=2, max_features=7, n_estimators=25.............\n",
      "[CV 4/5; 18/210] END max_depth=2, max_features=7, n_estimators=25; total time=   0.2s\n",
      "[CV 5/5; 18/210] START max_depth=2, max_features=7, n_estimators=25.............\n",
      "[CV 5/5; 18/210] END max_depth=2, max_features=7, n_estimators=25; total time=   0.2s\n",
      "[CV 1/5; 19/210] START max_depth=2, max_features=7, n_estimators=30.............\n",
      "[CV 1/5; 19/210] END max_depth=2, max_features=7, n_estimators=30; total time=   0.3s\n",
      "[CV 2/5; 19/210] START max_depth=2, max_features=7, n_estimators=30.............\n",
      "[CV 2/5; 19/210] END max_depth=2, max_features=7, n_estimators=30; total time=   0.3s\n",
      "[CV 3/5; 19/210] START max_depth=2, max_features=7, n_estimators=30.............\n",
      "[CV 3/5; 19/210] END max_depth=2, max_features=7, n_estimators=30; total time=   0.3s\n",
      "[CV 4/5; 19/210] START max_depth=2, max_features=7, n_estimators=30.............\n",
      "[CV 4/5; 19/210] END max_depth=2, max_features=7, n_estimators=30; total time=   0.3s\n",
      "[CV 5/5; 19/210] START max_depth=2, max_features=7, n_estimators=30.............\n",
      "[CV 5/5; 19/210] END max_depth=2, max_features=7, n_estimators=30; total time=   0.3s\n",
      "[CV 1/5; 20/210] START max_depth=2, max_features=7, n_estimators=35.............\n",
      "[CV 1/5; 20/210] END max_depth=2, max_features=7, n_estimators=35; total time=   0.3s\n",
      "[CV 2/5; 20/210] START max_depth=2, max_features=7, n_estimators=35.............\n",
      "[CV 2/5; 20/210] END max_depth=2, max_features=7, n_estimators=35; total time=   0.3s\n",
      "[CV 3/5; 20/210] START max_depth=2, max_features=7, n_estimators=35.............\n",
      "[CV 3/5; 20/210] END max_depth=2, max_features=7, n_estimators=35; total time=   0.3s\n",
      "[CV 4/5; 20/210] START max_depth=2, max_features=7, n_estimators=35.............\n",
      "[CV 4/5; 20/210] END max_depth=2, max_features=7, n_estimators=35; total time=   0.3s\n",
      "[CV 5/5; 20/210] START max_depth=2, max_features=7, n_estimators=35.............\n",
      "[CV 5/5; 20/210] END max_depth=2, max_features=7, n_estimators=35; total time=   0.3s\n",
      "[CV 1/5; 21/210] START max_depth=2, max_features=7, n_estimators=40.............\n",
      "[CV 1/5; 21/210] END max_depth=2, max_features=7, n_estimators=40; total time=   0.4s\n",
      "[CV 2/5; 21/210] START max_depth=2, max_features=7, n_estimators=40.............\n",
      "[CV 2/5; 21/210] END max_depth=2, max_features=7, n_estimators=40; total time=   0.4s\n",
      "[CV 3/5; 21/210] START max_depth=2, max_features=7, n_estimators=40.............\n",
      "[CV 3/5; 21/210] END max_depth=2, max_features=7, n_estimators=40; total time=   0.4s\n",
      "[CV 4/5; 21/210] START max_depth=2, max_features=7, n_estimators=40.............\n",
      "[CV 4/5; 21/210] END max_depth=2, max_features=7, n_estimators=40; total time=   0.4s\n",
      "[CV 5/5; 21/210] START max_depth=2, max_features=7, n_estimators=40.............\n",
      "[CV 5/5; 21/210] END max_depth=2, max_features=7, n_estimators=40; total time=   0.4s\n",
      "[CV 1/5; 22/210] START max_depth=2, max_features=7, n_estimators=45.............\n",
      "[CV 1/5; 22/210] END max_depth=2, max_features=7, n_estimators=45; total time=   0.4s\n",
      "[CV 2/5; 22/210] START max_depth=2, max_features=7, n_estimators=45.............\n",
      "[CV 2/5; 22/210] END max_depth=2, max_features=7, n_estimators=45; total time=   0.4s\n",
      "[CV 3/5; 22/210] START max_depth=2, max_features=7, n_estimators=45.............\n",
      "[CV 3/5; 22/210] END max_depth=2, max_features=7, n_estimators=45; total time=   0.4s\n",
      "[CV 4/5; 22/210] START max_depth=2, max_features=7, n_estimators=45.............\n",
      "[CV 4/5; 22/210] END max_depth=2, max_features=7, n_estimators=45; total time=   0.4s\n",
      "[CV 5/5; 22/210] START max_depth=2, max_features=7, n_estimators=45.............\n",
      "[CV 5/5; 22/210] END max_depth=2, max_features=7, n_estimators=45; total time=   0.4s\n",
      "[CV 1/5; 23/210] START max_depth=2, max_features=7, n_estimators=50.............\n",
      "[CV 1/5; 23/210] END max_depth=2, max_features=7, n_estimators=50; total time=   0.5s\n",
      "[CV 2/5; 23/210] START max_depth=2, max_features=7, n_estimators=50.............\n",
      "[CV 2/5; 23/210] END max_depth=2, max_features=7, n_estimators=50; total time=   0.5s\n",
      "[CV 3/5; 23/210] START max_depth=2, max_features=7, n_estimators=50.............\n",
      "[CV 3/5; 23/210] END max_depth=2, max_features=7, n_estimators=50; total time=   0.5s\n",
      "[CV 4/5; 23/210] START max_depth=2, max_features=7, n_estimators=50.............\n",
      "[CV 4/5; 23/210] END max_depth=2, max_features=7, n_estimators=50; total time=   0.5s\n",
      "[CV 5/5; 23/210] START max_depth=2, max_features=7, n_estimators=50.............\n",
      "[CV 5/5; 23/210] END max_depth=2, max_features=7, n_estimators=50; total time=   0.5s\n",
      "[CV 1/5; 24/210] START max_depth=2, max_features=7, n_estimators=55.............\n",
      "[CV 1/5; 24/210] END max_depth=2, max_features=7, n_estimators=55; total time=   0.5s\n",
      "[CV 2/5; 24/210] START max_depth=2, max_features=7, n_estimators=55.............\n",
      "[CV 2/5; 24/210] END max_depth=2, max_features=7, n_estimators=55; total time=   0.5s\n",
      "[CV 3/5; 24/210] START max_depth=2, max_features=7, n_estimators=55.............\n",
      "[CV 3/5; 24/210] END max_depth=2, max_features=7, n_estimators=55; total time=   0.5s\n",
      "[CV 4/5; 24/210] START max_depth=2, max_features=7, n_estimators=55.............\n",
      "[CV 4/5; 24/210] END max_depth=2, max_features=7, n_estimators=55; total time=   0.5s\n",
      "[CV 5/5; 24/210] START max_depth=2, max_features=7, n_estimators=55.............\n",
      "[CV 5/5; 24/210] END max_depth=2, max_features=7, n_estimators=55; total time=   0.5s\n",
      "[CV 1/5; 25/210] START max_depth=2, max_features=7, n_estimators=60.............\n",
      "[CV 1/5; 25/210] END max_depth=2, max_features=7, n_estimators=60; total time=   0.6s\n",
      "[CV 2/5; 25/210] START max_depth=2, max_features=7, n_estimators=60.............\n",
      "[CV 2/5; 25/210] END max_depth=2, max_features=7, n_estimators=60; total time=   0.6s\n",
      "[CV 3/5; 25/210] START max_depth=2, max_features=7, n_estimators=60.............\n",
      "[CV 3/5; 25/210] END max_depth=2, max_features=7, n_estimators=60; total time=   0.7s\n",
      "[CV 4/5; 25/210] START max_depth=2, max_features=7, n_estimators=60.............\n",
      "[CV 4/5; 25/210] END max_depth=2, max_features=7, n_estimators=60; total time=   0.6s\n",
      "[CV 5/5; 25/210] START max_depth=2, max_features=7, n_estimators=60.............\n",
      "[CV 5/5; 25/210] END max_depth=2, max_features=7, n_estimators=60; total time=   0.6s\n",
      "[CV 1/5; 26/210] START max_depth=2, max_features=7, n_estimators=65.............\n",
      "[CV 1/5; 26/210] END max_depth=2, max_features=7, n_estimators=65; total time=   0.6s\n",
      "[CV 2/5; 26/210] START max_depth=2, max_features=7, n_estimators=65.............\n",
      "[CV 2/5; 26/210] END max_depth=2, max_features=7, n_estimators=65; total time=   0.6s\n",
      "[CV 3/5; 26/210] START max_depth=2, max_features=7, n_estimators=65.............\n",
      "[CV 3/5; 26/210] END max_depth=2, max_features=7, n_estimators=65; total time=   0.6s\n",
      "[CV 4/5; 26/210] START max_depth=2, max_features=7, n_estimators=65.............\n",
      "[CV 4/5; 26/210] END max_depth=2, max_features=7, n_estimators=65; total time=   0.6s\n",
      "[CV 5/5; 26/210] START max_depth=2, max_features=7, n_estimators=65.............\n",
      "[CV 5/5; 26/210] END max_depth=2, max_features=7, n_estimators=65; total time=   0.6s\n",
      "[CV 1/5; 27/210] START max_depth=2, max_features=7, n_estimators=70.............\n",
      "[CV 1/5; 27/210] END max_depth=2, max_features=7, n_estimators=70; total time=   0.7s\n",
      "[CV 2/5; 27/210] START max_depth=2, max_features=7, n_estimators=70.............\n",
      "[CV 2/5; 27/210] END max_depth=2, max_features=7, n_estimators=70; total time=   0.7s\n",
      "[CV 3/5; 27/210] START max_depth=2, max_features=7, n_estimators=70.............\n",
      "[CV 3/5; 27/210] END max_depth=2, max_features=7, n_estimators=70; total time=   0.6s\n",
      "[CV 4/5; 27/210] START max_depth=2, max_features=7, n_estimators=70.............\n",
      "[CV 4/5; 27/210] END max_depth=2, max_features=7, n_estimators=70; total time=   0.7s\n",
      "[CV 5/5; 27/210] START max_depth=2, max_features=7, n_estimators=70.............\n",
      "[CV 5/5; 27/210] END max_depth=2, max_features=7, n_estimators=70; total time=   0.7s\n",
      "[CV 1/5; 28/210] START max_depth=2, max_features=7, n_estimators=75.............\n",
      "[CV 1/5; 28/210] END max_depth=2, max_features=7, n_estimators=75; total time=   0.7s\n",
      "[CV 2/5; 28/210] START max_depth=2, max_features=7, n_estimators=75.............\n",
      "[CV 2/5; 28/210] END max_depth=2, max_features=7, n_estimators=75; total time=   0.8s\n",
      "[CV 3/5; 28/210] START max_depth=2, max_features=7, n_estimators=75.............\n",
      "[CV 3/5; 28/210] END max_depth=2, max_features=7, n_estimators=75; total time=   0.7s\n",
      "[CV 4/5; 28/210] START max_depth=2, max_features=7, n_estimators=75.............\n",
      "[CV 4/5; 28/210] END max_depth=2, max_features=7, n_estimators=75; total time=   0.7s\n",
      "[CV 5/5; 28/210] START max_depth=2, max_features=7, n_estimators=75.............\n",
      "[CV 5/5; 28/210] END max_depth=2, max_features=7, n_estimators=75; total time=   0.7s\n",
      "[CV 1/5; 29/210] START max_depth=2, max_features=9, n_estimators=10.............\n",
      "[CV 1/5; 29/210] END max_depth=2, max_features=9, n_estimators=10; total time=   0.1s\n",
      "[CV 2/5; 29/210] START max_depth=2, max_features=9, n_estimators=10.............\n",
      "[CV 2/5; 29/210] END max_depth=2, max_features=9, n_estimators=10; total time=   0.1s\n",
      "[CV 3/5; 29/210] START max_depth=2, max_features=9, n_estimators=10.............\n",
      "[CV 3/5; 29/210] END max_depth=2, max_features=9, n_estimators=10; total time=   0.1s\n",
      "[CV 4/5; 29/210] START max_depth=2, max_features=9, n_estimators=10.............\n",
      "[CV 4/5; 29/210] END max_depth=2, max_features=9, n_estimators=10; total time=   0.2s\n",
      "[CV 5/5; 29/210] START max_depth=2, max_features=9, n_estimators=10.............\n",
      "[CV 5/5; 29/210] END max_depth=2, max_features=9, n_estimators=10; total time=   0.1s\n",
      "[CV 1/5; 30/210] START max_depth=2, max_features=9, n_estimators=15.............\n",
      "[CV 1/5; 30/210] END max_depth=2, max_features=9, n_estimators=15; total time=   0.2s\n",
      "[CV 2/5; 30/210] START max_depth=2, max_features=9, n_estimators=15.............\n",
      "[CV 2/5; 30/210] END max_depth=2, max_features=9, n_estimators=15; total time=   0.2s\n",
      "[CV 3/5; 30/210] START max_depth=2, max_features=9, n_estimators=15.............\n",
      "[CV 3/5; 30/210] END max_depth=2, max_features=9, n_estimators=15; total time=   0.3s\n",
      "[CV 4/5; 30/210] START max_depth=2, max_features=9, n_estimators=15.............\n",
      "[CV 4/5; 30/210] END max_depth=2, max_features=9, n_estimators=15; total time=   0.2s\n",
      "[CV 5/5; 30/210] START max_depth=2, max_features=9, n_estimators=15.............\n",
      "[CV 5/5; 30/210] END max_depth=2, max_features=9, n_estimators=15; total time=   0.2s\n",
      "[CV 1/5; 31/210] START max_depth=2, max_features=9, n_estimators=20.............\n",
      "[CV 1/5; 31/210] END max_depth=2, max_features=9, n_estimators=20; total time=   0.3s\n",
      "[CV 2/5; 31/210] START max_depth=2, max_features=9, n_estimators=20.............\n",
      "[CV 2/5; 31/210] END max_depth=2, max_features=9, n_estimators=20; total time=   0.3s\n",
      "[CV 3/5; 31/210] START max_depth=2, max_features=9, n_estimators=20.............\n",
      "[CV 3/5; 31/210] END max_depth=2, max_features=9, n_estimators=20; total time=   0.2s\n",
      "[CV 4/5; 31/210] START max_depth=2, max_features=9, n_estimators=20.............\n",
      "[CV 4/5; 31/210] END max_depth=2, max_features=9, n_estimators=20; total time=   0.3s\n",
      "[CV 5/5; 31/210] START max_depth=2, max_features=9, n_estimators=20.............\n",
      "[CV 5/5; 31/210] END max_depth=2, max_features=9, n_estimators=20; total time=   0.3s\n",
      "[CV 1/5; 32/210] START max_depth=2, max_features=9, n_estimators=25.............\n",
      "[CV 1/5; 32/210] END max_depth=2, max_features=9, n_estimators=25; total time=   0.3s\n",
      "[CV 2/5; 32/210] START max_depth=2, max_features=9, n_estimators=25.............\n",
      "[CV 2/5; 32/210] END max_depth=2, max_features=9, n_estimators=25; total time=   0.3s\n",
      "[CV 3/5; 32/210] START max_depth=2, max_features=9, n_estimators=25.............\n",
      "[CV 3/5; 32/210] END max_depth=2, max_features=9, n_estimators=25; total time=   0.3s\n",
      "[CV 4/5; 32/210] START max_depth=2, max_features=9, n_estimators=25.............\n",
      "[CV 4/5; 32/210] END max_depth=2, max_features=9, n_estimators=25; total time=   0.3s\n",
      "[CV 5/5; 32/210] START max_depth=2, max_features=9, n_estimators=25.............\n",
      "[CV 5/5; 32/210] END max_depth=2, max_features=9, n_estimators=25; total time=   0.3s\n",
      "[CV 1/5; 33/210] START max_depth=2, max_features=9, n_estimators=30.............\n",
      "[CV 1/5; 33/210] END max_depth=2, max_features=9, n_estimators=30; total time=   0.4s\n",
      "[CV 2/5; 33/210] START max_depth=2, max_features=9, n_estimators=30.............\n",
      "[CV 2/5; 33/210] END max_depth=2, max_features=9, n_estimators=30; total time=   0.4s\n",
      "[CV 3/5; 33/210] START max_depth=2, max_features=9, n_estimators=30.............\n",
      "[CV 3/5; 33/210] END max_depth=2, max_features=9, n_estimators=30; total time=   0.4s\n",
      "[CV 4/5; 33/210] START max_depth=2, max_features=9, n_estimators=30.............\n",
      "[CV 4/5; 33/210] END max_depth=2, max_features=9, n_estimators=30; total time=   0.4s\n",
      "[CV 5/5; 33/210] START max_depth=2, max_features=9, n_estimators=30.............\n",
      "[CV 5/5; 33/210] END max_depth=2, max_features=9, n_estimators=30; total time=   0.4s\n",
      "[CV 1/5; 34/210] START max_depth=2, max_features=9, n_estimators=35.............\n",
      "[CV 1/5; 34/210] END max_depth=2, max_features=9, n_estimators=35; total time=   0.4s\n",
      "[CV 2/5; 34/210] START max_depth=2, max_features=9, n_estimators=35.............\n",
      "[CV 2/5; 34/210] END max_depth=2, max_features=9, n_estimators=35; total time=   0.4s\n",
      "[CV 3/5; 34/210] START max_depth=2, max_features=9, n_estimators=35.............\n",
      "[CV 3/5; 34/210] END max_depth=2, max_features=9, n_estimators=35; total time=   0.4s\n",
      "[CV 4/5; 34/210] START max_depth=2, max_features=9, n_estimators=35.............\n",
      "[CV 4/5; 34/210] END max_depth=2, max_features=9, n_estimators=35; total time=   0.4s\n",
      "[CV 5/5; 34/210] START max_depth=2, max_features=9, n_estimators=35.............\n",
      "[CV 5/5; 34/210] END max_depth=2, max_features=9, n_estimators=35; total time=   0.4s\n",
      "[CV 1/5; 35/210] START max_depth=2, max_features=9, n_estimators=40.............\n",
      "[CV 1/5; 35/210] END max_depth=2, max_features=9, n_estimators=40; total time=   0.5s\n",
      "[CV 2/5; 35/210] START max_depth=2, max_features=9, n_estimators=40.............\n",
      "[CV 2/5; 35/210] END max_depth=2, max_features=9, n_estimators=40; total time=   0.5s\n",
      "[CV 3/5; 35/210] START max_depth=2, max_features=9, n_estimators=40.............\n",
      "[CV 3/5; 35/210] END max_depth=2, max_features=9, n_estimators=40; total time=   0.5s\n",
      "[CV 4/5; 35/210] START max_depth=2, max_features=9, n_estimators=40.............\n",
      "[CV 4/5; 35/210] END max_depth=2, max_features=9, n_estimators=40; total time=   0.5s\n",
      "[CV 5/5; 35/210] START max_depth=2, max_features=9, n_estimators=40.............\n",
      "[CV 5/5; 35/210] END max_depth=2, max_features=9, n_estimators=40; total time=   0.5s\n",
      "[CV 1/5; 36/210] START max_depth=2, max_features=9, n_estimators=45.............\n",
      "[CV 1/5; 36/210] END max_depth=2, max_features=9, n_estimators=45; total time=   0.5s\n",
      "[CV 2/5; 36/210] START max_depth=2, max_features=9, n_estimators=45.............\n",
      "[CV 2/5; 36/210] END max_depth=2, max_features=9, n_estimators=45; total time=   0.5s\n",
      "[CV 3/5; 36/210] START max_depth=2, max_features=9, n_estimators=45.............\n",
      "[CV 3/5; 36/210] END max_depth=2, max_features=9, n_estimators=45; total time=   0.5s\n",
      "[CV 4/5; 36/210] START max_depth=2, max_features=9, n_estimators=45.............\n",
      "[CV 4/5; 36/210] END max_depth=2, max_features=9, n_estimators=45; total time=   0.5s\n",
      "[CV 5/5; 36/210] START max_depth=2, max_features=9, n_estimators=45.............\n",
      "[CV 5/5; 36/210] END max_depth=2, max_features=9, n_estimators=45; total time=   0.5s\n",
      "[CV 1/5; 37/210] START max_depth=2, max_features=9, n_estimators=50.............\n",
      "[CV 1/5; 37/210] END max_depth=2, max_features=9, n_estimators=50; total time=   0.6s\n",
      "[CV 2/5; 37/210] START max_depth=2, max_features=9, n_estimators=50.............\n",
      "[CV 2/5; 37/210] END max_depth=2, max_features=9, n_estimators=50; total time=   0.6s\n",
      "[CV 3/5; 37/210] START max_depth=2, max_features=9, n_estimators=50.............\n",
      "[CV 3/5; 37/210] END max_depth=2, max_features=9, n_estimators=50; total time=   0.6s\n",
      "[CV 4/5; 37/210] START max_depth=2, max_features=9, n_estimators=50.............\n",
      "[CV 4/5; 37/210] END max_depth=2, max_features=9, n_estimators=50; total time=   0.6s\n",
      "[CV 5/5; 37/210] START max_depth=2, max_features=9, n_estimators=50.............\n",
      "[CV 5/5; 37/210] END max_depth=2, max_features=9, n_estimators=50; total time=   0.6s\n",
      "[CV 1/5; 38/210] START max_depth=2, max_features=9, n_estimators=55.............\n",
      "[CV 1/5; 38/210] END max_depth=2, max_features=9, n_estimators=55; total time=   0.6s\n",
      "[CV 2/5; 38/210] START max_depth=2, max_features=9, n_estimators=55.............\n",
      "[CV 2/5; 38/210] END max_depth=2, max_features=9, n_estimators=55; total time=   0.6s\n",
      "[CV 3/5; 38/210] START max_depth=2, max_features=9, n_estimators=55.............\n",
      "[CV 3/5; 38/210] END max_depth=2, max_features=9, n_estimators=55; total time=   0.6s\n",
      "[CV 4/5; 38/210] START max_depth=2, max_features=9, n_estimators=55.............\n",
      "[CV 4/5; 38/210] END max_depth=2, max_features=9, n_estimators=55; total time=   0.6s\n",
      "[CV 5/5; 38/210] START max_depth=2, max_features=9, n_estimators=55.............\n",
      "[CV 5/5; 38/210] END max_depth=2, max_features=9, n_estimators=55; total time=   0.7s\n",
      "[CV 1/5; 39/210] START max_depth=2, max_features=9, n_estimators=60.............\n",
      "[CV 1/5; 39/210] END max_depth=2, max_features=9, n_estimators=60; total time=   0.7s\n",
      "[CV 2/5; 39/210] START max_depth=2, max_features=9, n_estimators=60.............\n",
      "[CV 2/5; 39/210] END max_depth=2, max_features=9, n_estimators=60; total time=   0.7s\n",
      "[CV 3/5; 39/210] START max_depth=2, max_features=9, n_estimators=60.............\n",
      "[CV 3/5; 39/210] END max_depth=2, max_features=9, n_estimators=60; total time=   0.7s\n",
      "[CV 4/5; 39/210] START max_depth=2, max_features=9, n_estimators=60.............\n",
      "[CV 4/5; 39/210] END max_depth=2, max_features=9, n_estimators=60; total time=   0.7s\n",
      "[CV 5/5; 39/210] START max_depth=2, max_features=9, n_estimators=60.............\n",
      "[CV 5/5; 39/210] END max_depth=2, max_features=9, n_estimators=60; total time=   0.7s\n",
      "[CV 1/5; 40/210] START max_depth=2, max_features=9, n_estimators=65.............\n",
      "[CV 1/5; 40/210] END max_depth=2, max_features=9, n_estimators=65; total time=   0.8s\n",
      "[CV 2/5; 40/210] START max_depth=2, max_features=9, n_estimators=65.............\n",
      "[CV 2/5; 40/210] END max_depth=2, max_features=9, n_estimators=65; total time=   0.8s\n",
      "[CV 3/5; 40/210] START max_depth=2, max_features=9, n_estimators=65.............\n",
      "[CV 3/5; 40/210] END max_depth=2, max_features=9, n_estimators=65; total time=   0.7s\n",
      "[CV 4/5; 40/210] START max_depth=2, max_features=9, n_estimators=65.............\n",
      "[CV 4/5; 40/210] END max_depth=2, max_features=9, n_estimators=65; total time=   0.7s\n",
      "[CV 5/5; 40/210] START max_depth=2, max_features=9, n_estimators=65.............\n",
      "[CV 5/5; 40/210] END max_depth=2, max_features=9, n_estimators=65; total time=   0.7s\n",
      "[CV 1/5; 41/210] START max_depth=2, max_features=9, n_estimators=70.............\n",
      "[CV 1/5; 41/210] END max_depth=2, max_features=9, n_estimators=70; total time=   0.8s\n",
      "[CV 2/5; 41/210] START max_depth=2, max_features=9, n_estimators=70.............\n",
      "[CV 2/5; 41/210] END max_depth=2, max_features=9, n_estimators=70; total time=   0.8s\n",
      "[CV 3/5; 41/210] START max_depth=2, max_features=9, n_estimators=70.............\n",
      "[CV 3/5; 41/210] END max_depth=2, max_features=9, n_estimators=70; total time=   0.8s\n",
      "[CV 4/5; 41/210] START max_depth=2, max_features=9, n_estimators=70.............\n",
      "[CV 4/5; 41/210] END max_depth=2, max_features=9, n_estimators=70; total time=   0.8s\n",
      "[CV 5/5; 41/210] START max_depth=2, max_features=9, n_estimators=70.............\n",
      "[CV 5/5; 41/210] END max_depth=2, max_features=9, n_estimators=70; total time=   0.8s\n",
      "[CV 1/5; 42/210] START max_depth=2, max_features=9, n_estimators=75.............\n",
      "[CV 1/5; 42/210] END max_depth=2, max_features=9, n_estimators=75; total time=   0.9s\n",
      "[CV 2/5; 42/210] START max_depth=2, max_features=9, n_estimators=75.............\n",
      "[CV 2/5; 42/210] END max_depth=2, max_features=9, n_estimators=75; total time=   0.9s\n",
      "[CV 3/5; 42/210] START max_depth=2, max_features=9, n_estimators=75.............\n",
      "[CV 3/5; 42/210] END max_depth=2, max_features=9, n_estimators=75; total time=   1.0s\n",
      "[CV 4/5; 42/210] START max_depth=2, max_features=9, n_estimators=75.............\n",
      "[CV 4/5; 42/210] END max_depth=2, max_features=9, n_estimators=75; total time=   0.9s\n",
      "[CV 5/5; 42/210] START max_depth=2, max_features=9, n_estimators=75.............\n",
      "[CV 5/5; 42/210] END max_depth=2, max_features=9, n_estimators=75; total time=   0.9s\n",
      "[CV 1/5; 43/210] START max_depth=4, max_features=5, n_estimators=10.............\n",
      "[CV 1/5; 43/210] END max_depth=4, max_features=5, n_estimators=10; total time=   0.1s\n",
      "[CV 2/5; 43/210] START max_depth=4, max_features=5, n_estimators=10.............\n",
      "[CV 2/5; 43/210] END max_depth=4, max_features=5, n_estimators=10; total time=   0.1s\n",
      "[CV 3/5; 43/210] START max_depth=4, max_features=5, n_estimators=10.............\n",
      "[CV 3/5; 43/210] END max_depth=4, max_features=5, n_estimators=10; total time=   0.2s\n",
      "[CV 4/5; 43/210] START max_depth=4, max_features=5, n_estimators=10.............\n",
      "[CV 4/5; 43/210] END max_depth=4, max_features=5, n_estimators=10; total time=   0.2s\n",
      "[CV 5/5; 43/210] START max_depth=4, max_features=5, n_estimators=10.............\n",
      "[CV 5/5; 43/210] END max_depth=4, max_features=5, n_estimators=10; total time=   0.2s\n",
      "[CV 1/5; 44/210] START max_depth=4, max_features=5, n_estimators=15.............\n",
      "[CV 1/5; 44/210] END max_depth=4, max_features=5, n_estimators=15; total time=   0.3s\n",
      "[CV 2/5; 44/210] START max_depth=4, max_features=5, n_estimators=15.............\n",
      "[CV 2/5; 44/210] END max_depth=4, max_features=5, n_estimators=15; total time=   0.2s\n",
      "[CV 3/5; 44/210] START max_depth=4, max_features=5, n_estimators=15.............\n",
      "[CV 3/5; 44/210] END max_depth=4, max_features=5, n_estimators=15; total time=   0.2s\n",
      "[CV 4/5; 44/210] START max_depth=4, max_features=5, n_estimators=15.............\n",
      "[CV 4/5; 44/210] END max_depth=4, max_features=5, n_estimators=15; total time=   0.2s\n",
      "[CV 5/5; 44/210] START max_depth=4, max_features=5, n_estimators=15.............\n",
      "[CV 5/5; 44/210] END max_depth=4, max_features=5, n_estimators=15; total time=   0.2s\n",
      "[CV 1/5; 45/210] START max_depth=4, max_features=5, n_estimators=20.............\n",
      "[CV 1/5; 45/210] END max_depth=4, max_features=5, n_estimators=20; total time=   0.3s\n",
      "[CV 2/5; 45/210] START max_depth=4, max_features=5, n_estimators=20.............\n",
      "[CV 2/5; 45/210] END max_depth=4, max_features=5, n_estimators=20; total time=   0.3s\n",
      "[CV 3/5; 45/210] START max_depth=4, max_features=5, n_estimators=20.............\n",
      "[CV 3/5; 45/210] END max_depth=4, max_features=5, n_estimators=20; total time=   0.3s\n",
      "[CV 4/5; 45/210] START max_depth=4, max_features=5, n_estimators=20.............\n",
      "[CV 4/5; 45/210] END max_depth=4, max_features=5, n_estimators=20; total time=   0.3s\n",
      "[CV 5/5; 45/210] START max_depth=4, max_features=5, n_estimators=20.............\n",
      "[CV 5/5; 45/210] END max_depth=4, max_features=5, n_estimators=20; total time=   0.3s\n",
      "[CV 1/5; 46/210] START max_depth=4, max_features=5, n_estimators=25.............\n",
      "[CV 1/5; 46/210] END max_depth=4, max_features=5, n_estimators=25; total time=   0.3s\n",
      "[CV 2/5; 46/210] START max_depth=4, max_features=5, n_estimators=25.............\n",
      "[CV 2/5; 46/210] END max_depth=4, max_features=5, n_estimators=25; total time=   0.3s\n",
      "[CV 3/5; 46/210] START max_depth=4, max_features=5, n_estimators=25.............\n",
      "[CV 3/5; 46/210] END max_depth=4, max_features=5, n_estimators=25; total time=   0.3s\n",
      "[CV 4/5; 46/210] START max_depth=4, max_features=5, n_estimators=25.............\n",
      "[CV 4/5; 46/210] END max_depth=4, max_features=5, n_estimators=25; total time=   0.4s\n",
      "[CV 5/5; 46/210] START max_depth=4, max_features=5, n_estimators=25.............\n",
      "[CV 5/5; 46/210] END max_depth=4, max_features=5, n_estimators=25; total time=   0.3s\n",
      "[CV 1/5; 47/210] START max_depth=4, max_features=5, n_estimators=30.............\n",
      "[CV 1/5; 47/210] END max_depth=4, max_features=5, n_estimators=30; total time=   0.4s\n",
      "[CV 2/5; 47/210] START max_depth=4, max_features=5, n_estimators=30.............\n",
      "[CV 2/5; 47/210] END max_depth=4, max_features=5, n_estimators=30; total time=   0.4s\n",
      "[CV 3/5; 47/210] START max_depth=4, max_features=5, n_estimators=30.............\n",
      "[CV 3/5; 47/210] END max_depth=4, max_features=5, n_estimators=30; total time=   0.4s\n",
      "[CV 4/5; 47/210] START max_depth=4, max_features=5, n_estimators=30.............\n",
      "[CV 4/5; 47/210] END max_depth=4, max_features=5, n_estimators=30; total time=   0.4s\n",
      "[CV 5/5; 47/210] START max_depth=4, max_features=5, n_estimators=30.............\n",
      "[CV 5/5; 47/210] END max_depth=4, max_features=5, n_estimators=30; total time=   0.4s\n",
      "[CV 1/5; 48/210] START max_depth=4, max_features=5, n_estimators=35.............\n",
      "[CV 1/5; 48/210] END max_depth=4, max_features=5, n_estimators=35; total time=   0.5s\n",
      "[CV 2/5; 48/210] START max_depth=4, max_features=5, n_estimators=35.............\n",
      "[CV 2/5; 48/210] END max_depth=4, max_features=5, n_estimators=35; total time=   0.4s\n",
      "[CV 3/5; 48/210] START max_depth=4, max_features=5, n_estimators=35.............\n",
      "[CV 3/5; 48/210] END max_depth=4, max_features=5, n_estimators=35; total time=   0.5s\n",
      "[CV 4/5; 48/210] START max_depth=4, max_features=5, n_estimators=35.............\n",
      "[CV 4/5; 48/210] END max_depth=4, max_features=5, n_estimators=35; total time=   0.4s\n",
      "[CV 5/5; 48/210] START max_depth=4, max_features=5, n_estimators=35.............\n",
      "[CV 5/5; 48/210] END max_depth=4, max_features=5, n_estimators=35; total time=   0.4s\n",
      "[CV 1/5; 49/210] START max_depth=4, max_features=5, n_estimators=40.............\n",
      "[CV 1/5; 49/210] END max_depth=4, max_features=5, n_estimators=40; total time=   0.5s\n",
      "[CV 2/5; 49/210] START max_depth=4, max_features=5, n_estimators=40.............\n",
      "[CV 2/5; 49/210] END max_depth=4, max_features=5, n_estimators=40; total time=   0.5s\n",
      "[CV 3/5; 49/210] START max_depth=4, max_features=5, n_estimators=40.............\n",
      "[CV 3/5; 49/210] END max_depth=4, max_features=5, n_estimators=40; total time=   0.5s\n",
      "[CV 4/5; 49/210] START max_depth=4, max_features=5, n_estimators=40.............\n",
      "[CV 4/5; 49/210] END max_depth=4, max_features=5, n_estimators=40; total time=   0.5s\n",
      "[CV 5/5; 49/210] START max_depth=4, max_features=5, n_estimators=40.............\n",
      "[CV 5/5; 49/210] END max_depth=4, max_features=5, n_estimators=40; total time=   0.5s\n",
      "[CV 1/5; 50/210] START max_depth=4, max_features=5, n_estimators=45.............\n",
      "[CV 1/5; 50/210] END max_depth=4, max_features=5, n_estimators=45; total time=   0.6s\n",
      "[CV 2/5; 50/210] START max_depth=4, max_features=5, n_estimators=45.............\n",
      "[CV 2/5; 50/210] END max_depth=4, max_features=5, n_estimators=45; total time=   0.6s\n",
      "[CV 3/5; 50/210] START max_depth=4, max_features=5, n_estimators=45.............\n",
      "[CV 3/5; 50/210] END max_depth=4, max_features=5, n_estimators=45; total time=   0.6s\n",
      "[CV 4/5; 50/210] START max_depth=4, max_features=5, n_estimators=45.............\n",
      "[CV 4/5; 50/210] END max_depth=4, max_features=5, n_estimators=45; total time=   0.6s\n",
      "[CV 5/5; 50/210] START max_depth=4, max_features=5, n_estimators=45.............\n",
      "[CV 5/5; 50/210] END max_depth=4, max_features=5, n_estimators=45; total time=   0.6s\n",
      "[CV 1/5; 51/210] START max_depth=4, max_features=5, n_estimators=50.............\n",
      "[CV 1/5; 51/210] END max_depth=4, max_features=5, n_estimators=50; total time=   0.6s\n",
      "[CV 2/5; 51/210] START max_depth=4, max_features=5, n_estimators=50.............\n",
      "[CV 2/5; 51/210] END max_depth=4, max_features=5, n_estimators=50; total time=   0.7s\n",
      "[CV 3/5; 51/210] START max_depth=4, max_features=5, n_estimators=50.............\n",
      "[CV 3/5; 51/210] END max_depth=4, max_features=5, n_estimators=50; total time=   0.7s\n",
      "[CV 4/5; 51/210] START max_depth=4, max_features=5, n_estimators=50.............\n",
      "[CV 4/5; 51/210] END max_depth=4, max_features=5, n_estimators=50; total time=   0.7s\n",
      "[CV 5/5; 51/210] START max_depth=4, max_features=5, n_estimators=50.............\n",
      "[CV 5/5; 51/210] END max_depth=4, max_features=5, n_estimators=50; total time=   0.7s\n",
      "[CV 1/5; 52/210] START max_depth=4, max_features=5, n_estimators=55.............\n",
      "[CV 1/5; 52/210] END max_depth=4, max_features=5, n_estimators=55; total time=   1.0s\n",
      "[CV 2/5; 52/210] START max_depth=4, max_features=5, n_estimators=55.............\n",
      "[CV 2/5; 52/210] END max_depth=4, max_features=5, n_estimators=55; total time=   0.7s\n",
      "[CV 3/5; 52/210] START max_depth=4, max_features=5, n_estimators=55.............\n",
      "[CV 3/5; 52/210] END max_depth=4, max_features=5, n_estimators=55; total time=   0.7s\n",
      "[CV 4/5; 52/210] START max_depth=4, max_features=5, n_estimators=55.............\n",
      "[CV 4/5; 52/210] END max_depth=4, max_features=5, n_estimators=55; total time=   0.7s\n",
      "[CV 5/5; 52/210] START max_depth=4, max_features=5, n_estimators=55.............\n",
      "[CV 5/5; 52/210] END max_depth=4, max_features=5, n_estimators=55; total time=   0.7s\n",
      "[CV 1/5; 53/210] START max_depth=4, max_features=5, n_estimators=60.............\n",
      "[CV 1/5; 53/210] END max_depth=4, max_features=5, n_estimators=60; total time=   0.8s\n",
      "[CV 2/5; 53/210] START max_depth=4, max_features=5, n_estimators=60.............\n",
      "[CV 2/5; 53/210] END max_depth=4, max_features=5, n_estimators=60; total time=   0.7s\n",
      "[CV 3/5; 53/210] START max_depth=4, max_features=5, n_estimators=60.............\n",
      "[CV 3/5; 53/210] END max_depth=4, max_features=5, n_estimators=60; total time=   0.7s\n",
      "[CV 4/5; 53/210] START max_depth=4, max_features=5, n_estimators=60.............\n",
      "[CV 4/5; 53/210] END max_depth=4, max_features=5, n_estimators=60; total time=   0.8s\n",
      "[CV 5/5; 53/210] START max_depth=4, max_features=5, n_estimators=60.............\n",
      "[CV 5/5; 53/210] END max_depth=4, max_features=5, n_estimators=60; total time=   0.7s\n",
      "[CV 1/5; 54/210] START max_depth=4, max_features=5, n_estimators=65.............\n",
      "[CV 1/5; 54/210] END max_depth=4, max_features=5, n_estimators=65; total time=   0.8s\n",
      "[CV 2/5; 54/210] START max_depth=4, max_features=5, n_estimators=65.............\n",
      "[CV 2/5; 54/210] END max_depth=4, max_features=5, n_estimators=65; total time=   0.9s\n",
      "[CV 3/5; 54/210] START max_depth=4, max_features=5, n_estimators=65.............\n",
      "[CV 3/5; 54/210] END max_depth=4, max_features=5, n_estimators=65; total time=   1.2s\n",
      "[CV 4/5; 54/210] START max_depth=4, max_features=5, n_estimators=65.............\n",
      "[CV 4/5; 54/210] END max_depth=4, max_features=5, n_estimators=65; total time=   1.2s\n",
      "[CV 5/5; 54/210] START max_depth=4, max_features=5, n_estimators=65.............\n",
      "[CV 5/5; 54/210] END max_depth=4, max_features=5, n_estimators=65; total time=   0.8s\n",
      "[CV 1/5; 55/210] START max_depth=4, max_features=5, n_estimators=70.............\n",
      "[CV 1/5; 55/210] END max_depth=4, max_features=5, n_estimators=70; total time=   0.9s\n",
      "[CV 2/5; 55/210] START max_depth=4, max_features=5, n_estimators=70.............\n",
      "[CV 2/5; 55/210] END max_depth=4, max_features=5, n_estimators=70; total time=   0.9s\n",
      "[CV 3/5; 55/210] START max_depth=4, max_features=5, n_estimators=70.............\n",
      "[CV 3/5; 55/210] END max_depth=4, max_features=5, n_estimators=70; total time=   0.9s\n",
      "[CV 4/5; 55/210] START max_depth=4, max_features=5, n_estimators=70.............\n",
      "[CV 4/5; 55/210] END max_depth=4, max_features=5, n_estimators=70; total time=   0.9s\n",
      "[CV 5/5; 55/210] START max_depth=4, max_features=5, n_estimators=70.............\n",
      "[CV 5/5; 55/210] END max_depth=4, max_features=5, n_estimators=70; total time=   0.8s\n",
      "[CV 1/5; 56/210] START max_depth=4, max_features=5, n_estimators=75.............\n",
      "[CV 1/5; 56/210] END max_depth=4, max_features=5, n_estimators=75; total time=   0.9s\n",
      "[CV 2/5; 56/210] START max_depth=4, max_features=5, n_estimators=75.............\n",
      "[CV 2/5; 56/210] END max_depth=4, max_features=5, n_estimators=75; total time=   1.0s\n",
      "[CV 3/5; 56/210] START max_depth=4, max_features=5, n_estimators=75.............\n",
      "[CV 3/5; 56/210] END max_depth=4, max_features=5, n_estimators=75; total time=   0.9s\n",
      "[CV 4/5; 56/210] START max_depth=4, max_features=5, n_estimators=75.............\n",
      "[CV 4/5; 56/210] END max_depth=4, max_features=5, n_estimators=75; total time=   0.9s\n",
      "[CV 5/5; 56/210] START max_depth=4, max_features=5, n_estimators=75.............\n",
      "[CV 5/5; 56/210] END max_depth=4, max_features=5, n_estimators=75; total time=   0.9s\n",
      "[CV 1/5; 57/210] START max_depth=4, max_features=7, n_estimators=10.............\n",
      "[CV 1/5; 57/210] END max_depth=4, max_features=7, n_estimators=10; total time=   0.2s\n",
      "[CV 2/5; 57/210] START max_depth=4, max_features=7, n_estimators=10.............\n",
      "[CV 2/5; 57/210] END max_depth=4, max_features=7, n_estimators=10; total time=   0.2s\n",
      "[CV 3/5; 57/210] START max_depth=4, max_features=7, n_estimators=10.............\n",
      "[CV 3/5; 57/210] END max_depth=4, max_features=7, n_estimators=10; total time=   0.2s\n",
      "[CV 4/5; 57/210] START max_depth=4, max_features=7, n_estimators=10.............\n",
      "[CV 4/5; 57/210] END max_depth=4, max_features=7, n_estimators=10; total time=   0.2s\n",
      "[CV 5/5; 57/210] START max_depth=4, max_features=7, n_estimators=10.............\n",
      "[CV 5/5; 57/210] END max_depth=4, max_features=7, n_estimators=10; total time=   0.2s\n",
      "[CV 1/5; 58/210] START max_depth=4, max_features=7, n_estimators=15.............\n",
      "[CV 1/5; 58/210] END max_depth=4, max_features=7, n_estimators=15; total time=   0.3s\n",
      "[CV 2/5; 58/210] START max_depth=4, max_features=7, n_estimators=15.............\n",
      "[CV 2/5; 58/210] END max_depth=4, max_features=7, n_estimators=15; total time=   0.3s\n",
      "[CV 3/5; 58/210] START max_depth=4, max_features=7, n_estimators=15.............\n",
      "[CV 3/5; 58/210] END max_depth=4, max_features=7, n_estimators=15; total time=   0.3s\n",
      "[CV 4/5; 58/210] START max_depth=4, max_features=7, n_estimators=15.............\n",
      "[CV 4/5; 58/210] END max_depth=4, max_features=7, n_estimators=15; total time=   0.3s\n",
      "[CV 5/5; 58/210] START max_depth=4, max_features=7, n_estimators=15.............\n",
      "[CV 5/5; 58/210] END max_depth=4, max_features=7, n_estimators=15; total time=   0.3s\n",
      "[CV 1/5; 59/210] START max_depth=4, max_features=7, n_estimators=20.............\n",
      "[CV 1/5; 59/210] END max_depth=4, max_features=7, n_estimators=20; total time=   0.3s\n",
      "[CV 2/5; 59/210] START max_depth=4, max_features=7, n_estimators=20.............\n",
      "[CV 2/5; 59/210] END max_depth=4, max_features=7, n_estimators=20; total time=   0.3s\n",
      "[CV 3/5; 59/210] START max_depth=4, max_features=7, n_estimators=20.............\n",
      "[CV 3/5; 59/210] END max_depth=4, max_features=7, n_estimators=20; total time=   0.3s\n",
      "[CV 4/5; 59/210] START max_depth=4, max_features=7, n_estimators=20.............\n",
      "[CV 4/5; 59/210] END max_depth=4, max_features=7, n_estimators=20; total time=   0.3s\n",
      "[CV 5/5; 59/210] START max_depth=4, max_features=7, n_estimators=20.............\n",
      "[CV 5/5; 59/210] END max_depth=4, max_features=7, n_estimators=20; total time=   0.3s\n",
      "[CV 1/5; 60/210] START max_depth=4, max_features=7, n_estimators=25.............\n",
      "[CV 1/5; 60/210] END max_depth=4, max_features=7, n_estimators=25; total time=   0.4s\n",
      "[CV 2/5; 60/210] START max_depth=4, max_features=7, n_estimators=25.............\n",
      "[CV 2/5; 60/210] END max_depth=4, max_features=7, n_estimators=25; total time=   0.4s\n",
      "[CV 3/5; 60/210] START max_depth=4, max_features=7, n_estimators=25.............\n",
      "[CV 3/5; 60/210] END max_depth=4, max_features=7, n_estimators=25; total time=   0.4s\n",
      "[CV 4/5; 60/210] START max_depth=4, max_features=7, n_estimators=25.............\n",
      "[CV 4/5; 60/210] END max_depth=4, max_features=7, n_estimators=25; total time=   0.4s\n",
      "[CV 5/5; 60/210] START max_depth=4, max_features=7, n_estimators=25.............\n",
      "[CV 5/5; 60/210] END max_depth=4, max_features=7, n_estimators=25; total time=   0.4s\n",
      "[CV 1/5; 61/210] START max_depth=4, max_features=7, n_estimators=30.............\n",
      "[CV 1/5; 61/210] END max_depth=4, max_features=7, n_estimators=30; total time=   0.5s\n",
      "[CV 2/5; 61/210] START max_depth=4, max_features=7, n_estimators=30.............\n",
      "[CV 2/5; 61/210] END max_depth=4, max_features=7, n_estimators=30; total time=   0.6s\n",
      "[CV 3/5; 61/210] START max_depth=4, max_features=7, n_estimators=30.............\n",
      "[CV 3/5; 61/210] END max_depth=4, max_features=7, n_estimators=30; total time=   0.6s\n",
      "[CV 4/5; 61/210] START max_depth=4, max_features=7, n_estimators=30.............\n",
      "[CV 4/5; 61/210] END max_depth=4, max_features=7, n_estimators=30; total time=   0.6s\n",
      "[CV 5/5; 61/210] START max_depth=4, max_features=7, n_estimators=30.............\n",
      "[CV 5/5; 61/210] END max_depth=4, max_features=7, n_estimators=30; total time=   0.5s\n",
      "[CV 1/5; 62/210] START max_depth=4, max_features=7, n_estimators=35.............\n",
      "[CV 1/5; 62/210] END max_depth=4, max_features=7, n_estimators=35; total time=   0.6s\n",
      "[CV 2/5; 62/210] START max_depth=4, max_features=7, n_estimators=35.............\n",
      "[CV 2/5; 62/210] END max_depth=4, max_features=7, n_estimators=35; total time=   0.6s\n",
      "[CV 3/5; 62/210] START max_depth=4, max_features=7, n_estimators=35.............\n",
      "[CV 3/5; 62/210] END max_depth=4, max_features=7, n_estimators=35; total time=   0.6s\n",
      "[CV 4/5; 62/210] START max_depth=4, max_features=7, n_estimators=35.............\n",
      "[CV 4/5; 62/210] END max_depth=4, max_features=7, n_estimators=35; total time=   0.6s\n",
      "[CV 5/5; 62/210] START max_depth=4, max_features=7, n_estimators=35.............\n",
      "[CV 5/5; 62/210] END max_depth=4, max_features=7, n_estimators=35; total time=   0.6s\n",
      "[CV 1/5; 63/210] START max_depth=4, max_features=7, n_estimators=40.............\n",
      "[CV 1/5; 63/210] END max_depth=4, max_features=7, n_estimators=40; total time=   0.7s\n",
      "[CV 2/5; 63/210] START max_depth=4, max_features=7, n_estimators=40.............\n",
      "[CV 2/5; 63/210] END max_depth=4, max_features=7, n_estimators=40; total time=   0.7s\n",
      "[CV 3/5; 63/210] START max_depth=4, max_features=7, n_estimators=40.............\n",
      "[CV 3/5; 63/210] END max_depth=4, max_features=7, n_estimators=40; total time=   0.7s\n",
      "[CV 4/5; 63/210] START max_depth=4, max_features=7, n_estimators=40.............\n",
      "[CV 4/5; 63/210] END max_depth=4, max_features=7, n_estimators=40; total time=   0.7s\n",
      "[CV 5/5; 63/210] START max_depth=4, max_features=7, n_estimators=40.............\n",
      "[CV 5/5; 63/210] END max_depth=4, max_features=7, n_estimators=40; total time=   0.7s\n",
      "[CV 1/5; 64/210] START max_depth=4, max_features=7, n_estimators=45.............\n",
      "[CV 1/5; 64/210] END max_depth=4, max_features=7, n_estimators=45; total time=   0.8s\n",
      "[CV 2/5; 64/210] START max_depth=4, max_features=7, n_estimators=45.............\n",
      "[CV 2/5; 64/210] END max_depth=4, max_features=7, n_estimators=45; total time=   0.8s\n",
      "[CV 3/5; 64/210] START max_depth=4, max_features=7, n_estimators=45.............\n",
      "[CV 3/5; 64/210] END max_depth=4, max_features=7, n_estimators=45; total time=   0.8s\n",
      "[CV 4/5; 64/210] START max_depth=4, max_features=7, n_estimators=45.............\n",
      "[CV 4/5; 64/210] END max_depth=4, max_features=7, n_estimators=45; total time=   0.9s\n",
      "[CV 5/5; 64/210] START max_depth=4, max_features=7, n_estimators=45.............\n",
      "[CV 5/5; 64/210] END max_depth=4, max_features=7, n_estimators=45; total time=   0.8s\n",
      "[CV 1/5; 65/210] START max_depth=4, max_features=7, n_estimators=50.............\n",
      "[CV 1/5; 65/210] END max_depth=4, max_features=7, n_estimators=50; total time=   0.8s\n",
      "[CV 2/5; 65/210] START max_depth=4, max_features=7, n_estimators=50.............\n",
      "[CV 2/5; 65/210] END max_depth=4, max_features=7, n_estimators=50; total time=   0.8s\n",
      "[CV 3/5; 65/210] START max_depth=4, max_features=7, n_estimators=50.............\n",
      "[CV 3/5; 65/210] END max_depth=4, max_features=7, n_estimators=50; total time=   0.8s\n",
      "[CV 4/5; 65/210] START max_depth=4, max_features=7, n_estimators=50.............\n",
      "[CV 4/5; 65/210] END max_depth=4, max_features=7, n_estimators=50; total time=   0.8s\n",
      "[CV 5/5; 65/210] START max_depth=4, max_features=7, n_estimators=50.............\n",
      "[CV 5/5; 65/210] END max_depth=4, max_features=7, n_estimators=50; total time=   0.9s\n",
      "[CV 1/5; 66/210] START max_depth=4, max_features=7, n_estimators=55.............\n",
      "[CV 1/5; 66/210] END max_depth=4, max_features=7, n_estimators=55; total time=   0.9s\n",
      "[CV 2/5; 66/210] START max_depth=4, max_features=7, n_estimators=55.............\n",
      "[CV 2/5; 66/210] END max_depth=4, max_features=7, n_estimators=55; total time=   0.9s\n",
      "[CV 3/5; 66/210] START max_depth=4, max_features=7, n_estimators=55.............\n",
      "[CV 3/5; 66/210] END max_depth=4, max_features=7, n_estimators=55; total time=   0.9s\n",
      "[CV 4/5; 66/210] START max_depth=4, max_features=7, n_estimators=55.............\n",
      "[CV 4/5; 66/210] END max_depth=4, max_features=7, n_estimators=55; total time=   0.9s\n",
      "[CV 5/5; 66/210] START max_depth=4, max_features=7, n_estimators=55.............\n",
      "[CV 5/5; 66/210] END max_depth=4, max_features=7, n_estimators=55; total time=   0.9s\n",
      "[CV 1/5; 67/210] START max_depth=4, max_features=7, n_estimators=60.............\n",
      "[CV 1/5; 67/210] END max_depth=4, max_features=7, n_estimators=60; total time=   1.0s\n",
      "[CV 2/5; 67/210] START max_depth=4, max_features=7, n_estimators=60.............\n",
      "[CV 2/5; 67/210] END max_depth=4, max_features=7, n_estimators=60; total time=   1.0s\n",
      "[CV 3/5; 67/210] START max_depth=4, max_features=7, n_estimators=60.............\n",
      "[CV 3/5; 67/210] END max_depth=4, max_features=7, n_estimators=60; total time=   1.1s\n",
      "[CV 4/5; 67/210] START max_depth=4, max_features=7, n_estimators=60.............\n",
      "[CV 4/5; 67/210] END max_depth=4, max_features=7, n_estimators=60; total time=   1.0s\n",
      "[CV 5/5; 67/210] START max_depth=4, max_features=7, n_estimators=60.............\n",
      "[CV 5/5; 67/210] END max_depth=4, max_features=7, n_estimators=60; total time=   1.0s\n",
      "[CV 1/5; 68/210] START max_depth=4, max_features=7, n_estimators=65.............\n",
      "[CV 1/5; 68/210] END max_depth=4, max_features=7, n_estimators=65; total time=   1.1s\n",
      "[CV 2/5; 68/210] START max_depth=4, max_features=7, n_estimators=65.............\n",
      "[CV 2/5; 68/210] END max_depth=4, max_features=7, n_estimators=65; total time=   1.1s\n",
      "[CV 3/5; 68/210] START max_depth=4, max_features=7, n_estimators=65.............\n",
      "[CV 3/5; 68/210] END max_depth=4, max_features=7, n_estimators=65; total time=   1.2s\n",
      "[CV 4/5; 68/210] START max_depth=4, max_features=7, n_estimators=65.............\n",
      "[CV 4/5; 68/210] END max_depth=4, max_features=7, n_estimators=65; total time=   1.2s\n",
      "[CV 5/5; 68/210] START max_depth=4, max_features=7, n_estimators=65.............\n",
      "[CV 5/5; 68/210] END max_depth=4, max_features=7, n_estimators=65; total time=   1.2s\n",
      "[CV 1/5; 69/210] START max_depth=4, max_features=7, n_estimators=70.............\n",
      "[CV 1/5; 69/210] END max_depth=4, max_features=7, n_estimators=70; total time=   1.2s\n",
      "[CV 2/5; 69/210] START max_depth=4, max_features=7, n_estimators=70.............\n",
      "[CV 2/5; 69/210] END max_depth=4, max_features=7, n_estimators=70; total time=   1.2s\n",
      "[CV 3/5; 69/210] START max_depth=4, max_features=7, n_estimators=70.............\n",
      "[CV 3/5; 69/210] END max_depth=4, max_features=7, n_estimators=70; total time=   1.1s\n",
      "[CV 4/5; 69/210] START max_depth=4, max_features=7, n_estimators=70.............\n",
      "[CV 4/5; 69/210] END max_depth=4, max_features=7, n_estimators=70; total time=   1.2s\n",
      "[CV 5/5; 69/210] START max_depth=4, max_features=7, n_estimators=70.............\n",
      "[CV 5/5; 69/210] END max_depth=4, max_features=7, n_estimators=70; total time=   1.4s\n",
      "[CV 1/5; 70/210] START max_depth=4, max_features=7, n_estimators=75.............\n",
      "[CV 1/5; 70/210] END max_depth=4, max_features=7, n_estimators=75; total time=   1.6s\n",
      "[CV 2/5; 70/210] START max_depth=4, max_features=7, n_estimators=75.............\n",
      "[CV 2/5; 70/210] END max_depth=4, max_features=7, n_estimators=75; total time=   1.3s\n",
      "[CV 3/5; 70/210] START max_depth=4, max_features=7, n_estimators=75.............\n",
      "[CV 3/5; 70/210] END max_depth=4, max_features=7, n_estimators=75; total time=   1.3s\n",
      "[CV 4/5; 70/210] START max_depth=4, max_features=7, n_estimators=75.............\n",
      "[CV 4/5; 70/210] END max_depth=4, max_features=7, n_estimators=75; total time=   1.3s\n",
      "[CV 5/5; 70/210] START max_depth=4, max_features=7, n_estimators=75.............\n",
      "[CV 5/5; 70/210] END max_depth=4, max_features=7, n_estimators=75; total time=   1.3s\n",
      "[CV 1/5; 71/210] START max_depth=4, max_features=9, n_estimators=10.............\n",
      "[CV 1/5; 71/210] END max_depth=4, max_features=9, n_estimators=10; total time=   0.2s\n",
      "[CV 2/5; 71/210] START max_depth=4, max_features=9, n_estimators=10.............\n",
      "[CV 2/5; 71/210] END max_depth=4, max_features=9, n_estimators=10; total time=   0.2s\n",
      "[CV 3/5; 71/210] START max_depth=4, max_features=9, n_estimators=10.............\n",
      "[CV 3/5; 71/210] END max_depth=4, max_features=9, n_estimators=10; total time=   0.2s\n",
      "[CV 4/5; 71/210] START max_depth=4, max_features=9, n_estimators=10.............\n",
      "[CV 4/5; 71/210] END max_depth=4, max_features=9, n_estimators=10; total time=   0.2s\n",
      "[CV 5/5; 71/210] START max_depth=4, max_features=9, n_estimators=10.............\n",
      "[CV 5/5; 71/210] END max_depth=4, max_features=9, n_estimators=10; total time=   0.2s\n",
      "[CV 1/5; 72/210] START max_depth=4, max_features=9, n_estimators=15.............\n",
      "[CV 1/5; 72/210] END max_depth=4, max_features=9, n_estimators=15; total time=   0.3s\n",
      "[CV 2/5; 72/210] START max_depth=4, max_features=9, n_estimators=15.............\n",
      "[CV 2/5; 72/210] END max_depth=4, max_features=9, n_estimators=15; total time=   0.3s\n",
      "[CV 3/5; 72/210] START max_depth=4, max_features=9, n_estimators=15.............\n",
      "[CV 3/5; 72/210] END max_depth=4, max_features=9, n_estimators=15; total time=   0.3s\n",
      "[CV 4/5; 72/210] START max_depth=4, max_features=9, n_estimators=15.............\n",
      "[CV 4/5; 72/210] END max_depth=4, max_features=9, n_estimators=15; total time=   0.3s\n",
      "[CV 5/5; 72/210] START max_depth=4, max_features=9, n_estimators=15.............\n",
      "[CV 5/5; 72/210] END max_depth=4, max_features=9, n_estimators=15; total time=   0.3s\n",
      "[CV 1/5; 73/210] START max_depth=4, max_features=9, n_estimators=20.............\n",
      "[CV 1/5; 73/210] END max_depth=4, max_features=9, n_estimators=20; total time=   0.4s\n",
      "[CV 2/5; 73/210] START max_depth=4, max_features=9, n_estimators=20.............\n",
      "[CV 2/5; 73/210] END max_depth=4, max_features=9, n_estimators=20; total time=   0.4s\n",
      "[CV 3/5; 73/210] START max_depth=4, max_features=9, n_estimators=20.............\n",
      "[CV 3/5; 73/210] END max_depth=4, max_features=9, n_estimators=20; total time=   0.4s\n",
      "[CV 4/5; 73/210] START max_depth=4, max_features=9, n_estimators=20.............\n",
      "[CV 4/5; 73/210] END max_depth=4, max_features=9, n_estimators=20; total time=   0.4s\n",
      "[CV 5/5; 73/210] START max_depth=4, max_features=9, n_estimators=20.............\n",
      "[CV 5/5; 73/210] END max_depth=4, max_features=9, n_estimators=20; total time=   0.4s\n",
      "[CV 1/5; 74/210] START max_depth=4, max_features=9, n_estimators=25.............\n",
      "[CV 1/5; 74/210] END max_depth=4, max_features=9, n_estimators=25; total time=   0.5s\n",
      "[CV 2/5; 74/210] START max_depth=4, max_features=9, n_estimators=25.............\n",
      "[CV 2/5; 74/210] END max_depth=4, max_features=9, n_estimators=25; total time=   0.5s\n",
      "[CV 3/5; 74/210] START max_depth=4, max_features=9, n_estimators=25.............\n",
      "[CV 3/5; 74/210] END max_depth=4, max_features=9, n_estimators=25; total time=   0.5s\n",
      "[CV 4/5; 74/210] START max_depth=4, max_features=9, n_estimators=25.............\n",
      "[CV 4/5; 74/210] END max_depth=4, max_features=9, n_estimators=25; total time=   0.5s\n",
      "[CV 5/5; 74/210] START max_depth=4, max_features=9, n_estimators=25.............\n",
      "[CV 5/5; 74/210] END max_depth=4, max_features=9, n_estimators=25; total time=   0.5s\n",
      "[CV 1/5; 75/210] START max_depth=4, max_features=9, n_estimators=30.............\n",
      "[CV 1/5; 75/210] END max_depth=4, max_features=9, n_estimators=30; total time=   0.6s\n",
      "[CV 2/5; 75/210] START max_depth=4, max_features=9, n_estimators=30.............\n",
      "[CV 2/5; 75/210] END max_depth=4, max_features=9, n_estimators=30; total time=   0.6s\n",
      "[CV 3/5; 75/210] START max_depth=4, max_features=9, n_estimators=30.............\n",
      "[CV 3/5; 75/210] END max_depth=4, max_features=9, n_estimators=30; total time=   0.6s\n",
      "[CV 4/5; 75/210] START max_depth=4, max_features=9, n_estimators=30.............\n",
      "[CV 4/5; 75/210] END max_depth=4, max_features=9, n_estimators=30; total time=   0.6s\n",
      "[CV 5/5; 75/210] START max_depth=4, max_features=9, n_estimators=30.............\n",
      "[CV 5/5; 75/210] END max_depth=4, max_features=9, n_estimators=30; total time=   0.6s\n",
      "[CV 1/5; 76/210] START max_depth=4, max_features=9, n_estimators=35.............\n",
      "[CV 1/5; 76/210] END max_depth=4, max_features=9, n_estimators=35; total time=   0.7s\n",
      "[CV 2/5; 76/210] START max_depth=4, max_features=9, n_estimators=35.............\n",
      "[CV 2/5; 76/210] END max_depth=4, max_features=9, n_estimators=35; total time=   0.8s\n",
      "[CV 3/5; 76/210] START max_depth=4, max_features=9, n_estimators=35.............\n",
      "[CV 3/5; 76/210] END max_depth=4, max_features=9, n_estimators=35; total time=   0.8s\n",
      "[CV 4/5; 76/210] START max_depth=4, max_features=9, n_estimators=35.............\n",
      "[CV 4/5; 76/210] END max_depth=4, max_features=9, n_estimators=35; total time=   0.7s\n",
      "[CV 5/5; 76/210] START max_depth=4, max_features=9, n_estimators=35.............\n",
      "[CV 5/5; 76/210] END max_depth=4, max_features=9, n_estimators=35; total time=   0.7s\n",
      "[CV 1/5; 77/210] START max_depth=4, max_features=9, n_estimators=40.............\n",
      "[CV 1/5; 77/210] END max_depth=4, max_features=9, n_estimators=40; total time=   1.0s\n",
      "[CV 2/5; 77/210] START max_depth=4, max_features=9, n_estimators=40.............\n",
      "[CV 2/5; 77/210] END max_depth=4, max_features=9, n_estimators=40; total time=   0.9s\n",
      "[CV 3/5; 77/210] START max_depth=4, max_features=9, n_estimators=40.............\n",
      "[CV 3/5; 77/210] END max_depth=4, max_features=9, n_estimators=40; total time=   0.9s\n",
      "[CV 4/5; 77/210] START max_depth=4, max_features=9, n_estimators=40.............\n",
      "[CV 4/5; 77/210] END max_depth=4, max_features=9, n_estimators=40; total time=   0.8s\n",
      "[CV 5/5; 77/210] START max_depth=4, max_features=9, n_estimators=40.............\n",
      "[CV 5/5; 77/210] END max_depth=4, max_features=9, n_estimators=40; total time=   0.8s\n",
      "[CV 1/5; 78/210] START max_depth=4, max_features=9, n_estimators=45.............\n",
      "[CV 1/5; 78/210] END max_depth=4, max_features=9, n_estimators=45; total time=   0.9s\n",
      "[CV 2/5; 78/210] START max_depth=4, max_features=9, n_estimators=45.............\n",
      "[CV 2/5; 78/210] END max_depth=4, max_features=9, n_estimators=45; total time=   0.9s\n",
      "[CV 3/5; 78/210] START max_depth=4, max_features=9, n_estimators=45.............\n",
      "[CV 3/5; 78/210] END max_depth=4, max_features=9, n_estimators=45; total time=   0.9s\n",
      "[CV 4/5; 78/210] START max_depth=4, max_features=9, n_estimators=45.............\n",
      "[CV 4/5; 78/210] END max_depth=4, max_features=9, n_estimators=45; total time=   0.9s\n",
      "[CV 5/5; 78/210] START max_depth=4, max_features=9, n_estimators=45.............\n",
      "[CV 5/5; 78/210] END max_depth=4, max_features=9, n_estimators=45; total time=   1.0s\n",
      "[CV 1/5; 79/210] START max_depth=4, max_features=9, n_estimators=50.............\n",
      "[CV 1/5; 79/210] END max_depth=4, max_features=9, n_estimators=50; total time=   1.1s\n",
      "[CV 2/5; 79/210] START max_depth=4, max_features=9, n_estimators=50.............\n",
      "[CV 2/5; 79/210] END max_depth=4, max_features=9, n_estimators=50; total time=   1.1s\n",
      "[CV 3/5; 79/210] START max_depth=4, max_features=9, n_estimators=50.............\n",
      "[CV 3/5; 79/210] END max_depth=4, max_features=9, n_estimators=50; total time=   1.1s\n",
      "[CV 4/5; 79/210] START max_depth=4, max_features=9, n_estimators=50.............\n",
      "[CV 4/5; 79/210] END max_depth=4, max_features=9, n_estimators=50; total time=   1.2s\n",
      "[CV 5/5; 79/210] START max_depth=4, max_features=9, n_estimators=50.............\n",
      "[CV 5/5; 79/210] END max_depth=4, max_features=9, n_estimators=50; total time=   1.1s\n",
      "[CV 1/5; 80/210] START max_depth=4, max_features=9, n_estimators=55.............\n",
      "[CV 1/5; 80/210] END max_depth=4, max_features=9, n_estimators=55; total time=   1.2s\n",
      "[CV 2/5; 80/210] START max_depth=4, max_features=9, n_estimators=55.............\n",
      "[CV 2/5; 80/210] END max_depth=4, max_features=9, n_estimators=55; total time=   1.3s\n",
      "[CV 3/5; 80/210] START max_depth=4, max_features=9, n_estimators=55.............\n",
      "[CV 3/5; 80/210] END max_depth=4, max_features=9, n_estimators=55; total time=   1.2s\n",
      "[CV 4/5; 80/210] START max_depth=4, max_features=9, n_estimators=55.............\n",
      "[CV 4/5; 80/210] END max_depth=4, max_features=9, n_estimators=55; total time=   1.1s\n",
      "[CV 5/5; 80/210] START max_depth=4, max_features=9, n_estimators=55.............\n",
      "[CV 5/5; 80/210] END max_depth=4, max_features=9, n_estimators=55; total time=   1.2s\n",
      "[CV 1/5; 81/210] START max_depth=4, max_features=9, n_estimators=60.............\n",
      "[CV 1/5; 81/210] END max_depth=4, max_features=9, n_estimators=60; total time=   1.3s\n",
      "[CV 2/5; 81/210] START max_depth=4, max_features=9, n_estimators=60.............\n",
      "[CV 2/5; 81/210] END max_depth=4, max_features=9, n_estimators=60; total time=   1.3s\n",
      "[CV 3/5; 81/210] START max_depth=4, max_features=9, n_estimators=60.............\n",
      "[CV 3/5; 81/210] END max_depth=4, max_features=9, n_estimators=60; total time=   1.3s\n",
      "[CV 4/5; 81/210] START max_depth=4, max_features=9, n_estimators=60.............\n",
      "[CV 4/5; 81/210] END max_depth=4, max_features=9, n_estimators=60; total time=   1.3s\n",
      "[CV 5/5; 81/210] START max_depth=4, max_features=9, n_estimators=60.............\n",
      "[CV 5/5; 81/210] END max_depth=4, max_features=9, n_estimators=60; total time=   1.3s\n",
      "[CV 1/5; 82/210] START max_depth=4, max_features=9, n_estimators=65.............\n",
      "[CV 1/5; 82/210] END max_depth=4, max_features=9, n_estimators=65; total time=   1.7s\n",
      "[CV 2/5; 82/210] START max_depth=4, max_features=9, n_estimators=65.............\n",
      "[CV 2/5; 82/210] END max_depth=4, max_features=9, n_estimators=65; total time=   1.6s\n",
      "[CV 3/5; 82/210] START max_depth=4, max_features=9, n_estimators=65.............\n",
      "[CV 3/5; 82/210] END max_depth=4, max_features=9, n_estimators=65; total time=   1.6s\n",
      "[CV 4/5; 82/210] START max_depth=4, max_features=9, n_estimators=65.............\n",
      "[CV 4/5; 82/210] END max_depth=4, max_features=9, n_estimators=65; total time=   1.4s\n",
      "[CV 5/5; 82/210] START max_depth=4, max_features=9, n_estimators=65.............\n",
      "[CV 5/5; 82/210] END max_depth=4, max_features=9, n_estimators=65; total time=   1.4s\n",
      "[CV 1/5; 83/210] START max_depth=4, max_features=9, n_estimators=70.............\n",
      "[CV 1/5; 83/210] END max_depth=4, max_features=9, n_estimators=70; total time=   1.6s\n",
      "[CV 2/5; 83/210] START max_depth=4, max_features=9, n_estimators=70.............\n",
      "[CV 2/5; 83/210] END max_depth=4, max_features=9, n_estimators=70; total time=   1.5s\n",
      "[CV 3/5; 83/210] START max_depth=4, max_features=9, n_estimators=70.............\n",
      "[CV 3/5; 83/210] END max_depth=4, max_features=9, n_estimators=70; total time=   1.5s\n",
      "[CV 4/5; 83/210] START max_depth=4, max_features=9, n_estimators=70.............\n",
      "[CV 4/5; 83/210] END max_depth=4, max_features=9, n_estimators=70; total time=   1.5s\n",
      "[CV 5/5; 83/210] START max_depth=4, max_features=9, n_estimators=70.............\n",
      "[CV 5/5; 83/210] END max_depth=4, max_features=9, n_estimators=70; total time=   1.5s\n",
      "[CV 1/5; 84/210] START max_depth=4, max_features=9, n_estimators=75.............\n",
      "[CV 1/5; 84/210] END max_depth=4, max_features=9, n_estimators=75; total time=   1.6s\n",
      "[CV 2/5; 84/210] START max_depth=4, max_features=9, n_estimators=75.............\n",
      "[CV 2/5; 84/210] END max_depth=4, max_features=9, n_estimators=75; total time=   1.6s\n",
      "[CV 3/5; 84/210] START max_depth=4, max_features=9, n_estimators=75.............\n",
      "[CV 3/5; 84/210] END max_depth=4, max_features=9, n_estimators=75; total time=   1.6s\n",
      "[CV 4/5; 84/210] START max_depth=4, max_features=9, n_estimators=75.............\n",
      "[CV 4/5; 84/210] END max_depth=4, max_features=9, n_estimators=75; total time=   1.7s\n",
      "[CV 5/5; 84/210] START max_depth=4, max_features=9, n_estimators=75.............\n",
      "[CV 5/5; 84/210] END max_depth=4, max_features=9, n_estimators=75; total time=   1.7s\n",
      "[CV 1/5; 85/210] START max_depth=6, max_features=5, n_estimators=10.............\n",
      "[CV 1/5; 85/210] END max_depth=6, max_features=5, n_estimators=10; total time=   0.2s\n",
      "[CV 2/5; 85/210] START max_depth=6, max_features=5, n_estimators=10.............\n",
      "[CV 2/5; 85/210] END max_depth=6, max_features=5, n_estimators=10; total time=   0.2s\n",
      "[CV 3/5; 85/210] START max_depth=6, max_features=5, n_estimators=10.............\n",
      "[CV 3/5; 85/210] END max_depth=6, max_features=5, n_estimators=10; total time=   0.2s\n",
      "[CV 4/5; 85/210] START max_depth=6, max_features=5, n_estimators=10.............\n",
      "[CV 4/5; 85/210] END max_depth=6, max_features=5, n_estimators=10; total time=   0.2s\n",
      "[CV 5/5; 85/210] START max_depth=6, max_features=5, n_estimators=10.............\n",
      "[CV 5/5; 85/210] END max_depth=6, max_features=5, n_estimators=10; total time=   0.2s\n",
      "[CV 1/5; 86/210] START max_depth=6, max_features=5, n_estimators=15.............\n",
      "[CV 1/5; 86/210] END max_depth=6, max_features=5, n_estimators=15; total time=   0.3s\n",
      "[CV 2/5; 86/210] START max_depth=6, max_features=5, n_estimators=15.............\n",
      "[CV 2/5; 86/210] END max_depth=6, max_features=5, n_estimators=15; total time=   0.3s\n",
      "[CV 3/5; 86/210] START max_depth=6, max_features=5, n_estimators=15.............\n",
      "[CV 3/5; 86/210] END max_depth=6, max_features=5, n_estimators=15; total time=   0.3s\n",
      "[CV 4/5; 86/210] START max_depth=6, max_features=5, n_estimators=15.............\n",
      "[CV 4/5; 86/210] END max_depth=6, max_features=5, n_estimators=15; total time=   0.3s\n",
      "[CV 5/5; 86/210] START max_depth=6, max_features=5, n_estimators=15.............\n",
      "[CV 5/5; 86/210] END max_depth=6, max_features=5, n_estimators=15; total time=   0.3s\n",
      "[CV 1/5; 87/210] START max_depth=6, max_features=5, n_estimators=20.............\n",
      "[CV 1/5; 87/210] END max_depth=6, max_features=5, n_estimators=20; total time=   0.4s\n",
      "[CV 2/5; 87/210] START max_depth=6, max_features=5, n_estimators=20.............\n",
      "[CV 2/5; 87/210] END max_depth=6, max_features=5, n_estimators=20; total time=   0.4s\n",
      "[CV 3/5; 87/210] START max_depth=6, max_features=5, n_estimators=20.............\n",
      "[CV 3/5; 87/210] END max_depth=6, max_features=5, n_estimators=20; total time=   0.4s\n",
      "[CV 4/5; 87/210] START max_depth=6, max_features=5, n_estimators=20.............\n",
      "[CV 4/5; 87/210] END max_depth=6, max_features=5, n_estimators=20; total time=   0.4s\n",
      "[CV 5/5; 87/210] START max_depth=6, max_features=5, n_estimators=20.............\n",
      "[CV 5/5; 87/210] END max_depth=6, max_features=5, n_estimators=20; total time=   0.4s\n",
      "[CV 1/5; 88/210] START max_depth=6, max_features=5, n_estimators=25.............\n",
      "[CV 1/5; 88/210] END max_depth=6, max_features=5, n_estimators=25; total time=   0.4s\n",
      "[CV 2/5; 88/210] START max_depth=6, max_features=5, n_estimators=25.............\n",
      "[CV 2/5; 88/210] END max_depth=6, max_features=5, n_estimators=25; total time=   0.4s\n",
      "[CV 3/5; 88/210] START max_depth=6, max_features=5, n_estimators=25.............\n",
      "[CV 3/5; 88/210] END max_depth=6, max_features=5, n_estimators=25; total time=   0.4s\n",
      "[CV 4/5; 88/210] START max_depth=6, max_features=5, n_estimators=25.............\n",
      "[CV 4/5; 88/210] END max_depth=6, max_features=5, n_estimators=25; total time=   0.4s\n",
      "[CV 5/5; 88/210] START max_depth=6, max_features=5, n_estimators=25.............\n",
      "[CV 5/5; 88/210] END max_depth=6, max_features=5, n_estimators=25; total time=   0.4s\n",
      "[CV 1/5; 89/210] START max_depth=6, max_features=5, n_estimators=30.............\n",
      "[CV 1/5; 89/210] END max_depth=6, max_features=5, n_estimators=30; total time=   0.5s\n",
      "[CV 2/5; 89/210] START max_depth=6, max_features=5, n_estimators=30.............\n",
      "[CV 2/5; 89/210] END max_depth=6, max_features=5, n_estimators=30; total time=   0.5s\n",
      "[CV 3/5; 89/210] START max_depth=6, max_features=5, n_estimators=30.............\n",
      "[CV 3/5; 89/210] END max_depth=6, max_features=5, n_estimators=30; total time=   0.5s\n",
      "[CV 4/5; 89/210] START max_depth=6, max_features=5, n_estimators=30.............\n",
      "[CV 4/5; 89/210] END max_depth=6, max_features=5, n_estimators=30; total time=   0.5s\n",
      "[CV 5/5; 89/210] START max_depth=6, max_features=5, n_estimators=30.............\n",
      "[CV 5/5; 89/210] END max_depth=6, max_features=5, n_estimators=30; total time=   0.5s\n",
      "[CV 1/5; 90/210] START max_depth=6, max_features=5, n_estimators=35.............\n",
      "[CV 1/5; 90/210] END max_depth=6, max_features=5, n_estimators=35; total time=   0.6s\n",
      "[CV 2/5; 90/210] START max_depth=6, max_features=5, n_estimators=35.............\n",
      "[CV 2/5; 90/210] END max_depth=6, max_features=5, n_estimators=35; total time=   0.7s\n",
      "[CV 3/5; 90/210] START max_depth=6, max_features=5, n_estimators=35.............\n",
      "[CV 3/5; 90/210] END max_depth=6, max_features=5, n_estimators=35; total time=   0.8s\n",
      "[CV 4/5; 90/210] START max_depth=6, max_features=5, n_estimators=35.............\n",
      "[CV 4/5; 90/210] END max_depth=6, max_features=5, n_estimators=35; total time=   0.6s\n",
      "[CV 5/5; 90/210] START max_depth=6, max_features=5, n_estimators=35.............\n",
      "[CV 5/5; 90/210] END max_depth=6, max_features=5, n_estimators=35; total time=   0.6s\n",
      "[CV 1/5; 91/210] START max_depth=6, max_features=5, n_estimators=40.............\n",
      "[CV 1/5; 91/210] END max_depth=6, max_features=5, n_estimators=40; total time=   0.7s\n",
      "[CV 2/5; 91/210] START max_depth=6, max_features=5, n_estimators=40.............\n",
      "[CV 2/5; 91/210] END max_depth=6, max_features=5, n_estimators=40; total time=   0.7s\n",
      "[CV 3/5; 91/210] START max_depth=6, max_features=5, n_estimators=40.............\n",
      "[CV 3/5; 91/210] END max_depth=6, max_features=5, n_estimators=40; total time=   0.7s\n",
      "[CV 4/5; 91/210] START max_depth=6, max_features=5, n_estimators=40.............\n",
      "[CV 4/5; 91/210] END max_depth=6, max_features=5, n_estimators=40; total time=   0.7s\n",
      "[CV 5/5; 91/210] START max_depth=6, max_features=5, n_estimators=40.............\n",
      "[CV 5/5; 91/210] END max_depth=6, max_features=5, n_estimators=40; total time=   0.7s\n",
      "[CV 1/5; 92/210] START max_depth=6, max_features=5, n_estimators=45.............\n",
      "[CV 1/5; 92/210] END max_depth=6, max_features=5, n_estimators=45; total time=   0.8s\n",
      "[CV 2/5; 92/210] START max_depth=6, max_features=5, n_estimators=45.............\n",
      "[CV 2/5; 92/210] END max_depth=6, max_features=5, n_estimators=45; total time=   0.8s\n",
      "[CV 3/5; 92/210] START max_depth=6, max_features=5, n_estimators=45.............\n",
      "[CV 3/5; 92/210] END max_depth=6, max_features=5, n_estimators=45; total time=   0.8s\n",
      "[CV 4/5; 92/210] START max_depth=6, max_features=5, n_estimators=45.............\n",
      "[CV 4/5; 92/210] END max_depth=6, max_features=5, n_estimators=45; total time=   0.8s\n",
      "[CV 5/5; 92/210] START max_depth=6, max_features=5, n_estimators=45.............\n",
      "[CV 5/5; 92/210] END max_depth=6, max_features=5, n_estimators=45; total time=   0.8s\n",
      "[CV 1/5; 93/210] START max_depth=6, max_features=5, n_estimators=50.............\n",
      "[CV 1/5; 93/210] END max_depth=6, max_features=5, n_estimators=50; total time=   0.9s\n",
      "[CV 2/5; 93/210] START max_depth=6, max_features=5, n_estimators=50.............\n",
      "[CV 2/5; 93/210] END max_depth=6, max_features=5, n_estimators=50; total time=   0.9s\n",
      "[CV 3/5; 93/210] START max_depth=6, max_features=5, n_estimators=50.............\n",
      "[CV 3/5; 93/210] END max_depth=6, max_features=5, n_estimators=50; total time=   0.9s\n",
      "[CV 4/5; 93/210] START max_depth=6, max_features=5, n_estimators=50.............\n",
      "[CV 4/5; 93/210] END max_depth=6, max_features=5, n_estimators=50; total time=   1.0s\n",
      "[CV 5/5; 93/210] START max_depth=6, max_features=5, n_estimators=50.............\n",
      "[CV 5/5; 93/210] END max_depth=6, max_features=5, n_estimators=50; total time=   0.9s\n",
      "[CV 1/5; 94/210] START max_depth=6, max_features=5, n_estimators=55.............\n",
      "[CV 1/5; 94/210] END max_depth=6, max_features=5, n_estimators=55; total time=   1.0s\n",
      "[CV 2/5; 94/210] START max_depth=6, max_features=5, n_estimators=55.............\n",
      "[CV 2/5; 94/210] END max_depth=6, max_features=5, n_estimators=55; total time=   1.1s\n",
      "[CV 3/5; 94/210] START max_depth=6, max_features=5, n_estimators=55.............\n",
      "[CV 3/5; 94/210] END max_depth=6, max_features=5, n_estimators=55; total time=   1.0s\n",
      "[CV 4/5; 94/210] START max_depth=6, max_features=5, n_estimators=55.............\n",
      "[CV 4/5; 94/210] END max_depth=6, max_features=5, n_estimators=55; total time=   1.0s\n",
      "[CV 5/5; 94/210] START max_depth=6, max_features=5, n_estimators=55.............\n",
      "[CV 5/5; 94/210] END max_depth=6, max_features=5, n_estimators=55; total time=   1.0s\n",
      "[CV 1/5; 95/210] START max_depth=6, max_features=5, n_estimators=60.............\n",
      "[CV 1/5; 95/210] END max_depth=6, max_features=5, n_estimators=60; total time=   1.1s\n",
      "[CV 2/5; 95/210] START max_depth=6, max_features=5, n_estimators=60.............\n",
      "[CV 2/5; 95/210] END max_depth=6, max_features=5, n_estimators=60; total time=   1.1s\n",
      "[CV 3/5; 95/210] START max_depth=6, max_features=5, n_estimators=60.............\n",
      "[CV 3/5; 95/210] END max_depth=6, max_features=5, n_estimators=60; total time=   1.1s\n",
      "[CV 4/5; 95/210] START max_depth=6, max_features=5, n_estimators=60.............\n",
      "[CV 4/5; 95/210] END max_depth=6, max_features=5, n_estimators=60; total time=   1.1s\n",
      "[CV 5/5; 95/210] START max_depth=6, max_features=5, n_estimators=60.............\n",
      "[CV 5/5; 95/210] END max_depth=6, max_features=5, n_estimators=60; total time=   1.1s\n",
      "[CV 1/5; 96/210] START max_depth=6, max_features=5, n_estimators=65.............\n",
      "[CV 1/5; 96/210] END max_depth=6, max_features=5, n_estimators=65; total time=   1.2s\n",
      "[CV 2/5; 96/210] START max_depth=6, max_features=5, n_estimators=65.............\n",
      "[CV 2/5; 96/210] END max_depth=6, max_features=5, n_estimators=65; total time=   1.2s\n",
      "[CV 3/5; 96/210] START max_depth=6, max_features=5, n_estimators=65.............\n",
      "[CV 3/5; 96/210] END max_depth=6, max_features=5, n_estimators=65; total time=   1.2s\n",
      "[CV 4/5; 96/210] START max_depth=6, max_features=5, n_estimators=65.............\n",
      "[CV 4/5; 96/210] END max_depth=6, max_features=5, n_estimators=65; total time=   1.2s\n",
      "[CV 5/5; 96/210] START max_depth=6, max_features=5, n_estimators=65.............\n",
      "[CV 5/5; 96/210] END max_depth=6, max_features=5, n_estimators=65; total time=   1.4s\n",
      "[CV 1/5; 97/210] START max_depth=6, max_features=5, n_estimators=70.............\n",
      "[CV 1/5; 97/210] END max_depth=6, max_features=5, n_estimators=70; total time=   1.5s\n",
      "[CV 2/5; 97/210] START max_depth=6, max_features=5, n_estimators=70.............\n",
      "[CV 2/5; 97/210] END max_depth=6, max_features=5, n_estimators=70; total time=   1.4s\n",
      "[CV 3/5; 97/210] START max_depth=6, max_features=5, n_estimators=70.............\n",
      "[CV 3/5; 97/210] END max_depth=6, max_features=5, n_estimators=70; total time=   1.3s\n",
      "[CV 4/5; 97/210] START max_depth=6, max_features=5, n_estimators=70.............\n",
      "[CV 4/5; 97/210] END max_depth=6, max_features=5, n_estimators=70; total time=   1.2s\n",
      "[CV 5/5; 97/210] START max_depth=6, max_features=5, n_estimators=70.............\n",
      "[CV 5/5; 97/210] END max_depth=6, max_features=5, n_estimators=70; total time=   1.6s\n",
      "[CV 1/5; 98/210] START max_depth=6, max_features=5, n_estimators=75.............\n",
      "[CV 1/5; 98/210] END max_depth=6, max_features=5, n_estimators=75; total time=   1.8s\n",
      "[CV 2/5; 98/210] START max_depth=6, max_features=5, n_estimators=75.............\n",
      "[CV 2/5; 98/210] END max_depth=6, max_features=5, n_estimators=75; total time=   2.0s\n",
      "[CV 3/5; 98/210] START max_depth=6, max_features=5, n_estimators=75.............\n",
      "[CV 3/5; 98/210] END max_depth=6, max_features=5, n_estimators=75; total time=   1.9s\n",
      "[CV 4/5; 98/210] START max_depth=6, max_features=5, n_estimators=75.............\n",
      "[CV 4/5; 98/210] END max_depth=6, max_features=5, n_estimators=75; total time=   1.9s\n",
      "[CV 5/5; 98/210] START max_depth=6, max_features=5, n_estimators=75.............\n",
      "[CV 5/5; 98/210] END max_depth=6, max_features=5, n_estimators=75; total time=   1.9s\n",
      "[CV 1/5; 99/210] START max_depth=6, max_features=7, n_estimators=10.............\n",
      "[CV 1/5; 99/210] END max_depth=6, max_features=7, n_estimators=10; total time=   0.4s\n",
      "[CV 2/5; 99/210] START max_depth=6, max_features=7, n_estimators=10.............\n",
      "[CV 2/5; 99/210] END max_depth=6, max_features=7, n_estimators=10; total time=   0.4s\n",
      "[CV 3/5; 99/210] START max_depth=6, max_features=7, n_estimators=10.............\n",
      "[CV 3/5; 99/210] END max_depth=6, max_features=7, n_estimators=10; total time=   0.4s\n",
      "[CV 4/5; 99/210] START max_depth=6, max_features=7, n_estimators=10.............\n",
      "[CV 4/5; 99/210] END max_depth=6, max_features=7, n_estimators=10; total time=   0.4s\n",
      "[CV 5/5; 99/210] START max_depth=6, max_features=7, n_estimators=10.............\n",
      "[CV 5/5; 99/210] END max_depth=6, max_features=7, n_estimators=10; total time=   0.4s\n",
      "[CV 1/5; 100/210] START max_depth=6, max_features=7, n_estimators=15............\n",
      "[CV 1/5; 100/210] END max_depth=6, max_features=7, n_estimators=15; total time=   0.5s\n",
      "[CV 2/5; 100/210] START max_depth=6, max_features=7, n_estimators=15............\n",
      "[CV 2/5; 100/210] END max_depth=6, max_features=7, n_estimators=15; total time=   0.5s\n",
      "[CV 3/5; 100/210] START max_depth=6, max_features=7, n_estimators=15............\n",
      "[CV 3/5; 100/210] END max_depth=6, max_features=7, n_estimators=15; total time=   0.5s\n",
      "[CV 4/5; 100/210] START max_depth=6, max_features=7, n_estimators=15............\n",
      "[CV 4/5; 100/210] END max_depth=6, max_features=7, n_estimators=15; total time=   0.5s\n",
      "[CV 5/5; 100/210] START max_depth=6, max_features=7, n_estimators=15............\n",
      "[CV 5/5; 100/210] END max_depth=6, max_features=7, n_estimators=15; total time=   0.4s\n",
      "[CV 1/5; 101/210] START max_depth=6, max_features=7, n_estimators=20............\n",
      "[CV 1/5; 101/210] END max_depth=6, max_features=7, n_estimators=20; total time=   0.5s\n",
      "[CV 2/5; 101/210] START max_depth=6, max_features=7, n_estimators=20............\n",
      "[CV 2/5; 101/210] END max_depth=6, max_features=7, n_estimators=20; total time=   0.6s\n",
      "[CV 3/5; 101/210] START max_depth=6, max_features=7, n_estimators=20............\n",
      "[CV 3/5; 101/210] END max_depth=6, max_features=7, n_estimators=20; total time=   0.7s\n",
      "[CV 4/5; 101/210] START max_depth=6, max_features=7, n_estimators=20............\n",
      "[CV 4/5; 101/210] END max_depth=6, max_features=7, n_estimators=20; total time=   0.5s\n",
      "[CV 5/5; 101/210] START max_depth=6, max_features=7, n_estimators=20............\n",
      "[CV 5/5; 101/210] END max_depth=6, max_features=7, n_estimators=20; total time=   0.5s\n",
      "[CV 1/5; 102/210] START max_depth=6, max_features=7, n_estimators=25............\n",
      "[CV 1/5; 102/210] END max_depth=6, max_features=7, n_estimators=25; total time=   0.6s\n",
      "[CV 2/5; 102/210] START max_depth=6, max_features=7, n_estimators=25............\n",
      "[CV 2/5; 102/210] END max_depth=6, max_features=7, n_estimators=25; total time=   0.6s\n",
      "[CV 3/5; 102/210] START max_depth=6, max_features=7, n_estimators=25............\n",
      "[CV 3/5; 102/210] END max_depth=6, max_features=7, n_estimators=25; total time=   0.6s\n",
      "[CV 4/5; 102/210] START max_depth=6, max_features=7, n_estimators=25............\n",
      "[CV 4/5; 102/210] END max_depth=6, max_features=7, n_estimators=25; total time=   0.6s\n",
      "[CV 5/5; 102/210] START max_depth=6, max_features=7, n_estimators=25............\n",
      "[CV 5/5; 102/210] END max_depth=6, max_features=7, n_estimators=25; total time=   0.6s\n",
      "[CV 1/5; 103/210] START max_depth=6, max_features=7, n_estimators=30............\n",
      "[CV 1/5; 103/210] END max_depth=6, max_features=7, n_estimators=30; total time=   0.8s\n",
      "[CV 2/5; 103/210] START max_depth=6, max_features=7, n_estimators=30............\n",
      "[CV 2/5; 103/210] END max_depth=6, max_features=7, n_estimators=30; total time=   0.8s\n",
      "[CV 3/5; 103/210] START max_depth=6, max_features=7, n_estimators=30............\n",
      "[CV 3/5; 103/210] END max_depth=6, max_features=7, n_estimators=30; total time=   0.8s\n",
      "[CV 4/5; 103/210] START max_depth=6, max_features=7, n_estimators=30............\n",
      "[CV 4/5; 103/210] END max_depth=6, max_features=7, n_estimators=30; total time=   0.8s\n",
      "[CV 5/5; 103/210] START max_depth=6, max_features=7, n_estimators=30............\n",
      "[CV 5/5; 103/210] END max_depth=6, max_features=7, n_estimators=30; total time=   0.8s\n",
      "[CV 1/5; 104/210] START max_depth=6, max_features=7, n_estimators=35............\n",
      "[CV 1/5; 104/210] END max_depth=6, max_features=7, n_estimators=35; total time=   0.9s\n",
      "[CV 2/5; 104/210] START max_depth=6, max_features=7, n_estimators=35............\n",
      "[CV 2/5; 104/210] END max_depth=6, max_features=7, n_estimators=35; total time=   0.9s\n",
      "[CV 3/5; 104/210] START max_depth=6, max_features=7, n_estimators=35............\n",
      "[CV 3/5; 104/210] END max_depth=6, max_features=7, n_estimators=35; total time=   0.9s\n",
      "[CV 4/5; 104/210] START max_depth=6, max_features=7, n_estimators=35............\n",
      "[CV 4/5; 104/210] END max_depth=6, max_features=7, n_estimators=35; total time=   0.9s\n",
      "[CV 5/5; 104/210] START max_depth=6, max_features=7, n_estimators=35............\n",
      "[CV 5/5; 104/210] END max_depth=6, max_features=7, n_estimators=35; total time=   1.1s\n",
      "[CV 1/5; 105/210] START max_depth=6, max_features=7, n_estimators=40............\n",
      "[CV 1/5; 105/210] END max_depth=6, max_features=7, n_estimators=40; total time=   1.4s\n",
      "[CV 2/5; 105/210] START max_depth=6, max_features=7, n_estimators=40............\n",
      "[CV 2/5; 105/210] END max_depth=6, max_features=7, n_estimators=40; total time=   1.4s\n",
      "[CV 3/5; 105/210] START max_depth=6, max_features=7, n_estimators=40............\n",
      "[CV 3/5; 105/210] END max_depth=6, max_features=7, n_estimators=40; total time=   1.4s\n",
      "[CV 4/5; 105/210] START max_depth=6, max_features=7, n_estimators=40............\n",
      "[CV 4/5; 105/210] END max_depth=6, max_features=7, n_estimators=40; total time=   1.1s\n",
      "[CV 5/5; 105/210] START max_depth=6, max_features=7, n_estimators=40............\n",
      "[CV 5/5; 105/210] END max_depth=6, max_features=7, n_estimators=40; total time=   1.0s\n",
      "[CV 1/5; 106/210] START max_depth=6, max_features=7, n_estimators=45............\n",
      "[CV 1/5; 106/210] END max_depth=6, max_features=7, n_estimators=45; total time=   1.1s\n",
      "[CV 2/5; 106/210] START max_depth=6, max_features=7, n_estimators=45............\n",
      "[CV 2/5; 106/210] END max_depth=6, max_features=7, n_estimators=45; total time=   1.1s\n",
      "[CV 3/5; 106/210] START max_depth=6, max_features=7, n_estimators=45............\n",
      "[CV 3/5; 106/210] END max_depth=6, max_features=7, n_estimators=45; total time=   1.1s\n",
      "[CV 4/5; 106/210] START max_depth=6, max_features=7, n_estimators=45............\n",
      "[CV 4/5; 106/210] END max_depth=6, max_features=7, n_estimators=45; total time=   1.1s\n",
      "[CV 5/5; 106/210] START max_depth=6, max_features=7, n_estimators=45............\n",
      "[CV 5/5; 106/210] END max_depth=6, max_features=7, n_estimators=45; total time=   1.2s\n",
      "[CV 1/5; 107/210] START max_depth=6, max_features=7, n_estimators=50............\n",
      "[CV 1/5; 107/210] END max_depth=6, max_features=7, n_estimators=50; total time=   1.3s\n",
      "[CV 2/5; 107/210] START max_depth=6, max_features=7, n_estimators=50............\n",
      "[CV 2/5; 107/210] END max_depth=6, max_features=7, n_estimators=50; total time=   1.3s\n",
      "[CV 3/5; 107/210] START max_depth=6, max_features=7, n_estimators=50............\n",
      "[CV 3/5; 107/210] END max_depth=6, max_features=7, n_estimators=50; total time=   1.5s\n",
      "[CV 4/5; 107/210] START max_depth=6, max_features=7, n_estimators=50............\n",
      "[CV 4/5; 107/210] END max_depth=6, max_features=7, n_estimators=50; total time=   1.4s\n",
      "[CV 5/5; 107/210] START max_depth=6, max_features=7, n_estimators=50............\n",
      "[CV 5/5; 107/210] END max_depth=6, max_features=7, n_estimators=50; total time=   1.4s\n",
      "[CV 1/5; 108/210] START max_depth=6, max_features=7, n_estimators=55............\n",
      "[CV 1/5; 108/210] END max_depth=6, max_features=7, n_estimators=55; total time=   1.7s\n",
      "[CV 2/5; 108/210] START max_depth=6, max_features=7, n_estimators=55............\n",
      "[CV 2/5; 108/210] END max_depth=6, max_features=7, n_estimators=55; total time=   1.7s\n",
      "[CV 3/5; 108/210] START max_depth=6, max_features=7, n_estimators=55............\n",
      "[CV 3/5; 108/210] END max_depth=6, max_features=7, n_estimators=55; total time=   1.5s\n",
      "[CV 4/5; 108/210] START max_depth=6, max_features=7, n_estimators=55............\n",
      "[CV 4/5; 108/210] END max_depth=6, max_features=7, n_estimators=55; total time=   1.7s\n",
      "[CV 5/5; 108/210] START max_depth=6, max_features=7, n_estimators=55............\n",
      "[CV 5/5; 108/210] END max_depth=6, max_features=7, n_estimators=55; total time=   1.7s\n",
      "[CV 1/5; 109/210] START max_depth=6, max_features=7, n_estimators=60............\n",
      "[CV 1/5; 109/210] END max_depth=6, max_features=7, n_estimators=60; total time=   1.6s\n",
      "[CV 2/5; 109/210] START max_depth=6, max_features=7, n_estimators=60............\n",
      "[CV 2/5; 109/210] END max_depth=6, max_features=7, n_estimators=60; total time=   1.5s\n",
      "[CV 3/5; 109/210] START max_depth=6, max_features=7, n_estimators=60............\n",
      "[CV 3/5; 109/210] END max_depth=6, max_features=7, n_estimators=60; total time=   1.6s\n",
      "[CV 4/5; 109/210] START max_depth=6, max_features=7, n_estimators=60............\n",
      "[CV 4/5; 109/210] END max_depth=6, max_features=7, n_estimators=60; total time=   1.5s\n",
      "[CV 5/5; 109/210] START max_depth=6, max_features=7, n_estimators=60............\n",
      "[CV 5/5; 109/210] END max_depth=6, max_features=7, n_estimators=60; total time=   1.7s\n",
      "[CV 1/5; 110/210] START max_depth=6, max_features=7, n_estimators=65............\n",
      "[CV 1/5; 110/210] END max_depth=6, max_features=7, n_estimators=65; total time=   1.6s\n",
      "[CV 2/5; 110/210] START max_depth=6, max_features=7, n_estimators=65............\n",
      "[CV 2/5; 110/210] END max_depth=6, max_features=7, n_estimators=65; total time=   1.8s\n",
      "[CV 3/5; 110/210] START max_depth=6, max_features=7, n_estimators=65............\n",
      "[CV 3/5; 110/210] END max_depth=6, max_features=7, n_estimators=65; total time=   1.7s\n",
      "[CV 4/5; 110/210] START max_depth=6, max_features=7, n_estimators=65............\n",
      "[CV 4/5; 110/210] END max_depth=6, max_features=7, n_estimators=65; total time=   1.6s\n",
      "[CV 5/5; 110/210] START max_depth=6, max_features=7, n_estimators=65............\n",
      "[CV 5/5; 110/210] END max_depth=6, max_features=7, n_estimators=65; total time=   1.6s\n",
      "[CV 1/5; 111/210] START max_depth=6, max_features=7, n_estimators=70............\n",
      "[CV 1/5; 111/210] END max_depth=6, max_features=7, n_estimators=70; total time=   1.8s\n",
      "[CV 2/5; 111/210] START max_depth=6, max_features=7, n_estimators=70............\n",
      "[CV 2/5; 111/210] END max_depth=6, max_features=7, n_estimators=70; total time=   1.7s\n",
      "[CV 3/5; 111/210] START max_depth=6, max_features=7, n_estimators=70............\n",
      "[CV 3/5; 111/210] END max_depth=6, max_features=7, n_estimators=70; total time=   1.7s\n",
      "[CV 4/5; 111/210] START max_depth=6, max_features=7, n_estimators=70............\n",
      "[CV 4/5; 111/210] END max_depth=6, max_features=7, n_estimators=70; total time=   1.7s\n",
      "[CV 5/5; 111/210] START max_depth=6, max_features=7, n_estimators=70............\n",
      "[CV 5/5; 111/210] END max_depth=6, max_features=7, n_estimators=70; total time=   1.7s\n",
      "[CV 1/5; 112/210] START max_depth=6, max_features=7, n_estimators=75............\n",
      "[CV 1/5; 112/210] END max_depth=6, max_features=7, n_estimators=75; total time=   1.9s\n",
      "[CV 2/5; 112/210] START max_depth=6, max_features=7, n_estimators=75............\n",
      "[CV 2/5; 112/210] END max_depth=6, max_features=7, n_estimators=75; total time=   2.1s\n",
      "[CV 3/5; 112/210] START max_depth=6, max_features=7, n_estimators=75............\n",
      "[CV 3/5; 112/210] END max_depth=6, max_features=7, n_estimators=75; total time=   2.1s\n",
      "[CV 4/5; 112/210] START max_depth=6, max_features=7, n_estimators=75............\n",
      "[CV 4/5; 112/210] END max_depth=6, max_features=7, n_estimators=75; total time=   1.9s\n",
      "[CV 5/5; 112/210] START max_depth=6, max_features=7, n_estimators=75............\n",
      "[CV 5/5; 112/210] END max_depth=6, max_features=7, n_estimators=75; total time=   1.9s\n",
      "[CV 1/5; 113/210] START max_depth=6, max_features=9, n_estimators=10............\n",
      "[CV 1/5; 113/210] END max_depth=6, max_features=9, n_estimators=10; total time=   0.3s\n",
      "[CV 2/5; 113/210] START max_depth=6, max_features=9, n_estimators=10............\n",
      "[CV 2/5; 113/210] END max_depth=6, max_features=9, n_estimators=10; total time=   0.3s\n",
      "[CV 3/5; 113/210] START max_depth=6, max_features=9, n_estimators=10............\n",
      "[CV 3/5; 113/210] END max_depth=6, max_features=9, n_estimators=10; total time=   0.3s\n",
      "[CV 4/5; 113/210] START max_depth=6, max_features=9, n_estimators=10............\n",
      "[CV 4/5; 113/210] END max_depth=6, max_features=9, n_estimators=10; total time=   0.3s\n",
      "[CV 5/5; 113/210] START max_depth=6, max_features=9, n_estimators=10............\n",
      "[CV 5/5; 113/210] END max_depth=6, max_features=9, n_estimators=10; total time=   0.3s\n",
      "[CV 1/5; 114/210] START max_depth=6, max_features=9, n_estimators=15............\n",
      "[CV 1/5; 114/210] END max_depth=6, max_features=9, n_estimators=15; total time=   0.5s\n",
      "[CV 2/5; 114/210] START max_depth=6, max_features=9, n_estimators=15............\n",
      "[CV 2/5; 114/210] END max_depth=6, max_features=9, n_estimators=15; total time=   0.5s\n",
      "[CV 3/5; 114/210] START max_depth=6, max_features=9, n_estimators=15............\n",
      "[CV 3/5; 114/210] END max_depth=6, max_features=9, n_estimators=15; total time=   0.5s\n",
      "[CV 4/5; 114/210] START max_depth=6, max_features=9, n_estimators=15............\n",
      "[CV 4/5; 114/210] END max_depth=6, max_features=9, n_estimators=15; total time=   0.5s\n",
      "[CV 5/5; 114/210] START max_depth=6, max_features=9, n_estimators=15............\n",
      "[CV 5/5; 114/210] END max_depth=6, max_features=9, n_estimators=15; total time=   0.5s\n",
      "[CV 1/5; 115/210] START max_depth=6, max_features=9, n_estimators=20............\n",
      "[CV 1/5; 115/210] END max_depth=6, max_features=9, n_estimators=20; total time=   0.7s\n",
      "[CV 2/5; 115/210] START max_depth=6, max_features=9, n_estimators=20............\n",
      "[CV 2/5; 115/210] END max_depth=6, max_features=9, n_estimators=20; total time=   0.7s\n",
      "[CV 3/5; 115/210] START max_depth=6, max_features=9, n_estimators=20............\n",
      "[CV 3/5; 115/210] END max_depth=6, max_features=9, n_estimators=20; total time=   0.7s\n",
      "[CV 4/5; 115/210] START max_depth=6, max_features=9, n_estimators=20............\n",
      "[CV 4/5; 115/210] END max_depth=6, max_features=9, n_estimators=20; total time=   0.6s\n",
      "[CV 5/5; 115/210] START max_depth=6, max_features=9, n_estimators=20............\n",
      "[CV 5/5; 115/210] END max_depth=6, max_features=9, n_estimators=20; total time=   0.6s\n",
      "[CV 1/5; 116/210] START max_depth=6, max_features=9, n_estimators=25............\n",
      "[CV 1/5; 116/210] END max_depth=6, max_features=9, n_estimators=25; total time=   0.8s\n",
      "[CV 2/5; 116/210] START max_depth=6, max_features=9, n_estimators=25............\n",
      "[CV 2/5; 116/210] END max_depth=6, max_features=9, n_estimators=25; total time=   0.8s\n",
      "[CV 3/5; 116/210] START max_depth=6, max_features=9, n_estimators=25............\n",
      "[CV 3/5; 116/210] END max_depth=6, max_features=9, n_estimators=25; total time=   0.8s\n",
      "[CV 4/5; 116/210] START max_depth=6, max_features=9, n_estimators=25............\n",
      "[CV 4/5; 116/210] END max_depth=6, max_features=9, n_estimators=25; total time=   0.8s\n",
      "[CV 5/5; 116/210] START max_depth=6, max_features=9, n_estimators=25............\n",
      "[CV 5/5; 116/210] END max_depth=6, max_features=9, n_estimators=25; total time=   0.8s\n",
      "[CV 1/5; 117/210] START max_depth=6, max_features=9, n_estimators=30............\n",
      "[CV 1/5; 117/210] END max_depth=6, max_features=9, n_estimators=30; total time=   0.9s\n",
      "[CV 2/5; 117/210] START max_depth=6, max_features=9, n_estimators=30............\n",
      "[CV 2/5; 117/210] END max_depth=6, max_features=9, n_estimators=30; total time=   1.0s\n",
      "[CV 3/5; 117/210] START max_depth=6, max_features=9, n_estimators=30............\n",
      "[CV 3/5; 117/210] END max_depth=6, max_features=9, n_estimators=30; total time=   1.0s\n",
      "[CV 4/5; 117/210] START max_depth=6, max_features=9, n_estimators=30............\n",
      "[CV 4/5; 117/210] END max_depth=6, max_features=9, n_estimators=30; total time=   0.9s\n",
      "[CV 5/5; 117/210] START max_depth=6, max_features=9, n_estimators=30............\n",
      "[CV 5/5; 117/210] END max_depth=6, max_features=9, n_estimators=30; total time=   0.9s\n",
      "[CV 1/5; 118/210] START max_depth=6, max_features=9, n_estimators=35............\n",
      "[CV 1/5; 118/210] END max_depth=6, max_features=9, n_estimators=35; total time=   1.1s\n",
      "[CV 2/5; 118/210] START max_depth=6, max_features=9, n_estimators=35............\n",
      "[CV 2/5; 118/210] END max_depth=6, max_features=9, n_estimators=35; total time=   1.1s\n",
      "[CV 3/5; 118/210] START max_depth=6, max_features=9, n_estimators=35............\n",
      "[CV 3/5; 118/210] END max_depth=6, max_features=9, n_estimators=35; total time=   1.2s\n",
      "[CV 4/5; 118/210] START max_depth=6, max_features=9, n_estimators=35............\n",
      "[CV 4/5; 118/210] END max_depth=6, max_features=9, n_estimators=35; total time=   1.1s\n",
      "[CV 5/5; 118/210] START max_depth=6, max_features=9, n_estimators=35............\n",
      "[CV 5/5; 118/210] END max_depth=6, max_features=9, n_estimators=35; total time=   1.1s\n",
      "[CV 1/5; 119/210] START max_depth=6, max_features=9, n_estimators=40............\n",
      "[CV 1/5; 119/210] END max_depth=6, max_features=9, n_estimators=40; total time=   1.3s\n",
      "[CV 2/5; 119/210] START max_depth=6, max_features=9, n_estimators=40............\n",
      "[CV 2/5; 119/210] END max_depth=6, max_features=9, n_estimators=40; total time=   1.4s\n",
      "[CV 3/5; 119/210] START max_depth=6, max_features=9, n_estimators=40............\n",
      "[CV 3/5; 119/210] END max_depth=6, max_features=9, n_estimators=40; total time=   1.2s\n",
      "[CV 4/5; 119/210] START max_depth=6, max_features=9, n_estimators=40............\n",
      "[CV 4/5; 119/210] END max_depth=6, max_features=9, n_estimators=40; total time=   1.2s\n",
      "[CV 5/5; 119/210] START max_depth=6, max_features=9, n_estimators=40............\n",
      "[CV 5/5; 119/210] END max_depth=6, max_features=9, n_estimators=40; total time=   1.2s\n",
      "[CV 1/5; 120/210] START max_depth=6, max_features=9, n_estimators=45............\n",
      "[CV 1/5; 120/210] END max_depth=6, max_features=9, n_estimators=45; total time=   1.4s\n",
      "[CV 2/5; 120/210] START max_depth=6, max_features=9, n_estimators=45............\n",
      "[CV 2/5; 120/210] END max_depth=6, max_features=9, n_estimators=45; total time=   1.4s\n",
      "[CV 3/5; 120/210] START max_depth=6, max_features=9, n_estimators=45............\n",
      "[CV 3/5; 120/210] END max_depth=6, max_features=9, n_estimators=45; total time=   1.4s\n",
      "[CV 4/5; 120/210] START max_depth=6, max_features=9, n_estimators=45............\n",
      "[CV 4/5; 120/210] END max_depth=6, max_features=9, n_estimators=45; total time=   1.4s\n",
      "[CV 5/5; 120/210] START max_depth=6, max_features=9, n_estimators=45............\n",
      "[CV 5/5; 120/210] END max_depth=6, max_features=9, n_estimators=45; total time=   1.4s\n",
      "[CV 1/5; 121/210] START max_depth=6, max_features=9, n_estimators=50............\n",
      "[CV 1/5; 121/210] END max_depth=6, max_features=9, n_estimators=50; total time=   1.5s\n",
      "[CV 2/5; 121/210] START max_depth=6, max_features=9, n_estimators=50............\n",
      "[CV 2/5; 121/210] END max_depth=6, max_features=9, n_estimators=50; total time=   1.6s\n",
      "[CV 3/5; 121/210] START max_depth=6, max_features=9, n_estimators=50............\n",
      "[CV 3/5; 121/210] END max_depth=6, max_features=9, n_estimators=50; total time=   1.5s\n",
      "[CV 4/5; 121/210] START max_depth=6, max_features=9, n_estimators=50............\n",
      "[CV 4/5; 121/210] END max_depth=6, max_features=9, n_estimators=50; total time=   2.2s\n",
      "[CV 5/5; 121/210] START max_depth=6, max_features=9, n_estimators=50............\n",
      "[CV 5/5; 121/210] END max_depth=6, max_features=9, n_estimators=50; total time=   2.2s\n",
      "[CV 1/5; 122/210] START max_depth=6, max_features=9, n_estimators=55............\n",
      "[CV 1/5; 122/210] END max_depth=6, max_features=9, n_estimators=55; total time=   2.4s\n",
      "[CV 2/5; 122/210] START max_depth=6, max_features=9, n_estimators=55............\n",
      "[CV 2/5; 122/210] END max_depth=6, max_features=9, n_estimators=55; total time=   2.4s\n",
      "[CV 3/5; 122/210] START max_depth=6, max_features=9, n_estimators=55............\n",
      "[CV 3/5; 122/210] END max_depth=6, max_features=9, n_estimators=55; total time=   2.4s\n",
      "[CV 4/5; 122/210] START max_depth=6, max_features=9, n_estimators=55............\n",
      "[CV 4/5; 122/210] END max_depth=6, max_features=9, n_estimators=55; total time=   2.4s\n",
      "[CV 5/5; 122/210] START max_depth=6, max_features=9, n_estimators=55............\n",
      "[CV 5/5; 122/210] END max_depth=6, max_features=9, n_estimators=55; total time=   2.4s\n",
      "[CV 1/5; 123/210] START max_depth=6, max_features=9, n_estimators=60............\n",
      "[CV 1/5; 123/210] END max_depth=6, max_features=9, n_estimators=60; total time=   2.6s\n",
      "[CV 2/5; 123/210] START max_depth=6, max_features=9, n_estimators=60............\n",
      "[CV 2/5; 123/210] END max_depth=6, max_features=9, n_estimators=60; total time=   2.6s\n",
      "[CV 3/5; 123/210] START max_depth=6, max_features=9, n_estimators=60............\n",
      "[CV 3/5; 123/210] END max_depth=6, max_features=9, n_estimators=60; total time=   2.7s\n",
      "[CV 4/5; 123/210] START max_depth=6, max_features=9, n_estimators=60............\n",
      "[CV 4/5; 123/210] END max_depth=6, max_features=9, n_estimators=60; total time=   2.7s\n",
      "[CV 5/5; 123/210] START max_depth=6, max_features=9, n_estimators=60............\n",
      "[CV 5/5; 123/210] END max_depth=6, max_features=9, n_estimators=60; total time=   2.7s\n",
      "[CV 1/5; 124/210] START max_depth=6, max_features=9, n_estimators=65............\n",
      "[CV 1/5; 124/210] END max_depth=6, max_features=9, n_estimators=65; total time=   2.9s\n",
      "[CV 2/5; 124/210] START max_depth=6, max_features=9, n_estimators=65............\n",
      "[CV 2/5; 124/210] END max_depth=6, max_features=9, n_estimators=65; total time=   2.7s\n",
      "[CV 3/5; 124/210] START max_depth=6, max_features=9, n_estimators=65............\n",
      "[CV 3/5; 124/210] END max_depth=6, max_features=9, n_estimators=65; total time=   2.0s\n",
      "[CV 4/5; 124/210] START max_depth=6, max_features=9, n_estimators=65............\n",
      "[CV 4/5; 124/210] END max_depth=6, max_features=9, n_estimators=65; total time=   2.1s\n",
      "[CV 5/5; 124/210] START max_depth=6, max_features=9, n_estimators=65............\n",
      "[CV 5/5; 124/210] END max_depth=6, max_features=9, n_estimators=65; total time=   2.1s\n",
      "[CV 1/5; 125/210] START max_depth=6, max_features=9, n_estimators=70............\n",
      "[CV 1/5; 125/210] END max_depth=6, max_features=9, n_estimators=70; total time=   2.2s\n",
      "[CV 2/5; 125/210] START max_depth=6, max_features=9, n_estimators=70............\n",
      "[CV 2/5; 125/210] END max_depth=6, max_features=9, n_estimators=70; total time=   2.1s\n",
      "[CV 3/5; 125/210] START max_depth=6, max_features=9, n_estimators=70............\n",
      "[CV 3/5; 125/210] END max_depth=6, max_features=9, n_estimators=70; total time=   2.1s\n",
      "[CV 4/5; 125/210] START max_depth=6, max_features=9, n_estimators=70............\n",
      "[CV 4/5; 125/210] END max_depth=6, max_features=9, n_estimators=70; total time=   2.1s\n",
      "[CV 5/5; 125/210] START max_depth=6, max_features=9, n_estimators=70............\n",
      "[CV 5/5; 125/210] END max_depth=6, max_features=9, n_estimators=70; total time=   2.2s\n",
      "[CV 1/5; 126/210] START max_depth=6, max_features=9, n_estimators=75............\n",
      "[CV 1/5; 126/210] END max_depth=6, max_features=9, n_estimators=75; total time=   2.4s\n",
      "[CV 2/5; 126/210] START max_depth=6, max_features=9, n_estimators=75............\n",
      "[CV 2/5; 126/210] END max_depth=6, max_features=9, n_estimators=75; total time=   2.3s\n",
      "[CV 3/5; 126/210] START max_depth=6, max_features=9, n_estimators=75............\n",
      "[CV 3/5; 126/210] END max_depth=6, max_features=9, n_estimators=75; total time=   2.3s\n",
      "[CV 4/5; 126/210] START max_depth=6, max_features=9, n_estimators=75............\n",
      "[CV 4/5; 126/210] END max_depth=6, max_features=9, n_estimators=75; total time=   2.4s\n",
      "[CV 5/5; 126/210] START max_depth=6, max_features=9, n_estimators=75............\n",
      "[CV 5/5; 126/210] END max_depth=6, max_features=9, n_estimators=75; total time=   2.8s\n",
      "[CV 1/5; 127/210] START max_depth=8, max_features=5, n_estimators=10............\n",
      "[CV 1/5; 127/210] END max_depth=8, max_features=5, n_estimators=10; total time=   0.4s\n",
      "[CV 2/5; 127/210] START max_depth=8, max_features=5, n_estimators=10............\n",
      "[CV 2/5; 127/210] END max_depth=8, max_features=5, n_estimators=10; total time=   0.4s\n",
      "[CV 3/5; 127/210] START max_depth=8, max_features=5, n_estimators=10............\n",
      "[CV 3/5; 127/210] END max_depth=8, max_features=5, n_estimators=10; total time=   0.4s\n",
      "[CV 4/5; 127/210] START max_depth=8, max_features=5, n_estimators=10............\n",
      "[CV 4/5; 127/210] END max_depth=8, max_features=5, n_estimators=10; total time=   0.4s\n",
      "[CV 5/5; 127/210] START max_depth=8, max_features=5, n_estimators=10............\n",
      "[CV 5/5; 127/210] END max_depth=8, max_features=5, n_estimators=10; total time=   0.3s\n",
      "[CV 1/5; 128/210] START max_depth=8, max_features=5, n_estimators=15............\n",
      "[CV 1/5; 128/210] END max_depth=8, max_features=5, n_estimators=15; total time=   0.5s\n",
      "[CV 2/5; 128/210] START max_depth=8, max_features=5, n_estimators=15............\n",
      "[CV 2/5; 128/210] END max_depth=8, max_features=5, n_estimators=15; total time=   0.5s\n",
      "[CV 3/5; 128/210] START max_depth=8, max_features=5, n_estimators=15............\n",
      "[CV 3/5; 128/210] END max_depth=8, max_features=5, n_estimators=15; total time=   0.5s\n",
      "[CV 4/5; 128/210] START max_depth=8, max_features=5, n_estimators=15............\n",
      "[CV 4/5; 128/210] END max_depth=8, max_features=5, n_estimators=15; total time=   0.5s\n",
      "[CV 5/5; 128/210] START max_depth=8, max_features=5, n_estimators=15............\n",
      "[CV 5/5; 128/210] END max_depth=8, max_features=5, n_estimators=15; total time=   0.5s\n",
      "[CV 1/5; 129/210] START max_depth=8, max_features=5, n_estimators=20............\n",
      "[CV 1/5; 129/210] END max_depth=8, max_features=5, n_estimators=20; total time=   0.7s\n",
      "[CV 2/5; 129/210] START max_depth=8, max_features=5, n_estimators=20............\n",
      "[CV 2/5; 129/210] END max_depth=8, max_features=5, n_estimators=20; total time=   0.7s\n",
      "[CV 3/5; 129/210] START max_depth=8, max_features=5, n_estimators=20............\n",
      "[CV 3/5; 129/210] END max_depth=8, max_features=5, n_estimators=20; total time=   0.7s\n",
      "[CV 4/5; 129/210] START max_depth=8, max_features=5, n_estimators=20............\n",
      "[CV 4/5; 129/210] END max_depth=8, max_features=5, n_estimators=20; total time=   0.7s\n",
      "[CV 5/5; 129/210] START max_depth=8, max_features=5, n_estimators=20............\n",
      "[CV 5/5; 129/210] END max_depth=8, max_features=5, n_estimators=20; total time=   0.7s\n",
      "[CV 1/5; 130/210] START max_depth=8, max_features=5, n_estimators=25............\n",
      "[CV 1/5; 130/210] END max_depth=8, max_features=5, n_estimators=25; total time=   1.1s\n",
      "[CV 2/5; 130/210] START max_depth=8, max_features=5, n_estimators=25............\n",
      "[CV 2/5; 130/210] END max_depth=8, max_features=5, n_estimators=25; total time=   0.9s\n",
      "[CV 3/5; 130/210] START max_depth=8, max_features=5, n_estimators=25............\n",
      "[CV 3/5; 130/210] END max_depth=8, max_features=5, n_estimators=25; total time=   0.9s\n",
      "[CV 4/5; 130/210] START max_depth=8, max_features=5, n_estimators=25............\n",
      "[CV 4/5; 130/210] END max_depth=8, max_features=5, n_estimators=25; total time=   0.9s\n",
      "[CV 5/5; 130/210] START max_depth=8, max_features=5, n_estimators=25............\n",
      "[CV 5/5; 130/210] END max_depth=8, max_features=5, n_estimators=25; total time=   0.9s\n",
      "[CV 1/5; 131/210] START max_depth=8, max_features=5, n_estimators=30............\n",
      "[CV 1/5; 131/210] END max_depth=8, max_features=5, n_estimators=30; total time=   1.0s\n",
      "[CV 2/5; 131/210] START max_depth=8, max_features=5, n_estimators=30............\n",
      "[CV 2/5; 131/210] END max_depth=8, max_features=5, n_estimators=30; total time=   1.0s\n",
      "[CV 3/5; 131/210] START max_depth=8, max_features=5, n_estimators=30............\n",
      "[CV 3/5; 131/210] END max_depth=8, max_features=5, n_estimators=30; total time=   1.0s\n",
      "[CV 4/5; 131/210] START max_depth=8, max_features=5, n_estimators=30............\n",
      "[CV 4/5; 131/210] END max_depth=8, max_features=5, n_estimators=30; total time=   1.1s\n",
      "[CV 5/5; 131/210] START max_depth=8, max_features=5, n_estimators=30............\n",
      "[CV 5/5; 131/210] END max_depth=8, max_features=5, n_estimators=30; total time=   1.1s\n",
      "[CV 1/5; 132/210] START max_depth=8, max_features=5, n_estimators=35............\n",
      "[CV 1/5; 132/210] END max_depth=8, max_features=5, n_estimators=35; total time=   1.3s\n",
      "[CV 2/5; 132/210] START max_depth=8, max_features=5, n_estimators=35............\n",
      "[CV 2/5; 132/210] END max_depth=8, max_features=5, n_estimators=35; total time=   1.4s\n",
      "[CV 3/5; 132/210] START max_depth=8, max_features=5, n_estimators=35............\n",
      "[CV 3/5; 132/210] END max_depth=8, max_features=5, n_estimators=35; total time=   1.2s\n",
      "[CV 4/5; 132/210] START max_depth=8, max_features=5, n_estimators=35............\n",
      "[CV 4/5; 132/210] END max_depth=8, max_features=5, n_estimators=35; total time=   1.2s\n",
      "[CV 5/5; 132/210] START max_depth=8, max_features=5, n_estimators=35............\n",
      "[CV 5/5; 132/210] END max_depth=8, max_features=5, n_estimators=35; total time=   1.2s\n",
      "[CV 1/5; 133/210] START max_depth=8, max_features=5, n_estimators=40............\n",
      "[CV 1/5; 133/210] END max_depth=8, max_features=5, n_estimators=40; total time=   1.4s\n",
      "[CV 2/5; 133/210] START max_depth=8, max_features=5, n_estimators=40............\n",
      "[CV 2/5; 133/210] END max_depth=8, max_features=5, n_estimators=40; total time=   1.4s\n",
      "[CV 3/5; 133/210] START max_depth=8, max_features=5, n_estimators=40............\n",
      "[CV 3/5; 133/210] END max_depth=8, max_features=5, n_estimators=40; total time=   1.4s\n",
      "[CV 4/5; 133/210] START max_depth=8, max_features=5, n_estimators=40............\n",
      "[CV 4/5; 133/210] END max_depth=8, max_features=5, n_estimators=40; total time=   1.4s\n",
      "[CV 5/5; 133/210] START max_depth=8, max_features=5, n_estimators=40............\n",
      "[CV 5/5; 133/210] END max_depth=8, max_features=5, n_estimators=40; total time=   1.4s\n",
      "[CV 1/5; 134/210] START max_depth=8, max_features=5, n_estimators=45............\n",
      "[CV 1/5; 134/210] END max_depth=8, max_features=5, n_estimators=45; total time=   1.5s\n",
      "[CV 2/5; 134/210] START max_depth=8, max_features=5, n_estimators=45............\n",
      "[CV 2/5; 134/210] END max_depth=8, max_features=5, n_estimators=45; total time=   1.5s\n",
      "[CV 3/5; 134/210] START max_depth=8, max_features=5, n_estimators=45............\n",
      "[CV 3/5; 134/210] END max_depth=8, max_features=5, n_estimators=45; total time=   1.5s\n",
      "[CV 4/5; 134/210] START max_depth=8, max_features=5, n_estimators=45............\n",
      "[CV 4/5; 134/210] END max_depth=8, max_features=5, n_estimators=45; total time=   1.5s\n",
      "[CV 5/5; 134/210] START max_depth=8, max_features=5, n_estimators=45............\n",
      "[CV 5/5; 134/210] END max_depth=8, max_features=5, n_estimators=45; total time=   1.5s\n",
      "[CV 1/5; 135/210] START max_depth=8, max_features=5, n_estimators=50............\n",
      "[CV 1/5; 135/210] END max_depth=8, max_features=5, n_estimators=50; total time=   1.7s\n",
      "[CV 2/5; 135/210] START max_depth=8, max_features=5, n_estimators=50............\n",
      "[CV 2/5; 135/210] END max_depth=8, max_features=5, n_estimators=50; total time=   1.6s\n",
      "[CV 3/5; 135/210] START max_depth=8, max_features=5, n_estimators=50............\n",
      "[CV 3/5; 135/210] END max_depth=8, max_features=5, n_estimators=50; total time=   1.6s\n",
      "[CV 4/5; 135/210] START max_depth=8, max_features=5, n_estimators=50............\n",
      "[CV 4/5; 135/210] END max_depth=8, max_features=5, n_estimators=50; total time=   1.2s\n",
      "[CV 5/5; 135/210] START max_depth=8, max_features=5, n_estimators=50............\n",
      "[CV 5/5; 135/210] END max_depth=8, max_features=5, n_estimators=50; total time=   1.2s\n",
      "[CV 1/5; 136/210] START max_depth=8, max_features=5, n_estimators=55............\n",
      "[CV 1/5; 136/210] END max_depth=8, max_features=5, n_estimators=55; total time=   1.3s\n",
      "[CV 2/5; 136/210] START max_depth=8, max_features=5, n_estimators=55............\n",
      "[CV 2/5; 136/210] END max_depth=8, max_features=5, n_estimators=55; total time=   1.4s\n",
      "[CV 3/5; 136/210] START max_depth=8, max_features=5, n_estimators=55............\n",
      "[CV 3/5; 136/210] END max_depth=8, max_features=5, n_estimators=55; total time=   1.3s\n",
      "[CV 4/5; 136/210] START max_depth=8, max_features=5, n_estimators=55............\n",
      "[CV 4/5; 136/210] END max_depth=8, max_features=5, n_estimators=55; total time=   1.2s\n",
      "[CV 5/5; 136/210] START max_depth=8, max_features=5, n_estimators=55............\n",
      "[CV 5/5; 136/210] END max_depth=8, max_features=5, n_estimators=55; total time=   1.2s\n",
      "[CV 1/5; 137/210] START max_depth=8, max_features=5, n_estimators=60............\n",
      "[CV 1/5; 137/210] END max_depth=8, max_features=5, n_estimators=60; total time=   1.4s\n",
      "[CV 2/5; 137/210] START max_depth=8, max_features=5, n_estimators=60............\n",
      "[CV 2/5; 137/210] END max_depth=8, max_features=5, n_estimators=60; total time=   1.4s\n",
      "[CV 3/5; 137/210] START max_depth=8, max_features=5, n_estimators=60............\n",
      "[CV 3/5; 137/210] END max_depth=8, max_features=5, n_estimators=60; total time=   1.9s\n",
      "[CV 4/5; 137/210] START max_depth=8, max_features=5, n_estimators=60............\n",
      "[CV 4/5; 137/210] END max_depth=8, max_features=5, n_estimators=60; total time=   1.9s\n",
      "[CV 5/5; 137/210] START max_depth=8, max_features=5, n_estimators=60............\n",
      "[CV 5/5; 137/210] END max_depth=8, max_features=5, n_estimators=60; total time=   1.9s\n",
      "[CV 1/5; 138/210] START max_depth=8, max_features=5, n_estimators=65............\n",
      "[CV 1/5; 138/210] END max_depth=8, max_features=5, n_estimators=65; total time=   2.1s\n",
      "[CV 2/5; 138/210] START max_depth=8, max_features=5, n_estimators=65............\n",
      "[CV 2/5; 138/210] END max_depth=8, max_features=5, n_estimators=65; total time=   2.2s\n",
      "[CV 3/5; 138/210] START max_depth=8, max_features=5, n_estimators=65............\n",
      "[CV 3/5; 138/210] END max_depth=8, max_features=5, n_estimators=65; total time=   1.9s\n",
      "[CV 4/5; 138/210] START max_depth=8, max_features=5, n_estimators=65............\n",
      "[CV 4/5; 138/210] END max_depth=8, max_features=5, n_estimators=65; total time=   2.2s\n",
      "[CV 5/5; 138/210] START max_depth=8, max_features=5, n_estimators=65............\n",
      "[CV 5/5; 138/210] END max_depth=8, max_features=5, n_estimators=65; total time=   2.1s\n",
      "[CV 1/5; 139/210] START max_depth=8, max_features=5, n_estimators=70............\n",
      "[CV 1/5; 139/210] END max_depth=8, max_features=5, n_estimators=70; total time=   2.2s\n",
      "[CV 2/5; 139/210] START max_depth=8, max_features=5, n_estimators=70............\n",
      "[CV 2/5; 139/210] END max_depth=8, max_features=5, n_estimators=70; total time=   2.3s\n",
      "[CV 3/5; 139/210] START max_depth=8, max_features=5, n_estimators=70............\n",
      "[CV 3/5; 139/210] END max_depth=8, max_features=5, n_estimators=70; total time=   2.4s\n",
      "[CV 4/5; 139/210] START max_depth=8, max_features=5, n_estimators=70............\n",
      "[CV 4/5; 139/210] END max_depth=8, max_features=5, n_estimators=70; total time=   2.4s\n",
      "[CV 5/5; 139/210] START max_depth=8, max_features=5, n_estimators=70............\n",
      "[CV 5/5; 139/210] END max_depth=8, max_features=5, n_estimators=70; total time=   2.4s\n",
      "[CV 1/5; 140/210] START max_depth=8, max_features=5, n_estimators=75............\n",
      "[CV 1/5; 140/210] END max_depth=8, max_features=5, n_estimators=75; total time=   2.7s\n",
      "[CV 2/5; 140/210] START max_depth=8, max_features=5, n_estimators=75............\n",
      "[CV 2/5; 140/210] END max_depth=8, max_features=5, n_estimators=75; total time=   2.7s\n",
      "[CV 3/5; 140/210] START max_depth=8, max_features=5, n_estimators=75............\n",
      "[CV 3/5; 140/210] END max_depth=8, max_features=5, n_estimators=75; total time=   2.6s\n",
      "[CV 4/5; 140/210] START max_depth=8, max_features=5, n_estimators=75............\n",
      "[CV 4/5; 140/210] END max_depth=8, max_features=5, n_estimators=75; total time=   2.6s\n",
      "[CV 5/5; 140/210] START max_depth=8, max_features=5, n_estimators=75............\n",
      "[CV 5/5; 140/210] END max_depth=8, max_features=5, n_estimators=75; total time=   2.6s\n",
      "[CV 1/5; 141/210] START max_depth=8, max_features=7, n_estimators=10............\n",
      "[CV 1/5; 141/210] END max_depth=8, max_features=7, n_estimators=10; total time=   0.5s\n",
      "[CV 2/5; 141/210] START max_depth=8, max_features=7, n_estimators=10............\n",
      "[CV 2/5; 141/210] END max_depth=8, max_features=7, n_estimators=10; total time=   0.5s\n",
      "[CV 3/5; 141/210] START max_depth=8, max_features=7, n_estimators=10............\n",
      "[CV 3/5; 141/210] END max_depth=8, max_features=7, n_estimators=10; total time=   0.5s\n",
      "[CV 4/5; 141/210] START max_depth=8, max_features=7, n_estimators=10............\n",
      "[CV 4/5; 141/210] END max_depth=8, max_features=7, n_estimators=10; total time=   0.5s\n",
      "[CV 5/5; 141/210] START max_depth=8, max_features=7, n_estimators=10............\n",
      "[CV 5/5; 141/210] END max_depth=8, max_features=7, n_estimators=10; total time=   0.5s\n",
      "[CV 1/5; 142/210] START max_depth=8, max_features=7, n_estimators=15............\n",
      "[CV 1/5; 142/210] END max_depth=8, max_features=7, n_estimators=15; total time=   0.7s\n",
      "[CV 2/5; 142/210] START max_depth=8, max_features=7, n_estimators=15............\n",
      "[CV 2/5; 142/210] END max_depth=8, max_features=7, n_estimators=15; total time=   0.7s\n",
      "[CV 3/5; 142/210] START max_depth=8, max_features=7, n_estimators=15............\n",
      "[CV 3/5; 142/210] END max_depth=8, max_features=7, n_estimators=15; total time=   0.7s\n",
      "[CV 4/5; 142/210] START max_depth=8, max_features=7, n_estimators=15............\n",
      "[CV 4/5; 142/210] END max_depth=8, max_features=7, n_estimators=15; total time=   0.7s\n",
      "[CV 5/5; 142/210] START max_depth=8, max_features=7, n_estimators=15............\n",
      "[CV 5/5; 142/210] END max_depth=8, max_features=7, n_estimators=15; total time=   0.7s\n",
      "[CV 1/5; 143/210] START max_depth=8, max_features=7, n_estimators=20............\n",
      "[CV 1/5; 143/210] END max_depth=8, max_features=7, n_estimators=20; total time=   1.0s\n",
      "[CV 2/5; 143/210] START max_depth=8, max_features=7, n_estimators=20............\n",
      "[CV 2/5; 143/210] END max_depth=8, max_features=7, n_estimators=20; total time=   0.9s\n",
      "[CV 3/5; 143/210] START max_depth=8, max_features=7, n_estimators=20............\n",
      "[CV 3/5; 143/210] END max_depth=8, max_features=7, n_estimators=20; total time=   1.0s\n",
      "[CV 4/5; 143/210] START max_depth=8, max_features=7, n_estimators=20............\n",
      "[CV 4/5; 143/210] END max_depth=8, max_features=7, n_estimators=20; total time=   1.0s\n",
      "[CV 5/5; 143/210] START max_depth=8, max_features=7, n_estimators=20............\n",
      "[CV 5/5; 143/210] END max_depth=8, max_features=7, n_estimators=20; total time=   1.0s\n",
      "[CV 1/5; 144/210] START max_depth=8, max_features=7, n_estimators=25............\n",
      "[CV 1/5; 144/210] END max_depth=8, max_features=7, n_estimators=25; total time=   0.8s\n",
      "[CV 2/5; 144/210] START max_depth=8, max_features=7, n_estimators=25............\n",
      "[CV 2/5; 144/210] END max_depth=8, max_features=7, n_estimators=25; total time=   0.9s\n",
      "[CV 3/5; 144/210] START max_depth=8, max_features=7, n_estimators=25............\n",
      "[CV 3/5; 144/210] END max_depth=8, max_features=7, n_estimators=25; total time=   0.8s\n",
      "[CV 4/5; 144/210] START max_depth=8, max_features=7, n_estimators=25............\n",
      "[CV 4/5; 144/210] END max_depth=8, max_features=7, n_estimators=25; total time=   0.8s\n",
      "[CV 5/5; 144/210] START max_depth=8, max_features=7, n_estimators=25............\n",
      "[CV 5/5; 144/210] END max_depth=8, max_features=7, n_estimators=25; total time=   0.9s\n",
      "[CV 1/5; 145/210] START max_depth=8, max_features=7, n_estimators=30............\n",
      "[CV 1/5; 145/210] END max_depth=8, max_features=7, n_estimators=30; total time=   0.9s\n",
      "[CV 2/5; 145/210] START max_depth=8, max_features=7, n_estimators=30............\n",
      "[CV 2/5; 145/210] END max_depth=8, max_features=7, n_estimators=30; total time=   1.2s\n",
      "[CV 3/5; 145/210] START max_depth=8, max_features=7, n_estimators=30............\n",
      "[CV 3/5; 145/210] END max_depth=8, max_features=7, n_estimators=30; total time=   1.4s\n",
      "[CV 4/5; 145/210] START max_depth=8, max_features=7, n_estimators=30............\n",
      "[CV 4/5; 145/210] END max_depth=8, max_features=7, n_estimators=30; total time=   1.4s\n",
      "[CV 5/5; 145/210] START max_depth=8, max_features=7, n_estimators=30............\n",
      "[CV 5/5; 145/210] END max_depth=8, max_features=7, n_estimators=30; total time=   1.4s\n",
      "[CV 1/5; 146/210] START max_depth=8, max_features=7, n_estimators=35............\n",
      "[CV 1/5; 146/210] END max_depth=8, max_features=7, n_estimators=35; total time=   1.6s\n",
      "[CV 2/5; 146/210] START max_depth=8, max_features=7, n_estimators=35............\n",
      "[CV 2/5; 146/210] END max_depth=8, max_features=7, n_estimators=35; total time=   1.6s\n",
      "[CV 3/5; 146/210] START max_depth=8, max_features=7, n_estimators=35............\n",
      "[CV 3/5; 146/210] END max_depth=8, max_features=7, n_estimators=35; total time=   1.6s\n",
      "[CV 4/5; 146/210] START max_depth=8, max_features=7, n_estimators=35............\n",
      "[CV 4/5; 146/210] END max_depth=8, max_features=7, n_estimators=35; total time=   1.5s\n",
      "[CV 5/5; 146/210] START max_depth=8, max_features=7, n_estimators=35............\n",
      "[CV 5/5; 146/210] END max_depth=8, max_features=7, n_estimators=35; total time=   1.6s\n",
      "[CV 1/5; 147/210] START max_depth=8, max_features=7, n_estimators=40............\n",
      "[CV 1/5; 147/210] END max_depth=8, max_features=7, n_estimators=40; total time=   1.8s\n",
      "[CV 2/5; 147/210] START max_depth=8, max_features=7, n_estimators=40............\n",
      "[CV 2/5; 147/210] END max_depth=8, max_features=7, n_estimators=40; total time=   2.1s\n",
      "[CV 3/5; 147/210] START max_depth=8, max_features=7, n_estimators=40............\n",
      "[CV 3/5; 147/210] END max_depth=8, max_features=7, n_estimators=40; total time=   1.7s\n",
      "[CV 4/5; 147/210] START max_depth=8, max_features=7, n_estimators=40............\n",
      "[CV 4/5; 147/210] END max_depth=8, max_features=7, n_estimators=40; total time=   1.7s\n",
      "[CV 5/5; 147/210] START max_depth=8, max_features=7, n_estimators=40............\n",
      "[CV 5/5; 147/210] END max_depth=8, max_features=7, n_estimators=40; total time=   1.8s\n",
      "[CV 1/5; 148/210] START max_depth=8, max_features=7, n_estimators=45............\n",
      "[CV 1/5; 148/210] END max_depth=8, max_features=7, n_estimators=45; total time=   2.0s\n",
      "[CV 2/5; 148/210] START max_depth=8, max_features=7, n_estimators=45............\n",
      "[CV 2/5; 148/210] END max_depth=8, max_features=7, n_estimators=45; total time=   2.1s\n",
      "[CV 3/5; 148/210] START max_depth=8, max_features=7, n_estimators=45............\n",
      "[CV 3/5; 148/210] END max_depth=8, max_features=7, n_estimators=45; total time=   2.1s\n",
      "[CV 4/5; 148/210] START max_depth=8, max_features=7, n_estimators=45............\n",
      "[CV 4/5; 148/210] END max_depth=8, max_features=7, n_estimators=45; total time=   2.0s\n",
      "[CV 5/5; 148/210] START max_depth=8, max_features=7, n_estimators=45............\n",
      "[CV 5/5; 148/210] END max_depth=8, max_features=7, n_estimators=45; total time=   2.0s\n",
      "[CV 1/5; 149/210] START max_depth=8, max_features=7, n_estimators=50............\n",
      "[CV 1/5; 149/210] END max_depth=8, max_features=7, n_estimators=50; total time=   2.5s\n",
      "[CV 2/5; 149/210] START max_depth=8, max_features=7, n_estimators=50............\n",
      "[CV 2/5; 149/210] END max_depth=8, max_features=7, n_estimators=50; total time=   2.4s\n",
      "[CV 3/5; 149/210] START max_depth=8, max_features=7, n_estimators=50............\n",
      "[CV 3/5; 149/210] END max_depth=8, max_features=7, n_estimators=50; total time=   2.3s\n",
      "[CV 4/5; 149/210] START max_depth=8, max_features=7, n_estimators=50............\n",
      "[CV 4/5; 149/210] END max_depth=8, max_features=7, n_estimators=50; total time=   2.3s\n",
      "[CV 5/5; 149/210] START max_depth=8, max_features=7, n_estimators=50............\n",
      "[CV 5/5; 149/210] END max_depth=8, max_features=7, n_estimators=50; total time=   2.3s\n",
      "[CV 1/5; 150/210] START max_depth=8, max_features=7, n_estimators=55............\n",
      "[CV 1/5; 150/210] END max_depth=8, max_features=7, n_estimators=55; total time=   2.7s\n",
      "[CV 2/5; 150/210] START max_depth=8, max_features=7, n_estimators=55............\n",
      "[CV 2/5; 150/210] END max_depth=8, max_features=7, n_estimators=55; total time=   2.7s\n",
      "[CV 3/5; 150/210] START max_depth=8, max_features=7, n_estimators=55............\n",
      "[CV 3/5; 150/210] END max_depth=8, max_features=7, n_estimators=55; total time=   2.7s\n",
      "[CV 4/5; 150/210] START max_depth=8, max_features=7, n_estimators=55............\n",
      "[CV 4/5; 150/210] END max_depth=8, max_features=7, n_estimators=55; total time=   2.6s\n",
      "[CV 5/5; 150/210] START max_depth=8, max_features=7, n_estimators=55............\n",
      "[CV 5/5; 150/210] END max_depth=8, max_features=7, n_estimators=55; total time=   2.8s\n",
      "[CV 1/5; 151/210] START max_depth=8, max_features=7, n_estimators=60............\n",
      "[CV 1/5; 151/210] END max_depth=8, max_features=7, n_estimators=60; total time=   2.9s\n",
      "[CV 2/5; 151/210] START max_depth=8, max_features=7, n_estimators=60............\n",
      "[CV 2/5; 151/210] END max_depth=8, max_features=7, n_estimators=60; total time=   2.9s\n",
      "[CV 3/5; 151/210] START max_depth=8, max_features=7, n_estimators=60............\n",
      "[CV 3/5; 151/210] END max_depth=8, max_features=7, n_estimators=60; total time=   2.0s\n",
      "[CV 4/5; 151/210] START max_depth=8, max_features=7, n_estimators=60............\n",
      "[CV 4/5; 151/210] END max_depth=8, max_features=7, n_estimators=60; total time=   2.7s\n",
      "[CV 5/5; 151/210] START max_depth=8, max_features=7, n_estimators=60............\n",
      "[CV 5/5; 151/210] END max_depth=8, max_features=7, n_estimators=60; total time=   2.6s\n",
      "[CV 1/5; 152/210] START max_depth=8, max_features=7, n_estimators=65............\n",
      "[CV 1/5; 152/210] END max_depth=8, max_features=7, n_estimators=65; total time=   2.8s\n",
      "[CV 2/5; 152/210] START max_depth=8, max_features=7, n_estimators=65............\n",
      "[CV 2/5; 152/210] END max_depth=8, max_features=7, n_estimators=65; total time=   2.8s\n",
      "[CV 3/5; 152/210] START max_depth=8, max_features=7, n_estimators=65............\n",
      "[CV 3/5; 152/210] END max_depth=8, max_features=7, n_estimators=65; total time=   2.8s\n",
      "[CV 4/5; 152/210] START max_depth=8, max_features=7, n_estimators=65............\n",
      "[CV 4/5; 152/210] END max_depth=8, max_features=7, n_estimators=65; total time=   2.7s\n",
      "[CV 5/5; 152/210] START max_depth=8, max_features=7, n_estimators=65............\n",
      "[CV 5/5; 152/210] END max_depth=8, max_features=7, n_estimators=65; total time=   2.9s\n",
      "[CV 1/5; 153/210] START max_depth=8, max_features=7, n_estimators=70............\n",
      "[CV 1/5; 153/210] END max_depth=8, max_features=7, n_estimators=70; total time=   3.2s\n",
      "[CV 2/5; 153/210] START max_depth=8, max_features=7, n_estimators=70............\n",
      "[CV 2/5; 153/210] END max_depth=8, max_features=7, n_estimators=70; total time=   3.1s\n",
      "[CV 3/5; 153/210] START max_depth=8, max_features=7, n_estimators=70............\n",
      "[CV 3/5; 153/210] END max_depth=8, max_features=7, n_estimators=70; total time=   3.4s\n",
      "[CV 4/5; 153/210] START max_depth=8, max_features=7, n_estimators=70............\n",
      "[CV 4/5; 153/210] END max_depth=8, max_features=7, n_estimators=70; total time=   3.0s\n",
      "[CV 5/5; 153/210] START max_depth=8, max_features=7, n_estimators=70............\n",
      "[CV 5/5; 153/210] END max_depth=8, max_features=7, n_estimators=70; total time=   3.0s\n",
      "[CV 1/5; 154/210] START max_depth=8, max_features=7, n_estimators=75............\n",
      "[CV 1/5; 154/210] END max_depth=8, max_features=7, n_estimators=75; total time=   3.4s\n",
      "[CV 2/5; 154/210] START max_depth=8, max_features=7, n_estimators=75............\n",
      "[CV 2/5; 154/210] END max_depth=8, max_features=7, n_estimators=75; total time=   3.4s\n",
      "[CV 3/5; 154/210] START max_depth=8, max_features=7, n_estimators=75............\n",
      "[CV 3/5; 154/210] END max_depth=8, max_features=7, n_estimators=75; total time=   3.2s\n",
      "[CV 4/5; 154/210] START max_depth=8, max_features=7, n_estimators=75............\n",
      "[CV 4/5; 154/210] END max_depth=8, max_features=7, n_estimators=75; total time=   3.3s\n",
      "[CV 5/5; 154/210] START max_depth=8, max_features=7, n_estimators=75............\n",
      "[CV 5/5; 154/210] END max_depth=8, max_features=7, n_estimators=75; total time=   3.4s\n",
      "[CV 1/5; 155/210] START max_depth=8, max_features=9, n_estimators=10............\n",
      "[CV 1/5; 155/210] END max_depth=8, max_features=9, n_estimators=10; total time=   0.6s\n",
      "[CV 2/5; 155/210] START max_depth=8, max_features=9, n_estimators=10............\n",
      "[CV 2/5; 155/210] END max_depth=8, max_features=9, n_estimators=10; total time=   0.6s\n",
      "[CV 3/5; 155/210] START max_depth=8, max_features=9, n_estimators=10............\n",
      "[CV 3/5; 155/210] END max_depth=8, max_features=9, n_estimators=10; total time=   0.6s\n",
      "[CV 4/5; 155/210] START max_depth=8, max_features=9, n_estimators=10............\n",
      "[CV 4/5; 155/210] END max_depth=8, max_features=9, n_estimators=10; total time=   0.6s\n",
      "[CV 5/5; 155/210] START max_depth=8, max_features=9, n_estimators=10............\n",
      "[CV 5/5; 155/210] END max_depth=8, max_features=9, n_estimators=10; total time=   0.6s\n",
      "[CV 1/5; 156/210] START max_depth=8, max_features=9, n_estimators=15............\n",
      "[CV 1/5; 156/210] END max_depth=8, max_features=9, n_estimators=15; total time=   0.9s\n",
      "[CV 2/5; 156/210] START max_depth=8, max_features=9, n_estimators=15............\n",
      "[CV 2/5; 156/210] END max_depth=8, max_features=9, n_estimators=15; total time=   0.8s\n",
      "[CV 3/5; 156/210] START max_depth=8, max_features=9, n_estimators=15............\n",
      "[CV 3/5; 156/210] END max_depth=8, max_features=9, n_estimators=15; total time=   0.9s\n",
      "[CV 4/5; 156/210] START max_depth=8, max_features=9, n_estimators=15............\n",
      "[CV 4/5; 156/210] END max_depth=8, max_features=9, n_estimators=15; total time=   0.9s\n",
      "[CV 5/5; 156/210] START max_depth=8, max_features=9, n_estimators=15............\n",
      "[CV 5/5; 156/210] END max_depth=8, max_features=9, n_estimators=15; total time=   0.8s\n",
      "[CV 1/5; 157/210] START max_depth=8, max_features=9, n_estimators=20............\n",
      "[CV 1/5; 157/210] END max_depth=8, max_features=9, n_estimators=20; total time=   1.3s\n",
      "[CV 2/5; 157/210] START max_depth=8, max_features=9, n_estimators=20............\n",
      "[CV 2/5; 157/210] END max_depth=8, max_features=9, n_estimators=20; total time=   1.0s\n",
      "[CV 3/5; 157/210] START max_depth=8, max_features=9, n_estimators=20............\n",
      "[CV 3/5; 157/210] END max_depth=8, max_features=9, n_estimators=20; total time=   1.1s\n",
      "[CV 4/5; 157/210] START max_depth=8, max_features=9, n_estimators=20............\n",
      "[CV 4/5; 157/210] END max_depth=8, max_features=9, n_estimators=20; total time=   1.1s\n",
      "[CV 5/5; 157/210] START max_depth=8, max_features=9, n_estimators=20............\n",
      "[CV 5/5; 157/210] END max_depth=8, max_features=9, n_estimators=20; total time=   1.1s\n",
      "[CV 1/5; 158/210] START max_depth=8, max_features=9, n_estimators=25............\n",
      "[CV 1/5; 158/210] END max_depth=8, max_features=9, n_estimators=25; total time=   1.4s\n",
      "[CV 2/5; 158/210] START max_depth=8, max_features=9, n_estimators=25............\n",
      "[CV 2/5; 158/210] END max_depth=8, max_features=9, n_estimators=25; total time=   1.4s\n",
      "[CV 3/5; 158/210] START max_depth=8, max_features=9, n_estimators=25............\n",
      "[CV 3/5; 158/210] END max_depth=8, max_features=9, n_estimators=25; total time=   1.4s\n",
      "[CV 4/5; 158/210] START max_depth=8, max_features=9, n_estimators=25............\n",
      "[CV 4/5; 158/210] END max_depth=8, max_features=9, n_estimators=25; total time=   1.5s\n",
      "[CV 5/5; 158/210] START max_depth=8, max_features=9, n_estimators=25............\n",
      "[CV 5/5; 158/210] END max_depth=8, max_features=9, n_estimators=25; total time=   1.2s\n",
      "[CV 1/5; 159/210] START max_depth=8, max_features=9, n_estimators=30............\n",
      "[CV 1/5; 159/210] END max_depth=8, max_features=9, n_estimators=30; total time=   1.2s\n",
      "[CV 2/5; 159/210] START max_depth=8, max_features=9, n_estimators=30............\n",
      "[CV 2/5; 159/210] END max_depth=8, max_features=9, n_estimators=30; total time=   1.1s\n",
      "[CV 3/5; 159/210] START max_depth=8, max_features=9, n_estimators=30............\n",
      "[CV 3/5; 159/210] END max_depth=8, max_features=9, n_estimators=30; total time=   1.1s\n",
      "[CV 4/5; 159/210] START max_depth=8, max_features=9, n_estimators=30............\n",
      "[CV 4/5; 159/210] END max_depth=8, max_features=9, n_estimators=30; total time=   1.1s\n",
      "[CV 5/5; 159/210] START max_depth=8, max_features=9, n_estimators=30............\n",
      "[CV 5/5; 159/210] END max_depth=8, max_features=9, n_estimators=30; total time=   1.1s\n",
      "[CV 1/5; 160/210] START max_depth=8, max_features=9, n_estimators=35............\n",
      "[CV 1/5; 160/210] END max_depth=8, max_features=9, n_estimators=35; total time=   1.5s\n",
      "[CV 2/5; 160/210] START max_depth=8, max_features=9, n_estimators=35............\n",
      "[CV 2/5; 160/210] END max_depth=8, max_features=9, n_estimators=35; total time=   1.5s\n",
      "[CV 3/5; 160/210] START max_depth=8, max_features=9, n_estimators=35............\n",
      "[CV 3/5; 160/210] END max_depth=8, max_features=9, n_estimators=35; total time=   1.4s\n",
      "[CV 4/5; 160/210] START max_depth=8, max_features=9, n_estimators=35............\n",
      "[CV 4/5; 160/210] END max_depth=8, max_features=9, n_estimators=35; total time=   1.4s\n",
      "[CV 5/5; 160/210] START max_depth=8, max_features=9, n_estimators=35............\n",
      "[CV 5/5; 160/210] END max_depth=8, max_features=9, n_estimators=35; total time=   1.3s\n",
      "[CV 1/5; 161/210] START max_depth=8, max_features=9, n_estimators=40............\n",
      "[CV 1/5; 161/210] END max_depth=8, max_features=9, n_estimators=40; total time=   1.6s\n",
      "[CV 2/5; 161/210] START max_depth=8, max_features=9, n_estimators=40............\n",
      "[CV 2/5; 161/210] END max_depth=8, max_features=9, n_estimators=40; total time=   1.7s\n",
      "[CV 3/5; 161/210] START max_depth=8, max_features=9, n_estimators=40............\n",
      "[CV 3/5; 161/210] END max_depth=8, max_features=9, n_estimators=40; total time=   1.5s\n",
      "[CV 4/5; 161/210] START max_depth=8, max_features=9, n_estimators=40............\n",
      "[CV 4/5; 161/210] END max_depth=8, max_features=9, n_estimators=40; total time=   1.6s\n",
      "[CV 5/5; 161/210] START max_depth=8, max_features=9, n_estimators=40............\n",
      "[CV 5/5; 161/210] END max_depth=8, max_features=9, n_estimators=40; total time=   1.7s\n",
      "[CV 1/5; 162/210] START max_depth=8, max_features=9, n_estimators=45............\n",
      "[CV 1/5; 162/210] END max_depth=8, max_features=9, n_estimators=45; total time=   1.9s\n",
      "[CV 2/5; 162/210] START max_depth=8, max_features=9, n_estimators=45............\n",
      "[CV 2/5; 162/210] END max_depth=8, max_features=9, n_estimators=45; total time=   1.8s\n",
      "[CV 3/5; 162/210] START max_depth=8, max_features=9, n_estimators=45............\n",
      "[CV 3/5; 162/210] END max_depth=8, max_features=9, n_estimators=45; total time=   1.9s\n",
      "[CV 4/5; 162/210] START max_depth=8, max_features=9, n_estimators=45............\n",
      "[CV 4/5; 162/210] END max_depth=8, max_features=9, n_estimators=45; total time=   1.8s\n",
      "[CV 5/5; 162/210] START max_depth=8, max_features=9, n_estimators=45............\n",
      "[CV 5/5; 162/210] END max_depth=8, max_features=9, n_estimators=45; total time=   2.0s\n",
      "[CV 1/5; 163/210] START max_depth=8, max_features=9, n_estimators=50............\n",
      "[CV 1/5; 163/210] END max_depth=8, max_features=9, n_estimators=50; total time=   2.1s\n",
      "[CV 2/5; 163/210] START max_depth=8, max_features=9, n_estimators=50............\n",
      "[CV 2/5; 163/210] END max_depth=8, max_features=9, n_estimators=50; total time=   2.0s\n",
      "[CV 3/5; 163/210] START max_depth=8, max_features=9, n_estimators=50............\n",
      "[CV 3/5; 163/210] END max_depth=8, max_features=9, n_estimators=50; total time=   2.1s\n",
      "[CV 4/5; 163/210] START max_depth=8, max_features=9, n_estimators=50............\n",
      "[CV 4/5; 163/210] END max_depth=8, max_features=9, n_estimators=50; total time=   1.9s\n",
      "[CV 5/5; 163/210] START max_depth=8, max_features=9, n_estimators=50............\n",
      "[CV 5/5; 163/210] END max_depth=8, max_features=9, n_estimators=50; total time=   2.1s\n",
      "[CV 1/5; 164/210] START max_depth=8, max_features=9, n_estimators=55............\n",
      "[CV 1/5; 164/210] END max_depth=8, max_features=9, n_estimators=55; total time=   2.1s\n",
      "[CV 2/5; 164/210] START max_depth=8, max_features=9, n_estimators=55............\n",
      "[CV 2/5; 164/210] END max_depth=8, max_features=9, n_estimators=55; total time=   2.4s\n",
      "[CV 3/5; 164/210] START max_depth=8, max_features=9, n_estimators=55............\n",
      "[CV 3/5; 164/210] END max_depth=8, max_features=9, n_estimators=55; total time=   2.3s\n",
      "[CV 4/5; 164/210] START max_depth=8, max_features=9, n_estimators=55............\n",
      "[CV 4/5; 164/210] END max_depth=8, max_features=9, n_estimators=55; total time=   2.3s\n",
      "[CV 5/5; 164/210] START max_depth=8, max_features=9, n_estimators=55............\n",
      "[CV 5/5; 164/210] END max_depth=8, max_features=9, n_estimators=55; total time=   2.1s\n",
      "[CV 1/5; 165/210] START max_depth=8, max_features=9, n_estimators=60............\n",
      "[CV 1/5; 165/210] END max_depth=8, max_features=9, n_estimators=60; total time=   2.5s\n",
      "[CV 2/5; 165/210] START max_depth=8, max_features=9, n_estimators=60............\n",
      "[CV 2/5; 165/210] END max_depth=8, max_features=9, n_estimators=60; total time=   2.3s\n",
      "[CV 3/5; 165/210] START max_depth=8, max_features=9, n_estimators=60............\n",
      "[CV 3/5; 165/210] END max_depth=8, max_features=9, n_estimators=60; total time=   2.3s\n",
      "[CV 4/5; 165/210] START max_depth=8, max_features=9, n_estimators=60............\n",
      "[CV 4/5; 165/210] END max_depth=8, max_features=9, n_estimators=60; total time=   2.4s\n",
      "[CV 5/5; 165/210] START max_depth=8, max_features=9, n_estimators=60............\n",
      "[CV 5/5; 165/210] END max_depth=8, max_features=9, n_estimators=60; total time=   2.3s\n",
      "[CV 1/5; 166/210] START max_depth=8, max_features=9, n_estimators=65............\n",
      "[CV 1/5; 166/210] END max_depth=8, max_features=9, n_estimators=65; total time=   2.6s\n",
      "[CV 2/5; 166/210] START max_depth=8, max_features=9, n_estimators=65............\n",
      "[CV 2/5; 166/210] END max_depth=8, max_features=9, n_estimators=65; total time=   3.2s\n",
      "[CV 3/5; 166/210] START max_depth=8, max_features=9, n_estimators=65............\n",
      "[CV 3/5; 166/210] END max_depth=8, max_features=9, n_estimators=65; total time=   2.7s\n",
      "[CV 4/5; 166/210] START max_depth=8, max_features=9, n_estimators=65............\n",
      "[CV 4/5; 166/210] END max_depth=8, max_features=9, n_estimators=65; total time=   2.5s\n",
      "[CV 5/5; 166/210] START max_depth=8, max_features=9, n_estimators=65............\n",
      "[CV 5/5; 166/210] END max_depth=8, max_features=9, n_estimators=65; total time=   2.5s\n",
      "[CV 1/5; 167/210] START max_depth=8, max_features=9, n_estimators=70............\n",
      "[CV 1/5; 167/210] END max_depth=8, max_features=9, n_estimators=70; total time=   2.9s\n",
      "[CV 2/5; 167/210] START max_depth=8, max_features=9, n_estimators=70............\n",
      "[CV 2/5; 167/210] END max_depth=8, max_features=9, n_estimators=70; total time=   2.8s\n",
      "[CV 3/5; 167/210] START max_depth=8, max_features=9, n_estimators=70............\n",
      "[CV 3/5; 167/210] END max_depth=8, max_features=9, n_estimators=70; total time=   2.7s\n",
      "[CV 4/5; 167/210] START max_depth=8, max_features=9, n_estimators=70............\n",
      "[CV 4/5; 167/210] END max_depth=8, max_features=9, n_estimators=70; total time=   2.8s\n",
      "[CV 5/5; 167/210] START max_depth=8, max_features=9, n_estimators=70............\n",
      "[CV 5/5; 167/210] END max_depth=8, max_features=9, n_estimators=70; total time=   2.9s\n",
      "[CV 1/5; 168/210] START max_depth=8, max_features=9, n_estimators=75............\n",
      "[CV 1/5; 168/210] END max_depth=8, max_features=9, n_estimators=75; total time=   3.3s\n",
      "[CV 2/5; 168/210] START max_depth=8, max_features=9, n_estimators=75............\n",
      "[CV 2/5; 168/210] END max_depth=8, max_features=9, n_estimators=75; total time=   4.2s\n",
      "[CV 3/5; 168/210] START max_depth=8, max_features=9, n_estimators=75............\n",
      "[CV 3/5; 168/210] END max_depth=8, max_features=9, n_estimators=75; total time=   4.3s\n",
      "[CV 4/5; 168/210] START max_depth=8, max_features=9, n_estimators=75............\n",
      "[CV 4/5; 168/210] END max_depth=8, max_features=9, n_estimators=75; total time=   4.3s\n",
      "[CV 5/5; 168/210] START max_depth=8, max_features=9, n_estimators=75............\n",
      "[CV 5/5; 168/210] END max_depth=8, max_features=9, n_estimators=75; total time=   4.3s\n",
      "[CV 1/5; 169/210] START max_depth=10, max_features=5, n_estimators=10...........\n",
      "[CV 1/5; 169/210] END max_depth=10, max_features=5, n_estimators=10; total time=   0.4s\n",
      "[CV 2/5; 169/210] START max_depth=10, max_features=5, n_estimators=10...........\n",
      "[CV 2/5; 169/210] END max_depth=10, max_features=5, n_estimators=10; total time=   0.4s\n",
      "[CV 3/5; 169/210] START max_depth=10, max_features=5, n_estimators=10...........\n",
      "[CV 3/5; 169/210] END max_depth=10, max_features=5, n_estimators=10; total time=   0.3s\n",
      "[CV 4/5; 169/210] START max_depth=10, max_features=5, n_estimators=10...........\n",
      "[CV 4/5; 169/210] END max_depth=10, max_features=5, n_estimators=10; total time=   0.3s\n",
      "[CV 5/5; 169/210] START max_depth=10, max_features=5, n_estimators=10...........\n",
      "[CV 5/5; 169/210] END max_depth=10, max_features=5, n_estimators=10; total time=   0.3s\n",
      "[CV 1/5; 170/210] START max_depth=10, max_features=5, n_estimators=15...........\n",
      "[CV 1/5; 170/210] END max_depth=10, max_features=5, n_estimators=15; total time=   0.4s\n",
      "[CV 2/5; 170/210] START max_depth=10, max_features=5, n_estimators=15...........\n",
      "[CV 2/5; 170/210] END max_depth=10, max_features=5, n_estimators=15; total time=   0.4s\n",
      "[CV 3/5; 170/210] START max_depth=10, max_features=5, n_estimators=15...........\n",
      "[CV 3/5; 170/210] END max_depth=10, max_features=5, n_estimators=15; total time=   0.4s\n",
      "[CV 4/5; 170/210] START max_depth=10, max_features=5, n_estimators=15...........\n",
      "[CV 4/5; 170/210] END max_depth=10, max_features=5, n_estimators=15; total time=   0.4s\n",
      "[CV 5/5; 170/210] START max_depth=10, max_features=5, n_estimators=15...........\n",
      "[CV 5/5; 170/210] END max_depth=10, max_features=5, n_estimators=15; total time=   0.5s\n",
      "[CV 1/5; 171/210] START max_depth=10, max_features=5, n_estimators=20...........\n",
      "[CV 1/5; 171/210] END max_depth=10, max_features=5, n_estimators=20; total time=   0.6s\n",
      "[CV 2/5; 171/210] START max_depth=10, max_features=5, n_estimators=20...........\n",
      "[CV 2/5; 171/210] END max_depth=10, max_features=5, n_estimators=20; total time=   0.8s\n",
      "[CV 3/5; 171/210] START max_depth=10, max_features=5, n_estimators=20...........\n",
      "[CV 3/5; 171/210] END max_depth=10, max_features=5, n_estimators=20; total time=   0.8s\n",
      "[CV 4/5; 171/210] START max_depth=10, max_features=5, n_estimators=20...........\n",
      "[CV 4/5; 171/210] END max_depth=10, max_features=5, n_estimators=20; total time=   0.8s\n",
      "[CV 5/5; 171/210] START max_depth=10, max_features=5, n_estimators=20...........\n",
      "[CV 5/5; 171/210] END max_depth=10, max_features=5, n_estimators=20; total time=   0.9s\n",
      "[CV 1/5; 172/210] START max_depth=10, max_features=5, n_estimators=25...........\n",
      "[CV 1/5; 172/210] END max_depth=10, max_features=5, n_estimators=25; total time=   1.0s\n",
      "[CV 2/5; 172/210] START max_depth=10, max_features=5, n_estimators=25...........\n",
      "[CV 2/5; 172/210] END max_depth=10, max_features=5, n_estimators=25; total time=   1.0s\n",
      "[CV 3/5; 172/210] START max_depth=10, max_features=5, n_estimators=25...........\n",
      "[CV 3/5; 172/210] END max_depth=10, max_features=5, n_estimators=25; total time=   1.0s\n",
      "[CV 4/5; 172/210] START max_depth=10, max_features=5, n_estimators=25...........\n",
      "[CV 4/5; 172/210] END max_depth=10, max_features=5, n_estimators=25; total time=   1.0s\n",
      "[CV 5/5; 172/210] START max_depth=10, max_features=5, n_estimators=25...........\n",
      "[CV 5/5; 172/210] END max_depth=10, max_features=5, n_estimators=25; total time=   1.0s\n",
      "[CV 1/5; 173/210] START max_depth=10, max_features=5, n_estimators=30...........\n",
      "[CV 1/5; 173/210] END max_depth=10, max_features=5, n_estimators=30; total time=   1.2s\n",
      "[CV 2/5; 173/210] START max_depth=10, max_features=5, n_estimators=30...........\n",
      "[CV 2/5; 173/210] END max_depth=10, max_features=5, n_estimators=30; total time=   1.2s\n",
      "[CV 3/5; 173/210] START max_depth=10, max_features=5, n_estimators=30...........\n",
      "[CV 3/5; 173/210] END max_depth=10, max_features=5, n_estimators=30; total time=   1.2s\n",
      "[CV 4/5; 173/210] START max_depth=10, max_features=5, n_estimators=30...........\n",
      "[CV 4/5; 173/210] END max_depth=10, max_features=5, n_estimators=30; total time=   0.9s\n",
      "[CV 5/5; 173/210] START max_depth=10, max_features=5, n_estimators=30...........\n",
      "[CV 5/5; 173/210] END max_depth=10, max_features=5, n_estimators=30; total time=   1.1s\n",
      "[CV 1/5; 174/210] START max_depth=10, max_features=5, n_estimators=35...........\n",
      "[CV 1/5; 174/210] END max_depth=10, max_features=5, n_estimators=35; total time=   0.9s\n",
      "[CV 2/5; 174/210] START max_depth=10, max_features=5, n_estimators=35...........\n",
      "[CV 2/5; 174/210] END max_depth=10, max_features=5, n_estimators=35; total time=   1.0s\n",
      "[CV 3/5; 174/210] START max_depth=10, max_features=5, n_estimators=35...........\n",
      "[CV 3/5; 174/210] END max_depth=10, max_features=5, n_estimators=35; total time=   0.9s\n",
      "[CV 4/5; 174/210] START max_depth=10, max_features=5, n_estimators=35...........\n",
      "[CV 4/5; 174/210] END max_depth=10, max_features=5, n_estimators=35; total time=   0.9s\n",
      "[CV 5/5; 174/210] START max_depth=10, max_features=5, n_estimators=35...........\n",
      "[CV 5/5; 174/210] END max_depth=10, max_features=5, n_estimators=35; total time=   0.9s\n",
      "[CV 1/5; 175/210] START max_depth=10, max_features=5, n_estimators=40...........\n",
      "[CV 1/5; 175/210] END max_depth=10, max_features=5, n_estimators=40; total time=   1.1s\n",
      "[CV 2/5; 175/210] START max_depth=10, max_features=5, n_estimators=40...........\n",
      "[CV 2/5; 175/210] END max_depth=10, max_features=5, n_estimators=40; total time=   1.2s\n",
      "[CV 3/5; 175/210] START max_depth=10, max_features=5, n_estimators=40...........\n",
      "[CV 3/5; 175/210] END max_depth=10, max_features=5, n_estimators=40; total time=   1.3s\n",
      "[CV 4/5; 175/210] START max_depth=10, max_features=5, n_estimators=40...........\n",
      "[CV 4/5; 175/210] END max_depth=10, max_features=5, n_estimators=40; total time=   1.2s\n",
      "[CV 5/5; 175/210] START max_depth=10, max_features=5, n_estimators=40...........\n",
      "[CV 5/5; 175/210] END max_depth=10, max_features=5, n_estimators=40; total time=   1.1s\n",
      "[CV 1/5; 176/210] START max_depth=10, max_features=5, n_estimators=45...........\n",
      "[CV 1/5; 176/210] END max_depth=10, max_features=5, n_estimators=45; total time=   1.2s\n",
      "[CV 2/5; 176/210] START max_depth=10, max_features=5, n_estimators=45...........\n",
      "[CV 2/5; 176/210] END max_depth=10, max_features=5, n_estimators=45; total time=   1.2s\n",
      "[CV 3/5; 176/210] START max_depth=10, max_features=5, n_estimators=45...........\n",
      "[CV 3/5; 176/210] END max_depth=10, max_features=5, n_estimators=45; total time=   1.3s\n",
      "[CV 4/5; 176/210] START max_depth=10, max_features=5, n_estimators=45...........\n",
      "[CV 4/5; 176/210] END max_depth=10, max_features=5, n_estimators=45; total time=   1.2s\n",
      "[CV 5/5; 176/210] START max_depth=10, max_features=5, n_estimators=45...........\n",
      "[CV 5/5; 176/210] END max_depth=10, max_features=5, n_estimators=45; total time=   1.3s\n",
      "[CV 1/5; 177/210] START max_depth=10, max_features=5, n_estimators=50...........\n",
      "[CV 1/5; 177/210] END max_depth=10, max_features=5, n_estimators=50; total time=   1.4s\n",
      "[CV 2/5; 177/210] START max_depth=10, max_features=5, n_estimators=50...........\n",
      "[CV 2/5; 177/210] END max_depth=10, max_features=5, n_estimators=50; total time=   1.3s\n",
      "[CV 3/5; 177/210] START max_depth=10, max_features=5, n_estimators=50...........\n",
      "[CV 3/5; 177/210] END max_depth=10, max_features=5, n_estimators=50; total time=   1.3s\n",
      "[CV 4/5; 177/210] START max_depth=10, max_features=5, n_estimators=50...........\n",
      "[CV 4/5; 177/210] END max_depth=10, max_features=5, n_estimators=50; total time=   1.3s\n",
      "[CV 5/5; 177/210] START max_depth=10, max_features=5, n_estimators=50...........\n",
      "[CV 5/5; 177/210] END max_depth=10, max_features=5, n_estimators=50; total time=   1.3s\n",
      "[CV 1/5; 178/210] START max_depth=10, max_features=5, n_estimators=55...........\n",
      "[CV 1/5; 178/210] END max_depth=10, max_features=5, n_estimators=55; total time=   1.4s\n",
      "[CV 2/5; 178/210] START max_depth=10, max_features=5, n_estimators=55...........\n",
      "[CV 2/5; 178/210] END max_depth=10, max_features=5, n_estimators=55; total time=   1.5s\n",
      "[CV 3/5; 178/210] START max_depth=10, max_features=5, n_estimators=55...........\n",
      "[CV 3/5; 178/210] END max_depth=10, max_features=5, n_estimators=55; total time=   1.5s\n",
      "[CV 4/5; 178/210] START max_depth=10, max_features=5, n_estimators=55...........\n",
      "[CV 4/5; 178/210] END max_depth=10, max_features=5, n_estimators=55; total time=   1.6s\n",
      "[CV 5/5; 178/210] START max_depth=10, max_features=5, n_estimators=55...........\n",
      "[CV 5/5; 178/210] END max_depth=10, max_features=5, n_estimators=55; total time=   1.5s\n",
      "[CV 1/5; 179/210] START max_depth=10, max_features=5, n_estimators=60...........\n",
      "[CV 1/5; 179/210] END max_depth=10, max_features=5, n_estimators=60; total time=   2.0s\n",
      "[CV 2/5; 179/210] START max_depth=10, max_features=5, n_estimators=60...........\n",
      "[CV 2/5; 179/210] END max_depth=10, max_features=5, n_estimators=60; total time=   2.4s\n",
      "[CV 3/5; 179/210] START max_depth=10, max_features=5, n_estimators=60...........\n",
      "[CV 3/5; 179/210] END max_depth=10, max_features=5, n_estimators=60; total time=   2.4s\n",
      "[CV 4/5; 179/210] START max_depth=10, max_features=5, n_estimators=60...........\n",
      "[CV 4/5; 179/210] END max_depth=10, max_features=5, n_estimators=60; total time=   2.4s\n",
      "[CV 5/5; 179/210] START max_depth=10, max_features=5, n_estimators=60...........\n",
      "[CV 5/5; 179/210] END max_depth=10, max_features=5, n_estimators=60; total time=   2.3s\n",
      "[CV 1/5; 180/210] START max_depth=10, max_features=5, n_estimators=65...........\n",
      "[CV 1/5; 180/210] END max_depth=10, max_features=5, n_estimators=65; total time=   2.5s\n",
      "[CV 2/5; 180/210] START max_depth=10, max_features=5, n_estimators=65...........\n",
      "[CV 2/5; 180/210] END max_depth=10, max_features=5, n_estimators=65; total time=   2.5s\n",
      "[CV 3/5; 180/210] START max_depth=10, max_features=5, n_estimators=65...........\n",
      "[CV 3/5; 180/210] END max_depth=10, max_features=5, n_estimators=65; total time=   2.6s\n",
      "[CV 4/5; 180/210] START max_depth=10, max_features=5, n_estimators=65...........\n",
      "[CV 4/5; 180/210] END max_depth=10, max_features=5, n_estimators=65; total time=   2.5s\n",
      "[CV 5/5; 180/210] START max_depth=10, max_features=5, n_estimators=65...........\n",
      "[CV 5/5; 180/210] END max_depth=10, max_features=5, n_estimators=65; total time=   2.5s\n",
      "[CV 1/5; 181/210] START max_depth=10, max_features=5, n_estimators=70...........\n",
      "[CV 1/5; 181/210] END max_depth=10, max_features=5, n_estimators=70; total time=   2.8s\n",
      "[CV 2/5; 181/210] START max_depth=10, max_features=5, n_estimators=70...........\n",
      "[CV 2/5; 181/210] END max_depth=10, max_features=5, n_estimators=70; total time=   2.8s\n",
      "[CV 3/5; 181/210] START max_depth=10, max_features=5, n_estimators=70...........\n",
      "[CV 3/5; 181/210] END max_depth=10, max_features=5, n_estimators=70; total time=   2.8s\n",
      "[CV 4/5; 181/210] START max_depth=10, max_features=5, n_estimators=70...........\n",
      "[CV 4/5; 181/210] END max_depth=10, max_features=5, n_estimators=70; total time=   2.7s\n",
      "[CV 5/5; 181/210] START max_depth=10, max_features=5, n_estimators=70...........\n",
      "[CV 5/5; 181/210] END max_depth=10, max_features=5, n_estimators=70; total time=   2.7s\n",
      "[CV 1/5; 182/210] START max_depth=10, max_features=5, n_estimators=75...........\n",
      "[CV 1/5; 182/210] END max_depth=10, max_features=5, n_estimators=75; total time=   3.0s\n",
      "[CV 2/5; 182/210] START max_depth=10, max_features=5, n_estimators=75...........\n",
      "[CV 2/5; 182/210] END max_depth=10, max_features=5, n_estimators=75; total time=   2.9s\n",
      "[CV 3/5; 182/210] START max_depth=10, max_features=5, n_estimators=75...........\n",
      "[CV 3/5; 182/210] END max_depth=10, max_features=5, n_estimators=75; total time=   3.0s\n",
      "[CV 4/5; 182/210] START max_depth=10, max_features=5, n_estimators=75...........\n",
      "[CV 4/5; 182/210] END max_depth=10, max_features=5, n_estimators=75; total time=   3.0s\n",
      "[CV 5/5; 182/210] START max_depth=10, max_features=5, n_estimators=75...........\n",
      "[CV 5/5; 182/210] END max_depth=10, max_features=5, n_estimators=75; total time=   2.9s\n",
      "[CV 1/5; 183/210] START max_depth=10, max_features=7, n_estimators=10...........\n",
      "[CV 1/5; 183/210] END max_depth=10, max_features=7, n_estimators=10; total time=   0.5s\n",
      "[CV 2/5; 183/210] START max_depth=10, max_features=7, n_estimators=10...........\n",
      "[CV 2/5; 183/210] END max_depth=10, max_features=7, n_estimators=10; total time=   0.5s\n",
      "[CV 3/5; 183/210] START max_depth=10, max_features=7, n_estimators=10...........\n",
      "[CV 3/5; 183/210] END max_depth=10, max_features=7, n_estimators=10; total time=   0.5s\n",
      "[CV 4/5; 183/210] START max_depth=10, max_features=7, n_estimators=10...........\n",
      "[CV 4/5; 183/210] END max_depth=10, max_features=7, n_estimators=10; total time=   0.5s\n",
      "[CV 5/5; 183/210] START max_depth=10, max_features=7, n_estimators=10...........\n",
      "[CV 5/5; 183/210] END max_depth=10, max_features=7, n_estimators=10; total time=   0.6s\n",
      "[CV 1/5; 184/210] START max_depth=10, max_features=7, n_estimators=15...........\n",
      "[CV 1/5; 184/210] END max_depth=10, max_features=7, n_estimators=15; total time=   0.8s\n",
      "[CV 2/5; 184/210] START max_depth=10, max_features=7, n_estimators=15...........\n",
      "[CV 2/5; 184/210] END max_depth=10, max_features=7, n_estimators=15; total time=   0.8s\n",
      "[CV 3/5; 184/210] START max_depth=10, max_features=7, n_estimators=15...........\n",
      "[CV 3/5; 184/210] END max_depth=10, max_features=7, n_estimators=15; total time=   0.8s\n",
      "[CV 4/5; 184/210] START max_depth=10, max_features=7, n_estimators=15...........\n",
      "[CV 4/5; 184/210] END max_depth=10, max_features=7, n_estimators=15; total time=   0.8s\n",
      "[CV 5/5; 184/210] START max_depth=10, max_features=7, n_estimators=15...........\n",
      "[CV 5/5; 184/210] END max_depth=10, max_features=7, n_estimators=15; total time=   0.8s\n",
      "[CV 1/5; 185/210] START max_depth=10, max_features=7, n_estimators=20...........\n",
      "[CV 1/5; 185/210] END max_depth=10, max_features=7, n_estimators=20; total time=   1.1s\n",
      "[CV 2/5; 185/210] START max_depth=10, max_features=7, n_estimators=20...........\n",
      "[CV 2/5; 185/210] END max_depth=10, max_features=7, n_estimators=20; total time=   1.1s\n",
      "[CV 3/5; 185/210] START max_depth=10, max_features=7, n_estimators=20...........\n",
      "[CV 3/5; 185/210] END max_depth=10, max_features=7, n_estimators=20; total time=   1.1s\n",
      "[CV 4/5; 185/210] START max_depth=10, max_features=7, n_estimators=20...........\n",
      "[CV 4/5; 185/210] END max_depth=10, max_features=7, n_estimators=20; total time=   1.0s\n",
      "[CV 5/5; 185/210] START max_depth=10, max_features=7, n_estimators=20...........\n",
      "[CV 5/5; 185/210] END max_depth=10, max_features=7, n_estimators=20; total time=   0.9s\n",
      "[CV 1/5; 186/210] START max_depth=10, max_features=7, n_estimators=25...........\n",
      "[CV 1/5; 186/210] END max_depth=10, max_features=7, n_estimators=25; total time=   1.0s\n",
      "[CV 2/5; 186/210] START max_depth=10, max_features=7, n_estimators=25...........\n",
      "[CV 2/5; 186/210] END max_depth=10, max_features=7, n_estimators=25; total time=   0.9s\n",
      "[CV 3/5; 186/210] START max_depth=10, max_features=7, n_estimators=25...........\n",
      "[CV 3/5; 186/210] END max_depth=10, max_features=7, n_estimators=25; total time=   1.1s\n",
      "[CV 4/5; 186/210] START max_depth=10, max_features=7, n_estimators=25...........\n",
      "[CV 4/5; 186/210] END max_depth=10, max_features=7, n_estimators=25; total time=   0.9s\n",
      "[CV 5/5; 186/210] START max_depth=10, max_features=7, n_estimators=25...........\n",
      "[CV 5/5; 186/210] END max_depth=10, max_features=7, n_estimators=25; total time=   1.0s\n",
      "[CV 1/5; 187/210] START max_depth=10, max_features=7, n_estimators=30...........\n",
      "[CV 1/5; 187/210] END max_depth=10, max_features=7, n_estimators=30; total time=   1.5s\n",
      "[CV 2/5; 187/210] START max_depth=10, max_features=7, n_estimators=30...........\n",
      "[CV 2/5; 187/210] END max_depth=10, max_features=7, n_estimators=30; total time=   1.6s\n",
      "[CV 3/5; 187/210] START max_depth=10, max_features=7, n_estimators=30...........\n",
      "[CV 3/5; 187/210] END max_depth=10, max_features=7, n_estimators=30; total time=   1.5s\n",
      "[CV 4/5; 187/210] START max_depth=10, max_features=7, n_estimators=30...........\n",
      "[CV 4/5; 187/210] END max_depth=10, max_features=7, n_estimators=30; total time=   1.5s\n",
      "[CV 5/5; 187/210] START max_depth=10, max_features=7, n_estimators=30...........\n",
      "[CV 5/5; 187/210] END max_depth=10, max_features=7, n_estimators=30; total time=   1.1s\n",
      "[CV 1/5; 188/210] START max_depth=10, max_features=7, n_estimators=35...........\n",
      "[CV 1/5; 188/210] END max_depth=10, max_features=7, n_estimators=35; total time=   1.3s\n",
      "[CV 2/5; 188/210] START max_depth=10, max_features=7, n_estimators=35...........\n",
      "[CV 2/5; 188/210] END max_depth=10, max_features=7, n_estimators=35; total time=   1.5s\n",
      "[CV 3/5; 188/210] START max_depth=10, max_features=7, n_estimators=35...........\n",
      "[CV 3/5; 188/210] END max_depth=10, max_features=7, n_estimators=35; total time=   1.3s\n",
      "[CV 4/5; 188/210] START max_depth=10, max_features=7, n_estimators=35...........\n",
      "[CV 4/5; 188/210] END max_depth=10, max_features=7, n_estimators=35; total time=   1.2s\n",
      "[CV 5/5; 188/210] START max_depth=10, max_features=7, n_estimators=35...........\n",
      "[CV 5/5; 188/210] END max_depth=10, max_features=7, n_estimators=35; total time=   1.2s\n",
      "[CV 1/5; 189/210] START max_depth=10, max_features=7, n_estimators=40...........\n",
      "[CV 1/5; 189/210] END max_depth=10, max_features=7, n_estimators=40; total time=   1.5s\n",
      "[CV 2/5; 189/210] START max_depth=10, max_features=7, n_estimators=40...........\n",
      "[CV 2/5; 189/210] END max_depth=10, max_features=7, n_estimators=40; total time=   1.5s\n",
      "[CV 3/5; 189/210] START max_depth=10, max_features=7, n_estimators=40...........\n",
      "[CV 3/5; 189/210] END max_depth=10, max_features=7, n_estimators=40; total time=   1.5s\n",
      "[CV 4/5; 189/210] START max_depth=10, max_features=7, n_estimators=40...........\n",
      "[CV 4/5; 189/210] END max_depth=10, max_features=7, n_estimators=40; total time=   1.7s\n",
      "[CV 5/5; 189/210] START max_depth=10, max_features=7, n_estimators=40...........\n",
      "[CV 5/5; 189/210] END max_depth=10, max_features=7, n_estimators=40; total time=   1.5s\n",
      "[CV 1/5; 190/210] START max_depth=10, max_features=7, n_estimators=45...........\n",
      "[CV 1/5; 190/210] END max_depth=10, max_features=7, n_estimators=45; total time=   1.7s\n",
      "[CV 2/5; 190/210] START max_depth=10, max_features=7, n_estimators=45...........\n",
      "[CV 2/5; 190/210] END max_depth=10, max_features=7, n_estimators=45; total time=   1.7s\n",
      "[CV 3/5; 190/210] START max_depth=10, max_features=7, n_estimators=45...........\n",
      "[CV 3/5; 190/210] END max_depth=10, max_features=7, n_estimators=45; total time=   1.7s\n",
      "[CV 4/5; 190/210] START max_depth=10, max_features=7, n_estimators=45...........\n",
      "[CV 4/5; 190/210] END max_depth=10, max_features=7, n_estimators=45; total time=   1.6s\n",
      "[CV 5/5; 190/210] START max_depth=10, max_features=7, n_estimators=45...........\n",
      "[CV 5/5; 190/210] END max_depth=10, max_features=7, n_estimators=45; total time=   1.7s\n",
      "[CV 1/5; 191/210] START max_depth=10, max_features=7, n_estimators=50...........\n",
      "[CV 1/5; 191/210] END max_depth=10, max_features=7, n_estimators=50; total time=   1.9s\n",
      "[CV 2/5; 191/210] START max_depth=10, max_features=7, n_estimators=50...........\n",
      "[CV 2/5; 191/210] END max_depth=10, max_features=7, n_estimators=50; total time=   1.8s\n",
      "[CV 3/5; 191/210] START max_depth=10, max_features=7, n_estimators=50...........\n",
      "[CV 3/5; 191/210] END max_depth=10, max_features=7, n_estimators=50; total time=   1.8s\n",
      "[CV 4/5; 191/210] START max_depth=10, max_features=7, n_estimators=50...........\n",
      "[CV 4/5; 191/210] END max_depth=10, max_features=7, n_estimators=50; total time=   1.9s\n",
      "[CV 5/5; 191/210] START max_depth=10, max_features=7, n_estimators=50...........\n",
      "[CV 5/5; 191/210] END max_depth=10, max_features=7, n_estimators=50; total time=   1.9s\n",
      "[CV 1/5; 192/210] START max_depth=10, max_features=7, n_estimators=55...........\n",
      "[CV 1/5; 192/210] END max_depth=10, max_features=7, n_estimators=55; total time=   2.0s\n",
      "[CV 2/5; 192/210] START max_depth=10, max_features=7, n_estimators=55...........\n",
      "[CV 2/5; 192/210] END max_depth=10, max_features=7, n_estimators=55; total time=   2.0s\n",
      "[CV 3/5; 192/210] START max_depth=10, max_features=7, n_estimators=55...........\n",
      "[CV 3/5; 192/210] END max_depth=10, max_features=7, n_estimators=55; total time=   2.0s\n",
      "[CV 4/5; 192/210] START max_depth=10, max_features=7, n_estimators=55...........\n",
      "[CV 4/5; 192/210] END max_depth=10, max_features=7, n_estimators=55; total time=   2.0s\n",
      "[CV 5/5; 192/210] START max_depth=10, max_features=7, n_estimators=55...........\n",
      "[CV 5/5; 192/210] END max_depth=10, max_features=7, n_estimators=55; total time=   2.1s\n",
      "[CV 1/5; 193/210] START max_depth=10, max_features=7, n_estimators=60...........\n",
      "[CV 1/5; 193/210] END max_depth=10, max_features=7, n_estimators=60; total time=   2.3s\n",
      "[CV 2/5; 193/210] START max_depth=10, max_features=7, n_estimators=60...........\n",
      "[CV 2/5; 193/210] END max_depth=10, max_features=7, n_estimators=60; total time=   2.3s\n",
      "[CV 3/5; 193/210] START max_depth=10, max_features=7, n_estimators=60...........\n",
      "[CV 3/5; 193/210] END max_depth=10, max_features=7, n_estimators=60; total time=   2.2s\n",
      "[CV 4/5; 193/210] START max_depth=10, max_features=7, n_estimators=60...........\n",
      "[CV 4/5; 193/210] END max_depth=10, max_features=7, n_estimators=60; total time=   2.2s\n",
      "[CV 5/5; 193/210] START max_depth=10, max_features=7, n_estimators=60...........\n",
      "[CV 5/5; 193/210] END max_depth=10, max_features=7, n_estimators=60; total time=   2.3s\n",
      "[CV 1/5; 194/210] START max_depth=10, max_features=7, n_estimators=65...........\n",
      "[CV 1/5; 194/210] END max_depth=10, max_features=7, n_estimators=65; total time=   2.3s\n",
      "[CV 2/5; 194/210] START max_depth=10, max_features=7, n_estimators=65...........\n",
      "[CV 2/5; 194/210] END max_depth=10, max_features=7, n_estimators=65; total time=   2.5s\n",
      "[CV 3/5; 194/210] START max_depth=10, max_features=7, n_estimators=65...........\n",
      "[CV 3/5; 194/210] END max_depth=10, max_features=7, n_estimators=65; total time=   2.4s\n",
      "[CV 4/5; 194/210] START max_depth=10, max_features=7, n_estimators=65...........\n",
      "[CV 4/5; 194/210] END max_depth=10, max_features=7, n_estimators=65; total time=   2.4s\n",
      "[CV 5/5; 194/210] START max_depth=10, max_features=7, n_estimators=65...........\n",
      "[CV 5/5; 194/210] END max_depth=10, max_features=7, n_estimators=65; total time=   2.3s\n",
      "[CV 1/5; 195/210] START max_depth=10, max_features=7, n_estimators=70...........\n",
      "[CV 1/5; 195/210] END max_depth=10, max_features=7, n_estimators=70; total time=   2.6s\n",
      "[CV 2/5; 195/210] START max_depth=10, max_features=7, n_estimators=70...........\n",
      "[CV 2/5; 195/210] END max_depth=10, max_features=7, n_estimators=70; total time=   2.6s\n",
      "[CV 3/5; 195/210] START max_depth=10, max_features=7, n_estimators=70...........\n",
      "[CV 3/5; 195/210] END max_depth=10, max_features=7, n_estimators=70; total time=   2.7s\n",
      "[CV 4/5; 195/210] START max_depth=10, max_features=7, n_estimators=70...........\n",
      "[CV 4/5; 195/210] END max_depth=10, max_features=7, n_estimators=70; total time=   2.6s\n",
      "[CV 5/5; 195/210] START max_depth=10, max_features=7, n_estimators=70...........\n",
      "[CV 5/5; 195/210] END max_depth=10, max_features=7, n_estimators=70; total time=   2.5s\n",
      "[CV 1/5; 196/210] START max_depth=10, max_features=7, n_estimators=75...........\n",
      "[CV 1/5; 196/210] END max_depth=10, max_features=7, n_estimators=75; total time=   2.7s\n",
      "[CV 2/5; 196/210] START max_depth=10, max_features=7, n_estimators=75...........\n",
      "[CV 2/5; 196/210] END max_depth=10, max_features=7, n_estimators=75; total time=   2.8s\n",
      "[CV 3/5; 196/210] START max_depth=10, max_features=7, n_estimators=75...........\n",
      "[CV 3/5; 196/210] END max_depth=10, max_features=7, n_estimators=75; total time=   2.8s\n",
      "[CV 4/5; 196/210] START max_depth=10, max_features=7, n_estimators=75...........\n",
      "[CV 4/5; 196/210] END max_depth=10, max_features=7, n_estimators=75; total time=   2.8s\n",
      "[CV 5/5; 196/210] START max_depth=10, max_features=7, n_estimators=75...........\n",
      "[CV 5/5; 196/210] END max_depth=10, max_features=7, n_estimators=75; total time=   2.9s\n",
      "[CV 1/5; 197/210] START max_depth=10, max_features=9, n_estimators=10...........\n",
      "[CV 1/5; 197/210] END max_depth=10, max_features=9, n_estimators=10; total time=   0.5s\n",
      "[CV 2/5; 197/210] START max_depth=10, max_features=9, n_estimators=10...........\n",
      "[CV 2/5; 197/210] END max_depth=10, max_features=9, n_estimators=10; total time=   0.5s\n",
      "[CV 3/5; 197/210] START max_depth=10, max_features=9, n_estimators=10...........\n",
      "[CV 3/5; 197/210] END max_depth=10, max_features=9, n_estimators=10; total time=   0.5s\n",
      "[CV 4/5; 197/210] START max_depth=10, max_features=9, n_estimators=10...........\n",
      "[CV 4/5; 197/210] END max_depth=10, max_features=9, n_estimators=10; total time=   0.5s\n",
      "[CV 5/5; 197/210] START max_depth=10, max_features=9, n_estimators=10...........\n",
      "[CV 5/5; 197/210] END max_depth=10, max_features=9, n_estimators=10; total time=   0.5s\n",
      "[CV 1/5; 198/210] START max_depth=10, max_features=9, n_estimators=15...........\n",
      "[CV 1/5; 198/210] END max_depth=10, max_features=9, n_estimators=15; total time=   0.7s\n",
      "[CV 2/5; 198/210] START max_depth=10, max_features=9, n_estimators=15...........\n",
      "[CV 2/5; 198/210] END max_depth=10, max_features=9, n_estimators=15; total time=   0.7s\n",
      "[CV 3/5; 198/210] START max_depth=10, max_features=9, n_estimators=15...........\n",
      "[CV 3/5; 198/210] END max_depth=10, max_features=9, n_estimators=15; total time=   0.7s\n",
      "[CV 4/5; 198/210] START max_depth=10, max_features=9, n_estimators=15...........\n",
      "[CV 4/5; 198/210] END max_depth=10, max_features=9, n_estimators=15; total time=   0.7s\n",
      "[CV 5/5; 198/210] START max_depth=10, max_features=9, n_estimators=15...........\n",
      "[CV 5/5; 198/210] END max_depth=10, max_features=9, n_estimators=15; total time=   0.7s\n",
      "[CV 1/5; 199/210] START max_depth=10, max_features=9, n_estimators=20...........\n",
      "[CV 1/5; 199/210] END max_depth=10, max_features=9, n_estimators=20; total time=   1.0s\n",
      "[CV 2/5; 199/210] START max_depth=10, max_features=9, n_estimators=20...........\n",
      "[CV 2/5; 199/210] END max_depth=10, max_features=9, n_estimators=20; total time=   1.0s\n",
      "[CV 3/5; 199/210] START max_depth=10, max_features=9, n_estimators=20...........\n",
      "[CV 3/5; 199/210] END max_depth=10, max_features=9, n_estimators=20; total time=   1.0s\n",
      "[CV 4/5; 199/210] START max_depth=10, max_features=9, n_estimators=20...........\n",
      "[CV 4/5; 199/210] END max_depth=10, max_features=9, n_estimators=20; total time=   0.9s\n",
      "[CV 5/5; 199/210] START max_depth=10, max_features=9, n_estimators=20...........\n",
      "[CV 5/5; 199/210] END max_depth=10, max_features=9, n_estimators=20; total time=   0.9s\n",
      "[CV 1/5; 200/210] START max_depth=10, max_features=9, n_estimators=25...........\n",
      "[CV 1/5; 200/210] END max_depth=10, max_features=9, n_estimators=25; total time=   1.1s\n",
      "[CV 2/5; 200/210] START max_depth=10, max_features=9, n_estimators=25...........\n",
      "[CV 2/5; 200/210] END max_depth=10, max_features=9, n_estimators=25; total time=   1.2s\n",
      "[CV 3/5; 200/210] START max_depth=10, max_features=9, n_estimators=25...........\n",
      "[CV 3/5; 200/210] END max_depth=10, max_features=9, n_estimators=25; total time=   1.2s\n",
      "[CV 4/5; 200/210] START max_depth=10, max_features=9, n_estimators=25...........\n",
      "[CV 4/5; 200/210] END max_depth=10, max_features=9, n_estimators=25; total time=   1.2s\n",
      "[CV 5/5; 200/210] START max_depth=10, max_features=9, n_estimators=25...........\n",
      "[CV 5/5; 200/210] END max_depth=10, max_features=9, n_estimators=25; total time=   1.2s\n",
      "[CV 1/5; 201/210] START max_depth=10, max_features=9, n_estimators=30...........\n",
      "[CV 1/5; 201/210] END max_depth=10, max_features=9, n_estimators=30; total time=   1.4s\n",
      "[CV 2/5; 201/210] START max_depth=10, max_features=9, n_estimators=30...........\n",
      "[CV 2/5; 201/210] END max_depth=10, max_features=9, n_estimators=30; total time=   1.4s\n",
      "[CV 3/5; 201/210] START max_depth=10, max_features=9, n_estimators=30...........\n",
      "[CV 3/5; 201/210] END max_depth=10, max_features=9, n_estimators=30; total time=   1.6s\n",
      "[CV 4/5; 201/210] START max_depth=10, max_features=9, n_estimators=30...........\n",
      "[CV 4/5; 201/210] END max_depth=10, max_features=9, n_estimators=30; total time=   1.3s\n",
      "[CV 5/5; 201/210] START max_depth=10, max_features=9, n_estimators=30...........\n",
      "[CV 5/5; 201/210] END max_depth=10, max_features=9, n_estimators=30; total time=   1.3s\n",
      "[CV 1/5; 202/210] START max_depth=10, max_features=9, n_estimators=35...........\n",
      "[CV 1/5; 202/210] END max_depth=10, max_features=9, n_estimators=35; total time=   1.6s\n",
      "[CV 2/5; 202/210] START max_depth=10, max_features=9, n_estimators=35...........\n",
      "[CV 2/5; 202/210] END max_depth=10, max_features=9, n_estimators=35; total time=   1.6s\n",
      "[CV 3/5; 202/210] START max_depth=10, max_features=9, n_estimators=35...........\n",
      "[CV 3/5; 202/210] END max_depth=10, max_features=9, n_estimators=35; total time=   1.6s\n",
      "[CV 4/5; 202/210] START max_depth=10, max_features=9, n_estimators=35...........\n",
      "[CV 4/5; 202/210] END max_depth=10, max_features=9, n_estimators=35; total time=   1.8s\n",
      "[CV 5/5; 202/210] START max_depth=10, max_features=9, n_estimators=35...........\n",
      "[CV 5/5; 202/210] END max_depth=10, max_features=9, n_estimators=35; total time=   1.6s\n",
      "[CV 1/5; 203/210] START max_depth=10, max_features=9, n_estimators=40...........\n",
      "[CV 1/5; 203/210] END max_depth=10, max_features=9, n_estimators=40; total time=   2.1s\n",
      "[CV 2/5; 203/210] START max_depth=10, max_features=9, n_estimators=40...........\n",
      "[CV 2/5; 203/210] END max_depth=10, max_features=9, n_estimators=40; total time=   1.9s\n",
      "[CV 3/5; 203/210] START max_depth=10, max_features=9, n_estimators=40...........\n",
      "[CV 3/5; 203/210] END max_depth=10, max_features=9, n_estimators=40; total time=   1.8s\n",
      "[CV 4/5; 203/210] START max_depth=10, max_features=9, n_estimators=40...........\n",
      "[CV 4/5; 203/210] END max_depth=10, max_features=9, n_estimators=40; total time=   1.9s\n",
      "[CV 5/5; 203/210] START max_depth=10, max_features=9, n_estimators=40...........\n",
      "[CV 5/5; 203/210] END max_depth=10, max_features=9, n_estimators=40; total time=   1.8s\n",
      "[CV 1/5; 204/210] START max_depth=10, max_features=9, n_estimators=45...........\n",
      "[CV 1/5; 204/210] END max_depth=10, max_features=9, n_estimators=45; total time=   2.1s\n",
      "[CV 2/5; 204/210] START max_depth=10, max_features=9, n_estimators=45...........\n",
      "[CV 2/5; 204/210] END max_depth=10, max_features=9, n_estimators=45; total time=   2.1s\n",
      "[CV 3/5; 204/210] START max_depth=10, max_features=9, n_estimators=45...........\n",
      "[CV 3/5; 204/210] END max_depth=10, max_features=9, n_estimators=45; total time=   2.0s\n",
      "[CV 4/5; 204/210] START max_depth=10, max_features=9, n_estimators=45...........\n",
      "[CV 4/5; 204/210] END max_depth=10, max_features=9, n_estimators=45; total time=   2.3s\n",
      "[CV 5/5; 204/210] START max_depth=10, max_features=9, n_estimators=45...........\n",
      "[CV 5/5; 204/210] END max_depth=10, max_features=9, n_estimators=45; total time=   2.1s\n",
      "[CV 1/5; 205/210] START max_depth=10, max_features=9, n_estimators=50...........\n",
      "[CV 1/5; 205/210] END max_depth=10, max_features=9, n_estimators=50; total time=   2.4s\n",
      "[CV 2/5; 205/210] START max_depth=10, max_features=9, n_estimators=50...........\n",
      "[CV 2/5; 205/210] END max_depth=10, max_features=9, n_estimators=50; total time=   2.4s\n",
      "[CV 3/5; 205/210] START max_depth=10, max_features=9, n_estimators=50...........\n",
      "[CV 3/5; 205/210] END max_depth=10, max_features=9, n_estimators=50; total time=   2.3s\n",
      "[CV 4/5; 205/210] START max_depth=10, max_features=9, n_estimators=50...........\n",
      "[CV 4/5; 205/210] END max_depth=10, max_features=9, n_estimators=50; total time=   2.3s\n",
      "[CV 5/5; 205/210] START max_depth=10, max_features=9, n_estimators=50...........\n",
      "[CV 5/5; 205/210] END max_depth=10, max_features=9, n_estimators=50; total time=   2.4s\n",
      "[CV 1/5; 206/210] START max_depth=10, max_features=9, n_estimators=55...........\n",
      "[CV 1/5; 206/210] END max_depth=10, max_features=9, n_estimators=55; total time=   2.5s\n",
      "[CV 2/5; 206/210] START max_depth=10, max_features=9, n_estimators=55...........\n",
      "[CV 2/5; 206/210] END max_depth=10, max_features=9, n_estimators=55; total time=   2.8s\n",
      "[CV 3/5; 206/210] START max_depth=10, max_features=9, n_estimators=55...........\n",
      "[CV 3/5; 206/210] END max_depth=10, max_features=9, n_estimators=55; total time=   2.6s\n",
      "[CV 4/5; 206/210] START max_depth=10, max_features=9, n_estimators=55...........\n",
      "[CV 4/5; 206/210] END max_depth=10, max_features=9, n_estimators=55; total time=   2.6s\n",
      "[CV 5/5; 206/210] START max_depth=10, max_features=9, n_estimators=55...........\n",
      "[CV 5/5; 206/210] END max_depth=10, max_features=9, n_estimators=55; total time=   2.7s\n",
      "[CV 1/5; 207/210] START max_depth=10, max_features=9, n_estimators=60...........\n",
      "[CV 1/5; 207/210] END max_depth=10, max_features=9, n_estimators=60; total time=   3.0s\n",
      "[CV 2/5; 207/210] START max_depth=10, max_features=9, n_estimators=60...........\n",
      "[CV 2/5; 207/210] END max_depth=10, max_features=9, n_estimators=60; total time=   3.2s\n",
      "[CV 3/5; 207/210] START max_depth=10, max_features=9, n_estimators=60...........\n",
      "[CV 3/5; 207/210] END max_depth=10, max_features=9, n_estimators=60; total time=   3.1s\n",
      "[CV 4/5; 207/210] START max_depth=10, max_features=9, n_estimators=60...........\n",
      "[CV 4/5; 207/210] END max_depth=10, max_features=9, n_estimators=60; total time=   2.8s\n",
      "[CV 5/5; 207/210] START max_depth=10, max_features=9, n_estimators=60...........\n",
      "[CV 5/5; 207/210] END max_depth=10, max_features=9, n_estimators=60; total time=   3.1s\n",
      "[CV 1/5; 208/210] START max_depth=10, max_features=9, n_estimators=65...........\n",
      "[CV 1/5; 208/210] END max_depth=10, max_features=9, n_estimators=65; total time=   3.5s\n",
      "[CV 2/5; 208/210] START max_depth=10, max_features=9, n_estimators=65...........\n",
      "[CV 2/5; 208/210] END max_depth=10, max_features=9, n_estimators=65; total time=   3.0s\n",
      "[CV 3/5; 208/210] START max_depth=10, max_features=9, n_estimators=65...........\n",
      "[CV 3/5; 208/210] END max_depth=10, max_features=9, n_estimators=65; total time=   3.1s\n",
      "[CV 4/5; 208/210] START max_depth=10, max_features=9, n_estimators=65...........\n",
      "[CV 4/5; 208/210] END max_depth=10, max_features=9, n_estimators=65; total time=   3.0s\n",
      "[CV 5/5; 208/210] START max_depth=10, max_features=9, n_estimators=65...........\n",
      "[CV 5/5; 208/210] END max_depth=10, max_features=9, n_estimators=65; total time=   2.9s\n",
      "[CV 1/5; 209/210] START max_depth=10, max_features=9, n_estimators=70...........\n",
      "[CV 1/5; 209/210] END max_depth=10, max_features=9, n_estimators=70; total time=   3.5s\n",
      "[CV 2/5; 209/210] START max_depth=10, max_features=9, n_estimators=70...........\n",
      "[CV 2/5; 209/210] END max_depth=10, max_features=9, n_estimators=70; total time=   3.2s\n",
      "[CV 3/5; 209/210] START max_depth=10, max_features=9, n_estimators=70...........\n",
      "[CV 3/5; 209/210] END max_depth=10, max_features=9, n_estimators=70; total time=   3.2s\n",
      "[CV 4/5; 209/210] START max_depth=10, max_features=9, n_estimators=70...........\n",
      "[CV 4/5; 209/210] END max_depth=10, max_features=9, n_estimators=70; total time=   3.3s\n",
      "[CV 5/5; 209/210] START max_depth=10, max_features=9, n_estimators=70...........\n",
      "[CV 5/5; 209/210] END max_depth=10, max_features=9, n_estimators=70; total time=   3.2s\n",
      "[CV 1/5; 210/210] START max_depth=10, max_features=9, n_estimators=75...........\n",
      "[CV 1/5; 210/210] END max_depth=10, max_features=9, n_estimators=75; total time=   3.5s\n",
      "[CV 2/5; 210/210] START max_depth=10, max_features=9, n_estimators=75...........\n",
      "[CV 2/5; 210/210] END max_depth=10, max_features=9, n_estimators=75; total time=   3.9s\n",
      "[CV 3/5; 210/210] START max_depth=10, max_features=9, n_estimators=75...........\n",
      "[CV 3/5; 210/210] END max_depth=10, max_features=9, n_estimators=75; total time=   3.6s\n",
      "[CV 4/5; 210/210] START max_depth=10, max_features=9, n_estimators=75...........\n",
      "[CV 4/5; 210/210] END max_depth=10, max_features=9, n_estimators=75; total time=   3.4s\n",
      "[CV 5/5; 210/210] START max_depth=10, max_features=9, n_estimators=75...........\n",
      "[CV 5/5; 210/210] END max_depth=10, max_features=9, n_estimators=75; total time=   3.5s\n",
      "Fitting 5 folds for each of 210 candidates, totalling 1050 fits\n",
      "[CV 1/5; 1/210] START max_depth=2, max_features=5, n_estimators=10..............\n",
      "[CV 1/5; 1/210] END max_depth=2, max_features=5, n_estimators=10; total time=   0.1s\n",
      "[CV 2/5; 1/210] START max_depth=2, max_features=5, n_estimators=10..............\n",
      "[CV 2/5; 1/210] END max_depth=2, max_features=5, n_estimators=10; total time=   0.1s\n",
      "[CV 3/5; 1/210] START max_depth=2, max_features=5, n_estimators=10..............\n",
      "[CV 3/5; 1/210] END max_depth=2, max_features=5, n_estimators=10; total time=   0.1s\n",
      "[CV 4/5; 1/210] START max_depth=2, max_features=5, n_estimators=10..............\n",
      "[CV 4/5; 1/210] END max_depth=2, max_features=5, n_estimators=10; total time=   0.1s\n",
      "[CV 5/5; 1/210] START max_depth=2, max_features=5, n_estimators=10..............\n",
      "[CV 5/5; 1/210] END max_depth=2, max_features=5, n_estimators=10; total time=   0.1s\n",
      "[CV 1/5; 2/210] START max_depth=2, max_features=5, n_estimators=15..............\n",
      "[CV 1/5; 2/210] END max_depth=2, max_features=5, n_estimators=15; total time=   0.1s\n",
      "[CV 2/5; 2/210] START max_depth=2, max_features=5, n_estimators=15..............\n",
      "[CV 2/5; 2/210] END max_depth=2, max_features=5, n_estimators=15; total time=   0.1s\n",
      "[CV 3/5; 2/210] START max_depth=2, max_features=5, n_estimators=15..............\n",
      "[CV 3/5; 2/210] END max_depth=2, max_features=5, n_estimators=15; total time=   0.1s\n",
      "[CV 4/5; 2/210] START max_depth=2, max_features=5, n_estimators=15..............\n",
      "[CV 4/5; 2/210] END max_depth=2, max_features=5, n_estimators=15; total time=   0.1s\n",
      "[CV 5/5; 2/210] START max_depth=2, max_features=5, n_estimators=15..............\n",
      "[CV 5/5; 2/210] END max_depth=2, max_features=5, n_estimators=15; total time=   0.1s\n",
      "[CV 1/5; 3/210] START max_depth=2, max_features=5, n_estimators=20..............\n",
      "[CV 1/5; 3/210] END max_depth=2, max_features=5, n_estimators=20; total time=   0.2s\n",
      "[CV 2/5; 3/210] START max_depth=2, max_features=5, n_estimators=20..............\n",
      "[CV 2/5; 3/210] END max_depth=2, max_features=5, n_estimators=20; total time=   0.2s\n",
      "[CV 3/5; 3/210] START max_depth=2, max_features=5, n_estimators=20..............\n",
      "[CV 3/5; 3/210] END max_depth=2, max_features=5, n_estimators=20; total time=   0.1s\n",
      "[CV 4/5; 3/210] START max_depth=2, max_features=5, n_estimators=20..............\n",
      "[CV 4/5; 3/210] END max_depth=2, max_features=5, n_estimators=20; total time=   0.1s\n",
      "[CV 5/5; 3/210] START max_depth=2, max_features=5, n_estimators=20..............\n",
      "[CV 5/5; 3/210] END max_depth=2, max_features=5, n_estimators=20; total time=   0.1s\n",
      "[CV 1/5; 4/210] START max_depth=2, max_features=5, n_estimators=25..............\n",
      "[CV 1/5; 4/210] END max_depth=2, max_features=5, n_estimators=25; total time=   0.2s\n",
      "[CV 2/5; 4/210] START max_depth=2, max_features=5, n_estimators=25..............\n",
      "[CV 2/5; 4/210] END max_depth=2, max_features=5, n_estimators=25; total time=   0.2s\n",
      "[CV 3/5; 4/210] START max_depth=2, max_features=5, n_estimators=25..............\n",
      "[CV 3/5; 4/210] END max_depth=2, max_features=5, n_estimators=25; total time=   0.2s\n",
      "[CV 4/5; 4/210] START max_depth=2, max_features=5, n_estimators=25..............\n",
      "[CV 4/5; 4/210] END max_depth=2, max_features=5, n_estimators=25; total time=   0.2s\n",
      "[CV 5/5; 4/210] START max_depth=2, max_features=5, n_estimators=25..............\n",
      "[CV 5/5; 4/210] END max_depth=2, max_features=5, n_estimators=25; total time=   0.2s\n",
      "[CV 1/5; 5/210] START max_depth=2, max_features=5, n_estimators=30..............\n",
      "[CV 1/5; 5/210] END max_depth=2, max_features=5, n_estimators=30; total time=   0.2s\n",
      "[CV 2/5; 5/210] START max_depth=2, max_features=5, n_estimators=30..............\n",
      "[CV 2/5; 5/210] END max_depth=2, max_features=5, n_estimators=30; total time=   0.2s\n",
      "[CV 3/5; 5/210] START max_depth=2, max_features=5, n_estimators=30..............\n",
      "[CV 3/5; 5/210] END max_depth=2, max_features=5, n_estimators=30; total time=   0.2s\n",
      "[CV 4/5; 5/210] START max_depth=2, max_features=5, n_estimators=30..............\n",
      "[CV 4/5; 5/210] END max_depth=2, max_features=5, n_estimators=30; total time=   0.2s\n",
      "[CV 5/5; 5/210] START max_depth=2, max_features=5, n_estimators=30..............\n",
      "[CV 5/5; 5/210] END max_depth=2, max_features=5, n_estimators=30; total time=   0.2s\n",
      "[CV 1/5; 6/210] START max_depth=2, max_features=5, n_estimators=35..............\n",
      "[CV 1/5; 6/210] END max_depth=2, max_features=5, n_estimators=35; total time=   0.3s\n",
      "[CV 2/5; 6/210] START max_depth=2, max_features=5, n_estimators=35..............\n",
      "[CV 2/5; 6/210] END max_depth=2, max_features=5, n_estimators=35; total time=   0.3s\n",
      "[CV 3/5; 6/210] START max_depth=2, max_features=5, n_estimators=35..............\n",
      "[CV 3/5; 6/210] END max_depth=2, max_features=5, n_estimators=35; total time=   0.3s\n",
      "[CV 4/5; 6/210] START max_depth=2, max_features=5, n_estimators=35..............\n",
      "[CV 4/5; 6/210] END max_depth=2, max_features=5, n_estimators=35; total time=   0.3s\n",
      "[CV 5/5; 6/210] START max_depth=2, max_features=5, n_estimators=35..............\n",
      "[CV 5/5; 6/210] END max_depth=2, max_features=5, n_estimators=35; total time=   0.3s\n",
      "[CV 1/5; 7/210] START max_depth=2, max_features=5, n_estimators=40..............\n",
      "[CV 1/5; 7/210] END max_depth=2, max_features=5, n_estimators=40; total time=   0.3s\n",
      "[CV 2/5; 7/210] START max_depth=2, max_features=5, n_estimators=40..............\n",
      "[CV 2/5; 7/210] END max_depth=2, max_features=5, n_estimators=40; total time=   0.3s\n",
      "[CV 3/5; 7/210] START max_depth=2, max_features=5, n_estimators=40..............\n",
      "[CV 3/5; 7/210] END max_depth=2, max_features=5, n_estimators=40; total time=   0.3s\n",
      "[CV 4/5; 7/210] START max_depth=2, max_features=5, n_estimators=40..............\n",
      "[CV 4/5; 7/210] END max_depth=2, max_features=5, n_estimators=40; total time=   0.3s\n",
      "[CV 5/5; 7/210] START max_depth=2, max_features=5, n_estimators=40..............\n",
      "[CV 5/5; 7/210] END max_depth=2, max_features=5, n_estimators=40; total time=   0.3s\n",
      "[CV 1/5; 8/210] START max_depth=2, max_features=5, n_estimators=45..............\n",
      "[CV 1/5; 8/210] END max_depth=2, max_features=5, n_estimators=45; total time=   0.4s\n",
      "[CV 2/5; 8/210] START max_depth=2, max_features=5, n_estimators=45..............\n",
      "[CV 2/5; 8/210] END max_depth=2, max_features=5, n_estimators=45; total time=   0.3s\n",
      "[CV 3/5; 8/210] START max_depth=2, max_features=5, n_estimators=45..............\n",
      "[CV 3/5; 8/210] END max_depth=2, max_features=5, n_estimators=45; total time=   0.5s\n",
      "[CV 4/5; 8/210] START max_depth=2, max_features=5, n_estimators=45..............\n",
      "[CV 4/5; 8/210] END max_depth=2, max_features=5, n_estimators=45; total time=   0.5s\n",
      "[CV 5/5; 8/210] START max_depth=2, max_features=5, n_estimators=45..............\n",
      "[CV 5/5; 8/210] END max_depth=2, max_features=5, n_estimators=45; total time=   0.5s\n",
      "[CV 1/5; 9/210] START max_depth=2, max_features=5, n_estimators=50..............\n",
      "[CV 1/5; 9/210] END max_depth=2, max_features=5, n_estimators=50; total time=   0.5s\n",
      "[CV 2/5; 9/210] START max_depth=2, max_features=5, n_estimators=50..............\n",
      "[CV 2/5; 9/210] END max_depth=2, max_features=5, n_estimators=50; total time=   0.5s\n",
      "[CV 3/5; 9/210] START max_depth=2, max_features=5, n_estimators=50..............\n",
      "[CV 3/5; 9/210] END max_depth=2, max_features=5, n_estimators=50; total time=   0.5s\n",
      "[CV 4/5; 9/210] START max_depth=2, max_features=5, n_estimators=50..............\n",
      "[CV 4/5; 9/210] END max_depth=2, max_features=5, n_estimators=50; total time=   0.5s\n",
      "[CV 5/5; 9/210] START max_depth=2, max_features=5, n_estimators=50..............\n",
      "[CV 5/5; 9/210] END max_depth=2, max_features=5, n_estimators=50; total time=   0.5s\n",
      "[CV 1/5; 10/210] START max_depth=2, max_features=5, n_estimators=55.............\n",
      "[CV 1/5; 10/210] END max_depth=2, max_features=5, n_estimators=55; total time=   0.6s\n",
      "[CV 2/5; 10/210] START max_depth=2, max_features=5, n_estimators=55.............\n",
      "[CV 2/5; 10/210] END max_depth=2, max_features=5, n_estimators=55; total time=   0.6s\n",
      "[CV 3/5; 10/210] START max_depth=2, max_features=5, n_estimators=55.............\n",
      "[CV 3/5; 10/210] END max_depth=2, max_features=5, n_estimators=55; total time=   0.6s\n",
      "[CV 4/5; 10/210] START max_depth=2, max_features=5, n_estimators=55.............\n",
      "[CV 4/5; 10/210] END max_depth=2, max_features=5, n_estimators=55; total time=   0.6s\n",
      "[CV 5/5; 10/210] START max_depth=2, max_features=5, n_estimators=55.............\n",
      "[CV 5/5; 10/210] END max_depth=2, max_features=5, n_estimators=55; total time=   0.6s\n",
      "[CV 1/5; 11/210] START max_depth=2, max_features=5, n_estimators=60.............\n",
      "[CV 1/5; 11/210] END max_depth=2, max_features=5, n_estimators=60; total time=   0.6s\n",
      "[CV 2/5; 11/210] START max_depth=2, max_features=5, n_estimators=60.............\n",
      "[CV 2/5; 11/210] END max_depth=2, max_features=5, n_estimators=60; total time=   0.6s\n",
      "[CV 3/5; 11/210] START max_depth=2, max_features=5, n_estimators=60.............\n",
      "[CV 3/5; 11/210] END max_depth=2, max_features=5, n_estimators=60; total time=   0.7s\n",
      "[CV 4/5; 11/210] START max_depth=2, max_features=5, n_estimators=60.............\n",
      "[CV 4/5; 11/210] END max_depth=2, max_features=5, n_estimators=60; total time=   0.7s\n",
      "[CV 5/5; 11/210] START max_depth=2, max_features=5, n_estimators=60.............\n",
      "[CV 5/5; 11/210] END max_depth=2, max_features=5, n_estimators=60; total time=   0.6s\n",
      "[CV 1/5; 12/210] START max_depth=2, max_features=5, n_estimators=65.............\n",
      "[CV 1/5; 12/210] END max_depth=2, max_features=5, n_estimators=65; total time=   0.7s\n",
      "[CV 2/5; 12/210] START max_depth=2, max_features=5, n_estimators=65.............\n",
      "[CV 2/5; 12/210] END max_depth=2, max_features=5, n_estimators=65; total time=   0.7s\n",
      "[CV 3/5; 12/210] START max_depth=2, max_features=5, n_estimators=65.............\n",
      "[CV 3/5; 12/210] END max_depth=2, max_features=5, n_estimators=65; total time=   0.7s\n",
      "[CV 4/5; 12/210] START max_depth=2, max_features=5, n_estimators=65.............\n",
      "[CV 4/5; 12/210] END max_depth=2, max_features=5, n_estimators=65; total time=   0.7s\n",
      "[CV 5/5; 12/210] START max_depth=2, max_features=5, n_estimators=65.............\n",
      "[CV 5/5; 12/210] END max_depth=2, max_features=5, n_estimators=65; total time=   0.7s\n",
      "[CV 1/5; 13/210] START max_depth=2, max_features=5, n_estimators=70.............\n",
      "[CV 1/5; 13/210] END max_depth=2, max_features=5, n_estimators=70; total time=   0.8s\n",
      "[CV 2/5; 13/210] START max_depth=2, max_features=5, n_estimators=70.............\n",
      "[CV 2/5; 13/210] END max_depth=2, max_features=5, n_estimators=70; total time=   0.9s\n",
      "[CV 3/5; 13/210] START max_depth=2, max_features=5, n_estimators=70.............\n",
      "[CV 3/5; 13/210] END max_depth=2, max_features=5, n_estimators=70; total time=   0.8s\n",
      "[CV 4/5; 13/210] START max_depth=2, max_features=5, n_estimators=70.............\n",
      "[CV 4/5; 13/210] END max_depth=2, max_features=5, n_estimators=70; total time=   0.7s\n",
      "[CV 5/5; 13/210] START max_depth=2, max_features=5, n_estimators=70.............\n",
      "[CV 5/5; 13/210] END max_depth=2, max_features=5, n_estimators=70; total time=   0.7s\n",
      "[CV 1/5; 14/210] START max_depth=2, max_features=5, n_estimators=75.............\n",
      "[CV 1/5; 14/210] END max_depth=2, max_features=5, n_estimators=75; total time=   0.8s\n",
      "[CV 2/5; 14/210] START max_depth=2, max_features=5, n_estimators=75.............\n",
      "[CV 2/5; 14/210] END max_depth=2, max_features=5, n_estimators=75; total time=   0.8s\n",
      "[CV 3/5; 14/210] START max_depth=2, max_features=5, n_estimators=75.............\n",
      "[CV 3/5; 14/210] END max_depth=2, max_features=5, n_estimators=75; total time=   0.8s\n",
      "[CV 4/5; 14/210] START max_depth=2, max_features=5, n_estimators=75.............\n",
      "[CV 4/5; 14/210] END max_depth=2, max_features=5, n_estimators=75; total time=   0.8s\n",
      "[CV 5/5; 14/210] START max_depth=2, max_features=5, n_estimators=75.............\n",
      "[CV 5/5; 14/210] END max_depth=2, max_features=5, n_estimators=75; total time=   0.8s\n",
      "[CV 1/5; 15/210] START max_depth=2, max_features=7, n_estimators=10.............\n",
      "[CV 1/5; 15/210] END max_depth=2, max_features=7, n_estimators=10; total time=   0.2s\n",
      "[CV 2/5; 15/210] START max_depth=2, max_features=7, n_estimators=10.............\n",
      "[CV 2/5; 15/210] END max_depth=2, max_features=7, n_estimators=10; total time=   0.1s\n",
      "[CV 3/5; 15/210] START max_depth=2, max_features=7, n_estimators=10.............\n",
      "[CV 3/5; 15/210] END max_depth=2, max_features=7, n_estimators=10; total time=   0.1s\n",
      "[CV 4/5; 15/210] START max_depth=2, max_features=7, n_estimators=10.............\n",
      "[CV 4/5; 15/210] END max_depth=2, max_features=7, n_estimators=10; total time=   0.2s\n",
      "[CV 5/5; 15/210] START max_depth=2, max_features=7, n_estimators=10.............\n",
      "[CV 5/5; 15/210] END max_depth=2, max_features=7, n_estimators=10; total time=   0.2s\n",
      "[CV 1/5; 16/210] START max_depth=2, max_features=7, n_estimators=15.............\n",
      "[CV 1/5; 16/210] END max_depth=2, max_features=7, n_estimators=15; total time=   0.2s\n",
      "[CV 2/5; 16/210] START max_depth=2, max_features=7, n_estimators=15.............\n",
      "[CV 2/5; 16/210] END max_depth=2, max_features=7, n_estimators=15; total time=   0.2s\n",
      "[CV 3/5; 16/210] START max_depth=2, max_features=7, n_estimators=15.............\n",
      "[CV 3/5; 16/210] END max_depth=2, max_features=7, n_estimators=15; total time=   0.2s\n",
      "[CV 4/5; 16/210] START max_depth=2, max_features=7, n_estimators=15.............\n",
      "[CV 4/5; 16/210] END max_depth=2, max_features=7, n_estimators=15; total time=   0.2s\n",
      "[CV 5/5; 16/210] START max_depth=2, max_features=7, n_estimators=15.............\n",
      "[CV 5/5; 16/210] END max_depth=2, max_features=7, n_estimators=15; total time=   0.2s\n",
      "[CV 1/5; 17/210] START max_depth=2, max_features=7, n_estimators=20.............\n",
      "[CV 1/5; 17/210] END max_depth=2, max_features=7, n_estimators=20; total time=   0.3s\n",
      "[CV 2/5; 17/210] START max_depth=2, max_features=7, n_estimators=20.............\n",
      "[CV 2/5; 17/210] END max_depth=2, max_features=7, n_estimators=20; total time=   0.3s\n",
      "[CV 3/5; 17/210] START max_depth=2, max_features=7, n_estimators=20.............\n",
      "[CV 3/5; 17/210] END max_depth=2, max_features=7, n_estimators=20; total time=   0.3s\n",
      "[CV 4/5; 17/210] START max_depth=2, max_features=7, n_estimators=20.............\n",
      "[CV 4/5; 17/210] END max_depth=2, max_features=7, n_estimators=20; total time=   0.2s\n",
      "[CV 5/5; 17/210] START max_depth=2, max_features=7, n_estimators=20.............\n",
      "[CV 5/5; 17/210] END max_depth=2, max_features=7, n_estimators=20; total time=   0.2s\n",
      "[CV 1/5; 18/210] START max_depth=2, max_features=7, n_estimators=25.............\n",
      "[CV 1/5; 18/210] END max_depth=2, max_features=7, n_estimators=25; total time=   0.2s\n",
      "[CV 2/5; 18/210] START max_depth=2, max_features=7, n_estimators=25.............\n",
      "[CV 2/5; 18/210] END max_depth=2, max_features=7, n_estimators=25; total time=   0.2s\n",
      "[CV 3/5; 18/210] START max_depth=2, max_features=7, n_estimators=25.............\n",
      "[CV 3/5; 18/210] END max_depth=2, max_features=7, n_estimators=25; total time=   0.2s\n",
      "[CV 4/5; 18/210] START max_depth=2, max_features=7, n_estimators=25.............\n",
      "[CV 4/5; 18/210] END max_depth=2, max_features=7, n_estimators=25; total time=   0.2s\n",
      "[CV 5/5; 18/210] START max_depth=2, max_features=7, n_estimators=25.............\n",
      "[CV 5/5; 18/210] END max_depth=2, max_features=7, n_estimators=25; total time=   0.3s\n",
      "[CV 1/5; 19/210] START max_depth=2, max_features=7, n_estimators=30.............\n",
      "[CV 1/5; 19/210] END max_depth=2, max_features=7, n_estimators=30; total time=   0.3s\n",
      "[CV 2/5; 19/210] START max_depth=2, max_features=7, n_estimators=30.............\n",
      "[CV 2/5; 19/210] END max_depth=2, max_features=7, n_estimators=30; total time=   0.3s\n",
      "[CV 3/5; 19/210] START max_depth=2, max_features=7, n_estimators=30.............\n",
      "[CV 3/5; 19/210] END max_depth=2, max_features=7, n_estimators=30; total time=   0.3s\n",
      "[CV 4/5; 19/210] START max_depth=2, max_features=7, n_estimators=30.............\n",
      "[CV 4/5; 19/210] END max_depth=2, max_features=7, n_estimators=30; total time=   0.3s\n",
      "[CV 5/5; 19/210] START max_depth=2, max_features=7, n_estimators=30.............\n",
      "[CV 5/5; 19/210] END max_depth=2, max_features=7, n_estimators=30; total time=   0.3s\n",
      "[CV 1/5; 20/210] START max_depth=2, max_features=7, n_estimators=35.............\n",
      "[CV 1/5; 20/210] END max_depth=2, max_features=7, n_estimators=35; total time=   0.3s\n",
      "[CV 2/5; 20/210] START max_depth=2, max_features=7, n_estimators=35.............\n",
      "[CV 2/5; 20/210] END max_depth=2, max_features=7, n_estimators=35; total time=   0.3s\n",
      "[CV 3/5; 20/210] START max_depth=2, max_features=7, n_estimators=35.............\n",
      "[CV 3/5; 20/210] END max_depth=2, max_features=7, n_estimators=35; total time=   0.4s\n",
      "[CV 4/5; 20/210] START max_depth=2, max_features=7, n_estimators=35.............\n",
      "[CV 4/5; 20/210] END max_depth=2, max_features=7, n_estimators=35; total time=   0.3s\n",
      "[CV 5/5; 20/210] START max_depth=2, max_features=7, n_estimators=35.............\n",
      "[CV 5/5; 20/210] END max_depth=2, max_features=7, n_estimators=35; total time=   0.4s\n",
      "[CV 1/5; 21/210] START max_depth=2, max_features=7, n_estimators=40.............\n",
      "[CV 1/5; 21/210] END max_depth=2, max_features=7, n_estimators=40; total time=   0.4s\n",
      "[CV 2/5; 21/210] START max_depth=2, max_features=7, n_estimators=40.............\n",
      "[CV 2/5; 21/210] END max_depth=2, max_features=7, n_estimators=40; total time=   0.4s\n",
      "[CV 3/5; 21/210] START max_depth=2, max_features=7, n_estimators=40.............\n",
      "[CV 3/5; 21/210] END max_depth=2, max_features=7, n_estimators=40; total time=   0.4s\n",
      "[CV 4/5; 21/210] START max_depth=2, max_features=7, n_estimators=40.............\n",
      "[CV 4/5; 21/210] END max_depth=2, max_features=7, n_estimators=40; total time=   0.4s\n",
      "[CV 5/5; 21/210] START max_depth=2, max_features=7, n_estimators=40.............\n",
      "[CV 5/5; 21/210] END max_depth=2, max_features=7, n_estimators=40; total time=   0.4s\n",
      "[CV 1/5; 22/210] START max_depth=2, max_features=7, n_estimators=45.............\n",
      "[CV 1/5; 22/210] END max_depth=2, max_features=7, n_estimators=45; total time=   0.4s\n",
      "[CV 2/5; 22/210] START max_depth=2, max_features=7, n_estimators=45.............\n",
      "[CV 2/5; 22/210] END max_depth=2, max_features=7, n_estimators=45; total time=   0.5s\n",
      "[CV 3/5; 22/210] START max_depth=2, max_features=7, n_estimators=45.............\n",
      "[CV 3/5; 22/210] END max_depth=2, max_features=7, n_estimators=45; total time=   0.5s\n",
      "[CV 4/5; 22/210] START max_depth=2, max_features=7, n_estimators=45.............\n",
      "[CV 4/5; 22/210] END max_depth=2, max_features=7, n_estimators=45; total time=   0.4s\n",
      "[CV 5/5; 22/210] START max_depth=2, max_features=7, n_estimators=45.............\n",
      "[CV 5/5; 22/210] END max_depth=2, max_features=7, n_estimators=45; total time=   0.4s\n",
      "[CV 1/5; 23/210] START max_depth=2, max_features=7, n_estimators=50.............\n",
      "[CV 1/5; 23/210] END max_depth=2, max_features=7, n_estimators=50; total time=   0.5s\n",
      "[CV 2/5; 23/210] START max_depth=2, max_features=7, n_estimators=50.............\n",
      "[CV 2/5; 23/210] END max_depth=2, max_features=7, n_estimators=50; total time=   0.5s\n",
      "[CV 3/5; 23/210] START max_depth=2, max_features=7, n_estimators=50.............\n",
      "[CV 3/5; 23/210] END max_depth=2, max_features=7, n_estimators=50; total time=   0.5s\n",
      "[CV 4/5; 23/210] START max_depth=2, max_features=7, n_estimators=50.............\n",
      "[CV 4/5; 23/210] END max_depth=2, max_features=7, n_estimators=50; total time=   0.5s\n",
      "[CV 5/5; 23/210] START max_depth=2, max_features=7, n_estimators=50.............\n",
      "[CV 5/5; 23/210] END max_depth=2, max_features=7, n_estimators=50; total time=   0.5s\n",
      "[CV 1/5; 24/210] START max_depth=2, max_features=7, n_estimators=55.............\n",
      "[CV 1/5; 24/210] END max_depth=2, max_features=7, n_estimators=55; total time=   0.5s\n",
      "[CV 2/5; 24/210] START max_depth=2, max_features=7, n_estimators=55.............\n",
      "[CV 2/5; 24/210] END max_depth=2, max_features=7, n_estimators=55; total time=   0.5s\n",
      "[CV 3/5; 24/210] START max_depth=2, max_features=7, n_estimators=55.............\n",
      "[CV 3/5; 24/210] END max_depth=2, max_features=7, n_estimators=55; total time=   0.5s\n",
      "[CV 4/5; 24/210] START max_depth=2, max_features=7, n_estimators=55.............\n",
      "[CV 4/5; 24/210] END max_depth=2, max_features=7, n_estimators=55; total time=   0.5s\n",
      "[CV 5/5; 24/210] START max_depth=2, max_features=7, n_estimators=55.............\n",
      "[CV 5/5; 24/210] END max_depth=2, max_features=7, n_estimators=55; total time=   0.5s\n",
      "[CV 1/5; 25/210] START max_depth=2, max_features=7, n_estimators=60.............\n",
      "[CV 1/5; 25/210] END max_depth=2, max_features=7, n_estimators=60; total time=   0.6s\n",
      "[CV 2/5; 25/210] START max_depth=2, max_features=7, n_estimators=60.............\n",
      "[CV 2/5; 25/210] END max_depth=2, max_features=7, n_estimators=60; total time=   0.8s\n",
      "[CV 3/5; 25/210] START max_depth=2, max_features=7, n_estimators=60.............\n",
      "[CV 3/5; 25/210] END max_depth=2, max_features=7, n_estimators=60; total time=   0.9s\n",
      "[CV 4/5; 25/210] START max_depth=2, max_features=7, n_estimators=60.............\n",
      "[CV 4/5; 25/210] END max_depth=2, max_features=7, n_estimators=60; total time=   0.9s\n",
      "[CV 5/5; 25/210] START max_depth=2, max_features=7, n_estimators=60.............\n",
      "[CV 5/5; 25/210] END max_depth=2, max_features=7, n_estimators=60; total time=   0.9s\n",
      "[CV 1/5; 26/210] START max_depth=2, max_features=7, n_estimators=65.............\n",
      "[CV 1/5; 26/210] END max_depth=2, max_features=7, n_estimators=65; total time=   0.9s\n",
      "[CV 2/5; 26/210] START max_depth=2, max_features=7, n_estimators=65.............\n",
      "[CV 2/5; 26/210] END max_depth=2, max_features=7, n_estimators=65; total time=   0.9s\n",
      "[CV 3/5; 26/210] START max_depth=2, max_features=7, n_estimators=65.............\n",
      "[CV 3/5; 26/210] END max_depth=2, max_features=7, n_estimators=65; total time=   0.9s\n",
      "[CV 4/5; 26/210] START max_depth=2, max_features=7, n_estimators=65.............\n",
      "[CV 4/5; 26/210] END max_depth=2, max_features=7, n_estimators=65; total time=   0.9s\n",
      "[CV 5/5; 26/210] START max_depth=2, max_features=7, n_estimators=65.............\n",
      "[CV 5/5; 26/210] END max_depth=2, max_features=7, n_estimators=65; total time=   0.9s\n",
      "[CV 1/5; 27/210] START max_depth=2, max_features=7, n_estimators=70.............\n",
      "[CV 1/5; 27/210] END max_depth=2, max_features=7, n_estimators=70; total time=   1.0s\n",
      "[CV 2/5; 27/210] START max_depth=2, max_features=7, n_estimators=70.............\n",
      "[CV 2/5; 27/210] END max_depth=2, max_features=7, n_estimators=70; total time=   1.0s\n",
      "[CV 3/5; 27/210] START max_depth=2, max_features=7, n_estimators=70.............\n",
      "[CV 3/5; 27/210] END max_depth=2, max_features=7, n_estimators=70; total time=   1.0s\n",
      "[CV 4/5; 27/210] START max_depth=2, max_features=7, n_estimators=70.............\n",
      "[CV 4/5; 27/210] END max_depth=2, max_features=7, n_estimators=70; total time=   1.0s\n",
      "[CV 5/5; 27/210] START max_depth=2, max_features=7, n_estimators=70.............\n",
      "[CV 5/5; 27/210] END max_depth=2, max_features=7, n_estimators=70; total time=   1.2s\n",
      "[CV 1/5; 28/210] START max_depth=2, max_features=7, n_estimators=75.............\n",
      "[CV 1/5; 28/210] END max_depth=2, max_features=7, n_estimators=75; total time=   1.0s\n",
      "[CV 2/5; 28/210] START max_depth=2, max_features=7, n_estimators=75.............\n",
      "[CV 2/5; 28/210] END max_depth=2, max_features=7, n_estimators=75; total time=   1.0s\n",
      "[CV 3/5; 28/210] START max_depth=2, max_features=7, n_estimators=75.............\n",
      "[CV 3/5; 28/210] END max_depth=2, max_features=7, n_estimators=75; total time=   1.0s\n",
      "[CV 4/5; 28/210] START max_depth=2, max_features=7, n_estimators=75.............\n",
      "[CV 4/5; 28/210] END max_depth=2, max_features=7, n_estimators=75; total time=   1.2s\n",
      "[CV 5/5; 28/210] START max_depth=2, max_features=7, n_estimators=75.............\n",
      "[CV 5/5; 28/210] END max_depth=2, max_features=7, n_estimators=75; total time=   1.1s\n",
      "[CV 1/5; 29/210] START max_depth=2, max_features=9, n_estimators=10.............\n",
      "[CV 1/5; 29/210] END max_depth=2, max_features=9, n_estimators=10; total time=   0.2s\n",
      "[CV 2/5; 29/210] START max_depth=2, max_features=9, n_estimators=10.............\n",
      "[CV 2/5; 29/210] END max_depth=2, max_features=9, n_estimators=10; total time=   0.2s\n",
      "[CV 3/5; 29/210] START max_depth=2, max_features=9, n_estimators=10.............\n",
      "[CV 3/5; 29/210] END max_depth=2, max_features=9, n_estimators=10; total time=   0.2s\n",
      "[CV 4/5; 29/210] START max_depth=2, max_features=9, n_estimators=10.............\n",
      "[CV 4/5; 29/210] END max_depth=2, max_features=9, n_estimators=10; total time=   0.2s\n",
      "[CV 5/5; 29/210] START max_depth=2, max_features=9, n_estimators=10.............\n",
      "[CV 5/5; 29/210] END max_depth=2, max_features=9, n_estimators=10; total time=   0.2s\n",
      "[CV 1/5; 30/210] START max_depth=2, max_features=9, n_estimators=15.............\n",
      "[CV 1/5; 30/210] END max_depth=2, max_features=9, n_estimators=15; total time=   0.3s\n",
      "[CV 2/5; 30/210] START max_depth=2, max_features=9, n_estimators=15.............\n",
      "[CV 2/5; 30/210] END max_depth=2, max_features=9, n_estimators=15; total time=   0.3s\n",
      "[CV 3/5; 30/210] START max_depth=2, max_features=9, n_estimators=15.............\n",
      "[CV 3/5; 30/210] END max_depth=2, max_features=9, n_estimators=15; total time=   0.3s\n",
      "[CV 4/5; 30/210] START max_depth=2, max_features=9, n_estimators=15.............\n",
      "[CV 4/5; 30/210] END max_depth=2, max_features=9, n_estimators=15; total time=   0.3s\n",
      "[CV 5/5; 30/210] START max_depth=2, max_features=9, n_estimators=15.............\n",
      "[CV 5/5; 30/210] END max_depth=2, max_features=9, n_estimators=15; total time=   0.3s\n",
      "[CV 1/5; 31/210] START max_depth=2, max_features=9, n_estimators=20.............\n",
      "[CV 1/5; 31/210] END max_depth=2, max_features=9, n_estimators=20; total time=   0.4s\n",
      "[CV 2/5; 31/210] START max_depth=2, max_features=9, n_estimators=20.............\n",
      "[CV 2/5; 31/210] END max_depth=2, max_features=9, n_estimators=20; total time=   0.4s\n",
      "[CV 3/5; 31/210] START max_depth=2, max_features=9, n_estimators=20.............\n",
      "[CV 3/5; 31/210] END max_depth=2, max_features=9, n_estimators=20; total time=   0.4s\n",
      "[CV 4/5; 31/210] START max_depth=2, max_features=9, n_estimators=20.............\n",
      "[CV 4/5; 31/210] END max_depth=2, max_features=9, n_estimators=20; total time=   0.3s\n",
      "[CV 5/5; 31/210] START max_depth=2, max_features=9, n_estimators=20.............\n",
      "[CV 5/5; 31/210] END max_depth=2, max_features=9, n_estimators=20; total time=   0.3s\n",
      "[CV 1/5; 32/210] START max_depth=2, max_features=9, n_estimators=25.............\n",
      "[CV 1/5; 32/210] END max_depth=2, max_features=9, n_estimators=25; total time=   0.5s\n",
      "[CV 2/5; 32/210] START max_depth=2, max_features=9, n_estimators=25.............\n",
      "[CV 2/5; 32/210] END max_depth=2, max_features=9, n_estimators=25; total time=   0.4s\n",
      "[CV 3/5; 32/210] START max_depth=2, max_features=9, n_estimators=25.............\n",
      "[CV 3/5; 32/210] END max_depth=2, max_features=9, n_estimators=25; total time=   0.5s\n",
      "[CV 4/5; 32/210] START max_depth=2, max_features=9, n_estimators=25.............\n",
      "[CV 4/5; 32/210] END max_depth=2, max_features=9, n_estimators=25; total time=   0.5s\n",
      "[CV 5/5; 32/210] START max_depth=2, max_features=9, n_estimators=25.............\n",
      "[CV 5/5; 32/210] END max_depth=2, max_features=9, n_estimators=25; total time=   0.5s\n",
      "[CV 1/5; 33/210] START max_depth=2, max_features=9, n_estimators=30.............\n",
      "[CV 1/5; 33/210] END max_depth=2, max_features=9, n_estimators=30; total time=   0.5s\n",
      "[CV 2/5; 33/210] START max_depth=2, max_features=9, n_estimators=30.............\n",
      "[CV 2/5; 33/210] END max_depth=2, max_features=9, n_estimators=30; total time=   0.5s\n",
      "[CV 3/5; 33/210] START max_depth=2, max_features=9, n_estimators=30.............\n",
      "[CV 3/5; 33/210] END max_depth=2, max_features=9, n_estimators=30; total time=   0.5s\n",
      "[CV 4/5; 33/210] START max_depth=2, max_features=9, n_estimators=30.............\n",
      "[CV 4/5; 33/210] END max_depth=2, max_features=9, n_estimators=30; total time=   0.5s\n",
      "[CV 5/5; 33/210] START max_depth=2, max_features=9, n_estimators=30.............\n",
      "[CV 5/5; 33/210] END max_depth=2, max_features=9, n_estimators=30; total time=   0.5s\n",
      "[CV 1/5; 34/210] START max_depth=2, max_features=9, n_estimators=35.............\n",
      "[CV 1/5; 34/210] END max_depth=2, max_features=9, n_estimators=35; total time=   0.6s\n",
      "[CV 2/5; 34/210] START max_depth=2, max_features=9, n_estimators=35.............\n",
      "[CV 2/5; 34/210] END max_depth=2, max_features=9, n_estimators=35; total time=   0.6s\n",
      "[CV 3/5; 34/210] START max_depth=2, max_features=9, n_estimators=35.............\n",
      "[CV 3/5; 34/210] END max_depth=2, max_features=9, n_estimators=35; total time=   0.6s\n",
      "[CV 4/5; 34/210] START max_depth=2, max_features=9, n_estimators=35.............\n",
      "[CV 4/5; 34/210] END max_depth=2, max_features=9, n_estimators=35; total time=   0.7s\n",
      "[CV 5/5; 34/210] START max_depth=2, max_features=9, n_estimators=35.............\n",
      "[CV 5/5; 34/210] END max_depth=2, max_features=9, n_estimators=35; total time=   0.6s\n",
      "[CV 1/5; 35/210] START max_depth=2, max_features=9, n_estimators=40.............\n",
      "[CV 1/5; 35/210] END max_depth=2, max_features=9, n_estimators=40; total time=   0.5s\n",
      "[CV 2/5; 35/210] START max_depth=2, max_features=9, n_estimators=40.............\n",
      "[CV 2/5; 35/210] END max_depth=2, max_features=9, n_estimators=40; total time=   0.5s\n",
      "[CV 3/5; 35/210] START max_depth=2, max_features=9, n_estimators=40.............\n",
      "[CV 3/5; 35/210] END max_depth=2, max_features=9, n_estimators=40; total time=   0.5s\n",
      "[CV 4/5; 35/210] START max_depth=2, max_features=9, n_estimators=40.............\n",
      "[CV 4/5; 35/210] END max_depth=2, max_features=9, n_estimators=40; total time=   0.5s\n",
      "[CV 5/5; 35/210] START max_depth=2, max_features=9, n_estimators=40.............\n",
      "[CV 5/5; 35/210] END max_depth=2, max_features=9, n_estimators=40; total time=   0.5s\n",
      "[CV 1/5; 36/210] START max_depth=2, max_features=9, n_estimators=45.............\n",
      "[CV 1/5; 36/210] END max_depth=2, max_features=9, n_estimators=45; total time=   0.5s\n",
      "[CV 2/5; 36/210] START max_depth=2, max_features=9, n_estimators=45.............\n",
      "[CV 2/5; 36/210] END max_depth=2, max_features=9, n_estimators=45; total time=   0.6s\n",
      "[CV 3/5; 36/210] START max_depth=2, max_features=9, n_estimators=45.............\n",
      "[CV 3/5; 36/210] END max_depth=2, max_features=9, n_estimators=45; total time=   0.6s\n",
      "[CV 4/5; 36/210] START max_depth=2, max_features=9, n_estimators=45.............\n",
      "[CV 4/5; 36/210] END max_depth=2, max_features=9, n_estimators=45; total time=   0.6s\n",
      "[CV 5/5; 36/210] START max_depth=2, max_features=9, n_estimators=45.............\n",
      "[CV 5/5; 36/210] END max_depth=2, max_features=9, n_estimators=45; total time=   0.5s\n",
      "[CV 1/5; 37/210] START max_depth=2, max_features=9, n_estimators=50.............\n",
      "[CV 1/5; 37/210] END max_depth=2, max_features=9, n_estimators=50; total time=   0.6s\n",
      "[CV 2/5; 37/210] START max_depth=2, max_features=9, n_estimators=50.............\n",
      "[CV 2/5; 37/210] END max_depth=2, max_features=9, n_estimators=50; total time=   0.6s\n",
      "[CV 3/5; 37/210] START max_depth=2, max_features=9, n_estimators=50.............\n",
      "[CV 3/5; 37/210] END max_depth=2, max_features=9, n_estimators=50; total time=   0.7s\n",
      "[CV 4/5; 37/210] START max_depth=2, max_features=9, n_estimators=50.............\n",
      "[CV 4/5; 37/210] END max_depth=2, max_features=9, n_estimators=50; total time=   0.6s\n",
      "[CV 5/5; 37/210] START max_depth=2, max_features=9, n_estimators=50.............\n",
      "[CV 5/5; 37/210] END max_depth=2, max_features=9, n_estimators=50; total time=   0.6s\n",
      "[CV 1/5; 38/210] START max_depth=2, max_features=9, n_estimators=55.............\n",
      "[CV 1/5; 38/210] END max_depth=2, max_features=9, n_estimators=55; total time=   0.7s\n",
      "[CV 2/5; 38/210] START max_depth=2, max_features=9, n_estimators=55.............\n",
      "[CV 2/5; 38/210] END max_depth=2, max_features=9, n_estimators=55; total time=   0.7s\n",
      "[CV 3/5; 38/210] START max_depth=2, max_features=9, n_estimators=55.............\n",
      "[CV 3/5; 38/210] END max_depth=2, max_features=9, n_estimators=55; total time=   0.8s\n",
      "[CV 4/5; 38/210] START max_depth=2, max_features=9, n_estimators=55.............\n",
      "[CV 4/5; 38/210] END max_depth=2, max_features=9, n_estimators=55; total time=   0.6s\n",
      "[CV 5/5; 38/210] START max_depth=2, max_features=9, n_estimators=55.............\n",
      "[CV 5/5; 38/210] END max_depth=2, max_features=9, n_estimators=55; total time=   0.6s\n",
      "[CV 1/5; 39/210] START max_depth=2, max_features=9, n_estimators=60.............\n",
      "[CV 1/5; 39/210] END max_depth=2, max_features=9, n_estimators=60; total time=   0.7s\n",
      "[CV 2/5; 39/210] START max_depth=2, max_features=9, n_estimators=60.............\n",
      "[CV 2/5; 39/210] END max_depth=2, max_features=9, n_estimators=60; total time=   0.7s\n",
      "[CV 3/5; 39/210] START max_depth=2, max_features=9, n_estimators=60.............\n",
      "[CV 3/5; 39/210] END max_depth=2, max_features=9, n_estimators=60; total time=   0.7s\n",
      "[CV 4/5; 39/210] START max_depth=2, max_features=9, n_estimators=60.............\n",
      "[CV 4/5; 39/210] END max_depth=2, max_features=9, n_estimators=60; total time=   0.7s\n",
      "[CV 5/5; 39/210] START max_depth=2, max_features=9, n_estimators=60.............\n",
      "[CV 5/5; 39/210] END max_depth=2, max_features=9, n_estimators=60; total time=   0.7s\n",
      "[CV 1/5; 40/210] START max_depth=2, max_features=9, n_estimators=65.............\n",
      "[CV 1/5; 40/210] END max_depth=2, max_features=9, n_estimators=65; total time=   0.8s\n",
      "[CV 2/5; 40/210] START max_depth=2, max_features=9, n_estimators=65.............\n",
      "[CV 2/5; 40/210] END max_depth=2, max_features=9, n_estimators=65; total time=   0.8s\n",
      "[CV 3/5; 40/210] START max_depth=2, max_features=9, n_estimators=65.............\n",
      "[CV 3/5; 40/210] END max_depth=2, max_features=9, n_estimators=65; total time=   0.8s\n",
      "[CV 4/5; 40/210] START max_depth=2, max_features=9, n_estimators=65.............\n",
      "[CV 4/5; 40/210] END max_depth=2, max_features=9, n_estimators=65; total time=   0.8s\n",
      "[CV 5/5; 40/210] START max_depth=2, max_features=9, n_estimators=65.............\n",
      "[CV 5/5; 40/210] END max_depth=2, max_features=9, n_estimators=65; total time=   0.8s\n",
      "[CV 1/5; 41/210] START max_depth=2, max_features=9, n_estimators=70.............\n",
      "[CV 1/5; 41/210] END max_depth=2, max_features=9, n_estimators=70; total time=   0.9s\n",
      "[CV 2/5; 41/210] START max_depth=2, max_features=9, n_estimators=70.............\n",
      "[CV 2/5; 41/210] END max_depth=2, max_features=9, n_estimators=70; total time=   0.9s\n",
      "[CV 3/5; 41/210] START max_depth=2, max_features=9, n_estimators=70.............\n",
      "[CV 3/5; 41/210] END max_depth=2, max_features=9, n_estimators=70; total time=   0.9s\n",
      "[CV 4/5; 41/210] START max_depth=2, max_features=9, n_estimators=70.............\n",
      "[CV 4/5; 41/210] END max_depth=2, max_features=9, n_estimators=70; total time=   0.8s\n",
      "[CV 5/5; 41/210] START max_depth=2, max_features=9, n_estimators=70.............\n",
      "[CV 5/5; 41/210] END max_depth=2, max_features=9, n_estimators=70; total time=   0.8s\n",
      "[CV 1/5; 42/210] START max_depth=2, max_features=9, n_estimators=75.............\n",
      "[CV 1/5; 42/210] END max_depth=2, max_features=9, n_estimators=75; total time=   0.9s\n",
      "[CV 2/5; 42/210] START max_depth=2, max_features=9, n_estimators=75.............\n",
      "[CV 2/5; 42/210] END max_depth=2, max_features=9, n_estimators=75; total time=   0.9s\n",
      "[CV 3/5; 42/210] START max_depth=2, max_features=9, n_estimators=75.............\n",
      "[CV 3/5; 42/210] END max_depth=2, max_features=9, n_estimators=75; total time=   0.9s\n",
      "[CV 4/5; 42/210] START max_depth=2, max_features=9, n_estimators=75.............\n",
      "[CV 4/5; 42/210] END max_depth=2, max_features=9, n_estimators=75; total time=   0.9s\n",
      "[CV 5/5; 42/210] START max_depth=2, max_features=9, n_estimators=75.............\n",
      "[CV 5/5; 42/210] END max_depth=2, max_features=9, n_estimators=75; total time=   0.9s\n",
      "[CV 1/5; 43/210] START max_depth=4, max_features=5, n_estimators=10.............\n",
      "[CV 1/5; 43/210] END max_depth=4, max_features=5, n_estimators=10; total time=   0.1s\n",
      "[CV 2/5; 43/210] START max_depth=4, max_features=5, n_estimators=10.............\n",
      "[CV 2/5; 43/210] END max_depth=4, max_features=5, n_estimators=10; total time=   0.1s\n",
      "[CV 3/5; 43/210] START max_depth=4, max_features=5, n_estimators=10.............\n",
      "[CV 3/5; 43/210] END max_depth=4, max_features=5, n_estimators=10; total time=   0.1s\n",
      "[CV 4/5; 43/210] START max_depth=4, max_features=5, n_estimators=10.............\n",
      "[CV 4/5; 43/210] END max_depth=4, max_features=5, n_estimators=10; total time=   0.1s\n",
      "[CV 5/5; 43/210] START max_depth=4, max_features=5, n_estimators=10.............\n",
      "[CV 5/5; 43/210] END max_depth=4, max_features=5, n_estimators=10; total time=   0.1s\n",
      "[CV 1/5; 44/210] START max_depth=4, max_features=5, n_estimators=15.............\n",
      "[CV 1/5; 44/210] END max_depth=4, max_features=5, n_estimators=15; total time=   0.2s\n",
      "[CV 2/5; 44/210] START max_depth=4, max_features=5, n_estimators=15.............\n",
      "[CV 2/5; 44/210] END max_depth=4, max_features=5, n_estimators=15; total time=   0.2s\n",
      "[CV 3/5; 44/210] START max_depth=4, max_features=5, n_estimators=15.............\n",
      "[CV 3/5; 44/210] END max_depth=4, max_features=5, n_estimators=15; total time=   0.2s\n",
      "[CV 4/5; 44/210] START max_depth=4, max_features=5, n_estimators=15.............\n",
      "[CV 4/5; 44/210] END max_depth=4, max_features=5, n_estimators=15; total time=   0.2s\n",
      "[CV 5/5; 44/210] START max_depth=4, max_features=5, n_estimators=15.............\n",
      "[CV 5/5; 44/210] END max_depth=4, max_features=5, n_estimators=15; total time=   0.2s\n",
      "[CV 1/5; 45/210] START max_depth=4, max_features=5, n_estimators=20.............\n",
      "[CV 1/5; 45/210] END max_depth=4, max_features=5, n_estimators=20; total time=   0.3s\n",
      "[CV 2/5; 45/210] START max_depth=4, max_features=5, n_estimators=20.............\n",
      "[CV 2/5; 45/210] END max_depth=4, max_features=5, n_estimators=20; total time=   0.3s\n",
      "[CV 3/5; 45/210] START max_depth=4, max_features=5, n_estimators=20.............\n",
      "[CV 3/5; 45/210] END max_depth=4, max_features=5, n_estimators=20; total time=   0.3s\n",
      "[CV 4/5; 45/210] START max_depth=4, max_features=5, n_estimators=20.............\n",
      "[CV 4/5; 45/210] END max_depth=4, max_features=5, n_estimators=20; total time=   0.3s\n",
      "[CV 5/5; 45/210] START max_depth=4, max_features=5, n_estimators=20.............\n",
      "[CV 5/5; 45/210] END max_depth=4, max_features=5, n_estimators=20; total time=   0.3s\n",
      "[CV 1/5; 46/210] START max_depth=4, max_features=5, n_estimators=25.............\n",
      "[CV 1/5; 46/210] END max_depth=4, max_features=5, n_estimators=25; total time=   0.3s\n",
      "[CV 2/5; 46/210] START max_depth=4, max_features=5, n_estimators=25.............\n",
      "[CV 2/5; 46/210] END max_depth=4, max_features=5, n_estimators=25; total time=   0.3s\n",
      "[CV 3/5; 46/210] START max_depth=4, max_features=5, n_estimators=25.............\n",
      "[CV 3/5; 46/210] END max_depth=4, max_features=5, n_estimators=25; total time=   0.4s\n",
      "[CV 4/5; 46/210] START max_depth=4, max_features=5, n_estimators=25.............\n",
      "[CV 4/5; 46/210] END max_depth=4, max_features=5, n_estimators=25; total time=   0.3s\n",
      "[CV 5/5; 46/210] START max_depth=4, max_features=5, n_estimators=25.............\n",
      "[CV 5/5; 46/210] END max_depth=4, max_features=5, n_estimators=25; total time=   0.3s\n",
      "[CV 1/5; 47/210] START max_depth=4, max_features=5, n_estimators=30.............\n",
      "[CV 1/5; 47/210] END max_depth=4, max_features=5, n_estimators=30; total time=   0.4s\n",
      "[CV 2/5; 47/210] START max_depth=4, max_features=5, n_estimators=30.............\n",
      "[CV 2/5; 47/210] END max_depth=4, max_features=5, n_estimators=30; total time=   0.4s\n",
      "[CV 3/5; 47/210] START max_depth=4, max_features=5, n_estimators=30.............\n",
      "[CV 3/5; 47/210] END max_depth=4, max_features=5, n_estimators=30; total time=   0.4s\n",
      "[CV 4/5; 47/210] START max_depth=4, max_features=5, n_estimators=30.............\n",
      "[CV 4/5; 47/210] END max_depth=4, max_features=5, n_estimators=30; total time=   0.4s\n",
      "[CV 5/5; 47/210] START max_depth=4, max_features=5, n_estimators=30.............\n",
      "[CV 5/5; 47/210] END max_depth=4, max_features=5, n_estimators=30; total time=   0.4s\n",
      "[CV 1/5; 48/210] START max_depth=4, max_features=5, n_estimators=35.............\n",
      "[CV 1/5; 48/210] END max_depth=4, max_features=5, n_estimators=35; total time=   0.5s\n",
      "[CV 2/5; 48/210] START max_depth=4, max_features=5, n_estimators=35.............\n",
      "[CV 2/5; 48/210] END max_depth=4, max_features=5, n_estimators=35; total time=   0.5s\n",
      "[CV 3/5; 48/210] START max_depth=4, max_features=5, n_estimators=35.............\n",
      "[CV 3/5; 48/210] END max_depth=4, max_features=5, n_estimators=35; total time=   0.5s\n",
      "[CV 4/5; 48/210] START max_depth=4, max_features=5, n_estimators=35.............\n",
      "[CV 4/5; 48/210] END max_depth=4, max_features=5, n_estimators=35; total time=   0.6s\n",
      "[CV 5/5; 48/210] START max_depth=4, max_features=5, n_estimators=35.............\n",
      "[CV 5/5; 48/210] END max_depth=4, max_features=5, n_estimators=35; total time=   0.6s\n",
      "[CV 1/5; 49/210] START max_depth=4, max_features=5, n_estimators=40.............\n",
      "[CV 1/5; 49/210] END max_depth=4, max_features=5, n_estimators=40; total time=   0.6s\n",
      "[CV 2/5; 49/210] START max_depth=4, max_features=5, n_estimators=40.............\n",
      "[CV 2/5; 49/210] END max_depth=4, max_features=5, n_estimators=40; total time=   0.7s\n",
      "[CV 3/5; 49/210] START max_depth=4, max_features=5, n_estimators=40.............\n",
      "[CV 3/5; 49/210] END max_depth=4, max_features=5, n_estimators=40; total time=   0.6s\n",
      "[CV 4/5; 49/210] START max_depth=4, max_features=5, n_estimators=40.............\n",
      "[CV 4/5; 49/210] END max_depth=4, max_features=5, n_estimators=40; total time=   0.5s\n",
      "[CV 5/5; 49/210] START max_depth=4, max_features=5, n_estimators=40.............\n",
      "[CV 5/5; 49/210] END max_depth=4, max_features=5, n_estimators=40; total time=   0.5s\n",
      "[CV 1/5; 50/210] START max_depth=4, max_features=5, n_estimators=45.............\n",
      "[CV 1/5; 50/210] END max_depth=4, max_features=5, n_estimators=45; total time=   0.7s\n",
      "[CV 2/5; 50/210] START max_depth=4, max_features=5, n_estimators=45.............\n",
      "[CV 2/5; 50/210] END max_depth=4, max_features=5, n_estimators=45; total time=   0.6s\n",
      "[CV 3/5; 50/210] START max_depth=4, max_features=5, n_estimators=45.............\n",
      "[CV 3/5; 50/210] END max_depth=4, max_features=5, n_estimators=45; total time=   0.6s\n",
      "[CV 4/5; 50/210] START max_depth=4, max_features=5, n_estimators=45.............\n",
      "[CV 4/5; 50/210] END max_depth=4, max_features=5, n_estimators=45; total time=   0.6s\n",
      "[CV 5/5; 50/210] START max_depth=4, max_features=5, n_estimators=45.............\n",
      "[CV 5/5; 50/210] END max_depth=4, max_features=5, n_estimators=45; total time=   0.6s\n",
      "[CV 1/5; 51/210] START max_depth=4, max_features=5, n_estimators=50.............\n",
      "[CV 1/5; 51/210] END max_depth=4, max_features=5, n_estimators=50; total time=   0.7s\n",
      "[CV 2/5; 51/210] START max_depth=4, max_features=5, n_estimators=50.............\n",
      "[CV 2/5; 51/210] END max_depth=4, max_features=5, n_estimators=50; total time=   0.7s\n",
      "[CV 3/5; 51/210] START max_depth=4, max_features=5, n_estimators=50.............\n",
      "[CV 3/5; 51/210] END max_depth=4, max_features=5, n_estimators=50; total time=   0.7s\n",
      "[CV 4/5; 51/210] START max_depth=4, max_features=5, n_estimators=50.............\n",
      "[CV 4/5; 51/210] END max_depth=4, max_features=5, n_estimators=50; total time=   0.7s\n",
      "[CV 5/5; 51/210] START max_depth=4, max_features=5, n_estimators=50.............\n",
      "[CV 5/5; 51/210] END max_depth=4, max_features=5, n_estimators=50; total time=   0.7s\n",
      "[CV 1/5; 52/210] START max_depth=4, max_features=5, n_estimators=55.............\n",
      "[CV 1/5; 52/210] END max_depth=4, max_features=5, n_estimators=55; total time=   0.8s\n",
      "[CV 2/5; 52/210] START max_depth=4, max_features=5, n_estimators=55.............\n",
      "[CV 2/5; 52/210] END max_depth=4, max_features=5, n_estimators=55; total time=   0.7s\n",
      "[CV 3/5; 52/210] START max_depth=4, max_features=5, n_estimators=55.............\n",
      "[CV 3/5; 52/210] END max_depth=4, max_features=5, n_estimators=55; total time=   0.8s\n",
      "[CV 4/5; 52/210] START max_depth=4, max_features=5, n_estimators=55.............\n",
      "[CV 4/5; 52/210] END max_depth=4, max_features=5, n_estimators=55; total time=   0.9s\n",
      "[CV 5/5; 52/210] START max_depth=4, max_features=5, n_estimators=55.............\n",
      "[CV 5/5; 52/210] END max_depth=4, max_features=5, n_estimators=55; total time=   0.7s\n",
      "[CV 1/5; 53/210] START max_depth=4, max_features=5, n_estimators=60.............\n",
      "[CV 1/5; 53/210] END max_depth=4, max_features=5, n_estimators=60; total time=   0.8s\n",
      "[CV 2/5; 53/210] START max_depth=4, max_features=5, n_estimators=60.............\n",
      "[CV 2/5; 53/210] END max_depth=4, max_features=5, n_estimators=60; total time=   0.8s\n",
      "[CV 3/5; 53/210] START max_depth=4, max_features=5, n_estimators=60.............\n",
      "[CV 3/5; 53/210] END max_depth=4, max_features=5, n_estimators=60; total time=   0.8s\n",
      "[CV 4/5; 53/210] START max_depth=4, max_features=5, n_estimators=60.............\n",
      "[CV 4/5; 53/210] END max_depth=4, max_features=5, n_estimators=60; total time=   0.8s\n",
      "[CV 5/5; 53/210] START max_depth=4, max_features=5, n_estimators=60.............\n",
      "[CV 5/5; 53/210] END max_depth=4, max_features=5, n_estimators=60; total time=   0.8s\n",
      "[CV 1/5; 54/210] START max_depth=4, max_features=5, n_estimators=65.............\n",
      "[CV 1/5; 54/210] END max_depth=4, max_features=5, n_estimators=65; total time=   0.9s\n",
      "[CV 2/5; 54/210] START max_depth=4, max_features=5, n_estimators=65.............\n",
      "[CV 2/5; 54/210] END max_depth=4, max_features=5, n_estimators=65; total time=   0.9s\n",
      "[CV 3/5; 54/210] START max_depth=4, max_features=5, n_estimators=65.............\n",
      "[CV 3/5; 54/210] END max_depth=4, max_features=5, n_estimators=65; total time=   0.9s\n",
      "[CV 4/5; 54/210] START max_depth=4, max_features=5, n_estimators=65.............\n",
      "[CV 4/5; 54/210] END max_depth=4, max_features=5, n_estimators=65; total time=   0.9s\n",
      "[CV 5/5; 54/210] START max_depth=4, max_features=5, n_estimators=65.............\n",
      "[CV 5/5; 54/210] END max_depth=4, max_features=5, n_estimators=65; total time=   1.0s\n",
      "[CV 1/5; 55/210] START max_depth=4, max_features=5, n_estimators=70.............\n",
      "[CV 1/5; 55/210] END max_depth=4, max_features=5, n_estimators=70; total time=   0.9s\n",
      "[CV 2/5; 55/210] START max_depth=4, max_features=5, n_estimators=70.............\n",
      "[CV 2/5; 55/210] END max_depth=4, max_features=5, n_estimators=70; total time=   1.0s\n",
      "[CV 3/5; 55/210] START max_depth=4, max_features=5, n_estimators=70.............\n",
      "[CV 3/5; 55/210] END max_depth=4, max_features=5, n_estimators=70; total time=   0.9s\n",
      "[CV 4/5; 55/210] START max_depth=4, max_features=5, n_estimators=70.............\n",
      "[CV 4/5; 55/210] END max_depth=4, max_features=5, n_estimators=70; total time=   0.9s\n",
      "[CV 5/5; 55/210] START max_depth=4, max_features=5, n_estimators=70.............\n",
      "[CV 5/5; 55/210] END max_depth=4, max_features=5, n_estimators=70; total time=   0.9s\n",
      "[CV 1/5; 56/210] START max_depth=4, max_features=5, n_estimators=75.............\n",
      "[CV 1/5; 56/210] END max_depth=4, max_features=5, n_estimators=75; total time=   1.0s\n",
      "[CV 2/5; 56/210] START max_depth=4, max_features=5, n_estimators=75.............\n",
      "[CV 2/5; 56/210] END max_depth=4, max_features=5, n_estimators=75; total time=   1.0s\n",
      "[CV 3/5; 56/210] START max_depth=4, max_features=5, n_estimators=75.............\n",
      "[CV 3/5; 56/210] END max_depth=4, max_features=5, n_estimators=75; total time=   1.0s\n",
      "[CV 4/5; 56/210] START max_depth=4, max_features=5, n_estimators=75.............\n",
      "[CV 4/5; 56/210] END max_depth=4, max_features=5, n_estimators=75; total time=   1.0s\n",
      "[CV 5/5; 56/210] START max_depth=4, max_features=5, n_estimators=75.............\n",
      "[CV 5/5; 56/210] END max_depth=4, max_features=5, n_estimators=75; total time=   1.0s\n",
      "[CV 1/5; 57/210] START max_depth=4, max_features=7, n_estimators=10.............\n",
      "[CV 1/5; 57/210] END max_depth=4, max_features=7, n_estimators=10; total time=   0.2s\n",
      "[CV 2/5; 57/210] START max_depth=4, max_features=7, n_estimators=10.............\n",
      "[CV 2/5; 57/210] END max_depth=4, max_features=7, n_estimators=10; total time=   0.2s\n",
      "[CV 3/5; 57/210] START max_depth=4, max_features=7, n_estimators=10.............\n",
      "[CV 3/5; 57/210] END max_depth=4, max_features=7, n_estimators=10; total time=   0.2s\n",
      "[CV 4/5; 57/210] START max_depth=4, max_features=7, n_estimators=10.............\n",
      "[CV 4/5; 57/210] END max_depth=4, max_features=7, n_estimators=10; total time=   0.2s\n",
      "[CV 5/5; 57/210] START max_depth=4, max_features=7, n_estimators=10.............\n",
      "[CV 5/5; 57/210] END max_depth=4, max_features=7, n_estimators=10; total time=   0.2s\n",
      "[CV 1/5; 58/210] START max_depth=4, max_features=7, n_estimators=15.............\n",
      "[CV 1/5; 58/210] END max_depth=4, max_features=7, n_estimators=15; total time=   0.3s\n",
      "[CV 2/5; 58/210] START max_depth=4, max_features=7, n_estimators=15.............\n",
      "[CV 2/5; 58/210] END max_depth=4, max_features=7, n_estimators=15; total time=   0.3s\n",
      "[CV 3/5; 58/210] START max_depth=4, max_features=7, n_estimators=15.............\n",
      "[CV 3/5; 58/210] END max_depth=4, max_features=7, n_estimators=15; total time=   0.3s\n",
      "[CV 4/5; 58/210] START max_depth=4, max_features=7, n_estimators=15.............\n",
      "[CV 4/5; 58/210] END max_depth=4, max_features=7, n_estimators=15; total time=   0.3s\n",
      "[CV 5/5; 58/210] START max_depth=4, max_features=7, n_estimators=15.............\n",
      "[CV 5/5; 58/210] END max_depth=4, max_features=7, n_estimators=15; total time=   0.3s\n",
      "[CV 1/5; 59/210] START max_depth=4, max_features=7, n_estimators=20.............\n",
      "[CV 1/5; 59/210] END max_depth=4, max_features=7, n_estimators=20; total time=   0.5s\n",
      "[CV 2/5; 59/210] START max_depth=4, max_features=7, n_estimators=20.............\n",
      "[CV 2/5; 59/210] END max_depth=4, max_features=7, n_estimators=20; total time=   0.4s\n",
      "[CV 3/5; 59/210] START max_depth=4, max_features=7, n_estimators=20.............\n",
      "[CV 3/5; 59/210] END max_depth=4, max_features=7, n_estimators=20; total time=   0.4s\n",
      "[CV 4/5; 59/210] START max_depth=4, max_features=7, n_estimators=20.............\n",
      "[CV 4/5; 59/210] END max_depth=4, max_features=7, n_estimators=20; total time=   0.4s\n",
      "[CV 5/5; 59/210] START max_depth=4, max_features=7, n_estimators=20.............\n",
      "[CV 5/5; 59/210] END max_depth=4, max_features=7, n_estimators=20; total time=   0.4s\n",
      "[CV 1/5; 60/210] START max_depth=4, max_features=7, n_estimators=25.............\n",
      "[CV 1/5; 60/210] END max_depth=4, max_features=7, n_estimators=25; total time=   0.6s\n",
      "[CV 2/5; 60/210] START max_depth=4, max_features=7, n_estimators=25.............\n",
      "[CV 2/5; 60/210] END max_depth=4, max_features=7, n_estimators=25; total time=   0.4s\n",
      "[CV 3/5; 60/210] START max_depth=4, max_features=7, n_estimators=25.............\n",
      "[CV 3/5; 60/210] END max_depth=4, max_features=7, n_estimators=25; total time=   0.4s\n",
      "[CV 4/5; 60/210] START max_depth=4, max_features=7, n_estimators=25.............\n",
      "[CV 4/5; 60/210] END max_depth=4, max_features=7, n_estimators=25; total time=   0.4s\n",
      "[CV 5/5; 60/210] START max_depth=4, max_features=7, n_estimators=25.............\n",
      "[CV 5/5; 60/210] END max_depth=4, max_features=7, n_estimators=25; total time=   0.4s\n",
      "[CV 1/5; 61/210] START max_depth=4, max_features=7, n_estimators=30.............\n",
      "[CV 1/5; 61/210] END max_depth=4, max_features=7, n_estimators=30; total time=   0.6s\n",
      "[CV 2/5; 61/210] START max_depth=4, max_features=7, n_estimators=30.............\n",
      "[CV 2/5; 61/210] END max_depth=4, max_features=7, n_estimators=30; total time=   0.6s\n",
      "[CV 3/5; 61/210] START max_depth=4, max_features=7, n_estimators=30.............\n",
      "[CV 3/5; 61/210] END max_depth=4, max_features=7, n_estimators=30; total time=   0.6s\n",
      "[CV 4/5; 61/210] START max_depth=4, max_features=7, n_estimators=30.............\n",
      "[CV 4/5; 61/210] END max_depth=4, max_features=7, n_estimators=30; total time=   0.6s\n",
      "[CV 5/5; 61/210] START max_depth=4, max_features=7, n_estimators=30.............\n",
      "[CV 5/5; 61/210] END max_depth=4, max_features=7, n_estimators=30; total time=   0.6s\n",
      "[CV 1/5; 62/210] START max_depth=4, max_features=7, n_estimators=35.............\n",
      "[CV 1/5; 62/210] END max_depth=4, max_features=7, n_estimators=35; total time=   0.7s\n",
      "[CV 2/5; 62/210] START max_depth=4, max_features=7, n_estimators=35.............\n",
      "[CV 2/5; 62/210] END max_depth=4, max_features=7, n_estimators=35; total time=   0.7s\n",
      "[CV 3/5; 62/210] START max_depth=4, max_features=7, n_estimators=35.............\n",
      "[CV 3/5; 62/210] END max_depth=4, max_features=7, n_estimators=35; total time=   0.6s\n",
      "[CV 4/5; 62/210] START max_depth=4, max_features=7, n_estimators=35.............\n",
      "[CV 4/5; 62/210] END max_depth=4, max_features=7, n_estimators=35; total time=   0.7s\n",
      "[CV 5/5; 62/210] START max_depth=4, max_features=7, n_estimators=35.............\n",
      "[CV 5/5; 62/210] END max_depth=4, max_features=7, n_estimators=35; total time=   0.7s\n",
      "[CV 1/5; 63/210] START max_depth=4, max_features=7, n_estimators=40.............\n",
      "[CV 1/5; 63/210] END max_depth=4, max_features=7, n_estimators=40; total time=   0.7s\n",
      "[CV 2/5; 63/210] START max_depth=4, max_features=7, n_estimators=40.............\n",
      "[CV 2/5; 63/210] END max_depth=4, max_features=7, n_estimators=40; total time=   0.7s\n",
      "[CV 3/5; 63/210] START max_depth=4, max_features=7, n_estimators=40.............\n",
      "[CV 3/5; 63/210] END max_depth=4, max_features=7, n_estimators=40; total time=   0.7s\n",
      "[CV 4/5; 63/210] START max_depth=4, max_features=7, n_estimators=40.............\n",
      "[CV 4/5; 63/210] END max_depth=4, max_features=7, n_estimators=40; total time=   0.7s\n",
      "[CV 5/5; 63/210] START max_depth=4, max_features=7, n_estimators=40.............\n",
      "[CV 5/5; 63/210] END max_depth=4, max_features=7, n_estimators=40; total time=   0.8s\n",
      "[CV 1/5; 64/210] START max_depth=4, max_features=7, n_estimators=45.............\n",
      "[CV 1/5; 64/210] END max_depth=4, max_features=7, n_estimators=45; total time=   0.8s\n",
      "[CV 2/5; 64/210] START max_depth=4, max_features=7, n_estimators=45.............\n",
      "[CV 2/5; 64/210] END max_depth=4, max_features=7, n_estimators=45; total time=   0.8s\n",
      "[CV 3/5; 64/210] START max_depth=4, max_features=7, n_estimators=45.............\n",
      "[CV 3/5; 64/210] END max_depth=4, max_features=7, n_estimators=45; total time=   0.8s\n",
      "[CV 4/5; 64/210] START max_depth=4, max_features=7, n_estimators=45.............\n",
      "[CV 4/5; 64/210] END max_depth=4, max_features=7, n_estimators=45; total time=   0.8s\n",
      "[CV 5/5; 64/210] START max_depth=4, max_features=7, n_estimators=45.............\n",
      "[CV 5/5; 64/210] END max_depth=4, max_features=7, n_estimators=45; total time=   0.8s\n",
      "[CV 1/5; 65/210] START max_depth=4, max_features=7, n_estimators=50.............\n",
      "[CV 1/5; 65/210] END max_depth=4, max_features=7, n_estimators=50; total time=   0.9s\n",
      "[CV 2/5; 65/210] START max_depth=4, max_features=7, n_estimators=50.............\n",
      "[CV 2/5; 65/210] END max_depth=4, max_features=7, n_estimators=50; total time=   0.9s\n",
      "[CV 3/5; 65/210] START max_depth=4, max_features=7, n_estimators=50.............\n",
      "[CV 3/5; 65/210] END max_depth=4, max_features=7, n_estimators=50; total time=   0.9s\n",
      "[CV 4/5; 65/210] START max_depth=4, max_features=7, n_estimators=50.............\n",
      "[CV 4/5; 65/210] END max_depth=4, max_features=7, n_estimators=50; total time=   0.9s\n",
      "[CV 5/5; 65/210] START max_depth=4, max_features=7, n_estimators=50.............\n",
      "[CV 5/5; 65/210] END max_depth=4, max_features=7, n_estimators=50; total time=   0.9s\n",
      "[CV 1/5; 66/210] START max_depth=4, max_features=7, n_estimators=55.............\n",
      "[CV 1/5; 66/210] END max_depth=4, max_features=7, n_estimators=55; total time=   1.0s\n",
      "[CV 2/5; 66/210] START max_depth=4, max_features=7, n_estimators=55.............\n",
      "[CV 2/5; 66/210] END max_depth=4, max_features=7, n_estimators=55; total time=   1.0s\n",
      "[CV 3/5; 66/210] START max_depth=4, max_features=7, n_estimators=55.............\n",
      "[CV 3/5; 66/210] END max_depth=4, max_features=7, n_estimators=55; total time=   1.0s\n",
      "[CV 4/5; 66/210] START max_depth=4, max_features=7, n_estimators=55.............\n",
      "[CV 4/5; 66/210] END max_depth=4, max_features=7, n_estimators=55; total time=   1.0s\n",
      "[CV 5/5; 66/210] START max_depth=4, max_features=7, n_estimators=55.............\n",
      "[CV 5/5; 66/210] END max_depth=4, max_features=7, n_estimators=55; total time=   1.1s\n",
      "[CV 1/5; 67/210] START max_depth=4, max_features=7, n_estimators=60.............\n",
      "[CV 1/5; 67/210] END max_depth=4, max_features=7, n_estimators=60; total time=   1.0s\n",
      "[CV 2/5; 67/210] START max_depth=4, max_features=7, n_estimators=60.............\n",
      "[CV 2/5; 67/210] END max_depth=4, max_features=7, n_estimators=60; total time=   1.1s\n",
      "[CV 3/5; 67/210] START max_depth=4, max_features=7, n_estimators=60.............\n",
      "[CV 3/5; 67/210] END max_depth=4, max_features=7, n_estimators=60; total time=   1.1s\n",
      "[CV 4/5; 67/210] START max_depth=4, max_features=7, n_estimators=60.............\n",
      "[CV 4/5; 67/210] END max_depth=4, max_features=7, n_estimators=60; total time=   1.1s\n",
      "[CV 5/5; 67/210] START max_depth=4, max_features=7, n_estimators=60.............\n",
      "[CV 5/5; 67/210] END max_depth=4, max_features=7, n_estimators=60; total time=   1.1s\n",
      "[CV 1/5; 68/210] START max_depth=4, max_features=7, n_estimators=65.............\n",
      "[CV 1/5; 68/210] END max_depth=4, max_features=7, n_estimators=65; total time=   1.2s\n",
      "[CV 2/5; 68/210] START max_depth=4, max_features=7, n_estimators=65.............\n",
      "[CV 2/5; 68/210] END max_depth=4, max_features=7, n_estimators=65; total time=   1.2s\n",
      "[CV 3/5; 68/210] START max_depth=4, max_features=7, n_estimators=65.............\n",
      "[CV 3/5; 68/210] END max_depth=4, max_features=7, n_estimators=65; total time=   1.2s\n",
      "[CV 4/5; 68/210] START max_depth=4, max_features=7, n_estimators=65.............\n",
      "[CV 4/5; 68/210] END max_depth=4, max_features=7, n_estimators=65; total time=   1.2s\n",
      "[CV 5/5; 68/210] START max_depth=4, max_features=7, n_estimators=65.............\n",
      "[CV 5/5; 68/210] END max_depth=4, max_features=7, n_estimators=65; total time=   1.6s\n",
      "[CV 1/5; 69/210] START max_depth=4, max_features=7, n_estimators=70.............\n",
      "[CV 1/5; 69/210] END max_depth=4, max_features=7, n_estimators=70; total time=   1.8s\n",
      "[CV 2/5; 69/210] START max_depth=4, max_features=7, n_estimators=70.............\n",
      "[CV 2/5; 69/210] END max_depth=4, max_features=7, n_estimators=70; total time=   1.8s\n",
      "[CV 3/5; 69/210] START max_depth=4, max_features=7, n_estimators=70.............\n",
      "[CV 3/5; 69/210] END max_depth=4, max_features=7, n_estimators=70; total time=   1.8s\n",
      "[CV 4/5; 69/210] START max_depth=4, max_features=7, n_estimators=70.............\n",
      "[CV 4/5; 69/210] END max_depth=4, max_features=7, n_estimators=70; total time=   1.8s\n",
      "[CV 5/5; 69/210] START max_depth=4, max_features=7, n_estimators=70.............\n",
      "[CV 5/5; 69/210] END max_depth=4, max_features=7, n_estimators=70; total time=   1.8s\n",
      "[CV 1/5; 70/210] START max_depth=4, max_features=7, n_estimators=75.............\n",
      "[CV 1/5; 70/210] END max_depth=4, max_features=7, n_estimators=75; total time=   1.9s\n",
      "[CV 2/5; 70/210] START max_depth=4, max_features=7, n_estimators=75.............\n",
      "[CV 2/5; 70/210] END max_depth=4, max_features=7, n_estimators=75; total time=   1.9s\n",
      "[CV 3/5; 70/210] START max_depth=4, max_features=7, n_estimators=75.............\n",
      "[CV 3/5; 70/210] END max_depth=4, max_features=7, n_estimators=75; total time=   1.9s\n",
      "[CV 4/5; 70/210] START max_depth=4, max_features=7, n_estimators=75.............\n",
      "[CV 4/5; 70/210] END max_depth=4, max_features=7, n_estimators=75; total time=   1.9s\n",
      "[CV 5/5; 70/210] START max_depth=4, max_features=7, n_estimators=75.............\n",
      "[CV 5/5; 70/210] END max_depth=4, max_features=7, n_estimators=75; total time=   1.9s\n",
      "[CV 1/5; 71/210] START max_depth=4, max_features=9, n_estimators=10.............\n",
      "[CV 1/5; 71/210] END max_depth=4, max_features=9, n_estimators=10; total time=   0.3s\n",
      "[CV 2/5; 71/210] START max_depth=4, max_features=9, n_estimators=10.............\n",
      "[CV 2/5; 71/210] END max_depth=4, max_features=9, n_estimators=10; total time=   0.3s\n",
      "[CV 3/5; 71/210] START max_depth=4, max_features=9, n_estimators=10.............\n",
      "[CV 3/5; 71/210] END max_depth=4, max_features=9, n_estimators=10; total time=   0.3s\n",
      "[CV 4/5; 71/210] START max_depth=4, max_features=9, n_estimators=10.............\n",
      "[CV 4/5; 71/210] END max_depth=4, max_features=9, n_estimators=10; total time=   0.3s\n",
      "[CV 5/5; 71/210] START max_depth=4, max_features=9, n_estimators=10.............\n",
      "[CV 5/5; 71/210] END max_depth=4, max_features=9, n_estimators=10; total time=   0.3s\n",
      "[CV 1/5; 72/210] START max_depth=4, max_features=9, n_estimators=15.............\n",
      "[CV 1/5; 72/210] END max_depth=4, max_features=9, n_estimators=15; total time=   0.5s\n",
      "[CV 2/5; 72/210] START max_depth=4, max_features=9, n_estimators=15.............\n",
      "[CV 2/5; 72/210] END max_depth=4, max_features=9, n_estimators=15; total time=   0.5s\n",
      "[CV 3/5; 72/210] START max_depth=4, max_features=9, n_estimators=15.............\n",
      "[CV 3/5; 72/210] END max_depth=4, max_features=9, n_estimators=15; total time=   0.5s\n",
      "[CV 4/5; 72/210] START max_depth=4, max_features=9, n_estimators=15.............\n",
      "[CV 4/5; 72/210] END max_depth=4, max_features=9, n_estimators=15; total time=   0.5s\n",
      "[CV 5/5; 72/210] START max_depth=4, max_features=9, n_estimators=15.............\n",
      "[CV 5/5; 72/210] END max_depth=4, max_features=9, n_estimators=15; total time=   0.5s\n",
      "[CV 1/5; 73/210] START max_depth=4, max_features=9, n_estimators=20.............\n",
      "[CV 1/5; 73/210] END max_depth=4, max_features=9, n_estimators=20; total time=   0.6s\n",
      "[CV 2/5; 73/210] START max_depth=4, max_features=9, n_estimators=20.............\n",
      "[CV 2/5; 73/210] END max_depth=4, max_features=9, n_estimators=20; total time=   0.7s\n",
      "[CV 3/5; 73/210] START max_depth=4, max_features=9, n_estimators=20.............\n",
      "[CV 3/5; 73/210] END max_depth=4, max_features=9, n_estimators=20; total time=   0.6s\n",
      "[CV 4/5; 73/210] START max_depth=4, max_features=9, n_estimators=20.............\n",
      "[CV 4/5; 73/210] END max_depth=4, max_features=9, n_estimators=20; total time=   0.7s\n",
      "[CV 5/5; 73/210] START max_depth=4, max_features=9, n_estimators=20.............\n",
      "[CV 5/5; 73/210] END max_depth=4, max_features=9, n_estimators=20; total time=   0.7s\n",
      "[CV 1/5; 74/210] START max_depth=4, max_features=9, n_estimators=25.............\n",
      "[CV 1/5; 74/210] END max_depth=4, max_features=9, n_estimators=25; total time=   0.8s\n",
      "[CV 2/5; 74/210] START max_depth=4, max_features=9, n_estimators=25.............\n",
      "[CV 2/5; 74/210] END max_depth=4, max_features=9, n_estimators=25; total time=   0.8s\n",
      "[CV 3/5; 74/210] START max_depth=4, max_features=9, n_estimators=25.............\n",
      "[CV 3/5; 74/210] END max_depth=4, max_features=9, n_estimators=25; total time=   0.9s\n",
      "[CV 4/5; 74/210] START max_depth=4, max_features=9, n_estimators=25.............\n",
      "[CV 4/5; 74/210] END max_depth=4, max_features=9, n_estimators=25; total time=   0.8s\n",
      "[CV 5/5; 74/210] START max_depth=4, max_features=9, n_estimators=25.............\n",
      "[CV 5/5; 74/210] END max_depth=4, max_features=9, n_estimators=25; total time=   0.8s\n",
      "[CV 1/5; 75/210] START max_depth=4, max_features=9, n_estimators=30.............\n",
      "[CV 1/5; 75/210] END max_depth=4, max_features=9, n_estimators=30; total time=   1.0s\n",
      "[CV 2/5; 75/210] START max_depth=4, max_features=9, n_estimators=30.............\n",
      "[CV 2/5; 75/210] END max_depth=4, max_features=9, n_estimators=30; total time=   1.0s\n",
      "[CV 3/5; 75/210] START max_depth=4, max_features=9, n_estimators=30.............\n",
      "[CV 3/5; 75/210] END max_depth=4, max_features=9, n_estimators=30; total time=   1.0s\n",
      "[CV 4/5; 75/210] START max_depth=4, max_features=9, n_estimators=30.............\n",
      "[CV 4/5; 75/210] END max_depth=4, max_features=9, n_estimators=30; total time=   1.0s\n",
      "[CV 5/5; 75/210] START max_depth=4, max_features=9, n_estimators=30.............\n",
      "[CV 5/5; 75/210] END max_depth=4, max_features=9, n_estimators=30; total time=   1.0s\n",
      "[CV 1/5; 76/210] START max_depth=4, max_features=9, n_estimators=35.............\n",
      "[CV 1/5; 76/210] END max_depth=4, max_features=9, n_estimators=35; total time=   1.1s\n",
      "[CV 2/5; 76/210] START max_depth=4, max_features=9, n_estimators=35.............\n",
      "[CV 2/5; 76/210] END max_depth=4, max_features=9, n_estimators=35; total time=   1.1s\n",
      "[CV 3/5; 76/210] START max_depth=4, max_features=9, n_estimators=35.............\n",
      "[CV 3/5; 76/210] END max_depth=4, max_features=9, n_estimators=35; total time=   1.1s\n",
      "[CV 4/5; 76/210] START max_depth=4, max_features=9, n_estimators=35.............\n",
      "[CV 4/5; 76/210] END max_depth=4, max_features=9, n_estimators=35; total time=   1.1s\n",
      "[CV 5/5; 76/210] START max_depth=4, max_features=9, n_estimators=35.............\n",
      "[CV 5/5; 76/210] END max_depth=4, max_features=9, n_estimators=35; total time=   1.1s\n",
      "[CV 1/5; 77/210] START max_depth=4, max_features=9, n_estimators=40.............\n",
      "[CV 1/5; 77/210] END max_depth=4, max_features=9, n_estimators=40; total time=   1.3s\n",
      "[CV 2/5; 77/210] START max_depth=4, max_features=9, n_estimators=40.............\n",
      "[CV 2/5; 77/210] END max_depth=4, max_features=9, n_estimators=40; total time=   1.3s\n",
      "[CV 3/5; 77/210] START max_depth=4, max_features=9, n_estimators=40.............\n",
      "[CV 3/5; 77/210] END max_depth=4, max_features=9, n_estimators=40; total time=   1.3s\n",
      "[CV 4/5; 77/210] START max_depth=4, max_features=9, n_estimators=40.............\n",
      "[CV 4/5; 77/210] END max_depth=4, max_features=9, n_estimators=40; total time=   1.0s\n",
      "[CV 5/5; 77/210] START max_depth=4, max_features=9, n_estimators=40.............\n",
      "[CV 5/5; 77/210] END max_depth=4, max_features=9, n_estimators=40; total time=   0.9s\n",
      "[CV 1/5; 78/210] START max_depth=4, max_features=9, n_estimators=45.............\n",
      "[CV 1/5; 78/210] END max_depth=4, max_features=9, n_estimators=45; total time=   1.0s\n",
      "[CV 2/5; 78/210] START max_depth=4, max_features=9, n_estimators=45.............\n",
      "[CV 2/5; 78/210] END max_depth=4, max_features=9, n_estimators=45; total time=   1.0s\n",
      "[CV 3/5; 78/210] START max_depth=4, max_features=9, n_estimators=45.............\n",
      "[CV 3/5; 78/210] END max_depth=4, max_features=9, n_estimators=45; total time=   1.0s\n",
      "[CV 4/5; 78/210] START max_depth=4, max_features=9, n_estimators=45.............\n",
      "[CV 4/5; 78/210] END max_depth=4, max_features=9, n_estimators=45; total time=   1.0s\n",
      "[CV 5/5; 78/210] START max_depth=4, max_features=9, n_estimators=45.............\n",
      "[CV 5/5; 78/210] END max_depth=4, max_features=9, n_estimators=45; total time=   1.0s\n",
      "[CV 1/5; 79/210] START max_depth=4, max_features=9, n_estimators=50.............\n",
      "[CV 1/5; 79/210] END max_depth=4, max_features=9, n_estimators=50; total time=   1.2s\n",
      "[CV 2/5; 79/210] START max_depth=4, max_features=9, n_estimators=50.............\n",
      "[CV 2/5; 79/210] END max_depth=4, max_features=9, n_estimators=50; total time=   1.1s\n",
      "[CV 3/5; 79/210] START max_depth=4, max_features=9, n_estimators=50.............\n",
      "[CV 3/5; 79/210] END max_depth=4, max_features=9, n_estimators=50; total time=   1.1s\n",
      "[CV 4/5; 79/210] START max_depth=4, max_features=9, n_estimators=50.............\n",
      "[CV 4/5; 79/210] END max_depth=4, max_features=9, n_estimators=50; total time=   1.1s\n",
      "[CV 5/5; 79/210] START max_depth=4, max_features=9, n_estimators=50.............\n",
      "[CV 5/5; 79/210] END max_depth=4, max_features=9, n_estimators=50; total time=   1.1s\n",
      "[CV 1/5; 80/210] START max_depth=4, max_features=9, n_estimators=55.............\n",
      "[CV 1/5; 80/210] END max_depth=4, max_features=9, n_estimators=55; total time=   1.3s\n",
      "[CV 2/5; 80/210] START max_depth=4, max_features=9, n_estimators=55.............\n",
      "[CV 2/5; 80/210] END max_depth=4, max_features=9, n_estimators=55; total time=   1.5s\n",
      "[CV 3/5; 80/210] START max_depth=4, max_features=9, n_estimators=55.............\n",
      "[CV 3/5; 80/210] END max_depth=4, max_features=9, n_estimators=55; total time=   1.3s\n",
      "[CV 4/5; 80/210] START max_depth=4, max_features=9, n_estimators=55.............\n",
      "[CV 4/5; 80/210] END max_depth=4, max_features=9, n_estimators=55; total time=   1.3s\n",
      "[CV 5/5; 80/210] START max_depth=4, max_features=9, n_estimators=55.............\n",
      "[CV 5/5; 80/210] END max_depth=4, max_features=9, n_estimators=55; total time=   1.3s\n",
      "[CV 1/5; 81/210] START max_depth=4, max_features=9, n_estimators=60.............\n",
      "[CV 1/5; 81/210] END max_depth=4, max_features=9, n_estimators=60; total time=   1.3s\n",
      "[CV 2/5; 81/210] START max_depth=4, max_features=9, n_estimators=60.............\n",
      "[CV 2/5; 81/210] END max_depth=4, max_features=9, n_estimators=60; total time=   1.3s\n",
      "[CV 3/5; 81/210] START max_depth=4, max_features=9, n_estimators=60.............\n",
      "[CV 3/5; 81/210] END max_depth=4, max_features=9, n_estimators=60; total time=   1.3s\n",
      "[CV 4/5; 81/210] START max_depth=4, max_features=9, n_estimators=60.............\n",
      "[CV 4/5; 81/210] END max_depth=4, max_features=9, n_estimators=60; total time=   1.4s\n",
      "[CV 5/5; 81/210] START max_depth=4, max_features=9, n_estimators=60.............\n",
      "[CV 5/5; 81/210] END max_depth=4, max_features=9, n_estimators=60; total time=   1.3s\n",
      "[CV 1/5; 82/210] START max_depth=4, max_features=9, n_estimators=65.............\n",
      "[CV 1/5; 82/210] END max_depth=4, max_features=9, n_estimators=65; total time=   1.4s\n",
      "[CV 2/5; 82/210] START max_depth=4, max_features=9, n_estimators=65.............\n",
      "[CV 2/5; 82/210] END max_depth=4, max_features=9, n_estimators=65; total time=   1.6s\n",
      "[CV 3/5; 82/210] START max_depth=4, max_features=9, n_estimators=65.............\n",
      "[CV 3/5; 82/210] END max_depth=4, max_features=9, n_estimators=65; total time=   1.5s\n",
      "[CV 4/5; 82/210] START max_depth=4, max_features=9, n_estimators=65.............\n",
      "[CV 4/5; 82/210] END max_depth=4, max_features=9, n_estimators=65; total time=   1.4s\n",
      "[CV 5/5; 82/210] START max_depth=4, max_features=9, n_estimators=65.............\n",
      "[CV 5/5; 82/210] END max_depth=4, max_features=9, n_estimators=65; total time=   1.4s\n",
      "[CV 1/5; 83/210] START max_depth=4, max_features=9, n_estimators=70.............\n",
      "[CV 1/5; 83/210] END max_depth=4, max_features=9, n_estimators=70; total time=   1.6s\n",
      "[CV 2/5; 83/210] START max_depth=4, max_features=9, n_estimators=70.............\n",
      "[CV 2/5; 83/210] END max_depth=4, max_features=9, n_estimators=70; total time=   1.8s\n",
      "[CV 3/5; 83/210] START max_depth=4, max_features=9, n_estimators=70.............\n",
      "[CV 3/5; 83/210] END max_depth=4, max_features=9, n_estimators=70; total time=   1.6s\n",
      "[CV 4/5; 83/210] START max_depth=4, max_features=9, n_estimators=70.............\n",
      "[CV 4/5; 83/210] END max_depth=4, max_features=9, n_estimators=70; total time=   1.6s\n",
      "[CV 5/5; 83/210] START max_depth=4, max_features=9, n_estimators=70.............\n",
      "[CV 5/5; 83/210] END max_depth=4, max_features=9, n_estimators=70; total time=   1.6s\n",
      "[CV 1/5; 84/210] START max_depth=4, max_features=9, n_estimators=75.............\n",
      "[CV 1/5; 84/210] END max_depth=4, max_features=9, n_estimators=75; total time=   1.7s\n",
      "[CV 2/5; 84/210] START max_depth=4, max_features=9, n_estimators=75.............\n",
      "[CV 2/5; 84/210] END max_depth=4, max_features=9, n_estimators=75; total time=   1.6s\n",
      "[CV 3/5; 84/210] START max_depth=4, max_features=9, n_estimators=75.............\n",
      "[CV 3/5; 84/210] END max_depth=4, max_features=9, n_estimators=75; total time=   1.6s\n",
      "[CV 4/5; 84/210] START max_depth=4, max_features=9, n_estimators=75.............\n",
      "[CV 4/5; 84/210] END max_depth=4, max_features=9, n_estimators=75; total time=   1.7s\n",
      "[CV 5/5; 84/210] START max_depth=4, max_features=9, n_estimators=75.............\n",
      "[CV 5/5; 84/210] END max_depth=4, max_features=9, n_estimators=75; total time=   1.6s\n",
      "[CV 1/5; 85/210] START max_depth=6, max_features=5, n_estimators=10.............\n",
      "[CV 1/5; 85/210] END max_depth=6, max_features=5, n_estimators=10; total time=   0.2s\n",
      "[CV 2/5; 85/210] START max_depth=6, max_features=5, n_estimators=10.............\n",
      "[CV 2/5; 85/210] END max_depth=6, max_features=5, n_estimators=10; total time=   0.2s\n",
      "[CV 3/5; 85/210] START max_depth=6, max_features=5, n_estimators=10.............\n",
      "[CV 3/5; 85/210] END max_depth=6, max_features=5, n_estimators=10; total time=   0.3s\n",
      "[CV 4/5; 85/210] START max_depth=6, max_features=5, n_estimators=10.............\n",
      "[CV 4/5; 85/210] END max_depth=6, max_features=5, n_estimators=10; total time=   0.2s\n",
      "[CV 5/5; 85/210] START max_depth=6, max_features=5, n_estimators=10.............\n",
      "[CV 5/5; 85/210] END max_depth=6, max_features=5, n_estimators=10; total time=   0.2s\n",
      "[CV 1/5; 86/210] START max_depth=6, max_features=5, n_estimators=15.............\n",
      "[CV 1/5; 86/210] END max_depth=6, max_features=5, n_estimators=15; total time=   0.3s\n",
      "[CV 2/5; 86/210] START max_depth=6, max_features=5, n_estimators=15.............\n",
      "[CV 2/5; 86/210] END max_depth=6, max_features=5, n_estimators=15; total time=   0.3s\n",
      "[CV 3/5; 86/210] START max_depth=6, max_features=5, n_estimators=15.............\n",
      "[CV 3/5; 86/210] END max_depth=6, max_features=5, n_estimators=15; total time=   0.3s\n",
      "[CV 4/5; 86/210] START max_depth=6, max_features=5, n_estimators=15.............\n",
      "[CV 4/5; 86/210] END max_depth=6, max_features=5, n_estimators=15; total time=   0.3s\n",
      "[CV 5/5; 86/210] START max_depth=6, max_features=5, n_estimators=15.............\n",
      "[CV 5/5; 86/210] END max_depth=6, max_features=5, n_estimators=15; total time=   0.3s\n",
      "[CV 1/5; 87/210] START max_depth=6, max_features=5, n_estimators=20.............\n",
      "[CV 1/5; 87/210] END max_depth=6, max_features=5, n_estimators=20; total time=   0.4s\n",
      "[CV 2/5; 87/210] START max_depth=6, max_features=5, n_estimators=20.............\n",
      "[CV 2/5; 87/210] END max_depth=6, max_features=5, n_estimators=20; total time=   0.4s\n",
      "[CV 3/5; 87/210] START max_depth=6, max_features=5, n_estimators=20.............\n",
      "[CV 3/5; 87/210] END max_depth=6, max_features=5, n_estimators=20; total time=   0.4s\n",
      "[CV 4/5; 87/210] START max_depth=6, max_features=5, n_estimators=20.............\n",
      "[CV 4/5; 87/210] END max_depth=6, max_features=5, n_estimators=20; total time=   0.4s\n",
      "[CV 5/5; 87/210] START max_depth=6, max_features=5, n_estimators=20.............\n",
      "[CV 5/5; 87/210] END max_depth=6, max_features=5, n_estimators=20; total time=   0.4s\n",
      "[CV 1/5; 88/210] START max_depth=6, max_features=5, n_estimators=25.............\n",
      "[CV 1/5; 88/210] END max_depth=6, max_features=5, n_estimators=25; total time=   0.5s\n",
      "[CV 2/5; 88/210] START max_depth=6, max_features=5, n_estimators=25.............\n",
      "[CV 2/5; 88/210] END max_depth=6, max_features=5, n_estimators=25; total time=   0.4s\n",
      "[CV 3/5; 88/210] START max_depth=6, max_features=5, n_estimators=25.............\n",
      "[CV 3/5; 88/210] END max_depth=6, max_features=5, n_estimators=25; total time=   0.6s\n",
      "[CV 4/5; 88/210] START max_depth=6, max_features=5, n_estimators=25.............\n",
      "[CV 4/5; 88/210] END max_depth=6, max_features=5, n_estimators=25; total time=   0.7s\n",
      "[CV 5/5; 88/210] START max_depth=6, max_features=5, n_estimators=25.............\n",
      "[CV 5/5; 88/210] END max_depth=6, max_features=5, n_estimators=25; total time=   0.5s\n",
      "[CV 1/5; 89/210] START max_depth=6, max_features=5, n_estimators=30.............\n",
      "[CV 1/5; 89/210] END max_depth=6, max_features=5, n_estimators=30; total time=   0.6s\n",
      "[CV 2/5; 89/210] START max_depth=6, max_features=5, n_estimators=30.............\n",
      "[CV 2/5; 89/210] END max_depth=6, max_features=5, n_estimators=30; total time=   0.6s\n",
      "[CV 3/5; 89/210] START max_depth=6, max_features=5, n_estimators=30.............\n",
      "[CV 3/5; 89/210] END max_depth=6, max_features=5, n_estimators=30; total time=   0.7s\n",
      "[CV 4/5; 89/210] START max_depth=6, max_features=5, n_estimators=30.............\n",
      "[CV 4/5; 89/210] END max_depth=6, max_features=5, n_estimators=30; total time=   0.7s\n",
      "[CV 5/5; 89/210] START max_depth=6, max_features=5, n_estimators=30.............\n",
      "[CV 5/5; 89/210] END max_depth=6, max_features=5, n_estimators=30; total time=   0.6s\n",
      "[CV 1/5; 90/210] START max_depth=6, max_features=5, n_estimators=35.............\n",
      "[CV 1/5; 90/210] END max_depth=6, max_features=5, n_estimators=35; total time=   0.6s\n",
      "[CV 2/5; 90/210] START max_depth=6, max_features=5, n_estimators=35.............\n",
      "[CV 2/5; 90/210] END max_depth=6, max_features=5, n_estimators=35; total time=   0.6s\n",
      "[CV 3/5; 90/210] START max_depth=6, max_features=5, n_estimators=35.............\n",
      "[CV 3/5; 90/210] END max_depth=6, max_features=5, n_estimators=35; total time=   0.6s\n",
      "[CV 4/5; 90/210] START max_depth=6, max_features=5, n_estimators=35.............\n",
      "[CV 4/5; 90/210] END max_depth=6, max_features=5, n_estimators=35; total time=   0.6s\n",
      "[CV 5/5; 90/210] START max_depth=6, max_features=5, n_estimators=35.............\n",
      "[CV 5/5; 90/210] END max_depth=6, max_features=5, n_estimators=35; total time=   0.6s\n",
      "[CV 1/5; 91/210] START max_depth=6, max_features=5, n_estimators=40.............\n",
      "[CV 1/5; 91/210] END max_depth=6, max_features=5, n_estimators=40; total time=   0.7s\n",
      "[CV 2/5; 91/210] START max_depth=6, max_features=5, n_estimators=40.............\n",
      "[CV 2/5; 91/210] END max_depth=6, max_features=5, n_estimators=40; total time=   0.7s\n",
      "[CV 3/5; 91/210] START max_depth=6, max_features=5, n_estimators=40.............\n",
      "[CV 3/5; 91/210] END max_depth=6, max_features=5, n_estimators=40; total time=   0.7s\n",
      "[CV 4/5; 91/210] START max_depth=6, max_features=5, n_estimators=40.............\n",
      "[CV 4/5; 91/210] END max_depth=6, max_features=5, n_estimators=40; total time=   0.7s\n",
      "[CV 5/5; 91/210] START max_depth=6, max_features=5, n_estimators=40.............\n",
      "[CV 5/5; 91/210] END max_depth=6, max_features=5, n_estimators=40; total time=   0.8s\n",
      "[CV 1/5; 92/210] START max_depth=6, max_features=5, n_estimators=45.............\n",
      "[CV 1/5; 92/210] END max_depth=6, max_features=5, n_estimators=45; total time=   0.8s\n",
      "[CV 2/5; 92/210] START max_depth=6, max_features=5, n_estimators=45.............\n",
      "[CV 2/5; 92/210] END max_depth=6, max_features=5, n_estimators=45; total time=   0.8s\n",
      "[CV 3/5; 92/210] START max_depth=6, max_features=5, n_estimators=45.............\n",
      "[CV 3/5; 92/210] END max_depth=6, max_features=5, n_estimators=45; total time=   0.8s\n",
      "[CV 4/5; 92/210] START max_depth=6, max_features=5, n_estimators=45.............\n",
      "[CV 4/5; 92/210] END max_depth=6, max_features=5, n_estimators=45; total time=   0.8s\n",
      "[CV 5/5; 92/210] START max_depth=6, max_features=5, n_estimators=45.............\n",
      "[CV 5/5; 92/210] END max_depth=6, max_features=5, n_estimators=45; total time=   0.8s\n",
      "[CV 1/5; 93/210] START max_depth=6, max_features=5, n_estimators=50.............\n",
      "[CV 1/5; 93/210] END max_depth=6, max_features=5, n_estimators=50; total time=   0.9s\n",
      "[CV 2/5; 93/210] START max_depth=6, max_features=5, n_estimators=50.............\n",
      "[CV 2/5; 93/210] END max_depth=6, max_features=5, n_estimators=50; total time=   0.9s\n",
      "[CV 3/5; 93/210] START max_depth=6, max_features=5, n_estimators=50.............\n",
      "[CV 3/5; 93/210] END max_depth=6, max_features=5, n_estimators=50; total time=   0.9s\n",
      "[CV 4/5; 93/210] START max_depth=6, max_features=5, n_estimators=50.............\n",
      "[CV 4/5; 93/210] END max_depth=6, max_features=5, n_estimators=50; total time=   0.9s\n",
      "[CV 5/5; 93/210] START max_depth=6, max_features=5, n_estimators=50.............\n",
      "[CV 5/5; 93/210] END max_depth=6, max_features=5, n_estimators=50; total time=   0.9s\n",
      "[CV 1/5; 94/210] START max_depth=6, max_features=5, n_estimators=55.............\n",
      "[CV 1/5; 94/210] END max_depth=6, max_features=5, n_estimators=55; total time=   1.0s\n",
      "[CV 2/5; 94/210] START max_depth=6, max_features=5, n_estimators=55.............\n",
      "[CV 2/5; 94/210] END max_depth=6, max_features=5, n_estimators=55; total time=   1.0s\n",
      "[CV 3/5; 94/210] START max_depth=6, max_features=5, n_estimators=55.............\n",
      "[CV 3/5; 94/210] END max_depth=6, max_features=5, n_estimators=55; total time=   1.0s\n",
      "[CV 4/5; 94/210] START max_depth=6, max_features=5, n_estimators=55.............\n",
      "[CV 4/5; 94/210] END max_depth=6, max_features=5, n_estimators=55; total time=   1.0s\n",
      "[CV 5/5; 94/210] START max_depth=6, max_features=5, n_estimators=55.............\n",
      "[CV 5/5; 94/210] END max_depth=6, max_features=5, n_estimators=55; total time=   1.0s\n",
      "[CV 1/5; 95/210] START max_depth=6, max_features=5, n_estimators=60.............\n",
      "[CV 1/5; 95/210] END max_depth=6, max_features=5, n_estimators=60; total time=   1.1s\n",
      "[CV 2/5; 95/210] START max_depth=6, max_features=5, n_estimators=60.............\n",
      "[CV 2/5; 95/210] END max_depth=6, max_features=5, n_estimators=60; total time=   1.1s\n",
      "[CV 3/5; 95/210] START max_depth=6, max_features=5, n_estimators=60.............\n",
      "[CV 3/5; 95/210] END max_depth=6, max_features=5, n_estimators=60; total time=   1.1s\n",
      "[CV 4/5; 95/210] START max_depth=6, max_features=5, n_estimators=60.............\n",
      "[CV 4/5; 95/210] END max_depth=6, max_features=5, n_estimators=60; total time=   1.1s\n",
      "[CV 5/5; 95/210] START max_depth=6, max_features=5, n_estimators=60.............\n",
      "[CV 5/5; 95/210] END max_depth=6, max_features=5, n_estimators=60; total time=   1.1s\n",
      "[CV 1/5; 96/210] START max_depth=6, max_features=5, n_estimators=65.............\n",
      "[CV 1/5; 96/210] END max_depth=6, max_features=5, n_estimators=65; total time=   1.2s\n",
      "[CV 2/5; 96/210] START max_depth=6, max_features=5, n_estimators=65.............\n",
      "[CV 2/5; 96/210] END max_depth=6, max_features=5, n_estimators=65; total time=   1.2s\n",
      "[CV 3/5; 96/210] START max_depth=6, max_features=5, n_estimators=65.............\n",
      "[CV 3/5; 96/210] END max_depth=6, max_features=5, n_estimators=65; total time=   1.2s\n",
      "[CV 4/5; 96/210] START max_depth=6, max_features=5, n_estimators=65.............\n",
      "[CV 4/5; 96/210] END max_depth=6, max_features=5, n_estimators=65; total time=   1.2s\n",
      "[CV 5/5; 96/210] START max_depth=6, max_features=5, n_estimators=65.............\n",
      "[CV 5/5; 96/210] END max_depth=6, max_features=5, n_estimators=65; total time=   1.2s\n",
      "[CV 1/5; 97/210] START max_depth=6, max_features=5, n_estimators=70.............\n",
      "[CV 1/5; 97/210] END max_depth=6, max_features=5, n_estimators=70; total time=   1.6s\n",
      "[CV 2/5; 97/210] START max_depth=6, max_features=5, n_estimators=70.............\n",
      "[CV 2/5; 97/210] END max_depth=6, max_features=5, n_estimators=70; total time=   1.3s\n",
      "[CV 3/5; 97/210] START max_depth=6, max_features=5, n_estimators=70.............\n",
      "[CV 3/5; 97/210] END max_depth=6, max_features=5, n_estimators=70; total time=   1.3s\n",
      "[CV 4/5; 97/210] START max_depth=6, max_features=5, n_estimators=70.............\n",
      "[CV 4/5; 97/210] END max_depth=6, max_features=5, n_estimators=70; total time=   1.3s\n",
      "[CV 5/5; 97/210] START max_depth=6, max_features=5, n_estimators=70.............\n",
      "[CV 5/5; 97/210] END max_depth=6, max_features=5, n_estimators=70; total time=   1.3s\n",
      "[CV 1/5; 98/210] START max_depth=6, max_features=5, n_estimators=75.............\n",
      "[CV 1/5; 98/210] END max_depth=6, max_features=5, n_estimators=75; total time=   1.5s\n",
      "[CV 2/5; 98/210] START max_depth=6, max_features=5, n_estimators=75.............\n",
      "[CV 2/5; 98/210] END max_depth=6, max_features=5, n_estimators=75; total time=   1.4s\n",
      "[CV 3/5; 98/210] START max_depth=6, max_features=5, n_estimators=75.............\n",
      "[CV 3/5; 98/210] END max_depth=6, max_features=5, n_estimators=75; total time=   1.4s\n",
      "[CV 4/5; 98/210] START max_depth=6, max_features=5, n_estimators=75.............\n",
      "[CV 4/5; 98/210] END max_depth=6, max_features=5, n_estimators=75; total time=   1.4s\n",
      "[CV 5/5; 98/210] START max_depth=6, max_features=5, n_estimators=75.............\n",
      "[CV 5/5; 98/210] END max_depth=6, max_features=5, n_estimators=75; total time=   1.3s\n",
      "[CV 1/5; 99/210] START max_depth=6, max_features=7, n_estimators=10.............\n",
      "[CV 1/5; 99/210] END max_depth=6, max_features=7, n_estimators=10; total time=   0.2s\n",
      "[CV 2/5; 99/210] START max_depth=6, max_features=7, n_estimators=10.............\n",
      "[CV 2/5; 99/210] END max_depth=6, max_features=7, n_estimators=10; total time=   0.3s\n",
      "[CV 3/5; 99/210] START max_depth=6, max_features=7, n_estimators=10.............\n",
      "[CV 3/5; 99/210] END max_depth=6, max_features=7, n_estimators=10; total time=   0.3s\n",
      "[CV 4/5; 99/210] START max_depth=6, max_features=7, n_estimators=10.............\n",
      "[CV 4/5; 99/210] END max_depth=6, max_features=7, n_estimators=10; total time=   0.3s\n",
      "[CV 5/5; 99/210] START max_depth=6, max_features=7, n_estimators=10.............\n",
      "[CV 5/5; 99/210] END max_depth=6, max_features=7, n_estimators=10; total time=   0.3s\n",
      "[CV 1/5; 100/210] START max_depth=6, max_features=7, n_estimators=15............\n",
      "[CV 1/5; 100/210] END max_depth=6, max_features=7, n_estimators=15; total time=   0.4s\n",
      "[CV 2/5; 100/210] START max_depth=6, max_features=7, n_estimators=15............\n",
      "[CV 2/5; 100/210] END max_depth=6, max_features=7, n_estimators=15; total time=   0.4s\n",
      "[CV 3/5; 100/210] START max_depth=6, max_features=7, n_estimators=15............\n",
      "[CV 3/5; 100/210] END max_depth=6, max_features=7, n_estimators=15; total time=   0.4s\n",
      "[CV 4/5; 100/210] START max_depth=6, max_features=7, n_estimators=15............\n",
      "[CV 4/5; 100/210] END max_depth=6, max_features=7, n_estimators=15; total time=   0.4s\n",
      "[CV 5/5; 100/210] START max_depth=6, max_features=7, n_estimators=15............\n",
      "[CV 5/5; 100/210] END max_depth=6, max_features=7, n_estimators=15; total time=   0.4s\n",
      "[CV 1/5; 101/210] START max_depth=6, max_features=7, n_estimators=20............\n",
      "[CV 1/5; 101/210] END max_depth=6, max_features=7, n_estimators=20; total time=   0.5s\n",
      "[CV 2/5; 101/210] START max_depth=6, max_features=7, n_estimators=20............\n",
      "[CV 2/5; 101/210] END max_depth=6, max_features=7, n_estimators=20; total time=   0.5s\n",
      "[CV 3/5; 101/210] START max_depth=6, max_features=7, n_estimators=20............\n",
      "[CV 3/5; 101/210] END max_depth=6, max_features=7, n_estimators=20; total time=   0.5s\n",
      "[CV 4/5; 101/210] START max_depth=6, max_features=7, n_estimators=20............\n",
      "[CV 4/5; 101/210] END max_depth=6, max_features=7, n_estimators=20; total time=   0.5s\n",
      "[CV 5/5; 101/210] START max_depth=6, max_features=7, n_estimators=20............\n",
      "[CV 5/5; 101/210] END max_depth=6, max_features=7, n_estimators=20; total time=   0.5s\n",
      "[CV 1/5; 102/210] START max_depth=6, max_features=7, n_estimators=25............\n",
      "[CV 1/5; 102/210] END max_depth=6, max_features=7, n_estimators=25; total time=   0.6s\n",
      "[CV 2/5; 102/210] START max_depth=6, max_features=7, n_estimators=25............\n",
      "[CV 2/5; 102/210] END max_depth=6, max_features=7, n_estimators=25; total time=   0.6s\n",
      "[CV 3/5; 102/210] START max_depth=6, max_features=7, n_estimators=25............\n",
      "[CV 3/5; 102/210] END max_depth=6, max_features=7, n_estimators=25; total time=   0.6s\n",
      "[CV 4/5; 102/210] START max_depth=6, max_features=7, n_estimators=25............\n",
      "[CV 4/5; 102/210] END max_depth=6, max_features=7, n_estimators=25; total time=   0.6s\n",
      "[CV 5/5; 102/210] START max_depth=6, max_features=7, n_estimators=25............\n",
      "[CV 5/5; 102/210] END max_depth=6, max_features=7, n_estimators=25; total time=   0.6s\n",
      "[CV 1/5; 103/210] START max_depth=6, max_features=7, n_estimators=30............\n",
      "[CV 1/5; 103/210] END max_depth=6, max_features=7, n_estimators=30; total time=   0.7s\n",
      "[CV 2/5; 103/210] START max_depth=6, max_features=7, n_estimators=30............\n",
      "[CV 2/5; 103/210] END max_depth=6, max_features=7, n_estimators=30; total time=   0.7s\n",
      "[CV 3/5; 103/210] START max_depth=6, max_features=7, n_estimators=30............\n",
      "[CV 3/5; 103/210] END max_depth=6, max_features=7, n_estimators=30; total time=   0.7s\n",
      "[CV 4/5; 103/210] START max_depth=6, max_features=7, n_estimators=30............\n",
      "[CV 4/5; 103/210] END max_depth=6, max_features=7, n_estimators=30; total time=   0.8s\n",
      "[CV 5/5; 103/210] START max_depth=6, max_features=7, n_estimators=30............\n",
      "[CV 5/5; 103/210] END max_depth=6, max_features=7, n_estimators=30; total time=   0.8s\n",
      "[CV 1/5; 104/210] START max_depth=6, max_features=7, n_estimators=35............\n",
      "[CV 1/5; 104/210] END max_depth=6, max_features=7, n_estimators=35; total time=   0.9s\n",
      "[CV 2/5; 104/210] START max_depth=6, max_features=7, n_estimators=35............\n",
      "[CV 2/5; 104/210] END max_depth=6, max_features=7, n_estimators=35; total time=   0.9s\n",
      "[CV 3/5; 104/210] START max_depth=6, max_features=7, n_estimators=35............\n",
      "[CV 3/5; 104/210] END max_depth=6, max_features=7, n_estimators=35; total time=   0.9s\n",
      "[CV 4/5; 104/210] START max_depth=6, max_features=7, n_estimators=35............\n",
      "[CV 4/5; 104/210] END max_depth=6, max_features=7, n_estimators=35; total time=   0.9s\n",
      "[CV 5/5; 104/210] START max_depth=6, max_features=7, n_estimators=35............\n",
      "[CV 5/5; 104/210] END max_depth=6, max_features=7, n_estimators=35; total time=   0.9s\n",
      "[CV 1/5; 105/210] START max_depth=6, max_features=7, n_estimators=40............\n",
      "[CV 1/5; 105/210] END max_depth=6, max_features=7, n_estimators=40; total time=   1.0s\n",
      "[CV 2/5; 105/210] START max_depth=6, max_features=7, n_estimators=40............\n",
      "[CV 2/5; 105/210] END max_depth=6, max_features=7, n_estimators=40; total time=   1.1s\n",
      "[CV 3/5; 105/210] START max_depth=6, max_features=7, n_estimators=40............\n",
      "[CV 3/5; 105/210] END max_depth=6, max_features=7, n_estimators=40; total time=   1.1s\n",
      "[CV 4/5; 105/210] START max_depth=6, max_features=7, n_estimators=40............\n",
      "[CV 4/5; 105/210] END max_depth=6, max_features=7, n_estimators=40; total time=   1.0s\n",
      "[CV 5/5; 105/210] START max_depth=6, max_features=7, n_estimators=40............\n",
      "[CV 5/5; 105/210] END max_depth=6, max_features=7, n_estimators=40; total time=   1.1s\n",
      "[CV 1/5; 106/210] START max_depth=6, max_features=7, n_estimators=45............\n",
      "[CV 1/5; 106/210] END max_depth=6, max_features=7, n_estimators=45; total time=   1.1s\n",
      "[CV 2/5; 106/210] START max_depth=6, max_features=7, n_estimators=45............\n",
      "[CV 2/5; 106/210] END max_depth=6, max_features=7, n_estimators=45; total time=   1.2s\n",
      "[CV 3/5; 106/210] START max_depth=6, max_features=7, n_estimators=45............\n",
      "[CV 3/5; 106/210] END max_depth=6, max_features=7, n_estimators=45; total time=   1.1s\n",
      "[CV 4/5; 106/210] START max_depth=6, max_features=7, n_estimators=45............\n",
      "[CV 4/5; 106/210] END max_depth=6, max_features=7, n_estimators=45; total time=   1.1s\n",
      "[CV 5/5; 106/210] START max_depth=6, max_features=7, n_estimators=45............\n",
      "[CV 5/5; 106/210] END max_depth=6, max_features=7, n_estimators=45; total time=   1.2s\n",
      "[CV 1/5; 107/210] START max_depth=6, max_features=7, n_estimators=50............\n",
      "[CV 1/5; 107/210] END max_depth=6, max_features=7, n_estimators=50; total time=   1.3s\n",
      "[CV 2/5; 107/210] START max_depth=6, max_features=7, n_estimators=50............\n",
      "[CV 2/5; 107/210] END max_depth=6, max_features=7, n_estimators=50; total time=   1.4s\n",
      "[CV 3/5; 107/210] START max_depth=6, max_features=7, n_estimators=50............\n",
      "[CV 3/5; 107/210] END max_depth=6, max_features=7, n_estimators=50; total time=   1.2s\n",
      "[CV 4/5; 107/210] START max_depth=6, max_features=7, n_estimators=50............\n",
      "[CV 4/5; 107/210] END max_depth=6, max_features=7, n_estimators=50; total time=   1.3s\n",
      "[CV 5/5; 107/210] START max_depth=6, max_features=7, n_estimators=50............\n",
      "[CV 5/5; 107/210] END max_depth=6, max_features=7, n_estimators=50; total time=   1.2s\n",
      "[CV 1/5; 108/210] START max_depth=6, max_features=7, n_estimators=55............\n",
      "[CV 1/5; 108/210] END max_depth=6, max_features=7, n_estimators=55; total time=   1.5s\n",
      "[CV 2/5; 108/210] START max_depth=6, max_features=7, n_estimators=55............\n",
      "[CV 2/5; 108/210] END max_depth=6, max_features=7, n_estimators=55; total time=   1.4s\n",
      "[CV 3/5; 108/210] START max_depth=6, max_features=7, n_estimators=55............\n",
      "[CV 3/5; 108/210] END max_depth=6, max_features=7, n_estimators=55; total time=   1.4s\n",
      "[CV 4/5; 108/210] START max_depth=6, max_features=7, n_estimators=55............\n",
      "[CV 4/5; 108/210] END max_depth=6, max_features=7, n_estimators=55; total time=   1.4s\n",
      "[CV 5/5; 108/210] START max_depth=6, max_features=7, n_estimators=55............\n",
      "[CV 5/5; 108/210] END max_depth=6, max_features=7, n_estimators=55; total time=   1.4s\n",
      "[CV 1/5; 109/210] START max_depth=6, max_features=7, n_estimators=60............\n",
      "[CV 1/5; 109/210] END max_depth=6, max_features=7, n_estimators=60; total time=   1.5s\n",
      "[CV 2/5; 109/210] START max_depth=6, max_features=7, n_estimators=60............\n",
      "[CV 2/5; 109/210] END max_depth=6, max_features=7, n_estimators=60; total time=   1.5s\n",
      "[CV 3/5; 109/210] START max_depth=6, max_features=7, n_estimators=60............\n",
      "[CV 3/5; 109/210] END max_depth=6, max_features=7, n_estimators=60; total time=   1.5s\n",
      "[CV 4/5; 109/210] START max_depth=6, max_features=7, n_estimators=60............\n",
      "[CV 4/5; 109/210] END max_depth=6, max_features=7, n_estimators=60; total time=   1.5s\n",
      "[CV 5/5; 109/210] START max_depth=6, max_features=7, n_estimators=60............\n",
      "[CV 5/5; 109/210] END max_depth=6, max_features=7, n_estimators=60; total time=   1.5s\n",
      "[CV 1/5; 110/210] START max_depth=6, max_features=7, n_estimators=65............\n",
      "[CV 1/5; 110/210] END max_depth=6, max_features=7, n_estimators=65; total time=   1.6s\n",
      "[CV 2/5; 110/210] START max_depth=6, max_features=7, n_estimators=65............\n",
      "[CV 2/5; 110/210] END max_depth=6, max_features=7, n_estimators=65; total time=   1.7s\n",
      "[CV 3/5; 110/210] START max_depth=6, max_features=7, n_estimators=65............\n",
      "[CV 3/5; 110/210] END max_depth=6, max_features=7, n_estimators=65; total time=   1.6s\n",
      "[CV 4/5; 110/210] START max_depth=6, max_features=7, n_estimators=65............\n",
      "[CV 4/5; 110/210] END max_depth=6, max_features=7, n_estimators=65; total time=   1.7s\n",
      "[CV 5/5; 110/210] START max_depth=6, max_features=7, n_estimators=65............\n",
      "[CV 5/5; 110/210] END max_depth=6, max_features=7, n_estimators=65; total time=   1.7s\n",
      "[CV 1/5; 111/210] START max_depth=6, max_features=7, n_estimators=70............\n",
      "[CV 1/5; 111/210] END max_depth=6, max_features=7, n_estimators=70; total time=   1.8s\n",
      "[CV 2/5; 111/210] START max_depth=6, max_features=7, n_estimators=70............\n",
      "[CV 2/5; 111/210] END max_depth=6, max_features=7, n_estimators=70; total time=   1.9s\n",
      "[CV 3/5; 111/210] START max_depth=6, max_features=7, n_estimators=70............\n",
      "[CV 3/5; 111/210] END max_depth=6, max_features=7, n_estimators=70; total time=   1.8s\n",
      "[CV 4/5; 111/210] START max_depth=6, max_features=7, n_estimators=70............\n",
      "[CV 4/5; 111/210] END max_depth=6, max_features=7, n_estimators=70; total time=   1.9s\n",
      "[CV 5/5; 111/210] START max_depth=6, max_features=7, n_estimators=70............\n",
      "[CV 5/5; 111/210] END max_depth=6, max_features=7, n_estimators=70; total time=   1.7s\n",
      "[CV 1/5; 112/210] START max_depth=6, max_features=7, n_estimators=75............\n",
      "[CV 1/5; 112/210] END max_depth=6, max_features=7, n_estimators=75; total time=   2.0s\n",
      "[CV 2/5; 112/210] START max_depth=6, max_features=7, n_estimators=75............\n",
      "[CV 2/5; 112/210] END max_depth=6, max_features=7, n_estimators=75; total time=   2.2s\n",
      "[CV 3/5; 112/210] START max_depth=6, max_features=7, n_estimators=75............\n",
      "[CV 3/5; 112/210] END max_depth=6, max_features=7, n_estimators=75; total time=   2.7s\n",
      "[CV 4/5; 112/210] START max_depth=6, max_features=7, n_estimators=75............\n",
      "[CV 4/5; 112/210] END max_depth=6, max_features=7, n_estimators=75; total time=   2.7s\n",
      "[CV 5/5; 112/210] START max_depth=6, max_features=7, n_estimators=75............\n",
      "[CV 5/5; 112/210] END max_depth=6, max_features=7, n_estimators=75; total time=   2.8s\n",
      "[CV 1/5; 113/210] START max_depth=6, max_features=9, n_estimators=10............\n",
      "[CV 1/5; 113/210] END max_depth=6, max_features=9, n_estimators=10; total time=   0.4s\n",
      "[CV 2/5; 113/210] START max_depth=6, max_features=9, n_estimators=10............\n",
      "[CV 2/5; 113/210] END max_depth=6, max_features=9, n_estimators=10; total time=   0.5s\n",
      "[CV 3/5; 113/210] START max_depth=6, max_features=9, n_estimators=10............\n",
      "[CV 3/5; 113/210] END max_depth=6, max_features=9, n_estimators=10; total time=   0.5s\n",
      "[CV 4/5; 113/210] START max_depth=6, max_features=9, n_estimators=10............\n",
      "[CV 4/5; 113/210] END max_depth=6, max_features=9, n_estimators=10; total time=   0.5s\n",
      "[CV 5/5; 113/210] START max_depth=6, max_features=9, n_estimators=10............\n",
      "[CV 5/5; 113/210] END max_depth=6, max_features=9, n_estimators=10; total time=   0.4s\n",
      "[CV 1/5; 114/210] START max_depth=6, max_features=9, n_estimators=15............\n",
      "[CV 1/5; 114/210] END max_depth=6, max_features=9, n_estimators=15; total time=   0.7s\n",
      "[CV 2/5; 114/210] START max_depth=6, max_features=9, n_estimators=15............\n",
      "[CV 2/5; 114/210] END max_depth=6, max_features=9, n_estimators=15; total time=   0.7s\n",
      "[CV 3/5; 114/210] START max_depth=6, max_features=9, n_estimators=15............\n",
      "[CV 3/5; 114/210] END max_depth=6, max_features=9, n_estimators=15; total time=   0.7s\n",
      "[CV 4/5; 114/210] START max_depth=6, max_features=9, n_estimators=15............\n",
      "[CV 4/5; 114/210] END max_depth=6, max_features=9, n_estimators=15; total time=   0.7s\n",
      "[CV 5/5; 114/210] START max_depth=6, max_features=9, n_estimators=15............\n",
      "[CV 5/5; 114/210] END max_depth=6, max_features=9, n_estimators=15; total time=   0.7s\n",
      "[CV 1/5; 115/210] START max_depth=6, max_features=9, n_estimators=20............\n",
      "[CV 1/5; 115/210] END max_depth=6, max_features=9, n_estimators=20; total time=   0.9s\n",
      "[CV 2/5; 115/210] START max_depth=6, max_features=9, n_estimators=20............\n",
      "[CV 2/5; 115/210] END max_depth=6, max_features=9, n_estimators=20; total time=   0.9s\n",
      "[CV 3/5; 115/210] START max_depth=6, max_features=9, n_estimators=20............\n",
      "[CV 3/5; 115/210] END max_depth=6, max_features=9, n_estimators=20; total time=   0.9s\n",
      "[CV 4/5; 115/210] START max_depth=6, max_features=9, n_estimators=20............\n",
      "[CV 4/5; 115/210] END max_depth=6, max_features=9, n_estimators=20; total time=   0.6s\n",
      "[CV 5/5; 115/210] START max_depth=6, max_features=9, n_estimators=20............\n",
      "[CV 5/5; 115/210] END max_depth=6, max_features=9, n_estimators=20; total time=   0.6s\n",
      "[CV 1/5; 116/210] START max_depth=6, max_features=9, n_estimators=25............\n",
      "[CV 1/5; 116/210] END max_depth=6, max_features=9, n_estimators=25; total time=   0.8s\n",
      "[CV 2/5; 116/210] START max_depth=6, max_features=9, n_estimators=25............\n",
      "[CV 2/5; 116/210] END max_depth=6, max_features=9, n_estimators=25; total time=   0.8s\n",
      "[CV 3/5; 116/210] START max_depth=6, max_features=9, n_estimators=25............\n",
      "[CV 3/5; 116/210] END max_depth=6, max_features=9, n_estimators=25; total time=   0.8s\n",
      "[CV 4/5; 116/210] START max_depth=6, max_features=9, n_estimators=25............\n",
      "[CV 4/5; 116/210] END max_depth=6, max_features=9, n_estimators=25; total time=   0.8s\n",
      "[CV 5/5; 116/210] START max_depth=6, max_features=9, n_estimators=25............\n",
      "[CV 5/5; 116/210] END max_depth=6, max_features=9, n_estimators=25; total time=   0.8s\n",
      "[CV 1/5; 117/210] START max_depth=6, max_features=9, n_estimators=30............\n",
      "[CV 1/5; 117/210] END max_depth=6, max_features=9, n_estimators=30; total time=   0.9s\n",
      "[CV 2/5; 117/210] START max_depth=6, max_features=9, n_estimators=30............\n",
      "[CV 2/5; 117/210] END max_depth=6, max_features=9, n_estimators=30; total time=   0.9s\n",
      "[CV 3/5; 117/210] START max_depth=6, max_features=9, n_estimators=30............\n",
      "[CV 3/5; 117/210] END max_depth=6, max_features=9, n_estimators=30; total time=   0.9s\n",
      "[CV 4/5; 117/210] START max_depth=6, max_features=9, n_estimators=30............\n",
      "[CV 4/5; 117/210] END max_depth=6, max_features=9, n_estimators=30; total time=   0.9s\n",
      "[CV 5/5; 117/210] START max_depth=6, max_features=9, n_estimators=30............\n",
      "[CV 5/5; 117/210] END max_depth=6, max_features=9, n_estimators=30; total time=   1.0s\n",
      "[CV 1/5; 118/210] START max_depth=6, max_features=9, n_estimators=35............\n",
      "[CV 1/5; 118/210] END max_depth=6, max_features=9, n_estimators=35; total time=   1.1s\n",
      "[CV 2/5; 118/210] START max_depth=6, max_features=9, n_estimators=35............\n",
      "[CV 2/5; 118/210] END max_depth=6, max_features=9, n_estimators=35; total time=   1.2s\n",
      "[CV 3/5; 118/210] START max_depth=6, max_features=9, n_estimators=35............\n",
      "[CV 3/5; 118/210] END max_depth=6, max_features=9, n_estimators=35; total time=   1.1s\n",
      "[CV 4/5; 118/210] START max_depth=6, max_features=9, n_estimators=35............\n",
      "[CV 4/5; 118/210] END max_depth=6, max_features=9, n_estimators=35; total time=   1.1s\n",
      "[CV 5/5; 118/210] START max_depth=6, max_features=9, n_estimators=35............\n",
      "[CV 5/5; 118/210] END max_depth=6, max_features=9, n_estimators=35; total time=   1.1s\n",
      "[CV 1/5; 119/210] START max_depth=6, max_features=9, n_estimators=40............\n",
      "[CV 1/5; 119/210] END max_depth=6, max_features=9, n_estimators=40; total time=   1.3s\n",
      "[CV 2/5; 119/210] START max_depth=6, max_features=9, n_estimators=40............\n",
      "[CV 2/5; 119/210] END max_depth=6, max_features=9, n_estimators=40; total time=   1.4s\n",
      "[CV 3/5; 119/210] START max_depth=6, max_features=9, n_estimators=40............\n",
      "[CV 3/5; 119/210] END max_depth=6, max_features=9, n_estimators=40; total time=   1.3s\n",
      "[CV 4/5; 119/210] START max_depth=6, max_features=9, n_estimators=40............\n",
      "[CV 4/5; 119/210] END max_depth=6, max_features=9, n_estimators=40; total time=   1.3s\n",
      "[CV 5/5; 119/210] START max_depth=6, max_features=9, n_estimators=40............\n",
      "[CV 5/5; 119/210] END max_depth=6, max_features=9, n_estimators=40; total time=   1.3s\n",
      "[CV 1/5; 120/210] START max_depth=6, max_features=9, n_estimators=45............\n",
      "[CV 1/5; 120/210] END max_depth=6, max_features=9, n_estimators=45; total time=   1.5s\n",
      "[CV 2/5; 120/210] START max_depth=6, max_features=9, n_estimators=45............\n",
      "[CV 2/5; 120/210] END max_depth=6, max_features=9, n_estimators=45; total time=   1.5s\n",
      "[CV 3/5; 120/210] START max_depth=6, max_features=9, n_estimators=45............\n",
      "[CV 3/5; 120/210] END max_depth=6, max_features=9, n_estimators=45; total time=   1.4s\n",
      "[CV 4/5; 120/210] START max_depth=6, max_features=9, n_estimators=45............\n",
      "[CV 4/5; 120/210] END max_depth=6, max_features=9, n_estimators=45; total time=   1.4s\n",
      "[CV 5/5; 120/210] START max_depth=6, max_features=9, n_estimators=45............\n",
      "[CV 5/5; 120/210] END max_depth=6, max_features=9, n_estimators=45; total time=   1.5s\n",
      "[CV 1/5; 121/210] START max_depth=6, max_features=9, n_estimators=50............\n",
      "[CV 1/5; 121/210] END max_depth=6, max_features=9, n_estimators=50; total time=   1.6s\n",
      "[CV 2/5; 121/210] START max_depth=6, max_features=9, n_estimators=50............\n",
      "[CV 2/5; 121/210] END max_depth=6, max_features=9, n_estimators=50; total time=   1.6s\n",
      "[CV 3/5; 121/210] START max_depth=6, max_features=9, n_estimators=50............\n",
      "[CV 3/5; 121/210] END max_depth=6, max_features=9, n_estimators=50; total time=   1.7s\n",
      "[CV 4/5; 121/210] START max_depth=6, max_features=9, n_estimators=50............\n",
      "[CV 4/5; 121/210] END max_depth=6, max_features=9, n_estimators=50; total time=   1.7s\n",
      "[CV 5/5; 121/210] START max_depth=6, max_features=9, n_estimators=50............\n",
      "[CV 5/5; 121/210] END max_depth=6, max_features=9, n_estimators=50; total time=   1.6s\n",
      "[CV 1/5; 122/210] START max_depth=6, max_features=9, n_estimators=55............\n",
      "[CV 1/5; 122/210] END max_depth=6, max_features=9, n_estimators=55; total time=   1.8s\n",
      "[CV 2/5; 122/210] START max_depth=6, max_features=9, n_estimators=55............\n",
      "[CV 2/5; 122/210] END max_depth=6, max_features=9, n_estimators=55; total time=   1.9s\n",
      "[CV 3/5; 122/210] START max_depth=6, max_features=9, n_estimators=55............\n",
      "[CV 3/5; 122/210] END max_depth=6, max_features=9, n_estimators=55; total time=   1.8s\n",
      "[CV 4/5; 122/210] START max_depth=6, max_features=9, n_estimators=55............\n",
      "[CV 4/5; 122/210] END max_depth=6, max_features=9, n_estimators=55; total time=   1.8s\n",
      "[CV 5/5; 122/210] START max_depth=6, max_features=9, n_estimators=55............\n",
      "[CV 5/5; 122/210] END max_depth=6, max_features=9, n_estimators=55; total time=   1.9s\n",
      "[CV 1/5; 123/210] START max_depth=6, max_features=9, n_estimators=60............\n",
      "[CV 1/5; 123/210] END max_depth=6, max_features=9, n_estimators=60; total time=   1.9s\n",
      "[CV 2/5; 123/210] START max_depth=6, max_features=9, n_estimators=60............\n",
      "[CV 2/5; 123/210] END max_depth=6, max_features=9, n_estimators=60; total time=   2.0s\n",
      "[CV 3/5; 123/210] START max_depth=6, max_features=9, n_estimators=60............\n",
      "[CV 3/5; 123/210] END max_depth=6, max_features=9, n_estimators=60; total time=   2.1s\n",
      "[CV 4/5; 123/210] START max_depth=6, max_features=9, n_estimators=60............\n",
      "[CV 4/5; 123/210] END max_depth=6, max_features=9, n_estimators=60; total time=   2.0s\n",
      "[CV 5/5; 123/210] START max_depth=6, max_features=9, n_estimators=60............\n",
      "[CV 5/5; 123/210] END max_depth=6, max_features=9, n_estimators=60; total time=   2.0s\n",
      "[CV 1/5; 124/210] START max_depth=6, max_features=9, n_estimators=65............\n",
      "[CV 1/5; 124/210] END max_depth=6, max_features=9, n_estimators=65; total time=   2.1s\n",
      "[CV 2/5; 124/210] START max_depth=6, max_features=9, n_estimators=65............\n",
      "[CV 2/5; 124/210] END max_depth=6, max_features=9, n_estimators=65; total time=   2.0s\n",
      "[CV 3/5; 124/210] START max_depth=6, max_features=9, n_estimators=65............\n",
      "[CV 3/5; 124/210] END max_depth=6, max_features=9, n_estimators=65; total time=   2.3s\n",
      "[CV 4/5; 124/210] START max_depth=6, max_features=9, n_estimators=65............\n",
      "[CV 4/5; 124/210] END max_depth=6, max_features=9, n_estimators=65; total time=   2.1s\n",
      "[CV 5/5; 124/210] START max_depth=6, max_features=9, n_estimators=65............\n",
      "[CV 5/5; 124/210] END max_depth=6, max_features=9, n_estimators=65; total time=   2.1s\n",
      "[CV 1/5; 125/210] START max_depth=6, max_features=9, n_estimators=70............\n",
      "[CV 1/5; 125/210] END max_depth=6, max_features=9, n_estimators=70; total time=   2.2s\n",
      "[CV 2/5; 125/210] START max_depth=6, max_features=9, n_estimators=70............\n",
      "[CV 2/5; 125/210] END max_depth=6, max_features=9, n_estimators=70; total time=   2.5s\n",
      "[CV 3/5; 125/210] START max_depth=6, max_features=9, n_estimators=70............\n",
      "[CV 3/5; 125/210] END max_depth=6, max_features=9, n_estimators=70; total time=   2.2s\n",
      "[CV 4/5; 125/210] START max_depth=6, max_features=9, n_estimators=70............\n",
      "[CV 4/5; 125/210] END max_depth=6, max_features=9, n_estimators=70; total time=   2.2s\n",
      "[CV 5/5; 125/210] START max_depth=6, max_features=9, n_estimators=70............\n",
      "[CV 5/5; 125/210] END max_depth=6, max_features=9, n_estimators=70; total time=   2.2s\n",
      "[CV 1/5; 126/210] START max_depth=6, max_features=9, n_estimators=75............\n",
      "[CV 1/5; 126/210] END max_depth=6, max_features=9, n_estimators=75; total time=   2.3s\n",
      "[CV 2/5; 126/210] START max_depth=6, max_features=9, n_estimators=75............\n",
      "[CV 2/5; 126/210] END max_depth=6, max_features=9, n_estimators=75; total time=   2.3s\n",
      "[CV 3/5; 126/210] START max_depth=6, max_features=9, n_estimators=75............\n",
      "[CV 3/5; 126/210] END max_depth=6, max_features=9, n_estimators=75; total time=   2.3s\n",
      "[CV 4/5; 126/210] START max_depth=6, max_features=9, n_estimators=75............\n",
      "[CV 4/5; 126/210] END max_depth=6, max_features=9, n_estimators=75; total time=   2.4s\n",
      "[CV 5/5; 126/210] START max_depth=6, max_features=9, n_estimators=75............\n",
      "[CV 5/5; 126/210] END max_depth=6, max_features=9, n_estimators=75; total time=   2.4s\n",
      "[CV 1/5; 127/210] START max_depth=8, max_features=5, n_estimators=10............\n",
      "[CV 1/5; 127/210] END max_depth=8, max_features=5, n_estimators=10; total time=   0.2s\n",
      "[CV 2/5; 127/210] START max_depth=8, max_features=5, n_estimators=10............\n",
      "[CV 2/5; 127/210] END max_depth=8, max_features=5, n_estimators=10; total time=   0.2s\n",
      "[CV 3/5; 127/210] START max_depth=8, max_features=5, n_estimators=10............\n",
      "[CV 3/5; 127/210] END max_depth=8, max_features=5, n_estimators=10; total time=   0.2s\n",
      "[CV 4/5; 127/210] START max_depth=8, max_features=5, n_estimators=10............\n",
      "[CV 4/5; 127/210] END max_depth=8, max_features=5, n_estimators=10; total time=   0.2s\n",
      "[CV 5/5; 127/210] START max_depth=8, max_features=5, n_estimators=10............\n",
      "[CV 5/5; 127/210] END max_depth=8, max_features=5, n_estimators=10; total time=   0.2s\n",
      "[CV 1/5; 128/210] START max_depth=8, max_features=5, n_estimators=15............\n",
      "[CV 1/5; 128/210] END max_depth=8, max_features=5, n_estimators=15; total time=   0.4s\n",
      "[CV 2/5; 128/210] START max_depth=8, max_features=5, n_estimators=15............\n",
      "[CV 2/5; 128/210] END max_depth=8, max_features=5, n_estimators=15; total time=   0.4s\n",
      "[CV 3/5; 128/210] START max_depth=8, max_features=5, n_estimators=15............\n",
      "[CV 3/5; 128/210] END max_depth=8, max_features=5, n_estimators=15; total time=   0.4s\n",
      "[CV 4/5; 128/210] START max_depth=8, max_features=5, n_estimators=15............\n",
      "[CV 4/5; 128/210] END max_depth=8, max_features=5, n_estimators=15; total time=   0.4s\n",
      "[CV 5/5; 128/210] START max_depth=8, max_features=5, n_estimators=15............\n",
      "[CV 5/5; 128/210] END max_depth=8, max_features=5, n_estimators=15; total time=   0.4s\n",
      "[CV 1/5; 129/210] START max_depth=8, max_features=5, n_estimators=20............\n",
      "[CV 1/5; 129/210] END max_depth=8, max_features=5, n_estimators=20; total time=   0.5s\n",
      "[CV 2/5; 129/210] START max_depth=8, max_features=5, n_estimators=20............\n",
      "[CV 2/5; 129/210] END max_depth=8, max_features=5, n_estimators=20; total time=   0.5s\n",
      "[CV 3/5; 129/210] START max_depth=8, max_features=5, n_estimators=20............\n",
      "[CV 3/5; 129/210] END max_depth=8, max_features=5, n_estimators=20; total time=   0.5s\n",
      "[CV 4/5; 129/210] START max_depth=8, max_features=5, n_estimators=20............\n",
      "[CV 4/5; 129/210] END max_depth=8, max_features=5, n_estimators=20; total time=   0.7s\n",
      "[CV 5/5; 129/210] START max_depth=8, max_features=5, n_estimators=20............\n",
      "[CV 5/5; 129/210] END max_depth=8, max_features=5, n_estimators=20; total time=   0.5s\n",
      "[CV 1/5; 130/210] START max_depth=8, max_features=5, n_estimators=25............\n",
      "[CV 1/5; 130/210] END max_depth=8, max_features=5, n_estimators=25; total time=   0.6s\n",
      "[CV 2/5; 130/210] START max_depth=8, max_features=5, n_estimators=25............\n",
      "[CV 2/5; 130/210] END max_depth=8, max_features=5, n_estimators=25; total time=   0.6s\n",
      "[CV 3/5; 130/210] START max_depth=8, max_features=5, n_estimators=25............\n",
      "[CV 3/5; 130/210] END max_depth=8, max_features=5, n_estimators=25; total time=   0.6s\n",
      "[CV 4/5; 130/210] START max_depth=8, max_features=5, n_estimators=25............\n",
      "[CV 4/5; 130/210] END max_depth=8, max_features=5, n_estimators=25; total time=   0.6s\n",
      "[CV 5/5; 130/210] START max_depth=8, max_features=5, n_estimators=25............\n",
      "[CV 5/5; 130/210] END max_depth=8, max_features=5, n_estimators=25; total time=   0.6s\n",
      "[CV 1/5; 131/210] START max_depth=8, max_features=5, n_estimators=30............\n",
      "[CV 1/5; 131/210] END max_depth=8, max_features=5, n_estimators=30; total time=   1.0s\n",
      "[CV 2/5; 131/210] START max_depth=8, max_features=5, n_estimators=30............\n",
      "[CV 2/5; 131/210] END max_depth=8, max_features=5, n_estimators=30; total time=   0.7s\n",
      "[CV 3/5; 131/210] START max_depth=8, max_features=5, n_estimators=30............\n",
      "[CV 3/5; 131/210] END max_depth=8, max_features=5, n_estimators=30; total time=   0.7s\n",
      "[CV 4/5; 131/210] START max_depth=8, max_features=5, n_estimators=30............\n",
      "[CV 4/5; 131/210] END max_depth=8, max_features=5, n_estimators=30; total time=   0.7s\n",
      "[CV 5/5; 131/210] START max_depth=8, max_features=5, n_estimators=30............\n",
      "[CV 5/5; 131/210] END max_depth=8, max_features=5, n_estimators=30; total time=   0.7s\n",
      "[CV 1/5; 132/210] START max_depth=8, max_features=5, n_estimators=35............\n",
      "[CV 1/5; 132/210] END max_depth=8, max_features=5, n_estimators=35; total time=   0.9s\n",
      "[CV 2/5; 132/210] START max_depth=8, max_features=5, n_estimators=35............\n",
      "[CV 2/5; 132/210] END max_depth=8, max_features=5, n_estimators=35; total time=   0.8s\n",
      "[CV 3/5; 132/210] START max_depth=8, max_features=5, n_estimators=35............\n",
      "[CV 3/5; 132/210] END max_depth=8, max_features=5, n_estimators=35; total time=   0.8s\n",
      "[CV 4/5; 132/210] START max_depth=8, max_features=5, n_estimators=35............\n",
      "[CV 4/5; 132/210] END max_depth=8, max_features=5, n_estimators=35; total time=   0.8s\n",
      "[CV 5/5; 132/210] START max_depth=8, max_features=5, n_estimators=35............\n",
      "[CV 5/5; 132/210] END max_depth=8, max_features=5, n_estimators=35; total time=   0.8s\n",
      "[CV 1/5; 133/210] START max_depth=8, max_features=5, n_estimators=40............\n",
      "[CV 1/5; 133/210] END max_depth=8, max_features=5, n_estimators=40; total time=   0.9s\n",
      "[CV 2/5; 133/210] START max_depth=8, max_features=5, n_estimators=40............\n",
      "[CV 2/5; 133/210] END max_depth=8, max_features=5, n_estimators=40; total time=   0.9s\n",
      "[CV 3/5; 133/210] START max_depth=8, max_features=5, n_estimators=40............\n",
      "[CV 3/5; 133/210] END max_depth=8, max_features=5, n_estimators=40; total time=   0.9s\n",
      "[CV 4/5; 133/210] START max_depth=8, max_features=5, n_estimators=40............\n",
      "[CV 4/5; 133/210] END max_depth=8, max_features=5, n_estimators=40; total time=   0.9s\n",
      "[CV 5/5; 133/210] START max_depth=8, max_features=5, n_estimators=40............\n",
      "[CV 5/5; 133/210] END max_depth=8, max_features=5, n_estimators=40; total time=   0.9s\n",
      "[CV 1/5; 134/210] START max_depth=8, max_features=5, n_estimators=45............\n",
      "[CV 1/5; 134/210] END max_depth=8, max_features=5, n_estimators=45; total time=   1.0s\n",
      "[CV 2/5; 134/210] START max_depth=8, max_features=5, n_estimators=45............\n",
      "[CV 2/5; 134/210] END max_depth=8, max_features=5, n_estimators=45; total time=   1.1s\n",
      "[CV 3/5; 134/210] START max_depth=8, max_features=5, n_estimators=45............\n",
      "[CV 3/5; 134/210] END max_depth=8, max_features=5, n_estimators=45; total time=   1.1s\n",
      "[CV 4/5; 134/210] START max_depth=8, max_features=5, n_estimators=45............\n",
      "[CV 4/5; 134/210] END max_depth=8, max_features=5, n_estimators=45; total time=   1.1s\n",
      "[CV 5/5; 134/210] START max_depth=8, max_features=5, n_estimators=45............\n",
      "[CV 5/5; 134/210] END max_depth=8, max_features=5, n_estimators=45; total time=   1.2s\n",
      "[CV 1/5; 135/210] START max_depth=8, max_features=5, n_estimators=50............\n",
      "[CV 1/5; 135/210] END max_depth=8, max_features=5, n_estimators=50; total time=   1.1s\n",
      "[CV 2/5; 135/210] START max_depth=8, max_features=5, n_estimators=50............\n",
      "[CV 2/5; 135/210] END max_depth=8, max_features=5, n_estimators=50; total time=   1.1s\n",
      "[CV 3/5; 135/210] START max_depth=8, max_features=5, n_estimators=50............\n",
      "[CV 3/5; 135/210] END max_depth=8, max_features=5, n_estimators=50; total time=   1.4s\n",
      "[CV 4/5; 135/210] START max_depth=8, max_features=5, n_estimators=50............\n",
      "[CV 4/5; 135/210] END max_depth=8, max_features=5, n_estimators=50; total time=   1.4s\n",
      "[CV 5/5; 135/210] START max_depth=8, max_features=5, n_estimators=50............\n",
      "[CV 5/5; 135/210] END max_depth=8, max_features=5, n_estimators=50; total time=   1.3s\n",
      "[CV 1/5; 136/210] START max_depth=8, max_features=5, n_estimators=55............\n",
      "[CV 1/5; 136/210] END max_depth=8, max_features=5, n_estimators=55; total time=   1.3s\n",
      "[CV 2/5; 136/210] START max_depth=8, max_features=5, n_estimators=55............\n",
      "[CV 2/5; 136/210] END max_depth=8, max_features=5, n_estimators=55; total time=   1.3s\n",
      "[CV 3/5; 136/210] START max_depth=8, max_features=5, n_estimators=55............\n",
      "[CV 3/5; 136/210] END max_depth=8, max_features=5, n_estimators=55; total time=   1.4s\n",
      "[CV 4/5; 136/210] START max_depth=8, max_features=5, n_estimators=55............\n",
      "[CV 4/5; 136/210] END max_depth=8, max_features=5, n_estimators=55; total time=   1.3s\n",
      "[CV 5/5; 136/210] START max_depth=8, max_features=5, n_estimators=55............\n",
      "[CV 5/5; 136/210] END max_depth=8, max_features=5, n_estimators=55; total time=   1.4s\n",
      "[CV 1/5; 137/210] START max_depth=8, max_features=5, n_estimators=60............\n",
      "[CV 1/5; 137/210] END max_depth=8, max_features=5, n_estimators=60; total time=   1.5s\n",
      "[CV 2/5; 137/210] START max_depth=8, max_features=5, n_estimators=60............\n",
      "[CV 2/5; 137/210] END max_depth=8, max_features=5, n_estimators=60; total time=   1.5s\n",
      "[CV 3/5; 137/210] START max_depth=8, max_features=5, n_estimators=60............\n",
      "[CV 3/5; 137/210] END max_depth=8, max_features=5, n_estimators=60; total time=   1.5s\n",
      "[CV 4/5; 137/210] START max_depth=8, max_features=5, n_estimators=60............\n",
      "[CV 4/5; 137/210] END max_depth=8, max_features=5, n_estimators=60; total time=   1.5s\n",
      "[CV 5/5; 137/210] START max_depth=8, max_features=5, n_estimators=60............\n",
      "[CV 5/5; 137/210] END max_depth=8, max_features=5, n_estimators=60; total time=   1.5s\n",
      "[CV 1/5; 138/210] START max_depth=8, max_features=5, n_estimators=65............\n",
      "[CV 1/5; 138/210] END max_depth=8, max_features=5, n_estimators=65; total time=   1.7s\n",
      "[CV 2/5; 138/210] START max_depth=8, max_features=5, n_estimators=65............\n",
      "[CV 2/5; 138/210] END max_depth=8, max_features=5, n_estimators=65; total time=   1.8s\n",
      "[CV 3/5; 138/210] START max_depth=8, max_features=5, n_estimators=65............\n",
      "[CV 3/5; 138/210] END max_depth=8, max_features=5, n_estimators=65; total time=   1.7s\n",
      "[CV 4/5; 138/210] START max_depth=8, max_features=5, n_estimators=65............\n",
      "[CV 4/5; 138/210] END max_depth=8, max_features=5, n_estimators=65; total time=   1.7s\n",
      "[CV 5/5; 138/210] START max_depth=8, max_features=5, n_estimators=65............\n",
      "[CV 5/5; 138/210] END max_depth=8, max_features=5, n_estimators=65; total time=   1.8s\n",
      "[CV 1/5; 139/210] START max_depth=8, max_features=5, n_estimators=70............\n",
      "[CV 1/5; 139/210] END max_depth=8, max_features=5, n_estimators=70; total time=   2.0s\n",
      "[CV 2/5; 139/210] START max_depth=8, max_features=5, n_estimators=70............\n",
      "[CV 2/5; 139/210] END max_depth=8, max_features=5, n_estimators=70; total time=   2.1s\n",
      "[CV 3/5; 139/210] START max_depth=8, max_features=5, n_estimators=70............\n",
      "[CV 3/5; 139/210] END max_depth=8, max_features=5, n_estimators=70; total time=   1.8s\n",
      "[CV 4/5; 139/210] START max_depth=8, max_features=5, n_estimators=70............\n",
      "[CV 4/5; 139/210] END max_depth=8, max_features=5, n_estimators=70; total time=   1.9s\n",
      "[CV 5/5; 139/210] START max_depth=8, max_features=5, n_estimators=70............\n",
      "[CV 5/5; 139/210] END max_depth=8, max_features=5, n_estimators=70; total time=   1.9s\n",
      "[CV 1/5; 140/210] START max_depth=8, max_features=5, n_estimators=75............\n",
      "[CV 1/5; 140/210] END max_depth=8, max_features=5, n_estimators=75; total time=   1.9s\n",
      "[CV 2/5; 140/210] START max_depth=8, max_features=5, n_estimators=75............\n",
      "[CV 2/5; 140/210] END max_depth=8, max_features=5, n_estimators=75; total time=   2.5s\n",
      "[CV 3/5; 140/210] START max_depth=8, max_features=5, n_estimators=75............\n",
      "[CV 3/5; 140/210] END max_depth=8, max_features=5, n_estimators=75; total time=   2.1s\n",
      "[CV 4/5; 140/210] START max_depth=8, max_features=5, n_estimators=75............\n",
      "[CV 4/5; 140/210] END max_depth=8, max_features=5, n_estimators=75; total time=   2.3s\n",
      "[CV 5/5; 140/210] START max_depth=8, max_features=5, n_estimators=75............\n",
      "[CV 5/5; 140/210] END max_depth=8, max_features=5, n_estimators=75; total time=   2.0s\n",
      "[CV 1/5; 141/210] START max_depth=8, max_features=7, n_estimators=10............\n",
      "[CV 1/5; 141/210] END max_depth=8, max_features=7, n_estimators=10; total time=   0.4s\n",
      "[CV 2/5; 141/210] START max_depth=8, max_features=7, n_estimators=10............\n",
      "[CV 2/5; 141/210] END max_depth=8, max_features=7, n_estimators=10; total time=   0.4s\n",
      "[CV 3/5; 141/210] START max_depth=8, max_features=7, n_estimators=10............\n",
      "[CV 3/5; 141/210] END max_depth=8, max_features=7, n_estimators=10; total time=   0.4s\n",
      "[CV 4/5; 141/210] START max_depth=8, max_features=7, n_estimators=10............\n",
      "[CV 4/5; 141/210] END max_depth=8, max_features=7, n_estimators=10; total time=   0.4s\n",
      "[CV 5/5; 141/210] START max_depth=8, max_features=7, n_estimators=10............\n",
      "[CV 5/5; 141/210] END max_depth=8, max_features=7, n_estimators=10; total time=   0.4s\n",
      "[CV 1/5; 142/210] START max_depth=8, max_features=7, n_estimators=15............\n",
      "[CV 1/5; 142/210] END max_depth=8, max_features=7, n_estimators=15; total time=   0.5s\n",
      "[CV 2/5; 142/210] START max_depth=8, max_features=7, n_estimators=15............\n",
      "[CV 2/5; 142/210] END max_depth=8, max_features=7, n_estimators=15; total time=   0.5s\n",
      "[CV 3/5; 142/210] START max_depth=8, max_features=7, n_estimators=15............\n",
      "[CV 3/5; 142/210] END max_depth=8, max_features=7, n_estimators=15; total time=   0.5s\n",
      "[CV 4/5; 142/210] START max_depth=8, max_features=7, n_estimators=15............\n",
      "[CV 4/5; 142/210] END max_depth=8, max_features=7, n_estimators=15; total time=   0.5s\n",
      "[CV 5/5; 142/210] START max_depth=8, max_features=7, n_estimators=15............\n",
      "[CV 5/5; 142/210] END max_depth=8, max_features=7, n_estimators=15; total time=   0.5s\n",
      "[CV 1/5; 143/210] START max_depth=8, max_features=7, n_estimators=20............\n",
      "[CV 1/5; 143/210] END max_depth=8, max_features=7, n_estimators=20; total time=   0.7s\n",
      "[CV 2/5; 143/210] START max_depth=8, max_features=7, n_estimators=20............\n",
      "[CV 2/5; 143/210] END max_depth=8, max_features=7, n_estimators=20; total time=   0.7s\n",
      "[CV 3/5; 143/210] START max_depth=8, max_features=7, n_estimators=20............\n",
      "[CV 3/5; 143/210] END max_depth=8, max_features=7, n_estimators=20; total time=   0.7s\n",
      "[CV 4/5; 143/210] START max_depth=8, max_features=7, n_estimators=20............\n",
      "[CV 4/5; 143/210] END max_depth=8, max_features=7, n_estimators=20; total time=   0.7s\n",
      "[CV 5/5; 143/210] START max_depth=8, max_features=7, n_estimators=20............\n",
      "[CV 5/5; 143/210] END max_depth=8, max_features=7, n_estimators=20; total time=   0.7s\n",
      "[CV 1/5; 144/210] START max_depth=8, max_features=7, n_estimators=25............\n",
      "[CV 1/5; 144/210] END max_depth=8, max_features=7, n_estimators=25; total time=   0.8s\n",
      "[CV 2/5; 144/210] START max_depth=8, max_features=7, n_estimators=25............\n",
      "[CV 2/5; 144/210] END max_depth=8, max_features=7, n_estimators=25; total time=   0.9s\n",
      "[CV 3/5; 144/210] START max_depth=8, max_features=7, n_estimators=25............\n",
      "[CV 3/5; 144/210] END max_depth=8, max_features=7, n_estimators=25; total time=   0.8s\n",
      "[CV 4/5; 144/210] START max_depth=8, max_features=7, n_estimators=25............\n",
      "[CV 4/5; 144/210] END max_depth=8, max_features=7, n_estimators=25; total time=   0.9s\n",
      "[CV 5/5; 144/210] START max_depth=8, max_features=7, n_estimators=25............\n",
      "[CV 5/5; 144/210] END max_depth=8, max_features=7, n_estimators=25; total time=   0.9s\n",
      "[CV 1/5; 145/210] START max_depth=8, max_features=7, n_estimators=30............\n",
      "[CV 1/5; 145/210] END max_depth=8, max_features=7, n_estimators=30; total time=   1.0s\n",
      "[CV 2/5; 145/210] START max_depth=8, max_features=7, n_estimators=30............\n",
      "[CV 2/5; 145/210] END max_depth=8, max_features=7, n_estimators=30; total time=   1.1s\n",
      "[CV 3/5; 145/210] START max_depth=8, max_features=7, n_estimators=30............\n",
      "[CV 3/5; 145/210] END max_depth=8, max_features=7, n_estimators=30; total time=   1.2s\n",
      "[CV 4/5; 145/210] START max_depth=8, max_features=7, n_estimators=30............\n",
      "[CV 4/5; 145/210] END max_depth=8, max_features=7, n_estimators=30; total time=   1.1s\n",
      "[CV 5/5; 145/210] START max_depth=8, max_features=7, n_estimators=30............\n",
      "[CV 5/5; 145/210] END max_depth=8, max_features=7, n_estimators=30; total time=   1.0s\n",
      "[CV 1/5; 146/210] START max_depth=8, max_features=7, n_estimators=35............\n",
      "[CV 1/5; 146/210] END max_depth=8, max_features=7, n_estimators=35; total time=   1.2s\n",
      "[CV 2/5; 146/210] START max_depth=8, max_features=7, n_estimators=35............\n",
      "[CV 2/5; 146/210] END max_depth=8, max_features=7, n_estimators=35; total time=   1.3s\n",
      "[CV 3/5; 146/210] START max_depth=8, max_features=7, n_estimators=35............\n",
      "[CV 3/5; 146/210] END max_depth=8, max_features=7, n_estimators=35; total time=   1.3s\n",
      "[CV 4/5; 146/210] START max_depth=8, max_features=7, n_estimators=35............\n",
      "[CV 4/5; 146/210] END max_depth=8, max_features=7, n_estimators=35; total time=   1.2s\n",
      "[CV 5/5; 146/210] START max_depth=8, max_features=7, n_estimators=35............\n",
      "[CV 5/5; 146/210] END max_depth=8, max_features=7, n_estimators=35; total time=   1.4s\n",
      "[CV 1/5; 147/210] START max_depth=8, max_features=7, n_estimators=40............\n",
      "[CV 1/5; 147/210] END max_depth=8, max_features=7, n_estimators=40; total time=   1.7s\n",
      "[CV 2/5; 147/210] START max_depth=8, max_features=7, n_estimators=40............\n",
      "[CV 2/5; 147/210] END max_depth=8, max_features=7, n_estimators=40; total time=   1.5s\n",
      "[CV 3/5; 147/210] START max_depth=8, max_features=7, n_estimators=40............\n",
      "[CV 3/5; 147/210] END max_depth=8, max_features=7, n_estimators=40; total time=   1.5s\n",
      "[CV 4/5; 147/210] START max_depth=8, max_features=7, n_estimators=40............\n",
      "[CV 4/5; 147/210] END max_depth=8, max_features=7, n_estimators=40; total time=   1.4s\n",
      "[CV 5/5; 147/210] START max_depth=8, max_features=7, n_estimators=40............\n",
      "[CV 5/5; 147/210] END max_depth=8, max_features=7, n_estimators=40; total time=   1.4s\n",
      "[CV 1/5; 148/210] START max_depth=8, max_features=7, n_estimators=45............\n",
      "[CV 1/5; 148/210] END max_depth=8, max_features=7, n_estimators=45; total time=   1.6s\n",
      "[CV 2/5; 148/210] START max_depth=8, max_features=7, n_estimators=45............\n",
      "[CV 2/5; 148/210] END max_depth=8, max_features=7, n_estimators=45; total time=   1.6s\n",
      "[CV 3/5; 148/210] START max_depth=8, max_features=7, n_estimators=45............\n",
      "[CV 3/5; 148/210] END max_depth=8, max_features=7, n_estimators=45; total time=   1.6s\n",
      "[CV 4/5; 148/210] START max_depth=8, max_features=7, n_estimators=45............\n",
      "[CV 4/5; 148/210] END max_depth=8, max_features=7, n_estimators=45; total time=   1.7s\n",
      "[CV 5/5; 148/210] START max_depth=8, max_features=7, n_estimators=45............\n",
      "[CV 5/5; 148/210] END max_depth=8, max_features=7, n_estimators=45; total time=   2.0s\n",
      "[CV 1/5; 149/210] START max_depth=8, max_features=7, n_estimators=50............\n",
      "[CV 1/5; 149/210] END max_depth=8, max_features=7, n_estimators=50; total time=   1.8s\n",
      "[CV 2/5; 149/210] START max_depth=8, max_features=7, n_estimators=50............\n",
      "[CV 2/5; 149/210] END max_depth=8, max_features=7, n_estimators=50; total time=   1.9s\n",
      "[CV 3/5; 149/210] START max_depth=8, max_features=7, n_estimators=50............\n",
      "[CV 3/5; 149/210] END max_depth=8, max_features=7, n_estimators=50; total time=   1.8s\n",
      "[CV 4/5; 149/210] START max_depth=8, max_features=7, n_estimators=50............\n",
      "[CV 4/5; 149/210] END max_depth=8, max_features=7, n_estimators=50; total time=   2.2s\n",
      "[CV 5/5; 149/210] START max_depth=8, max_features=7, n_estimators=50............\n",
      "[CV 5/5; 149/210] END max_depth=8, max_features=7, n_estimators=50; total time=   1.8s\n",
      "[CV 1/5; 150/210] START max_depth=8, max_features=7, n_estimators=55............\n",
      "[CV 1/5; 150/210] END max_depth=8, max_features=7, n_estimators=55; total time=   2.0s\n",
      "[CV 2/5; 150/210] START max_depth=8, max_features=7, n_estimators=55............\n",
      "[CV 2/5; 150/210] END max_depth=8, max_features=7, n_estimators=55; total time=   1.9s\n",
      "[CV 3/5; 150/210] START max_depth=8, max_features=7, n_estimators=55............\n",
      "[CV 3/5; 150/210] END max_depth=8, max_features=7, n_estimators=55; total time=   1.9s\n",
      "[CV 4/5; 150/210] START max_depth=8, max_features=7, n_estimators=55............\n",
      "[CV 4/5; 150/210] END max_depth=8, max_features=7, n_estimators=55; total time=   2.2s\n",
      "[CV 5/5; 150/210] START max_depth=8, max_features=7, n_estimators=55............\n",
      "[CV 5/5; 150/210] END max_depth=8, max_features=7, n_estimators=55; total time=   2.5s\n",
      "[CV 1/5; 151/210] START max_depth=8, max_features=7, n_estimators=60............\n",
      "[CV 1/5; 151/210] END max_depth=8, max_features=7, n_estimators=60; total time=   2.6s\n",
      "[CV 2/5; 151/210] START max_depth=8, max_features=7, n_estimators=60............\n",
      "[CV 2/5; 151/210] END max_depth=8, max_features=7, n_estimators=60; total time=   2.1s\n",
      "[CV 3/5; 151/210] START max_depth=8, max_features=7, n_estimators=60............\n",
      "[CV 3/5; 151/210] END max_depth=8, max_features=7, n_estimators=60; total time=   2.5s\n",
      "[CV 4/5; 151/210] START max_depth=8, max_features=7, n_estimators=60............\n",
      "[CV 4/5; 151/210] END max_depth=8, max_features=7, n_estimators=60; total time=   2.2s\n",
      "[CV 5/5; 151/210] START max_depth=8, max_features=7, n_estimators=60............\n",
      "[CV 5/5; 151/210] END max_depth=8, max_features=7, n_estimators=60; total time=   2.2s\n",
      "[CV 1/5; 152/210] START max_depth=8, max_features=7, n_estimators=65............\n",
      "[CV 1/5; 152/210] END max_depth=8, max_features=7, n_estimators=65; total time=   2.9s\n",
      "[CV 2/5; 152/210] START max_depth=8, max_features=7, n_estimators=65............\n",
      "[CV 2/5; 152/210] END max_depth=8, max_features=7, n_estimators=65; total time=   2.5s\n",
      "[CV 3/5; 152/210] START max_depth=8, max_features=7, n_estimators=65............\n",
      "[CV 3/5; 152/210] END max_depth=8, max_features=7, n_estimators=65; total time=   2.3s\n",
      "[CV 4/5; 152/210] START max_depth=8, max_features=7, n_estimators=65............\n",
      "[CV 4/5; 152/210] END max_depth=8, max_features=7, n_estimators=65; total time=   2.2s\n",
      "[CV 5/5; 152/210] START max_depth=8, max_features=7, n_estimators=65............\n",
      "[CV 5/5; 152/210] END max_depth=8, max_features=7, n_estimators=65; total time=   2.2s\n",
      "[CV 1/5; 153/210] START max_depth=8, max_features=7, n_estimators=70............\n",
      "[CV 1/5; 153/210] END max_depth=8, max_features=7, n_estimators=70; total time=   2.4s\n",
      "[CV 2/5; 153/210] START max_depth=8, max_features=7, n_estimators=70............\n",
      "[CV 2/5; 153/210] END max_depth=8, max_features=7, n_estimators=70; total time=   2.4s\n",
      "[CV 3/5; 153/210] START max_depth=8, max_features=7, n_estimators=70............\n",
      "[CV 3/5; 153/210] END max_depth=8, max_features=7, n_estimators=70; total time=   2.9s\n",
      "[CV 4/5; 153/210] START max_depth=8, max_features=7, n_estimators=70............\n",
      "[CV 4/5; 153/210] END max_depth=8, max_features=7, n_estimators=70; total time=   2.6s\n",
      "[CV 5/5; 153/210] START max_depth=8, max_features=7, n_estimators=70............\n",
      "[CV 5/5; 153/210] END max_depth=8, max_features=7, n_estimators=70; total time=   2.4s\n",
      "[CV 1/5; 154/210] START max_depth=8, max_features=7, n_estimators=75............\n",
      "[CV 1/5; 154/210] END max_depth=8, max_features=7, n_estimators=75; total time=   2.7s\n",
      "[CV 2/5; 154/210] START max_depth=8, max_features=7, n_estimators=75............\n",
      "[CV 2/5; 154/210] END max_depth=8, max_features=7, n_estimators=75; total time=   2.7s\n",
      "[CV 3/5; 154/210] START max_depth=8, max_features=7, n_estimators=75............\n",
      "[CV 3/5; 154/210] END max_depth=8, max_features=7, n_estimators=75; total time=   3.0s\n",
      "[CV 4/5; 154/210] START max_depth=8, max_features=7, n_estimators=75............\n",
      "[CV 4/5; 154/210] END max_depth=8, max_features=7, n_estimators=75; total time=   3.3s\n",
      "[CV 5/5; 154/210] START max_depth=8, max_features=7, n_estimators=75............\n",
      "[CV 5/5; 154/210] END max_depth=8, max_features=7, n_estimators=75; total time=   2.8s\n",
      "[CV 1/5; 155/210] START max_depth=8, max_features=9, n_estimators=10............\n",
      "[CV 1/5; 155/210] END max_depth=8, max_features=9, n_estimators=10; total time=   0.5s\n",
      "[CV 2/5; 155/210] START max_depth=8, max_features=9, n_estimators=10............\n",
      "[CV 2/5; 155/210] END max_depth=8, max_features=9, n_estimators=10; total time=   0.6s\n",
      "[CV 3/5; 155/210] START max_depth=8, max_features=9, n_estimators=10............\n",
      "[CV 3/5; 155/210] END max_depth=8, max_features=9, n_estimators=10; total time=   0.6s\n",
      "[CV 4/5; 155/210] START max_depth=8, max_features=9, n_estimators=10............\n",
      "[CV 4/5; 155/210] END max_depth=8, max_features=9, n_estimators=10; total time=   0.5s\n",
      "[CV 5/5; 155/210] START max_depth=8, max_features=9, n_estimators=10............\n",
      "[CV 5/5; 155/210] END max_depth=8, max_features=9, n_estimators=10; total time=   0.5s\n",
      "[CV 1/5; 156/210] START max_depth=8, max_features=9, n_estimators=15............\n",
      "[CV 1/5; 156/210] END max_depth=8, max_features=9, n_estimators=15; total time=   0.7s\n",
      "[CV 2/5; 156/210] START max_depth=8, max_features=9, n_estimators=15............\n",
      "[CV 2/5; 156/210] END max_depth=8, max_features=9, n_estimators=15; total time=   0.7s\n",
      "[CV 3/5; 156/210] START max_depth=8, max_features=9, n_estimators=15............\n",
      "[CV 3/5; 156/210] END max_depth=8, max_features=9, n_estimators=15; total time=   0.8s\n",
      "[CV 4/5; 156/210] START max_depth=8, max_features=9, n_estimators=15............\n",
      "[CV 4/5; 156/210] END max_depth=8, max_features=9, n_estimators=15; total time=   0.7s\n",
      "[CV 5/5; 156/210] START max_depth=8, max_features=9, n_estimators=15............\n",
      "[CV 5/5; 156/210] END max_depth=8, max_features=9, n_estimators=15; total time=   0.8s\n",
      "[CV 1/5; 157/210] START max_depth=8, max_features=9, n_estimators=20............\n",
      "[CV 1/5; 157/210] END max_depth=8, max_features=9, n_estimators=20; total time=   1.1s\n",
      "[CV 2/5; 157/210] START max_depth=8, max_features=9, n_estimators=20............\n",
      "[CV 2/5; 157/210] END max_depth=8, max_features=9, n_estimators=20; total time=   1.1s\n",
      "[CV 3/5; 157/210] START max_depth=8, max_features=9, n_estimators=20............\n",
      "[CV 3/5; 157/210] END max_depth=8, max_features=9, n_estimators=20; total time=   1.1s\n",
      "[CV 4/5; 157/210] START max_depth=8, max_features=9, n_estimators=20............\n",
      "[CV 4/5; 157/210] END max_depth=8, max_features=9, n_estimators=20; total time=   1.2s\n",
      "[CV 5/5; 157/210] START max_depth=8, max_features=9, n_estimators=20............\n",
      "[CV 5/5; 157/210] END max_depth=8, max_features=9, n_estimators=20; total time=   1.1s\n",
      "[CV 1/5; 158/210] START max_depth=8, max_features=9, n_estimators=25............\n",
      "[CV 1/5; 158/210] END max_depth=8, max_features=9, n_estimators=25; total time=   1.4s\n",
      "[CV 2/5; 158/210] START max_depth=8, max_features=9, n_estimators=25............\n",
      "[CV 2/5; 158/210] END max_depth=8, max_features=9, n_estimators=25; total time=   1.1s\n",
      "[CV 3/5; 158/210] START max_depth=8, max_features=9, n_estimators=25............\n",
      "[CV 3/5; 158/210] END max_depth=8, max_features=9, n_estimators=25; total time=   1.4s\n",
      "[CV 4/5; 158/210] START max_depth=8, max_features=9, n_estimators=25............\n",
      "[CV 4/5; 158/210] END max_depth=8, max_features=9, n_estimators=25; total time=   1.4s\n",
      "[CV 5/5; 158/210] START max_depth=8, max_features=9, n_estimators=25............\n",
      "[CV 5/5; 158/210] END max_depth=8, max_features=9, n_estimators=25; total time=   1.2s\n",
      "[CV 1/5; 159/210] START max_depth=8, max_features=9, n_estimators=30............\n",
      "[CV 1/5; 159/210] END max_depth=8, max_features=9, n_estimators=30; total time=   1.4s\n",
      "[CV 2/5; 159/210] START max_depth=8, max_features=9, n_estimators=30............\n",
      "[CV 2/5; 159/210] END max_depth=8, max_features=9, n_estimators=30; total time=   1.3s\n",
      "[CV 3/5; 159/210] START max_depth=8, max_features=9, n_estimators=30............\n",
      "[CV 3/5; 159/210] END max_depth=8, max_features=9, n_estimators=30; total time=   1.3s\n",
      "[CV 4/5; 159/210] START max_depth=8, max_features=9, n_estimators=30............\n",
      "[CV 4/5; 159/210] END max_depth=8, max_features=9, n_estimators=30; total time=   1.4s\n",
      "[CV 5/5; 159/210] START max_depth=8, max_features=9, n_estimators=30............\n",
      "[CV 5/5; 159/210] END max_depth=8, max_features=9, n_estimators=30; total time=   1.6s\n",
      "[CV 1/5; 160/210] START max_depth=8, max_features=9, n_estimators=35............\n",
      "[CV 1/5; 160/210] END max_depth=8, max_features=9, n_estimators=35; total time=   1.5s\n",
      "[CV 2/5; 160/210] START max_depth=8, max_features=9, n_estimators=35............\n",
      "[CV 2/5; 160/210] END max_depth=8, max_features=9, n_estimators=35; total time=   1.5s\n",
      "[CV 3/5; 160/210] START max_depth=8, max_features=9, n_estimators=35............\n",
      "[CV 3/5; 160/210] END max_depth=8, max_features=9, n_estimators=35; total time=   1.6s\n",
      "[CV 4/5; 160/210] START max_depth=8, max_features=9, n_estimators=35............\n",
      "[CV 4/5; 160/210] END max_depth=8, max_features=9, n_estimators=35; total time=   1.6s\n",
      "[CV 5/5; 160/210] START max_depth=8, max_features=9, n_estimators=35............\n",
      "[CV 5/5; 160/210] END max_depth=8, max_features=9, n_estimators=35; total time=   1.5s\n",
      "[CV 1/5; 161/210] START max_depth=8, max_features=9, n_estimators=40............\n",
      "[CV 1/5; 161/210] END max_depth=8, max_features=9, n_estimators=40; total time=   1.9s\n",
      "[CV 2/5; 161/210] START max_depth=8, max_features=9, n_estimators=40............\n",
      "[CV 2/5; 161/210] END max_depth=8, max_features=9, n_estimators=40; total time=   1.8s\n",
      "[CV 3/5; 161/210] START max_depth=8, max_features=9, n_estimators=40............\n",
      "[CV 3/5; 161/210] END max_depth=8, max_features=9, n_estimators=40; total time=   1.7s\n",
      "[CV 4/5; 161/210] START max_depth=8, max_features=9, n_estimators=40............\n",
      "[CV 4/5; 161/210] END max_depth=8, max_features=9, n_estimators=40; total time=   1.8s\n",
      "[CV 5/5; 161/210] START max_depth=8, max_features=9, n_estimators=40............\n",
      "[CV 5/5; 161/210] END max_depth=8, max_features=9, n_estimators=40; total time=   1.7s\n",
      "[CV 1/5; 162/210] START max_depth=8, max_features=9, n_estimators=45............\n",
      "[CV 1/5; 162/210] END max_depth=8, max_features=9, n_estimators=45; total time=   2.1s\n",
      "[CV 2/5; 162/210] START max_depth=8, max_features=9, n_estimators=45............\n",
      "[CV 2/5; 162/210] END max_depth=8, max_features=9, n_estimators=45; total time=   2.0s\n",
      "[CV 3/5; 162/210] START max_depth=8, max_features=9, n_estimators=45............\n",
      "[CV 3/5; 162/210] END max_depth=8, max_features=9, n_estimators=45; total time=   2.1s\n",
      "[CV 4/5; 162/210] START max_depth=8, max_features=9, n_estimators=45............\n",
      "[CV 4/5; 162/210] END max_depth=8, max_features=9, n_estimators=45; total time=   2.0s\n",
      "[CV 5/5; 162/210] START max_depth=8, max_features=9, n_estimators=45............\n",
      "[CV 5/5; 162/210] END max_depth=8, max_features=9, n_estimators=45; total time=   2.3s\n",
      "[CV 1/5; 163/210] START max_depth=8, max_features=9, n_estimators=50............\n",
      "[CV 1/5; 163/210] END max_depth=8, max_features=9, n_estimators=50; total time=   2.2s\n",
      "[CV 2/5; 163/210] START max_depth=8, max_features=9, n_estimators=50............\n",
      "[CV 2/5; 163/210] END max_depth=8, max_features=9, n_estimators=50; total time=   2.2s\n",
      "[CV 3/5; 163/210] START max_depth=8, max_features=9, n_estimators=50............\n",
      "[CV 3/5; 163/210] END max_depth=8, max_features=9, n_estimators=50; total time=   2.1s\n",
      "[CV 4/5; 163/210] START max_depth=8, max_features=9, n_estimators=50............\n",
      "[CV 4/5; 163/210] END max_depth=8, max_features=9, n_estimators=50; total time=   2.5s\n",
      "[CV 5/5; 163/210] START max_depth=8, max_features=9, n_estimators=50............\n",
      "[CV 5/5; 163/210] END max_depth=8, max_features=9, n_estimators=50; total time=   2.3s\n",
      "[CV 1/5; 164/210] START max_depth=8, max_features=9, n_estimators=55............\n",
      "[CV 1/5; 164/210] END max_depth=8, max_features=9, n_estimators=55; total time=   2.6s\n",
      "[CV 2/5; 164/210] START max_depth=8, max_features=9, n_estimators=55............\n",
      "[CV 2/5; 164/210] END max_depth=8, max_features=9, n_estimators=55; total time=   2.8s\n",
      "[CV 3/5; 164/210] START max_depth=8, max_features=9, n_estimators=55............\n",
      "[CV 3/5; 164/210] END max_depth=8, max_features=9, n_estimators=55; total time=   2.7s\n",
      "[CV 4/5; 164/210] START max_depth=8, max_features=9, n_estimators=55............\n",
      "[CV 4/5; 164/210] END max_depth=8, max_features=9, n_estimators=55; total time=   2.5s\n",
      "[CV 5/5; 164/210] START max_depth=8, max_features=9, n_estimators=55............\n",
      "[CV 5/5; 164/210] END max_depth=8, max_features=9, n_estimators=55; total time=   2.6s\n",
      "[CV 1/5; 165/210] START max_depth=8, max_features=9, n_estimators=60............\n",
      "[CV 1/5; 165/210] END max_depth=8, max_features=9, n_estimators=60; total time=   2.6s\n",
      "[CV 2/5; 165/210] START max_depth=8, max_features=9, n_estimators=60............\n",
      "[CV 2/5; 165/210] END max_depth=8, max_features=9, n_estimators=60; total time=   2.7s\n",
      "[CV 3/5; 165/210] START max_depth=8, max_features=9, n_estimators=60............\n",
      "[CV 3/5; 165/210] END max_depth=8, max_features=9, n_estimators=60; total time=   2.7s\n",
      "[CV 4/5; 165/210] START max_depth=8, max_features=9, n_estimators=60............\n",
      "[CV 4/5; 165/210] END max_depth=8, max_features=9, n_estimators=60; total time=   2.5s\n",
      "[CV 5/5; 165/210] START max_depth=8, max_features=9, n_estimators=60............\n",
      "[CV 5/5; 165/210] END max_depth=8, max_features=9, n_estimators=60; total time=   2.8s\n",
      "[CV 1/5; 166/210] START max_depth=8, max_features=9, n_estimators=65............\n",
      "[CV 1/5; 166/210] END max_depth=8, max_features=9, n_estimators=65; total time=   3.5s\n",
      "[CV 2/5; 166/210] START max_depth=8, max_features=9, n_estimators=65............\n",
      "[CV 2/5; 166/210] END max_depth=8, max_features=9, n_estimators=65; total time=   3.7s\n",
      "[CV 3/5; 166/210] START max_depth=8, max_features=9, n_estimators=65............\n",
      "[CV 3/5; 166/210] END max_depth=8, max_features=9, n_estimators=65; total time=   3.3s\n",
      "[CV 4/5; 166/210] START max_depth=8, max_features=9, n_estimators=65............\n",
      "[CV 4/5; 166/210] END max_depth=8, max_features=9, n_estimators=65; total time=   3.1s\n",
      "[CV 5/5; 166/210] START max_depth=8, max_features=9, n_estimators=65............\n",
      "[CV 5/5; 166/210] END max_depth=8, max_features=9, n_estimators=65; total time=   3.2s\n",
      "[CV 1/5; 167/210] START max_depth=8, max_features=9, n_estimators=70............\n",
      "[CV 1/5; 167/210] END max_depth=8, max_features=9, n_estimators=70; total time=   3.6s\n",
      "[CV 2/5; 167/210] START max_depth=8, max_features=9, n_estimators=70............\n",
      "[CV 2/5; 167/210] END max_depth=8, max_features=9, n_estimators=70; total time=   3.2s\n",
      "[CV 3/5; 167/210] START max_depth=8, max_features=9, n_estimators=70............\n",
      "[CV 3/5; 167/210] END max_depth=8, max_features=9, n_estimators=70; total time=   3.7s\n",
      "[CV 4/5; 167/210] START max_depth=8, max_features=9, n_estimators=70............\n",
      "[CV 4/5; 167/210] END max_depth=8, max_features=9, n_estimators=70; total time=   3.1s\n",
      "[CV 5/5; 167/210] START max_depth=8, max_features=9, n_estimators=70............\n",
      "[CV 5/5; 167/210] END max_depth=8, max_features=9, n_estimators=70; total time=   3.6s\n",
      "[CV 1/5; 168/210] START max_depth=8, max_features=9, n_estimators=75............\n",
      "[CV 1/5; 168/210] END max_depth=8, max_features=9, n_estimators=75; total time=   3.3s\n",
      "[CV 2/5; 168/210] START max_depth=8, max_features=9, n_estimators=75............\n",
      "[CV 2/5; 168/210] END max_depth=8, max_features=9, n_estimators=75; total time=   3.4s\n",
      "[CV 3/5; 168/210] START max_depth=8, max_features=9, n_estimators=75............\n",
      "[CV 3/5; 168/210] END max_depth=8, max_features=9, n_estimators=75; total time=   3.3s\n",
      "[CV 4/5; 168/210] START max_depth=8, max_features=9, n_estimators=75............\n",
      "[CV 4/5; 168/210] END max_depth=8, max_features=9, n_estimators=75; total time=   3.3s\n",
      "[CV 5/5; 168/210] START max_depth=8, max_features=9, n_estimators=75............\n",
      "[CV 5/5; 168/210] END max_depth=8, max_features=9, n_estimators=75; total time=   3.2s\n",
      "[CV 1/5; 169/210] START max_depth=10, max_features=5, n_estimators=10...........\n",
      "[CV 1/5; 169/210] END max_depth=10, max_features=5, n_estimators=10; total time=   0.3s\n",
      "[CV 2/5; 169/210] START max_depth=10, max_features=5, n_estimators=10...........\n",
      "[CV 2/5; 169/210] END max_depth=10, max_features=5, n_estimators=10; total time=   0.3s\n",
      "[CV 3/5; 169/210] START max_depth=10, max_features=5, n_estimators=10...........\n",
      "[CV 3/5; 169/210] END max_depth=10, max_features=5, n_estimators=10; total time=   0.3s\n",
      "[CV 4/5; 169/210] START max_depth=10, max_features=5, n_estimators=10...........\n",
      "[CV 4/5; 169/210] END max_depth=10, max_features=5, n_estimators=10; total time=   0.3s\n",
      "[CV 5/5; 169/210] START max_depth=10, max_features=5, n_estimators=10...........\n",
      "[CV 5/5; 169/210] END max_depth=10, max_features=5, n_estimators=10; total time=   0.3s\n",
      "[CV 1/5; 170/210] START max_depth=10, max_features=5, n_estimators=15...........\n",
      "[CV 1/5; 170/210] END max_depth=10, max_features=5, n_estimators=15; total time=   0.5s\n",
      "[CV 2/5; 170/210] START max_depth=10, max_features=5, n_estimators=15...........\n",
      "[CV 2/5; 170/210] END max_depth=10, max_features=5, n_estimators=15; total time=   0.5s\n",
      "[CV 3/5; 170/210] START max_depth=10, max_features=5, n_estimators=15...........\n",
      "[CV 3/5; 170/210] END max_depth=10, max_features=5, n_estimators=15; total time=   0.6s\n",
      "[CV 4/5; 170/210] START max_depth=10, max_features=5, n_estimators=15...........\n",
      "[CV 4/5; 170/210] END max_depth=10, max_features=5, n_estimators=15; total time=   0.5s\n",
      "[CV 5/5; 170/210] START max_depth=10, max_features=5, n_estimators=15...........\n",
      "[CV 5/5; 170/210] END max_depth=10, max_features=5, n_estimators=15; total time=   0.5s\n",
      "[CV 1/5; 171/210] START max_depth=10, max_features=5, n_estimators=20...........\n",
      "[CV 1/5; 171/210] END max_depth=10, max_features=5, n_estimators=20; total time=   0.6s\n",
      "[CV 2/5; 171/210] START max_depth=10, max_features=5, n_estimators=20...........\n",
      "[CV 2/5; 171/210] END max_depth=10, max_features=5, n_estimators=20; total time=   0.6s\n",
      "[CV 3/5; 171/210] START max_depth=10, max_features=5, n_estimators=20...........\n",
      "[CV 3/5; 171/210] END max_depth=10, max_features=5, n_estimators=20; total time=   0.7s\n",
      "[CV 4/5; 171/210] START max_depth=10, max_features=5, n_estimators=20...........\n",
      "[CV 4/5; 171/210] END max_depth=10, max_features=5, n_estimators=20; total time=   0.6s\n",
      "[CV 5/5; 171/210] START max_depth=10, max_features=5, n_estimators=20...........\n",
      "[CV 5/5; 171/210] END max_depth=10, max_features=5, n_estimators=20; total time=   0.6s\n",
      "[CV 1/5; 172/210] START max_depth=10, max_features=5, n_estimators=25...........\n",
      "[CV 1/5; 172/210] END max_depth=10, max_features=5, n_estimators=25; total time=   0.7s\n",
      "[CV 2/5; 172/210] START max_depth=10, max_features=5, n_estimators=25...........\n",
      "[CV 2/5; 172/210] END max_depth=10, max_features=5, n_estimators=25; total time=   0.8s\n",
      "[CV 3/5; 172/210] START max_depth=10, max_features=5, n_estimators=25...........\n",
      "[CV 3/5; 172/210] END max_depth=10, max_features=5, n_estimators=25; total time=   0.8s\n",
      "[CV 4/5; 172/210] START max_depth=10, max_features=5, n_estimators=25...........\n",
      "[CV 4/5; 172/210] END max_depth=10, max_features=5, n_estimators=25; total time=   0.8s\n",
      "[CV 5/5; 172/210] START max_depth=10, max_features=5, n_estimators=25...........\n",
      "[CV 5/5; 172/210] END max_depth=10, max_features=5, n_estimators=25; total time=   0.8s\n",
      "[CV 1/5; 173/210] START max_depth=10, max_features=5, n_estimators=30...........\n",
      "[CV 1/5; 173/210] END max_depth=10, max_features=5, n_estimators=30; total time=   0.9s\n",
      "[CV 2/5; 173/210] START max_depth=10, max_features=5, n_estimators=30...........\n",
      "[CV 2/5; 173/210] END max_depth=10, max_features=5, n_estimators=30; total time=   0.9s\n",
      "[CV 3/5; 173/210] START max_depth=10, max_features=5, n_estimators=30...........\n",
      "[CV 3/5; 173/210] END max_depth=10, max_features=5, n_estimators=30; total time=   0.9s\n",
      "[CV 4/5; 173/210] START max_depth=10, max_features=5, n_estimators=30...........\n",
      "[CV 4/5; 173/210] END max_depth=10, max_features=5, n_estimators=30; total time=   0.9s\n",
      "[CV 5/5; 173/210] START max_depth=10, max_features=5, n_estimators=30...........\n",
      "[CV 5/5; 173/210] END max_depth=10, max_features=5, n_estimators=30; total time=   0.9s\n",
      "[CV 1/5; 174/210] START max_depth=10, max_features=5, n_estimators=35...........\n",
      "[CV 1/5; 174/210] END max_depth=10, max_features=5, n_estimators=35; total time=   1.0s\n",
      "[CV 2/5; 174/210] START max_depth=10, max_features=5, n_estimators=35...........\n",
      "[CV 2/5; 174/210] END max_depth=10, max_features=5, n_estimators=35; total time=   1.1s\n",
      "[CV 3/5; 174/210] START max_depth=10, max_features=5, n_estimators=35...........\n",
      "[CV 3/5; 174/210] END max_depth=10, max_features=5, n_estimators=35; total time=   1.0s\n",
      "[CV 4/5; 174/210] START max_depth=10, max_features=5, n_estimators=35...........\n",
      "[CV 4/5; 174/210] END max_depth=10, max_features=5, n_estimators=35; total time=   1.0s\n",
      "[CV 5/5; 174/210] START max_depth=10, max_features=5, n_estimators=35...........\n",
      "[CV 5/5; 174/210] END max_depth=10, max_features=5, n_estimators=35; total time=   1.0s\n",
      "[CV 1/5; 175/210] START max_depth=10, max_features=5, n_estimators=40...........\n",
      "[CV 1/5; 175/210] END max_depth=10, max_features=5, n_estimators=40; total time=   1.2s\n",
      "[CV 2/5; 175/210] START max_depth=10, max_features=5, n_estimators=40...........\n",
      "[CV 2/5; 175/210] END max_depth=10, max_features=5, n_estimators=40; total time=   1.2s\n",
      "[CV 3/5; 175/210] START max_depth=10, max_features=5, n_estimators=40...........\n",
      "[CV 3/5; 175/210] END max_depth=10, max_features=5, n_estimators=40; total time=   1.2s\n",
      "[CV 4/5; 175/210] START max_depth=10, max_features=5, n_estimators=40...........\n",
      "[CV 4/5; 175/210] END max_depth=10, max_features=5, n_estimators=40; total time=   1.2s\n",
      "[CV 5/5; 175/210] START max_depth=10, max_features=5, n_estimators=40...........\n",
      "[CV 5/5; 175/210] END max_depth=10, max_features=5, n_estimators=40; total time=   1.2s\n",
      "[CV 1/5; 176/210] START max_depth=10, max_features=5, n_estimators=45...........\n",
      "[CV 1/5; 176/210] END max_depth=10, max_features=5, n_estimators=45; total time=   1.5s\n",
      "[CV 2/5; 176/210] START max_depth=10, max_features=5, n_estimators=45...........\n",
      "[CV 2/5; 176/210] END max_depth=10, max_features=5, n_estimators=45; total time=   1.3s\n",
      "[CV 3/5; 176/210] START max_depth=10, max_features=5, n_estimators=45...........\n",
      "[CV 3/5; 176/210] END max_depth=10, max_features=5, n_estimators=45; total time=   1.3s\n",
      "[CV 4/5; 176/210] START max_depth=10, max_features=5, n_estimators=45...........\n",
      "[CV 4/5; 176/210] END max_depth=10, max_features=5, n_estimators=45; total time=   1.3s\n",
      "[CV 5/5; 176/210] START max_depth=10, max_features=5, n_estimators=45...........\n",
      "[CV 5/5; 176/210] END max_depth=10, max_features=5, n_estimators=45; total time=   1.3s\n",
      "[CV 1/5; 177/210] START max_depth=10, max_features=5, n_estimators=50...........\n",
      "[CV 1/5; 177/210] END max_depth=10, max_features=5, n_estimators=50; total time=   1.5s\n",
      "[CV 2/5; 177/210] START max_depth=10, max_features=5, n_estimators=50...........\n",
      "[CV 2/5; 177/210] END max_depth=10, max_features=5, n_estimators=50; total time=   1.4s\n",
      "[CV 3/5; 177/210] START max_depth=10, max_features=5, n_estimators=50...........\n",
      "[CV 3/5; 177/210] END max_depth=10, max_features=5, n_estimators=50; total time=   1.4s\n",
      "[CV 4/5; 177/210] START max_depth=10, max_features=5, n_estimators=50...........\n",
      "[CV 4/5; 177/210] END max_depth=10, max_features=5, n_estimators=50; total time=   1.4s\n",
      "[CV 5/5; 177/210] START max_depth=10, max_features=5, n_estimators=50...........\n",
      "[CV 5/5; 177/210] END max_depth=10, max_features=5, n_estimators=50; total time=   1.4s\n",
      "[CV 1/5; 178/210] START max_depth=10, max_features=5, n_estimators=55...........\n",
      "[CV 1/5; 178/210] END max_depth=10, max_features=5, n_estimators=55; total time=   1.6s\n",
      "[CV 2/5; 178/210] START max_depth=10, max_features=5, n_estimators=55...........\n",
      "[CV 2/5; 178/210] END max_depth=10, max_features=5, n_estimators=55; total time=   1.6s\n",
      "[CV 3/5; 178/210] START max_depth=10, max_features=5, n_estimators=55...........\n",
      "[CV 3/5; 178/210] END max_depth=10, max_features=5, n_estimators=55; total time=   1.6s\n",
      "[CV 4/5; 178/210] START max_depth=10, max_features=5, n_estimators=55...........\n",
      "[CV 4/5; 178/210] END max_depth=10, max_features=5, n_estimators=55; total time=   1.6s\n",
      "[CV 5/5; 178/210] START max_depth=10, max_features=5, n_estimators=55...........\n",
      "[CV 5/5; 178/210] END max_depth=10, max_features=5, n_estimators=55; total time=   1.7s\n",
      "[CV 1/5; 179/210] START max_depth=10, max_features=5, n_estimators=60...........\n",
      "[CV 1/5; 179/210] END max_depth=10, max_features=5, n_estimators=60; total time=   1.8s\n",
      "[CV 2/5; 179/210] START max_depth=10, max_features=5, n_estimators=60...........\n",
      "[CV 2/5; 179/210] END max_depth=10, max_features=5, n_estimators=60; total time=   1.7s\n",
      "[CV 3/5; 179/210] START max_depth=10, max_features=5, n_estimators=60...........\n",
      "[CV 3/5; 179/210] END max_depth=10, max_features=5, n_estimators=60; total time=   1.7s\n",
      "[CV 4/5; 179/210] START max_depth=10, max_features=5, n_estimators=60...........\n",
      "[CV 4/5; 179/210] END max_depth=10, max_features=5, n_estimators=60; total time=   1.9s\n",
      "[CV 5/5; 179/210] START max_depth=10, max_features=5, n_estimators=60...........\n",
      "[CV 5/5; 179/210] END max_depth=10, max_features=5, n_estimators=60; total time=   2.0s\n",
      "[CV 1/5; 180/210] START max_depth=10, max_features=5, n_estimators=65...........\n",
      "[CV 1/5; 180/210] END max_depth=10, max_features=5, n_estimators=65; total time=   2.4s\n",
      "[CV 2/5; 180/210] START max_depth=10, max_features=5, n_estimators=65...........\n",
      "[CV 2/5; 180/210] END max_depth=10, max_features=5, n_estimators=65; total time=   2.6s\n",
      "[CV 3/5; 180/210] START max_depth=10, max_features=5, n_estimators=65...........\n",
      "[CV 3/5; 180/210] END max_depth=10, max_features=5, n_estimators=65; total time=   2.5s\n",
      "[CV 4/5; 180/210] START max_depth=10, max_features=5, n_estimators=65...........\n",
      "[CV 4/5; 180/210] END max_depth=10, max_features=5, n_estimators=65; total time=   2.5s\n",
      "[CV 5/5; 180/210] START max_depth=10, max_features=5, n_estimators=65...........\n",
      "[CV 5/5; 180/210] END max_depth=10, max_features=5, n_estimators=65; total time=   2.6s\n",
      "[CV 1/5; 181/210] START max_depth=10, max_features=5, n_estimators=70...........\n",
      "[CV 1/5; 181/210] END max_depth=10, max_features=5, n_estimators=70; total time=   2.9s\n",
      "[CV 2/5; 181/210] START max_depth=10, max_features=5, n_estimators=70...........\n",
      "[CV 2/5; 181/210] END max_depth=10, max_features=5, n_estimators=70; total time=   2.8s\n",
      "[CV 3/5; 181/210] START max_depth=10, max_features=5, n_estimators=70...........\n",
      "[CV 3/5; 181/210] END max_depth=10, max_features=5, n_estimators=70; total time=   2.8s\n",
      "[CV 4/5; 181/210] START max_depth=10, max_features=5, n_estimators=70...........\n",
      "[CV 4/5; 181/210] END max_depth=10, max_features=5, n_estimators=70; total time=   2.8s\n",
      "[CV 5/5; 181/210] START max_depth=10, max_features=5, n_estimators=70...........\n",
      "[CV 5/5; 181/210] END max_depth=10, max_features=5, n_estimators=70; total time=   2.8s\n",
      "[CV 1/5; 182/210] START max_depth=10, max_features=5, n_estimators=75...........\n",
      "[CV 1/5; 182/210] END max_depth=10, max_features=5, n_estimators=75; total time=   2.9s\n",
      "[CV 2/5; 182/210] START max_depth=10, max_features=5, n_estimators=75...........\n",
      "[CV 2/5; 182/210] END max_depth=10, max_features=5, n_estimators=75; total time=   3.1s\n",
      "[CV 3/5; 182/210] START max_depth=10, max_features=5, n_estimators=75...........\n",
      "[CV 3/5; 182/210] END max_depth=10, max_features=5, n_estimators=75; total time=   3.0s\n",
      "[CV 4/5; 182/210] START max_depth=10, max_features=5, n_estimators=75...........\n",
      "[CV 4/5; 182/210] END max_depth=10, max_features=5, n_estimators=75; total time=   2.9s\n",
      "[CV 5/5; 182/210] START max_depth=10, max_features=5, n_estimators=75...........\n",
      "[CV 5/5; 182/210] END max_depth=10, max_features=5, n_estimators=75; total time=   3.0s\n",
      "[CV 1/5; 183/210] START max_depth=10, max_features=7, n_estimators=10...........\n",
      "[CV 1/5; 183/210] END max_depth=10, max_features=7, n_estimators=10; total time=   0.6s\n",
      "[CV 2/5; 183/210] START max_depth=10, max_features=7, n_estimators=10...........\n",
      "[CV 2/5; 183/210] END max_depth=10, max_features=7, n_estimators=10; total time=   0.5s\n",
      "[CV 3/5; 183/210] START max_depth=10, max_features=7, n_estimators=10...........\n",
      "[CV 3/5; 183/210] END max_depth=10, max_features=7, n_estimators=10; total time=   0.6s\n",
      "[CV 4/5; 183/210] START max_depth=10, max_features=7, n_estimators=10...........\n",
      "[CV 4/5; 183/210] END max_depth=10, max_features=7, n_estimators=10; total time=   0.6s\n",
      "[CV 5/5; 183/210] START max_depth=10, max_features=7, n_estimators=10...........\n",
      "[CV 5/5; 183/210] END max_depth=10, max_features=7, n_estimators=10; total time=   0.6s\n",
      "[CV 1/5; 184/210] START max_depth=10, max_features=7, n_estimators=15...........\n",
      "[CV 1/5; 184/210] END max_depth=10, max_features=7, n_estimators=15; total time=   0.8s\n",
      "[CV 2/5; 184/210] START max_depth=10, max_features=7, n_estimators=15...........\n",
      "[CV 2/5; 184/210] END max_depth=10, max_features=7, n_estimators=15; total time=   0.8s\n",
      "[CV 3/5; 184/210] START max_depth=10, max_features=7, n_estimators=15...........\n",
      "[CV 3/5; 184/210] END max_depth=10, max_features=7, n_estimators=15; total time=   0.6s\n",
      "[CV 4/5; 184/210] START max_depth=10, max_features=7, n_estimators=15...........\n",
      "[CV 4/5; 184/210] END max_depth=10, max_features=7, n_estimators=15; total time=   0.7s\n",
      "[CV 5/5; 184/210] START max_depth=10, max_features=7, n_estimators=15...........\n",
      "[CV 5/5; 184/210] END max_depth=10, max_features=7, n_estimators=15; total time=   0.6s\n",
      "[CV 1/5; 185/210] START max_depth=10, max_features=7, n_estimators=20...........\n",
      "[CV 1/5; 185/210] END max_depth=10, max_features=7, n_estimators=20; total time=   0.8s\n",
      "[CV 2/5; 185/210] START max_depth=10, max_features=7, n_estimators=20...........\n",
      "[CV 2/5; 185/210] END max_depth=10, max_features=7, n_estimators=20; total time=   0.8s\n",
      "[CV 3/5; 185/210] START max_depth=10, max_features=7, n_estimators=20...........\n",
      "[CV 3/5; 185/210] END max_depth=10, max_features=7, n_estimators=20; total time=   0.8s\n",
      "[CV 4/5; 185/210] START max_depth=10, max_features=7, n_estimators=20...........\n",
      "[CV 4/5; 185/210] END max_depth=10, max_features=7, n_estimators=20; total time=   0.9s\n",
      "[CV 5/5; 185/210] START max_depth=10, max_features=7, n_estimators=20...........\n",
      "[CV 5/5; 185/210] END max_depth=10, max_features=7, n_estimators=20; total time=   0.8s\n",
      "[CV 1/5; 186/210] START max_depth=10, max_features=7, n_estimators=25...........\n",
      "[CV 1/5; 186/210] END max_depth=10, max_features=7, n_estimators=25; total time=   1.0s\n",
      "[CV 2/5; 186/210] START max_depth=10, max_features=7, n_estimators=25...........\n",
      "[CV 2/5; 186/210] END max_depth=10, max_features=7, n_estimators=25; total time=   1.0s\n",
      "[CV 3/5; 186/210] START max_depth=10, max_features=7, n_estimators=25...........\n",
      "[CV 3/5; 186/210] END max_depth=10, max_features=7, n_estimators=25; total time=   1.0s\n",
      "[CV 4/5; 186/210] START max_depth=10, max_features=7, n_estimators=25...........\n",
      "[CV 4/5; 186/210] END max_depth=10, max_features=7, n_estimators=25; total time=   1.0s\n",
      "[CV 5/5; 186/210] START max_depth=10, max_features=7, n_estimators=25...........\n",
      "[CV 5/5; 186/210] END max_depth=10, max_features=7, n_estimators=25; total time=   1.0s\n",
      "[CV 1/5; 187/210] START max_depth=10, max_features=7, n_estimators=30...........\n",
      "[CV 1/5; 187/210] END max_depth=10, max_features=7, n_estimators=30; total time=   1.1s\n",
      "[CV 2/5; 187/210] START max_depth=10, max_features=7, n_estimators=30...........\n",
      "[CV 2/5; 187/210] END max_depth=10, max_features=7, n_estimators=30; total time=   1.2s\n",
      "[CV 3/5; 187/210] START max_depth=10, max_features=7, n_estimators=30...........\n",
      "[CV 3/5; 187/210] END max_depth=10, max_features=7, n_estimators=30; total time=   1.2s\n",
      "[CV 4/5; 187/210] START max_depth=10, max_features=7, n_estimators=30...........\n",
      "[CV 4/5; 187/210] END max_depth=10, max_features=7, n_estimators=30; total time=   1.2s\n",
      "[CV 5/5; 187/210] START max_depth=10, max_features=7, n_estimators=30...........\n",
      "[CV 5/5; 187/210] END max_depth=10, max_features=7, n_estimators=30; total time=   1.2s\n",
      "[CV 1/5; 188/210] START max_depth=10, max_features=7, n_estimators=35...........\n",
      "[CV 1/5; 188/210] END max_depth=10, max_features=7, n_estimators=35; total time=   1.4s\n",
      "[CV 2/5; 188/210] START max_depth=10, max_features=7, n_estimators=35...........\n",
      "[CV 2/5; 188/210] END max_depth=10, max_features=7, n_estimators=35; total time=   1.5s\n",
      "[CV 3/5; 188/210] START max_depth=10, max_features=7, n_estimators=35...........\n",
      "[CV 3/5; 188/210] END max_depth=10, max_features=7, n_estimators=35; total time=   1.4s\n",
      "[CV 4/5; 188/210] START max_depth=10, max_features=7, n_estimators=35...........\n",
      "[CV 4/5; 188/210] END max_depth=10, max_features=7, n_estimators=35; total time=   1.4s\n",
      "[CV 5/5; 188/210] START max_depth=10, max_features=7, n_estimators=35...........\n",
      "[CV 5/5; 188/210] END max_depth=10, max_features=7, n_estimators=35; total time=   1.5s\n",
      "[CV 1/5; 189/210] START max_depth=10, max_features=7, n_estimators=40...........\n",
      "[CV 1/5; 189/210] END max_depth=10, max_features=7, n_estimators=40; total time=   1.6s\n",
      "[CV 2/5; 189/210] START max_depth=10, max_features=7, n_estimators=40...........\n",
      "[CV 2/5; 189/210] END max_depth=10, max_features=7, n_estimators=40; total time=   1.6s\n",
      "[CV 3/5; 189/210] START max_depth=10, max_features=7, n_estimators=40...........\n",
      "[CV 3/5; 189/210] END max_depth=10, max_features=7, n_estimators=40; total time=   1.6s\n",
      "[CV 4/5; 189/210] START max_depth=10, max_features=7, n_estimators=40...........\n",
      "[CV 4/5; 189/210] END max_depth=10, max_features=7, n_estimators=40; total time=   1.7s\n",
      "[CV 5/5; 189/210] START max_depth=10, max_features=7, n_estimators=40...........\n",
      "[CV 5/5; 189/210] END max_depth=10, max_features=7, n_estimators=40; total time=   1.7s\n",
      "[CV 1/5; 190/210] START max_depth=10, max_features=7, n_estimators=45...........\n",
      "[CV 1/5; 190/210] END max_depth=10, max_features=7, n_estimators=45; total time=   1.8s\n",
      "[CV 2/5; 190/210] START max_depth=10, max_features=7, n_estimators=45...........\n",
      "[CV 2/5; 190/210] END max_depth=10, max_features=7, n_estimators=45; total time=   1.8s\n",
      "[CV 3/5; 190/210] START max_depth=10, max_features=7, n_estimators=45...........\n",
      "[CV 3/5; 190/210] END max_depth=10, max_features=7, n_estimators=45; total time=   1.8s\n",
      "[CV 4/5; 190/210] START max_depth=10, max_features=7, n_estimators=45...........\n",
      "[CV 4/5; 190/210] END max_depth=10, max_features=7, n_estimators=45; total time=   2.0s\n",
      "[CV 5/5; 190/210] START max_depth=10, max_features=7, n_estimators=45...........\n",
      "[CV 5/5; 190/210] END max_depth=10, max_features=7, n_estimators=45; total time=   2.1s\n",
      "[CV 1/5; 191/210] START max_depth=10, max_features=7, n_estimators=50...........\n",
      "[CV 1/5; 191/210] END max_depth=10, max_features=7, n_estimators=50; total time=   2.2s\n",
      "[CV 2/5; 191/210] START max_depth=10, max_features=7, n_estimators=50...........\n",
      "[CV 2/5; 191/210] END max_depth=10, max_features=7, n_estimators=50; total time=   2.1s\n",
      "[CV 3/5; 191/210] START max_depth=10, max_features=7, n_estimators=50...........\n",
      "[CV 3/5; 191/210] END max_depth=10, max_features=7, n_estimators=50; total time=   2.0s\n",
      "[CV 4/5; 191/210] START max_depth=10, max_features=7, n_estimators=50...........\n",
      "[CV 4/5; 191/210] END max_depth=10, max_features=7, n_estimators=50; total time=   2.1s\n",
      "[CV 5/5; 191/210] START max_depth=10, max_features=7, n_estimators=50...........\n",
      "[CV 5/5; 191/210] END max_depth=10, max_features=7, n_estimators=50; total time=   2.0s\n",
      "[CV 1/5; 192/210] START max_depth=10, max_features=7, n_estimators=55...........\n",
      "[CV 1/5; 192/210] END max_depth=10, max_features=7, n_estimators=55; total time=   2.1s\n",
      "[CV 2/5; 192/210] START max_depth=10, max_features=7, n_estimators=55...........\n",
      "[CV 2/5; 192/210] END max_depth=10, max_features=7, n_estimators=55; total time=   2.2s\n",
      "[CV 3/5; 192/210] START max_depth=10, max_features=7, n_estimators=55...........\n",
      "[CV 3/5; 192/210] END max_depth=10, max_features=7, n_estimators=55; total time=   2.2s\n",
      "[CV 4/5; 192/210] START max_depth=10, max_features=7, n_estimators=55...........\n",
      "[CV 4/5; 192/210] END max_depth=10, max_features=7, n_estimators=55; total time=   2.2s\n",
      "[CV 5/5; 192/210] START max_depth=10, max_features=7, n_estimators=55...........\n",
      "[CV 5/5; 192/210] END max_depth=10, max_features=7, n_estimators=55; total time=   2.2s\n",
      "[CV 1/5; 193/210] START max_depth=10, max_features=7, n_estimators=60...........\n",
      "[CV 1/5; 193/210] END max_depth=10, max_features=7, n_estimators=60; total time=   2.3s\n",
      "[CV 2/5; 193/210] START max_depth=10, max_features=7, n_estimators=60...........\n",
      "[CV 2/5; 193/210] END max_depth=10, max_features=7, n_estimators=60; total time=   2.4s\n",
      "[CV 3/5; 193/210] START max_depth=10, max_features=7, n_estimators=60...........\n",
      "[CV 3/5; 193/210] END max_depth=10, max_features=7, n_estimators=60; total time=   2.4s\n",
      "[CV 4/5; 193/210] START max_depth=10, max_features=7, n_estimators=60...........\n",
      "[CV 4/5; 193/210] END max_depth=10, max_features=7, n_estimators=60; total time=   2.4s\n",
      "[CV 5/5; 193/210] START max_depth=10, max_features=7, n_estimators=60...........\n",
      "[CV 5/5; 193/210] END max_depth=10, max_features=7, n_estimators=60; total time=   2.4s\n",
      "[CV 1/5; 194/210] START max_depth=10, max_features=7, n_estimators=65...........\n",
      "[CV 1/5; 194/210] END max_depth=10, max_features=7, n_estimators=65; total time=   2.6s\n",
      "[CV 2/5; 194/210] START max_depth=10, max_features=7, n_estimators=65...........\n",
      "[CV 2/5; 194/210] END max_depth=10, max_features=7, n_estimators=65; total time=   3.1s\n",
      "[CV 3/5; 194/210] START max_depth=10, max_features=7, n_estimators=65...........\n",
      "[CV 3/5; 194/210] END max_depth=10, max_features=7, n_estimators=65; total time=   2.9s\n",
      "[CV 4/5; 194/210] START max_depth=10, max_features=7, n_estimators=65...........\n",
      "[CV 4/5; 194/210] END max_depth=10, max_features=7, n_estimators=65; total time=   2.5s\n",
      "[CV 5/5; 194/210] START max_depth=10, max_features=7, n_estimators=65...........\n",
      "[CV 5/5; 194/210] END max_depth=10, max_features=7, n_estimators=65; total time=   2.7s\n",
      "[CV 1/5; 195/210] START max_depth=10, max_features=7, n_estimators=70...........\n",
      "[CV 1/5; 195/210] END max_depth=10, max_features=7, n_estimators=70; total time=   2.8s\n",
      "[CV 2/5; 195/210] START max_depth=10, max_features=7, n_estimators=70...........\n",
      "[CV 2/5; 195/210] END max_depth=10, max_features=7, n_estimators=70; total time=   3.0s\n",
      "[CV 3/5; 195/210] START max_depth=10, max_features=7, n_estimators=70...........\n",
      "[CV 3/5; 195/210] END max_depth=10, max_features=7, n_estimators=70; total time=   2.7s\n",
      "[CV 4/5; 195/210] START max_depth=10, max_features=7, n_estimators=70...........\n",
      "[CV 4/5; 195/210] END max_depth=10, max_features=7, n_estimators=70; total time=   2.8s\n",
      "[CV 5/5; 195/210] START max_depth=10, max_features=7, n_estimators=70...........\n",
      "[CV 5/5; 195/210] END max_depth=10, max_features=7, n_estimators=70; total time=   2.7s\n",
      "[CV 1/5; 196/210] START max_depth=10, max_features=7, n_estimators=75...........\n",
      "[CV 1/5; 196/210] END max_depth=10, max_features=7, n_estimators=75; total time=   2.9s\n",
      "[CV 2/5; 196/210] START max_depth=10, max_features=7, n_estimators=75...........\n",
      "[CV 2/5; 196/210] END max_depth=10, max_features=7, n_estimators=75; total time=   3.0s\n",
      "[CV 3/5; 196/210] START max_depth=10, max_features=7, n_estimators=75...........\n",
      "[CV 3/5; 196/210] END max_depth=10, max_features=7, n_estimators=75; total time=   3.1s\n",
      "[CV 4/5; 196/210] START max_depth=10, max_features=7, n_estimators=75...........\n",
      "[CV 4/5; 196/210] END max_depth=10, max_features=7, n_estimators=75; total time=   3.0s\n",
      "[CV 5/5; 196/210] START max_depth=10, max_features=7, n_estimators=75...........\n",
      "[CV 5/5; 196/210] END max_depth=10, max_features=7, n_estimators=75; total time=   2.9s\n",
      "[CV 1/5; 197/210] START max_depth=10, max_features=9, n_estimators=10...........\n",
      "[CV 1/5; 197/210] END max_depth=10, max_features=9, n_estimators=10; total time=   0.5s\n",
      "[CV 2/5; 197/210] START max_depth=10, max_features=9, n_estimators=10...........\n",
      "[CV 2/5; 197/210] END max_depth=10, max_features=9, n_estimators=10; total time=   0.5s\n",
      "[CV 3/5; 197/210] START max_depth=10, max_features=9, n_estimators=10...........\n",
      "[CV 3/5; 197/210] END max_depth=10, max_features=9, n_estimators=10; total time=   0.5s\n",
      "[CV 4/5; 197/210] START max_depth=10, max_features=9, n_estimators=10...........\n",
      "[CV 4/5; 197/210] END max_depth=10, max_features=9, n_estimators=10; total time=   0.6s\n",
      "[CV 5/5; 197/210] START max_depth=10, max_features=9, n_estimators=10...........\n",
      "[CV 5/5; 197/210] END max_depth=10, max_features=9, n_estimators=10; total time=   0.5s\n",
      "[CV 1/5; 198/210] START max_depth=10, max_features=9, n_estimators=15...........\n",
      "[CV 1/5; 198/210] END max_depth=10, max_features=9, n_estimators=15; total time=   0.7s\n",
      "[CV 2/5; 198/210] START max_depth=10, max_features=9, n_estimators=15...........\n",
      "[CV 2/5; 198/210] END max_depth=10, max_features=9, n_estimators=15; total time=   0.8s\n",
      "[CV 3/5; 198/210] START max_depth=10, max_features=9, n_estimators=15...........\n",
      "[CV 3/5; 198/210] END max_depth=10, max_features=9, n_estimators=15; total time=   0.7s\n",
      "[CV 4/5; 198/210] START max_depth=10, max_features=9, n_estimators=15...........\n",
      "[CV 4/5; 198/210] END max_depth=10, max_features=9, n_estimators=15; total time=   0.8s\n",
      "[CV 5/5; 198/210] START max_depth=10, max_features=9, n_estimators=15...........\n",
      "[CV 5/5; 198/210] END max_depth=10, max_features=9, n_estimators=15; total time=   0.8s\n",
      "[CV 1/5; 199/210] START max_depth=10, max_features=9, n_estimators=20...........\n",
      "[CV 1/5; 199/210] END max_depth=10, max_features=9, n_estimators=20; total time=   1.3s\n",
      "[CV 2/5; 199/210] START max_depth=10, max_features=9, n_estimators=20...........\n",
      "[CV 2/5; 199/210] END max_depth=10, max_features=9, n_estimators=20; total time=   1.0s\n",
      "[CV 3/5; 199/210] START max_depth=10, max_features=9, n_estimators=20...........\n",
      "[CV 3/5; 199/210] END max_depth=10, max_features=9, n_estimators=20; total time=   1.0s\n",
      "[CV 4/5; 199/210] START max_depth=10, max_features=9, n_estimators=20...........\n",
      "[CV 4/5; 199/210] END max_depth=10, max_features=9, n_estimators=20; total time=   1.0s\n",
      "[CV 5/5; 199/210] START max_depth=10, max_features=9, n_estimators=20...........\n",
      "[CV 5/5; 199/210] END max_depth=10, max_features=9, n_estimators=20; total time=   1.1s\n",
      "[CV 1/5; 200/210] START max_depth=10, max_features=9, n_estimators=25...........\n",
      "[CV 1/5; 200/210] END max_depth=10, max_features=9, n_estimators=25; total time=   1.6s\n",
      "[CV 2/5; 200/210] START max_depth=10, max_features=9, n_estimators=25...........\n",
      "[CV 2/5; 200/210] END max_depth=10, max_features=9, n_estimators=25; total time=   1.4s\n",
      "[CV 3/5; 200/210] START max_depth=10, max_features=9, n_estimators=25...........\n",
      "[CV 3/5; 200/210] END max_depth=10, max_features=9, n_estimators=25; total time=   1.3s\n",
      "[CV 4/5; 200/210] START max_depth=10, max_features=9, n_estimators=25...........\n",
      "[CV 4/5; 200/210] END max_depth=10, max_features=9, n_estimators=25; total time=   1.4s\n",
      "[CV 5/5; 200/210] START max_depth=10, max_features=9, n_estimators=25...........\n",
      "[CV 5/5; 200/210] END max_depth=10, max_features=9, n_estimators=25; total time=   1.4s\n",
      "[CV 1/5; 201/210] START max_depth=10, max_features=9, n_estimators=30...........\n",
      "[CV 1/5; 201/210] END max_depth=10, max_features=9, n_estimators=30; total time=   2.2s\n",
      "[CV 2/5; 201/210] START max_depth=10, max_features=9, n_estimators=30...........\n",
      "[CV 2/5; 201/210] END max_depth=10, max_features=9, n_estimators=30; total time=   2.2s\n",
      "[CV 3/5; 201/210] START max_depth=10, max_features=9, n_estimators=30...........\n",
      "[CV 3/5; 201/210] END max_depth=10, max_features=9, n_estimators=30; total time=   1.6s\n",
      "[CV 4/5; 201/210] START max_depth=10, max_features=9, n_estimators=30...........\n",
      "[CV 4/5; 201/210] END max_depth=10, max_features=9, n_estimators=30; total time=   1.5s\n",
      "[CV 5/5; 201/210] START max_depth=10, max_features=9, n_estimators=30...........\n",
      "[CV 5/5; 201/210] END max_depth=10, max_features=9, n_estimators=30; total time=   1.5s\n",
      "[CV 1/5; 202/210] START max_depth=10, max_features=9, n_estimators=35...........\n",
      "[CV 1/5; 202/210] END max_depth=10, max_features=9, n_estimators=35; total time=   2.0s\n",
      "[CV 2/5; 202/210] START max_depth=10, max_features=9, n_estimators=35...........\n",
      "[CV 2/5; 202/210] END max_depth=10, max_features=9, n_estimators=35; total time=   2.5s\n",
      "[CV 3/5; 202/210] START max_depth=10, max_features=9, n_estimators=35...........\n",
      "[CV 3/5; 202/210] END max_depth=10, max_features=9, n_estimators=35; total time=   2.4s\n",
      "[CV 4/5; 202/210] START max_depth=10, max_features=9, n_estimators=35...........\n",
      "[CV 4/5; 202/210] END max_depth=10, max_features=9, n_estimators=35; total time=   2.4s\n",
      "[CV 5/5; 202/210] START max_depth=10, max_features=9, n_estimators=35...........\n",
      "[CV 5/5; 202/210] END max_depth=10, max_features=9, n_estimators=35; total time=   2.4s\n",
      "[CV 1/5; 203/210] START max_depth=10, max_features=9, n_estimators=40...........\n",
      "[CV 1/5; 203/210] END max_depth=10, max_features=9, n_estimators=40; total time=   2.7s\n",
      "[CV 2/5; 203/210] START max_depth=10, max_features=9, n_estimators=40...........\n",
      "[CV 2/5; 203/210] END max_depth=10, max_features=9, n_estimators=40; total time=   2.7s\n",
      "[CV 3/5; 203/210] START max_depth=10, max_features=9, n_estimators=40...........\n",
      "[CV 3/5; 203/210] END max_depth=10, max_features=9, n_estimators=40; total time=   2.8s\n",
      "[CV 4/5; 203/210] START max_depth=10, max_features=9, n_estimators=40...........\n",
      "[CV 4/5; 203/210] END max_depth=10, max_features=9, n_estimators=40; total time=   2.9s\n",
      "[CV 5/5; 203/210] START max_depth=10, max_features=9, n_estimators=40...........\n",
      "[CV 5/5; 203/210] END max_depth=10, max_features=9, n_estimators=40; total time=   2.8s\n",
      "[CV 1/5; 204/210] START max_depth=10, max_features=9, n_estimators=45...........\n",
      "[CV 1/5; 204/210] END max_depth=10, max_features=9, n_estimators=45; total time=   3.1s\n",
      "[CV 2/5; 204/210] START max_depth=10, max_features=9, n_estimators=45...........\n",
      "[CV 2/5; 204/210] END max_depth=10, max_features=9, n_estimators=45; total time=   3.1s\n",
      "[CV 3/5; 204/210] START max_depth=10, max_features=9, n_estimators=45...........\n",
      "[CV 3/5; 204/210] END max_depth=10, max_features=9, n_estimators=45; total time=   3.1s\n",
      "[CV 4/5; 204/210] START max_depth=10, max_features=9, n_estimators=45...........\n",
      "[CV 4/5; 204/210] END max_depth=10, max_features=9, n_estimators=45; total time=   3.1s\n",
      "[CV 5/5; 204/210] START max_depth=10, max_features=9, n_estimators=45...........\n",
      "[CV 5/5; 204/210] END max_depth=10, max_features=9, n_estimators=45; total time=   3.1s\n",
      "[CV 1/5; 205/210] START max_depth=10, max_features=9, n_estimators=50...........\n",
      "[CV 1/5; 205/210] END max_depth=10, max_features=9, n_estimators=50; total time=   3.4s\n",
      "[CV 2/5; 205/210] START max_depth=10, max_features=9, n_estimators=50...........\n",
      "[CV 2/5; 205/210] END max_depth=10, max_features=9, n_estimators=50; total time=   3.4s\n",
      "[CV 3/5; 205/210] START max_depth=10, max_features=9, n_estimators=50...........\n",
      "[CV 3/5; 205/210] END max_depth=10, max_features=9, n_estimators=50; total time=   3.4s\n",
      "[CV 4/5; 205/210] START max_depth=10, max_features=9, n_estimators=50...........\n",
      "[CV 4/5; 205/210] END max_depth=10, max_features=9, n_estimators=50; total time=   3.4s\n",
      "[CV 5/5; 205/210] START max_depth=10, max_features=9, n_estimators=50...........\n",
      "[CV 5/5; 205/210] END max_depth=10, max_features=9, n_estimators=50; total time=   3.4s\n",
      "[CV 1/5; 206/210] START max_depth=10, max_features=9, n_estimators=55...........\n",
      "[CV 1/5; 206/210] END max_depth=10, max_features=9, n_estimators=55; total time=   3.7s\n",
      "[CV 2/5; 206/210] START max_depth=10, max_features=9, n_estimators=55...........\n",
      "[CV 2/5; 206/210] END max_depth=10, max_features=9, n_estimators=55; total time=   3.8s\n",
      "[CV 3/5; 206/210] START max_depth=10, max_features=9, n_estimators=55...........\n",
      "[CV 3/5; 206/210] END max_depth=10, max_features=9, n_estimators=55; total time=   3.7s\n",
      "[CV 4/5; 206/210] START max_depth=10, max_features=9, n_estimators=55...........\n",
      "[CV 4/5; 206/210] END max_depth=10, max_features=9, n_estimators=55; total time=   3.7s\n",
      "[CV 5/5; 206/210] START max_depth=10, max_features=9, n_estimators=55...........\n",
      "[CV 5/5; 206/210] END max_depth=10, max_features=9, n_estimators=55; total time=   3.7s\n",
      "[CV 1/5; 207/210] START max_depth=10, max_features=9, n_estimators=60...........\n",
      "[CV 1/5; 207/210] END max_depth=10, max_features=9, n_estimators=60; total time=   4.1s\n",
      "[CV 2/5; 207/210] START max_depth=10, max_features=9, n_estimators=60...........\n",
      "[CV 2/5; 207/210] END max_depth=10, max_features=9, n_estimators=60; total time=   4.1s\n",
      "[CV 3/5; 207/210] START max_depth=10, max_features=9, n_estimators=60...........\n",
      "[CV 3/5; 207/210] END max_depth=10, max_features=9, n_estimators=60; total time=   3.8s\n",
      "[CV 4/5; 207/210] START max_depth=10, max_features=9, n_estimators=60...........\n",
      "[CV 4/5; 207/210] END max_depth=10, max_features=9, n_estimators=60; total time=   2.9s\n",
      "[CV 5/5; 207/210] START max_depth=10, max_features=9, n_estimators=60...........\n",
      "[CV 5/5; 207/210] END max_depth=10, max_features=9, n_estimators=60; total time=   3.1s\n",
      "[CV 1/5; 208/210] START max_depth=10, max_features=9, n_estimators=65...........\n",
      "[CV 1/5; 208/210] END max_depth=10, max_features=9, n_estimators=65; total time=   3.4s\n",
      "[CV 2/5; 208/210] START max_depth=10, max_features=9, n_estimators=65...........\n",
      "[CV 2/5; 208/210] END max_depth=10, max_features=9, n_estimators=65; total time=   3.4s\n",
      "[CV 3/5; 208/210] START max_depth=10, max_features=9, n_estimators=65...........\n",
      "[CV 3/5; 208/210] END max_depth=10, max_features=9, n_estimators=65; total time=   3.2s\n",
      "[CV 4/5; 208/210] START max_depth=10, max_features=9, n_estimators=65...........\n",
      "[CV 4/5; 208/210] END max_depth=10, max_features=9, n_estimators=65; total time=   3.1s\n",
      "[CV 5/5; 208/210] START max_depth=10, max_features=9, n_estimators=65...........\n",
      "[CV 5/5; 208/210] END max_depth=10, max_features=9, n_estimators=65; total time=   3.3s\n",
      "[CV 1/5; 209/210] START max_depth=10, max_features=9, n_estimators=70...........\n",
      "[CV 1/5; 209/210] END max_depth=10, max_features=9, n_estimators=70; total time=   3.6s\n",
      "[CV 2/5; 209/210] START max_depth=10, max_features=9, n_estimators=70...........\n",
      "[CV 2/5; 209/210] END max_depth=10, max_features=9, n_estimators=70; total time=   4.0s\n",
      "[CV 3/5; 209/210] START max_depth=10, max_features=9, n_estimators=70...........\n",
      "[CV 3/5; 209/210] END max_depth=10, max_features=9, n_estimators=70; total time=   3.5s\n",
      "[CV 4/5; 209/210] START max_depth=10, max_features=9, n_estimators=70...........\n",
      "[CV 4/5; 209/210] END max_depth=10, max_features=9, n_estimators=70; total time=   3.4s\n",
      "[CV 5/5; 209/210] START max_depth=10, max_features=9, n_estimators=70...........\n",
      "[CV 5/5; 209/210] END max_depth=10, max_features=9, n_estimators=70; total time=   3.5s\n",
      "[CV 1/5; 210/210] START max_depth=10, max_features=9, n_estimators=75...........\n",
      "[CV 1/5; 210/210] END max_depth=10, max_features=9, n_estimators=75; total time=   3.8s\n",
      "[CV 2/5; 210/210] START max_depth=10, max_features=9, n_estimators=75...........\n",
      "[CV 2/5; 210/210] END max_depth=10, max_features=9, n_estimators=75; total time=   3.7s\n",
      "[CV 3/5; 210/210] START max_depth=10, max_features=9, n_estimators=75...........\n",
      "[CV 3/5; 210/210] END max_depth=10, max_features=9, n_estimators=75; total time=   3.7s\n",
      "[CV 4/5; 210/210] START max_depth=10, max_features=9, n_estimators=75...........\n",
      "[CV 4/5; 210/210] END max_depth=10, max_features=9, n_estimators=75; total time=   3.9s\n",
      "[CV 5/5; 210/210] START max_depth=10, max_features=9, n_estimators=75...........\n",
      "[CV 5/5; 210/210] END max_depth=10, max_features=9, n_estimators=75; total time=   3.8s\n",
      "{'max_depth': 6, 'max_features': 7, 'n_estimators': 15}\n",
      "{'max_depth': 8, 'max_features': 7, 'n_estimators': 45}\n"
     ]
    }
   ],
   "source": [
    "from sklearn.metrics import make_scorer\n",
    "\n",
    "score = make_scorer(smape, greater_is_better = False)\n",
    "rm = RandomForestRegressor()\n",
    "\n",
    "parametrs = { 'n_estimators': range (10, 80,5),\n",
    "              'max_depth': range (2,11, 2),\n",
    "               'max_features': range(5,11,2)}\n",
    "\n",
    "grid_r = GridSearchCV(rm, parametrs, cv=5,scoring=score,verbose=10)\n",
    "grid_r.fit(train_feature, train_target['rougher.output.recovery'])\n",
    "grid_f = GridSearchCV(rm, parametrs, cv=5,scoring=score,verbose=10)\n",
    "grid_f.fit(train_feature, train_target['final.output.recovery'])\n",
    "print(grid_r.best_params_)\n",
    "print(grid_f.best_params_)"
   ]
  },
  {
   "cell_type": "code",
   "execution_count": 38,
   "metadata": {
    "scrolled": false
   },
   "outputs": [
    {
     "name": "stdout",
     "output_type": "stream",
     "text": [
      "sMAPE rougher: 5.92 %\n",
      "sMAPE final: 9.04 %\n",
      "Final sMAPE: 8.26 %\n"
     ]
    }
   ],
   "source": [
    "print(f'sMAPE rougher: {-grid_r.best_score_:.2f} %')\n",
    "print(f'sMAPE final: {-grid_f.best_score_:.2f} %')\n",
    "print(f'Final sMAPE: {-final_smape(grid_r.best_score_,grid_f.best_score_):.2f} %')"
   ]
  },
  {
   "cell_type": "code",
   "execution_count": 41,
   "metadata": {},
   "outputs": [
    {
     "data": {
      "text/plain": [
       "RandomForestRegressor(max_depth=8, max_features=7, n_estimators=45)"
      ]
     },
     "execution_count": 41,
     "metadata": {},
     "output_type": "execute_result"
    }
   ],
   "source": [
    "grid_r.best_estimator_\n",
    "grid_f.best_estimator_"
   ]
  },
  {
   "cell_type": "markdown",
   "metadata": {},
   "source": [
    "### Проверка лучшей модели на тестовой выборке"
   ]
  },
  {
   "cell_type": "code",
   "execution_count": 42,
   "metadata": {
    "scrolled": true
   },
   "outputs": [
    {
     "name": "stdout",
     "output_type": "stream",
     "text": [
      "(5105, 52) (5105, 2)\n"
     ]
    }
   ],
   "source": [
    "test = test.dropna()\n",
    "test_target.isna().sum()\n",
    "test_target = test_target.loc[test.index,:]\n",
    "print(test.shape, test_target.shape)"
   ]
  },
  {
   "cell_type": "code",
   "execution_count": 43,
   "metadata": {},
   "outputs": [
    {
     "name": "stdout",
     "output_type": "stream",
     "text": [
      "sMAPE rougher: 4.91 %\n",
      "sMAPE final: 7.53 %\n",
      "Final sMAPE: 6.87%\n"
     ]
    }
   ],
   "source": [
    "rm = RandomForestRegressor(max_depth = 6, max_features = 7, n_estimators = 15)\n",
    "\n",
    "rm.fit(train_feature,train_target['rougher.output.recovery'])\n",
    "test_predict_r = rm.predict(test)\n",
    "smape_r = smape(test_target['rougher.output.recovery'], test_predict_r)\n",
    "\n",
    "\n",
    "rm = RandomForestRegressor(max_depth = 8, max_features = 7, n_estimators = 45)\n",
    "\n",
    "rm.fit(train_feature,train_target['final.output.recovery'])\n",
    "test_predict_f = rm.predict(test)\n",
    "smape_f = smape(test_target['final.output.recovery'], test_predict_f)\n",
    "\n",
    "print(f'sMAPE rougher: {smape_r:.2f} %')\n",
    "print(f'sMAPE final: {smape_f:.2f} %')\n",
    "print(f'Final sMAPE: {final_smape(smape_r,smape_f):.2f}%')"
   ]
  },
  {
   "cell_type": "markdown",
   "metadata": {},
   "source": [
    "**Выводы:** Наилучший результат на обучающей и тестовой выборке дал алгоритм RandomForestRegressor, с подобранными гиперпараметрами. Наилучший SMAPE 6.87%"
   ]
  },
  {
   "cell_type": "markdown",
   "metadata": {},
   "source": [
    "## Общий вывод"
   ]
  },
  {
   "cell_type": "markdown",
   "metadata": {},
   "source": [
    "### Проведена подготовка данных\n",
    "- Данные успешно проанализированы. \n",
    "- Показатель эффективности обогащения рассчитан корректно.\n",
    "- Отобраны признаки, не подходящие для обучения\n",
    "\n",
    "\n",
    "### Проведен анализ данных\n",
    "\n",
    "- Исследованы суммарные концентрации металлов (Au, Ag, Pb), на каждом этапе очистки.\n",
    "- Изучено сходство распределений размеров частиц в обучающей и тестовой выборках\n",
    "\n",
    "- Были выявлены и удалены аномальные значения, в результате рассчета суммарной концентрации равной 0.\n",
    "\n",
    "### Обучение моделей и подбор гипермараметров\n",
    "\n",
    "- Данные обучены на моделях Линейной регрессии, Случайный лес.\n",
    "- Была создана новая метрика расчета эффективности rmse\n",
    "- Проведено сравнение метрики RMSE для Линейной регрессии на данных, в случае разных обработок пропусков. Лучшую эффективность модель показала при удалении пропусков\n",
    "- Создана новая метрика эффективности RMSE\n",
    "- LinearRegression на данных с удаленными пропусками, показала RMSE 9.38 %\n",
    "- LinearRegression на данных с заполненными пропусками, показала RMSE 10.03 %\n",
    "- RandomForestRegressor с подобранными гиперпараметрами, показала RMSE 6.87%"
   ]
  }
 ],
 "metadata": {
  "ExecuteTimeLog": [
   {
    "duration": 142,
    "start_time": "2022-04-11T08:20:04.259Z"
   },
   {
    "duration": 488,
    "start_time": "2022-04-11T08:20:06.915Z"
   },
   {
    "duration": 231,
    "start_time": "2022-04-11T08:20:08.290Z"
   },
   {
    "duration": 94,
    "start_time": "2022-04-11T08:22:14.470Z"
   },
   {
    "duration": 5,
    "start_time": "2022-04-11T08:22:19.907Z"
   },
   {
    "duration": 925,
    "start_time": "2022-04-11T08:22:21.922Z"
   },
   {
    "duration": 5,
    "start_time": "2022-04-11T08:22:52.110Z"
   },
   {
    "duration": 925,
    "start_time": "2022-04-11T08:22:54.254Z"
   },
   {
    "duration": 5,
    "start_time": "2022-04-11T08:24:19.273Z"
   },
   {
    "duration": 1114,
    "start_time": "2022-04-11T08:24:21.614Z"
   },
   {
    "duration": 4,
    "start_time": "2022-04-11T08:24:43.581Z"
   },
   {
    "duration": 987,
    "start_time": "2022-04-11T08:24:45.700Z"
   },
   {
    "duration": 4,
    "start_time": "2022-04-11T09:03:04.509Z"
   },
   {
    "duration": 1017,
    "start_time": "2022-04-11T09:03:06.698Z"
   },
   {
    "duration": 79,
    "start_time": "2022-04-12T09:00:24.258Z"
   },
   {
    "duration": 650,
    "start_time": "2022-04-12T09:00:38.382Z"
   },
   {
    "duration": 5,
    "start_time": "2022-04-12T09:00:39.035Z"
   },
   {
    "duration": 1064,
    "start_time": "2022-04-12T09:00:39.043Z"
   },
   {
    "duration": 8,
    "start_time": "2022-04-12T09:00:40.110Z"
   },
   {
    "duration": 11,
    "start_time": "2022-04-12T09:02:45.391Z"
   },
   {
    "duration": 3429,
    "start_time": "2022-04-12T09:03:12.263Z"
   },
   {
    "duration": 5,
    "start_time": "2022-04-12T09:03:24.828Z"
   },
   {
    "duration": 3,
    "start_time": "2022-04-12T09:08:12.438Z"
   },
   {
    "duration": 579,
    "start_time": "2022-04-12T09:08:13.714Z"
   },
   {
    "duration": 3915,
    "start_time": "2022-04-12T09:09:01.695Z"
   },
   {
    "duration": 577,
    "start_time": "2022-04-12T09:09:25.486Z"
   },
   {
    "duration": 5,
    "start_time": "2022-04-12T09:09:47.720Z"
   },
   {
    "duration": 570,
    "start_time": "2022-04-12T09:09:50.040Z"
   },
   {
    "duration": 576,
    "start_time": "2022-04-12T09:13:21.319Z"
   },
   {
    "duration": 1071,
    "start_time": "2022-04-12T09:13:32.173Z"
   },
   {
    "duration": 592,
    "start_time": "2022-04-12T09:13:38.735Z"
   },
   {
    "duration": 622,
    "start_time": "2022-04-12T09:13:50.873Z"
   },
   {
    "duration": 188,
    "start_time": "2022-04-12T09:14:23.728Z"
   },
   {
    "duration": 213,
    "start_time": "2022-04-12T09:14:27.278Z"
   },
   {
    "duration": 597,
    "start_time": "2022-04-12T09:14:31.030Z"
   },
   {
    "duration": 4,
    "start_time": "2022-04-12T09:37:07.469Z"
   },
   {
    "duration": 19,
    "start_time": "2022-04-12T09:37:07.475Z"
   },
   {
    "duration": 111,
    "start_time": "2022-04-12T09:37:07.498Z"
   },
   {
    "duration": 0,
    "start_time": "2022-04-12T09:37:07.613Z"
   },
   {
    "duration": 0,
    "start_time": "2022-04-12T09:37:07.615Z"
   },
   {
    "duration": 0,
    "start_time": "2022-04-12T09:37:07.617Z"
   },
   {
    "duration": 3,
    "start_time": "2022-04-12T09:37:48.948Z"
   },
   {
    "duration": 7,
    "start_time": "2022-04-12T09:37:48.955Z"
   },
   {
    "duration": 1042,
    "start_time": "2022-04-12T09:37:48.965Z"
   },
   {
    "duration": 8,
    "start_time": "2022-04-12T09:37:50.011Z"
   },
   {
    "duration": 12,
    "start_time": "2022-04-12T09:37:50.022Z"
   },
   {
    "duration": 629,
    "start_time": "2022-04-12T09:37:50.037Z"
   },
   {
    "duration": 119,
    "start_time": "2022-04-12T09:43:09.187Z"
   },
   {
    "duration": 113,
    "start_time": "2022-04-12T09:43:15.101Z"
   },
   {
    "duration": 79,
    "start_time": "2022-04-12T09:43:18.880Z"
   },
   {
    "duration": 80,
    "start_time": "2022-04-12T09:43:45.247Z"
   },
   {
    "duration": 65,
    "start_time": "2022-04-12T09:44:00.954Z"
   },
   {
    "duration": 12,
    "start_time": "2022-04-12T09:46:03.699Z"
   },
   {
    "duration": 21,
    "start_time": "2022-04-12T09:46:13.551Z"
   },
   {
    "duration": 18,
    "start_time": "2022-04-12T09:46:30.767Z"
   },
   {
    "duration": 5,
    "start_time": "2022-04-12T09:47:45.577Z"
   },
   {
    "duration": 8,
    "start_time": "2022-04-12T09:48:06.093Z"
   },
   {
    "duration": 7,
    "start_time": "2022-04-12T09:48:27.512Z"
   },
   {
    "duration": 6,
    "start_time": "2022-04-12T09:48:54.373Z"
   },
   {
    "duration": 11,
    "start_time": "2022-04-12T09:49:08.765Z"
   },
   {
    "duration": 6,
    "start_time": "2022-04-12T09:49:17.457Z"
   },
   {
    "duration": 7,
    "start_time": "2022-04-12T09:49:21.637Z"
   },
   {
    "duration": 11,
    "start_time": "2022-04-12T09:51:13.512Z"
   },
   {
    "duration": 191,
    "start_time": "2022-04-12T09:51:35.462Z"
   },
   {
    "duration": 8,
    "start_time": "2022-04-12T09:51:38.073Z"
   },
   {
    "duration": 52,
    "start_time": "2022-04-12T19:24:22.349Z"
   },
   {
    "duration": 1353,
    "start_time": "2022-04-12T19:24:26.528Z"
   },
   {
    "duration": 3,
    "start_time": "2022-04-12T19:24:27.883Z"
   },
   {
    "duration": 10603,
    "start_time": "2022-04-12T19:24:27.887Z"
   },
   {
    "duration": 4,
    "start_time": "2022-04-12T19:24:38.492Z"
   },
   {
    "duration": 4,
    "start_time": "2022-04-12T19:24:38.498Z"
   },
   {
    "duration": 341,
    "start_time": "2022-04-12T19:24:38.504Z"
   },
   {
    "duration": 5,
    "start_time": "2022-04-12T19:24:38.847Z"
   },
   {
    "duration": 22,
    "start_time": "2022-04-12T19:24:38.854Z"
   },
   {
    "duration": 72,
    "start_time": "2022-04-12T19:34:00.627Z"
   },
   {
    "duration": 8,
    "start_time": "2022-04-12T19:35:54.334Z"
   },
   {
    "duration": 7,
    "start_time": "2022-04-12T19:36:30.210Z"
   },
   {
    "duration": 13,
    "start_time": "2022-04-12T19:36:36.377Z"
   },
   {
    "duration": 12,
    "start_time": "2022-04-12T19:36:42.793Z"
   },
   {
    "duration": 12,
    "start_time": "2022-04-12T19:36:48.770Z"
   },
   {
    "duration": 40,
    "start_time": "2022-04-12T19:46:24.506Z"
   },
   {
    "duration": 5,
    "start_time": "2022-04-12T19:46:52.000Z"
   },
   {
    "duration": 50,
    "start_time": "2022-04-13T06:19:19.009Z"
   },
   {
    "duration": 1226,
    "start_time": "2022-04-13T06:19:41.761Z"
   },
   {
    "duration": 3,
    "start_time": "2022-04-13T06:19:42.989Z"
   },
   {
    "duration": 825,
    "start_time": "2022-04-13T06:19:42.994Z"
   },
   {
    "duration": 4,
    "start_time": "2022-04-13T06:19:43.821Z"
   },
   {
    "duration": 10,
    "start_time": "2022-04-13T06:19:43.827Z"
   },
   {
    "duration": 308,
    "start_time": "2022-04-13T06:19:43.839Z"
   },
   {
    "duration": 4,
    "start_time": "2022-04-13T06:19:44.149Z"
   },
   {
    "duration": 32,
    "start_time": "2022-04-13T06:19:44.155Z"
   },
   {
    "duration": 15,
    "start_time": "2022-04-13T06:19:44.189Z"
   },
   {
    "duration": 28,
    "start_time": "2022-04-13T06:19:48.947Z"
   },
   {
    "duration": 59,
    "start_time": "2022-04-13T06:20:18.162Z"
   },
   {
    "duration": 22,
    "start_time": "2022-04-13T06:20:38.072Z"
   },
   {
    "duration": 32,
    "start_time": "2022-04-13T06:20:52.140Z"
   },
   {
    "duration": 2207,
    "start_time": "2022-04-13T06:21:14.313Z"
   },
   {
    "duration": 11,
    "start_time": "2022-04-13T06:21:19.928Z"
   },
   {
    "duration": 3,
    "start_time": "2022-04-13T06:21:28.448Z"
   },
   {
    "duration": 6,
    "start_time": "2022-04-13T06:21:38.756Z"
   },
   {
    "duration": 27,
    "start_time": "2022-04-13T06:21:52.044Z"
   },
   {
    "duration": 8,
    "start_time": "2022-04-13T06:22:00.254Z"
   },
   {
    "duration": 7,
    "start_time": "2022-04-13T06:23:42.555Z"
   },
   {
    "duration": 8,
    "start_time": "2022-04-13T06:23:49.906Z"
   },
   {
    "duration": 7,
    "start_time": "2022-04-13T06:24:19.167Z"
   },
   {
    "duration": 25,
    "start_time": "2022-04-13T06:24:27.135Z"
   },
   {
    "duration": 5,
    "start_time": "2022-04-13T06:24:39.499Z"
   },
   {
    "duration": 12,
    "start_time": "2022-04-13T06:25:05.570Z"
   },
   {
    "duration": 13,
    "start_time": "2022-04-13T06:25:14.213Z"
   },
   {
    "duration": 31,
    "start_time": "2022-04-13T06:25:22.198Z"
   },
   {
    "duration": 11,
    "start_time": "2022-04-13T06:25:35.231Z"
   },
   {
    "duration": 12,
    "start_time": "2022-04-13T06:26:12.038Z"
   },
   {
    "duration": 10,
    "start_time": "2022-04-13T06:26:20.638Z"
   },
   {
    "duration": 36,
    "start_time": "2022-04-13T06:26:41.851Z"
   },
   {
    "duration": 9,
    "start_time": "2022-04-13T06:29:38.849Z"
   },
   {
    "duration": 28,
    "start_time": "2022-04-13T06:29:43.215Z"
   },
   {
    "duration": 8,
    "start_time": "2022-04-13T06:30:25.061Z"
   },
   {
    "duration": 14,
    "start_time": "2022-04-13T06:30:30.564Z"
   },
   {
    "duration": 6,
    "start_time": "2022-04-13T06:30:37.727Z"
   },
   {
    "duration": 8,
    "start_time": "2022-04-13T06:31:14.971Z"
   },
   {
    "duration": 11,
    "start_time": "2022-04-13T06:31:19.243Z"
   },
   {
    "duration": 6,
    "start_time": "2022-04-13T06:31:25.915Z"
   },
   {
    "duration": 190,
    "start_time": "2022-04-13T06:32:59.292Z"
   },
   {
    "duration": 10,
    "start_time": "2022-04-13T06:37:43.713Z"
   },
   {
    "duration": 27,
    "start_time": "2022-04-13T06:37:56.840Z"
   },
   {
    "duration": 7,
    "start_time": "2022-04-13T06:38:01.659Z"
   },
   {
    "duration": 10,
    "start_time": "2022-04-13T06:40:37.882Z"
   },
   {
    "duration": 10,
    "start_time": "2022-04-13T06:40:44.306Z"
   },
   {
    "duration": 9,
    "start_time": "2022-04-13T06:41:52.547Z"
   },
   {
    "duration": 8,
    "start_time": "2022-04-13T06:42:18.305Z"
   },
   {
    "duration": 503,
    "start_time": "2022-04-13T07:02:02.948Z"
   },
   {
    "duration": 102233,
    "start_time": "2022-04-13T07:04:06.627Z"
   },
   {
    "duration": 148,
    "start_time": "2022-04-13T07:05:57.124Z"
   },
   {
    "duration": 169,
    "start_time": "2022-04-13T07:06:08.574Z"
   },
   {
    "duration": 905,
    "start_time": "2022-04-13T07:06:21.806Z"
   },
   {
    "duration": 155,
    "start_time": "2022-04-13T07:12:51.475Z"
   },
   {
    "duration": 154,
    "start_time": "2022-04-13T07:13:10.231Z"
   },
   {
    "duration": 161,
    "start_time": "2022-04-13T07:13:30.461Z"
   },
   {
    "duration": 2512,
    "start_time": "2022-04-13T07:13:51.613Z"
   },
   {
    "duration": 2752,
    "start_time": "2022-04-13T07:14:12.511Z"
   },
   {
    "duration": 217,
    "start_time": "2022-04-13T07:14:35.795Z"
   },
   {
    "duration": 206,
    "start_time": "2022-04-13T07:14:41.157Z"
   },
   {
    "duration": 209,
    "start_time": "2022-04-13T07:15:59.087Z"
   },
   {
    "duration": 2473,
    "start_time": "2022-04-13T07:16:15.544Z"
   },
   {
    "duration": 2685,
    "start_time": "2022-04-13T07:16:20.851Z"
   },
   {
    "duration": 2510,
    "start_time": "2022-04-13T07:18:14.462Z"
   },
   {
    "duration": 348,
    "start_time": "2022-04-13T07:21:52.524Z"
   },
   {
    "duration": 284,
    "start_time": "2022-04-13T07:22:26.863Z"
   },
   {
    "duration": 293,
    "start_time": "2022-04-13T07:22:53.220Z"
   },
   {
    "duration": 285,
    "start_time": "2022-04-13T07:23:00.101Z"
   },
   {
    "duration": 299,
    "start_time": "2022-04-13T07:23:12.263Z"
   },
   {
    "duration": 294,
    "start_time": "2022-04-13T07:23:18.047Z"
   },
   {
    "duration": 311,
    "start_time": "2022-04-13T07:23:33.986Z"
   },
   {
    "duration": 295,
    "start_time": "2022-04-13T07:23:50.354Z"
   },
   {
    "duration": 348,
    "start_time": "2022-04-13T07:25:47.913Z"
   },
   {
    "duration": 319,
    "start_time": "2022-04-13T07:26:05.109Z"
   },
   {
    "duration": 470,
    "start_time": "2022-04-13T07:26:17.662Z"
   },
   {
    "duration": 1395,
    "start_time": "2022-04-13T07:27:45.956Z"
   },
   {
    "duration": 148,
    "start_time": "2022-04-13T07:27:57.437Z"
   },
   {
    "duration": 14,
    "start_time": "2022-04-13T07:28:00.236Z"
   },
   {
    "duration": 146,
    "start_time": "2022-04-13T07:29:04.086Z"
   },
   {
    "duration": 584,
    "start_time": "2022-04-13T07:29:13.439Z"
   },
   {
    "duration": 572,
    "start_time": "2022-04-13T07:29:27.405Z"
   },
   {
    "duration": 593,
    "start_time": "2022-04-13T07:29:38.652Z"
   },
   {
    "duration": 574,
    "start_time": "2022-04-13T07:29:49.644Z"
   },
   {
    "duration": 705,
    "start_time": "2022-04-13T07:31:24.009Z"
   },
   {
    "duration": 738,
    "start_time": "2022-04-13T07:34:09.977Z"
   },
   {
    "duration": 6,
    "start_time": "2022-04-13T07:38:09.019Z"
   },
   {
    "duration": 9,
    "start_time": "2022-04-13T07:38:23.039Z"
   },
   {
    "duration": 738,
    "start_time": "2022-04-13T07:38:27.502Z"
   },
   {
    "duration": 1969,
    "start_time": "2022-04-13T07:38:43.023Z"
   },
   {
    "duration": 5,
    "start_time": "2022-04-13T07:39:11.251Z"
   },
   {
    "duration": 600,
    "start_time": "2022-04-13T07:39:13.732Z"
   },
   {
    "duration": 6,
    "start_time": "2022-04-13T07:39:21.094Z"
   },
   {
    "duration": 6,
    "start_time": "2022-04-13T07:39:29.614Z"
   },
   {
    "duration": 583,
    "start_time": "2022-04-13T07:39:31.541Z"
   },
   {
    "duration": 6,
    "start_time": "2022-04-13T07:39:36.316Z"
   },
   {
    "duration": 861,
    "start_time": "2022-04-13T07:39:38.062Z"
   },
   {
    "duration": 747,
    "start_time": "2022-04-13T07:40:03.078Z"
   },
   {
    "duration": 815,
    "start_time": "2022-04-13T07:40:19.110Z"
   },
   {
    "duration": 5,
    "start_time": "2022-04-13T07:40:38.202Z"
   },
   {
    "duration": 729,
    "start_time": "2022-04-13T07:40:40.961Z"
   },
   {
    "duration": 6,
    "start_time": "2022-04-13T07:42:12.123Z"
   },
   {
    "duration": 1901,
    "start_time": "2022-04-13T07:42:14.556Z"
   },
   {
    "duration": 6,
    "start_time": "2022-04-13T07:42:28.541Z"
   },
   {
    "duration": 737,
    "start_time": "2022-04-13T07:42:31.424Z"
   },
   {
    "duration": 6,
    "start_time": "2022-04-13T07:42:41.922Z"
   },
   {
    "duration": 767,
    "start_time": "2022-04-13T07:42:43.920Z"
   },
   {
    "duration": 6,
    "start_time": "2022-04-13T07:43:05.400Z"
   },
   {
    "duration": 260,
    "start_time": "2022-04-13T07:43:10.876Z"
   },
   {
    "duration": 6,
    "start_time": "2022-04-13T07:43:18.548Z"
   },
   {
    "duration": 772,
    "start_time": "2022-04-13T07:43:20.835Z"
   },
   {
    "duration": 143,
    "start_time": "2022-04-13T07:44:34.077Z"
   },
   {
    "duration": 138,
    "start_time": "2022-04-13T07:44:39.139Z"
   },
   {
    "duration": 6,
    "start_time": "2022-04-13T07:44:42.500Z"
   },
   {
    "duration": 808,
    "start_time": "2022-04-13T07:44:44.419Z"
   },
   {
    "duration": 6,
    "start_time": "2022-04-13T07:45:00.959Z"
   },
   {
    "duration": 841,
    "start_time": "2022-04-13T07:45:02.880Z"
   },
   {
    "duration": 6,
    "start_time": "2022-04-13T07:45:12.976Z"
   },
   {
    "duration": 741,
    "start_time": "2022-04-13T07:45:19.201Z"
   },
   {
    "duration": 5,
    "start_time": "2022-04-13T07:45:26.181Z"
   },
   {
    "duration": 1913,
    "start_time": "2022-04-13T07:45:27.883Z"
   },
   {
    "duration": 6,
    "start_time": "2022-04-13T07:45:45.116Z"
   },
   {
    "duration": 872,
    "start_time": "2022-04-13T07:45:47.232Z"
   },
   {
    "duration": 6,
    "start_time": "2022-04-13T07:47:34.189Z"
   },
   {
    "duration": 266,
    "start_time": "2022-04-13T07:47:36.922Z"
   },
   {
    "duration": 6,
    "start_time": "2022-04-13T07:47:43.208Z"
   },
   {
    "duration": 271,
    "start_time": "2022-04-13T07:47:45.199Z"
   },
   {
    "duration": 6,
    "start_time": "2022-04-13T07:52:26.774Z"
   },
   {
    "duration": 598,
    "start_time": "2022-04-13T07:52:29.046Z"
   },
   {
    "duration": 6,
    "start_time": "2022-04-13T07:52:34.785Z"
   },
   {
    "duration": 575,
    "start_time": "2022-04-13T07:52:36.836Z"
   },
   {
    "duration": 6,
    "start_time": "2022-04-13T07:53:06.746Z"
   },
   {
    "duration": 795,
    "start_time": "2022-04-13T07:53:08.665Z"
   },
   {
    "duration": 749,
    "start_time": "2022-04-13T07:53:14.599Z"
   },
   {
    "duration": 6,
    "start_time": "2022-04-13T07:54:35.363Z"
   },
   {
    "duration": 733,
    "start_time": "2022-04-13T07:54:37.212Z"
   },
   {
    "duration": 1932,
    "start_time": "2022-04-13T07:54:40.202Z"
   },
   {
    "duration": 755,
    "start_time": "2022-04-13T07:54:45.383Z"
   },
   {
    "duration": 5,
    "start_time": "2022-04-13T07:54:56.935Z"
   },
   {
    "duration": 826,
    "start_time": "2022-04-13T07:55:00.854Z"
   },
   {
    "duration": 767,
    "start_time": "2022-04-13T07:55:04.478Z"
   },
   {
    "duration": 750,
    "start_time": "2022-04-13T07:55:11.774Z"
   },
   {
    "duration": 5,
    "start_time": "2022-04-13T08:02:27.477Z"
   },
   {
    "duration": 9,
    "start_time": "2022-04-13T08:03:12.139Z"
   },
   {
    "duration": 13,
    "start_time": "2022-04-13T08:03:20.692Z"
   },
   {
    "duration": 778,
    "start_time": "2022-04-13T08:03:27.194Z"
   },
   {
    "duration": 758,
    "start_time": "2022-04-13T08:03:30.675Z"
   },
   {
    "duration": 758,
    "start_time": "2022-04-13T08:03:33.922Z"
   },
   {
    "duration": 9,
    "start_time": "2022-04-13T09:15:51.667Z"
   },
   {
    "duration": 170,
    "start_time": "2022-04-13T09:18:25.449Z"
   },
   {
    "duration": 218,
    "start_time": "2022-04-13T09:18:43.137Z"
   },
   {
    "duration": 1689,
    "start_time": "2022-04-13T09:18:46.049Z"
   },
   {
    "duration": 11,
    "start_time": "2022-04-13T09:19:05.662Z"
   },
   {
    "duration": 471,
    "start_time": "2022-04-13T09:19:19.568Z"
   },
   {
    "duration": 505,
    "start_time": "2022-04-13T09:20:06.726Z"
   },
   {
    "duration": 346,
    "start_time": "2022-04-13T09:21:21.437Z"
   },
   {
    "duration": 437,
    "start_time": "2022-04-13T09:22:11.071Z"
   },
   {
    "duration": 439,
    "start_time": "2022-04-13T09:22:23.839Z"
   },
   {
    "duration": 450,
    "start_time": "2022-04-13T09:23:03.704Z"
   },
   {
    "duration": 426,
    "start_time": "2022-04-13T09:23:14.582Z"
   },
   {
    "duration": 465,
    "start_time": "2022-04-13T09:23:29.167Z"
   },
   {
    "duration": 395,
    "start_time": "2022-04-13T09:23:42.514Z"
   },
   {
    "duration": 445,
    "start_time": "2022-04-13T09:23:51.042Z"
   },
   {
    "duration": 3,
    "start_time": "2022-04-13T09:26:20.096Z"
   },
   {
    "duration": 17,
    "start_time": "2022-04-13T09:29:12.461Z"
   },
   {
    "duration": 16,
    "start_time": "2022-04-13T09:29:46.915Z"
   },
   {
    "duration": 15,
    "start_time": "2022-04-13T09:29:51.085Z"
   },
   {
    "duration": 6,
    "start_time": "2022-04-13T09:30:50.515Z"
   },
   {
    "duration": 8,
    "start_time": "2022-04-13T09:30:58.530Z"
   },
   {
    "duration": 11,
    "start_time": "2022-04-13T09:31:05.450Z"
   },
   {
    "duration": 15,
    "start_time": "2022-04-13T09:31:20.696Z"
   },
   {
    "duration": 11,
    "start_time": "2022-04-13T09:31:33.631Z"
   },
   {
    "duration": 17,
    "start_time": "2022-04-13T09:31:42.646Z"
   },
   {
    "duration": 10,
    "start_time": "2022-04-13T09:31:57.058Z"
   },
   {
    "duration": 9,
    "start_time": "2022-04-13T09:32:14.549Z"
   },
   {
    "duration": 10,
    "start_time": "2022-04-13T09:32:19.709Z"
   },
   {
    "duration": 22,
    "start_time": "2022-04-13T09:33:15.490Z"
   },
   {
    "duration": 20,
    "start_time": "2022-04-13T09:33:35.824Z"
   },
   {
    "duration": 22,
    "start_time": "2022-04-13T09:34:03.633Z"
   },
   {
    "duration": 20,
    "start_time": "2022-04-13T09:34:40.949Z"
   },
   {
    "duration": 21,
    "start_time": "2022-04-13T09:35:00.169Z"
   },
   {
    "duration": 14,
    "start_time": "2022-04-13T09:35:12.616Z"
   },
   {
    "duration": 4,
    "start_time": "2022-04-13T09:35:16.960Z"
   },
   {
    "duration": 5,
    "start_time": "2022-04-13T09:35:24.483Z"
   },
   {
    "duration": 130,
    "start_time": "2022-04-13T09:36:01.601Z"
   },
   {
    "duration": 1183,
    "start_time": "2022-04-13T09:36:12.128Z"
   },
   {
    "duration": 2430,
    "start_time": "2022-04-13T09:36:32.843Z"
   },
   {
    "duration": 120,
    "start_time": "2022-04-13T09:36:43.271Z"
   },
   {
    "duration": 220,
    "start_time": "2022-04-13T09:36:47.224Z"
   },
   {
    "duration": 225,
    "start_time": "2022-04-13T09:36:59.207Z"
   },
   {
    "duration": 230,
    "start_time": "2022-04-13T09:37:04.640Z"
   },
   {
    "duration": 119,
    "start_time": "2022-04-13T09:37:33.180Z"
   },
   {
    "duration": 105,
    "start_time": "2022-04-13T09:37:37.507Z"
   },
   {
    "duration": 111,
    "start_time": "2022-04-13T09:37:50.744Z"
   },
   {
    "duration": 113,
    "start_time": "2022-04-13T09:38:02.048Z"
   },
   {
    "duration": 104,
    "start_time": "2022-04-13T09:38:09.675Z"
   },
   {
    "duration": 3,
    "start_time": "2022-04-13T09:40:40.149Z"
   },
   {
    "duration": 10,
    "start_time": "2022-04-13T09:41:27.990Z"
   },
   {
    "duration": 6,
    "start_time": "2022-04-13T09:42:12.209Z"
   },
   {
    "duration": 153,
    "start_time": "2022-04-13T09:42:18.005Z"
   },
   {
    "duration": 169,
    "start_time": "2022-04-13T09:42:51.665Z"
   },
   {
    "duration": 2369,
    "start_time": "2022-04-13T09:42:57.809Z"
   },
   {
    "duration": 168,
    "start_time": "2022-04-13T09:43:28.573Z"
   },
   {
    "duration": 10,
    "start_time": "2022-04-13T09:43:46.121Z"
   },
   {
    "duration": 10,
    "start_time": "2022-04-13T09:43:51.016Z"
   },
   {
    "duration": 168,
    "start_time": "2022-04-13T09:44:01.608Z"
   },
   {
    "duration": 226,
    "start_time": "2022-04-13T09:50:47.529Z"
   },
   {
    "duration": 7,
    "start_time": "2022-04-13T09:51:00.017Z"
   },
   {
    "duration": 147,
    "start_time": "2022-04-13T09:53:03.436Z"
   },
   {
    "duration": 276,
    "start_time": "2022-04-13T09:53:28.832Z"
   },
   {
    "duration": 526,
    "start_time": "2022-04-13T09:54:32.800Z"
   },
   {
    "duration": 562,
    "start_time": "2022-04-13T10:02:15.428Z"
   },
   {
    "duration": 526,
    "start_time": "2022-04-13T10:02:38.560Z"
   },
   {
    "duration": 535,
    "start_time": "2022-04-13T10:02:51.435Z"
   },
   {
    "duration": 21,
    "start_time": "2022-04-13T10:06:33.809Z"
   },
   {
    "duration": 19,
    "start_time": "2022-04-13T10:06:55.764Z"
   },
   {
    "duration": 21,
    "start_time": "2022-04-13T10:07:00.425Z"
   },
   {
    "duration": 24,
    "start_time": "2022-04-13T10:07:18.318Z"
   },
   {
    "duration": 158,
    "start_time": "2022-04-13T10:07:28.045Z"
   },
   {
    "duration": 611,
    "start_time": "2022-04-13T10:07:35.393Z"
   },
   {
    "duration": 306,
    "start_time": "2022-04-13T10:08:08.853Z"
   },
   {
    "duration": 284,
    "start_time": "2022-04-13T10:08:22.486Z"
   },
   {
    "duration": 316,
    "start_time": "2022-04-13T10:08:34.744Z"
   },
   {
    "duration": 307,
    "start_time": "2022-04-13T10:08:49.505Z"
   },
   {
    "duration": 288,
    "start_time": "2022-04-13T10:09:05.292Z"
   },
   {
    "duration": 309,
    "start_time": "2022-04-13T10:09:28.209Z"
   },
   {
    "duration": 300,
    "start_time": "2022-04-13T10:09:32.463Z"
   },
   {
    "duration": 267,
    "start_time": "2022-04-13T10:09:39.664Z"
   },
   {
    "duration": 392,
    "start_time": "2022-04-13T10:09:43.753Z"
   },
   {
    "duration": 460,
    "start_time": "2022-04-13T10:09:47.898Z"
   },
   {
    "duration": 179,
    "start_time": "2022-04-13T10:10:06.572Z"
   },
   {
    "duration": 298,
    "start_time": "2022-04-13T10:10:21.646Z"
   },
   {
    "duration": 465,
    "start_time": "2022-04-13T10:18:48.311Z"
   },
   {
    "duration": 462,
    "start_time": "2022-04-13T10:18:52.818Z"
   },
   {
    "duration": 7,
    "start_time": "2022-04-13T17:52:10.906Z"
   },
   {
    "duration": 103,
    "start_time": "2022-04-13T18:14:13.832Z"
   },
   {
    "duration": 42,
    "start_time": "2022-04-13T18:14:32.401Z"
   },
   {
    "duration": 1451,
    "start_time": "2022-04-13T18:14:37.339Z"
   },
   {
    "duration": 4,
    "start_time": "2022-04-13T18:14:38.791Z"
   },
   {
    "duration": 720,
    "start_time": "2022-04-13T18:14:38.796Z"
   },
   {
    "duration": 4,
    "start_time": "2022-04-13T18:14:39.518Z"
   },
   {
    "duration": 6,
    "start_time": "2022-04-13T18:14:39.523Z"
   },
   {
    "duration": 270,
    "start_time": "2022-04-13T18:14:39.546Z"
   },
   {
    "duration": 4,
    "start_time": "2022-04-13T18:14:39.817Z"
   },
   {
    "duration": 34,
    "start_time": "2022-04-13T18:14:39.822Z"
   },
   {
    "duration": 8,
    "start_time": "2022-04-13T18:14:39.858Z"
   },
   {
    "duration": 10,
    "start_time": "2022-04-13T18:14:39.868Z"
   },
   {
    "duration": 4,
    "start_time": "2022-04-13T18:14:39.879Z"
   },
   {
    "duration": 11,
    "start_time": "2022-04-13T18:14:39.885Z"
   },
   {
    "duration": 7,
    "start_time": "2022-04-13T18:14:39.898Z"
   },
   {
    "duration": 13,
    "start_time": "2022-04-13T18:14:39.906Z"
   },
   {
    "duration": 4,
    "start_time": "2022-04-13T18:14:39.947Z"
   },
   {
    "duration": 742,
    "start_time": "2022-04-13T18:14:39.953Z"
   },
   {
    "duration": 1185,
    "start_time": "2022-04-13T18:14:40.697Z"
   },
   {
    "duration": 744,
    "start_time": "2022-04-13T18:14:41.884Z"
   },
   {
    "duration": 382,
    "start_time": "2022-04-13T18:14:42.630Z"
   },
   {
    "duration": 418,
    "start_time": "2022-04-13T18:14:43.014Z"
   },
   {
    "duration": 97,
    "start_time": "2022-04-13T18:14:46.463Z"
   },
   {
    "duration": 23,
    "start_time": "2022-04-13T18:14:55.223Z"
   },
   {
    "duration": 26,
    "start_time": "2022-04-13T18:15:12.468Z"
   },
   {
    "duration": 22,
    "start_time": "2022-04-13T18:18:18.443Z"
   },
   {
    "duration": 24,
    "start_time": "2022-04-13T18:18:23.690Z"
   },
   {
    "duration": 29,
    "start_time": "2022-04-13T18:18:32.313Z"
   },
   {
    "duration": 1802,
    "start_time": "2022-04-13T18:18:44.985Z"
   },
   {
    "duration": 2558,
    "start_time": "2022-04-13T18:19:49.210Z"
   },
   {
    "duration": 1693,
    "start_time": "2022-04-13T18:20:22.836Z"
   },
   {
    "duration": 1696,
    "start_time": "2022-04-13T18:21:46.522Z"
   },
   {
    "duration": 1763,
    "start_time": "2022-04-13T18:22:17.003Z"
   },
   {
    "duration": 1268,
    "start_time": "2022-04-13T18:22:51.002Z"
   },
   {
    "duration": 1797,
    "start_time": "2022-04-13T18:23:46.064Z"
   },
   {
    "duration": 24,
    "start_time": "2022-04-13T18:24:03.269Z"
   },
   {
    "duration": 183,
    "start_time": "2022-04-13T18:24:06.617Z"
   },
   {
    "duration": 30663,
    "start_time": "2022-04-13T18:25:57.040Z"
   },
   {
    "duration": 32454,
    "start_time": "2022-04-13T18:27:00.705Z"
   },
   {
    "duration": 99,
    "start_time": "2022-04-13T18:31:46.796Z"
   },
   {
    "duration": 106,
    "start_time": "2022-04-13T18:32:33.721Z"
   },
   {
    "duration": 10,
    "start_time": "2022-04-13T18:32:40.380Z"
   },
   {
    "duration": 11,
    "start_time": "2022-04-13T18:32:45.210Z"
   },
   {
    "duration": 10,
    "start_time": "2022-04-13T18:33:24.146Z"
   },
   {
    "duration": 4,
    "start_time": "2022-04-13T18:33:31.464Z"
   },
   {
    "duration": 25,
    "start_time": "2022-04-13T18:35:06.139Z"
   },
   {
    "duration": 16,
    "start_time": "2022-04-13T18:35:47.806Z"
   },
   {
    "duration": 5,
    "start_time": "2022-04-13T18:35:54.058Z"
   },
   {
    "duration": 11,
    "start_time": "2022-04-13T18:36:14.725Z"
   },
   {
    "duration": 15,
    "start_time": "2022-04-13T18:36:23.605Z"
   },
   {
    "duration": 13,
    "start_time": "2022-04-13T18:36:38.604Z"
   },
   {
    "duration": 22,
    "start_time": "2022-04-13T18:36:59.406Z"
   },
   {
    "duration": 22,
    "start_time": "2022-04-13T18:37:41.029Z"
   },
   {
    "duration": 22,
    "start_time": "2022-04-13T18:37:53.633Z"
   },
   {
    "duration": 4,
    "start_time": "2022-04-13T18:38:41.260Z"
   },
   {
    "duration": 9,
    "start_time": "2022-04-13T18:38:44.440Z"
   },
   {
    "duration": 140,
    "start_time": "2022-04-13T18:39:00.153Z"
   },
   {
    "duration": 172,
    "start_time": "2022-04-13T18:39:19.662Z"
   },
   {
    "duration": 148,
    "start_time": "2022-04-13T18:39:27.692Z"
   },
   {
    "duration": 485,
    "start_time": "2022-04-13T18:39:34.579Z"
   },
   {
    "duration": 418,
    "start_time": "2022-04-13T18:39:45.757Z"
   },
   {
    "duration": 624,
    "start_time": "2022-04-13T18:40:00.599Z"
   },
   {
    "duration": 547,
    "start_time": "2022-04-13T18:40:41.647Z"
   },
   {
    "duration": 13,
    "start_time": "2022-04-13T18:42:22.091Z"
   },
   {
    "duration": 19,
    "start_time": "2022-04-13T18:42:33.504Z"
   },
   {
    "duration": 5,
    "start_time": "2022-04-13T18:43:02.499Z"
   },
   {
    "duration": 19,
    "start_time": "2022-04-13T18:43:18.370Z"
   },
   {
    "duration": 17,
    "start_time": "2022-04-13T18:43:51.620Z"
   },
   {
    "duration": 557,
    "start_time": "2022-04-13T18:44:11.147Z"
   },
   {
    "duration": 684,
    "start_time": "2022-04-13T18:44:30.550Z"
   },
   {
    "duration": 12,
    "start_time": "2022-04-13T18:48:05.356Z"
   },
   {
    "duration": 15,
    "start_time": "2022-04-13T18:48:15.348Z"
   },
   {
    "duration": 520,
    "start_time": "2022-04-13T18:48:27.992Z"
   },
   {
    "duration": 16,
    "start_time": "2022-04-13T18:49:00.908Z"
   },
   {
    "duration": 1272,
    "start_time": "2022-04-13T18:49:26.336Z"
   },
   {
    "duration": 670,
    "start_time": "2022-04-13T18:50:07.587Z"
   },
   {
    "duration": 547,
    "start_time": "2022-04-13T18:50:34.910Z"
   },
   {
    "duration": 596,
    "start_time": "2022-04-13T18:50:54.404Z"
   },
   {
    "duration": 524,
    "start_time": "2022-04-13T18:51:04.262Z"
   },
   {
    "duration": 508,
    "start_time": "2022-04-13T18:51:09.579Z"
   },
   {
    "duration": 654,
    "start_time": "2022-04-13T18:51:25.494Z"
   },
   {
    "duration": 503,
    "start_time": "2022-04-13T18:51:49.187Z"
   },
   {
    "duration": 670,
    "start_time": "2022-04-13T18:52:29.993Z"
   },
   {
    "duration": 634,
    "start_time": "2022-04-13T18:53:05.234Z"
   },
   {
    "duration": 809,
    "start_time": "2022-04-13T18:55:12.857Z"
   },
   {
    "duration": 645,
    "start_time": "2022-04-13T18:57:55.525Z"
   },
   {
    "duration": 793,
    "start_time": "2022-04-13T18:59:28.035Z"
   },
   {
    "duration": 790,
    "start_time": "2022-04-13T18:59:44.919Z"
   },
   {
    "duration": 660,
    "start_time": "2022-04-13T18:59:58.412Z"
   },
   {
    "duration": 3,
    "start_time": "2022-04-13T19:00:05.271Z"
   },
   {
    "duration": 8,
    "start_time": "2022-04-13T19:00:05.276Z"
   },
   {
    "duration": 732,
    "start_time": "2022-04-13T19:00:05.285Z"
   },
   {
    "duration": 4,
    "start_time": "2022-04-13T19:00:06.018Z"
   },
   {
    "duration": 5,
    "start_time": "2022-04-13T19:00:06.024Z"
   },
   {
    "duration": 276,
    "start_time": "2022-04-13T19:00:06.048Z"
   },
   {
    "duration": 4,
    "start_time": "2022-04-13T19:00:06.325Z"
   },
   {
    "duration": 33,
    "start_time": "2022-04-13T19:00:06.331Z"
   },
   {
    "duration": 14,
    "start_time": "2022-04-13T19:00:06.366Z"
   },
   {
    "duration": 9,
    "start_time": "2022-04-13T19:00:06.381Z"
   },
   {
    "duration": 5,
    "start_time": "2022-04-13T19:00:06.391Z"
   },
   {
    "duration": 11,
    "start_time": "2022-04-13T19:00:06.397Z"
   },
   {
    "duration": 6,
    "start_time": "2022-04-13T19:00:06.410Z"
   },
   {
    "duration": 30,
    "start_time": "2022-04-13T19:00:06.418Z"
   },
   {
    "duration": 5,
    "start_time": "2022-04-13T19:00:06.449Z"
   },
   {
    "duration": 824,
    "start_time": "2022-04-13T19:00:06.455Z"
   },
   {
    "duration": 656,
    "start_time": "2022-04-13T19:00:07.281Z"
   },
   {
    "duration": 803,
    "start_time": "2022-04-13T19:00:07.938Z"
   },
   {
    "duration": 391,
    "start_time": "2022-04-13T19:00:08.743Z"
   },
   {
    "duration": 263,
    "start_time": "2022-04-13T19:00:09.136Z"
   },
   {
    "duration": 850,
    "start_time": "2022-04-13T19:00:09.401Z"
   },
   {
    "duration": 1286,
    "start_time": "2022-04-13T19:00:26.869Z"
   },
   {
    "duration": 3,
    "start_time": "2022-04-13T19:00:28.157Z"
   },
   {
    "duration": 742,
    "start_time": "2022-04-13T19:00:28.161Z"
   },
   {
    "duration": 5,
    "start_time": "2022-04-13T19:00:28.904Z"
   },
   {
    "duration": 5,
    "start_time": "2022-04-13T19:00:28.911Z"
   },
   {
    "duration": 281,
    "start_time": "2022-04-13T19:00:28.917Z"
   },
   {
    "duration": 4,
    "start_time": "2022-04-13T19:00:29.200Z"
   },
   {
    "duration": 21,
    "start_time": "2022-04-13T19:00:29.206Z"
   },
   {
    "duration": 25,
    "start_time": "2022-04-13T19:00:29.229Z"
   },
   {
    "duration": 10,
    "start_time": "2022-04-13T19:00:29.257Z"
   },
   {
    "duration": 6,
    "start_time": "2022-04-13T19:00:29.268Z"
   },
   {
    "duration": 13,
    "start_time": "2022-04-13T19:00:29.276Z"
   },
   {
    "duration": 9,
    "start_time": "2022-04-13T19:00:29.291Z"
   },
   {
    "duration": 50,
    "start_time": "2022-04-13T19:00:29.301Z"
   },
   {
    "duration": 5,
    "start_time": "2022-04-13T19:00:29.353Z"
   },
   {
    "duration": 679,
    "start_time": "2022-04-13T19:00:29.360Z"
   },
   {
    "duration": 743,
    "start_time": "2022-04-13T19:00:30.041Z"
   },
   {
    "duration": 765,
    "start_time": "2022-04-13T19:00:30.786Z"
   },
   {
    "duration": 395,
    "start_time": "2022-04-13T19:00:31.552Z"
   },
   {
    "duration": 424,
    "start_time": "2022-04-13T19:00:31.949Z"
   },
   {
    "duration": 129,
    "start_time": "2022-04-13T19:00:32.375Z"
   },
   {
    "duration": 743,
    "start_time": "2022-04-13T19:03:50.369Z"
   },
   {
    "duration": 109,
    "start_time": "2022-04-13T19:13:12.623Z"
   },
   {
    "duration": 117,
    "start_time": "2022-04-13T19:13:21.483Z"
   },
   {
    "duration": 1724,
    "start_time": "2022-04-13T19:17:28.331Z"
   },
   {
    "duration": 1305,
    "start_time": "2022-04-13T19:17:54.795Z"
   },
   {
    "duration": 3,
    "start_time": "2022-04-13T19:17:56.102Z"
   },
   {
    "duration": 780,
    "start_time": "2022-04-13T19:17:56.106Z"
   },
   {
    "duration": 4,
    "start_time": "2022-04-13T19:17:56.888Z"
   },
   {
    "duration": 14,
    "start_time": "2022-04-13T19:17:56.894Z"
   },
   {
    "duration": 276,
    "start_time": "2022-04-13T19:17:56.910Z"
   },
   {
    "duration": 4,
    "start_time": "2022-04-13T19:17:57.188Z"
   },
   {
    "duration": 26,
    "start_time": "2022-04-13T19:17:57.194Z"
   },
   {
    "duration": 26,
    "start_time": "2022-04-13T19:17:57.222Z"
   },
   {
    "duration": 12,
    "start_time": "2022-04-13T19:17:57.249Z"
   },
   {
    "duration": 4,
    "start_time": "2022-04-13T19:17:57.263Z"
   },
   {
    "duration": 13,
    "start_time": "2022-04-13T19:17:57.268Z"
   },
   {
    "duration": 7,
    "start_time": "2022-04-13T19:17:57.283Z"
   },
   {
    "duration": 14,
    "start_time": "2022-04-13T19:17:57.292Z"
   },
   {
    "duration": 5,
    "start_time": "2022-04-13T19:17:57.307Z"
   },
   {
    "duration": 701,
    "start_time": "2022-04-13T19:17:57.314Z"
   },
   {
    "duration": 735,
    "start_time": "2022-04-13T19:17:58.017Z"
   },
   {
    "duration": 780,
    "start_time": "2022-04-13T19:17:58.754Z"
   },
   {
    "duration": 411,
    "start_time": "2022-04-13T19:17:59.536Z"
   },
   {
    "duration": 422,
    "start_time": "2022-04-13T19:17:59.949Z"
   },
   {
    "duration": 1953,
    "start_time": "2022-04-13T19:18:00.373Z"
   },
   {
    "duration": 5,
    "start_time": "2022-04-13T19:18:32.042Z"
   },
   {
    "duration": 15,
    "start_time": "2022-04-13T19:18:37.248Z"
   },
   {
    "duration": 637,
    "start_time": "2022-04-13T19:20:20.644Z"
   },
   {
    "duration": 13,
    "start_time": "2022-04-13T19:20:23.783Z"
   },
   {
    "duration": 12,
    "start_time": "2022-04-13T19:22:58.590Z"
   },
   {
    "duration": 12,
    "start_time": "2022-04-13T19:24:26.202Z"
   },
   {
    "duration": 108,
    "start_time": "2022-04-13T19:24:43.385Z"
   },
   {
    "duration": 7,
    "start_time": "2022-04-13T19:24:50.804Z"
   },
   {
    "duration": 13,
    "start_time": "2022-04-13T19:25:33.545Z"
   },
   {
    "duration": 12,
    "start_time": "2022-04-13T19:25:41.147Z"
   },
   {
    "duration": 13,
    "start_time": "2022-04-13T19:26:10.481Z"
   },
   {
    "duration": 7,
    "start_time": "2022-04-13T19:26:19.426Z"
   },
   {
    "duration": 12,
    "start_time": "2022-04-13T19:26:40.180Z"
   },
   {
    "duration": 15,
    "start_time": "2022-04-13T19:27:20.109Z"
   },
   {
    "duration": 12,
    "start_time": "2022-04-13T19:27:27.579Z"
   },
   {
    "duration": 6,
    "start_time": "2022-04-13T19:27:49.735Z"
   },
   {
    "duration": 7,
    "start_time": "2022-04-13T19:28:03.871Z"
   },
   {
    "duration": 5,
    "start_time": "2022-04-13T19:28:15.256Z"
   },
   {
    "duration": 11,
    "start_time": "2022-04-13T19:28:39.043Z"
   },
   {
    "duration": 6,
    "start_time": "2022-04-13T19:30:19.754Z"
   },
   {
    "duration": 16,
    "start_time": "2022-04-13T19:31:26.722Z"
   },
   {
    "duration": 6,
    "start_time": "2022-04-13T19:32:56.574Z"
   },
   {
    "duration": 6,
    "start_time": "2022-04-13T19:36:14.025Z"
   },
   {
    "duration": 5,
    "start_time": "2022-04-13T19:36:19.472Z"
   },
   {
    "duration": 6,
    "start_time": "2022-04-13T19:36:26.085Z"
   },
   {
    "duration": 5,
    "start_time": "2022-04-13T19:36:39.446Z"
   },
   {
    "duration": 5,
    "start_time": "2022-04-13T19:36:56.522Z"
   },
   {
    "duration": 16,
    "start_time": "2022-04-13T19:38:20.694Z"
   },
   {
    "duration": 120,
    "start_time": "2022-04-13T19:38:56.508Z"
   },
   {
    "duration": 114,
    "start_time": "2022-04-13T19:39:00.037Z"
   },
   {
    "duration": 13,
    "start_time": "2022-04-13T19:39:07.670Z"
   },
   {
    "duration": 18,
    "start_time": "2022-04-13T19:39:26.303Z"
   },
   {
    "duration": 18,
    "start_time": "2022-04-13T19:39:29.527Z"
   },
   {
    "duration": 16,
    "start_time": "2022-04-13T19:41:06.782Z"
   },
   {
    "duration": 17,
    "start_time": "2022-04-13T19:41:10.638Z"
   },
   {
    "duration": 18,
    "start_time": "2022-04-13T19:43:59.206Z"
   },
   {
    "duration": 17,
    "start_time": "2022-04-13T19:44:32.461Z"
   },
   {
    "duration": 16,
    "start_time": "2022-04-13T19:45:45.667Z"
   },
   {
    "duration": 7,
    "start_time": "2022-04-13T19:45:51.852Z"
   },
   {
    "duration": 17,
    "start_time": "2022-04-13T19:46:19.158Z"
   },
   {
    "duration": 19,
    "start_time": "2022-04-13T19:46:23.818Z"
   },
   {
    "duration": 17,
    "start_time": "2022-04-13T19:46:43.872Z"
   },
   {
    "duration": 6,
    "start_time": "2022-04-13T19:48:38.964Z"
   },
   {
    "duration": 15,
    "start_time": "2022-04-13T19:48:49.542Z"
   },
   {
    "duration": 16,
    "start_time": "2022-04-13T19:49:03.197Z"
   },
   {
    "duration": 16,
    "start_time": "2022-04-13T19:49:14.312Z"
   },
   {
    "duration": 15,
    "start_time": "2022-04-13T19:50:29.858Z"
   },
   {
    "duration": 15,
    "start_time": "2022-04-13T19:51:29.968Z"
   },
   {
    "duration": 16,
    "start_time": "2022-04-13T19:51:43.918Z"
   },
   {
    "duration": 16,
    "start_time": "2022-04-13T19:52:29.605Z"
   },
   {
    "duration": 20,
    "start_time": "2022-04-13T19:53:06.148Z"
   },
   {
    "duration": 15,
    "start_time": "2022-04-13T19:53:34.611Z"
   },
   {
    "duration": 16,
    "start_time": "2022-04-13T19:59:27.535Z"
   },
   {
    "duration": 16,
    "start_time": "2022-04-13T20:00:16.740Z"
   },
   {
    "duration": 8,
    "start_time": "2022-04-13T20:00:57.737Z"
   },
   {
    "duration": 11,
    "start_time": "2022-04-13T20:01:29.900Z"
   },
   {
    "duration": 8,
    "start_time": "2022-04-13T20:01:41.759Z"
   },
   {
    "duration": 5,
    "start_time": "2022-04-13T20:01:51.677Z"
   },
   {
    "duration": 6,
    "start_time": "2022-04-13T20:01:59.550Z"
   },
   {
    "duration": 17,
    "start_time": "2022-04-13T20:02:20.162Z"
   },
   {
    "duration": 18,
    "start_time": "2022-04-13T20:02:55.811Z"
   },
   {
    "duration": 105,
    "start_time": "2022-04-13T20:05:42.810Z"
   },
   {
    "duration": 7,
    "start_time": "2022-04-13T20:06:06.108Z"
   },
   {
    "duration": 15,
    "start_time": "2022-04-13T20:06:44.210Z"
   },
   {
    "duration": 17,
    "start_time": "2022-04-13T20:06:53.804Z"
   },
   {
    "duration": 16,
    "start_time": "2022-04-13T20:13:29.858Z"
   },
   {
    "duration": 40,
    "start_time": "2022-04-13T20:13:43.096Z"
   },
   {
    "duration": 25,
    "start_time": "2022-04-13T20:22:35.859Z"
   },
   {
    "duration": 17,
    "start_time": "2022-04-13T20:22:39.049Z"
   },
   {
    "duration": 3,
    "start_time": "2022-04-13T20:22:51.044Z"
   },
   {
    "duration": 7,
    "start_time": "2022-04-13T20:22:51.049Z"
   },
   {
    "duration": 763,
    "start_time": "2022-04-13T20:22:51.057Z"
   },
   {
    "duration": 4,
    "start_time": "2022-04-13T20:22:51.821Z"
   },
   {
    "duration": 22,
    "start_time": "2022-04-13T20:22:51.827Z"
   },
   {
    "duration": 261,
    "start_time": "2022-04-13T20:22:51.851Z"
   },
   {
    "duration": 6,
    "start_time": "2022-04-13T20:22:52.113Z"
   },
   {
    "duration": 43,
    "start_time": "2022-04-13T20:22:52.121Z"
   },
   {
    "duration": 7,
    "start_time": "2022-04-13T20:22:52.166Z"
   },
   {
    "duration": 8,
    "start_time": "2022-04-13T20:22:52.175Z"
   },
   {
    "duration": 6,
    "start_time": "2022-04-13T20:22:52.186Z"
   },
   {
    "duration": 12,
    "start_time": "2022-04-13T20:22:52.194Z"
   },
   {
    "duration": 8,
    "start_time": "2022-04-13T20:22:52.207Z"
   },
   {
    "duration": 42,
    "start_time": "2022-04-13T20:22:52.216Z"
   },
   {
    "duration": 6,
    "start_time": "2022-04-13T20:22:52.260Z"
   },
   {
    "duration": 671,
    "start_time": "2022-04-13T20:22:52.268Z"
   },
   {
    "duration": 764,
    "start_time": "2022-04-13T20:22:52.947Z"
   },
   {
    "duration": 802,
    "start_time": "2022-04-13T20:22:53.714Z"
   },
   {
    "duration": 387,
    "start_time": "2022-04-13T20:22:54.517Z"
   },
   {
    "duration": 267,
    "start_time": "2022-04-13T20:22:54.906Z"
   },
   {
    "duration": 525,
    "start_time": "2022-04-13T20:22:55.175Z"
   },
   {
    "duration": 19,
    "start_time": "2022-04-13T20:22:58.337Z"
   },
   {
    "duration": 18,
    "start_time": "2022-04-13T20:23:07.365Z"
   },
   {
    "duration": 3,
    "start_time": "2022-04-13T20:23:10.455Z"
   },
   {
    "duration": 7,
    "start_time": "2022-04-13T20:23:10.460Z"
   },
   {
    "duration": 747,
    "start_time": "2022-04-13T20:23:10.501Z"
   },
   {
    "duration": 4,
    "start_time": "2022-04-13T20:23:11.250Z"
   },
   {
    "duration": 5,
    "start_time": "2022-04-13T20:23:11.256Z"
   },
   {
    "duration": 285,
    "start_time": "2022-04-13T20:23:11.262Z"
   },
   {
    "duration": 5,
    "start_time": "2022-04-13T20:23:11.549Z"
   },
   {
    "duration": 21,
    "start_time": "2022-04-13T20:23:11.555Z"
   },
   {
    "duration": 8,
    "start_time": "2022-04-13T20:23:11.577Z"
   },
   {
    "duration": 8,
    "start_time": "2022-04-13T20:23:11.586Z"
   },
   {
    "duration": 5,
    "start_time": "2022-04-13T20:23:11.596Z"
   },
   {
    "duration": 11,
    "start_time": "2022-04-13T20:23:11.602Z"
   },
   {
    "duration": 7,
    "start_time": "2022-04-13T20:23:11.647Z"
   },
   {
    "duration": 15,
    "start_time": "2022-04-13T20:23:11.655Z"
   },
   {
    "duration": 4,
    "start_time": "2022-04-13T20:23:11.672Z"
   },
   {
    "duration": 814,
    "start_time": "2022-04-13T20:23:11.678Z"
   },
   {
    "duration": 643,
    "start_time": "2022-04-13T20:23:12.493Z"
   },
   {
    "duration": 803,
    "start_time": "2022-04-13T20:23:13.137Z"
   },
   {
    "duration": 408,
    "start_time": "2022-04-13T20:23:13.942Z"
   },
   {
    "duration": 269,
    "start_time": "2022-04-13T20:23:14.352Z"
   },
   {
    "duration": 634,
    "start_time": "2022-04-13T20:23:14.622Z"
   },
   {
    "duration": 14,
    "start_time": "2022-04-13T20:23:17.521Z"
   },
   {
    "duration": 43,
    "start_time": "2022-04-14T07:49:28.912Z"
   },
   {
    "duration": 1543,
    "start_time": "2022-04-14T07:49:32.696Z"
   },
   {
    "duration": 3,
    "start_time": "2022-04-14T07:49:34.242Z"
   },
   {
    "duration": 688,
    "start_time": "2022-04-14T07:49:34.246Z"
   },
   {
    "duration": 4,
    "start_time": "2022-04-14T07:49:34.937Z"
   },
   {
    "duration": 5,
    "start_time": "2022-04-14T07:49:34.943Z"
   },
   {
    "duration": 285,
    "start_time": "2022-04-14T07:49:34.949Z"
   },
   {
    "duration": 5,
    "start_time": "2022-04-14T07:49:35.236Z"
   },
   {
    "duration": 25,
    "start_time": "2022-04-14T07:49:35.242Z"
   },
   {
    "duration": 8,
    "start_time": "2022-04-14T07:49:35.269Z"
   },
   {
    "duration": 12,
    "start_time": "2022-04-14T07:49:35.280Z"
   },
   {
    "duration": 5,
    "start_time": "2022-04-14T07:49:35.294Z"
   },
   {
    "duration": 34,
    "start_time": "2022-04-14T07:49:35.301Z"
   },
   {
    "duration": 7,
    "start_time": "2022-04-14T07:49:35.336Z"
   },
   {
    "duration": 16,
    "start_time": "2022-04-14T07:49:35.345Z"
   },
   {
    "duration": 5,
    "start_time": "2022-04-14T07:49:35.362Z"
   },
   {
    "duration": 718,
    "start_time": "2022-04-14T07:49:35.369Z"
   },
   {
    "duration": 757,
    "start_time": "2022-04-14T07:49:36.089Z"
   },
   {
    "duration": 887,
    "start_time": "2022-04-14T07:49:36.848Z"
   },
   {
    "duration": 394,
    "start_time": "2022-04-14T07:49:37.737Z"
   },
   {
    "duration": 410,
    "start_time": "2022-04-14T07:49:38.132Z"
   },
   {
    "duration": 680,
    "start_time": "2022-04-14T07:49:38.543Z"
   },
   {
    "duration": 15,
    "start_time": "2022-04-14T07:49:39.225Z"
   },
   {
    "duration": 4,
    "start_time": "2022-04-14T07:49:43.242Z"
   },
   {
    "duration": 550,
    "start_time": "2022-04-14T07:51:01.580Z"
   },
   {
    "duration": 3,
    "start_time": "2022-04-14T07:51:33.846Z"
   },
   {
    "duration": 234,
    "start_time": "2022-04-14T07:51:52.113Z"
   },
   {
    "duration": 232,
    "start_time": "2022-04-14T07:52:07.217Z"
   },
   {
    "duration": 229,
    "start_time": "2022-04-14T07:52:23.941Z"
   },
   {
    "duration": 520,
    "start_time": "2022-04-14T07:52:26.200Z"
   },
   {
    "duration": 583,
    "start_time": "2022-04-14T07:54:27.636Z"
   },
   {
    "duration": 230,
    "start_time": "2022-04-14T07:54:43.232Z"
   },
   {
    "duration": 3,
    "start_time": "2022-04-14T07:54:59.204Z"
   },
   {
    "duration": 249,
    "start_time": "2022-04-14T07:55:03.116Z"
   },
   {
    "duration": 188,
    "start_time": "2022-04-14T07:56:16.956Z"
   },
   {
    "duration": 183,
    "start_time": "2022-04-14T07:56:20.967Z"
   },
   {
    "duration": 171,
    "start_time": "2022-04-14T07:56:24.107Z"
   },
   {
    "duration": 612,
    "start_time": "2022-04-14T07:57:10.912Z"
   },
   {
    "duration": 535,
    "start_time": "2022-04-14T07:59:36.110Z"
   },
   {
    "duration": 541,
    "start_time": "2022-04-14T07:59:39.907Z"
   },
   {
    "duration": 1730,
    "start_time": "2022-04-14T07:59:51.438Z"
   },
   {
    "duration": 579,
    "start_time": "2022-04-14T08:00:00.868Z"
   },
   {
    "duration": 547,
    "start_time": "2022-04-14T08:00:08.794Z"
   },
   {
    "duration": 557,
    "start_time": "2022-04-14T08:00:14.714Z"
   },
   {
    "duration": 558,
    "start_time": "2022-04-14T08:00:28.758Z"
   },
   {
    "duration": 585,
    "start_time": "2022-04-14T08:00:47.144Z"
   },
   {
    "duration": 136,
    "start_time": "2022-04-14T08:00:56.681Z"
   },
   {
    "duration": 132,
    "start_time": "2022-04-14T08:02:14.445Z"
   },
   {
    "duration": 537,
    "start_time": "2022-04-14T08:02:17.337Z"
   },
   {
    "duration": 168,
    "start_time": "2022-04-14T08:02:40.720Z"
   },
   {
    "duration": 538,
    "start_time": "2022-04-14T08:02:49.989Z"
   },
   {
    "duration": 562,
    "start_time": "2022-04-14T08:03:39.964Z"
   },
   {
    "duration": 2489,
    "start_time": "2022-04-14T08:04:09.232Z"
   },
   {
    "duration": 2603,
    "start_time": "2022-04-14T08:04:20.136Z"
   },
   {
    "duration": 2648,
    "start_time": "2022-04-14T08:04:43.084Z"
   },
   {
    "duration": 543,
    "start_time": "2022-04-14T08:06:00.531Z"
   },
   {
    "duration": 536,
    "start_time": "2022-04-14T08:06:13.433Z"
   },
   {
    "duration": 542,
    "start_time": "2022-04-14T08:06:33.163Z"
   },
   {
    "duration": 538,
    "start_time": "2022-04-14T08:07:07.472Z"
   },
   {
    "duration": 547,
    "start_time": "2022-04-14T08:07:13.362Z"
   },
   {
    "duration": 3115,
    "start_time": "2022-04-14T08:07:29.964Z"
   },
   {
    "duration": 550,
    "start_time": "2022-04-14T08:07:41.325Z"
   },
   {
    "duration": 542,
    "start_time": "2022-04-14T08:08:09.661Z"
   },
   {
    "duration": 548,
    "start_time": "2022-04-14T08:08:28.889Z"
   },
   {
    "duration": 596,
    "start_time": "2022-04-14T08:08:34.687Z"
   },
   {
    "duration": 564,
    "start_time": "2022-04-14T08:08:56.339Z"
   },
   {
    "duration": 546,
    "start_time": "2022-04-14T08:09:11.436Z"
   },
   {
    "duration": 535,
    "start_time": "2022-04-14T08:09:16.552Z"
   },
   {
    "duration": 556,
    "start_time": "2022-04-14T08:09:59.194Z"
   },
   {
    "duration": 3,
    "start_time": "2022-04-14T08:10:20.450Z"
   },
   {
    "duration": 105,
    "start_time": "2022-04-14T08:11:23.819Z"
   },
   {
    "duration": 104,
    "start_time": "2022-04-14T08:11:29.167Z"
   },
   {
    "duration": 269,
    "start_time": "2022-04-14T08:11:49.037Z"
   },
   {
    "duration": 258,
    "start_time": "2022-04-14T08:12:02.532Z"
   },
   {
    "duration": 227,
    "start_time": "2022-04-14T08:12:08.321Z"
   },
   {
    "duration": 16,
    "start_time": "2022-04-14T08:16:56.272Z"
   },
   {
    "duration": 15,
    "start_time": "2022-04-14T08:17:13.886Z"
   },
   {
    "duration": 14,
    "start_time": "2022-04-14T08:17:32.753Z"
   },
   {
    "duration": 8,
    "start_time": "2022-04-14T08:17:51.882Z"
   },
   {
    "duration": 18,
    "start_time": "2022-04-14T08:18:50.234Z"
   },
   {
    "duration": 8,
    "start_time": "2022-04-14T08:18:52.488Z"
   },
   {
    "duration": 9,
    "start_time": "2022-04-14T08:19:22.758Z"
   },
   {
    "duration": 17,
    "start_time": "2022-04-14T08:19:26.462Z"
   },
   {
    "duration": 9,
    "start_time": "2022-04-14T08:19:28.616Z"
   },
   {
    "duration": 3,
    "start_time": "2022-04-14T08:19:49.633Z"
   },
   {
    "duration": 14,
    "start_time": "2022-04-14T08:19:51.484Z"
   },
   {
    "duration": 4,
    "start_time": "2022-04-14T08:20:06.888Z"
   },
   {
    "duration": 13,
    "start_time": "2022-04-14T08:20:08.713Z"
   },
   {
    "duration": 4,
    "start_time": "2022-04-14T08:20:20.010Z"
   },
   {
    "duration": 680,
    "start_time": "2022-04-14T08:20:22.312Z"
   },
   {
    "duration": 657,
    "start_time": "2022-04-14T08:20:29.327Z"
   },
   {
    "duration": 4,
    "start_time": "2022-04-14T08:20:29.986Z"
   },
   {
    "duration": 10,
    "start_time": "2022-04-14T08:20:29.992Z"
   },
   {
    "duration": 396,
    "start_time": "2022-04-14T08:20:30.004Z"
   },
   {
    "duration": 4,
    "start_time": "2022-04-14T08:20:30.403Z"
   },
   {
    "duration": 38,
    "start_time": "2022-04-14T08:20:30.408Z"
   },
   {
    "duration": 12,
    "start_time": "2022-04-14T08:20:30.448Z"
   },
   {
    "duration": 21,
    "start_time": "2022-04-14T08:20:30.462Z"
   },
   {
    "duration": 5,
    "start_time": "2022-04-14T08:20:30.485Z"
   },
   {
    "duration": 16,
    "start_time": "2022-04-14T08:20:30.492Z"
   },
   {
    "duration": 7,
    "start_time": "2022-04-14T08:20:30.510Z"
   },
   {
    "duration": 12,
    "start_time": "2022-04-14T08:20:30.519Z"
   },
   {
    "duration": 6,
    "start_time": "2022-04-14T08:20:30.533Z"
   },
   {
    "duration": 719,
    "start_time": "2022-04-14T08:20:30.541Z"
   },
   {
    "duration": 771,
    "start_time": "2022-04-14T08:20:31.262Z"
   },
   {
    "duration": 688,
    "start_time": "2022-04-14T08:20:32.035Z"
   },
   {
    "duration": 412,
    "start_time": "2022-04-14T08:20:32.725Z"
   },
   {
    "duration": 374,
    "start_time": "2022-04-14T08:20:33.139Z"
   },
   {
    "duration": 588,
    "start_time": "2022-04-14T08:20:33.515Z"
   },
   {
    "duration": 22,
    "start_time": "2022-04-14T08:20:34.105Z"
   },
   {
    "duration": 4,
    "start_time": "2022-04-14T08:20:34.128Z"
   },
   {
    "duration": 652,
    "start_time": "2022-04-14T08:20:34.134Z"
   },
   {
    "duration": 13,
    "start_time": "2022-04-14T08:20:34.788Z"
   },
   {
    "duration": 0,
    "start_time": "2022-04-14T08:20:34.802Z"
   },
   {
    "duration": 0,
    "start_time": "2022-04-14T08:20:34.803Z"
   },
   {
    "duration": 0,
    "start_time": "2022-04-14T08:20:34.804Z"
   },
   {
    "duration": 9,
    "start_time": "2022-04-14T08:20:45.755Z"
   },
   {
    "duration": 15,
    "start_time": "2022-04-14T08:29:12.944Z"
   },
   {
    "duration": 9,
    "start_time": "2022-04-14T08:29:18.791Z"
   },
   {
    "duration": 39,
    "start_time": "2022-04-14T08:30:05.064Z"
   },
   {
    "duration": 584,
    "start_time": "2022-04-14T08:33:30.058Z"
   },
   {
    "duration": 15,
    "start_time": "2022-04-14T08:33:43.899Z"
   },
   {
    "duration": 16,
    "start_time": "2022-04-14T08:34:48.538Z"
   },
   {
    "duration": 11,
    "start_time": "2022-04-14T08:35:02.470Z"
   },
   {
    "duration": 4,
    "start_time": "2022-04-14T08:37:25.609Z"
   },
   {
    "duration": 16,
    "start_time": "2022-04-14T08:37:35.361Z"
   },
   {
    "duration": 16,
    "start_time": "2022-04-14T08:38:31.746Z"
   },
   {
    "duration": 6,
    "start_time": "2022-04-14T08:38:34.641Z"
   },
   {
    "duration": 7,
    "start_time": "2022-04-14T08:38:39.463Z"
   },
   {
    "duration": 7,
    "start_time": "2022-04-14T08:38:50.747Z"
   },
   {
    "duration": 22,
    "start_time": "2022-04-14T08:39:07.135Z"
   },
   {
    "duration": 29,
    "start_time": "2022-04-14T08:39:18.097Z"
   },
   {
    "duration": 26,
    "start_time": "2022-04-14T08:41:21.660Z"
   },
   {
    "duration": 28,
    "start_time": "2022-04-14T08:41:31.108Z"
   },
   {
    "duration": 960,
    "start_time": "2022-04-14T08:42:47.770Z"
   },
   {
    "duration": 573,
    "start_time": "2022-04-14T08:43:22.227Z"
   },
   {
    "duration": 551,
    "start_time": "2022-04-14T08:43:37.066Z"
   },
   {
    "duration": 642,
    "start_time": "2022-04-14T08:43:50.783Z"
   },
   {
    "duration": 9,
    "start_time": "2022-04-14T08:44:06.477Z"
   },
   {
    "duration": 10,
    "start_time": "2022-04-14T08:44:18.272Z"
   },
   {
    "duration": 5,
    "start_time": "2022-04-14T08:44:28.974Z"
   },
   {
    "duration": 5,
    "start_time": "2022-04-14T08:44:44.585Z"
   },
   {
    "duration": 532,
    "start_time": "2022-04-14T08:46:22.344Z"
   },
   {
    "duration": 30,
    "start_time": "2022-04-14T08:51:42.298Z"
   },
   {
    "duration": 11,
    "start_time": "2022-04-14T08:51:53.725Z"
   },
   {
    "duration": 10,
    "start_time": "2022-04-14T08:54:59.066Z"
   },
   {
    "duration": 10,
    "start_time": "2022-04-14T08:55:11.245Z"
   },
   {
    "duration": 6,
    "start_time": "2022-04-14T08:55:17.475Z"
   },
   {
    "duration": 6,
    "start_time": "2022-04-14T08:56:54.388Z"
   },
   {
    "duration": 3,
    "start_time": "2022-04-14T08:57:12.375Z"
   },
   {
    "duration": 7,
    "start_time": "2022-04-14T08:57:12.380Z"
   },
   {
    "duration": 691,
    "start_time": "2022-04-14T08:57:12.411Z"
   },
   {
    "duration": 5,
    "start_time": "2022-04-14T08:57:13.104Z"
   },
   {
    "duration": 13,
    "start_time": "2022-04-14T08:57:13.111Z"
   },
   {
    "duration": 386,
    "start_time": "2022-04-14T08:57:13.126Z"
   },
   {
    "duration": 11,
    "start_time": "2022-04-14T08:57:13.514Z"
   },
   {
    "duration": 21,
    "start_time": "2022-04-14T08:57:13.526Z"
   },
   {
    "duration": 8,
    "start_time": "2022-04-14T08:57:13.549Z"
   },
   {
    "duration": 8,
    "start_time": "2022-04-14T08:57:13.559Z"
   },
   {
    "duration": 6,
    "start_time": "2022-04-14T08:57:13.568Z"
   },
   {
    "duration": 9,
    "start_time": "2022-04-14T08:57:13.575Z"
   },
   {
    "duration": 39,
    "start_time": "2022-04-14T08:57:13.586Z"
   },
   {
    "duration": 9,
    "start_time": "2022-04-14T08:57:13.627Z"
   },
   {
    "duration": 4,
    "start_time": "2022-04-14T08:57:13.638Z"
   },
   {
    "duration": 701,
    "start_time": "2022-04-14T08:57:13.646Z"
   },
   {
    "duration": 787,
    "start_time": "2022-04-14T08:57:14.349Z"
   },
   {
    "duration": 677,
    "start_time": "2022-04-14T08:57:15.138Z"
   },
   {
    "duration": 393,
    "start_time": "2022-04-14T08:57:15.817Z"
   },
   {
    "duration": 401,
    "start_time": "2022-04-14T08:57:16.212Z"
   },
   {
    "duration": 596,
    "start_time": "2022-04-14T08:57:16.615Z"
   },
   {
    "duration": 19,
    "start_time": "2022-04-14T08:57:17.213Z"
   },
   {
    "duration": 4,
    "start_time": "2022-04-14T08:57:17.234Z"
   },
   {
    "duration": 8,
    "start_time": "2022-04-14T08:57:17.240Z"
   },
   {
    "duration": 31,
    "start_time": "2022-04-14T08:57:17.249Z"
   },
   {
    "duration": 543,
    "start_time": "2022-04-14T08:57:17.282Z"
   },
   {
    "duration": 6,
    "start_time": "2022-04-14T08:57:17.827Z"
   },
   {
    "duration": 46,
    "start_time": "2022-04-14T08:57:17.834Z"
   },
   {
    "duration": 0,
    "start_time": "2022-04-14T08:57:17.882Z"
   },
   {
    "duration": 0,
    "start_time": "2022-04-14T08:57:17.883Z"
   },
   {
    "duration": 0,
    "start_time": "2022-04-14T08:57:17.884Z"
   },
   {
    "duration": 6,
    "start_time": "2022-04-14T08:57:38.892Z"
   },
   {
    "duration": 6,
    "start_time": "2022-04-14T08:57:48.009Z"
   },
   {
    "duration": 15,
    "start_time": "2022-04-14T08:58:07.864Z"
   },
   {
    "duration": 13,
    "start_time": "2022-04-14T08:58:23.502Z"
   },
   {
    "duration": 17,
    "start_time": "2022-04-14T08:58:34.886Z"
   },
   {
    "duration": 20,
    "start_time": "2022-04-14T09:01:46.002Z"
   },
   {
    "duration": 15,
    "start_time": "2022-04-14T09:01:52.203Z"
   },
   {
    "duration": 122,
    "start_time": "2022-04-14T09:01:56.661Z"
   },
   {
    "duration": 29,
    "start_time": "2022-04-14T09:02:30.760Z"
   },
   {
    "duration": 6,
    "start_time": "2022-04-14T09:02:56.491Z"
   },
   {
    "duration": 15,
    "start_time": "2022-04-14T09:03:09.082Z"
   },
   {
    "duration": 6,
    "start_time": "2022-04-14T09:03:14.638Z"
   },
   {
    "duration": 4,
    "start_time": "2022-04-14T09:03:34.699Z"
   },
   {
    "duration": 7,
    "start_time": "2022-04-14T09:04:27.511Z"
   },
   {
    "duration": 9,
    "start_time": "2022-04-14T09:04:34.644Z"
   },
   {
    "duration": 10,
    "start_time": "2022-04-14T09:04:57.068Z"
   },
   {
    "duration": 13,
    "start_time": "2022-04-14T09:05:24.015Z"
   },
   {
    "duration": 9,
    "start_time": "2022-04-14T09:05:45.634Z"
   },
   {
    "duration": 144,
    "start_time": "2022-04-14T09:06:03.154Z"
   },
   {
    "duration": 11,
    "start_time": "2022-04-14T09:06:10.028Z"
   },
   {
    "duration": 3,
    "start_time": "2022-04-14T09:06:24.052Z"
   },
   {
    "duration": 9,
    "start_time": "2022-04-14T09:06:24.057Z"
   },
   {
    "duration": 675,
    "start_time": "2022-04-14T09:06:24.068Z"
   },
   {
    "duration": 5,
    "start_time": "2022-04-14T09:06:24.745Z"
   },
   {
    "duration": 6,
    "start_time": "2022-04-14T09:06:24.752Z"
   },
   {
    "duration": 308,
    "start_time": "2022-04-14T09:06:24.759Z"
   },
   {
    "duration": 4,
    "start_time": "2022-04-14T09:06:25.069Z"
   },
   {
    "duration": 23,
    "start_time": "2022-04-14T09:06:25.075Z"
   },
   {
    "duration": 23,
    "start_time": "2022-04-14T09:06:25.101Z"
   },
   {
    "duration": 6,
    "start_time": "2022-04-14T09:06:25.125Z"
   },
   {
    "duration": 8,
    "start_time": "2022-04-14T09:06:25.133Z"
   },
   {
    "duration": 9,
    "start_time": "2022-04-14T09:06:25.143Z"
   },
   {
    "duration": 6,
    "start_time": "2022-04-14T09:06:25.153Z"
   },
   {
    "duration": 11,
    "start_time": "2022-04-14T09:06:25.160Z"
   },
   {
    "duration": 5,
    "start_time": "2022-04-14T09:06:25.172Z"
   },
   {
    "duration": 962,
    "start_time": "2022-04-14T09:06:25.179Z"
   },
   {
    "duration": 868,
    "start_time": "2022-04-14T09:06:26.143Z"
   },
   {
    "duration": 1134,
    "start_time": "2022-04-14T09:06:27.013Z"
   },
   {
    "duration": 452,
    "start_time": "2022-04-14T09:06:28.150Z"
   },
   {
    "duration": 288,
    "start_time": "2022-04-14T09:06:28.604Z"
   },
   {
    "duration": 1136,
    "start_time": "2022-04-14T09:06:28.894Z"
   },
   {
    "duration": 15,
    "start_time": "2022-04-14T09:06:30.033Z"
   },
   {
    "duration": 27,
    "start_time": "2022-04-14T09:06:36.301Z"
   },
   {
    "duration": 20,
    "start_time": "2022-04-14T09:06:38.989Z"
   },
   {
    "duration": 29,
    "start_time": "2022-04-14T09:06:52.002Z"
   },
   {
    "duration": 10,
    "start_time": "2022-04-14T09:07:24.973Z"
   },
   {
    "duration": 4,
    "start_time": "2022-04-14T09:07:28.498Z"
   },
   {
    "duration": 9,
    "start_time": "2022-04-14T09:08:18.252Z"
   },
   {
    "duration": 4,
    "start_time": "2022-04-14T09:08:46.207Z"
   },
   {
    "duration": 10,
    "start_time": "2022-04-14T09:09:34.513Z"
   },
   {
    "duration": 10,
    "start_time": "2022-04-14T09:09:41.618Z"
   },
   {
    "duration": 3,
    "start_time": "2022-04-14T09:09:48.545Z"
   },
   {
    "duration": 10,
    "start_time": "2022-04-14T09:09:48.551Z"
   },
   {
    "duration": 995,
    "start_time": "2022-04-14T09:09:48.563Z"
   },
   {
    "duration": 5,
    "start_time": "2022-04-14T09:09:49.560Z"
   },
   {
    "duration": 11,
    "start_time": "2022-04-14T09:09:49.568Z"
   },
   {
    "duration": 470,
    "start_time": "2022-04-14T09:09:49.581Z"
   },
   {
    "duration": 5,
    "start_time": "2022-04-14T09:09:50.053Z"
   },
   {
    "duration": 49,
    "start_time": "2022-04-14T09:09:50.059Z"
   },
   {
    "duration": 12,
    "start_time": "2022-04-14T09:09:50.110Z"
   },
   {
    "duration": 13,
    "start_time": "2022-04-14T09:09:50.124Z"
   },
   {
    "duration": 5,
    "start_time": "2022-04-14T09:09:50.141Z"
   },
   {
    "duration": 9,
    "start_time": "2022-04-14T09:09:50.148Z"
   },
   {
    "duration": 9,
    "start_time": "2022-04-14T09:09:50.158Z"
   },
   {
    "duration": 19,
    "start_time": "2022-04-14T09:09:50.169Z"
   },
   {
    "duration": 5,
    "start_time": "2022-04-14T09:09:50.190Z"
   },
   {
    "duration": 1201,
    "start_time": "2022-04-14T09:09:50.196Z"
   },
   {
    "duration": 737,
    "start_time": "2022-04-14T09:09:51.399Z"
   },
   {
    "duration": 838,
    "start_time": "2022-04-14T09:09:52.138Z"
   },
   {
    "duration": 578,
    "start_time": "2022-04-14T09:09:52.978Z"
   },
   {
    "duration": 358,
    "start_time": "2022-04-14T09:09:53.557Z"
   },
   {
    "duration": 1010,
    "start_time": "2022-04-14T09:09:53.917Z"
   },
   {
    "duration": 16,
    "start_time": "2022-04-14T09:09:54.929Z"
   },
   {
    "duration": 10,
    "start_time": "2022-04-14T09:10:04.612Z"
   },
   {
    "duration": 7,
    "start_time": "2022-04-14T09:10:07.292Z"
   },
   {
    "duration": 18,
    "start_time": "2022-04-14T09:13:53.596Z"
   },
   {
    "duration": 169,
    "start_time": "2022-04-14T09:14:29.126Z"
   },
   {
    "duration": 15,
    "start_time": "2022-04-14T09:14:43.474Z"
   },
   {
    "duration": 20,
    "start_time": "2022-04-14T09:15:09.851Z"
   },
   {
    "duration": 14,
    "start_time": "2022-04-14T09:15:22.942Z"
   },
   {
    "duration": 9,
    "start_time": "2022-04-14T09:15:31.919Z"
   },
   {
    "duration": 6,
    "start_time": "2022-04-14T09:15:42.877Z"
   },
   {
    "duration": 3,
    "start_time": "2022-04-14T09:15:58.831Z"
   },
   {
    "duration": 5,
    "start_time": "2022-04-14T09:15:58.836Z"
   },
   {
    "duration": 790,
    "start_time": "2022-04-14T09:15:58.843Z"
   },
   {
    "duration": 5,
    "start_time": "2022-04-14T09:15:59.634Z"
   },
   {
    "duration": 9,
    "start_time": "2022-04-14T09:15:59.641Z"
   },
   {
    "duration": 401,
    "start_time": "2022-04-14T09:15:59.651Z"
   },
   {
    "duration": 5,
    "start_time": "2022-04-14T09:16:00.054Z"
   },
   {
    "duration": 24,
    "start_time": "2022-04-14T09:16:00.061Z"
   },
   {
    "duration": 11,
    "start_time": "2022-04-14T09:16:00.087Z"
   },
   {
    "duration": 24,
    "start_time": "2022-04-14T09:16:00.100Z"
   },
   {
    "duration": 5,
    "start_time": "2022-04-14T09:16:00.126Z"
   },
   {
    "duration": 19,
    "start_time": "2022-04-14T09:16:00.133Z"
   },
   {
    "duration": 9,
    "start_time": "2022-04-14T09:16:00.154Z"
   },
   {
    "duration": 20,
    "start_time": "2022-04-14T09:16:00.165Z"
   },
   {
    "duration": 9,
    "start_time": "2022-04-14T09:16:00.187Z"
   },
   {
    "duration": 730,
    "start_time": "2022-04-14T09:16:00.198Z"
   },
   {
    "duration": 850,
    "start_time": "2022-04-14T09:16:00.931Z"
   },
   {
    "duration": 1138,
    "start_time": "2022-04-14T09:16:01.783Z"
   },
   {
    "duration": 420,
    "start_time": "2022-04-14T09:16:02.923Z"
   },
   {
    "duration": 269,
    "start_time": "2022-04-14T09:16:03.345Z"
   },
   {
    "duration": 758,
    "start_time": "2022-04-14T09:16:03.624Z"
   },
   {
    "duration": 13,
    "start_time": "2022-04-14T09:16:04.383Z"
   },
   {
    "duration": 8,
    "start_time": "2022-04-14T09:16:04.398Z"
   },
   {
    "duration": 6,
    "start_time": "2022-04-14T09:16:04.424Z"
   },
   {
    "duration": 4,
    "start_time": "2022-04-14T09:16:04.433Z"
   },
   {
    "duration": 8,
    "start_time": "2022-04-14T09:16:08.449Z"
   },
   {
    "duration": 28,
    "start_time": "2022-04-14T09:16:15.993Z"
   },
   {
    "duration": 4,
    "start_time": "2022-04-14T09:16:31.721Z"
   },
   {
    "duration": 7,
    "start_time": "2022-04-14T09:19:38.188Z"
   },
   {
    "duration": 10,
    "start_time": "2022-04-14T09:22:17.027Z"
   },
   {
    "duration": 5,
    "start_time": "2022-04-14T09:22:31.987Z"
   },
   {
    "duration": 10,
    "start_time": "2022-04-14T09:22:39.146Z"
   },
   {
    "duration": 253,
    "start_time": "2022-04-14T09:23:04.346Z"
   },
   {
    "duration": 3,
    "start_time": "2022-04-14T09:28:11.291Z"
   },
   {
    "duration": 5,
    "start_time": "2022-04-14T09:34:00.980Z"
   },
   {
    "duration": 6,
    "start_time": "2022-04-14T09:34:10.448Z"
   },
   {
    "duration": 8,
    "start_time": "2022-04-14T09:34:13.136Z"
   },
   {
    "duration": 8,
    "start_time": "2022-04-14T09:34:49.760Z"
   },
   {
    "duration": 7,
    "start_time": "2022-04-14T09:35:07.392Z"
   },
   {
    "duration": 7,
    "start_time": "2022-04-14T09:35:17.676Z"
   },
   {
    "duration": 24,
    "start_time": "2022-04-14T09:36:05.495Z"
   },
   {
    "duration": 14,
    "start_time": "2022-04-14T09:36:42.021Z"
   },
   {
    "duration": 16,
    "start_time": "2022-04-14T09:38:53.334Z"
   },
   {
    "duration": 15,
    "start_time": "2022-04-14T09:40:10.560Z"
   },
   {
    "duration": 210,
    "start_time": "2022-04-14T09:41:40.990Z"
   },
   {
    "duration": 155,
    "start_time": "2022-04-14T09:41:45.994Z"
   },
   {
    "duration": 8,
    "start_time": "2022-04-14T09:41:49.801Z"
   },
   {
    "duration": 11,
    "start_time": "2022-04-14T09:41:55.720Z"
   },
   {
    "duration": 27,
    "start_time": "2022-04-14T09:42:02.980Z"
   },
   {
    "duration": 4,
    "start_time": "2022-04-14T09:52:03.593Z"
   },
   {
    "duration": 4,
    "start_time": "2022-04-14T09:52:17.456Z"
   },
   {
    "duration": 2022,
    "start_time": "2022-04-14T09:53:27.434Z"
   },
   {
    "duration": 21,
    "start_time": "2022-04-14T09:53:50.226Z"
   },
   {
    "duration": 5,
    "start_time": "2022-04-14T09:54:34.101Z"
   },
   {
    "duration": 5,
    "start_time": "2022-04-14T09:54:42.208Z"
   },
   {
    "duration": 42,
    "start_time": "2022-04-14T09:54:45.555Z"
   },
   {
    "duration": 4,
    "start_time": "2022-04-14T09:58:32.624Z"
   },
   {
    "duration": 18,
    "start_time": "2022-04-14T09:58:34.842Z"
   },
   {
    "duration": 13,
    "start_time": "2022-04-14T09:58:45.911Z"
   },
   {
    "duration": 2,
    "start_time": "2022-04-14T10:00:43.873Z"
   },
   {
    "duration": 25,
    "start_time": "2022-04-14T10:00:46.266Z"
   },
   {
    "duration": 5,
    "start_time": "2022-04-14T10:00:58.241Z"
   },
   {
    "duration": 35,
    "start_time": "2022-04-14T10:01:00.497Z"
   },
   {
    "duration": 4,
    "start_time": "2022-04-14T10:01:36.598Z"
   },
   {
    "duration": 34,
    "start_time": "2022-04-14T10:01:39.539Z"
   },
   {
    "duration": 3,
    "start_time": "2022-04-14T10:02:06.869Z"
   },
   {
    "duration": 26,
    "start_time": "2022-04-14T10:02:09.084Z"
   },
   {
    "duration": 4,
    "start_time": "2022-04-14T10:02:20.341Z"
   },
   {
    "duration": 30,
    "start_time": "2022-04-14T10:02:22.277Z"
   },
   {
    "duration": 4,
    "start_time": "2022-04-14T10:02:56.008Z"
   },
   {
    "duration": 36,
    "start_time": "2022-04-14T10:02:58.449Z"
   },
   {
    "duration": 3,
    "start_time": "2022-04-14T10:03:03.865Z"
   },
   {
    "duration": 37,
    "start_time": "2022-04-14T10:03:06.216Z"
   },
   {
    "duration": 6,
    "start_time": "2022-04-14T10:03:16.724Z"
   },
   {
    "duration": 28,
    "start_time": "2022-04-14T10:03:21.694Z"
   },
   {
    "duration": 30,
    "start_time": "2022-04-14T10:03:37.466Z"
   },
   {
    "duration": 3,
    "start_time": "2022-04-14T10:03:44.505Z"
   },
   {
    "duration": 29,
    "start_time": "2022-04-14T10:03:47.073Z"
   },
   {
    "duration": 4,
    "start_time": "2022-04-14T10:04:45.304Z"
   },
   {
    "duration": 6,
    "start_time": "2022-04-14T10:05:18.021Z"
   },
   {
    "duration": 35,
    "start_time": "2022-04-14T10:05:20.136Z"
   },
   {
    "duration": 6,
    "start_time": "2022-04-14T10:05:38.570Z"
   },
   {
    "duration": 27,
    "start_time": "2022-04-14T10:05:40.985Z"
   },
   {
    "duration": 4,
    "start_time": "2022-04-14T10:05:46.266Z"
   },
   {
    "duration": 44,
    "start_time": "2022-04-14T10:05:47.921Z"
   },
   {
    "duration": 3,
    "start_time": "2022-04-14T10:06:55.280Z"
   },
   {
    "duration": 48,
    "start_time": "2022-04-14T10:06:57.231Z"
   },
   {
    "duration": 5,
    "start_time": "2022-04-14T10:08:01.182Z"
   },
   {
    "duration": 35,
    "start_time": "2022-04-14T10:08:03.236Z"
   },
   {
    "duration": 5,
    "start_time": "2022-04-14T10:08:10.884Z"
   },
   {
    "duration": 43,
    "start_time": "2022-04-14T10:08:12.778Z"
   },
   {
    "duration": 3,
    "start_time": "2022-04-14T10:08:58.947Z"
   },
   {
    "duration": 42,
    "start_time": "2022-04-14T10:09:01.466Z"
   },
   {
    "duration": 3,
    "start_time": "2022-04-14T10:09:10.857Z"
   },
   {
    "duration": 28,
    "start_time": "2022-04-14T10:09:12.785Z"
   },
   {
    "duration": 4,
    "start_time": "2022-04-14T10:09:31.015Z"
   },
   {
    "duration": 29,
    "start_time": "2022-04-14T10:09:37.412Z"
   },
   {
    "duration": 4,
    "start_time": "2022-04-14T10:10:01.064Z"
   },
   {
    "duration": 4,
    "start_time": "2022-04-14T10:10:06.758Z"
   },
   {
    "duration": 3,
    "start_time": "2022-04-14T10:10:35.797Z"
   },
   {
    "duration": 37,
    "start_time": "2022-04-14T10:10:38.004Z"
   },
   {
    "duration": 3,
    "start_time": "2022-04-14T10:10:41.516Z"
   },
   {
    "duration": 27,
    "start_time": "2022-04-14T10:10:43.364Z"
   },
   {
    "duration": 5,
    "start_time": "2022-04-14T10:11:53.445Z"
   },
   {
    "duration": 39,
    "start_time": "2022-04-14T10:11:55.998Z"
   },
   {
    "duration": 5,
    "start_time": "2022-04-14T10:12:06.224Z"
   },
   {
    "duration": 34,
    "start_time": "2022-04-14T10:12:08.666Z"
   },
   {
    "duration": 5,
    "start_time": "2022-04-14T10:13:07.052Z"
   },
   {
    "duration": 50,
    "start_time": "2022-04-14T10:13:09.404Z"
   },
   {
    "duration": 5,
    "start_time": "2022-04-14T10:13:17.453Z"
   },
   {
    "duration": 37,
    "start_time": "2022-04-14T10:13:19.306Z"
   },
   {
    "duration": 4,
    "start_time": "2022-04-14T10:13:34.751Z"
   },
   {
    "duration": 36,
    "start_time": "2022-04-14T10:13:36.874Z"
   },
   {
    "duration": 6,
    "start_time": "2022-04-14T10:13:45.359Z"
   },
   {
    "duration": 35,
    "start_time": "2022-04-14T10:13:47.312Z"
   },
   {
    "duration": 5,
    "start_time": "2022-04-14T10:14:01.537Z"
   },
   {
    "duration": 26,
    "start_time": "2022-04-14T10:14:03.058Z"
   },
   {
    "duration": 3,
    "start_time": "2022-04-14T10:14:10.011Z"
   },
   {
    "duration": 27,
    "start_time": "2022-04-14T10:14:11.571Z"
   },
   {
    "duration": 4,
    "start_time": "2022-04-14T10:14:25.498Z"
   },
   {
    "duration": 8,
    "start_time": "2022-04-14T10:14:30.531Z"
   },
   {
    "duration": 34,
    "start_time": "2022-04-14T10:14:32.380Z"
   },
   {
    "duration": 5,
    "start_time": "2022-04-14T10:14:39.119Z"
   },
   {
    "duration": 33,
    "start_time": "2022-04-14T10:14:40.671Z"
   },
   {
    "duration": 5,
    "start_time": "2022-04-14T10:15:01.311Z"
   },
   {
    "duration": 48,
    "start_time": "2022-04-14T10:15:03.006Z"
   },
   {
    "duration": 5,
    "start_time": "2022-04-14T10:15:07.587Z"
   },
   {
    "duration": 26,
    "start_time": "2022-04-14T10:15:09.071Z"
   },
   {
    "duration": 4,
    "start_time": "2022-04-14T10:16:22.118Z"
   },
   {
    "duration": 43,
    "start_time": "2022-04-14T10:16:25.913Z"
   },
   {
    "duration": 12,
    "start_time": "2022-04-14T10:16:56.870Z"
   },
   {
    "duration": 5,
    "start_time": "2022-04-14T10:17:06.010Z"
   },
   {
    "duration": 4,
    "start_time": "2022-04-14T10:17:19.818Z"
   },
   {
    "duration": 3,
    "start_time": "2022-04-14T10:17:33.388Z"
   },
   {
    "duration": 3,
    "start_time": "2022-04-14T10:17:42.877Z"
   },
   {
    "duration": 6,
    "start_time": "2022-04-14T10:17:42.882Z"
   },
   {
    "duration": 914,
    "start_time": "2022-04-14T10:17:42.889Z"
   },
   {
    "duration": 4,
    "start_time": "2022-04-14T10:17:43.804Z"
   },
   {
    "duration": 18,
    "start_time": "2022-04-14T10:17:43.810Z"
   },
   {
    "duration": 460,
    "start_time": "2022-04-14T10:17:43.844Z"
   },
   {
    "duration": 4,
    "start_time": "2022-04-14T10:17:44.306Z"
   },
   {
    "duration": 60,
    "start_time": "2022-04-14T10:17:44.312Z"
   },
   {
    "duration": 6,
    "start_time": "2022-04-14T10:17:44.373Z"
   },
   {
    "duration": 17,
    "start_time": "2022-04-14T10:17:44.382Z"
   },
   {
    "duration": 0,
    "start_time": "2022-04-14T10:17:44.400Z"
   },
   {
    "duration": 0,
    "start_time": "2022-04-14T10:17:44.402Z"
   },
   {
    "duration": 0,
    "start_time": "2022-04-14T10:17:44.403Z"
   },
   {
    "duration": 0,
    "start_time": "2022-04-14T10:17:44.404Z"
   },
   {
    "duration": 0,
    "start_time": "2022-04-14T10:17:44.405Z"
   },
   {
    "duration": 0,
    "start_time": "2022-04-14T10:17:44.406Z"
   },
   {
    "duration": 0,
    "start_time": "2022-04-14T10:17:44.407Z"
   },
   {
    "duration": 0,
    "start_time": "2022-04-14T10:17:44.408Z"
   },
   {
    "duration": 0,
    "start_time": "2022-04-14T10:17:44.409Z"
   },
   {
    "duration": 0,
    "start_time": "2022-04-14T10:17:44.410Z"
   },
   {
    "duration": 0,
    "start_time": "2022-04-14T10:17:44.411Z"
   },
   {
    "duration": 0,
    "start_time": "2022-04-14T10:17:44.423Z"
   },
   {
    "duration": 0,
    "start_time": "2022-04-14T10:17:44.424Z"
   },
   {
    "duration": 0,
    "start_time": "2022-04-14T10:17:44.425Z"
   },
   {
    "duration": 0,
    "start_time": "2022-04-14T10:17:44.431Z"
   },
   {
    "duration": 0,
    "start_time": "2022-04-14T10:17:44.432Z"
   },
   {
    "duration": 0,
    "start_time": "2022-04-14T10:17:44.434Z"
   },
   {
    "duration": 0,
    "start_time": "2022-04-14T10:17:44.435Z"
   },
   {
    "duration": 0,
    "start_time": "2022-04-14T10:17:44.443Z"
   },
   {
    "duration": 0,
    "start_time": "2022-04-14T10:17:44.445Z"
   },
   {
    "duration": 3,
    "start_time": "2022-04-14T10:17:46.193Z"
   },
   {
    "duration": 28,
    "start_time": "2022-04-14T10:17:48.261Z"
   },
   {
    "duration": 5,
    "start_time": "2022-04-14T10:18:36.711Z"
   },
   {
    "duration": 31,
    "start_time": "2022-04-14T10:18:39.460Z"
   },
   {
    "duration": 6,
    "start_time": "2022-04-14T10:18:50.477Z"
   },
   {
    "duration": 30,
    "start_time": "2022-04-14T10:18:52.595Z"
   },
   {
    "duration": 3,
    "start_time": "2022-04-14T10:18:56.260Z"
   },
   {
    "duration": 39,
    "start_time": "2022-04-14T10:19:00.184Z"
   },
   {
    "duration": 4,
    "start_time": "2022-04-14T10:19:21.992Z"
   },
   {
    "duration": 35,
    "start_time": "2022-04-14T10:19:24.055Z"
   },
   {
    "duration": 29,
    "start_time": "2022-04-14T10:19:24.945Z"
   },
   {
    "duration": 12,
    "start_time": "2022-04-14T10:19:47.041Z"
   },
   {
    "duration": 4,
    "start_time": "2022-04-14T10:19:48.869Z"
   },
   {
    "duration": 28,
    "start_time": "2022-04-14T10:19:51.264Z"
   },
   {
    "duration": 6,
    "start_time": "2022-04-14T10:27:29.238Z"
   },
   {
    "duration": 54,
    "start_time": "2022-04-14T10:27:31.148Z"
   },
   {
    "duration": 8,
    "start_time": "2022-04-14T10:27:41.064Z"
   },
   {
    "duration": 49,
    "start_time": "2022-04-14T10:27:43.248Z"
   },
   {
    "duration": 44,
    "start_time": "2022-04-14T10:27:55.955Z"
   },
   {
    "duration": 5,
    "start_time": "2022-04-14T10:27:57.947Z"
   },
   {
    "duration": 44,
    "start_time": "2022-04-14T10:28:00.474Z"
   },
   {
    "duration": 5,
    "start_time": "2022-04-14T10:31:15.014Z"
   },
   {
    "duration": 42,
    "start_time": "2022-04-14T10:31:16.931Z"
   },
   {
    "duration": 5,
    "start_time": "2022-04-14T10:31:36.700Z"
   },
   {
    "duration": 40,
    "start_time": "2022-04-14T10:31:38.778Z"
   },
   {
    "duration": 3,
    "start_time": "2022-04-14T10:41:06.890Z"
   },
   {
    "duration": 72,
    "start_time": "2022-04-14T10:43:26.503Z"
   },
   {
    "duration": 3,
    "start_time": "2022-04-14T10:43:43.364Z"
   },
   {
    "duration": 10,
    "start_time": "2022-04-14T10:57:42.978Z"
   },
   {
    "duration": 4,
    "start_time": "2022-04-14T10:57:48.521Z"
   },
   {
    "duration": 13,
    "start_time": "2022-04-14T10:57:52.937Z"
   },
   {
    "duration": 11,
    "start_time": "2022-04-14T10:58:09.866Z"
   },
   {
    "duration": 10,
    "start_time": "2022-04-14T11:00:59.596Z"
   },
   {
    "duration": 33296,
    "start_time": "2022-04-14T11:01:17.049Z"
   },
   {
    "duration": 4,
    "start_time": "2022-04-14T11:04:26.052Z"
   },
   {
    "duration": 31314,
    "start_time": "2022-04-14T11:04:28.389Z"
   },
   {
    "duration": 731347,
    "start_time": "2022-04-14T11:12:15.429Z"
   },
   {
    "duration": 97087,
    "start_time": "2022-04-14T11:24:38.658Z"
   },
   {
    "duration": 22750,
    "start_time": "2022-04-14T11:26:33.242Z"
   },
   {
    "duration": 2817910,
    "start_time": "2022-04-14T11:30:09.607Z"
   },
   {
    "duration": 532828,
    "start_time": "2022-04-14T12:29:59.202Z"
   },
   {
    "duration": 0,
    "start_time": "2022-04-14T12:38:52.033Z"
   },
   {
    "duration": 18,
    "start_time": "2022-04-14T12:38:55.015Z"
   },
   {
    "duration": 164,
    "start_time": "2022-04-14T12:39:45.540Z"
   },
   {
    "duration": 4,
    "start_time": "2022-04-14T12:40:01.265Z"
   },
   {
    "duration": 6997,
    "start_time": "2022-04-14T12:40:06.344Z"
   },
   {
    "duration": 11,
    "start_time": "2022-04-14T12:40:14.361Z"
   },
   {
    "duration": 12,
    "start_time": "2022-04-14T12:40:16.811Z"
   },
   {
    "duration": 5976,
    "start_time": "2022-04-14T12:40:32.696Z"
   },
   {
    "duration": 6,
    "start_time": "2022-04-14T12:41:03.846Z"
   },
   {
    "duration": 6904,
    "start_time": "2022-04-14T12:41:06.351Z"
   },
   {
    "duration": 4,
    "start_time": "2022-04-14T12:45:39.332Z"
   },
   {
    "duration": 5601,
    "start_time": "2022-04-14T12:45:41.532Z"
   },
   {
    "duration": 4,
    "start_time": "2022-04-14T12:51:56.571Z"
   },
   {
    "duration": 6,
    "start_time": "2022-04-14T12:51:56.577Z"
   },
   {
    "duration": 769,
    "start_time": "2022-04-14T12:51:56.585Z"
   },
   {
    "duration": 5,
    "start_time": "2022-04-14T12:51:57.355Z"
   },
   {
    "duration": 10,
    "start_time": "2022-04-14T12:51:57.362Z"
   },
   {
    "duration": 396,
    "start_time": "2022-04-14T12:51:57.373Z"
   },
   {
    "duration": 4,
    "start_time": "2022-04-14T12:51:57.771Z"
   },
   {
    "duration": 24,
    "start_time": "2022-04-14T12:51:57.776Z"
   },
   {
    "duration": 31,
    "start_time": "2022-04-14T12:51:57.802Z"
   },
   {
    "duration": 23,
    "start_time": "2022-04-14T12:51:57.835Z"
   },
   {
    "duration": 0,
    "start_time": "2022-04-14T12:51:57.860Z"
   },
   {
    "duration": 0,
    "start_time": "2022-04-14T12:51:57.862Z"
   },
   {
    "duration": 0,
    "start_time": "2022-04-14T12:51:57.863Z"
   },
   {
    "duration": 0,
    "start_time": "2022-04-14T12:51:57.864Z"
   },
   {
    "duration": 0,
    "start_time": "2022-04-14T12:51:57.865Z"
   },
   {
    "duration": 0,
    "start_time": "2022-04-14T12:51:57.866Z"
   },
   {
    "duration": 0,
    "start_time": "2022-04-14T12:51:57.867Z"
   },
   {
    "duration": 0,
    "start_time": "2022-04-14T12:51:57.868Z"
   },
   {
    "duration": 0,
    "start_time": "2022-04-14T12:51:57.869Z"
   },
   {
    "duration": 0,
    "start_time": "2022-04-14T12:51:57.871Z"
   },
   {
    "duration": 0,
    "start_time": "2022-04-14T12:51:57.872Z"
   },
   {
    "duration": 0,
    "start_time": "2022-04-14T12:51:57.873Z"
   },
   {
    "duration": 0,
    "start_time": "2022-04-14T12:51:57.874Z"
   },
   {
    "duration": 0,
    "start_time": "2022-04-14T12:51:57.875Z"
   },
   {
    "duration": 0,
    "start_time": "2022-04-14T12:51:57.877Z"
   },
   {
    "duration": 0,
    "start_time": "2022-04-14T12:51:57.877Z"
   },
   {
    "duration": 0,
    "start_time": "2022-04-14T12:51:57.879Z"
   },
   {
    "duration": 0,
    "start_time": "2022-04-14T12:51:57.881Z"
   },
   {
    "duration": 0,
    "start_time": "2022-04-14T12:51:57.882Z"
   },
   {
    "duration": 0,
    "start_time": "2022-04-14T12:51:57.883Z"
   },
   {
    "duration": 7,
    "start_time": "2022-04-14T12:53:19.054Z"
   },
   {
    "duration": 6,
    "start_time": "2022-04-14T12:53:28.690Z"
   },
   {
    "duration": 9,
    "start_time": "2022-04-14T12:53:32.727Z"
   },
   {
    "duration": 5,
    "start_time": "2022-04-14T12:53:35.690Z"
   },
   {
    "duration": 1034,
    "start_time": "2022-04-14T12:53:40.297Z"
   },
   {
    "duration": 863,
    "start_time": "2022-04-14T12:53:43.655Z"
   },
   {
    "duration": 974,
    "start_time": "2022-04-14T12:53:46.686Z"
   },
   {
    "duration": 435,
    "start_time": "2022-04-14T12:53:50.667Z"
   },
   {
    "duration": 439,
    "start_time": "2022-04-14T12:53:53.145Z"
   },
   {
    "duration": 719,
    "start_time": "2022-04-14T12:53:56.297Z"
   },
   {
    "duration": 14,
    "start_time": "2022-04-14T12:53:59.891Z"
   },
   {
    "duration": 7,
    "start_time": "2022-04-14T12:54:01.860Z"
   },
   {
    "duration": 6,
    "start_time": "2022-04-14T12:54:03.866Z"
   },
   {
    "duration": 4,
    "start_time": "2022-04-14T12:54:06.224Z"
   },
   {
    "duration": 4,
    "start_time": "2022-04-14T12:54:20.993Z"
   },
   {
    "duration": 4,
    "start_time": "2022-04-14T12:54:38.593Z"
   },
   {
    "duration": 5,
    "start_time": "2022-04-14T12:54:41.380Z"
   },
   {
    "duration": 5,
    "start_time": "2022-04-14T12:54:48.035Z"
   },
   {
    "duration": 3,
    "start_time": "2022-04-14T12:54:50.702Z"
   },
   {
    "duration": 8,
    "start_time": "2022-04-14T12:54:53.201Z"
   },
   {
    "duration": 12,
    "start_time": "2022-04-14T12:54:55.060Z"
   },
   {
    "duration": 69,
    "start_time": "2022-04-14T12:55:08.525Z"
   },
   {
    "duration": 55,
    "start_time": "2022-04-14T12:55:43.337Z"
   },
   {
    "duration": 27,
    "start_time": "2022-04-14T12:56:01.217Z"
   },
   {
    "duration": 4,
    "start_time": "2022-04-14T12:56:57.596Z"
   },
   {
    "duration": 9,
    "start_time": "2022-04-14T12:57:34.293Z"
   },
   {
    "duration": 6789,
    "start_time": "2022-04-14T12:57:35.837Z"
   },
   {
    "duration": 6,
    "start_time": "2022-04-14T12:58:53.214Z"
   },
   {
    "duration": 17,
    "start_time": "2022-04-14T12:59:08.600Z"
   },
   {
    "duration": 8,
    "start_time": "2022-04-14T12:59:21.391Z"
   },
   {
    "duration": 5893,
    "start_time": "2022-04-14T12:59:23.642Z"
   },
   {
    "duration": 5,
    "start_time": "2022-04-14T13:00:59.347Z"
   },
   {
    "duration": 4404,
    "start_time": "2022-04-14T13:01:19.622Z"
   },
   {
    "duration": 3167,
    "start_time": "2022-04-14T13:01:30.662Z"
   },
   {
    "duration": 22,
    "start_time": "2022-04-14T13:02:53.821Z"
   },
   {
    "duration": 5980,
    "start_time": "2022-04-14T13:03:42.369Z"
   },
   {
    "duration": 9,
    "start_time": "2022-04-14T13:03:57.933Z"
   },
   {
    "duration": 3321,
    "start_time": "2022-04-14T13:03:59.809Z"
   },
   {
    "duration": 5951,
    "start_time": "2022-04-14T13:04:18.393Z"
   },
   {
    "duration": 7,
    "start_time": "2022-04-14T13:04:35.205Z"
   },
   {
    "duration": 4170,
    "start_time": "2022-04-14T13:04:37.361Z"
   },
   {
    "duration": 196,
    "start_time": "2022-04-14T13:09:16.286Z"
   },
   {
    "duration": 19051,
    "start_time": "2022-04-14T13:09:38.476Z"
   },
   {
    "duration": 165,
    "start_time": "2022-04-14T13:11:38.440Z"
   },
   {
    "duration": 131,
    "start_time": "2022-04-14T13:11:45.321Z"
   },
   {
    "duration": 11,
    "start_time": "2022-04-14T13:12:10.965Z"
   },
   {
    "duration": 20,
    "start_time": "2022-04-14T13:12:21.517Z"
   },
   {
    "duration": 73,
    "start_time": "2022-04-14T13:13:01.292Z"
   },
   {
    "duration": 145,
    "start_time": "2022-04-14T13:13:19.424Z"
   },
   {
    "duration": 6995,
    "start_time": "2022-04-14T13:14:02.171Z"
   },
   {
    "duration": 5,
    "start_time": "2022-04-14T13:21:30.139Z"
   },
   {
    "duration": 11,
    "start_time": "2022-04-14T13:21:35.884Z"
   },
   {
    "duration": 4,
    "start_time": "2022-04-14T13:21:45.780Z"
   },
   {
    "duration": 5,
    "start_time": "2022-04-14T13:23:03.271Z"
   },
   {
    "duration": 66,
    "start_time": "2022-04-14T13:23:05.471Z"
   },
   {
    "duration": 165,
    "start_time": "2022-04-14T13:23:44.610Z"
   },
   {
    "duration": 131,
    "start_time": "2022-04-14T13:24:15.058Z"
   },
   {
    "duration": 123,
    "start_time": "2022-04-14T13:24:52.749Z"
   },
   {
    "duration": 127,
    "start_time": "2022-04-14T13:25:07.601Z"
   },
   {
    "duration": 204,
    "start_time": "2022-04-14T13:25:51.933Z"
   },
   {
    "duration": 14052,
    "start_time": "2022-04-14T13:26:03.026Z"
   },
   {
    "duration": 8654,
    "start_time": "2022-04-14T13:26:43.146Z"
   },
   {
    "duration": 8852,
    "start_time": "2022-04-14T13:27:03.510Z"
   },
   {
    "duration": 7,
    "start_time": "2022-04-14T13:27:13.183Z"
   },
   {
    "duration": 2727,
    "start_time": "2022-04-14T13:27:15.100Z"
   },
   {
    "duration": 7770,
    "start_time": "2022-04-14T13:27:19.687Z"
   },
   {
    "duration": 0,
    "start_time": "2022-04-14T13:28:25.527Z"
   },
   {
    "duration": 54640,
    "start_time": "2022-04-14T13:29:57.847Z"
   },
   {
    "duration": 49952,
    "start_time": "2022-04-14T13:31:12.877Z"
   },
   {
    "duration": 20322,
    "start_time": "2022-04-14T13:32:20.788Z"
   },
   {
    "duration": 122530,
    "start_time": "2022-04-14T13:32:48.593Z"
   },
   {
    "duration": 3099,
    "start_time": "2022-04-14T13:34:58.908Z"
   },
   {
    "duration": 215218,
    "start_time": "2022-04-14T13:35:05.452Z"
   },
   {
    "duration": 461040,
    "start_time": "2022-04-14T13:38:44.456Z"
   },
   {
    "duration": 0,
    "start_time": "2022-04-14T13:46:25.497Z"
   },
   {
    "duration": 0,
    "start_time": "2022-04-14T13:49:47.147Z"
   },
   {
    "duration": 767464,
    "start_time": "2022-04-14T13:49:48.212Z"
   },
   {
    "duration": 130,
    "start_time": "2022-04-14T14:02:37.194Z"
   },
   {
    "duration": 163,
    "start_time": "2022-04-14T14:02:42.175Z"
   },
   {
    "duration": 130,
    "start_time": "2022-04-14T14:02:48.713Z"
   },
   {
    "duration": 10,
    "start_time": "2022-04-14T14:02:54.118Z"
   },
   {
    "duration": 10,
    "start_time": "2022-04-14T14:03:57.663Z"
   },
   {
    "duration": 12,
    "start_time": "2022-04-14T14:04:26.595Z"
   },
   {
    "duration": 14,
    "start_time": "2022-04-14T14:04:40.758Z"
   },
   {
    "duration": 10,
    "start_time": "2022-04-14T14:05:04.028Z"
   },
   {
    "duration": 702,
    "start_time": "2022-04-14T14:05:16.814Z"
   },
   {
    "duration": 30276,
    "start_time": "2022-04-14T14:06:50.720Z"
   },
   {
    "duration": 3,
    "start_time": "2022-04-14T14:07:20.998Z"
   },
   {
    "duration": 2930,
    "start_time": "2022-04-14T14:09:18.797Z"
   },
   {
    "duration": 34773,
    "start_time": "2022-04-14T14:09:35.834Z"
   },
   {
    "duration": 4,
    "start_time": "2022-04-14T14:11:50.712Z"
   },
   {
    "duration": 16597,
    "start_time": "2022-04-14T14:11:55.454Z"
   },
   {
    "duration": 200264,
    "start_time": "2022-04-14T14:12:24.007Z"
   },
   {
    "duration": 0,
    "start_time": "2022-04-14T14:15:44.275Z"
   },
   {
    "duration": 4,
    "start_time": "2022-04-14T14:15:45.941Z"
   },
   {
    "duration": 16295,
    "start_time": "2022-04-14T14:16:22.095Z"
   },
   {
    "duration": 4,
    "start_time": "2022-04-14T14:16:49.925Z"
   },
   {
    "duration": 234875,
    "start_time": "2022-04-14T14:16:54.466Z"
   },
   {
    "duration": 90280,
    "start_time": "2022-04-14T14:25:13.124Z"
   },
   {
    "duration": 23936,
    "start_time": "2022-04-14T14:26:56.437Z"
   },
   {
    "duration": 0,
    "start_time": "2022-04-14T14:27:20.375Z"
   },
   {
    "duration": 4,
    "start_time": "2022-04-14T14:27:21.799Z"
   },
   {
    "duration": 10881,
    "start_time": "2022-04-14T14:27:31.628Z"
   },
   {
    "duration": 4,
    "start_time": "2022-04-14T14:27:54.518Z"
   },
   {
    "duration": 115053,
    "start_time": "2022-04-14T14:27:57.844Z"
   },
   {
    "duration": 4,
    "start_time": "2022-04-14T14:32:34.592Z"
   },
   {
    "duration": 23572,
    "start_time": "2022-04-14T14:33:20.357Z"
   },
   {
    "duration": 0,
    "start_time": "2022-04-14T14:33:43.931Z"
   },
   {
    "duration": 5,
    "start_time": "2022-04-14T14:33:45.010Z"
   },
   {
    "duration": 2646,
    "start_time": "2022-04-14T14:33:48.912Z"
   },
   {
    "duration": 521890,
    "start_time": "2022-04-14T14:33:55.146Z"
   },
   {
    "duration": 170326,
    "start_time": "2022-04-14T14:43:23.170Z"
   },
   {
    "duration": 4,
    "start_time": "2022-04-14T14:47:02.694Z"
   },
   {
    "duration": 10459,
    "start_time": "2022-04-14T14:47:12.516Z"
   },
   {
    "duration": 814157,
    "start_time": "2022-04-14T14:49:02.607Z"
   },
   {
    "duration": 0,
    "start_time": "2022-04-14T15:02:36.766Z"
   },
   {
    "duration": 3804,
    "start_time": "2022-04-14T15:02:38.492Z"
   },
   {
    "duration": 0,
    "start_time": "2022-04-14T15:03:30.551Z"
   },
   {
    "duration": 8912,
    "start_time": "2022-04-14T15:03:31.069Z"
   },
   {
    "duration": 23344,
    "start_time": "2022-04-14T15:03:43.260Z"
   },
   {
    "duration": 3632,
    "start_time": "2022-04-14T15:04:21.311Z"
   },
   {
    "duration": 5,
    "start_time": "2022-04-14T15:04:42.451Z"
   },
   {
    "duration": 12,
    "start_time": "2022-04-14T15:04:48.921Z"
   },
   {
    "duration": 2234140,
    "start_time": "2022-04-14T15:04:54.616Z"
   },
   {
    "duration": 3,
    "start_time": "2022-04-14T15:43:44.503Z"
   },
   {
    "duration": 3,
    "start_time": "2022-04-14T15:44:32.947Z"
   },
   {
    "duration": 3,
    "start_time": "2022-04-14T15:46:21.548Z"
   },
   {
    "duration": 121,
    "start_time": "2022-04-14T15:46:40.135Z"
   },
   {
    "duration": 4,
    "start_time": "2022-04-14T15:46:44.656Z"
   },
   {
    "duration": 122,
    "start_time": "2022-04-14T15:47:04.840Z"
   },
   {
    "duration": 3,
    "start_time": "2022-04-14T15:47:10.742Z"
   },
   {
    "duration": 122,
    "start_time": "2022-04-14T15:47:53.411Z"
   },
   {
    "duration": 4,
    "start_time": "2022-04-14T15:48:17.031Z"
   },
   {
    "duration": 5,
    "start_time": "2022-04-14T15:51:47.331Z"
   },
   {
    "duration": 4,
    "start_time": "2022-04-14T15:53:04.503Z"
   },
   {
    "duration": 6,
    "start_time": "2022-04-14T16:04:12.661Z"
   },
   {
    "duration": 5,
    "start_time": "2022-04-14T16:04:36.015Z"
   },
   {
    "duration": 12,
    "start_time": "2022-04-14T16:05:36.493Z"
   },
   {
    "duration": 8,
    "start_time": "2022-04-14T16:05:47.958Z"
   },
   {
    "duration": 9,
    "start_time": "2022-04-14T16:20:25.351Z"
   },
   {
    "duration": 339,
    "start_time": "2022-04-14T16:20:50.904Z"
   },
   {
    "duration": 336,
    "start_time": "2022-04-14T16:21:16.137Z"
   },
   {
    "duration": 329,
    "start_time": "2022-04-14T16:22:26.007Z"
   },
   {
    "duration": 328,
    "start_time": "2022-04-14T16:22:54.219Z"
   },
   {
    "duration": 336,
    "start_time": "2022-04-14T16:23:09.173Z"
   },
   {
    "duration": 150,
    "start_time": "2022-04-14T16:25:47.624Z"
   },
   {
    "duration": 132,
    "start_time": "2022-04-14T16:26:13.902Z"
   },
   {
    "duration": 330,
    "start_time": "2022-04-14T16:26:18.509Z"
   },
   {
    "duration": 329,
    "start_time": "2022-04-14T16:27:35.593Z"
   },
   {
    "duration": 335,
    "start_time": "2022-04-14T16:27:51.484Z"
   },
   {
    "duration": 330,
    "start_time": "2022-04-14T16:29:27.943Z"
   },
   {
    "duration": 324,
    "start_time": "2022-04-14T16:29:31.729Z"
   },
   {
    "duration": 343,
    "start_time": "2022-04-14T16:32:27.185Z"
   },
   {
    "duration": 343,
    "start_time": "2022-04-14T16:32:35.236Z"
   },
   {
    "duration": 357,
    "start_time": "2022-04-14T16:32:40.518Z"
   },
   {
    "duration": 7,
    "start_time": "2022-04-14T16:33:56.752Z"
   },
   {
    "duration": 9,
    "start_time": "2022-04-14T16:35:51.144Z"
   },
   {
    "duration": 324,
    "start_time": "2022-04-14T16:36:00.350Z"
   },
   {
    "duration": 167,
    "start_time": "2022-04-14T16:39:47.775Z"
   },
   {
    "duration": 903,
    "start_time": "2022-04-14T16:40:01.086Z"
   },
   {
    "duration": 4,
    "start_time": "2022-04-14T16:40:24.697Z"
   },
   {
    "duration": 886,
    "start_time": "2022-04-14T16:40:28.215Z"
   },
   {
    "duration": 7,
    "start_time": "2022-04-14T17:12:59.484Z"
   },
   {
    "duration": 19,
    "start_time": "2022-04-14T17:13:01.683Z"
   },
   {
    "duration": 3,
    "start_time": "2022-04-14T17:13:46.517Z"
   },
   {
    "duration": 4,
    "start_time": "2022-04-14T17:13:46.523Z"
   },
   {
    "duration": 630,
    "start_time": "2022-04-14T17:13:46.533Z"
   },
   {
    "duration": 5,
    "start_time": "2022-04-14T17:13:47.165Z"
   },
   {
    "duration": 6,
    "start_time": "2022-04-14T17:13:47.171Z"
   },
   {
    "duration": 304,
    "start_time": "2022-04-14T17:13:47.179Z"
   },
   {
    "duration": 5,
    "start_time": "2022-04-14T17:13:47.486Z"
   },
   {
    "duration": 40,
    "start_time": "2022-04-14T17:13:47.493Z"
   },
   {
    "duration": 7,
    "start_time": "2022-04-14T17:13:47.535Z"
   },
   {
    "duration": 10,
    "start_time": "2022-04-14T17:13:47.544Z"
   },
   {
    "duration": 12,
    "start_time": "2022-04-14T17:13:47.555Z"
   },
   {
    "duration": 11,
    "start_time": "2022-04-14T17:13:47.569Z"
   },
   {
    "duration": 5,
    "start_time": "2022-04-14T17:13:47.581Z"
   },
   {
    "duration": 760,
    "start_time": "2022-04-14T17:13:47.588Z"
   },
   {
    "duration": 656,
    "start_time": "2022-04-14T17:13:48.349Z"
   },
   {
    "duration": 760,
    "start_time": "2022-04-14T17:13:49.008Z"
   },
   {
    "duration": 381,
    "start_time": "2022-04-14T17:13:49.770Z"
   },
   {
    "duration": 257,
    "start_time": "2022-04-14T17:13:50.153Z"
   },
   {
    "duration": 694,
    "start_time": "2022-04-14T17:13:50.412Z"
   },
   {
    "duration": 17,
    "start_time": "2022-04-14T17:13:51.108Z"
   },
   {
    "duration": 7,
    "start_time": "2022-04-14T17:13:51.127Z"
   },
   {
    "duration": 5,
    "start_time": "2022-04-14T17:13:51.136Z"
   },
   {
    "duration": 4,
    "start_time": "2022-04-14T17:13:51.143Z"
   },
   {
    "duration": 7,
    "start_time": "2022-04-14T17:13:51.149Z"
   },
   {
    "duration": 10,
    "start_time": "2022-04-14T17:13:51.157Z"
   },
   {
    "duration": 5,
    "start_time": "2022-04-14T17:13:51.168Z"
   },
   {
    "duration": 7,
    "start_time": "2022-04-14T17:13:51.175Z"
   },
   {
    "duration": 14,
    "start_time": "2022-04-14T17:13:51.183Z"
   },
   {
    "duration": 42,
    "start_time": "2022-04-14T17:13:51.199Z"
   },
   {
    "duration": 0,
    "start_time": "2022-04-14T17:13:51.242Z"
   },
   {
    "duration": 0,
    "start_time": "2022-04-14T17:13:51.244Z"
   },
   {
    "duration": 7,
    "start_time": "2022-04-14T17:14:33.033Z"
   },
   {
    "duration": 6,
    "start_time": "2022-04-14T17:14:49.448Z"
   },
   {
    "duration": 4,
    "start_time": "2022-04-14T17:15:05.755Z"
   },
   {
    "duration": 16,
    "start_time": "2022-04-14T17:15:09.799Z"
   },
   {
    "duration": 11,
    "start_time": "2022-04-14T17:17:11.106Z"
   },
   {
    "duration": 6,
    "start_time": "2022-04-14T17:17:24.014Z"
   },
   {
    "duration": 6,
    "start_time": "2022-04-14T17:17:43.880Z"
   },
   {
    "duration": 13,
    "start_time": "2022-04-14T17:18:59.844Z"
   },
   {
    "duration": 17,
    "start_time": "2022-04-14T17:19:11.702Z"
   },
   {
    "duration": 15,
    "start_time": "2022-04-14T17:19:20.141Z"
   },
   {
    "duration": 6,
    "start_time": "2022-04-14T17:19:23.682Z"
   },
   {
    "duration": 7,
    "start_time": "2022-04-14T17:19:38.193Z"
   },
   {
    "duration": 14,
    "start_time": "2022-04-14T17:20:36.841Z"
   },
   {
    "duration": 10,
    "start_time": "2022-04-14T17:20:44.064Z"
   },
   {
    "duration": 3,
    "start_time": "2022-04-14T17:20:49.786Z"
   },
   {
    "duration": 5,
    "start_time": "2022-04-14T17:20:49.791Z"
   },
   {
    "duration": 701,
    "start_time": "2022-04-14T17:20:49.797Z"
   },
   {
    "duration": 4,
    "start_time": "2022-04-14T17:20:50.500Z"
   },
   {
    "duration": 19,
    "start_time": "2022-04-14T17:20:50.506Z"
   },
   {
    "duration": 362,
    "start_time": "2022-04-14T17:20:50.527Z"
   },
   {
    "duration": 5,
    "start_time": "2022-04-14T17:20:50.891Z"
   },
   {
    "duration": 38,
    "start_time": "2022-04-14T17:20:50.898Z"
   },
   {
    "duration": 7,
    "start_time": "2022-04-14T17:20:50.938Z"
   },
   {
    "duration": 12,
    "start_time": "2022-04-14T17:20:50.947Z"
   },
   {
    "duration": 6,
    "start_time": "2022-04-14T17:20:50.961Z"
   },
   {
    "duration": 13,
    "start_time": "2022-04-14T17:20:50.971Z"
   },
   {
    "duration": 7,
    "start_time": "2022-04-14T17:20:50.986Z"
   },
   {
    "duration": 975,
    "start_time": "2022-04-14T17:20:50.995Z"
   },
   {
    "duration": 743,
    "start_time": "2022-04-14T17:20:51.972Z"
   },
   {
    "duration": 997,
    "start_time": "2022-04-14T17:20:52.717Z"
   },
   {
    "duration": 438,
    "start_time": "2022-04-14T17:20:53.723Z"
   },
   {
    "duration": 251,
    "start_time": "2022-04-14T17:20:54.163Z"
   },
   {
    "duration": 722,
    "start_time": "2022-04-14T17:20:54.416Z"
   },
   {
    "duration": 13,
    "start_time": "2022-04-14T17:20:55.140Z"
   },
   {
    "duration": 8,
    "start_time": "2022-04-14T17:20:55.154Z"
   },
   {
    "duration": 6,
    "start_time": "2022-04-14T17:20:55.164Z"
   },
   {
    "duration": 4,
    "start_time": "2022-04-14T17:20:55.171Z"
   },
   {
    "duration": 5,
    "start_time": "2022-04-14T17:20:55.177Z"
   },
   {
    "duration": 40,
    "start_time": "2022-04-14T17:20:55.184Z"
   },
   {
    "duration": 5,
    "start_time": "2022-04-14T17:20:55.225Z"
   },
   {
    "duration": 9,
    "start_time": "2022-04-14T17:20:57.684Z"
   },
   {
    "duration": 8,
    "start_time": "2022-04-14T17:21:09.597Z"
   },
   {
    "duration": 2071,
    "start_time": "2022-04-14T17:21:12.956Z"
   },
   {
    "duration": 7,
    "start_time": "2022-04-14T17:21:21.932Z"
   },
   {
    "duration": 2185,
    "start_time": "2022-04-14T17:21:35.152Z"
   },
   {
    "duration": 2622,
    "start_time": "2022-04-14T17:21:43.902Z"
   },
   {
    "duration": 2603,
    "start_time": "2022-04-14T17:21:48.722Z"
   },
   {
    "duration": 10,
    "start_time": "2022-04-14T17:22:30.058Z"
   },
   {
    "duration": 2457,
    "start_time": "2022-04-14T17:22:32.167Z"
   },
   {
    "duration": 7,
    "start_time": "2022-04-14T17:22:46.319Z"
   },
   {
    "duration": 2532,
    "start_time": "2022-04-14T17:22:48.799Z"
   },
   {
    "duration": 4,
    "start_time": "2022-04-14T17:27:12.789Z"
   },
   {
    "duration": 6,
    "start_time": "2022-04-14T17:27:12.794Z"
   },
   {
    "duration": 633,
    "start_time": "2022-04-14T17:27:12.802Z"
   },
   {
    "duration": 4,
    "start_time": "2022-04-14T17:27:13.436Z"
   },
   {
    "duration": 6,
    "start_time": "2022-04-14T17:27:13.442Z"
   },
   {
    "duration": 288,
    "start_time": "2022-04-14T17:27:13.449Z"
   },
   {
    "duration": 4,
    "start_time": "2022-04-14T17:27:13.738Z"
   },
   {
    "duration": 22,
    "start_time": "2022-04-14T17:27:13.744Z"
   },
   {
    "duration": 13,
    "start_time": "2022-04-14T17:27:13.767Z"
   },
   {
    "duration": 16,
    "start_time": "2022-04-14T17:27:13.782Z"
   },
   {
    "duration": 6,
    "start_time": "2022-04-14T17:27:13.799Z"
   },
   {
    "duration": 20,
    "start_time": "2022-04-14T17:27:13.807Z"
   },
   {
    "duration": 4,
    "start_time": "2022-04-14T17:27:13.828Z"
   },
   {
    "duration": 768,
    "start_time": "2022-04-14T17:27:13.834Z"
   },
   {
    "duration": 664,
    "start_time": "2022-04-14T17:27:14.603Z"
   },
   {
    "duration": 777,
    "start_time": "2022-04-14T17:27:15.269Z"
   },
   {
    "duration": 389,
    "start_time": "2022-04-14T17:27:16.048Z"
   },
   {
    "duration": 259,
    "start_time": "2022-04-14T17:27:16.439Z"
   },
   {
    "duration": 699,
    "start_time": "2022-04-14T17:27:16.699Z"
   },
   {
    "duration": 12,
    "start_time": "2022-04-14T17:27:17.400Z"
   },
   {
    "duration": 7,
    "start_time": "2022-04-14T17:27:17.423Z"
   },
   {
    "duration": 5,
    "start_time": "2022-04-14T17:27:17.431Z"
   },
   {
    "duration": 4,
    "start_time": "2022-04-14T17:27:17.438Z"
   },
   {
    "duration": 6,
    "start_time": "2022-04-14T17:27:17.443Z"
   },
   {
    "duration": 8,
    "start_time": "2022-04-14T17:27:17.452Z"
   },
   {
    "duration": 5,
    "start_time": "2022-04-14T17:27:17.461Z"
   },
   {
    "duration": 13,
    "start_time": "2022-04-14T17:27:17.467Z"
   },
   {
    "duration": 3,
    "start_time": "2022-04-14T17:27:17.482Z"
   },
   {
    "duration": 1937,
    "start_time": "2022-04-14T17:27:17.487Z"
   },
   {
    "duration": 100,
    "start_time": "2022-04-14T17:27:19.426Z"
   },
   {
    "duration": 2503,
    "start_time": "2022-04-14T17:27:19.528Z"
   },
   {
    "duration": 313129,
    "start_time": "2022-04-14T17:27:29.626Z"
   },
   {
    "duration": 0,
    "start_time": "2022-04-14T17:32:42.757Z"
   },
   {
    "duration": 0,
    "start_time": "2022-04-14T17:32:42.758Z"
   },
   {
    "duration": 0,
    "start_time": "2022-04-14T17:32:42.760Z"
   },
   {
    "duration": 0,
    "start_time": "2022-04-14T17:32:42.761Z"
   },
   {
    "duration": 1386,
    "start_time": "2022-04-14T17:32:54.307Z"
   },
   {
    "duration": 3,
    "start_time": "2022-04-14T17:32:55.695Z"
   },
   {
    "duration": 710,
    "start_time": "2022-04-14T17:32:55.700Z"
   },
   {
    "duration": 14,
    "start_time": "2022-04-14T17:32:56.412Z"
   },
   {
    "duration": 4,
    "start_time": "2022-04-14T17:32:56.428Z"
   },
   {
    "duration": 298,
    "start_time": "2022-04-14T17:32:56.434Z"
   },
   {
    "duration": 4,
    "start_time": "2022-04-14T17:32:56.733Z"
   },
   {
    "duration": 23,
    "start_time": "2022-04-14T17:32:56.739Z"
   },
   {
    "duration": 10,
    "start_time": "2022-04-14T17:32:56.764Z"
   },
   {
    "duration": 8,
    "start_time": "2022-04-14T17:32:56.775Z"
   },
   {
    "duration": 8,
    "start_time": "2022-04-14T17:32:56.784Z"
   },
   {
    "duration": 33,
    "start_time": "2022-04-14T17:32:56.794Z"
   },
   {
    "duration": 5,
    "start_time": "2022-04-14T17:32:56.829Z"
   },
   {
    "duration": 742,
    "start_time": "2022-04-14T17:32:56.837Z"
   },
   {
    "duration": 651,
    "start_time": "2022-04-14T17:32:57.581Z"
   },
   {
    "duration": 770,
    "start_time": "2022-04-14T17:32:58.234Z"
   },
   {
    "duration": 396,
    "start_time": "2022-04-14T17:32:59.006Z"
   },
   {
    "duration": 984,
    "start_time": "2022-04-14T17:32:59.403Z"
   },
   {
    "duration": 579,
    "start_time": "2022-04-14T17:33:00.389Z"
   },
   {
    "duration": 17,
    "start_time": "2022-04-14T17:33:00.970Z"
   },
   {
    "duration": 9,
    "start_time": "2022-04-14T17:33:00.989Z"
   },
   {
    "duration": 27,
    "start_time": "2022-04-14T17:33:00.999Z"
   },
   {
    "duration": 23,
    "start_time": "2022-04-14T17:33:01.028Z"
   },
   {
    "duration": 33,
    "start_time": "2022-04-14T17:33:01.053Z"
   },
   {
    "duration": 12,
    "start_time": "2022-04-14T17:33:01.088Z"
   },
   {
    "duration": 13,
    "start_time": "2022-04-14T17:33:01.102Z"
   },
   {
    "duration": 125,
    "start_time": "2022-04-14T17:33:01.116Z"
   },
   {
    "duration": 0,
    "start_time": "2022-04-14T17:33:01.244Z"
   },
   {
    "duration": 0,
    "start_time": "2022-04-14T17:33:01.244Z"
   },
   {
    "duration": 0,
    "start_time": "2022-04-14T17:33:01.246Z"
   },
   {
    "duration": 0,
    "start_time": "2022-04-14T17:33:01.247Z"
   },
   {
    "duration": 0,
    "start_time": "2022-04-14T17:33:01.248Z"
   },
   {
    "duration": 0,
    "start_time": "2022-04-14T17:33:01.249Z"
   },
   {
    "duration": 0,
    "start_time": "2022-04-14T17:33:01.250Z"
   },
   {
    "duration": 1,
    "start_time": "2022-04-14T17:33:01.250Z"
   },
   {
    "duration": 0,
    "start_time": "2022-04-14T17:33:01.251Z"
   },
   {
    "duration": 4,
    "start_time": "2022-04-14T17:35:10.753Z"
   },
   {
    "duration": 6,
    "start_time": "2022-04-14T17:35:13.044Z"
   },
   {
    "duration": 11,
    "start_time": "2022-04-14T17:35:15.555Z"
   },
   {
    "duration": 1537,
    "start_time": "2022-04-14T17:35:28.347Z"
   },
   {
    "duration": 4,
    "start_time": "2022-04-14T17:35:29.886Z"
   },
   {
    "duration": 985,
    "start_time": "2022-04-14T17:35:29.892Z"
   },
   {
    "duration": 6,
    "start_time": "2022-04-14T17:35:30.880Z"
   },
   {
    "duration": 16,
    "start_time": "2022-04-14T17:35:30.888Z"
   },
   {
    "duration": 519,
    "start_time": "2022-04-14T17:35:30.906Z"
   },
   {
    "duration": 5,
    "start_time": "2022-04-14T17:35:31.428Z"
   },
   {
    "duration": 42,
    "start_time": "2022-04-14T17:35:31.435Z"
   },
   {
    "duration": 8,
    "start_time": "2022-04-14T17:35:31.479Z"
   },
   {
    "duration": 8,
    "start_time": "2022-04-14T17:35:31.491Z"
   },
   {
    "duration": 35,
    "start_time": "2022-04-14T17:35:31.502Z"
   },
   {
    "duration": 47,
    "start_time": "2022-04-14T17:35:31.538Z"
   },
   {
    "duration": 5,
    "start_time": "2022-04-14T17:35:31.587Z"
   },
   {
    "duration": 916,
    "start_time": "2022-04-14T17:35:31.594Z"
   },
   {
    "duration": 685,
    "start_time": "2022-04-14T17:35:32.512Z"
   },
   {
    "duration": 772,
    "start_time": "2022-04-14T17:35:33.199Z"
   },
   {
    "duration": 692,
    "start_time": "2022-04-14T17:35:33.973Z"
   },
   {
    "duration": 521,
    "start_time": "2022-04-14T17:35:34.667Z"
   },
   {
    "duration": 563,
    "start_time": "2022-04-14T17:35:35.190Z"
   },
   {
    "duration": 21,
    "start_time": "2022-04-14T17:35:35.755Z"
   },
   {
    "duration": 10,
    "start_time": "2022-04-14T17:35:35.777Z"
   },
   {
    "duration": 7,
    "start_time": "2022-04-14T17:35:35.788Z"
   },
   {
    "duration": 29,
    "start_time": "2022-04-14T17:35:35.797Z"
   },
   {
    "duration": 7,
    "start_time": "2022-04-14T17:35:35.828Z"
   },
   {
    "duration": 20,
    "start_time": "2022-04-14T17:35:35.836Z"
   },
   {
    "duration": 4,
    "start_time": "2022-04-14T17:35:35.858Z"
   },
   {
    "duration": 30,
    "start_time": "2022-04-14T17:35:35.863Z"
   },
   {
    "duration": 4,
    "start_time": "2022-04-14T17:35:35.897Z"
   },
   {
    "duration": 3120,
    "start_time": "2022-04-14T17:35:35.903Z"
   },
   {
    "duration": 99,
    "start_time": "2022-04-14T17:35:39.025Z"
   },
   {
    "duration": 2899,
    "start_time": "2022-04-14T17:35:39.126Z"
   },
   {
    "duration": 218,
    "start_time": "2022-04-14T17:35:42.027Z"
   },
   {
    "duration": 0,
    "start_time": "2022-04-14T17:35:42.247Z"
   },
   {
    "duration": 0,
    "start_time": "2022-04-14T17:35:42.248Z"
   },
   {
    "duration": 0,
    "start_time": "2022-04-14T17:35:42.249Z"
   },
   {
    "duration": 0,
    "start_time": "2022-04-14T17:35:42.251Z"
   },
   {
    "duration": 25,
    "start_time": "2022-04-14T17:36:49.043Z"
   },
   {
    "duration": 1371,
    "start_time": "2022-04-14T17:36:54.347Z"
   },
   {
    "duration": 4,
    "start_time": "2022-04-14T17:36:55.719Z"
   },
   {
    "duration": 1066,
    "start_time": "2022-04-14T17:36:55.725Z"
   },
   {
    "duration": 5,
    "start_time": "2022-04-14T17:36:56.794Z"
   },
   {
    "duration": 12,
    "start_time": "2022-04-14T17:36:56.800Z"
   },
   {
    "duration": 273,
    "start_time": "2022-04-14T17:36:56.823Z"
   },
   {
    "duration": 4,
    "start_time": "2022-04-14T17:36:57.098Z"
   },
   {
    "duration": 34,
    "start_time": "2022-04-14T17:36:57.103Z"
   },
   {
    "duration": 14,
    "start_time": "2022-04-14T17:36:57.139Z"
   },
   {
    "duration": 7,
    "start_time": "2022-04-14T17:36:57.157Z"
   },
   {
    "duration": 7,
    "start_time": "2022-04-14T17:36:57.166Z"
   },
   {
    "duration": 13,
    "start_time": "2022-04-14T17:36:57.175Z"
   },
   {
    "duration": 7,
    "start_time": "2022-04-14T17:36:57.189Z"
   },
   {
    "duration": 750,
    "start_time": "2022-04-14T17:36:57.197Z"
   },
   {
    "duration": 657,
    "start_time": "2022-04-14T17:36:57.949Z"
   },
   {
    "duration": 765,
    "start_time": "2022-04-14T17:36:58.607Z"
   },
   {
    "duration": 385,
    "start_time": "2022-04-14T17:36:59.373Z"
   },
   {
    "duration": 506,
    "start_time": "2022-04-14T17:36:59.759Z"
   },
   {
    "duration": 603,
    "start_time": "2022-04-14T17:37:00.267Z"
   },
   {
    "duration": 17,
    "start_time": "2022-04-14T17:37:00.872Z"
   },
   {
    "duration": 11,
    "start_time": "2022-04-14T17:37:00.891Z"
   },
   {
    "duration": 24,
    "start_time": "2022-04-14T17:37:00.904Z"
   },
   {
    "duration": 19,
    "start_time": "2022-04-14T17:37:00.930Z"
   },
   {
    "duration": 15,
    "start_time": "2022-04-14T17:37:00.951Z"
   },
   {
    "duration": 17,
    "start_time": "2022-04-14T17:37:00.968Z"
   },
   {
    "duration": 9,
    "start_time": "2022-04-14T17:37:00.987Z"
   },
   {
    "duration": 29,
    "start_time": "2022-04-14T17:37:00.999Z"
   },
   {
    "duration": 9,
    "start_time": "2022-04-14T17:37:01.032Z"
   },
   {
    "duration": 2889,
    "start_time": "2022-04-14T17:37:01.042Z"
   },
   {
    "duration": 8,
    "start_time": "2022-04-14T17:37:03.933Z"
   },
   {
    "duration": 3601,
    "start_time": "2022-04-14T17:37:04.024Z"
   },
   {
    "duration": 40458,
    "start_time": "2022-04-14T17:37:07.627Z"
   },
   {
    "duration": 0,
    "start_time": "2022-04-14T17:37:48.087Z"
   },
   {
    "duration": 0,
    "start_time": "2022-04-14T17:37:48.088Z"
   },
   {
    "duration": 0,
    "start_time": "2022-04-14T17:37:48.089Z"
   },
   {
    "duration": 0,
    "start_time": "2022-04-14T17:37:48.091Z"
   },
   {
    "duration": 0,
    "start_time": "2022-04-14T17:37:48.091Z"
   },
   {
    "duration": 1398,
    "start_time": "2022-04-14T17:37:52.126Z"
   },
   {
    "duration": 4,
    "start_time": "2022-04-14T17:37:53.526Z"
   },
   {
    "duration": 699,
    "start_time": "2022-04-14T17:37:53.531Z"
   },
   {
    "duration": 5,
    "start_time": "2022-04-14T17:37:54.232Z"
   },
   {
    "duration": 6,
    "start_time": "2022-04-14T17:37:54.239Z"
   },
   {
    "duration": 300,
    "start_time": "2022-04-14T17:37:54.246Z"
   },
   {
    "duration": 4,
    "start_time": "2022-04-14T17:37:54.547Z"
   },
   {
    "duration": 19,
    "start_time": "2022-04-14T17:37:54.553Z"
   },
   {
    "duration": 10,
    "start_time": "2022-04-14T17:37:54.573Z"
   },
   {
    "duration": 9,
    "start_time": "2022-04-14T17:37:54.585Z"
   },
   {
    "duration": 29,
    "start_time": "2022-04-14T17:37:54.595Z"
   },
   {
    "duration": 14,
    "start_time": "2022-04-14T17:37:54.626Z"
   },
   {
    "duration": 6,
    "start_time": "2022-04-14T17:37:54.641Z"
   },
   {
    "duration": 767,
    "start_time": "2022-04-14T17:37:54.649Z"
   },
   {
    "duration": 651,
    "start_time": "2022-04-14T17:37:55.418Z"
   },
   {
    "duration": 746,
    "start_time": "2022-04-14T17:37:56.071Z"
   },
   {
    "duration": 373,
    "start_time": "2022-04-14T17:37:56.823Z"
   },
   {
    "duration": 493,
    "start_time": "2022-04-14T17:37:57.198Z"
   },
   {
    "duration": 565,
    "start_time": "2022-04-14T17:37:57.693Z"
   },
   {
    "duration": 17,
    "start_time": "2022-04-14T17:37:58.260Z"
   },
   {
    "duration": 8,
    "start_time": "2022-04-14T17:37:58.278Z"
   },
   {
    "duration": 5,
    "start_time": "2022-04-14T17:37:58.288Z"
   },
   {
    "duration": 7,
    "start_time": "2022-04-14T17:37:58.295Z"
   },
   {
    "duration": 4,
    "start_time": "2022-04-14T17:37:58.324Z"
   },
   {
    "duration": 10,
    "start_time": "2022-04-14T17:37:58.329Z"
   },
   {
    "duration": 4,
    "start_time": "2022-04-14T17:37:58.340Z"
   },
   {
    "duration": 15,
    "start_time": "2022-04-14T17:37:58.346Z"
   },
   {
    "duration": 4,
    "start_time": "2022-04-14T17:37:58.364Z"
   },
   {
    "duration": 2957,
    "start_time": "2022-04-14T17:37:58.370Z"
   },
   {
    "duration": 9,
    "start_time": "2022-04-14T17:38:01.329Z"
   },
   {
    "duration": 3286,
    "start_time": "2022-04-14T17:38:01.339Z"
   },
   {
    "duration": 2453359,
    "start_time": "2022-04-14T17:38:04.627Z"
   },
   {
    "duration": 3,
    "start_time": "2022-04-14T18:18:57.988Z"
   },
   {
    "duration": 7,
    "start_time": "2022-04-14T18:18:57.993Z"
   },
   {
    "duration": 26,
    "start_time": "2022-04-14T18:18:58.001Z"
   },
   {
    "duration": 933,
    "start_time": "2022-04-14T18:18:58.030Z"
   },
   {
    "duration": 3,
    "start_time": "2022-04-14T18:20:22.256Z"
   },
   {
    "duration": 4,
    "start_time": "2022-04-14T18:20:44.369Z"
   },
   {
    "duration": 4,
    "start_time": "2022-04-14T18:20:46.902Z"
   },
   {
    "duration": 5,
    "start_time": "2022-04-14T18:20:49.351Z"
   },
   {
    "duration": 6,
    "start_time": "2022-04-14T18:21:06.469Z"
   },
   {
    "duration": 10,
    "start_time": "2022-04-14T18:21:14.738Z"
   },
   {
    "duration": 2362,
    "start_time": "2022-04-14T18:21:17.585Z"
   },
   {
    "duration": 4268,
    "start_time": "2022-04-15T13:40:43.174Z"
   },
   {
    "duration": 5,
    "start_time": "2022-04-15T13:40:47.445Z"
   },
   {
    "duration": 990,
    "start_time": "2022-04-15T13:40:47.452Z"
   },
   {
    "duration": 7,
    "start_time": "2022-04-15T13:40:48.444Z"
   },
   {
    "duration": 5,
    "start_time": "2022-04-15T13:40:48.481Z"
   },
   {
    "duration": 568,
    "start_time": "2022-04-15T13:40:48.488Z"
   },
   {
    "duration": 6,
    "start_time": "2022-04-15T13:40:49.058Z"
   },
   {
    "duration": 49,
    "start_time": "2022-04-15T13:40:49.066Z"
   },
   {
    "duration": 7,
    "start_time": "2022-04-15T13:40:49.117Z"
   },
   {
    "duration": 10,
    "start_time": "2022-04-15T13:40:49.126Z"
   },
   {
    "duration": 6,
    "start_time": "2022-04-15T13:40:49.138Z"
   },
   {
    "duration": 14,
    "start_time": "2022-04-15T13:40:49.182Z"
   },
   {
    "duration": 7,
    "start_time": "2022-04-15T13:40:49.198Z"
   },
   {
    "duration": 1403,
    "start_time": "2022-04-15T13:40:49.209Z"
   },
   {
    "duration": 1302,
    "start_time": "2022-04-15T13:40:50.614Z"
   },
   {
    "duration": 1394,
    "start_time": "2022-04-15T13:40:51.919Z"
   },
   {
    "duration": 760,
    "start_time": "2022-04-15T13:40:53.315Z"
   },
   {
    "duration": 807,
    "start_time": "2022-04-15T13:40:54.077Z"
   },
   {
    "duration": 1100,
    "start_time": "2022-04-15T13:40:54.886Z"
   },
   {
    "duration": 28,
    "start_time": "2022-04-15T13:40:55.988Z"
   },
   {
    "duration": 14,
    "start_time": "2022-04-15T13:40:56.018Z"
   },
   {
    "duration": 7,
    "start_time": "2022-04-15T13:40:56.034Z"
   },
   {
    "duration": 4,
    "start_time": "2022-04-15T13:40:56.044Z"
   },
   {
    "duration": 5,
    "start_time": "2022-04-15T13:40:56.083Z"
   },
   {
    "duration": 15,
    "start_time": "2022-04-15T13:40:56.090Z"
   },
   {
    "duration": 7,
    "start_time": "2022-04-15T13:47:27.812Z"
   },
   {
    "duration": 5,
    "start_time": "2022-04-15T13:47:35.146Z"
   },
   {
    "duration": 17,
    "start_time": "2022-04-15T13:49:02.621Z"
   },
   {
    "duration": 9,
    "start_time": "2022-04-15T13:49:23.481Z"
   },
   {
    "duration": 8,
    "start_time": "2022-04-15T13:49:28.183Z"
   }
  ],
  "kernelspec": {
   "display_name": "Python 3 (ipykernel)",
   "language": "python",
   "name": "python3"
  },
  "language_info": {
   "codemirror_mode": {
    "name": "ipython",
    "version": 3
   },
   "file_extension": ".py",
   "mimetype": "text/x-python",
   "name": "python",
   "nbconvert_exporter": "python",
   "pygments_lexer": "ipython3",
   "version": "3.9.12"
  },
  "toc": {
   "base_numbering": 1,
   "nav_menu": {},
   "number_sections": true,
   "sideBar": true,
   "skip_h1_title": true,
   "title_cell": "Содержание",
   "title_sidebar": "Contents",
   "toc_cell": true,
   "toc_position": {
    "height": "calc(100% - 180px)",
    "left": "10px",
    "top": "150px",
    "width": "165px"
   },
   "toc_section_display": true,
   "toc_window_display": false
  }
 },
 "nbformat": 4,
 "nbformat_minor": 2
}
