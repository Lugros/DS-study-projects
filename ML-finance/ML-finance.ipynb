{
 "cells": [
  {
   "cell_type": "markdown",
   "metadata": {},
   "source": [
    "# Отток клиентов"
   ]
  },
  {
   "cell_type": "markdown",
   "metadata": {},
   "source": [
    "Из «Бета-Банка» стали уходить клиенты. Каждый месяц. Немного, но заметно. Банковские маркетологи посчитали: сохранять текущих клиентов дешевле, чем привлекать новых.\n",
    "\n",
    "Нужно спрогнозировать, уйдёт клиент из банка в ближайшее время или нет. Вам предоставлены исторические данные о поведении клиентов и расторжении договоров с банком. \n",
    "\n",
    "Постройте модель с предельно большим значением *F1*-меры. Чтобы сдать проект успешно, нужно довести метрику до 0.59. Проверьте *F1*-меру на тестовой выборке самостоятельно.\n",
    "\n",
    "Дополнительно измеряйте *AUC-ROC*, сравнивайте её значение с *F1*-мерой.\n",
    "\n",
    "Источник данных: [https://www.kaggle.com/barelydedicated/bank-customer-churn-modeling](https://www.kaggle.com/barelydedicated/bank-customer-churn-modeling)"
   ]
  },
  {
   "cell_type": "markdown",
   "metadata": {},
   "source": [
    "## Подготовка данных"
   ]
  },
  {
   "cell_type": "code",
   "execution_count": 16,
   "metadata": {},
   "outputs": [],
   "source": [
    "import pandas as pd\n",
    "\n",
    "from sklearn.model_selection import train_test_split\n",
    "from sklearn.preprocessing import StandardScaler\n",
    "from sklearn.utils import shuffle\n",
    "\n",
    "from sklearn.ensemble import RandomForestClassifier\n",
    "from sklearn.linear_model import LogisticRegression\n",
    "from sklearn.dummy import DummyClassifier\n",
    "\n",
    "from sklearn.metrics import f1_score\n",
    "from sklearn.metrics import roc_curve\n",
    "from sklearn.metrics import roc_auc_score\n",
    "\n",
    "import matplotlib.pyplot as plt\n",
    "\n",
    "import re"
   ]
  },
  {
   "cell_type": "code",
   "execution_count": 17,
   "metadata": {
    "scrolled": true
   },
   "outputs": [
    {
     "data": {
      "text/html": [
       "<div>\n",
       "<style scoped>\n",
       "    .dataframe tbody tr th:only-of-type {\n",
       "        vertical-align: middle;\n",
       "    }\n",
       "\n",
       "    .dataframe tbody tr th {\n",
       "        vertical-align: top;\n",
       "    }\n",
       "\n",
       "    .dataframe thead th {\n",
       "        text-align: right;\n",
       "    }\n",
       "</style>\n",
       "<table border=\"1\" class=\"dataframe\">\n",
       "  <thead>\n",
       "    <tr style=\"text-align: right;\">\n",
       "      <th></th>\n",
       "      <th>RowNumber</th>\n",
       "      <th>CustomerId</th>\n",
       "      <th>Surname</th>\n",
       "      <th>CreditScore</th>\n",
       "      <th>Geography</th>\n",
       "      <th>Gender</th>\n",
       "      <th>Age</th>\n",
       "      <th>Tenure</th>\n",
       "      <th>Balance</th>\n",
       "      <th>NumOfProducts</th>\n",
       "      <th>HasCrCard</th>\n",
       "      <th>IsActiveMember</th>\n",
       "      <th>EstimatedSalary</th>\n",
       "      <th>Exited</th>\n",
       "    </tr>\n",
       "  </thead>\n",
       "  <tbody>\n",
       "    <tr>\n",
       "      <th>0</th>\n",
       "      <td>1</td>\n",
       "      <td>15634602</td>\n",
       "      <td>Hargrave</td>\n",
       "      <td>619</td>\n",
       "      <td>France</td>\n",
       "      <td>Female</td>\n",
       "      <td>42</td>\n",
       "      <td>2.0</td>\n",
       "      <td>0.00</td>\n",
       "      <td>1</td>\n",
       "      <td>1</td>\n",
       "      <td>1</td>\n",
       "      <td>101348.88</td>\n",
       "      <td>1</td>\n",
       "    </tr>\n",
       "    <tr>\n",
       "      <th>1</th>\n",
       "      <td>2</td>\n",
       "      <td>15647311</td>\n",
       "      <td>Hill</td>\n",
       "      <td>608</td>\n",
       "      <td>Spain</td>\n",
       "      <td>Female</td>\n",
       "      <td>41</td>\n",
       "      <td>1.0</td>\n",
       "      <td>83807.86</td>\n",
       "      <td>1</td>\n",
       "      <td>0</td>\n",
       "      <td>1</td>\n",
       "      <td>112542.58</td>\n",
       "      <td>0</td>\n",
       "    </tr>\n",
       "    <tr>\n",
       "      <th>2</th>\n",
       "      <td>3</td>\n",
       "      <td>15619304</td>\n",
       "      <td>Onio</td>\n",
       "      <td>502</td>\n",
       "      <td>France</td>\n",
       "      <td>Female</td>\n",
       "      <td>42</td>\n",
       "      <td>8.0</td>\n",
       "      <td>159660.80</td>\n",
       "      <td>3</td>\n",
       "      <td>1</td>\n",
       "      <td>0</td>\n",
       "      <td>113931.57</td>\n",
       "      <td>1</td>\n",
       "    </tr>\n",
       "    <tr>\n",
       "      <th>3</th>\n",
       "      <td>4</td>\n",
       "      <td>15701354</td>\n",
       "      <td>Boni</td>\n",
       "      <td>699</td>\n",
       "      <td>France</td>\n",
       "      <td>Female</td>\n",
       "      <td>39</td>\n",
       "      <td>1.0</td>\n",
       "      <td>0.00</td>\n",
       "      <td>2</td>\n",
       "      <td>0</td>\n",
       "      <td>0</td>\n",
       "      <td>93826.63</td>\n",
       "      <td>0</td>\n",
       "    </tr>\n",
       "    <tr>\n",
       "      <th>4</th>\n",
       "      <td>5</td>\n",
       "      <td>15737888</td>\n",
       "      <td>Mitchell</td>\n",
       "      <td>850</td>\n",
       "      <td>Spain</td>\n",
       "      <td>Female</td>\n",
       "      <td>43</td>\n",
       "      <td>2.0</td>\n",
       "      <td>125510.82</td>\n",
       "      <td>1</td>\n",
       "      <td>1</td>\n",
       "      <td>1</td>\n",
       "      <td>79084.10</td>\n",
       "      <td>0</td>\n",
       "    </tr>\n",
       "    <tr>\n",
       "      <th>5</th>\n",
       "      <td>6</td>\n",
       "      <td>15574012</td>\n",
       "      <td>Chu</td>\n",
       "      <td>645</td>\n",
       "      <td>Spain</td>\n",
       "      <td>Male</td>\n",
       "      <td>44</td>\n",
       "      <td>8.0</td>\n",
       "      <td>113755.78</td>\n",
       "      <td>2</td>\n",
       "      <td>1</td>\n",
       "      <td>0</td>\n",
       "      <td>149756.71</td>\n",
       "      <td>1</td>\n",
       "    </tr>\n",
       "    <tr>\n",
       "      <th>6</th>\n",
       "      <td>7</td>\n",
       "      <td>15592531</td>\n",
       "      <td>Bartlett</td>\n",
       "      <td>822</td>\n",
       "      <td>France</td>\n",
       "      <td>Male</td>\n",
       "      <td>50</td>\n",
       "      <td>7.0</td>\n",
       "      <td>0.00</td>\n",
       "      <td>2</td>\n",
       "      <td>1</td>\n",
       "      <td>1</td>\n",
       "      <td>10062.80</td>\n",
       "      <td>0</td>\n",
       "    </tr>\n",
       "    <tr>\n",
       "      <th>7</th>\n",
       "      <td>8</td>\n",
       "      <td>15656148</td>\n",
       "      <td>Obinna</td>\n",
       "      <td>376</td>\n",
       "      <td>Germany</td>\n",
       "      <td>Female</td>\n",
       "      <td>29</td>\n",
       "      <td>4.0</td>\n",
       "      <td>115046.74</td>\n",
       "      <td>4</td>\n",
       "      <td>1</td>\n",
       "      <td>0</td>\n",
       "      <td>119346.88</td>\n",
       "      <td>1</td>\n",
       "    </tr>\n",
       "    <tr>\n",
       "      <th>8</th>\n",
       "      <td>9</td>\n",
       "      <td>15792365</td>\n",
       "      <td>He</td>\n",
       "      <td>501</td>\n",
       "      <td>France</td>\n",
       "      <td>Male</td>\n",
       "      <td>44</td>\n",
       "      <td>4.0</td>\n",
       "      <td>142051.07</td>\n",
       "      <td>2</td>\n",
       "      <td>0</td>\n",
       "      <td>1</td>\n",
       "      <td>74940.50</td>\n",
       "      <td>0</td>\n",
       "    </tr>\n",
       "    <tr>\n",
       "      <th>9</th>\n",
       "      <td>10</td>\n",
       "      <td>15592389</td>\n",
       "      <td>H?</td>\n",
       "      <td>684</td>\n",
       "      <td>France</td>\n",
       "      <td>Male</td>\n",
       "      <td>27</td>\n",
       "      <td>2.0</td>\n",
       "      <td>134603.88</td>\n",
       "      <td>1</td>\n",
       "      <td>1</td>\n",
       "      <td>1</td>\n",
       "      <td>71725.73</td>\n",
       "      <td>0</td>\n",
       "    </tr>\n",
       "  </tbody>\n",
       "</table>\n",
       "</div>"
      ],
      "text/plain": [
       "   RowNumber  CustomerId   Surname  CreditScore Geography  Gender  Age  \\\n",
       "0          1    15634602  Hargrave          619    France  Female   42   \n",
       "1          2    15647311      Hill          608     Spain  Female   41   \n",
       "2          3    15619304      Onio          502    France  Female   42   \n",
       "3          4    15701354      Boni          699    France  Female   39   \n",
       "4          5    15737888  Mitchell          850     Spain  Female   43   \n",
       "5          6    15574012       Chu          645     Spain    Male   44   \n",
       "6          7    15592531  Bartlett          822    France    Male   50   \n",
       "7          8    15656148    Obinna          376   Germany  Female   29   \n",
       "8          9    15792365        He          501    France    Male   44   \n",
       "9         10    15592389        H?          684    France    Male   27   \n",
       "\n",
       "   Tenure    Balance  NumOfProducts  HasCrCard  IsActiveMember  \\\n",
       "0     2.0       0.00              1          1               1   \n",
       "1     1.0   83807.86              1          0               1   \n",
       "2     8.0  159660.80              3          1               0   \n",
       "3     1.0       0.00              2          0               0   \n",
       "4     2.0  125510.82              1          1               1   \n",
       "5     8.0  113755.78              2          1               0   \n",
       "6     7.0       0.00              2          1               1   \n",
       "7     4.0  115046.74              4          1               0   \n",
       "8     4.0  142051.07              2          0               1   \n",
       "9     2.0  134603.88              1          1               1   \n",
       "\n",
       "   EstimatedSalary  Exited  \n",
       "0        101348.88       1  \n",
       "1        112542.58       0  \n",
       "2        113931.57       1  \n",
       "3         93826.63       0  \n",
       "4         79084.10       0  \n",
       "5        149756.71       1  \n",
       "6         10062.80       0  \n",
       "7        119346.88       1  \n",
       "8         74940.50       0  \n",
       "9         71725.73       0  "
      ]
     },
     "execution_count": 17,
     "metadata": {},
     "output_type": "execute_result"
    }
   ],
   "source": [
    "df = pd.read_csv('/datasets/Churn.csv')\n",
    "df.head(10)"
   ]
  },
  {
   "cell_type": "markdown",
   "metadata": {},
   "source": [
    "Признаки\n",
    "- RowNumber — индекс строки в данных\n",
    "- CustomerId — уникальный идентификатор клиента\n",
    "- Surname — фамилия\n",
    "- CreditScore — кредитный рейтинг\n",
    "- Geography — страна проживания\n",
    "- Gender — пол\n",
    "- Age — возраст\n",
    "- Tenure — сколько лет человек является клиентом банка\n",
    "- Balance — баланс на счёте\n",
    "- NumOfProducts — количество продуктов банка, используемых клиентом\n",
    "- HasCrCard — наличие кредитной карты\n",
    "- IsActiveMember — активность клиента\n",
    "- EstimatedSalary — предполагаемая зарплата\n",
    "\n",
    "Целевой признак\n",
    "- Exited — факт ухода клиента"
   ]
  },
  {
   "cell_type": "markdown",
   "metadata": {},
   "source": [
    "Не все признаки, нам понадобятся для обучения модели, признаки RowNumber, CustomerId, Surname можно исключить. "
   ]
  },
  {
   "cell_type": "code",
   "execution_count": 18,
   "metadata": {
    "scrolled": false
   },
   "outputs": [
    {
     "name": "stdout",
     "output_type": "stream",
     "text": [
      "<class 'pandas.core.frame.DataFrame'>\n",
      "RangeIndex: 10000 entries, 0 to 9999\n",
      "Data columns (total 11 columns):\n",
      " #   Column           Non-Null Count  Dtype  \n",
      "---  ------           --------------  -----  \n",
      " 0   CreditScore      10000 non-null  int64  \n",
      " 1   Geography        10000 non-null  object \n",
      " 2   Gender           10000 non-null  object \n",
      " 3   Age              10000 non-null  int64  \n",
      " 4   Tenure           9091 non-null   float64\n",
      " 5   Balance          10000 non-null  float64\n",
      " 6   NumOfProducts    10000 non-null  int64  \n",
      " 7   HasCrCard        10000 non-null  int64  \n",
      " 8   IsActiveMember   10000 non-null  int64  \n",
      " 9   EstimatedSalary  10000 non-null  float64\n",
      " 10  Exited           10000 non-null  int64  \n",
      "dtypes: float64(3), int64(6), object(2)\n",
      "memory usage: 859.5+ KB\n"
     ]
    }
   ],
   "source": [
    "df = df.drop(['RowNumber', 'CustomerId', 'Surname'], axis = 1)\n",
    "df.info()"
   ]
  },
  {
   "cell_type": "markdown",
   "metadata": {},
   "source": [
    "Переименуем столбцы"
   ]
  },
  {
   "cell_type": "code",
   "execution_count": 19,
   "metadata": {},
   "outputs": [],
   "source": [
    "for name in df.columns:\n",
    "    rena = re.sub(r\"(?=[A-Z])(?!^)\", '_', name).lower()\n",
    "    df = df.rename(columns={name:rena})\n",
    "df = df.rename(columns={\"geography\":\"country\"})"
   ]
  },
  {
   "cell_type": "code",
   "execution_count": 20,
   "metadata": {},
   "outputs": [
    {
     "data": {
      "text/plain": [
       "Index(['credit_score', 'country', 'gender', 'age', 'tenure', 'balance',\n",
       "       'num_of_products', 'has_cr_card', 'is_active_member',\n",
       "       'estimated_salary', 'exited'],\n",
       "      dtype='object')"
      ]
     },
     "execution_count": 20,
     "metadata": {},
     "output_type": "execute_result"
    }
   ],
   "source": [
    "df.columns"
   ]
  },
  {
   "cell_type": "code",
   "execution_count": 21,
   "metadata": {},
   "outputs": [
    {
     "data": {
      "text/plain": [
       "0.2037"
      ]
     },
     "execution_count": 21,
     "metadata": {},
     "output_type": "execute_result"
    }
   ],
   "source": [
    "df.exited.mean()"
   ]
  },
  {
   "cell_type": "markdown",
   "metadata": {},
   "source": [
    "Классы не сбалансированы, \"1\" те кто ушли составляют 20%, всех клиентов в выборке"
   ]
  },
  {
   "cell_type": "code",
   "execution_count": 22,
   "metadata": {},
   "outputs": [
    {
     "data": {
      "text/plain": [
       "0.0909"
      ]
     },
     "execution_count": 22,
     "metadata": {},
     "output_type": "execute_result"
    }
   ],
   "source": [
    "df.tenure.isna().mean()"
   ]
  },
  {
   "cell_type": "markdown",
   "metadata": {},
   "source": [
    "В столбце 'tenure' содержатся пропуски и составляют 9%, заполним их медианными значениями. "
   ]
  },
  {
   "cell_type": "code",
   "execution_count": 23,
   "metadata": {
    "scrolled": false
   },
   "outputs": [
    {
     "data": {
      "text/plain": [
       "Text(0.5, 0, 'Возраст клиента')"
      ]
     },
     "execution_count": 23,
     "metadata": {},
     "output_type": "execute_result"
    },
    {
     "data": {
      "image/png": "[encoded data removed]",
      "text/plain": [
       "<Figure size 576x432 with 1 Axes>"
      ]
     },
     "metadata": {
      "needs_background": "light"
     },
     "output_type": "display_data"
    }
   ],
   "source": [
    "ax = df.groupby('age')['tenure'].median().plot(figsize = (8,6), grid =True)\n",
    "ax.set_title('Зависимость продолжительности сотрудничества от возраста')\n",
    "ax.set_ylabel('Сколько лет клиент')\n",
    "ax.set_xlabel('Возраст клиента') "
   ]
  },
  {
   "cell_type": "code",
   "execution_count": 24,
   "metadata": {
    "scrolled": false
   },
   "outputs": [
    {
     "name": "stdout",
     "output_type": "stream",
     "text": [
      "5.0 медиана для людей младше 50\n",
      "5.0 медиана для людей старше 50\n"
     ]
    }
   ],
   "source": [
    "print(df[df.age < 50].tenure.median(), 'медиана для людей младше 50')\n",
    "print(df[df.age >= 50].tenure.median(), 'медиана для людей старше 50')"
   ]
  },
  {
   "cell_type": "markdown",
   "metadata": {},
   "source": [
    "Медиана равна 5. Заполним пропуски этим значением и сразу приведем к целочисленному типу"
   ]
  },
  {
   "cell_type": "code",
   "execution_count": 25,
   "metadata": {
    "scrolled": false
   },
   "outputs": [
    {
     "name": "stdout",
     "output_type": "stream",
     "text": [
      "int64\n",
      "0\n"
     ]
    }
   ],
   "source": [
    "df.tenure = df.tenure.fillna(5).astype(int)\n",
    "print(df.tenure.dtype)\n",
    "print(df.tenure.isna().sum())"
   ]
  },
  {
   "cell_type": "markdown",
   "metadata": {},
   "source": [
    "Переименуем столбцы"
   ]
  },
  {
   "cell_type": "markdown",
   "metadata": {},
   "source": [
    "Проведём кодирование данных методом OHE."
   ]
  },
  {
   "cell_type": "code",
   "execution_count": 26,
   "metadata": {},
   "outputs": [],
   "source": [
    "df_ohe = pd.get_dummies(df, drop_first = True)"
   ]
  },
  {
   "cell_type": "markdown",
   "metadata": {},
   "source": [
    "## Исследование задачи"
   ]
  },
  {
   "cell_type": "markdown",
   "metadata": {},
   "source": [
    "### Препроцессинг"
   ]
  },
  {
   "cell_type": "code",
   "execution_count": 27,
   "metadata": {},
   "outputs": [],
   "source": [
    "target = df_ohe.exited\n",
    "features = df_ohe.drop(['exited'], axis = 1)"
   ]
  },
  {
   "cell_type": "markdown",
   "metadata": {},
   "source": [
    "Так как данные для теста не предоставляются, разобьём исходную выборку на: обучающую, валидационную и тестовую, в отношении 60/20/20 соотвественно."
   ]
  },
  {
   "cell_type": "code",
   "execution_count": 28,
   "metadata": {},
   "outputs": [],
   "source": [
    "features_train, features_vt, target_train, target_vt = train_test_split(features, target, test_size = 0.4, random_state = 123, stratify = target)\n",
    "features_valid, features_test, target_valid, target_test = train_test_split(features_vt, target_vt, test_size = 0.5, random_state = 123, stratify = target_vt)"
   ]
  },
  {
   "cell_type": "code",
   "execution_count": 29,
   "metadata": {},
   "outputs": [
    {
     "name": "stdout",
     "output_type": "stream",
     "text": [
      "(6000, 11) (2000, 11) (2000, 11)\n"
     ]
    }
   ],
   "source": [
    "print(features_train.shape,\n",
    "features_valid.shape,\n",
    "features_test.shape)"
   ]
  },
  {
   "cell_type": "markdown",
   "metadata": {},
   "source": [
    "Проведём масштабирование выборок"
   ]
  },
  {
   "cell_type": "code",
   "execution_count": 30,
   "metadata": {
    "scrolled": true
   },
   "outputs": [
    {
     "name": "stderr",
     "output_type": "stream",
     "text": [
      "/tmp/ipykernel_37/1572206702.py:6: SettingWithCopyWarning: \n",
      "A value is trying to be set on a copy of a slice from a DataFrame.\n",
      "Try using .loc[row_indexer,col_indexer] = value instead\n",
      "\n",
      "See the caveats in the documentation: https://pandas.pydata.org/pandas-docs/stable/user_guide/indexing.html#returning-a-view-versus-a-copy\n",
      "  features_train[numeric] = scaler.transform(features_train[numeric])\n",
      "/opt/conda/lib/python3.9/site-packages/pandas/core/indexing.py:1738: SettingWithCopyWarning: \n",
      "A value is trying to be set on a copy of a slice from a DataFrame.\n",
      "Try using .loc[row_indexer,col_indexer] = value instead\n",
      "\n",
      "See the caveats in the documentation: https://pandas.pydata.org/pandas-docs/stable/user_guide/indexing.html#returning-a-view-versus-a-copy\n",
      "  self._setitem_single_column(loc, value[:, i].tolist(), pi)\n",
      "/tmp/ipykernel_37/1572206702.py:7: SettingWithCopyWarning: \n",
      "A value is trying to be set on a copy of a slice from a DataFrame.\n",
      "Try using .loc[row_indexer,col_indexer] = value instead\n",
      "\n",
      "See the caveats in the documentation: https://pandas.pydata.org/pandas-docs/stable/user_guide/indexing.html#returning-a-view-versus-a-copy\n",
      "  features_valid[numeric] = scaler.transform(features_valid[numeric])\n",
      "/opt/conda/lib/python3.9/site-packages/pandas/core/indexing.py:1738: SettingWithCopyWarning: \n",
      "A value is trying to be set on a copy of a slice from a DataFrame.\n",
      "Try using .loc[row_indexer,col_indexer] = value instead\n",
      "\n",
      "See the caveats in the documentation: https://pandas.pydata.org/pandas-docs/stable/user_guide/indexing.html#returning-a-view-versus-a-copy\n",
      "  self._setitem_single_column(loc, value[:, i].tolist(), pi)\n",
      "/tmp/ipykernel_37/1572206702.py:8: SettingWithCopyWarning: \n",
      "A value is trying to be set on a copy of a slice from a DataFrame.\n",
      "Try using .loc[row_indexer,col_indexer] = value instead\n",
      "\n",
      "See the caveats in the documentation: https://pandas.pydata.org/pandas-docs/stable/user_guide/indexing.html#returning-a-view-versus-a-copy\n",
      "  features_test[numeric] = scaler.transform(features_test[numeric])\n",
      "/opt/conda/lib/python3.9/site-packages/pandas/core/indexing.py:1738: SettingWithCopyWarning: \n",
      "A value is trying to be set on a copy of a slice from a DataFrame.\n",
      "Try using .loc[row_indexer,col_indexer] = value instead\n",
      "\n",
      "See the caveats in the documentation: https://pandas.pydata.org/pandas-docs/stable/user_guide/indexing.html#returning-a-view-versus-a-copy\n",
      "  self._setitem_single_column(loc, value[:, i].tolist(), pi)\n"
     ]
    }
   ],
   "source": [
    "numeric = ['credit_score', 'age', 'tenure', 'balance',\n",
    "       'num_of_products', 'estimated_salary']\n",
    "\n",
    "scaler = StandardScaler()\n",
    "scaler.fit(features_train[numeric])\n",
    "features_train[numeric] = scaler.transform(features_train[numeric])\n",
    "features_valid[numeric] = scaler.transform(features_valid[numeric])\n",
    "features_test[numeric] = scaler.transform(features_test[numeric])"
   ]
  },
  {
   "cell_type": "markdown",
   "metadata": {},
   "source": [
    "### Подбор модели, без учёта дисбаланса классов"
   ]
  },
  {
   "cell_type": "markdown",
   "metadata": {},
   "source": [
    "Подберем наилучшие параметры для Random Forest "
   ]
  },
  {
   "cell_type": "code",
   "execution_count": 31,
   "metadata": {},
   "outputs": [],
   "source": [
    "def choose_forest(features_train, target_train, features_valid, target_valid):\n",
    "    best_model = None\n",
    "    f1 = 0\n",
    "    for n in range(30,100,3):\n",
    "        for j in range(2,15):\n",
    "            model = RandomForestClassifier(n_estimators = n, max_depth = j, random_state = 12345)\n",
    "            model.fit(features_train,target_train)\n",
    "            predictions_valid = model.predict(features_valid)\n",
    "            f1_new = f1_score(target_valid,predictions_valid)\n",
    "            if f1_new > f1:\n",
    "                f1 = f1_new\n",
    "                best_model = model\n",
    "    print ('n_estimators = ', n)\n",
    "    print ('max_depth = ', j)\n",
    "    print ('f1 = ', f1)\n",
    "    return model"
   ]
  },
  {
   "cell_type": "code",
   "execution_count": 32,
   "metadata": {},
   "outputs": [
    {
     "name": "stdout",
     "output_type": "stream",
     "text": [
      "n_estimators =  99\n",
      "max_depth =  14\n",
      "f1 =  0.5709828393135725\n"
     ]
    },
    {
     "data": {
      "text/plain": [
       "RandomForestClassifier(max_depth=14, n_estimators=99, random_state=12345)"
      ]
     },
     "execution_count": 32,
     "metadata": {},
     "output_type": "execute_result"
    }
   ],
   "source": [
    "choose_forest(features_train, target_train, features_valid, target_valid)"
   ]
  },
  {
   "cell_type": "code",
   "execution_count": 33,
   "metadata": {},
   "outputs": [
    {
     "name": "stdout",
     "output_type": "stream",
     "text": [
      "f1 =  0.29840142095914746\n"
     ]
    }
   ],
   "source": [
    "model = LogisticRegression(random_state = 12345,solver='liblinear')\n",
    "model.fit(features_train,target_train)\n",
    "predictions_valid = model.predict(features_valid)\n",
    "print ('f1 = ', f1_score(target_valid,predictions_valid))"
   ]
  },
  {
   "cell_type": "markdown",
   "metadata": {},
   "source": [
    "**Выводы:** модель  Random Forest дала результат лучше, чем Линейная регрессия, при дисбалансе классов f1 = 0.57."
   ]
  },
  {
   "cell_type": "markdown",
   "metadata": {},
   "source": [
    "## Борьба с дисбалансом"
   ]
  },
  {
   "cell_type": "markdown",
   "metadata": {},
   "source": [
    "### Использование балансировки класса в параметрах модели"
   ]
  },
  {
   "cell_type": "markdown",
   "metadata": {},
   "source": [
    "Обучим модель Логистическая Регрессия с параметром class_weight = 'balanced'"
   ]
  },
  {
   "cell_type": "code",
   "execution_count": 34,
   "metadata": {},
   "outputs": [
    {
     "name": "stdout",
     "output_type": "stream",
     "text": [
      "f1 =  0.46140350877192987\n"
     ]
    }
   ],
   "source": [
    "model = LogisticRegression(random_state=12345, solver='liblinear',class_weight = 'balanced')\n",
    "model.fit(features_train, target_train)\n",
    "predicted_valid = model.predict(features_valid)\n",
    "print(\"f1 = \", f1_score(target_valid, predicted_valid))"
   ]
  },
  {
   "cell_type": "code",
   "execution_count": 35,
   "metadata": {},
   "outputs": [
    {
     "name": "stdout",
     "output_type": "stream",
     "text": [
      "0.5793304221251819\n"
     ]
    }
   ],
   "source": [
    "model = RandomForestClassifier(n_estimators = 99, max_depth = 14, random_state = 12345, class_weight = 'balanced')\n",
    "model.fit(features_train,target_train)\n",
    "predictions_valid = model.predict(features_valid)\n",
    "print(f1_score(target_valid,predictions_valid))"
   ]
  },
  {
   "cell_type": "markdown",
   "metadata": {},
   "source": [
    "### Увеличим обучающую выборку, способом upsample"
   ]
  },
  {
   "cell_type": "code",
   "execution_count": 36,
   "metadata": {},
   "outputs": [
    {
     "name": "stdout",
     "output_type": "stream",
     "text": [
      "f1 =  0.4575389948006932\n"
     ]
    }
   ],
   "source": [
    "def upsample(features, target, repeat):\n",
    "    features_zeros = features[target == 0]\n",
    "    features_ones = features[target == 1]\n",
    "    target_zeros = target[target == 0]\n",
    "    target_ones = target[target == 1]\n",
    "\n",
    "    features_upsampled = pd.concat([features_zeros] + [features_ones] * repeat)\n",
    "    target_upsampled = pd.concat([target_zeros] + [target_ones] * repeat)\n",
    "    \n",
    "    features_upsampled, target_upsampled = shuffle(\n",
    "        features_upsampled, target_upsampled, random_state=12345)\n",
    "    \n",
    "    return features_upsampled, target_upsampled\n",
    "\n",
    "features_upsampled, target_upsampled = upsample(features_train, target_train, 4)\n",
    "\n",
    "model = LogisticRegression(random_state=12345,solver='liblinear')\n",
    "model.fit(features_upsampled, target_upsampled)\n",
    "predicted_valid = model.predict(features_valid)\n",
    "\n",
    "print(\"f1 = \", f1_score(target_valid, predicted_valid))"
   ]
  },
  {
   "cell_type": "code",
   "execution_count": 37,
   "metadata": {
    "scrolled": true
   },
   "outputs": [
    {
     "name": "stdout",
     "output_type": "stream",
     "text": [
      "n_estimators =  99\n",
      "max_depth =  14\n",
      "f1 =  0.6234357224118315\n"
     ]
    }
   ],
   "source": [
    "best_model = choose_forest(features_upsampled, target_upsampled, features_valid, target_valid)"
   ]
  },
  {
   "cell_type": "markdown",
   "metadata": {},
   "source": [
    "### Уменьшим обучающую выборку, способом downsample"
   ]
  },
  {
   "cell_type": "code",
   "execution_count": 38,
   "metadata": {},
   "outputs": [],
   "source": [
    "def downsample(features, target, fraction):\n",
    "    features_zeros = features[target == 0]\n",
    "    features_ones = features[target == 1]\n",
    "    target_zeros = target[target == 0]\n",
    "    target_ones = target[target == 1]\n",
    "\n",
    "    features_downsampled = pd.concat(\n",
    "        [features_zeros.sample(frac=fraction, random_state=12345)] + [features_ones])\n",
    "    target_downsampled = pd.concat(\n",
    "        [target_zeros.sample(frac=fraction, random_state=12345)] + [target_ones])\n",
    "    \n",
    "    features_downsampled, target_downsampled = shuffle(\n",
    "        features_downsampled, target_downsampled, random_state=12345)\n",
    "    \n",
    "    return features_downsampled, target_downsampled\n",
    "\n",
    "features_downsampled, target_downsampled = downsample(features_train, target_train, 0.2)"
   ]
  },
  {
   "cell_type": "code",
   "execution_count": 39,
   "metadata": {},
   "outputs": [
    {
     "name": "stdout",
     "output_type": "stream",
     "text": [
      "f1 =  0.453639846743295\n"
     ]
    }
   ],
   "source": [
    "model = LogisticRegression(random_state=12345,solver='liblinear')\n",
    "model.fit(features_downsampled, target_downsampled)\n",
    "predicted_valid = model.predict(features_valid)\n",
    "\n",
    "# < напишите код здесь >\n",
    "\n",
    "print(\"f1 = \", f1_score(target_valid, predicted_valid))"
   ]
  },
  {
   "cell_type": "code",
   "execution_count": 40,
   "metadata": {
    "scrolled": true
   },
   "outputs": [
    {
     "name": "stdout",
     "output_type": "stream",
     "text": [
      "n_estimators =  99\n",
      "max_depth =  14\n",
      "f1 =  0.5539000876424189\n"
     ]
    },
    {
     "data": {
      "text/plain": [
       "RandomForestClassifier(max_depth=14, n_estimators=99, random_state=12345)"
      ]
     },
     "execution_count": 40,
     "metadata": {},
     "output_type": "execute_result"
    }
   ],
   "source": [
    "choose_forest(features_downsampled, target_downsampled, features_valid, target_valid)"
   ]
  },
  {
   "cell_type": "markdown",
   "metadata": {},
   "source": [
    "**Вывод:** увеличение выборки лучше помогло справиться с дисбалансом классов, наилучшей результат показала модель Random Forest, с теми же гиперпараметрами, что и для несбалансированной выборки. Количество деревьев = 99, максимальная глубина равна 14. f1 стало 0.62"
   ]
  },
  {
   "cell_type": "markdown",
   "metadata": {},
   "source": [
    "## Тестирование модели"
   ]
  },
  {
   "cell_type": "markdown",
   "metadata": {},
   "source": [
    "Тестирование наилучшей модели, \"Случайный лес\" с количеством деревьев 99, максимальной глубиной дерева 14."
   ]
  },
  {
   "cell_type": "code",
   "execution_count": 41,
   "metadata": {
    "scrolled": false
   },
   "outputs": [
    {
     "name": "stdout",
     "output_type": "stream",
     "text": [
      "f1 =  0.6248462484624846\n"
     ]
    }
   ],
   "source": [
    "predicted_test = best_model.predict(features_test)\n",
    "print(\"f1 = \", f1_score(target_test, predicted_test))"
   ]
  },
  {
   "cell_type": "code",
   "execution_count": 42,
   "metadata": {
    "scrolled": false
   },
   "outputs": [
    {
     "name": "stdout",
     "output_type": "stream",
     "text": [
      "roc_auc 0.8603002077578348\n"
     ]
    },
    {
     "data": {
      "text/plain": [
       "Text(0.5, 1.0, 'ROC-кривая')"
      ]
     },
     "execution_count": 42,
     "metadata": {},
     "output_type": "execute_result"
    },
    {
     "data": {
      "image/png": "[encoded data removed]",
      "text/plain": [
       "<Figure size 432x288 with 1 Axes>"
      ]
     },
     "metadata": {
      "needs_background": "light"
     },
     "output_type": "display_data"
    }
   ],
   "source": [
    "probabilities_test = best_model.predict_proba(features_test)\n",
    "probabilities_one_test = probabilities_test[:, 1]\n",
    "\n",
    "fpr, tpr, thresholds = roc_curve(target_test, probabilities_one_test) \n",
    "print('roc_auc', roc_auc_score(target_test, probabilities_one_test))\n",
    "\n",
    "plt.figure()\n",
    "\n",
    "\n",
    "# ROC-кривая случайной модели (выглядит как прямая)\n",
    "plt.plot(fpr,tpr, linestyle='--')\n",
    "plt.xlim([0.0, 1.0])\n",
    "plt.ylim([0.0, 1.0])\n",
    "plt.xlabel('False Positive Rate')\n",
    "plt.ylabel('True Positive Rate')\n",
    "plt.title('ROC-кривая')"
   ]
  },
  {
   "cell_type": "markdown",
   "metadata": {},
   "source": [
    "Подобранная модель, даёт результаты лучше, чем случайная."
   ]
  },
  {
   "cell_type": "code",
   "execution_count": 44,
   "metadata": {},
   "outputs": [
    {
     "name": "stdout",
     "output_type": "stream",
     "text": [
      "f1 score dummy:  0.0\n"
     ]
    }
   ],
   "source": [
    "dummy_model = DummyClassifier(strategy='most_frequent').fit(features_train,target_train)\n",
    "dummy_predictions = dummy_model.predict(features_test)\n",
    "\n",
    "print('f1 score dummy: ', f1_score(target_test,dummy_predictions))"
   ]
  },
  {
   "cell_type": "markdown",
   "metadata": {},
   "source": [
    "**Выводы:** На тестовых данных выбранная модель RandomForestClassifier(max_depth=14, n_estimators=99) дала оценку f1 даже лучше чем на валидационной выборке f1 = 0.624. \n",
    "Таким образом для улучшения обучения при дисбалансе классов, помогло увеличение выборки upsampling. \n",
    "В свою очередь, константная модель показала очень плохой показатель, f1 = 0"
   ]
  }
 ],
 "metadata": {
  "ExecuteTimeLog": [
   {
    "duration": 459,
    "start_time": "2022-03-30T21:40:03.918Z"
   },
   {
    "duration": 38,
    "start_time": "2022-03-30T21:40:14.773Z"
   },
   {
    "duration": 14,
    "start_time": "2022-03-30T21:41:03.345Z"
   },
   {
    "duration": 63,
    "start_time": "2022-03-30T21:42:36.378Z"
   },
   {
    "duration": 4,
    "start_time": "2022-03-30T21:42:58.298Z"
   },
   {
    "duration": 11,
    "start_time": "2022-03-30T21:43:54.574Z"
   },
   {
    "duration": 38,
    "start_time": "2022-03-30T21:43:58.932Z"
   },
   {
    "duration": 75,
    "start_time": "2022-03-31T10:24:24.881Z"
   },
   {
    "duration": 536,
    "start_time": "2022-03-31T10:24:29.165Z"
   },
   {
    "duration": 19,
    "start_time": "2022-03-31T10:24:29.703Z"
   },
   {
    "duration": 21,
    "start_time": "2022-03-31T10:24:29.724Z"
   },
   {
    "duration": 8,
    "start_time": "2022-03-31T10:24:32.279Z"
   },
   {
    "duration": 32,
    "start_time": "2022-03-31T10:24:40.725Z"
   },
   {
    "duration": 36,
    "start_time": "2022-03-31T10:25:32.134Z"
   },
   {
    "duration": 8,
    "start_time": "2022-03-31T10:25:51.176Z"
   },
   {
    "duration": 32,
    "start_time": "2022-03-31T10:26:26.882Z"
   },
   {
    "duration": 11,
    "start_time": "2022-03-31T10:26:55.149Z"
   },
   {
    "duration": 12,
    "start_time": "2022-03-31T10:27:50.962Z"
   },
   {
    "duration": 77,
    "start_time": "2022-03-31T12:28:10.906Z"
   },
   {
    "duration": 25,
    "start_time": "2022-03-31T12:28:48.423Z"
   },
   {
    "duration": 21,
    "start_time": "2022-03-31T12:28:57.087Z"
   },
   {
    "duration": 23,
    "start_time": "2022-03-31T12:29:06.938Z"
   },
   {
    "duration": 18,
    "start_time": "2022-03-31T12:29:23.591Z"
   },
   {
    "duration": 21,
    "start_time": "2022-03-31T12:29:55.346Z"
   },
   {
    "duration": 48,
    "start_time": "2022-03-31T12:30:46.965Z"
   },
   {
    "duration": 53,
    "start_time": "2022-03-31T12:31:33.663Z"
   },
   {
    "duration": 6,
    "start_time": "2022-03-31T12:32:52.068Z"
   },
   {
    "duration": 41,
    "start_time": "2022-03-31T12:33:05.634Z"
   },
   {
    "duration": 14,
    "start_time": "2022-03-31T12:34:07.804Z"
   },
   {
    "duration": 14,
    "start_time": "2022-03-31T12:34:27.924Z"
   },
   {
    "duration": 9,
    "start_time": "2022-03-31T12:34:34.475Z"
   },
   {
    "duration": 1032,
    "start_time": "2022-03-31T12:35:12.292Z"
   },
   {
    "duration": 196,
    "start_time": "2022-03-31T12:36:06.077Z"
   },
   {
    "duration": 8,
    "start_time": "2022-03-31T12:36:40.477Z"
   },
   {
    "duration": 7,
    "start_time": "2022-03-31T12:38:48.521Z"
   },
   {
    "duration": 28,
    "start_time": "2022-03-31T12:38:54.368Z"
   },
   {
    "duration": 10,
    "start_time": "2022-03-31T12:38:57.217Z"
   },
   {
    "duration": 9,
    "start_time": "2022-03-31T12:39:00.345Z"
   },
   {
    "duration": 263,
    "start_time": "2022-03-31T12:40:24.124Z"
   },
   {
    "duration": 8,
    "start_time": "2022-03-31T12:40:52.988Z"
   },
   {
    "duration": 5,
    "start_time": "2022-03-31T12:42:39.605Z"
   },
   {
    "duration": 9,
    "start_time": "2022-03-31T12:42:53.164Z"
   },
   {
    "duration": 11,
    "start_time": "2022-03-31T12:44:22.914Z"
   },
   {
    "duration": 17,
    "start_time": "2022-03-31T12:44:27.515Z"
   },
   {
    "duration": 12,
    "start_time": "2022-03-31T12:44:37.654Z"
   },
   {
    "duration": 5,
    "start_time": "2022-03-31T12:44:41.674Z"
   },
   {
    "duration": 15,
    "start_time": "2022-03-31T12:44:50.667Z"
   },
   {
    "duration": 243,
    "start_time": "2022-03-31T12:44:57.403Z"
   },
   {
    "duration": 306,
    "start_time": "2022-03-31T12:46:20.486Z"
   },
   {
    "duration": 51,
    "start_time": "2022-03-31T12:46:41.103Z"
   },
   {
    "duration": 217,
    "start_time": "2022-03-31T12:48:04.572Z"
   },
   {
    "duration": 32,
    "start_time": "2022-03-31T12:48:09.464Z"
   },
   {
    "duration": 7,
    "start_time": "2022-03-31T12:50:06.302Z"
   },
   {
    "duration": 7,
    "start_time": "2022-03-31T12:53:49.778Z"
   },
   {
    "duration": 18,
    "start_time": "2022-03-31T12:55:25.309Z"
   },
   {
    "duration": 12,
    "start_time": "2022-03-31T12:55:44.650Z"
   },
   {
    "duration": 11,
    "start_time": "2022-03-31T12:55:58.145Z"
   },
   {
    "duration": 12,
    "start_time": "2022-03-31T12:56:10.645Z"
   },
   {
    "duration": 12,
    "start_time": "2022-03-31T12:56:13.197Z"
   },
   {
    "duration": 12,
    "start_time": "2022-03-31T12:56:21.927Z"
   },
   {
    "duration": 10,
    "start_time": "2022-03-31T12:56:27.332Z"
   },
   {
    "duration": 11,
    "start_time": "2022-03-31T12:56:31.389Z"
   },
   {
    "duration": 12,
    "start_time": "2022-03-31T12:56:43.625Z"
   },
   {
    "duration": 11,
    "start_time": "2022-03-31T12:57:46.720Z"
   },
   {
    "duration": 12,
    "start_time": "2022-03-31T12:58:06.588Z"
   },
   {
    "duration": 232,
    "start_time": "2022-03-31T12:58:45.081Z"
   },
   {
    "duration": 244,
    "start_time": "2022-03-31T12:59:28.465Z"
   },
   {
    "duration": 257,
    "start_time": "2022-03-31T12:59:33.599Z"
   },
   {
    "duration": 295,
    "start_time": "2022-03-31T12:59:38.687Z"
   },
   {
    "duration": 224,
    "start_time": "2022-03-31T13:00:46.921Z"
   },
   {
    "duration": 287,
    "start_time": "2022-03-31T13:01:01.314Z"
   },
   {
    "duration": 261,
    "start_time": "2022-03-31T13:01:19.408Z"
   },
   {
    "duration": 268,
    "start_time": "2022-03-31T13:01:24.424Z"
   },
   {
    "duration": 260,
    "start_time": "2022-03-31T13:01:51.386Z"
   },
   {
    "duration": 240,
    "start_time": "2022-03-31T13:02:02.905Z"
   },
   {
    "duration": 236,
    "start_time": "2022-03-31T13:02:11.922Z"
   },
   {
    "duration": 5,
    "start_time": "2022-03-31T13:03:22.076Z"
   },
   {
    "duration": 13,
    "start_time": "2022-03-31T13:03:32.155Z"
   },
   {
    "duration": 25,
    "start_time": "2022-03-31T13:03:38.668Z"
   },
   {
    "duration": 12,
    "start_time": "2022-03-31T13:05:02.381Z"
   },
   {
    "duration": 28,
    "start_time": "2022-03-31T13:05:07.157Z"
   },
   {
    "duration": 7,
    "start_time": "2022-03-31T13:06:02.535Z"
   },
   {
    "duration": 12,
    "start_time": "2022-03-31T13:07:08.965Z"
   },
   {
    "duration": 13,
    "start_time": "2022-03-31T13:07:13.798Z"
   },
   {
    "duration": 8,
    "start_time": "2022-03-31T13:07:19.463Z"
   },
   {
    "duration": 1436,
    "start_time": "2022-03-31T13:10:12.074Z"
   },
   {
    "duration": 59,
    "start_time": "2022-03-31T13:17:11.835Z"
   },
   {
    "duration": 17,
    "start_time": "2022-03-31T13:17:42.789Z"
   },
   {
    "duration": 37,
    "start_time": "2022-03-31T13:17:50.191Z"
   },
   {
    "duration": 14,
    "start_time": "2022-03-31T13:18:27.967Z"
   },
   {
    "duration": 15,
    "start_time": "2022-03-31T13:18:39.910Z"
   },
   {
    "duration": 4,
    "start_time": "2022-03-31T13:22:51.991Z"
   },
   {
    "duration": 7,
    "start_time": "2022-03-31T13:26:29.733Z"
   },
   {
    "duration": 8,
    "start_time": "2022-03-31T13:26:35.855Z"
   },
   {
    "duration": 6,
    "start_time": "2022-03-31T13:26:54.737Z"
   },
   {
    "duration": 4,
    "start_time": "2022-03-31T13:26:58.919Z"
   },
   {
    "duration": 67,
    "start_time": "2022-03-31T13:26:58.926Z"
   },
   {
    "duration": 19,
    "start_time": "2022-03-31T13:26:58.996Z"
   },
   {
    "duration": 7,
    "start_time": "2022-03-31T13:26:59.017Z"
   },
   {
    "duration": 7,
    "start_time": "2022-03-31T13:26:59.050Z"
   },
   {
    "duration": 8,
    "start_time": "2022-03-31T13:26:59.060Z"
   },
   {
    "duration": 343,
    "start_time": "2022-03-31T13:26:59.070Z"
   },
   {
    "duration": 13,
    "start_time": "2022-03-31T13:26:59.415Z"
   },
   {
    "duration": 8,
    "start_time": "2022-03-31T13:26:59.442Z"
   },
   {
    "duration": 7,
    "start_time": "2022-03-31T13:27:06.432Z"
   },
   {
    "duration": 7,
    "start_time": "2022-03-31T13:27:10.659Z"
   },
   {
    "duration": 22,
    "start_time": "2022-03-31T13:27:19.697Z"
   },
   {
    "duration": 26,
    "start_time": "2022-03-31T13:29:24.955Z"
   },
   {
    "duration": 18,
    "start_time": "2022-03-31T13:33:51.733Z"
   },
   {
    "duration": 6,
    "start_time": "2022-03-31T13:33:56.018Z"
   },
   {
    "duration": 12,
    "start_time": "2022-03-31T13:35:08.976Z"
   },
   {
    "duration": 6,
    "start_time": "2022-03-31T13:35:27.652Z"
   },
   {
    "duration": 6,
    "start_time": "2022-03-31T13:35:51.849Z"
   },
   {
    "duration": 5,
    "start_time": "2022-03-31T13:36:04.353Z"
   },
   {
    "duration": 6,
    "start_time": "2022-03-31T13:42:04.833Z"
   },
   {
    "duration": 121,
    "start_time": "2022-04-01T12:20:05.576Z"
   },
   {
    "duration": 1970,
    "start_time": "2022-04-01T12:20:09.364Z"
   },
   {
    "duration": 92,
    "start_time": "2022-04-01T12:20:11.337Z"
   },
   {
    "duration": 28,
    "start_time": "2022-04-01T12:20:11.432Z"
   },
   {
    "duration": 17,
    "start_time": "2022-04-01T12:20:11.463Z"
   },
   {
    "duration": 8,
    "start_time": "2022-04-01T12:20:11.483Z"
   },
   {
    "duration": 11,
    "start_time": "2022-04-01T12:20:11.493Z"
   },
   {
    "duration": 902,
    "start_time": "2022-04-01T12:20:11.506Z"
   },
   {
    "duration": 12,
    "start_time": "2022-04-01T12:20:12.411Z"
   },
   {
    "duration": 7,
    "start_time": "2022-04-01T12:20:12.425Z"
   },
   {
    "duration": 182,
    "start_time": "2022-04-01T12:20:12.436Z"
   },
   {
    "duration": 0,
    "start_time": "2022-04-01T12:20:12.620Z"
   },
   {
    "duration": 0,
    "start_time": "2022-04-01T12:20:12.622Z"
   },
   {
    "duration": 0,
    "start_time": "2022-04-01T12:20:12.623Z"
   },
   {
    "duration": 117,
    "start_time": "2022-04-01T12:20:14.517Z"
   },
   {
    "duration": 17,
    "start_time": "2022-04-01T12:20:43.411Z"
   },
   {
    "duration": 7,
    "start_time": "2022-04-01T12:20:45.192Z"
   },
   {
    "duration": 10,
    "start_time": "2022-04-01T12:20:46.863Z"
   },
   {
    "duration": 4,
    "start_time": "2022-04-01T12:20:48.348Z"
   },
   {
    "duration": 5,
    "start_time": "2022-04-01T12:20:51.225Z"
   },
   {
    "duration": 93,
    "start_time": "2022-04-01T12:20:53.771Z"
   },
   {
    "duration": 13,
    "start_time": "2022-04-01T12:21:03.721Z"
   },
   {
    "duration": 3,
    "start_time": "2022-04-01T12:33:04.782Z"
   },
   {
    "duration": 42,
    "start_time": "2022-04-01T12:33:09.349Z"
   },
   {
    "duration": 25,
    "start_time": "2022-04-01T12:33:22.430Z"
   },
   {
    "duration": 40,
    "start_time": "2022-04-01T12:34:23.476Z"
   },
   {
    "duration": 13,
    "start_time": "2022-04-01T13:24:36.260Z"
   },
   {
    "duration": 15,
    "start_time": "2022-04-01T13:25:33.785Z"
   },
   {
    "duration": 65,
    "start_time": "2022-04-01T13:25:39.001Z"
   },
   {
    "duration": 389,
    "start_time": "2022-04-01T13:25:45.089Z"
   },
   {
    "duration": 7637,
    "start_time": "2022-04-01T13:26:03.350Z"
   },
   {
    "duration": 116,
    "start_time": "2022-04-01T13:26:21.499Z"
   },
   {
    "duration": 4,
    "start_time": "2022-04-01T13:26:28.392Z"
   },
   {
    "duration": 14230,
    "start_time": "2022-04-01T13:27:17.407Z"
   },
   {
    "duration": 14,
    "start_time": "2022-04-01T13:27:35.569Z"
   },
   {
    "duration": 13,
    "start_time": "2022-04-01T13:27:38.936Z"
   },
   {
    "duration": 152891,
    "start_time": "2022-04-01T13:27:48.242Z"
   },
   {
    "duration": 4,
    "start_time": "2022-04-01T13:30:23.976Z"
   },
   {
    "duration": 5,
    "start_time": "2022-04-01T13:31:16.733Z"
   },
   {
    "duration": 6,
    "start_time": "2022-04-01T13:34:05.887Z"
   },
   {
    "duration": 6,
    "start_time": "2022-04-01T13:34:20.048Z"
   },
   {
    "duration": 6,
    "start_time": "2022-04-01T13:35:09.000Z"
   },
   {
    "duration": 143454,
    "start_time": "2022-04-01T13:35:25.684Z"
   },
   {
    "duration": 286,
    "start_time": "2022-04-01T13:50:32.789Z"
   },
   {
    "duration": 34,
    "start_time": "2022-04-01T13:52:37.641Z"
   },
   {
    "duration": 34,
    "start_time": "2022-04-01T14:07:01.434Z"
   },
   {
    "duration": 158,
    "start_time": "2022-04-01T14:07:06.315Z"
   },
   {
    "duration": 33,
    "start_time": "2022-04-01T14:07:17.274Z"
   },
   {
    "duration": 33,
    "start_time": "2022-04-01T14:07:19.313Z"
   },
   {
    "duration": 29,
    "start_time": "2022-04-01T14:08:28.493Z"
   },
   {
    "duration": 4,
    "start_time": "2022-04-01T14:09:05.249Z"
   },
   {
    "duration": 82,
    "start_time": "2022-04-01T14:09:09.692Z"
   },
   {
    "duration": 51,
    "start_time": "2022-04-01T14:09:32.028Z"
   },
   {
    "duration": 97,
    "start_time": "2022-04-01T14:09:35.277Z"
   },
   {
    "duration": 90,
    "start_time": "2022-04-01T14:09:38.084Z"
   },
   {
    "duration": 63,
    "start_time": "2022-04-01T14:09:41.036Z"
   },
   {
    "duration": 81,
    "start_time": "2022-04-01T14:09:46.393Z"
   },
   {
    "duration": 234409,
    "start_time": "2022-04-01T14:10:21.523Z"
   },
   {
    "duration": 69,
    "start_time": "2022-04-01T14:16:19.708Z"
   },
   {
    "duration": 964,
    "start_time": "2022-04-01T14:17:25.465Z"
   },
   {
    "duration": 17,
    "start_time": "2022-04-01T14:23:05.854Z"
   },
   {
    "duration": 39,
    "start_time": "2022-04-01T14:23:31.874Z"
   },
   {
    "duration": 39,
    "start_time": "2022-04-01T14:23:52.534Z"
   },
   {
    "duration": 78590,
    "start_time": "2022-04-01T14:24:12.146Z"
   },
   {
    "duration": 1354,
    "start_time": "2022-04-01T14:27:52.690Z"
   },
   {
    "duration": 116,
    "start_time": "2022-04-01T14:30:22.860Z"
   },
   {
    "duration": 208330,
    "start_time": "2022-04-01T14:36:47.730Z"
   },
   {
    "duration": 61,
    "start_time": "2022-04-01T14:41:02.729Z"
   },
   {
    "duration": 106,
    "start_time": "2022-04-01T14:48:34.879Z"
   },
   {
    "duration": 7,
    "start_time": "2022-04-01T14:48:50.561Z"
   },
   {
    "duration": 200,
    "start_time": "2022-04-01T14:48:54.886Z"
   },
   {
    "duration": 5,
    "start_time": "2022-04-01T14:49:50.410Z"
   },
   {
    "duration": 365,
    "start_time": "2022-04-01T14:49:55.985Z"
   },
   {
    "duration": 398,
    "start_time": "2022-04-01T14:50:46.164Z"
   },
   {
    "duration": 73,
    "start_time": "2022-04-01T14:52:36.601Z"
   },
   {
    "duration": 5,
    "start_time": "2022-04-01T14:52:44.320Z"
   },
   {
    "duration": 391,
    "start_time": "2022-04-01T14:52:48.394Z"
   },
   {
    "duration": 393,
    "start_time": "2022-04-01T14:54:05.867Z"
   },
   {
    "duration": 259,
    "start_time": "2022-04-01T14:57:25.358Z"
   },
   {
    "duration": 275,
    "start_time": "2022-04-01T14:58:06.065Z"
   },
   {
    "duration": 265,
    "start_time": "2022-04-01T14:59:04.549Z"
   },
   {
    "duration": 2096,
    "start_time": "2022-04-01T15:01:03.062Z"
   },
   {
    "duration": 60,
    "start_time": "2022-04-01T15:01:05.161Z"
   },
   {
    "duration": 19,
    "start_time": "2022-04-01T15:01:05.223Z"
   },
   {
    "duration": 36,
    "start_time": "2022-04-01T15:01:05.245Z"
   },
   {
    "duration": 18,
    "start_time": "2022-04-01T15:01:05.283Z"
   },
   {
    "duration": 10,
    "start_time": "2022-04-01T15:01:05.303Z"
   },
   {
    "duration": 298,
    "start_time": "2022-04-01T15:01:05.315Z"
   },
   {
    "duration": 11,
    "start_time": "2022-04-01T15:01:05.615Z"
   },
   {
    "duration": 7,
    "start_time": "2022-04-01T15:01:05.628Z"
   },
   {
    "duration": 48,
    "start_time": "2022-04-01T15:01:05.639Z"
   },
   {
    "duration": 8,
    "start_time": "2022-04-01T15:01:05.690Z"
   },
   {
    "duration": 15,
    "start_time": "2022-04-01T15:01:05.700Z"
   },
   {
    "duration": 5,
    "start_time": "2022-04-01T15:01:05.718Z"
   },
   {
    "duration": 78,
    "start_time": "2022-04-01T15:01:05.725Z"
   },
   {
    "duration": 6,
    "start_time": "2022-04-01T15:01:05.805Z"
   },
   {
    "duration": 153554,
    "start_time": "2022-04-01T15:01:05.814Z"
   },
   {
    "duration": 108,
    "start_time": "2022-04-01T15:03:39.379Z"
   },
   {
    "duration": 200,
    "start_time": "2022-04-01T15:03:39.491Z"
   },
   {
    "duration": 1389,
    "start_time": "2022-04-01T15:03:39.701Z"
   },
   {
    "duration": 95,
    "start_time": "2022-04-01T15:03:41.092Z"
   },
   {
    "duration": 221705,
    "start_time": "2022-04-01T15:03:41.190Z"
   },
   {
    "duration": 16,
    "start_time": "2022-04-01T15:07:22.897Z"
   },
   {
    "duration": 72,
    "start_time": "2022-04-01T15:07:22.916Z"
   },
   {
    "duration": 88773,
    "start_time": "2022-04-01T15:07:22.992Z"
   },
   {
    "duration": 88,
    "start_time": "2022-04-01T15:08:51.775Z"
   },
   {
    "duration": 315,
    "start_time": "2022-04-01T15:08:51.875Z"
   },
   {
    "duration": 1446,
    "start_time": "2022-04-02T20:28:55.665Z"
   },
   {
    "duration": 41,
    "start_time": "2022-04-02T20:28:58.903Z"
   },
   {
    "duration": 14,
    "start_time": "2022-04-02T20:29:04.705Z"
   },
   {
    "duration": 100,
    "start_time": "2022-04-02T20:29:38.499Z"
   },
   {
    "duration": 9,
    "start_time": "2022-04-02T20:29:56.715Z"
   },
   {
    "duration": 9,
    "start_time": "2022-04-02T20:30:49.914Z"
   },
   {
    "duration": 5,
    "start_time": "2022-04-02T20:31:00.478Z"
   },
   {
    "duration": 5,
    "start_time": "2022-04-02T21:06:31.291Z"
   },
   {
    "duration": 10,
    "start_time": "2022-04-02T21:06:33.770Z"
   },
   {
    "duration": 4,
    "start_time": "2022-04-02T21:06:35.914Z"
   },
   {
    "duration": 4,
    "start_time": "2022-04-02T21:06:38.259Z"
   },
   {
    "duration": 11,
    "start_time": "2022-04-02T21:06:51.673Z"
   },
   {
    "duration": 5,
    "start_time": "2022-04-02T21:06:54.134Z"
   },
   {
    "duration": 3,
    "start_time": "2022-04-02T21:27:58.213Z"
   },
   {
    "duration": 3,
    "start_time": "2022-04-02T21:30:53.645Z"
   },
   {
    "duration": 4,
    "start_time": "2022-04-02T21:30:57.644Z"
   },
   {
    "duration": 37,
    "start_time": "2022-04-02T21:30:57.652Z"
   },
   {
    "duration": 13,
    "start_time": "2022-04-02T21:30:57.691Z"
   },
   {
    "duration": 9,
    "start_time": "2022-04-02T21:30:57.705Z"
   },
   {
    "duration": 4,
    "start_time": "2022-04-02T21:30:57.716Z"
   },
   {
    "duration": 6,
    "start_time": "2022-04-02T21:30:57.721Z"
   },
   {
    "duration": 6,
    "start_time": "2022-04-02T21:30:57.728Z"
   },
   {
    "duration": 203,
    "start_time": "2022-04-02T21:30:57.735Z"
   },
   {
    "duration": 8,
    "start_time": "2022-04-02T21:30:57.941Z"
   },
   {
    "duration": 5,
    "start_time": "2022-04-02T21:30:57.951Z"
   },
   {
    "duration": 16,
    "start_time": "2022-04-02T21:30:57.957Z"
   },
   {
    "duration": 5,
    "start_time": "2022-04-02T21:30:57.974Z"
   },
   {
    "duration": 12,
    "start_time": "2022-04-02T21:30:58.008Z"
   },
   {
    "duration": 3,
    "start_time": "2022-04-02T21:30:58.022Z"
   },
   {
    "duration": 30,
    "start_time": "2022-04-02T21:30:58.026Z"
   },
   {
    "duration": 4,
    "start_time": "2022-04-02T21:30:58.057Z"
   },
   {
    "duration": 96495,
    "start_time": "2022-04-02T21:30:58.063Z"
   },
   {
    "duration": 57,
    "start_time": "2022-04-02T21:32:34.560Z"
   },
   {
    "duration": 101,
    "start_time": "2022-04-02T21:32:34.709Z"
   },
   {
    "duration": 736,
    "start_time": "2022-04-02T21:32:34.813Z"
   },
   {
    "duration": 60,
    "start_time": "2022-04-02T21:32:35.550Z"
   },
   {
    "duration": 130943,
    "start_time": "2022-04-02T21:32:35.613Z"
   },
   {
    "duration": 11,
    "start_time": "2022-04-02T21:34:46.557Z"
   },
   {
    "duration": 46,
    "start_time": "2022-04-02T21:34:46.569Z"
   },
   {
    "duration": 54414,
    "start_time": "2022-04-02T21:34:46.618Z"
   },
   {
    "duration": 54,
    "start_time": "2022-04-02T21:35:41.033Z"
   },
   {
    "duration": 194,
    "start_time": "2022-04-02T21:35:41.088Z"
   },
   {
    "duration": 5,
    "start_time": "2022-04-02T21:35:41.284Z"
   },
   {
    "duration": 6,
    "start_time": "2022-04-02T21:38:12.833Z"
   }
  ],
  "kernelspec": {
   "display_name": "Python 3 (ipykernel)",
   "language": "python",
   "name": "python3"
  },
  "language_info": {
   "codemirror_mode": {
    "name": "ipython",
    "version": 3
   },
   "file_extension": ".py",
   "mimetype": "text/x-python",
   "name": "python",
   "nbconvert_exporter": "python",
   "pygments_lexer": "ipython3",
   "version": "3.9.12"
  },
  "toc": {
   "base_numbering": 1,
   "nav_menu": {},
   "number_sections": true,
   "sideBar": true,
   "skip_h1_title": true,
   "title_cell": "Содержание",
   "title_sidebar": "Contents",
   "toc_cell": true,
   "toc_position": {},
   "toc_section_display": true,
   "toc_window_display": true
  }
 },
 "nbformat": 4,
 "nbformat_minor": 2
}
