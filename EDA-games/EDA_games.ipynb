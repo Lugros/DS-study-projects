{
 "cells": [
  {
   "cell_type": "markdown",
   "id": "6105e78f",
   "metadata": {},
   "source": [
    "## Общая информация о данных"
   ]
  },
  {
   "cell_type": "markdown",
   "id": "8df2d611",
   "metadata": {},
   "source": [
    "Требуется выявить определяющие успешность игры закономерности,что позволит сделать ставку на потенциально популярный продукт и спланировать рекламные кампании в интернет-магазине «Стримчик».\n",
    "\n",
    "Из открытых источников доступны исторические данные о продажах игр, оценки пользователей и экспертов, жанры и платформы (например, Xbox или PlayStation).\n",
    "\n",
    "- Name — название игры\n",
    "- Platform — платформа\n",
    "- Year_of_Release — год выпуска\n",
    "- Genre — жанр игры\n",
    "- NA_sales — продажи в Северной Америке (миллионы проданных копий)\n",
    "- EU_sales — продажи в Европе (миллионы проданных копий)\n",
    "- JP_sales — продажи в Японии (миллионы проданных копий)\n",
    "- Other_sales — продажи в других странах (миллионы проданных копий)\n",
    "- Critic_Score — оценка критиков (максимум 100)\n",
    "- User_Score — оценка пользователей (максимум 10)\n",
    "- Rating — рейтинг от организации ESRB (англ. Entertainment Software Rating Board). Эта ассоциация определяет рейтинг компьютерных игр и присваивает им подходящую возрастную категорию."
   ]
  },
  {
   "cell_type": "code",
   "execution_count": 2,
   "id": "86397bc3",
   "metadata": {},
   "outputs": [],
   "source": [
    "import pandas as pd\n",
    "import numpy as np\n",
    "import seaborn as sns\n",
    "import matplotlib.pyplot as plt\n",
    "from scipy import stats as st"
   ]
  },
  {
   "cell_type": "code",
   "execution_count": 3,
   "id": "608b11bb",
   "metadata": {
    "scrolled": false
   },
   "outputs": [],
   "source": [
    "#print (pd.__version__)\n",
    "#Для работы некоторых функций, требуются актуальные версии pandas и seaborn\n",
    "#!pip3 install --upgrade pandas\n",
    "#!pip install seaborn --upgrade"
   ]
  },
  {
   "cell_type": "code",
   "execution_count": 4,
   "id": "a40c392f",
   "metadata": {
    "scrolled": true
   },
   "outputs": [
    {
     "data": {
      "text/html": [
       "<div>\n",
       "<style scoped>\n",
       "    .dataframe tbody tr th:only-of-type {\n",
       "        vertical-align: middle;\n",
       "    }\n",
       "\n",
       "    .dataframe tbody tr th {\n",
       "        vertical-align: top;\n",
       "    }\n",
       "\n",
       "    .dataframe thead th {\n",
       "        text-align: right;\n",
       "    }\n",
       "</style>\n",
       "<table border=\"1\" class=\"dataframe\">\n",
       "  <thead>\n",
       "    <tr style=\"text-align: right;\">\n",
       "      <th></th>\n",
       "      <th>Name</th>\n",
       "      <th>Platform</th>\n",
       "      <th>Year_of_Release</th>\n",
       "      <th>Genre</th>\n",
       "      <th>NA_sales</th>\n",
       "      <th>EU_sales</th>\n",
       "      <th>JP_sales</th>\n",
       "      <th>Other_sales</th>\n",
       "      <th>Critic_Score</th>\n",
       "      <th>User_Score</th>\n",
       "      <th>Rating</th>\n",
       "    </tr>\n",
       "  </thead>\n",
       "  <tbody>\n",
       "    <tr>\n",
       "      <th>0</th>\n",
       "      <td>Wii Sports</td>\n",
       "      <td>Wii</td>\n",
       "      <td>2006.0</td>\n",
       "      <td>Sports</td>\n",
       "      <td>41.36</td>\n",
       "      <td>28.96</td>\n",
       "      <td>3.77</td>\n",
       "      <td>8.45</td>\n",
       "      <td>76.0</td>\n",
       "      <td>8</td>\n",
       "      <td>E</td>\n",
       "    </tr>\n",
       "    <tr>\n",
       "      <th>1</th>\n",
       "      <td>Super Mario Bros.</td>\n",
       "      <td>NES</td>\n",
       "      <td>1985.0</td>\n",
       "      <td>Platform</td>\n",
       "      <td>29.08</td>\n",
       "      <td>3.58</td>\n",
       "      <td>6.81</td>\n",
       "      <td>0.77</td>\n",
       "      <td>NaN</td>\n",
       "      <td>NaN</td>\n",
       "      <td>NaN</td>\n",
       "    </tr>\n",
       "    <tr>\n",
       "      <th>2</th>\n",
       "      <td>Mario Kart Wii</td>\n",
       "      <td>Wii</td>\n",
       "      <td>2008.0</td>\n",
       "      <td>Racing</td>\n",
       "      <td>15.68</td>\n",
       "      <td>12.76</td>\n",
       "      <td>3.79</td>\n",
       "      <td>3.29</td>\n",
       "      <td>82.0</td>\n",
       "      <td>8.3</td>\n",
       "      <td>E</td>\n",
       "    </tr>\n",
       "    <tr>\n",
       "      <th>3</th>\n",
       "      <td>Wii Sports Resort</td>\n",
       "      <td>Wii</td>\n",
       "      <td>2009.0</td>\n",
       "      <td>Sports</td>\n",
       "      <td>15.61</td>\n",
       "      <td>10.93</td>\n",
       "      <td>3.28</td>\n",
       "      <td>2.95</td>\n",
       "      <td>80.0</td>\n",
       "      <td>8</td>\n",
       "      <td>E</td>\n",
       "    </tr>\n",
       "    <tr>\n",
       "      <th>4</th>\n",
       "      <td>Pokemon Red/Pokemon Blue</td>\n",
       "      <td>GB</td>\n",
       "      <td>1996.0</td>\n",
       "      <td>Role-Playing</td>\n",
       "      <td>11.27</td>\n",
       "      <td>8.89</td>\n",
       "      <td>10.22</td>\n",
       "      <td>1.00</td>\n",
       "      <td>NaN</td>\n",
       "      <td>NaN</td>\n",
       "      <td>NaN</td>\n",
       "    </tr>\n",
       "  </tbody>\n",
       "</table>\n",
       "</div>"
      ],
      "text/plain": [
       "                       Name Platform  Year_of_Release         Genre  NA_sales  \\\n",
       "0                Wii Sports      Wii           2006.0        Sports     41.36   \n",
       "1         Super Mario Bros.      NES           1985.0      Platform     29.08   \n",
       "2            Mario Kart Wii      Wii           2008.0        Racing     15.68   \n",
       "3         Wii Sports Resort      Wii           2009.0        Sports     15.61   \n",
       "4  Pokemon Red/Pokemon Blue       GB           1996.0  Role-Playing     11.27   \n",
       "\n",
       "   EU_sales  JP_sales  Other_sales  Critic_Score User_Score Rating  \n",
       "0     28.96      3.77         8.45          76.0          8      E  \n",
       "1      3.58      6.81         0.77           NaN        NaN    NaN  \n",
       "2     12.76      3.79         3.29          82.0        8.3      E  \n",
       "3     10.93      3.28         2.95          80.0          8      E  \n",
       "4      8.89     10.22         1.00           NaN        NaN    NaN  "
      ]
     },
     "execution_count": 4,
     "metadata": {},
     "output_type": "execute_result"
    }
   ],
   "source": [
    "df = pd.read_csv('/datasets/games.csv')\n",
    "df.head()"
   ]
  },
  {
   "cell_type": "code",
   "execution_count": 5,
   "id": "07b65866",
   "metadata": {
    "scrolled": false
   },
   "outputs": [
    {
     "name": "stdout",
     "output_type": "stream",
     "text": [
      "<class 'pandas.core.frame.DataFrame'>\n",
      "RangeIndex: 16715 entries, 0 to 16714\n",
      "Data columns (total 11 columns):\n",
      " #   Column           Non-Null Count  Dtype  \n",
      "---  ------           --------------  -----  \n",
      " 0   Name             16713 non-null  object \n",
      " 1   Platform         16715 non-null  object \n",
      " 2   Year_of_Release  16446 non-null  float64\n",
      " 3   Genre            16713 non-null  object \n",
      " 4   NA_sales         16715 non-null  float64\n",
      " 5   EU_sales         16715 non-null  float64\n",
      " 6   JP_sales         16715 non-null  float64\n",
      " 7   Other_sales      16715 non-null  float64\n",
      " 8   Critic_Score     8137 non-null   float64\n",
      " 9   User_Score       10014 non-null  object \n",
      " 10  Rating           9949 non-null   object \n",
      "dtypes: float64(6), object(5)\n",
      "memory usage: 1.4+ MB\n"
     ]
    }
   ],
   "source": [
    "df.info()"
   ]
  },
  {
   "cell_type": "code",
   "execution_count": 6,
   "id": "62d6cbfc",
   "metadata": {
    "scrolled": true
   },
   "outputs": [
    {
     "data": {
      "text/html": [
       "<div>\n",
       "<style scoped>\n",
       "    .dataframe tbody tr th:only-of-type {\n",
       "        vertical-align: middle;\n",
       "    }\n",
       "\n",
       "    .dataframe tbody tr th {\n",
       "        vertical-align: top;\n",
       "    }\n",
       "\n",
       "    .dataframe thead th {\n",
       "        text-align: right;\n",
       "    }\n",
       "</style>\n",
       "<table border=\"1\" class=\"dataframe\">\n",
       "  <thead>\n",
       "    <tr style=\"text-align: right;\">\n",
       "      <th></th>\n",
       "      <th>Year_of_Release</th>\n",
       "      <th>NA_sales</th>\n",
       "      <th>EU_sales</th>\n",
       "      <th>JP_sales</th>\n",
       "      <th>Other_sales</th>\n",
       "      <th>Critic_Score</th>\n",
       "    </tr>\n",
       "  </thead>\n",
       "  <tbody>\n",
       "    <tr>\n",
       "      <th>count</th>\n",
       "      <td>16446.000000</td>\n",
       "      <td>16715.000000</td>\n",
       "      <td>16715.000000</td>\n",
       "      <td>16715.000000</td>\n",
       "      <td>16715.000000</td>\n",
       "      <td>8137.000000</td>\n",
       "    </tr>\n",
       "    <tr>\n",
       "      <th>mean</th>\n",
       "      <td>2006.484616</td>\n",
       "      <td>0.263377</td>\n",
       "      <td>0.145060</td>\n",
       "      <td>0.077617</td>\n",
       "      <td>0.047342</td>\n",
       "      <td>68.967679</td>\n",
       "    </tr>\n",
       "    <tr>\n",
       "      <th>std</th>\n",
       "      <td>5.877050</td>\n",
       "      <td>0.813604</td>\n",
       "      <td>0.503339</td>\n",
       "      <td>0.308853</td>\n",
       "      <td>0.186731</td>\n",
       "      <td>13.938165</td>\n",
       "    </tr>\n",
       "    <tr>\n",
       "      <th>min</th>\n",
       "      <td>1980.000000</td>\n",
       "      <td>0.000000</td>\n",
       "      <td>0.000000</td>\n",
       "      <td>0.000000</td>\n",
       "      <td>0.000000</td>\n",
       "      <td>13.000000</td>\n",
       "    </tr>\n",
       "    <tr>\n",
       "      <th>25%</th>\n",
       "      <td>2003.000000</td>\n",
       "      <td>0.000000</td>\n",
       "      <td>0.000000</td>\n",
       "      <td>0.000000</td>\n",
       "      <td>0.000000</td>\n",
       "      <td>60.000000</td>\n",
       "    </tr>\n",
       "    <tr>\n",
       "      <th>50%</th>\n",
       "      <td>2007.000000</td>\n",
       "      <td>0.080000</td>\n",
       "      <td>0.020000</td>\n",
       "      <td>0.000000</td>\n",
       "      <td>0.010000</td>\n",
       "      <td>71.000000</td>\n",
       "    </tr>\n",
       "    <tr>\n",
       "      <th>75%</th>\n",
       "      <td>2010.000000</td>\n",
       "      <td>0.240000</td>\n",
       "      <td>0.110000</td>\n",
       "      <td>0.040000</td>\n",
       "      <td>0.030000</td>\n",
       "      <td>79.000000</td>\n",
       "    </tr>\n",
       "    <tr>\n",
       "      <th>max</th>\n",
       "      <td>2016.000000</td>\n",
       "      <td>41.360000</td>\n",
       "      <td>28.960000</td>\n",
       "      <td>10.220000</td>\n",
       "      <td>10.570000</td>\n",
       "      <td>98.000000</td>\n",
       "    </tr>\n",
       "  </tbody>\n",
       "</table>\n",
       "</div>"
      ],
      "text/plain": [
       "       Year_of_Release      NA_sales      EU_sales      JP_sales  \\\n",
       "count     16446.000000  16715.000000  16715.000000  16715.000000   \n",
       "mean       2006.484616      0.263377      0.145060      0.077617   \n",
       "std           5.877050      0.813604      0.503339      0.308853   \n",
       "min        1980.000000      0.000000      0.000000      0.000000   \n",
       "25%        2003.000000      0.000000      0.000000      0.000000   \n",
       "50%        2007.000000      0.080000      0.020000      0.000000   \n",
       "75%        2010.000000      0.240000      0.110000      0.040000   \n",
       "max        2016.000000     41.360000     28.960000     10.220000   \n",
       "\n",
       "        Other_sales  Critic_Score  \n",
       "count  16715.000000   8137.000000  \n",
       "mean       0.047342     68.967679  \n",
       "std        0.186731     13.938165  \n",
       "min        0.000000     13.000000  \n",
       "25%        0.000000     60.000000  \n",
       "50%        0.010000     71.000000  \n",
       "75%        0.030000     79.000000  \n",
       "max       10.570000     98.000000  "
      ]
     },
     "execution_count": 6,
     "metadata": {},
     "output_type": "execute_result"
    }
   ],
   "source": [
    "df.describe()"
   ]
  },
  {
   "cell_type": "code",
   "execution_count": 7,
   "id": "2b386cdf",
   "metadata": {
    "scrolled": true
   },
   "outputs": [
    {
     "data": {
      "text/html": [
       "<div>\n",
       "<style scoped>\n",
       "    .dataframe tbody tr th:only-of-type {\n",
       "        vertical-align: middle;\n",
       "    }\n",
       "\n",
       "    .dataframe tbody tr th {\n",
       "        vertical-align: top;\n",
       "    }\n",
       "\n",
       "    .dataframe thead th {\n",
       "        text-align: right;\n",
       "    }\n",
       "</style>\n",
       "<table border=\"1\" class=\"dataframe\">\n",
       "  <thead>\n",
       "    <tr style=\"text-align: right;\">\n",
       "      <th></th>\n",
       "      <th>Name</th>\n",
       "      <th>Platform</th>\n",
       "      <th>Genre</th>\n",
       "      <th>User_Score</th>\n",
       "      <th>Rating</th>\n",
       "    </tr>\n",
       "  </thead>\n",
       "  <tbody>\n",
       "    <tr>\n",
       "      <th>count</th>\n",
       "      <td>16713</td>\n",
       "      <td>16715</td>\n",
       "      <td>16713</td>\n",
       "      <td>10014</td>\n",
       "      <td>9949</td>\n",
       "    </tr>\n",
       "    <tr>\n",
       "      <th>unique</th>\n",
       "      <td>11559</td>\n",
       "      <td>31</td>\n",
       "      <td>12</td>\n",
       "      <td>96</td>\n",
       "      <td>8</td>\n",
       "    </tr>\n",
       "    <tr>\n",
       "      <th>top</th>\n",
       "      <td>Need for Speed: Most Wanted</td>\n",
       "      <td>PS2</td>\n",
       "      <td>Action</td>\n",
       "      <td>tbd</td>\n",
       "      <td>E</td>\n",
       "    </tr>\n",
       "    <tr>\n",
       "      <th>freq</th>\n",
       "      <td>12</td>\n",
       "      <td>2161</td>\n",
       "      <td>3369</td>\n",
       "      <td>2424</td>\n",
       "      <td>3990</td>\n",
       "    </tr>\n",
       "  </tbody>\n",
       "</table>\n",
       "</div>"
      ],
      "text/plain": [
       "                               Name Platform   Genre User_Score Rating\n",
       "count                         16713    16715   16713      10014   9949\n",
       "unique                        11559       31      12         96      8\n",
       "top     Need for Speed: Most Wanted      PS2  Action        tbd      E\n",
       "freq                             12     2161    3369       2424   3990"
      ]
     },
     "execution_count": 7,
     "metadata": {},
     "output_type": "execute_result"
    }
   ],
   "source": [
    "df.describe(include = 'object')"
   ]
  },
  {
   "cell_type": "code",
   "execution_count": 8,
   "id": "31fde1c5",
   "metadata": {
    "scrolled": false
   },
   "outputs": [
    {
     "data": {
      "text/html": [
       "<div>\n",
       "<style scoped>\n",
       "    .dataframe tbody tr th:only-of-type {\n",
       "        vertical-align: middle;\n",
       "    }\n",
       "\n",
       "    .dataframe tbody tr th {\n",
       "        vertical-align: top;\n",
       "    }\n",
       "\n",
       "    .dataframe thead th {\n",
       "        text-align: right;\n",
       "    }\n",
       "</style>\n",
       "<table border=\"1\" class=\"dataframe\">\n",
       "  <thead>\n",
       "    <tr style=\"text-align: right;\">\n",
       "      <th></th>\n",
       "      <th>Year_of_Release</th>\n",
       "      <th>NA_sales</th>\n",
       "      <th>EU_sales</th>\n",
       "      <th>JP_sales</th>\n",
       "      <th>Other_sales</th>\n",
       "      <th>Critic_Score</th>\n",
       "    </tr>\n",
       "  </thead>\n",
       "  <tbody>\n",
       "    <tr>\n",
       "      <th>Year_of_Release</th>\n",
       "      <td>1.000000</td>\n",
       "      <td>-0.092500</td>\n",
       "      <td>0.003978</td>\n",
       "      <td>-0.168366</td>\n",
       "      <td>0.037820</td>\n",
       "      <td>0.011411</td>\n",
       "    </tr>\n",
       "    <tr>\n",
       "      <th>NA_sales</th>\n",
       "      <td>-0.092500</td>\n",
       "      <td>1.000000</td>\n",
       "      <td>0.765335</td>\n",
       "      <td>0.449594</td>\n",
       "      <td>0.638649</td>\n",
       "      <td>0.240755</td>\n",
       "    </tr>\n",
       "    <tr>\n",
       "      <th>EU_sales</th>\n",
       "      <td>0.003978</td>\n",
       "      <td>0.765335</td>\n",
       "      <td>1.000000</td>\n",
       "      <td>0.435061</td>\n",
       "      <td>0.722792</td>\n",
       "      <td>0.220752</td>\n",
       "    </tr>\n",
       "    <tr>\n",
       "      <th>JP_sales</th>\n",
       "      <td>-0.168366</td>\n",
       "      <td>0.449594</td>\n",
       "      <td>0.435061</td>\n",
       "      <td>1.000000</td>\n",
       "      <td>0.291089</td>\n",
       "      <td>0.152593</td>\n",
       "    </tr>\n",
       "    <tr>\n",
       "      <th>Other_sales</th>\n",
       "      <td>0.037820</td>\n",
       "      <td>0.638649</td>\n",
       "      <td>0.722792</td>\n",
       "      <td>0.291089</td>\n",
       "      <td>1.000000</td>\n",
       "      <td>0.198554</td>\n",
       "    </tr>\n",
       "    <tr>\n",
       "      <th>Critic_Score</th>\n",
       "      <td>0.011411</td>\n",
       "      <td>0.240755</td>\n",
       "      <td>0.220752</td>\n",
       "      <td>0.152593</td>\n",
       "      <td>0.198554</td>\n",
       "      <td>1.000000</td>\n",
       "    </tr>\n",
       "  </tbody>\n",
       "</table>\n",
       "</div>"
      ],
      "text/plain": [
       "                 Year_of_Release  NA_sales  EU_sales  JP_sales  Other_sales  \\\n",
       "Year_of_Release         1.000000 -0.092500  0.003978 -0.168366     0.037820   \n",
       "NA_sales               -0.092500  1.000000  0.765335  0.449594     0.638649   \n",
       "EU_sales                0.003978  0.765335  1.000000  0.435061     0.722792   \n",
       "JP_sales               -0.168366  0.449594  0.435061  1.000000     0.291089   \n",
       "Other_sales             0.037820  0.638649  0.722792  0.291089     1.000000   \n",
       "Critic_Score            0.011411  0.240755  0.220752  0.152593     0.198554   \n",
       "\n",
       "                 Critic_Score  \n",
       "Year_of_Release      0.011411  \n",
       "NA_sales             0.240755  \n",
       "EU_sales             0.220752  \n",
       "JP_sales             0.152593  \n",
       "Other_sales          0.198554  \n",
       "Critic_Score         1.000000  "
      ]
     },
     "execution_count": 8,
     "metadata": {},
     "output_type": "execute_result"
    }
   ],
   "source": [
    "df.corr()"
   ]
  },
  {
   "cell_type": "markdown",
   "id": "b820daee",
   "metadata": {},
   "source": [
    "Проверим, есть ли в данных дубли"
   ]
  },
  {
   "cell_type": "code",
   "execution_count": 9,
   "id": "898afcd1",
   "metadata": {
    "scrolled": true
   },
   "outputs": [
    {
     "data": {
      "text/plain": [
       "0"
      ]
     },
     "execution_count": 9,
     "metadata": {},
     "output_type": "execute_result"
    }
   ],
   "source": [
    "df.duplicated().sum()"
   ]
  },
  {
   "cell_type": "markdown",
   "id": "65b0a538",
   "metadata": {},
   "source": [
    "**Вывод:**\n",
    "- данные не содержат дупликатов\n",
    "- данные содержат много пропусков, которые требуют обработки\n",
    "- тип данных в столбцах не соотвествует типу контента в них, требуется изменнение типов данных"
   ]
  },
  {
   "cell_type": "markdown",
   "id": "58c11dab",
   "metadata": {},
   "source": [
    "## Предобработка данных"
   ]
  },
  {
   "cell_type": "markdown",
   "id": "d141116e",
   "metadata": {},
   "source": [
    "### Переименование столбцов"
   ]
  },
  {
   "cell_type": "markdown",
   "id": "3b13e986",
   "metadata": {},
   "source": [
    "Приведем к нижнему регистру все названия столбцов"
   ]
  },
  {
   "cell_type": "code",
   "execution_count": 10,
   "id": "7d0b8b03",
   "metadata": {
    "scrolled": true
   },
   "outputs": [
    {
     "data": {
      "text/plain": [
       "Index(['name', 'platform', 'year_of_release', 'genre', 'na_sales', 'eu_sales',\n",
       "       'jp_sales', 'other_sales', 'critic_score', 'user_score', 'rating'],\n",
       "      dtype='object')"
      ]
     },
     "execution_count": 10,
     "metadata": {},
     "output_type": "execute_result"
    }
   ],
   "source": [
    "df.columns = df.columns.str.lower()\n",
    "df.columns"
   ]
  },
  {
   "cell_type": "markdown",
   "id": "dbd1cdc3",
   "metadata": {},
   "source": [
    "### Обработка пропусков"
   ]
  },
  {
   "cell_type": "code",
   "execution_count": 11,
   "id": "05d1cfc1",
   "metadata": {
    "scrolled": true
   },
   "outputs": [
    {
     "data": {
      "text/plain": [
       "name                  2\n",
       "platform              0\n",
       "year_of_release     269\n",
       "genre                 2\n",
       "na_sales              0\n",
       "eu_sales              0\n",
       "jp_sales              0\n",
       "other_sales           0\n",
       "critic_score       8578\n",
       "user_score         6701\n",
       "rating             6766\n",
       "dtype: int64"
      ]
     },
     "execution_count": 11,
     "metadata": {},
     "output_type": "execute_result"
    }
   ],
   "source": [
    "df.isna().sum()"
   ]
  },
  {
   "cell_type": "markdown",
   "id": "1dfc6a6f",
   "metadata": {},
   "source": [
    "По имеющимся данным невозможно восстановить пропуски в числовых столбцах 'year_of_realese','critic_score', данная информация должна быть дополнена из внешних источников."
   ]
  },
  {
   "cell_type": "markdown",
   "id": "0e4b450e",
   "metadata": {},
   "source": [
    "Проанализируем столбец 'user_score', пропуски в нём также невозможно восстановить, но нужно проверить, почему этот столбец не числового типа, а типа object"
   ]
  },
  {
   "cell_type": "code",
   "execution_count": 12,
   "id": "5668c5b3",
   "metadata": {
    "scrolled": false
   },
   "outputs": [
    {
     "data": {
      "text/plain": [
       "array(['8', nan, '8.3', '8.5', '6.6', '8.4', '8.6', '7.7', '6.3', '7.4',\n",
       "       '8.2', '9', '7.9', '8.1', '8.7', '7.1', '3.4', '5.3', '4.8', '3.2',\n",
       "       '8.9', '6.4', '7.8', '7.5', '2.6', '7.2', '9.2', '7', '7.3', '4.3',\n",
       "       '7.6', '5.7', '5', '9.1', '6.5', 'tbd', '8.8', '6.9', '9.4', '6.8',\n",
       "       '6.1', '6.7', '5.4', '4', '4.9', '4.5', '9.3', '6.2', '4.2', '6',\n",
       "       '3.7', '4.1', '5.8', '5.6', '5.5', '4.4', '4.6', '5.9', '3.9',\n",
       "       '3.1', '2.9', '5.2', '3.3', '4.7', '5.1', '3.5', '2.5', '1.9', '3',\n",
       "       '2.7', '2.2', '2', '9.5', '2.1', '3.6', '2.8', '1.8', '3.8', '0',\n",
       "       '1.6', '9.6', '2.4', '1.7', '1.1', '0.3', '1.5', '0.7', '1.2',\n",
       "       '2.3', '0.5', '1.3', '0.2', '0.6', '1.4', '0.9', '1', '9.7'],\n",
       "      dtype=object)"
      ]
     },
     "execution_count": 12,
     "metadata": {},
     "output_type": "execute_result"
    }
   ],
   "source": [
    "df['user_score'].unique()"
   ]
  },
  {
   "cell_type": "markdown",
   "id": "657a8ad5",
   "metadata": {},
   "source": [
    "В данных с оценками присутствует строка 'tbd' - To Be Discussed \"подлежит обсуждения\", для анализа это обозначает пропуски, заменим это значение на nan."
   ]
  },
  {
   "cell_type": "code",
   "execution_count": 13,
   "id": "c6a5815a",
   "metadata": {},
   "outputs": [
    {
     "data": {
      "text/plain": [
       "array(['8', nan, '8.3', '8.5', '6.6', '8.4', '8.6', '7.7', '6.3', '7.4',\n",
       "       '8.2', '9', '7.9', '8.1', '8.7', '7.1', '3.4', '5.3', '4.8', '3.2',\n",
       "       '8.9', '6.4', '7.8', '7.5', '2.6', '7.2', '9.2', '7', '7.3', '4.3',\n",
       "       '7.6', '5.7', '5', '9.1', '6.5', '8.8', '6.9', '9.4', '6.8', '6.1',\n",
       "       '6.7', '5.4', '4', '4.9', '4.5', '9.3', '6.2', '4.2', '6', '3.7',\n",
       "       '4.1', '5.8', '5.6', '5.5', '4.4', '4.6', '5.9', '3.9', '3.1',\n",
       "       '2.9', '5.2', '3.3', '4.7', '5.1', '3.5', '2.5', '1.9', '3', '2.7',\n",
       "       '2.2', '2', '9.5', '2.1', '3.6', '2.8', '1.8', '3.8', '0', '1.6',\n",
       "       '9.6', '2.4', '1.7', '1.1', '0.3', '1.5', '0.7', '1.2', '2.3',\n",
       "       '0.5', '1.3', '0.2', '0.6', '1.4', '0.9', '1', '9.7'], dtype=object)"
      ]
     },
     "execution_count": 13,
     "metadata": {},
     "output_type": "execute_result"
    }
   ],
   "source": [
    "df.loc[df['user_score'] == 'tbd','user_score'] = np.nan\n",
    "df['user_score'].unique()"
   ]
  },
  {
   "cell_type": "markdown",
   "id": "ab4d83b6",
   "metadata": {},
   "source": [
    "Заменим пропуски в столбце 'rating', т.к. восстановить их невозможно, заменим их значением 'unknown' "
   ]
  },
  {
   "cell_type": "code",
   "execution_count": 14,
   "id": "17a0253b",
   "metadata": {},
   "outputs": [
    {
     "data": {
      "text/plain": [
       "array(['E', 'unknown', 'M', 'T', 'E10+', 'K-A', 'AO', 'EC', 'RP'],\n",
       "      dtype=object)"
      ]
     },
     "execution_count": 14,
     "metadata": {},
     "output_type": "execute_result"
    }
   ],
   "source": [
    "df['rating'] = df['rating'].fillna('unknown')\n",
    "df['rating'].unique()"
   ]
  },
  {
   "cell_type": "markdown",
   "id": "31da9f8b",
   "metadata": {},
   "source": [
    "В столбце 'name' и 'genre' мало пропусков, проанализируем их."
   ]
  },
  {
   "cell_type": "code",
   "execution_count": 15,
   "id": "1353e856",
   "metadata": {
    "scrolled": true
   },
   "outputs": [
    {
     "data": {
      "text/html": [
       "<div>\n",
       "<style scoped>\n",
       "    .dataframe tbody tr th:only-of-type {\n",
       "        vertical-align: middle;\n",
       "    }\n",
       "\n",
       "    .dataframe tbody tr th {\n",
       "        vertical-align: top;\n",
       "    }\n",
       "\n",
       "    .dataframe thead th {\n",
       "        text-align: right;\n",
       "    }\n",
       "</style>\n",
       "<table border=\"1\" class=\"dataframe\">\n",
       "  <thead>\n",
       "    <tr style=\"text-align: right;\">\n",
       "      <th></th>\n",
       "      <th>name</th>\n",
       "      <th>platform</th>\n",
       "      <th>year_of_release</th>\n",
       "      <th>genre</th>\n",
       "      <th>na_sales</th>\n",
       "      <th>eu_sales</th>\n",
       "      <th>jp_sales</th>\n",
       "      <th>other_sales</th>\n",
       "      <th>critic_score</th>\n",
       "      <th>user_score</th>\n",
       "      <th>rating</th>\n",
       "    </tr>\n",
       "  </thead>\n",
       "  <tbody>\n",
       "    <tr>\n",
       "      <th>659</th>\n",
       "      <td>NaN</td>\n",
       "      <td>GEN</td>\n",
       "      <td>1993.0</td>\n",
       "      <td>NaN</td>\n",
       "      <td>1.78</td>\n",
       "      <td>0.53</td>\n",
       "      <td>0.00</td>\n",
       "      <td>0.08</td>\n",
       "      <td>NaN</td>\n",
       "      <td>NaN</td>\n",
       "      <td>unknown</td>\n",
       "    </tr>\n",
       "    <tr>\n",
       "      <th>14244</th>\n",
       "      <td>NaN</td>\n",
       "      <td>GEN</td>\n",
       "      <td>1993.0</td>\n",
       "      <td>NaN</td>\n",
       "      <td>0.00</td>\n",
       "      <td>0.00</td>\n",
       "      <td>0.03</td>\n",
       "      <td>0.00</td>\n",
       "      <td>NaN</td>\n",
       "      <td>NaN</td>\n",
       "      <td>unknown</td>\n",
       "    </tr>\n",
       "  </tbody>\n",
       "</table>\n",
       "</div>"
      ],
      "text/plain": [
       "      name platform  year_of_release genre  na_sales  eu_sales  jp_sales  \\\n",
       "659    NaN      GEN           1993.0   NaN      1.78      0.53      0.00   \n",
       "14244  NaN      GEN           1993.0   NaN      0.00      0.00      0.03   \n",
       "\n",
       "       other_sales  critic_score user_score   rating  \n",
       "659           0.08           NaN        NaN  unknown  \n",
       "14244         0.00           NaN        NaN  unknown  "
      ]
     },
     "execution_count": 15,
     "metadata": {},
     "output_type": "execute_result"
    }
   ],
   "source": [
    "df[df.name.isna()]"
   ]
  },
  {
   "cell_type": "markdown",
   "id": "4cf55ea2",
   "metadata": {},
   "source": [
    "Неизвестны названия игр на платформе GEN, 1993, стоит отметить, \n",
    "- на строке 659 очень популярная игра в Америке и Европе\n",
    "- на строке 14244 игра имеющая, небольшую популярность в Японии\n"
   ]
  },
  {
   "cell_type": "markdown",
   "id": "32285ab8",
   "metadata": {},
   "source": [
    "Посмотрим, какие игры были с 1992 на данной платформе и так сильно популярны в Америке, с более 1 млн продаж."
   ]
  },
  {
   "cell_type": "code",
   "execution_count": 16,
   "id": "631fab6f",
   "metadata": {
    "scrolled": false
   },
   "outputs": [
    {
     "data": {
      "text/html": [
       "<div>\n",
       "<style scoped>\n",
       "    .dataframe tbody tr th:only-of-type {\n",
       "        vertical-align: middle;\n",
       "    }\n",
       "\n",
       "    .dataframe tbody tr th {\n",
       "        vertical-align: top;\n",
       "    }\n",
       "\n",
       "    .dataframe thead th {\n",
       "        text-align: right;\n",
       "    }\n",
       "</style>\n",
       "<table border=\"1\" class=\"dataframe\">\n",
       "  <thead>\n",
       "    <tr style=\"text-align: right;\">\n",
       "      <th></th>\n",
       "      <th>name</th>\n",
       "      <th>platform</th>\n",
       "      <th>year_of_release</th>\n",
       "      <th>genre</th>\n",
       "      <th>na_sales</th>\n",
       "      <th>eu_sales</th>\n",
       "      <th>jp_sales</th>\n",
       "      <th>other_sales</th>\n",
       "      <th>critic_score</th>\n",
       "      <th>user_score</th>\n",
       "      <th>rating</th>\n",
       "    </tr>\n",
       "  </thead>\n",
       "  <tbody>\n",
       "    <tr>\n",
       "      <th>145</th>\n",
       "      <td>Sonic the Hedgehog 2</td>\n",
       "      <td>GEN</td>\n",
       "      <td>1992.0</td>\n",
       "      <td>Platform</td>\n",
       "      <td>4.47</td>\n",
       "      <td>1.20</td>\n",
       "      <td>0.16</td>\n",
       "      <td>0.19</td>\n",
       "      <td>NaN</td>\n",
       "      <td>NaN</td>\n",
       "      <td>unknown</td>\n",
       "    </tr>\n",
       "    <tr>\n",
       "      <th>564</th>\n",
       "      <td>Mortal Kombat</td>\n",
       "      <td>GEN</td>\n",
       "      <td>1992.0</td>\n",
       "      <td>Fighting</td>\n",
       "      <td>1.95</td>\n",
       "      <td>0.63</td>\n",
       "      <td>0.00</td>\n",
       "      <td>0.09</td>\n",
       "      <td>NaN</td>\n",
       "      <td>NaN</td>\n",
       "      <td>unknown</td>\n",
       "    </tr>\n",
       "    <tr>\n",
       "      <th>659</th>\n",
       "      <td>NaN</td>\n",
       "      <td>GEN</td>\n",
       "      <td>1993.0</td>\n",
       "      <td>NaN</td>\n",
       "      <td>1.78</td>\n",
       "      <td>0.53</td>\n",
       "      <td>0.00</td>\n",
       "      <td>0.08</td>\n",
       "      <td>NaN</td>\n",
       "      <td>NaN</td>\n",
       "      <td>unknown</td>\n",
       "    </tr>\n",
       "    <tr>\n",
       "      <th>832</th>\n",
       "      <td>NBA Jam</td>\n",
       "      <td>GEN</td>\n",
       "      <td>1992.0</td>\n",
       "      <td>Sports</td>\n",
       "      <td>1.75</td>\n",
       "      <td>0.25</td>\n",
       "      <td>0.00</td>\n",
       "      <td>0.05</td>\n",
       "      <td>NaN</td>\n",
       "      <td>NaN</td>\n",
       "      <td>unknown</td>\n",
       "    </tr>\n",
       "    <tr>\n",
       "      <th>960</th>\n",
       "      <td>Sonic &amp; Knuckles</td>\n",
       "      <td>GEN</td>\n",
       "      <td>1994.0</td>\n",
       "      <td>Platform</td>\n",
       "      <td>1.24</td>\n",
       "      <td>0.43</td>\n",
       "      <td>0.03</td>\n",
       "      <td>0.12</td>\n",
       "      <td>NaN</td>\n",
       "      <td>NaN</td>\n",
       "      <td>unknown</td>\n",
       "    </tr>\n",
       "    <tr>\n",
       "      <th>996</th>\n",
       "      <td>Sonic the Hedgehog 3</td>\n",
       "      <td>GEN</td>\n",
       "      <td>1994.0</td>\n",
       "      <td>Platform</td>\n",
       "      <td>1.02</td>\n",
       "      <td>0.47</td>\n",
       "      <td>0.20</td>\n",
       "      <td>0.07</td>\n",
       "      <td>NaN</td>\n",
       "      <td>NaN</td>\n",
       "      <td>unknown</td>\n",
       "    </tr>\n",
       "    <tr>\n",
       "      <th>1453</th>\n",
       "      <td>Mortal Kombat 3</td>\n",
       "      <td>GEN</td>\n",
       "      <td>1994.0</td>\n",
       "      <td>Fighting</td>\n",
       "      <td>1.03</td>\n",
       "      <td>0.27</td>\n",
       "      <td>0.00</td>\n",
       "      <td>0.04</td>\n",
       "      <td>NaN</td>\n",
       "      <td>NaN</td>\n",
       "      <td>unknown</td>\n",
       "    </tr>\n",
       "  </tbody>\n",
       "</table>\n",
       "</div>"
      ],
      "text/plain": [
       "                      name platform  year_of_release     genre  na_sales  \\\n",
       "145   Sonic the Hedgehog 2      GEN           1992.0  Platform      4.47   \n",
       "564          Mortal Kombat      GEN           1992.0  Fighting      1.95   \n",
       "659                    NaN      GEN           1993.0       NaN      1.78   \n",
       "832                NBA Jam      GEN           1992.0    Sports      1.75   \n",
       "960       Sonic & Knuckles      GEN           1994.0  Platform      1.24   \n",
       "996   Sonic the Hedgehog 3      GEN           1994.0  Platform      1.02   \n",
       "1453       Mortal Kombat 3      GEN           1994.0  Fighting      1.03   \n",
       "\n",
       "      eu_sales  jp_sales  other_sales  critic_score user_score   rating  \n",
       "145       1.20      0.16         0.19           NaN        NaN  unknown  \n",
       "564       0.63      0.00         0.09           NaN        NaN  unknown  \n",
       "659       0.53      0.00         0.08           NaN        NaN  unknown  \n",
       "832       0.25      0.00         0.05           NaN        NaN  unknown  \n",
       "960       0.43      0.03         0.12           NaN        NaN  unknown  \n",
       "996       0.47      0.20         0.07           NaN        NaN  unknown  \n",
       "1453      0.27      0.00         0.04           NaN        NaN  unknown  "
      ]
     },
     "execution_count": 16,
     "metadata": {},
     "output_type": "execute_result"
    }
   ],
   "source": [
    "df.query('(year_of_release>1991)& (na_sales >1) & (platform == \"GEN\")')"
   ]
  },
  {
   "cell_type": "markdown",
   "id": "eddf999a",
   "metadata": {},
   "source": [
    "В эти годы под платформу GEN высокую популярность имели версии игры Mortal Kombat, NBA Jam и Sonic. Стоит отметить, что:\n",
    "- в базе есть только Mortal Kombat - 1992 и Mortal Kombat 3 - 1994\n",
    "- Sonic всегда имел некоторую популярность в Японии\n",
    "\n",
    "Вероятнее всего на строке 659 именно Mortal Kombat 2, внешние источники подтверждают, что год выпуска 1993"
   ]
  },
  {
   "cell_type": "code",
   "execution_count": 17,
   "id": "41988dd9",
   "metadata": {
    "scrolled": true
   },
   "outputs": [
    {
     "data": {
      "text/plain": [
       "name     Mortal Kombat 2\n",
       "genre           Fighting\n",
       "Name: 659, dtype: object"
      ]
     },
     "execution_count": 17,
     "metadata": {},
     "output_type": "execute_result"
    }
   ],
   "source": [
    "df.iloc[659,[0,3]] = [\"Mortal Kombat 2\", \"Fighting\"]\n",
    "df.iloc[659,[0,3]]"
   ]
  },
  {
   "cell_type": "markdown",
   "id": "0690c178",
   "metadata": {},
   "source": [
    "Проанализируем игры с 1992, которые имели продажи только в Японии на платформе GEN"
   ]
  },
  {
   "cell_type": "code",
   "execution_count": 18,
   "id": "99e266df",
   "metadata": {
    "scrolled": false
   },
   "outputs": [
    {
     "data": {
      "text/html": [
       "<div>\n",
       "<style scoped>\n",
       "    .dataframe tbody tr th:only-of-type {\n",
       "        vertical-align: middle;\n",
       "    }\n",
       "\n",
       "    .dataframe tbody tr th {\n",
       "        vertical-align: top;\n",
       "    }\n",
       "\n",
       "    .dataframe thead th {\n",
       "        text-align: right;\n",
       "    }\n",
       "</style>\n",
       "<table border=\"1\" class=\"dataframe\">\n",
       "  <thead>\n",
       "    <tr style=\"text-align: right;\">\n",
       "      <th></th>\n",
       "      <th>name</th>\n",
       "      <th>platform</th>\n",
       "      <th>year_of_release</th>\n",
       "      <th>genre</th>\n",
       "      <th>na_sales</th>\n",
       "      <th>eu_sales</th>\n",
       "      <th>jp_sales</th>\n",
       "      <th>other_sales</th>\n",
       "      <th>critic_score</th>\n",
       "      <th>user_score</th>\n",
       "      <th>rating</th>\n",
       "    </tr>\n",
       "  </thead>\n",
       "  <tbody>\n",
       "    <tr>\n",
       "      <th>13343</th>\n",
       "      <td>Beyond Oasis</td>\n",
       "      <td>GEN</td>\n",
       "      <td>1993.0</td>\n",
       "      <td>Role-Playing</td>\n",
       "      <td>0.0</td>\n",
       "      <td>0.0</td>\n",
       "      <td>0.05</td>\n",
       "      <td>0.0</td>\n",
       "      <td>NaN</td>\n",
       "      <td>NaN</td>\n",
       "      <td>unknown</td>\n",
       "    </tr>\n",
       "    <tr>\n",
       "      <th>14132</th>\n",
       "      <td>Castlevania Bloodlines</td>\n",
       "      <td>GEN</td>\n",
       "      <td>1994.0</td>\n",
       "      <td>Platform</td>\n",
       "      <td>0.0</td>\n",
       "      <td>0.0</td>\n",
       "      <td>0.04</td>\n",
       "      <td>0.0</td>\n",
       "      <td>NaN</td>\n",
       "      <td>NaN</td>\n",
       "      <td>unknown</td>\n",
       "    </tr>\n",
       "    <tr>\n",
       "      <th>11660</th>\n",
       "      <td>Dragon Slayer: The Legend of Heroes</td>\n",
       "      <td>GEN</td>\n",
       "      <td>1994.0</td>\n",
       "      <td>Role-Playing</td>\n",
       "      <td>0.0</td>\n",
       "      <td>0.0</td>\n",
       "      <td>0.08</td>\n",
       "      <td>0.0</td>\n",
       "      <td>NaN</td>\n",
       "      <td>NaN</td>\n",
       "      <td>unknown</td>\n",
       "    </tr>\n",
       "    <tr>\n",
       "      <th>12984</th>\n",
       "      <td>Dynamite Headdy</td>\n",
       "      <td>GEN</td>\n",
       "      <td>1993.0</td>\n",
       "      <td>Platform</td>\n",
       "      <td>0.0</td>\n",
       "      <td>0.0</td>\n",
       "      <td>0.05</td>\n",
       "      <td>0.0</td>\n",
       "      <td>NaN</td>\n",
       "      <td>NaN</td>\n",
       "      <td>unknown</td>\n",
       "    </tr>\n",
       "    <tr>\n",
       "      <th>9787</th>\n",
       "      <td>Ecco the Dolphin</td>\n",
       "      <td>GEN</td>\n",
       "      <td>1992.0</td>\n",
       "      <td>Adventure</td>\n",
       "      <td>0.0</td>\n",
       "      <td>0.0</td>\n",
       "      <td>0.12</td>\n",
       "      <td>0.0</td>\n",
       "      <td>NaN</td>\n",
       "      <td>NaN</td>\n",
       "      <td>unknown</td>\n",
       "    </tr>\n",
       "    <tr>\n",
       "      <th>11986</th>\n",
       "      <td>Ecco: The Tides of Time</td>\n",
       "      <td>GEN</td>\n",
       "      <td>1993.0</td>\n",
       "      <td>Adventure</td>\n",
       "      <td>0.0</td>\n",
       "      <td>0.0</td>\n",
       "      <td>0.07</td>\n",
       "      <td>0.0</td>\n",
       "      <td>NaN</td>\n",
       "      <td>NaN</td>\n",
       "      <td>unknown</td>\n",
       "    </tr>\n",
       "    <tr>\n",
       "      <th>9563</th>\n",
       "      <td>Gunstar Heroes</td>\n",
       "      <td>GEN</td>\n",
       "      <td>1992.0</td>\n",
       "      <td>Shooter</td>\n",
       "      <td>0.0</td>\n",
       "      <td>0.0</td>\n",
       "      <td>0.13</td>\n",
       "      <td>0.0</td>\n",
       "      <td>NaN</td>\n",
       "      <td>NaN</td>\n",
       "      <td>unknown</td>\n",
       "    </tr>\n",
       "    <tr>\n",
       "      <th>14085</th>\n",
       "      <td>J-League Pro Striker 2</td>\n",
       "      <td>GEN</td>\n",
       "      <td>1994.0</td>\n",
       "      <td>Sports</td>\n",
       "      <td>0.0</td>\n",
       "      <td>0.0</td>\n",
       "      <td>0.04</td>\n",
       "      <td>0.0</td>\n",
       "      <td>NaN</td>\n",
       "      <td>NaN</td>\n",
       "      <td>unknown</td>\n",
       "    </tr>\n",
       "    <tr>\n",
       "      <th>9000</th>\n",
       "      <td>Lunar 2: Eternal Blue(sales, but wrong system)</td>\n",
       "      <td>GEN</td>\n",
       "      <td>1994.0</td>\n",
       "      <td>Role-Playing</td>\n",
       "      <td>0.0</td>\n",
       "      <td>0.0</td>\n",
       "      <td>0.14</td>\n",
       "      <td>0.0</td>\n",
       "      <td>NaN</td>\n",
       "      <td>NaN</td>\n",
       "      <td>unknown</td>\n",
       "    </tr>\n",
       "    <tr>\n",
       "      <th>14488</th>\n",
       "      <td>Puzzle &amp; Action: Tant-R</td>\n",
       "      <td>GEN</td>\n",
       "      <td>1994.0</td>\n",
       "      <td>Misc</td>\n",
       "      <td>0.0</td>\n",
       "      <td>0.0</td>\n",
       "      <td>0.03</td>\n",
       "      <td>0.0</td>\n",
       "      <td>NaN</td>\n",
       "      <td>NaN</td>\n",
       "      <td>unknown</td>\n",
       "    </tr>\n",
       "    <tr>\n",
       "      <th>7885</th>\n",
       "      <td>Shining Force II</td>\n",
       "      <td>GEN</td>\n",
       "      <td>1993.0</td>\n",
       "      <td>Strategy</td>\n",
       "      <td>0.0</td>\n",
       "      <td>0.0</td>\n",
       "      <td>0.19</td>\n",
       "      <td>0.0</td>\n",
       "      <td>NaN</td>\n",
       "      <td>NaN</td>\n",
       "      <td>unknown</td>\n",
       "    </tr>\n",
       "    <tr>\n",
       "      <th>12098</th>\n",
       "      <td>Street Fighter II': Special Champion Edition (...</td>\n",
       "      <td>GEN</td>\n",
       "      <td>1993.0</td>\n",
       "      <td>Action</td>\n",
       "      <td>0.0</td>\n",
       "      <td>0.0</td>\n",
       "      <td>0.07</td>\n",
       "      <td>0.0</td>\n",
       "      <td>NaN</td>\n",
       "      <td>NaN</td>\n",
       "      <td>unknown</td>\n",
       "    </tr>\n",
       "    <tr>\n",
       "      <th>12264</th>\n",
       "      <td>Streets of Rage 3</td>\n",
       "      <td>GEN</td>\n",
       "      <td>1993.0</td>\n",
       "      <td>Action</td>\n",
       "      <td>0.0</td>\n",
       "      <td>0.0</td>\n",
       "      <td>0.07</td>\n",
       "      <td>0.0</td>\n",
       "      <td>NaN</td>\n",
       "      <td>NaN</td>\n",
       "      <td>unknown</td>\n",
       "    </tr>\n",
       "    <tr>\n",
       "      <th>8893</th>\n",
       "      <td>Super Street Fighter II</td>\n",
       "      <td>GEN</td>\n",
       "      <td>1993.0</td>\n",
       "      <td>Fighting</td>\n",
       "      <td>0.0</td>\n",
       "      <td>0.0</td>\n",
       "      <td>0.15</td>\n",
       "      <td>0.0</td>\n",
       "      <td>NaN</td>\n",
       "      <td>NaN</td>\n",
       "      <td>unknown</td>\n",
       "    </tr>\n",
       "    <tr>\n",
       "      <th>6451</th>\n",
       "      <td>Virtua Racing</td>\n",
       "      <td>GEN</td>\n",
       "      <td>1994.0</td>\n",
       "      <td>Racing</td>\n",
       "      <td>0.0</td>\n",
       "      <td>0.0</td>\n",
       "      <td>0.26</td>\n",
       "      <td>0.0</td>\n",
       "      <td>NaN</td>\n",
       "      <td>NaN</td>\n",
       "      <td>unknown</td>\n",
       "    </tr>\n",
       "    <tr>\n",
       "      <th>11563</th>\n",
       "      <td>Yuu Yuu Hakusho: Makyo Toitsusen</td>\n",
       "      <td>GEN</td>\n",
       "      <td>1994.0</td>\n",
       "      <td>Fighting</td>\n",
       "      <td>0.0</td>\n",
       "      <td>0.0</td>\n",
       "      <td>0.08</td>\n",
       "      <td>0.0</td>\n",
       "      <td>NaN</td>\n",
       "      <td>NaN</td>\n",
       "      <td>unknown</td>\n",
       "    </tr>\n",
       "    <tr>\n",
       "      <th>14244</th>\n",
       "      <td>NaN</td>\n",
       "      <td>GEN</td>\n",
       "      <td>1993.0</td>\n",
       "      <td>NaN</td>\n",
       "      <td>0.0</td>\n",
       "      <td>0.0</td>\n",
       "      <td>0.03</td>\n",
       "      <td>0.0</td>\n",
       "      <td>NaN</td>\n",
       "      <td>NaN</td>\n",
       "      <td>unknown</td>\n",
       "    </tr>\n",
       "  </tbody>\n",
       "</table>\n",
       "</div>"
      ],
      "text/plain": [
       "                                                    name platform  \\\n",
       "13343                                       Beyond Oasis      GEN   \n",
       "14132                             Castlevania Bloodlines      GEN   \n",
       "11660                Dragon Slayer: The Legend of Heroes      GEN   \n",
       "12984                                    Dynamite Headdy      GEN   \n",
       "9787                                    Ecco the Dolphin      GEN   \n",
       "11986                            Ecco: The Tides of Time      GEN   \n",
       "9563                                      Gunstar Heroes      GEN   \n",
       "14085                             J-League Pro Striker 2      GEN   \n",
       "9000      Lunar 2: Eternal Blue(sales, but wrong system)      GEN   \n",
       "14488                            Puzzle & Action: Tant-R      GEN   \n",
       "7885                                    Shining Force II      GEN   \n",
       "12098  Street Fighter II': Special Champion Edition (...      GEN   \n",
       "12264                                  Streets of Rage 3      GEN   \n",
       "8893                             Super Street Fighter II      GEN   \n",
       "6451                                       Virtua Racing      GEN   \n",
       "11563                   Yuu Yuu Hakusho: Makyo Toitsusen      GEN   \n",
       "14244                                                NaN      GEN   \n",
       "\n",
       "       year_of_release         genre  na_sales  eu_sales  jp_sales  \\\n",
       "13343           1993.0  Role-Playing       0.0       0.0      0.05   \n",
       "14132           1994.0      Platform       0.0       0.0      0.04   \n",
       "11660           1994.0  Role-Playing       0.0       0.0      0.08   \n",
       "12984           1993.0      Platform       0.0       0.0      0.05   \n",
       "9787            1992.0     Adventure       0.0       0.0      0.12   \n",
       "11986           1993.0     Adventure       0.0       0.0      0.07   \n",
       "9563            1992.0       Shooter       0.0       0.0      0.13   \n",
       "14085           1994.0        Sports       0.0       0.0      0.04   \n",
       "9000            1994.0  Role-Playing       0.0       0.0      0.14   \n",
       "14488           1994.0          Misc       0.0       0.0      0.03   \n",
       "7885            1993.0      Strategy       0.0       0.0      0.19   \n",
       "12098           1993.0        Action       0.0       0.0      0.07   \n",
       "12264           1993.0        Action       0.0       0.0      0.07   \n",
       "8893            1993.0      Fighting       0.0       0.0      0.15   \n",
       "6451            1994.0        Racing       0.0       0.0      0.26   \n",
       "11563           1994.0      Fighting       0.0       0.0      0.08   \n",
       "14244           1993.0           NaN       0.0       0.0      0.03   \n",
       "\n",
       "       other_sales  critic_score user_score   rating  \n",
       "13343          0.0           NaN        NaN  unknown  \n",
       "14132          0.0           NaN        NaN  unknown  \n",
       "11660          0.0           NaN        NaN  unknown  \n",
       "12984          0.0           NaN        NaN  unknown  \n",
       "9787           0.0           NaN        NaN  unknown  \n",
       "11986          0.0           NaN        NaN  unknown  \n",
       "9563           0.0           NaN        NaN  unknown  \n",
       "14085          0.0           NaN        NaN  unknown  \n",
       "9000           0.0           NaN        NaN  unknown  \n",
       "14488          0.0           NaN        NaN  unknown  \n",
       "7885           0.0           NaN        NaN  unknown  \n",
       "12098          0.0           NaN        NaN  unknown  \n",
       "12264          0.0           NaN        NaN  unknown  \n",
       "8893           0.0           NaN        NaN  unknown  \n",
       "6451           0.0           NaN        NaN  unknown  \n",
       "11563          0.0           NaN        NaN  unknown  \n",
       "14244          0.0           NaN        NaN  unknown  "
      ]
     },
     "execution_count": 18,
     "metadata": {},
     "output_type": "execute_result"
    }
   ],
   "source": [
    "df.query('jp_sales != 0 & platform == \"GEN\" & na_sales == 0').sort_values('name')"
   ]
  },
  {
   "cell_type": "markdown",
   "id": "457b09cd",
   "metadata": {},
   "source": [
    "Нельзя однозначно определить, что это за игра, поэтому значения заменим на 'unknown'"
   ]
  },
  {
   "cell_type": "code",
   "execution_count": 19,
   "id": "9922f1fd",
   "metadata": {
    "scrolled": true
   },
   "outputs": [
    {
     "data": {
      "text/plain": [
       "name     unknown\n",
       "genre    unknown\n",
       "Name: 14244, dtype: object"
      ]
     },
     "execution_count": 19,
     "metadata": {},
     "output_type": "execute_result"
    }
   ],
   "source": [
    "df.iloc[14244,[0,3]] = \"unknown\"\n",
    "df.iloc[14244,[0,3]]"
   ]
  },
  {
   "cell_type": "markdown",
   "id": "2e57b353",
   "metadata": {},
   "source": [
    "### Изменение типов данных"
   ]
  },
  {
   "cell_type": "markdown",
   "id": "c8c6d05f",
   "metadata": {},
   "source": [
    "- В столбцах 'year_of_release','critic_score' данные типа float, это связано с тем что в столбце есть пропуски типа NaN. Переведём данные столбцы, к целочисленному типу. \n",
    "- Данные в столбце 'user_score' ранее содержали строку, теперь здесь только вещественные числа, а значит столбец можно привести к типу float"
   ]
  },
  {
   "cell_type": "code",
   "execution_count": 20,
   "id": "77b2b5b6",
   "metadata": {
    "scrolled": false
   },
   "outputs": [
    {
     "data": {
      "text/plain": [
       "name                object\n",
       "platform            object\n",
       "year_of_release      Int64\n",
       "genre               object\n",
       "na_sales           float64\n",
       "eu_sales           float64\n",
       "jp_sales           float64\n",
       "other_sales        float64\n",
       "critic_score         Int64\n",
       "user_score         float64\n",
       "rating              object\n",
       "dtype: object"
      ]
     },
     "execution_count": 20,
     "metadata": {},
     "output_type": "execute_result"
    }
   ],
   "source": [
    "df['year_of_release'] = df['year_of_release'].convert_dtypes()\n",
    "df['critic_score'] = df['critic_score'].convert_dtypes()\n",
    "df['user_score'] = df['user_score'].astype('float')\n",
    "df.dtypes"
   ]
  },
  {
   "cell_type": "markdown",
   "id": "2a6aae78",
   "metadata": {},
   "source": [
    "### Подсчёт общего количества продаж"
   ]
  },
  {
   "cell_type": "code",
   "execution_count": 21,
   "id": "a255536e",
   "metadata": {},
   "outputs": [
    {
     "data": {
      "text/html": [
       "<div>\n",
       "<style scoped>\n",
       "    .dataframe tbody tr th:only-of-type {\n",
       "        vertical-align: middle;\n",
       "    }\n",
       "\n",
       "    .dataframe tbody tr th {\n",
       "        vertical-align: top;\n",
       "    }\n",
       "\n",
       "    .dataframe thead th {\n",
       "        text-align: right;\n",
       "    }\n",
       "</style>\n",
       "<table border=\"1\" class=\"dataframe\">\n",
       "  <thead>\n",
       "    <tr style=\"text-align: right;\">\n",
       "      <th></th>\n",
       "      <th>na_sales</th>\n",
       "      <th>eu_sales</th>\n",
       "      <th>jp_sales</th>\n",
       "      <th>other_sales</th>\n",
       "      <th>all_sales</th>\n",
       "    </tr>\n",
       "  </thead>\n",
       "  <tbody>\n",
       "    <tr>\n",
       "      <th>0</th>\n",
       "      <td>41.36</td>\n",
       "      <td>28.96</td>\n",
       "      <td>3.77</td>\n",
       "      <td>8.45</td>\n",
       "      <td>82.54</td>\n",
       "    </tr>\n",
       "    <tr>\n",
       "      <th>1</th>\n",
       "      <td>29.08</td>\n",
       "      <td>3.58</td>\n",
       "      <td>6.81</td>\n",
       "      <td>0.77</td>\n",
       "      <td>40.24</td>\n",
       "    </tr>\n",
       "    <tr>\n",
       "      <th>2</th>\n",
       "      <td>15.68</td>\n",
       "      <td>12.76</td>\n",
       "      <td>3.79</td>\n",
       "      <td>3.29</td>\n",
       "      <td>35.52</td>\n",
       "    </tr>\n",
       "    <tr>\n",
       "      <th>3</th>\n",
       "      <td>15.61</td>\n",
       "      <td>10.93</td>\n",
       "      <td>3.28</td>\n",
       "      <td>2.95</td>\n",
       "      <td>32.77</td>\n",
       "    </tr>\n",
       "    <tr>\n",
       "      <th>4</th>\n",
       "      <td>11.27</td>\n",
       "      <td>8.89</td>\n",
       "      <td>10.22</td>\n",
       "      <td>1.00</td>\n",
       "      <td>31.38</td>\n",
       "    </tr>\n",
       "    <tr>\n",
       "      <th>...</th>\n",
       "      <td>...</td>\n",
       "      <td>...</td>\n",
       "      <td>...</td>\n",
       "      <td>...</td>\n",
       "      <td>...</td>\n",
       "    </tr>\n",
       "    <tr>\n",
       "      <th>16710</th>\n",
       "      <td>0.00</td>\n",
       "      <td>0.00</td>\n",
       "      <td>0.01</td>\n",
       "      <td>0.00</td>\n",
       "      <td>0.01</td>\n",
       "    </tr>\n",
       "    <tr>\n",
       "      <th>16711</th>\n",
       "      <td>0.00</td>\n",
       "      <td>0.01</td>\n",
       "      <td>0.00</td>\n",
       "      <td>0.00</td>\n",
       "      <td>0.01</td>\n",
       "    </tr>\n",
       "    <tr>\n",
       "      <th>16712</th>\n",
       "      <td>0.00</td>\n",
       "      <td>0.00</td>\n",
       "      <td>0.01</td>\n",
       "      <td>0.00</td>\n",
       "      <td>0.01</td>\n",
       "    </tr>\n",
       "    <tr>\n",
       "      <th>16713</th>\n",
       "      <td>0.01</td>\n",
       "      <td>0.00</td>\n",
       "      <td>0.00</td>\n",
       "      <td>0.00</td>\n",
       "      <td>0.01</td>\n",
       "    </tr>\n",
       "    <tr>\n",
       "      <th>16714</th>\n",
       "      <td>0.00</td>\n",
       "      <td>0.00</td>\n",
       "      <td>0.01</td>\n",
       "      <td>0.00</td>\n",
       "      <td>0.01</td>\n",
       "    </tr>\n",
       "  </tbody>\n",
       "</table>\n",
       "<p>16715 rows × 5 columns</p>\n",
       "</div>"
      ],
      "text/plain": [
       "       na_sales  eu_sales  jp_sales  other_sales  all_sales\n",
       "0         41.36     28.96      3.77         8.45      82.54\n",
       "1         29.08      3.58      6.81         0.77      40.24\n",
       "2         15.68     12.76      3.79         3.29      35.52\n",
       "3         15.61     10.93      3.28         2.95      32.77\n",
       "4         11.27      8.89     10.22         1.00      31.38\n",
       "...         ...       ...       ...          ...        ...\n",
       "16710      0.00      0.00      0.01         0.00       0.01\n",
       "16711      0.00      0.01      0.00         0.00       0.01\n",
       "16712      0.00      0.00      0.01         0.00       0.01\n",
       "16713      0.01      0.00      0.00         0.00       0.01\n",
       "16714      0.00      0.00      0.01         0.00       0.01\n",
       "\n",
       "[16715 rows x 5 columns]"
      ]
     },
     "execution_count": 21,
     "metadata": {},
     "output_type": "execute_result"
    }
   ],
   "source": [
    "df['all_sales'] = df[[\"na_sales\",\"eu_sales\",\"jp_sales\",\"other_sales\"]].sum(axis=1)\n",
    "df[[\"na_sales\",\"eu_sales\",\"jp_sales\",\"other_sales\",\"all_sales\"]]"
   ]
  },
  {
   "cell_type": "markdown",
   "id": "332b46cf",
   "metadata": {},
   "source": [
    "## Исследовательский анализ"
   ]
  },
  {
   "cell_type": "code",
   "execution_count": 22,
   "id": "bd1d57fb",
   "metadata": {},
   "outputs": [
    {
     "data": {
      "text/plain": [
       "'0.11.1'"
      ]
     },
     "execution_count": 22,
     "metadata": {},
     "output_type": "execute_result"
    }
   ],
   "source": [
    "sns.__version__"
   ]
  },
  {
   "cell_type": "code",
   "execution_count": 23,
   "id": "bdcdca22",
   "metadata": {
    "scrolled": true
   },
   "outputs": [
    {
     "data": {
      "image/png": "[encoded data removed]",
      "text/plain": [
       "<Figure size 432x288 with 1 Axes>"
      ]
     },
     "metadata": {
      "needs_background": "light"
     },
     "output_type": "display_data"
    }
   ],
   "source": [
    "ax = sns.histplot(data=df, x=\"year_of_release\",bins=70)\n",
    "ax.set_title(\"Количество выпущенных игр по годам\")\n",
    "sns.set(rc={'figure.figsize':(10,6)})"
   ]
  },
  {
   "cell_type": "code",
   "execution_count": 24,
   "id": "1a690023",
   "metadata": {
    "scrolled": true
   },
   "outputs": [
    {
     "data": {
      "text/plain": [
       "2008    1427\n",
       "2009    1426\n",
       "2010    1255\n",
       "2007    1197\n",
       "2011    1136\n",
       "2006    1006\n",
       "2005     939\n",
       "2002     829\n",
       "2003     775\n",
       "2004     762\n",
       "2012     653\n",
       "2015     606\n",
       "2014     581\n",
       "2013     544\n",
       "2016     502\n",
       "2001     482\n",
       "1998     379\n",
       "2000     350\n",
       "1999     338\n",
       "1997     289\n",
       "1996     263\n",
       "1995     219\n",
       "1994     121\n",
       "1993      62\n",
       "1981      46\n",
       "1992      43\n",
       "1991      41\n",
       "1982      36\n",
       "1986      21\n",
       "1983      17\n",
       "1989      17\n",
       "1990      16\n",
       "1987      16\n",
       "1988      15\n",
       "1985      14\n",
       "1984      14\n",
       "1980       9\n",
       "Name: year_of_release, dtype: Int64"
      ]
     },
     "execution_count": 24,
     "metadata": {},
     "output_type": "execute_result"
    }
   ],
   "source": [
    "df['year_of_release'].value_counts()"
   ]
  },
  {
   "cell_type": "markdown",
   "id": "e60abee2",
   "metadata": {},
   "source": [
    "Самое большое количество игр выпускалось в 2008 и 2009 годах.\n",
    "\n",
    "Посмотрим игры на какие платформы, имеют больше всего продаж."
   ]
  },
  {
   "cell_type": "code",
   "execution_count": 25,
   "id": "4b4b8e1b",
   "metadata": {},
   "outputs": [],
   "source": [
    "def get_top_platform(data, count):\n",
    "    top_platform = data.groupby('platform')['all_sales'].sum().sort_values(ascending = False).head(count)\n",
    "    data = data.query('platform in @top_platform.index')\n",
    "    platform_year = data.groupby(['platform','year_of_release'])['all_sales'].sum().reset_index()\n",
    "    ax = sns.lineplot(data=platform_year, x=\"year_of_release\", y= 'all_sales', hue =\"platform\")\n",
    "    ax.set_title(\"Продажи по годам популярных платформ\")\n",
    "    return platform_year\n",
    "    "
   ]
  },
  {
   "cell_type": "code",
   "execution_count": 26,
   "id": "77950cd4",
   "metadata": {},
   "outputs": [
    {
     "data": {
      "text/html": [
       "<div>\n",
       "<style scoped>\n",
       "    .dataframe tbody tr th:only-of-type {\n",
       "        vertical-align: middle;\n",
       "    }\n",
       "\n",
       "    .dataframe tbody tr th {\n",
       "        vertical-align: top;\n",
       "    }\n",
       "\n",
       "    .dataframe thead th {\n",
       "        text-align: right;\n",
       "    }\n",
       "</style>\n",
       "<table border=\"1\" class=\"dataframe\">\n",
       "  <thead>\n",
       "    <tr style=\"text-align: right;\">\n",
       "      <th></th>\n",
       "      <th>platform</th>\n",
       "      <th>year_of_release</th>\n",
       "      <th>all_sales</th>\n",
       "    </tr>\n",
       "  </thead>\n",
       "  <tbody>\n",
       "    <tr>\n",
       "      <th>0</th>\n",
       "      <td>DS</td>\n",
       "      <td>1985</td>\n",
       "      <td>0.02</td>\n",
       "    </tr>\n",
       "    <tr>\n",
       "      <th>1</th>\n",
       "      <td>DS</td>\n",
       "      <td>2004</td>\n",
       "      <td>17.27</td>\n",
       "    </tr>\n",
       "    <tr>\n",
       "      <th>2</th>\n",
       "      <td>DS</td>\n",
       "      <td>2005</td>\n",
       "      <td>130.14</td>\n",
       "    </tr>\n",
       "    <tr>\n",
       "      <th>3</th>\n",
       "      <td>DS</td>\n",
       "      <td>2006</td>\n",
       "      <td>119.81</td>\n",
       "    </tr>\n",
       "    <tr>\n",
       "      <th>4</th>\n",
       "      <td>DS</td>\n",
       "      <td>2007</td>\n",
       "      <td>146.94</td>\n",
       "    </tr>\n",
       "    <tr>\n",
       "      <th>5</th>\n",
       "      <td>DS</td>\n",
       "      <td>2008</td>\n",
       "      <td>145.31</td>\n",
       "    </tr>\n",
       "    <tr>\n",
       "      <th>6</th>\n",
       "      <td>DS</td>\n",
       "      <td>2009</td>\n",
       "      <td>119.54</td>\n",
       "    </tr>\n",
       "    <tr>\n",
       "      <th>7</th>\n",
       "      <td>DS</td>\n",
       "      <td>2010</td>\n",
       "      <td>85.02</td>\n",
       "    </tr>\n",
       "    <tr>\n",
       "      <th>8</th>\n",
       "      <td>DS</td>\n",
       "      <td>2011</td>\n",
       "      <td>26.18</td>\n",
       "    </tr>\n",
       "    <tr>\n",
       "      <th>9</th>\n",
       "      <td>DS</td>\n",
       "      <td>2012</td>\n",
       "      <td>11.01</td>\n",
       "    </tr>\n",
       "  </tbody>\n",
       "</table>\n",
       "</div>"
      ],
      "text/plain": [
       "  platform  year_of_release  all_sales\n",
       "0       DS             1985       0.02\n",
       "1       DS             2004      17.27\n",
       "2       DS             2005     130.14\n",
       "3       DS             2006     119.81\n",
       "4       DS             2007     146.94\n",
       "5       DS             2008     145.31\n",
       "6       DS             2009     119.54\n",
       "7       DS             2010      85.02\n",
       "8       DS             2011      26.18\n",
       "9       DS             2012      11.01"
      ]
     },
     "execution_count": 26,
     "metadata": {},
     "output_type": "execute_result"
    },
    {
     "data": {
      "image/png": "[encoded data removed]",
      "text/plain": [
       "<Figure size 720x432 with 1 Axes>"
      ]
     },
     "metadata": {},
     "output_type": "display_data"
    }
   ],
   "source": [
    "get_top_platform(df, 5).head(10)"
   ]
  },
  {
   "cell_type": "markdown",
   "id": "32823477",
   "metadata": {},
   "source": [
    "- В среднем игры под платформу продаются в течение 10 лет\n",
    "- Для платформы PC продажи есть всегда с 1985\n",
    "- Между пиками продаж под новые версии PS 5-6 лет\n",
    "- Стоит отметить, что пик всех продаж по платформам приходится на середину цикла продаж, за исключением долгоживущих платформ \"DS\" и \"PC\""
   ]
  },
  {
   "cell_type": "markdown",
   "id": "4dd3820b",
   "metadata": {},
   "source": [
    "Для прогноза на 2017 год, актуальный период можно брать за последние 5 лет с 2012 по 2016."
   ]
  },
  {
   "cell_type": "code",
   "execution_count": 27,
   "id": "083ad45b",
   "metadata": {
    "scrolled": true
   },
   "outputs": [
    {
     "data": {
      "image/png": "[encoded data removed]",
      "text/plain": [
       "<Figure size 720x432 with 1 Axes>"
      ]
     },
     "metadata": {},
     "output_type": "display_data"
    }
   ],
   "source": [
    "df_actually = df[df['year_of_release'] >= 2012]\n",
    "df_actually_top = get_top_platform(df_actually,5)"
   ]
  },
  {
   "cell_type": "markdown",
   "id": "695447dc",
   "metadata": {},
   "source": [
    "К 2017 году продажи по самым популярным платформам за последние 5 лет находятся в стадии падения и прошли свой пик.\n",
    "\n",
    "Те не менее даже в падении лидируют PS4, XOne"
   ]
  },
  {
   "cell_type": "code",
   "execution_count": 28,
   "id": "e1f61b1f",
   "metadata": {
    "scrolled": false
   },
   "outputs": [
    {
     "data": {
      "text/plain": [
       "<AxesSubplot:xlabel='platform', ylabel='all_sales'>"
      ]
     },
     "execution_count": 28,
     "metadata": {},
     "output_type": "execute_result"
    },
    {
     "data": {
      "image/png": "[encoded data removed]",
      "text/plain": [
       "<Figure size 720x432 with 1 Axes>"
      ]
     },
     "metadata": {},
     "output_type": "display_data"
    }
   ],
   "source": [
    "sns.boxplot(x='platform', y='all_sales', data=df_actually)"
   ]
  },
  {
   "cell_type": "code",
   "execution_count": 29,
   "id": "e6d1c014",
   "metadata": {
    "scrolled": false
   },
   "outputs": [
    {
     "data": {
      "text/plain": [
       "[(0.0, 2.0)]"
      ]
     },
     "execution_count": 29,
     "metadata": {},
     "output_type": "execute_result"
    },
    {
     "data": {
      "image/png": "[encoded data removed]",
      "text/plain": [
       "<Figure size 720x432 with 1 Axes>"
      ]
     },
     "metadata": {},
     "output_type": "display_data"
    }
   ],
   "source": [
    "ax = sns.boxplot(x='platform', y='all_sales', data=df_actually)\n",
    "ax.set(ylim=(0,2))"
   ]
  },
  {
   "cell_type": "markdown",
   "id": "6982c689",
   "metadata": {},
   "source": [
    "Как видно из графиков данные распределены неравномерно, наибольшее количество продаж приносят единичные игры.\n",
    " - Медианные значения по всем платформам распологаются в пределах 0.4 млн продаж.\n",
    " - При это видим для всех платформ тенденцию смещения медианных значений к 1 квартилю. Что говорит о том, что на всех платформах есть единичные игры на которые приходятся большая доля продаж и которые влият на рынок в целом "
   ]
  },
  {
   "cell_type": "markdown",
   "id": "041a2b1f",
   "metadata": {},
   "source": [
    "Самая популярная платформа PS3, рассмотрим как кореллириуют отзывы пользователей и критиков и продажи"
   ]
  },
  {
   "cell_type": "code",
   "execution_count": 30,
   "id": "6a0d5880",
   "metadata": {},
   "outputs": [
    {
     "data": {
      "text/plain": [
       "<AxesSubplot:xlabel='critic_score', ylabel='all_sales'>"
      ]
     },
     "execution_count": 30,
     "metadata": {},
     "output_type": "execute_result"
    },
    {
     "data": {
      "image/png": "[encoded data removed]",
      "text/plain": [
       "<Figure size 720x432 with 1 Axes>"
      ]
     },
     "metadata": {},
     "output_type": "display_data"
    }
   ],
   "source": [
    "df_ps4 = df_actually.query('platform == \"PS4\"')[['name','critic_score', 'user_score', 'all_sales']]\n",
    "sns.scatterplot(data = df_ps4, x = 'critic_score', y = 'all_sales')"
   ]
  },
  {
   "cell_type": "code",
   "execution_count": 31,
   "id": "1c50c3ef",
   "metadata": {
    "scrolled": false
   },
   "outputs": [
    {
     "data": {
      "text/plain": [
       "<AxesSubplot:xlabel='user_score', ylabel='all_sales'>"
      ]
     },
     "execution_count": 31,
     "metadata": {},
     "output_type": "execute_result"
    },
    {
     "data": {
      "image/png": "[encoded data removed]",
      "text/plain": [
       "<Figure size 720x432 with 1 Axes>"
      ]
     },
     "metadata": {},
     "output_type": "display_data"
    }
   ],
   "source": [
    "sns.scatterplot(data = df_ps4, x = 'user_score', y = 'all_sales')"
   ]
  },
  {
   "cell_type": "code",
   "execution_count": 32,
   "id": "7bbb6213",
   "metadata": {
    "scrolled": false
   },
   "outputs": [
    {
     "data": {
      "text/plain": [
       "<AxesSubplot:>"
      ]
     },
     "execution_count": 32,
     "metadata": {},
     "output_type": "execute_result"
    },
    {
     "data": {
      "image/png": "[encoded data removed]",
      "text/plain": [
       "<Figure size 720x432 with 2 Axes>"
      ]
     },
     "metadata": {},
     "output_type": "display_data"
    }
   ],
   "source": [
    "sns.heatmap(df_ps4.corr())"
   ]
  },
  {
   "cell_type": "markdown",
   "id": "02ee5fa4",
   "metadata": {},
   "source": [
    "**Выводы**: есть слабая линейная связь между оценкой критиков и продажами игр на платформе PS4, между оценкой пользователей и продажами игр, связь не наблюдается."
   ]
  },
  {
   "cell_type": "markdown",
   "id": "7e2921ea",
   "metadata": {},
   "source": [
    "Проверим данный вывод на примере других топовых платформах"
   ]
  },
  {
   "cell_type": "code",
   "execution_count": 33,
   "id": "6f7103af",
   "metadata": {
    "scrolled": false
   },
   "outputs": [
    {
     "data": {
      "text/html": [
       "<div>\n",
       "<style scoped>\n",
       "    .dataframe tbody tr th:only-of-type {\n",
       "        vertical-align: middle;\n",
       "    }\n",
       "\n",
       "    .dataframe tbody tr th {\n",
       "        vertical-align: top;\n",
       "    }\n",
       "\n",
       "    .dataframe thead th {\n",
       "        text-align: right;\n",
       "    }\n",
       "</style>\n",
       "<table border=\"1\" class=\"dataframe\">\n",
       "  <thead>\n",
       "    <tr style=\"text-align: right;\">\n",
       "      <th></th>\n",
       "      <th>all_sales</th>\n",
       "      <th>critic_score</th>\n",
       "      <th>user_score</th>\n",
       "    </tr>\n",
       "  </thead>\n",
       "  <tbody>\n",
       "    <tr>\n",
       "      <th>all_sales</th>\n",
       "      <td>1.000000</td>\n",
       "      <td>0.363041</td>\n",
       "      <td>-0.007889</td>\n",
       "    </tr>\n",
       "    <tr>\n",
       "      <th>critic_score</th>\n",
       "      <td>0.363041</td>\n",
       "      <td>1.000000</td>\n",
       "      <td>0.551451</td>\n",
       "    </tr>\n",
       "    <tr>\n",
       "      <th>user_score</th>\n",
       "      <td>-0.007889</td>\n",
       "      <td>0.551451</td>\n",
       "      <td>1.000000</td>\n",
       "    </tr>\n",
       "  </tbody>\n",
       "</table>\n",
       "</div>"
      ],
      "text/plain": [
       "              all_sales  critic_score  user_score\n",
       "all_sales      1.000000      0.363041   -0.007889\n",
       "critic_score   0.363041      1.000000    0.551451\n",
       "user_score    -0.007889      0.551451    1.000000"
      ]
     },
     "execution_count": 33,
     "metadata": {},
     "output_type": "execute_result"
    }
   ],
   "source": [
    "top3_list = df_actually_top.groupby('platform').sum().reset_index().sort_values('all_sales',ascending = False).head(3)['platform']\n",
    "top3_list\n",
    "df_actually.query('platform in @top3_list')[['name','all_sales','critic_score','user_score']].corr()"
   ]
  },
  {
   "cell_type": "markdown",
   "id": "72690aa4",
   "metadata": {},
   "source": [
    "**Выводы:** для ТОП-3 популярных платформ, зависимость продаж от оценки критиков слабее чем для самой популярной платформы"
   ]
  },
  {
   "cell_type": "code",
   "execution_count": 34,
   "id": "b70d39bd",
   "metadata": {
    "scrolled": false
   },
   "outputs": [
    {
     "data": {
      "text/html": [
       "<div>\n",
       "<style scoped>\n",
       "    .dataframe tbody tr th:only-of-type {\n",
       "        vertical-align: middle;\n",
       "    }\n",
       "\n",
       "    .dataframe tbody tr th {\n",
       "        vertical-align: top;\n",
       "    }\n",
       "\n",
       "    .dataframe thead th {\n",
       "        text-align: right;\n",
       "    }\n",
       "</style>\n",
       "<table border=\"1\" class=\"dataframe\">\n",
       "  <thead>\n",
       "    <tr style=\"text-align: right;\">\n",
       "      <th></th>\n",
       "      <th>median</th>\n",
       "      <th>mean</th>\n",
       "      <th>sum</th>\n",
       "      <th>count</th>\n",
       "      <th>max</th>\n",
       "    </tr>\n",
       "    <tr>\n",
       "      <th>genre</th>\n",
       "      <th></th>\n",
       "      <th></th>\n",
       "      <th></th>\n",
       "      <th></th>\n",
       "      <th></th>\n",
       "    </tr>\n",
       "  </thead>\n",
       "  <tbody>\n",
       "    <tr>\n",
       "      <th>Shooter</th>\n",
       "      <td>0.440</td>\n",
       "      <td>1.296723</td>\n",
       "      <td>304.73</td>\n",
       "      <td>235</td>\n",
       "      <td>14.63</td>\n",
       "    </tr>\n",
       "    <tr>\n",
       "      <th>Sports</th>\n",
       "      <td>0.240</td>\n",
       "      <td>0.675634</td>\n",
       "      <td>181.07</td>\n",
       "      <td>268</td>\n",
       "      <td>8.58</td>\n",
       "    </tr>\n",
       "    <tr>\n",
       "      <th>Platform</th>\n",
       "      <td>0.210</td>\n",
       "      <td>0.717647</td>\n",
       "      <td>61.00</td>\n",
       "      <td>85</td>\n",
       "      <td>9.90</td>\n",
       "    </tr>\n",
       "    <tr>\n",
       "      <th>Role-Playing</th>\n",
       "      <td>0.140</td>\n",
       "      <td>0.521081</td>\n",
       "      <td>192.80</td>\n",
       "      <td>370</td>\n",
       "      <td>14.60</td>\n",
       "    </tr>\n",
       "    <tr>\n",
       "      <th>Racing</th>\n",
       "      <td>0.140</td>\n",
       "      <td>0.465217</td>\n",
       "      <td>53.50</td>\n",
       "      <td>115</td>\n",
       "      <td>7.09</td>\n",
       "    </tr>\n",
       "    <tr>\n",
       "      <th>Fighting</th>\n",
       "      <td>0.130</td>\n",
       "      <td>0.408165</td>\n",
       "      <td>44.49</td>\n",
       "      <td>109</td>\n",
       "      <td>7.55</td>\n",
       "    </tr>\n",
       "    <tr>\n",
       "      <th>Action</th>\n",
       "      <td>0.120</td>\n",
       "      <td>0.427856</td>\n",
       "      <td>441.12</td>\n",
       "      <td>1031</td>\n",
       "      <td>21.05</td>\n",
       "    </tr>\n",
       "    <tr>\n",
       "      <th>Misc</th>\n",
       "      <td>0.120</td>\n",
       "      <td>0.442917</td>\n",
       "      <td>85.04</td>\n",
       "      <td>192</td>\n",
       "      <td>9.18</td>\n",
       "    </tr>\n",
       "    <tr>\n",
       "      <th>Simulation</th>\n",
       "      <td>0.120</td>\n",
       "      <td>0.439000</td>\n",
       "      <td>35.12</td>\n",
       "      <td>80</td>\n",
       "      <td>9.17</td>\n",
       "    </tr>\n",
       "    <tr>\n",
       "      <th>Strategy</th>\n",
       "      <td>0.080</td>\n",
       "      <td>0.187887</td>\n",
       "      <td>13.34</td>\n",
       "      <td>71</td>\n",
       "      <td>1.67</td>\n",
       "    </tr>\n",
       "    <tr>\n",
       "      <th>Puzzle</th>\n",
       "      <td>0.045</td>\n",
       "      <td>0.174643</td>\n",
       "      <td>4.89</td>\n",
       "      <td>28</td>\n",
       "      <td>1.19</td>\n",
       "    </tr>\n",
       "    <tr>\n",
       "      <th>Adventure</th>\n",
       "      <td>0.030</td>\n",
       "      <td>0.097450</td>\n",
       "      <td>29.43</td>\n",
       "      <td>302</td>\n",
       "      <td>1.66</td>\n",
       "    </tr>\n",
       "  </tbody>\n",
       "</table>\n",
       "</div>"
      ],
      "text/plain": [
       "              median      mean     sum  count    max\n",
       "genre                                               \n",
       "Shooter        0.440  1.296723  304.73    235  14.63\n",
       "Sports         0.240  0.675634  181.07    268   8.58\n",
       "Platform       0.210  0.717647   61.00     85   9.90\n",
       "Role-Playing   0.140  0.521081  192.80    370  14.60\n",
       "Racing         0.140  0.465217   53.50    115   7.09\n",
       "Fighting       0.130  0.408165   44.49    109   7.55\n",
       "Action         0.120  0.427856  441.12   1031  21.05\n",
       "Misc           0.120  0.442917   85.04    192   9.18\n",
       "Simulation     0.120  0.439000   35.12     80   9.17\n",
       "Strategy       0.080  0.187887   13.34     71   1.67\n",
       "Puzzle         0.045  0.174643    4.89     28   1.19\n",
       "Adventure      0.030  0.097450   29.43    302   1.66"
      ]
     },
     "execution_count": 34,
     "metadata": {},
     "output_type": "execute_result"
    }
   ],
   "source": [
    "df_actually.groupby('genre')['all_sales'].agg([\"median\",\"mean\",\"sum\",\"count\",\"max\"]).sort_values(by = \"median\",ascending = False)"
   ]
  },
  {
   "cell_type": "markdown",
   "id": "f72e0793",
   "metadata": {},
   "source": [
    "**Выводы:** \n",
    "- ТОП3 продаваемых игр жанра Action, Shooter, Role-Playing\n",
    "- ТОП3 наименее продаваемых игр жанра Adventure, Strategy, Puzzle\n",
    "\n",
    "Чтобы говорить о прибыльности жанров, недостаточно исходной информации, т.к. неизвестна прибыль с одной игры"
   ]
  },
  {
   "cell_type": "markdown",
   "id": "fd29d0cd",
   "metadata": {},
   "source": [
    "## Портрет пользователя каждого региона"
   ]
  },
  {
   "cell_type": "code",
   "execution_count": 35,
   "id": "f09a6896",
   "metadata": {
    "scrolled": false
   },
   "outputs": [],
   "source": [
    "def view_top5(index):\n",
    "    pivot_sales = pd.pivot_table(data = df_actually,\n",
    "              values=['na_sales','eu_sales','jp_sales'],\n",
    "               index = index, aggfunc = 'sum')\n",
    "    for column in pivot_sales.columns:\n",
    "        print(f'Топ {index} в {column}')\n",
    "        top_platform_sales = pivot_sales.sort_values(column, ascending = False)[column].head(5)\n",
    "        top_platform_sales.plot.bar()\n",
    "        plt.show()"
   ]
  },
  {
   "cell_type": "code",
   "execution_count": 36,
   "id": "82ce313b",
   "metadata": {},
   "outputs": [
    {
     "name": "stdout",
     "output_type": "stream",
     "text": [
      "Топ platform в eu_sales\n"
     ]
    },
    {
     "data": {
      "image/png": "[encoded data removed]",
      "text/plain": [
       "<Figure size 720x432 with 1 Axes>"
      ]
     },
     "metadata": {},
     "output_type": "display_data"
    },
    {
     "name": "stdout",
     "output_type": "stream",
     "text": [
      "Топ platform в jp_sales\n"
     ]
    },
    {
     "data": {
      "image/png": "[encoded data removed]",
      "text/plain": [
       "<Figure size 720x432 with 1 Axes>"
      ]
     },
     "metadata": {},
     "output_type": "display_data"
    },
    {
     "name": "stdout",
     "output_type": "stream",
     "text": [
      "Топ platform в na_sales\n"
     ]
    },
    {
     "data": {
      "image/png": "[encoded data removed]",
      "text/plain": [
       "<Figure size 720x432 with 1 Axes>"
      ]
     },
     "metadata": {},
     "output_type": "display_data"
    }
   ],
   "source": [
    "view_top5('platform')"
   ]
  },
  {
   "cell_type": "code",
   "execution_count": 37,
   "id": "fba6f68f",
   "metadata": {},
   "outputs": [
    {
     "name": "stdout",
     "output_type": "stream",
     "text": [
      "Топ genre в eu_sales\n"
     ]
    },
    {
     "data": {
      "image/png": "[encoded data removed]",
      "text/plain": [
       "<Figure size 720x432 with 1 Axes>"
      ]
     },
     "metadata": {},
     "output_type": "display_data"
    },
    {
     "name": "stdout",
     "output_type": "stream",
     "text": [
      "Топ genre в jp_sales\n"
     ]
    },
    {
     "data": {
      "image/png": "[encoded data removed]",
      "text/plain": [
       "<Figure size 720x432 with 1 Axes>"
      ]
     },
     "metadata": {},
     "output_type": "display_data"
    },
    {
     "name": "stdout",
     "output_type": "stream",
     "text": [
      "Топ genre в na_sales\n"
     ]
    },
    {
     "data": {
      "image/png": "[encoded data removed]",
      "text/plain": [
       "<Figure size 720x432 with 1 Axes>"
      ]
     },
     "metadata": {},
     "output_type": "display_data"
    }
   ],
   "source": [
    "view_top5('genre')"
   ]
  },
  {
   "cell_type": "markdown",
   "id": "59320747",
   "metadata": {},
   "source": [
    "**Выводы**\n",
    "- Интересы пользователей из Японии существенно отличаются, от пользователей из Северной Америки и Европы. Самая популярная платформа 3DS, которая в Европе и Америке занимает лишь 5 место. Самый популярный жанр \"Ролевая игра\", в то время как в Европе и Америке, этот жанр занимает 4 место.\n",
    "\n",
    "- Самые популярные жанры в Америке и Европе одинаковые, лишь на 5 месте различные жанры в Европе - это Гонки, в Америке  - Misc. \n",
    "\n",
    "- ТОП-5 платформ в Америке и Европе составляют одинаковые платформы, но ТОП-3 отранжированы по разному. Если в Америке самая популярная платформа X360, то в Европе она лишь на 3 месте, а на первом PS4.\n",
    "\n",
    "**Американские и Европейские пользователи схожи в своих интересах, в то время как японский рынок более специфичен и имеет свои интересы**"
   ]
  },
  {
   "cell_type": "code",
   "execution_count": 38,
   "id": "18344c18",
   "metadata": {
    "scrolled": true
   },
   "outputs": [
    {
     "data": {
      "text/html": [
       "<div>\n",
       "<style scoped>\n",
       "    .dataframe tbody tr th:only-of-type {\n",
       "        vertical-align: middle;\n",
       "    }\n",
       "\n",
       "    .dataframe tbody tr th {\n",
       "        vertical-align: top;\n",
       "    }\n",
       "\n",
       "    .dataframe thead th {\n",
       "        text-align: right;\n",
       "    }\n",
       "</style>\n",
       "<table border=\"1\" class=\"dataframe\">\n",
       "  <thead>\n",
       "    <tr style=\"text-align: right;\">\n",
       "      <th></th>\n",
       "      <th>eu_sales</th>\n",
       "      <th>jp_sales</th>\n",
       "      <th>na_sales</th>\n",
       "    </tr>\n",
       "    <tr>\n",
       "      <th>rating</th>\n",
       "      <th></th>\n",
       "      <th></th>\n",
       "      <th></th>\n",
       "    </tr>\n",
       "  </thead>\n",
       "  <tbody>\n",
       "    <tr>\n",
       "      <th>E</th>\n",
       "      <td>113.03</td>\n",
       "      <td>28.33</td>\n",
       "      <td>114.37</td>\n",
       "    </tr>\n",
       "    <tr>\n",
       "      <th>E10+</th>\n",
       "      <td>55.37</td>\n",
       "      <td>8.19</td>\n",
       "      <td>75.70</td>\n",
       "    </tr>\n",
       "    <tr>\n",
       "      <th>M</th>\n",
       "      <td>193.96</td>\n",
       "      <td>21.20</td>\n",
       "      <td>231.57</td>\n",
       "    </tr>\n",
       "    <tr>\n",
       "      <th>T</th>\n",
       "      <td>52.96</td>\n",
       "      <td>26.02</td>\n",
       "      <td>66.02</td>\n",
       "    </tr>\n",
       "    <tr>\n",
       "      <th>unknown</th>\n",
       "      <td>91.50</td>\n",
       "      <td>108.84</td>\n",
       "      <td>103.31</td>\n",
       "    </tr>\n",
       "  </tbody>\n",
       "</table>\n",
       "</div>"
      ],
      "text/plain": [
       "         eu_sales  jp_sales  na_sales\n",
       "rating                               \n",
       "E          113.03     28.33    114.37\n",
       "E10+        55.37      8.19     75.70\n",
       "M          193.96     21.20    231.57\n",
       "T           52.96     26.02     66.02\n",
       "unknown     91.50    108.84    103.31"
      ]
     },
     "execution_count": 38,
     "metadata": {},
     "output_type": "execute_result"
    }
   ],
   "source": [
    "pivot_sales = pd.pivot_table(data = df_actually,\n",
    "              values=['na_sales','eu_sales','jp_sales'],\n",
    "               index = 'rating', aggfunc = 'sum')\n",
    "pivot_sales"
   ]
  },
  {
   "cell_type": "code",
   "execution_count": 72,
   "id": "784fb31f",
   "metadata": {},
   "outputs": [
    {
     "data": {
      "text/plain": [
       "array([<AxesSubplot:ylabel='Европа'>, <AxesSubplot:ylabel='Япония'>,\n",
       "       <AxesSubplot:ylabel='Северная Америка'>], dtype=object)"
      ]
     },
     "execution_count": 72,
     "metadata": {},
     "output_type": "execute_result"
    },
    {
     "data": {
      "image/png": "[encoded data removed]",
      "text/plain": [
       "<Figure size 1080x648 with 3 Axes>"
      ]
     },
     "metadata": {},
     "output_type": "display_data"
    }
   ],
   "source": [
    "pivot_sales.columns = [\"Европа\",\"Япония\", \"Северная Америка\"]\n",
    "pivot_sales.plot.pie(subplots=True,figsize=(15, 9))"
   ]
  },
  {
   "cell_type": "markdown",
   "id": "6111a445",
   "metadata": {},
   "source": [
    "**Выводы**\n",
    "- В Европе и Америке наибольшей популярностью обладают игры с рейтингом M для взрослых. Вторые по продажам игры категории E \"для всех\" от 6 лет.\n",
    "- Для самых продаваемых игр в Японии, рейтинг не определен. ESRB не оценивал игры расчитанные на японский рынок"
   ]
  },
  {
   "cell_type": "markdown",
   "id": "64634cbd",
   "metadata": {},
   "source": [
    "## Проверка гипотез"
   ]
  },
  {
   "cell_type": "markdown",
   "id": "d136991a",
   "metadata": {},
   "source": [
    "**Проверим гипотезу:** Средние пользовательские рейтинги платформ Xbox One и PC одинаковые\n",
    "\n",
    "*Нулевая гипотеза:* Средние пользовательские рейтинги платформы Xbox One и PC одинаковые\n",
    "\n",
    "*Альтернативная гипотеза:* Средние пользовательские рейтинги выборки платформы Xbox и PC отличаются"
   ]
  },
  {
   "cell_type": "code",
   "execution_count": 40,
   "id": "3ad4b0f1",
   "metadata": {},
   "outputs": [
    {
     "name": "stdout",
     "output_type": "stream",
     "text": [
      "Размер выборки рейтингов на платформе Xbox One 182\n",
      "Размер выборки рейтингов на платформе PC 206\n"
     ]
    }
   ],
   "source": [
    "choose_xbox = df_actually.query('platform == \"XOne\"')['user_score']\n",
    "choose_pc = df_actually.query('platform == \"PC\"')['user_score']\n",
    "choose_xbox = choose_xbox.dropna()\n",
    "choose_pc = choose_pc.dropna()\n",
    "print(f'Размер выборки рейтингов на платформе Xbox One {len(choose_xbox)}')\n",
    "print(f'Размер выборки рейтингов на платформе PC {len(choose_pc)}')"
   ]
  },
  {
   "cell_type": "markdown",
   "id": "638f8c67",
   "metadata": {},
   "source": [
    "Размеры выборок достаточные для проведения t-test\n",
    "\n",
    "Оценим дисперсию данных выборок"
   ]
  },
  {
   "cell_type": "code",
   "execution_count": 41,
   "id": "e629775f",
   "metadata": {
    "scrolled": true
   },
   "outputs": [
    {
     "name": "stdout",
     "output_type": "stream",
     "text": [
      "Дисперсия рейтингов по платформе Xbox One 1.9069968429360695\n",
      "Дисперсия рейтингов по платформе PC 2.770443997158418\n"
     ]
    }
   ],
   "source": [
    "print(f'Дисперсия рейтингов по платформе Xbox One {choose_xbox.var()}')\n",
    "print(f'Дисперсия рейтингов по платформе PC {choose_pc.var()}')"
   ]
  },
  {
   "cell_type": "markdown",
   "id": "dbee126e",
   "metadata": {},
   "source": [
    "В тесте Стьюдента equal_var будем задавать как False"
   ]
  },
  {
   "cell_type": "code",
   "execution_count": 42,
   "id": "668650d9",
   "metadata": {
    "scrolled": true
   },
   "outputs": [
    {
     "name": "stdout",
     "output_type": "stream",
     "text": [
      "0.5489537965134912\n",
      "Не получилось отвергнуть нулевую гипотезу\n"
     ]
    }
   ],
   "source": [
    "alpha = .05\n",
    "results = st.ttest_ind(\n",
    "    choose_xbox, \n",
    "    choose_pc, equal_var = False)\n",
    "print(results.pvalue)\n",
    "if results.pvalue < alpha:\n",
    "    print(\"Отвергаем нулевую гипотезу\")\n",
    "else:\n",
    "    print(\"Не получилось отвергнуть нулевую гипотезу\") "
   ]
  },
  {
   "cell_type": "markdown",
   "id": "c97a56f0",
   "metadata": {},
   "source": [
    "**Нельзя отвергнуть гипотезу о том, что средние пользовательские рейтинги платформы Xbox One и PC одинаковые**"
   ]
  },
  {
   "cell_type": "markdown",
   "id": "21ae092f",
   "metadata": {},
   "source": [
    "Проверим гипотезу: Средние пользовательские рейтинги жанров Action и Sports разные\n",
    "\n",
    "Нулевая гипотеза: Средние пользовательские рейтинги жанров Action и Sports одинаковые\n",
    "\n",
    "Альтернативная гипотеза: Средние пользовательские рейтинги жанров Action и Sports разные"
   ]
  },
  {
   "cell_type": "code",
   "execution_count": 43,
   "id": "ad79f327",
   "metadata": {
    "scrolled": true
   },
   "outputs": [
    {
     "name": "stdout",
     "output_type": "stream",
     "text": [
      "Размер выборки рейтингов жанра Action 523\n",
      "Размер выборки рейтингов жанра Sports 195\n"
     ]
    }
   ],
   "source": [
    "choose_action = df_actually.query('genre == \"Action\"')['user_score']\n",
    "choose_sports = df_actually.query('genre == \"Sports\"')['user_score']\n",
    "choose_action = choose_action.dropna()\n",
    "choose_sports = choose_sports.dropna()\n",
    "print(f'Размер выборки рейтингов жанра Action {len(choose_action)}')\n",
    "print(f'Размер выборки рейтингов жанра Sports {len(choose_sports)}')"
   ]
  },
  {
   "cell_type": "markdown",
   "id": "d7dfac42",
   "metadata": {},
   "source": [
    "Выборки достаточные для проведения теста Стьюдента t-test, но  при этом существенно различаются поэтому параметр equal_var возьмём равным False"
   ]
  },
  {
   "cell_type": "code",
   "execution_count": 44,
   "id": "7b26aff3",
   "metadata": {
    "scrolled": true
   },
   "outputs": [
    {
     "name": "stdout",
     "output_type": "stream",
     "text": [
      "4.24307776572644e-20\n",
      "Отвергаем нулевую гипотезу\n"
     ]
    }
   ],
   "source": [
    "alpha = .05\n",
    "results = st.ttest_ind(\n",
    "    choose_action, \n",
    "    choose_sports, equal_var = False)\n",
    "print(results.pvalue)\n",
    "if results.pvalue < alpha:\n",
    "    print(\"Отвергаем нулевую гипотезу\")\n",
    "else:\n",
    "    print(\"Не получилось отвергнуть нулевую гипотезу\") "
   ]
  },
  {
   "cell_type": "markdown",
   "id": "2e4135d3",
   "metadata": {},
   "source": [
    "**Гипотеза о том, что средние пользовательские рейтинги жанров Action и Sports - разные, не может быть отвергнута**"
   ]
  },
  {
   "cell_type": "markdown",
   "id": "2ef5e801",
   "metadata": {},
   "source": [
    "## Общий вывод"
   ]
  },
  {
   "cell_type": "markdown",
   "id": "6d8c16de",
   "metadata": {},
   "source": [
    "- В среднем новая платформа достигает пика продаж в течение первых 5 лет и живёт около 10 лет\n",
    "- Все популярные платформы на 2016 год находятся в стадии спада и прошли свой пик продаж\n",
    "- При проведении рекламной компании, важно определить регион аудитории, предпочтения в Америке и Европе, существенно отличаются от аудитории Японии\n",
    "    - в Америке самая популярная платформа X360, а жанр игры Action\n",
    "    - в Европе самая популярная платформа PS4, а жанр игры Action\n",
    "    - в Японии самая популярная платформа 3DS, а жанр игры Role-Playing"
   ]
  },
  {
   "cell_type": "markdown",
   "id": "b0008ead",
   "metadata": {},
   "source": [
    "Рекомендую при рекламе продукции ориентироваться именно на Американский и Европейский рынок, т.к. их охват значительно больше. В стадии роста по продажам на полный 2015 год находятся платформы PS4 и XOne, игры под эти плафтормы лучше продвигать, также при продвижении стоит учитывать рейтинги игр, для выбора наиболее продаваемого продукта"
   ]
  }
 ],
 "metadata": {
  "ExecuteTimeLog": [
   {
    "duration": 324,
    "start_time": "2022-03-07T20:23:59.300Z"
   },
   {
    "duration": 231,
    "start_time": "2022-03-07T20:27:08.847Z"
   },
   {
    "duration": 1195,
    "start_time": "2022-03-07T20:27:13.149Z"
   },
   {
    "duration": 1765,
    "start_time": "2022-03-07T20:27:14.346Z"
   },
   {
    "duration": 137,
    "start_time": "2022-03-07T20:27:15.976Z"
   },
   {
    "duration": 132,
    "start_time": "2022-03-07T20:27:15.983Z"
   },
   {
    "duration": 130,
    "start_time": "2022-03-07T20:27:15.986Z"
   },
   {
    "duration": 128,
    "start_time": "2022-03-07T20:27:15.989Z"
   },
   {
    "duration": 125,
    "start_time": "2022-03-07T20:27:15.993Z"
   },
   {
    "duration": 123,
    "start_time": "2022-03-07T20:27:15.996Z"
   },
   {
    "duration": 120,
    "start_time": "2022-03-07T20:27:15.999Z"
   },
   {
    "duration": 119,
    "start_time": "2022-03-07T20:27:16.001Z"
   },
   {
    "duration": 118,
    "start_time": "2022-03-07T20:27:16.004Z"
   },
   {
    "duration": 116,
    "start_time": "2022-03-07T20:27:16.007Z"
   },
   {
    "duration": 115,
    "start_time": "2022-03-07T20:27:16.009Z"
   },
   {
    "duration": 113,
    "start_time": "2022-03-07T20:27:16.012Z"
   },
   {
    "duration": 112,
    "start_time": "2022-03-07T20:27:16.014Z"
   },
   {
    "duration": 111,
    "start_time": "2022-03-07T20:27:16.016Z"
   },
   {
    "duration": 109,
    "start_time": "2022-03-07T20:27:16.019Z"
   },
   {
    "duration": 108,
    "start_time": "2022-03-07T20:27:16.021Z"
   },
   {
    "duration": 106,
    "start_time": "2022-03-07T20:27:16.024Z"
   },
   {
    "duration": 104,
    "start_time": "2022-03-07T20:27:16.027Z"
   },
   {
    "duration": 102,
    "start_time": "2022-03-07T20:27:16.030Z"
   },
   {
    "duration": 95,
    "start_time": "2022-03-07T20:27:16.038Z"
   },
   {
    "duration": 93,
    "start_time": "2022-03-07T20:27:16.041Z"
   },
   {
    "duration": 91,
    "start_time": "2022-03-07T20:27:16.044Z"
   },
   {
    "duration": 90,
    "start_time": "2022-03-07T20:27:16.046Z"
   },
   {
    "duration": 55,
    "start_time": "2022-03-07T20:27:36.319Z"
   },
   {
    "duration": 14,
    "start_time": "2022-03-07T20:27:40.409Z"
   },
   {
    "duration": 40,
    "start_time": "2022-03-07T20:27:40.426Z"
   },
   {
    "duration": 72,
    "start_time": "2022-03-07T20:27:40.469Z"
   },
   {
    "duration": 13,
    "start_time": "2022-03-07T20:27:40.544Z"
   },
   {
    "duration": 43,
    "start_time": "2022-03-07T20:27:40.559Z"
   },
   {
    "duration": 5,
    "start_time": "2022-03-07T20:27:40.604Z"
   },
   {
    "duration": 12,
    "start_time": "2022-03-07T20:27:40.611Z"
   },
   {
    "duration": 9,
    "start_time": "2022-03-07T20:27:40.627Z"
   },
   {
    "duration": 15,
    "start_time": "2022-03-07T20:27:40.638Z"
   },
   {
    "duration": 9,
    "start_time": "2022-03-07T20:27:40.655Z"
   },
   {
    "duration": 46,
    "start_time": "2022-03-07T20:27:40.666Z"
   },
   {
    "duration": 22,
    "start_time": "2022-03-07T20:27:40.714Z"
   },
   {
    "duration": 9,
    "start_time": "2022-03-07T20:27:40.738Z"
   },
   {
    "duration": 24,
    "start_time": "2022-03-07T20:27:40.749Z"
   },
   {
    "duration": 30,
    "start_time": "2022-03-07T20:27:40.775Z"
   },
   {
    "duration": 232,
    "start_time": "2022-03-07T20:27:40.807Z"
   },
   {
    "duration": 155,
    "start_time": "2022-03-07T20:27:40.886Z"
   },
   {
    "duration": 152,
    "start_time": "2022-03-07T20:27:40.890Z"
   },
   {
    "duration": 150,
    "start_time": "2022-03-07T20:27:40.893Z"
   },
   {
    "duration": 149,
    "start_time": "2022-03-07T20:27:40.895Z"
   },
   {
    "duration": 148,
    "start_time": "2022-03-07T20:27:40.898Z"
   },
   {
    "duration": 147,
    "start_time": "2022-03-07T20:27:40.900Z"
   },
   {
    "duration": 146,
    "start_time": "2022-03-07T20:27:40.902Z"
   },
   {
    "duration": 144,
    "start_time": "2022-03-07T20:27:40.905Z"
   },
   {
    "duration": 247,
    "start_time": "2022-03-07T20:29:31.236Z"
   },
   {
    "duration": 4,
    "start_time": "2022-03-07T20:29:46.092Z"
   },
   {
    "duration": 7804,
    "start_time": "2022-03-07T20:30:50.742Z"
   },
   {
    "duration": 4,
    "start_time": "2022-03-07T20:31:04.900Z"
   },
   {
    "duration": 4,
    "start_time": "2022-03-07T20:31:10.041Z"
   },
   {
    "duration": 262,
    "start_time": "2022-03-07T20:31:21.577Z"
   },
   {
    "duration": 1332,
    "start_time": "2022-03-07T20:31:24.693Z"
   },
   {
    "duration": 3,
    "start_time": "2022-03-07T20:31:39.629Z"
   },
   {
    "duration": 4,
    "start_time": "2022-03-07T20:31:42.781Z"
   },
   {
    "duration": 49,
    "start_time": "2022-03-07T20:31:56.308Z"
   },
   {
    "duration": 16,
    "start_time": "2022-03-07T20:31:58.898Z"
   },
   {
    "duration": 31,
    "start_time": "2022-03-07T20:32:01.954Z"
   },
   {
    "duration": 31,
    "start_time": "2022-03-07T20:32:06.885Z"
   },
   {
    "duration": 14,
    "start_time": "2022-03-07T20:32:06.918Z"
   },
   {
    "duration": 17,
    "start_time": "2022-03-07T20:32:06.934Z"
   },
   {
    "duration": 9,
    "start_time": "2022-03-07T20:32:06.953Z"
   },
   {
    "duration": 44,
    "start_time": "2022-03-07T20:32:06.964Z"
   },
   {
    "duration": 24,
    "start_time": "2022-03-07T20:32:07.010Z"
   },
   {
    "duration": 25,
    "start_time": "2022-03-07T20:32:07.036Z"
   },
   {
    "duration": 21,
    "start_time": "2022-03-07T20:32:07.064Z"
   },
   {
    "duration": 34,
    "start_time": "2022-03-07T20:32:07.087Z"
   },
   {
    "duration": 33,
    "start_time": "2022-03-07T20:32:07.123Z"
   },
   {
    "duration": 10,
    "start_time": "2022-03-07T20:32:07.158Z"
   },
   {
    "duration": 32,
    "start_time": "2022-03-07T20:32:07.169Z"
   },
   {
    "duration": 19,
    "start_time": "2022-03-07T20:32:07.202Z"
   },
   {
    "duration": 57,
    "start_time": "2022-03-07T20:32:07.223Z"
   },
   {
    "duration": 24,
    "start_time": "2022-03-07T20:32:07.281Z"
   },
   {
    "duration": 327,
    "start_time": "2022-03-07T20:32:07.307Z"
   },
   {
    "duration": 164,
    "start_time": "2022-03-07T20:32:07.472Z"
   },
   {
    "duration": 163,
    "start_time": "2022-03-07T20:32:07.475Z"
   },
   {
    "duration": 161,
    "start_time": "2022-03-07T20:32:07.478Z"
   },
   {
    "duration": 161,
    "start_time": "2022-03-07T20:32:07.480Z"
   },
   {
    "duration": 158,
    "start_time": "2022-03-07T20:32:07.485Z"
   },
   {
    "duration": 155,
    "start_time": "2022-03-07T20:32:07.489Z"
   },
   {
    "duration": 9,
    "start_time": "2022-03-07T20:32:28.008Z"
   },
   {
    "duration": 218,
    "start_time": "2022-03-07T20:32:46.353Z"
   },
   {
    "duration": 5,
    "start_time": "2022-03-07T20:34:18.796Z"
   },
   {
    "duration": 3433,
    "start_time": "2022-03-07T20:36:10.878Z"
   },
   {
    "duration": 5,
    "start_time": "2022-03-07T20:36:32.345Z"
   },
   {
    "duration": 1172,
    "start_time": "2022-03-07T20:36:41.503Z"
   },
   {
    "duration": 2769,
    "start_time": "2022-03-07T20:36:42.677Z"
   },
   {
    "duration": 4,
    "start_time": "2022-03-07T20:36:45.452Z"
   },
   {
    "duration": 68,
    "start_time": "2022-03-07T20:36:45.457Z"
   },
   {
    "duration": 16,
    "start_time": "2022-03-07T20:36:45.527Z"
   },
   {
    "duration": 28,
    "start_time": "2022-03-07T20:36:45.545Z"
   },
   {
    "duration": 49,
    "start_time": "2022-03-07T20:36:45.575Z"
   },
   {
    "duration": 13,
    "start_time": "2022-03-07T20:36:45.626Z"
   },
   {
    "duration": 17,
    "start_time": "2022-03-07T20:36:45.640Z"
   },
   {
    "duration": 10,
    "start_time": "2022-03-07T20:36:45.660Z"
   },
   {
    "duration": 35,
    "start_time": "2022-03-07T20:36:45.672Z"
   },
   {
    "duration": 16,
    "start_time": "2022-03-07T20:36:45.709Z"
   },
   {
    "duration": 16,
    "start_time": "2022-03-07T20:36:45.727Z"
   },
   {
    "duration": 13,
    "start_time": "2022-03-07T20:36:45.745Z"
   },
   {
    "duration": 18,
    "start_time": "2022-03-07T20:36:45.760Z"
   },
   {
    "duration": 38,
    "start_time": "2022-03-07T20:36:45.779Z"
   },
   {
    "duration": 8,
    "start_time": "2022-03-07T20:36:45.819Z"
   },
   {
    "duration": 29,
    "start_time": "2022-03-07T20:36:45.828Z"
   },
   {
    "duration": 7,
    "start_time": "2022-03-07T20:36:45.859Z"
   },
   {
    "duration": 40,
    "start_time": "2022-03-07T20:36:45.868Z"
   },
   {
    "duration": 19,
    "start_time": "2022-03-07T20:36:45.910Z"
   },
   {
    "duration": 4,
    "start_time": "2022-03-07T20:36:45.932Z"
   },
   {
    "duration": 2554,
    "start_time": "2022-03-07T20:36:45.938Z"
   },
   {
    "duration": 5,
    "start_time": "2022-03-07T20:36:48.494Z"
   },
   {
    "duration": 351,
    "start_time": "2022-03-07T20:36:48.501Z"
   },
   {
    "duration": 8,
    "start_time": "2022-03-07T20:36:48.854Z"
   },
   {
    "duration": 19,
    "start_time": "2022-03-07T20:36:48.863Z"
   },
   {
    "duration": 312,
    "start_time": "2022-03-07T20:36:48.883Z"
   },
   {
    "duration": 315,
    "start_time": "2022-03-07T20:36:49.201Z"
   },
   {
    "duration": 339,
    "start_time": "2022-03-07T20:36:49.518Z"
   },
   {
    "duration": 10,
    "start_time": "2022-03-07T20:36:49.859Z"
   },
   {
    "duration": 31,
    "start_time": "2022-03-07T20:41:31.391Z"
   },
   {
    "duration": 353,
    "start_time": "2022-03-07T20:42:41.281Z"
   },
   {
    "duration": 2883,
    "start_time": "2022-03-07T20:42:53.211Z"
   },
   {
    "duration": 7,
    "start_time": "2022-03-07T20:43:08.484Z"
   },
   {
    "duration": 16,
    "start_time": "2022-03-07T20:43:17.240Z"
   },
   {
    "duration": 19,
    "start_time": "2022-03-07T20:43:47.797Z"
   },
   {
    "duration": 113,
    "start_time": "2022-03-07T20:45:06.682Z"
   },
   {
    "duration": 74,
    "start_time": "2022-03-07T20:45:15.149Z"
   },
   {
    "duration": 377,
    "start_time": "2022-03-07T20:45:27.742Z"
   },
   {
    "duration": 488,
    "start_time": "2022-03-07T20:46:11.332Z"
   },
   {
    "duration": 443,
    "start_time": "2022-03-07T20:46:25.479Z"
   },
   {
    "duration": 322,
    "start_time": "2022-03-07T20:46:37.494Z"
   },
   {
    "duration": 313,
    "start_time": "2022-03-07T20:46:43.562Z"
   },
   {
    "duration": 336,
    "start_time": "2022-03-07T20:47:28.100Z"
   },
   {
    "duration": 330,
    "start_time": "2022-03-07T20:48:11.674Z"
   },
   {
    "duration": 9,
    "start_time": "2022-03-07T20:48:16.108Z"
   },
   {
    "duration": 259,
    "start_time": "2022-03-07T20:50:26.837Z"
   },
   {
    "duration": 9,
    "start_time": "2022-03-07T20:50:31.817Z"
   },
   {
    "duration": 286,
    "start_time": "2022-03-07T20:51:01.437Z"
   },
   {
    "duration": 11,
    "start_time": "2022-03-07T20:57:05.171Z"
   },
   {
    "duration": 15,
    "start_time": "2022-03-07T20:58:31.222Z"
   },
   {
    "duration": 10,
    "start_time": "2022-03-07T20:59:22.175Z"
   },
   {
    "duration": 38,
    "start_time": "2022-03-07T21:00:05.838Z"
   },
   {
    "duration": 11,
    "start_time": "2022-03-07T21:01:24.730Z"
   },
   {
    "duration": 20,
    "start_time": "2022-03-07T21:01:41.354Z"
   },
   {
    "duration": 273,
    "start_time": "2022-03-07T21:03:27.016Z"
   },
   {
    "duration": 21,
    "start_time": "2022-03-07T21:03:48.318Z"
   },
   {
    "duration": 22,
    "start_time": "2022-03-07T21:04:31.384Z"
   },
   {
    "duration": 12,
    "start_time": "2022-03-07T21:05:00.484Z"
   },
   {
    "duration": 16,
    "start_time": "2022-03-07T21:05:08.167Z"
   },
   {
    "duration": 267,
    "start_time": "2022-03-07T21:09:10.734Z"
   },
   {
    "duration": 8,
    "start_time": "2022-03-07T21:09:46.651Z"
   },
   {
    "duration": 113,
    "start_time": "2022-03-07T21:22:30.189Z"
   },
   {
    "duration": 3,
    "start_time": "2022-03-07T21:22:48.409Z"
   },
   {
    "duration": 231,
    "start_time": "2022-03-07T21:23:20.837Z"
   },
   {
    "duration": 5,
    "start_time": "2022-03-07T21:23:28.180Z"
   },
   {
    "duration": 8,
    "start_time": "2022-03-07T21:23:36.817Z"
   },
   {
    "duration": 9,
    "start_time": "2022-03-07T21:24:33.409Z"
   },
   {
    "duration": 234,
    "start_time": "2022-03-07T21:26:07.771Z"
   },
   {
    "duration": 276,
    "start_time": "2022-03-07T21:26:20.306Z"
   },
   {
    "duration": 18,
    "start_time": "2022-03-07T21:27:07.516Z"
   },
   {
    "duration": 249,
    "start_time": "2022-03-07T21:31:06.374Z"
   },
   {
    "duration": 89,
    "start_time": "2022-03-07T21:31:15.526Z"
   },
   {
    "duration": 19,
    "start_time": "2022-03-07T21:31:19.104Z"
   },
   {
    "duration": 19,
    "start_time": "2022-03-07T21:31:32.161Z"
   },
   {
    "duration": 20,
    "start_time": "2022-03-07T21:32:52.733Z"
   },
   {
    "duration": 199,
    "start_time": "2022-03-07T21:34:07.780Z"
   },
   {
    "duration": 266,
    "start_time": "2022-03-07T21:34:46.300Z"
   },
   {
    "duration": 18,
    "start_time": "2022-03-07T21:35:01.740Z"
   },
   {
    "duration": 31,
    "start_time": "2022-03-07T21:35:16.471Z"
   },
   {
    "duration": 234,
    "start_time": "2022-03-07T21:36:31.687Z"
   },
   {
    "duration": 239,
    "start_time": "2022-03-07T21:37:09.287Z"
   },
   {
    "duration": 1020,
    "start_time": "2022-03-07T21:37:21.054Z"
   },
   {
    "duration": 188,
    "start_time": "2022-03-07T21:37:37.778Z"
   },
   {
    "duration": 384,
    "start_time": "2022-03-07T21:37:58.239Z"
   },
   {
    "duration": 91,
    "start_time": "2022-03-07T21:38:58.168Z"
   },
   {
    "duration": 219,
    "start_time": "2022-03-07T21:39:59.621Z"
   },
   {
    "duration": 227,
    "start_time": "2022-03-07T21:40:04.237Z"
   },
   {
    "duration": 224,
    "start_time": "2022-03-07T21:40:17.228Z"
   },
   {
    "duration": 3,
    "start_time": "2022-03-07T21:40:38.446Z"
   },
   {
    "duration": 480,
    "start_time": "2022-03-07T21:40:44.978Z"
   },
   {
    "duration": 5,
    "start_time": "2022-03-07T21:42:44.725Z"
   },
   {
    "duration": 73,
    "start_time": "2022-03-07T21:44:02.204Z"
   },
   {
    "duration": 104,
    "start_time": "2022-03-07T21:44:08.535Z"
   },
   {
    "duration": 256,
    "start_time": "2022-03-07T21:44:13.122Z"
   },
   {
    "duration": 5,
    "start_time": "2022-03-07T21:44:20.322Z"
   },
   {
    "duration": 465,
    "start_time": "2022-03-07T21:44:22.211Z"
   },
   {
    "duration": 503,
    "start_time": "2022-03-07T21:44:39.707Z"
   },
   {
    "duration": 220,
    "start_time": "2022-03-07T22:00:20.362Z"
   },
   {
    "duration": 218,
    "start_time": "2022-03-07T22:00:34.240Z"
   },
   {
    "duration": 24,
    "start_time": "2022-03-07T22:00:36.845Z"
   },
   {
    "duration": 81,
    "start_time": "2022-03-07T22:01:01.033Z"
   },
   {
    "duration": 6,
    "start_time": "2022-03-07T22:01:04.368Z"
   },
   {
    "duration": 233,
    "start_time": "2022-03-07T22:01:17.455Z"
   },
   {
    "duration": 222,
    "start_time": "2022-03-07T22:01:20.305Z"
   },
   {
    "duration": 6,
    "start_time": "2022-03-07T22:01:24.664Z"
   },
   {
    "duration": 489,
    "start_time": "2022-03-08T21:16:26.953Z"
   },
   {
    "duration": 1474,
    "start_time": "2022-03-08T21:16:32.963Z"
   },
   {
    "duration": 10254,
    "start_time": "2022-03-08T21:16:34.440Z"
   },
   {
    "duration": 6,
    "start_time": "2022-03-08T21:16:44.698Z"
   },
   {
    "duration": 75,
    "start_time": "2022-03-08T21:16:44.708Z"
   },
   {
    "duration": 14,
    "start_time": "2022-03-08T21:16:44.786Z"
   },
   {
    "duration": 59,
    "start_time": "2022-03-08T21:16:44.803Z"
   },
   {
    "duration": 68,
    "start_time": "2022-03-08T21:16:44.865Z"
   },
   {
    "duration": 17,
    "start_time": "2022-03-08T21:16:44.939Z"
   },
   {
    "duration": 24,
    "start_time": "2022-03-08T21:16:44.960Z"
   },
   {
    "duration": 7,
    "start_time": "2022-03-08T21:16:44.987Z"
   },
   {
    "duration": 12,
    "start_time": "2022-03-08T21:16:45.032Z"
   },
   {
    "duration": 6,
    "start_time": "2022-03-08T21:16:45.047Z"
   },
   {
    "duration": 13,
    "start_time": "2022-03-08T21:16:45.055Z"
   },
   {
    "duration": 9,
    "start_time": "2022-03-08T21:16:45.070Z"
   },
   {
    "duration": 66,
    "start_time": "2022-03-08T21:16:45.081Z"
   },
   {
    "duration": 31,
    "start_time": "2022-03-08T21:16:45.149Z"
   },
   {
    "duration": 10,
    "start_time": "2022-03-08T21:16:45.183Z"
   },
   {
    "duration": 54,
    "start_time": "2022-03-08T21:16:45.195Z"
   },
   {
    "duration": 10,
    "start_time": "2022-03-08T21:16:45.251Z"
   },
   {
    "duration": 426,
    "start_time": "2022-03-08T21:16:45.263Z"
   },
   {
    "duration": 65,
    "start_time": "2022-03-08T21:16:45.627Z"
   },
   {
    "duration": 61,
    "start_time": "2022-03-08T21:16:45.632Z"
   },
   {
    "duration": 59,
    "start_time": "2022-03-08T21:16:45.636Z"
   },
   {
    "duration": 56,
    "start_time": "2022-03-08T21:16:45.640Z"
   },
   {
    "duration": 53,
    "start_time": "2022-03-08T21:16:45.644Z"
   },
   {
    "duration": 52,
    "start_time": "2022-03-08T21:16:45.647Z"
   },
   {
    "duration": 52,
    "start_time": "2022-03-08T21:16:45.650Z"
   },
   {
    "duration": 49,
    "start_time": "2022-03-08T21:16:45.654Z"
   },
   {
    "duration": 45,
    "start_time": "2022-03-08T21:16:45.660Z"
   },
   {
    "duration": 43,
    "start_time": "2022-03-08T21:16:45.663Z"
   },
   {
    "duration": 41,
    "start_time": "2022-03-08T21:16:45.667Z"
   },
   {
    "duration": 40,
    "start_time": "2022-03-08T21:16:45.670Z"
   },
   {
    "duration": 35,
    "start_time": "2022-03-08T21:16:45.676Z"
   },
   {
    "duration": 34,
    "start_time": "2022-03-08T21:16:45.679Z"
   },
   {
    "duration": 32,
    "start_time": "2022-03-08T21:16:45.682Z"
   },
   {
    "duration": 30,
    "start_time": "2022-03-08T21:16:45.685Z"
   },
   {
    "duration": 26,
    "start_time": "2022-03-08T21:16:45.690Z"
   },
   {
    "duration": 24,
    "start_time": "2022-03-08T21:16:45.694Z"
   },
   {
    "duration": 334,
    "start_time": "2022-03-08T21:17:25.459Z"
   },
   {
    "duration": 1545,
    "start_time": "2022-03-08T21:19:33.535Z"
   },
   {
    "duration": 4034,
    "start_time": "2022-03-08T21:19:35.083Z"
   },
   {
    "duration": 6,
    "start_time": "2022-03-08T21:19:39.121Z"
   },
   {
    "duration": 83,
    "start_time": "2022-03-08T21:19:39.131Z"
   },
   {
    "duration": 20,
    "start_time": "2022-03-08T21:19:39.217Z"
   },
   {
    "duration": 38,
    "start_time": "2022-03-08T21:19:39.239Z"
   },
   {
    "duration": 54,
    "start_time": "2022-03-08T21:19:39.280Z"
   },
   {
    "duration": 17,
    "start_time": "2022-03-08T21:19:39.336Z"
   },
   {
    "duration": 20,
    "start_time": "2022-03-08T21:19:39.357Z"
   },
   {
    "duration": 7,
    "start_time": "2022-03-08T21:19:39.380Z"
   },
   {
    "duration": 49,
    "start_time": "2022-03-08T21:19:39.389Z"
   },
   {
    "duration": 6,
    "start_time": "2022-03-08T21:19:39.441Z"
   },
   {
    "duration": 11,
    "start_time": "2022-03-08T21:19:39.449Z"
   },
   {
    "duration": 13,
    "start_time": "2022-03-08T21:19:39.463Z"
   },
   {
    "duration": 63,
    "start_time": "2022-03-08T21:19:39.478Z"
   },
   {
    "duration": 29,
    "start_time": "2022-03-08T21:19:39.544Z"
   },
   {
    "duration": 9,
    "start_time": "2022-03-08T21:19:39.576Z"
   },
   {
    "duration": 75,
    "start_time": "2022-03-08T21:19:39.588Z"
   },
   {
    "duration": 9,
    "start_time": "2022-03-08T21:19:39.667Z"
   },
   {
    "duration": 15,
    "start_time": "2022-03-08T21:19:39.679Z"
   },
   {
    "duration": 57,
    "start_time": "2022-03-08T21:19:39.696Z"
   },
   {
    "duration": 5,
    "start_time": "2022-03-08T21:19:39.756Z"
   },
   {
    "duration": 4834,
    "start_time": "2022-03-08T21:19:39.763Z"
   },
   {
    "duration": 6,
    "start_time": "2022-03-08T21:19:44.599Z"
   },
   {
    "duration": 535,
    "start_time": "2022-03-08T21:19:44.608Z"
   },
   {
    "duration": 65,
    "start_time": "2022-03-08T21:19:45.081Z"
   },
   {
    "duration": 62,
    "start_time": "2022-03-08T21:19:45.085Z"
   },
   {
    "duration": 60,
    "start_time": "2022-03-08T21:19:45.089Z"
   },
   {
    "duration": 58,
    "start_time": "2022-03-08T21:19:45.092Z"
   },
   {
    "duration": 56,
    "start_time": "2022-03-08T21:19:45.096Z"
   },
   {
    "duration": 54,
    "start_time": "2022-03-08T21:19:45.099Z"
   },
   {
    "duration": 51,
    "start_time": "2022-03-08T21:19:45.103Z"
   },
   {
    "duration": 50,
    "start_time": "2022-03-08T21:19:45.106Z"
   },
   {
    "duration": 47,
    "start_time": "2022-03-08T21:19:45.110Z"
   },
   {
    "duration": 47,
    "start_time": "2022-03-08T21:19:45.112Z"
   },
   {
    "duration": 46,
    "start_time": "2022-03-08T21:19:45.115Z"
   },
   {
    "duration": 44,
    "start_time": "2022-03-08T21:19:45.118Z"
   },
   {
    "duration": 35,
    "start_time": "2022-03-08T21:19:45.128Z"
   },
   {
    "duration": 33,
    "start_time": "2022-03-08T21:19:45.132Z"
   },
   {
    "duration": 1606,
    "start_time": "2022-03-08T21:20:24.826Z"
   },
   {
    "duration": 7674,
    "start_time": "2022-03-08T21:20:26.435Z"
   },
   {
    "duration": 6,
    "start_time": "2022-03-08T21:20:34.116Z"
   },
   {
    "duration": 76,
    "start_time": "2022-03-08T21:20:34.125Z"
   },
   {
    "duration": 20,
    "start_time": "2022-03-08T21:20:34.205Z"
   },
   {
    "duration": 39,
    "start_time": "2022-03-08T21:20:34.227Z"
   },
   {
    "duration": 37,
    "start_time": "2022-03-08T21:20:34.270Z"
   },
   {
    "duration": 39,
    "start_time": "2022-03-08T21:20:34.310Z"
   },
   {
    "duration": 20,
    "start_time": "2022-03-08T21:20:34.352Z"
   },
   {
    "duration": 6,
    "start_time": "2022-03-08T21:20:34.374Z"
   },
   {
    "duration": 56,
    "start_time": "2022-03-08T21:20:34.383Z"
   },
   {
    "duration": 9,
    "start_time": "2022-03-08T21:20:34.442Z"
   },
   {
    "duration": 12,
    "start_time": "2022-03-08T21:20:34.454Z"
   },
   {
    "duration": 11,
    "start_time": "2022-03-08T21:20:34.469Z"
   },
   {
    "duration": 65,
    "start_time": "2022-03-08T21:20:34.483Z"
   },
   {
    "duration": 29,
    "start_time": "2022-03-08T21:20:34.551Z"
   },
   {
    "duration": 8,
    "start_time": "2022-03-08T21:20:34.582Z"
   },
   {
    "duration": 65,
    "start_time": "2022-03-08T21:20:34.593Z"
   },
   {
    "duration": 9,
    "start_time": "2022-03-08T21:20:34.660Z"
   },
   {
    "duration": 16,
    "start_time": "2022-03-08T21:20:34.672Z"
   },
   {
    "duration": 51,
    "start_time": "2022-03-08T21:20:34.690Z"
   },
   {
    "duration": 5,
    "start_time": "2022-03-08T21:20:34.746Z"
   },
   {
    "duration": 5,
    "start_time": "2022-03-08T21:20:34.754Z"
   },
   {
    "duration": 535,
    "start_time": "2022-03-08T21:20:34.762Z"
   },
   {
    "duration": 9,
    "start_time": "2022-03-08T21:20:35.299Z"
   },
   {
    "duration": 22,
    "start_time": "2022-03-08T21:20:35.310Z"
   },
   {
    "duration": 433,
    "start_time": "2022-03-08T21:20:35.335Z"
   },
   {
    "duration": 556,
    "start_time": "2022-03-08T21:20:35.770Z"
   },
   {
    "duration": 506,
    "start_time": "2022-03-08T21:20:36.328Z"
   },
   {
    "duration": 489,
    "start_time": "2022-03-08T21:20:36.837Z"
   },
   {
    "duration": 504,
    "start_time": "2022-03-08T21:20:37.332Z"
   },
   {
    "duration": 465,
    "start_time": "2022-03-08T21:20:37.839Z"
   },
   {
    "duration": 35,
    "start_time": "2022-03-08T21:20:38.307Z"
   },
   {
    "duration": 11,
    "start_time": "2022-03-08T21:20:38.345Z"
   },
   {
    "duration": 6,
    "start_time": "2022-03-08T21:20:38.358Z"
   },
   {
    "duration": 1385,
    "start_time": "2022-03-08T21:20:38.366Z"
   },
   {
    "duration": 734,
    "start_time": "2022-03-08T21:20:39.754Z"
   },
   {
    "duration": 13,
    "start_time": "2022-03-08T21:20:40.491Z"
   },
   {
    "duration": 13,
    "start_time": "2022-03-08T21:20:57.626Z"
   },
   {
    "duration": 24,
    "start_time": "2022-03-08T21:21:04.345Z"
   },
   {
    "duration": 1141,
    "start_time": "2022-03-08T21:22:22.231Z"
   },
   {
    "duration": 15,
    "start_time": "2022-03-08T21:46:50.998Z"
   },
   {
    "duration": 15,
    "start_time": "2022-03-08T21:46:59.050Z"
   },
   {
    "duration": 12,
    "start_time": "2022-03-08T21:47:39.405Z"
   },
   {
    "duration": 18,
    "start_time": "2022-03-08T21:47:54.853Z"
   },
   {
    "duration": 638,
    "start_time": "2022-03-08T21:47:58.682Z"
   },
   {
    "duration": 20,
    "start_time": "2022-03-08T21:48:10.353Z"
   },
   {
    "duration": 364,
    "start_time": "2022-03-08T21:50:28.804Z"
   },
   {
    "duration": 14,
    "start_time": "2022-03-08T21:51:10.532Z"
   },
   {
    "duration": 6,
    "start_time": "2022-03-08T21:59:31.076Z"
   },
   {
    "duration": 6,
    "start_time": "2022-03-08T21:59:49.733Z"
   },
   {
    "duration": 4,
    "start_time": "2022-03-08T22:05:03.472Z"
   },
   {
    "duration": 6,
    "start_time": "2022-03-08T22:06:16.905Z"
   },
   {
    "duration": 105,
    "start_time": "2022-03-08T22:10:42.955Z"
   },
   {
    "duration": 12,
    "start_time": "2022-03-08T22:13:03.336Z"
   },
   {
    "duration": 12,
    "start_time": "2022-03-08T22:13:29.457Z"
   },
   {
    "duration": 16,
    "start_time": "2022-03-08T22:13:52.917Z"
   },
   {
    "duration": 14,
    "start_time": "2022-03-08T22:14:01.065Z"
   },
   {
    "duration": 16,
    "start_time": "2022-03-08T22:14:19.626Z"
   },
   {
    "duration": 17,
    "start_time": "2022-03-08T22:14:24.993Z"
   },
   {
    "duration": 14,
    "start_time": "2022-03-08T22:14:31.221Z"
   },
   {
    "duration": 6,
    "start_time": "2022-03-08T22:16:20.246Z"
   },
   {
    "duration": 334,
    "start_time": "2022-03-08T22:16:26.852Z"
   },
   {
    "duration": 7,
    "start_time": "2022-03-08T22:16:32.043Z"
   },
   {
    "duration": 7,
    "start_time": "2022-03-08T22:16:37.196Z"
   },
   {
    "duration": 7,
    "start_time": "2022-03-08T22:17:13.807Z"
   },
   {
    "duration": 7,
    "start_time": "2022-03-08T22:17:25.581Z"
   },
   {
    "duration": 7,
    "start_time": "2022-03-08T22:17:32.421Z"
   },
   {
    "duration": 1594,
    "start_time": "2022-03-08T22:41:52.749Z"
   },
   {
    "duration": 7242,
    "start_time": "2022-03-08T22:41:54.345Z"
   },
   {
    "duration": 5,
    "start_time": "2022-03-08T22:42:01.590Z"
   },
   {
    "duration": 90,
    "start_time": "2022-03-08T22:42:01.597Z"
   },
   {
    "duration": 20,
    "start_time": "2022-03-08T22:42:01.689Z"
   },
   {
    "duration": 53,
    "start_time": "2022-03-08T22:42:01.711Z"
   },
   {
    "duration": 37,
    "start_time": "2022-03-08T22:42:01.766Z"
   },
   {
    "duration": 40,
    "start_time": "2022-03-08T22:42:01.807Z"
   },
   {
    "duration": 21,
    "start_time": "2022-03-08T22:42:01.850Z"
   },
   {
    "duration": 10,
    "start_time": "2022-03-08T22:42:01.873Z"
   },
   {
    "duration": 45,
    "start_time": "2022-03-08T22:42:01.886Z"
   },
   {
    "duration": 7,
    "start_time": "2022-03-08T22:42:01.934Z"
   },
   {
    "duration": 26,
    "start_time": "2022-03-08T22:42:01.944Z"
   },
   {
    "duration": 20,
    "start_time": "2022-03-08T22:42:01.972Z"
   },
   {
    "duration": 24,
    "start_time": "2022-03-08T22:42:01.994Z"
   },
   {
    "duration": 28,
    "start_time": "2022-03-08T22:42:02.032Z"
   },
   {
    "duration": 10,
    "start_time": "2022-03-08T22:42:02.063Z"
   },
   {
    "duration": 65,
    "start_time": "2022-03-08T22:42:02.077Z"
   },
   {
    "duration": 11,
    "start_time": "2022-03-08T22:42:02.146Z"
   },
   {
    "duration": 22,
    "start_time": "2022-03-08T22:42:02.159Z"
   },
   {
    "duration": 24,
    "start_time": "2022-03-08T22:42:02.184Z"
   },
   {
    "duration": 5,
    "start_time": "2022-03-08T22:42:02.233Z"
   },
   {
    "duration": 503,
    "start_time": "2022-03-08T22:42:02.243Z"
   },
   {
    "duration": 10,
    "start_time": "2022-03-08T22:42:02.749Z"
   },
   {
    "duration": 9,
    "start_time": "2022-03-08T22:42:02.761Z"
   },
   {
    "duration": 434,
    "start_time": "2022-03-08T22:42:02.772Z"
   },
   {
    "duration": 439,
    "start_time": "2022-03-08T22:42:03.208Z"
   },
   {
    "duration": 500,
    "start_time": "2022-03-08T22:42:03.650Z"
   },
   {
    "duration": 441,
    "start_time": "2022-03-08T22:42:04.152Z"
   },
   {
    "duration": 478,
    "start_time": "2022-03-08T22:42:04.596Z"
   },
   {
    "duration": 413,
    "start_time": "2022-03-08T22:42:05.076Z"
   },
   {
    "duration": 22,
    "start_time": "2022-03-08T22:42:05.491Z"
   },
   {
    "duration": 9,
    "start_time": "2022-03-08T22:42:05.531Z"
   },
   {
    "duration": 6,
    "start_time": "2022-03-08T22:42:05.542Z"
   },
   {
    "duration": 1214,
    "start_time": "2022-03-08T22:42:05.550Z"
   },
   {
    "duration": 736,
    "start_time": "2022-03-08T22:42:06.766Z"
   },
   {
    "duration": 40,
    "start_time": "2022-03-08T22:42:07.505Z"
   },
   {
    "duration": 15,
    "start_time": "2022-03-08T22:42:07.548Z"
   },
   {
    "duration": 6,
    "start_time": "2022-03-08T22:42:07.566Z"
   },
   {
    "duration": 9,
    "start_time": "2022-03-08T22:42:07.574Z"
   },
   {
    "duration": 56,
    "start_time": "2022-03-08T22:42:07.585Z"
   },
   {
    "duration": 7,
    "start_time": "2022-03-08T22:42:07.644Z"
   },
   {
    "duration": 49,
    "start_time": "2022-03-17T16:28:34.587Z"
   },
   {
    "duration": 1381,
    "start_time": "2022-03-17T16:29:04.072Z"
   },
   {
    "duration": 3,
    "start_time": "2022-03-17T16:29:05.455Z"
   },
   {
    "duration": 9,
    "start_time": "2022-03-17T16:29:05.459Z"
   },
   {
    "duration": 81,
    "start_time": "2022-03-17T16:29:05.470Z"
   },
   {
    "duration": 16,
    "start_time": "2022-03-17T16:29:05.552Z"
   },
   {
    "duration": 28,
    "start_time": "2022-03-17T16:29:05.570Z"
   },
   {
    "duration": 60,
    "start_time": "2022-03-17T16:29:05.600Z"
   },
   {
    "duration": 13,
    "start_time": "2022-03-17T16:29:05.661Z"
   },
   {
    "duration": 15,
    "start_time": "2022-03-17T16:29:05.676Z"
   },
   {
    "duration": 4,
    "start_time": "2022-03-17T16:29:05.694Z"
   },
   {
    "duration": 40,
    "start_time": "2022-03-17T16:29:05.700Z"
   },
   {
    "duration": 7,
    "start_time": "2022-03-17T16:29:05.742Z"
   },
   {
    "duration": 18,
    "start_time": "2022-03-17T16:29:05.751Z"
   },
   {
    "duration": 11,
    "start_time": "2022-03-17T16:29:05.771Z"
   },
   {
    "duration": 14,
    "start_time": "2022-03-17T16:29:05.784Z"
   },
   {
    "duration": 25,
    "start_time": "2022-03-17T16:29:05.800Z"
   },
   {
    "duration": 7,
    "start_time": "2022-03-17T16:29:05.838Z"
   },
   {
    "duration": 28,
    "start_time": "2022-03-17T16:29:05.846Z"
   },
   {
    "duration": 9,
    "start_time": "2022-03-17T16:29:05.876Z"
   },
   {
    "duration": 15,
    "start_time": "2022-03-17T16:29:05.886Z"
   },
   {
    "duration": 39,
    "start_time": "2022-03-17T16:29:05.902Z"
   },
   {
    "duration": 3,
    "start_time": "2022-03-17T16:29:05.943Z"
   },
   {
    "duration": 254,
    "start_time": "2022-03-17T16:29:05.948Z"
   },
   {
    "duration": 8,
    "start_time": "2022-03-17T16:29:06.204Z"
   },
   {
    "duration": 7,
    "start_time": "2022-03-17T16:29:06.214Z"
   },
   {
    "duration": 249,
    "start_time": "2022-03-17T16:29:06.222Z"
   },
   {
    "duration": 258,
    "start_time": "2022-03-17T16:29:06.473Z"
   },
   {
    "duration": 228,
    "start_time": "2022-03-17T16:29:06.737Z"
   },
   {
    "duration": 177,
    "start_time": "2022-03-17T16:29:06.967Z"
   },
   {
    "duration": 0,
    "start_time": "2022-03-17T16:29:07.146Z"
   },
   {
    "duration": 0,
    "start_time": "2022-03-17T16:29:07.148Z"
   },
   {
    "duration": 0,
    "start_time": "2022-03-17T16:29:07.149Z"
   },
   {
    "duration": 0,
    "start_time": "2022-03-17T16:29:07.150Z"
   },
   {
    "duration": 0,
    "start_time": "2022-03-17T16:29:07.152Z"
   },
   {
    "duration": 0,
    "start_time": "2022-03-17T16:29:07.155Z"
   },
   {
    "duration": 0,
    "start_time": "2022-03-17T16:29:07.156Z"
   },
   {
    "duration": 0,
    "start_time": "2022-03-17T16:29:07.158Z"
   },
   {
    "duration": 0,
    "start_time": "2022-03-17T16:29:07.159Z"
   },
   {
    "duration": 0,
    "start_time": "2022-03-17T16:29:07.161Z"
   },
   {
    "duration": 0,
    "start_time": "2022-03-17T16:29:07.162Z"
   },
   {
    "duration": 0,
    "start_time": "2022-03-17T16:29:07.163Z"
   },
   {
    "duration": 0,
    "start_time": "2022-03-17T16:29:07.164Z"
   },
   {
    "duration": 0,
    "start_time": "2022-03-17T16:29:07.165Z"
   },
   {
    "duration": 109,
    "start_time": "2022-03-17T16:32:48.405Z"
   },
   {
    "duration": 307,
    "start_time": "2022-03-17T16:32:57.080Z"
   },
   {
    "duration": 219,
    "start_time": "2022-03-17T16:33:03.992Z"
   },
   {
    "duration": 245,
    "start_time": "2022-03-17T16:33:16.843Z"
   },
   {
    "duration": 235,
    "start_time": "2022-03-17T16:39:55.551Z"
   },
   {
    "duration": 47,
    "start_time": "2022-03-17T22:14:34.105Z"
   },
   {
    "duration": 1433,
    "start_time": "2022-03-17T22:14:42.572Z"
   },
   {
    "duration": 3,
    "start_time": "2022-03-17T22:14:44.007Z"
   },
   {
    "duration": 4,
    "start_time": "2022-03-17T22:14:44.012Z"
   },
   {
    "duration": 69,
    "start_time": "2022-03-17T22:14:44.018Z"
   },
   {
    "duration": 15,
    "start_time": "2022-03-17T22:14:44.089Z"
   },
   {
    "duration": 27,
    "start_time": "2022-03-17T22:14:44.105Z"
   },
   {
    "duration": 58,
    "start_time": "2022-03-17T22:14:44.134Z"
   },
   {
    "duration": 14,
    "start_time": "2022-03-17T22:14:44.194Z"
   },
   {
    "duration": 17,
    "start_time": "2022-03-17T22:14:44.210Z"
   },
   {
    "duration": 5,
    "start_time": "2022-03-17T22:14:44.230Z"
   },
   {
    "duration": 36,
    "start_time": "2022-03-17T22:14:44.236Z"
   },
   {
    "duration": 6,
    "start_time": "2022-03-17T22:14:44.273Z"
   },
   {
    "duration": 10,
    "start_time": "2022-03-17T22:14:44.280Z"
   },
   {
    "duration": 7,
    "start_time": "2022-03-17T22:14:44.291Z"
   },
   {
    "duration": 15,
    "start_time": "2022-03-17T22:14:44.299Z"
   },
   {
    "duration": 51,
    "start_time": "2022-03-17T22:14:44.315Z"
   },
   {
    "duration": 7,
    "start_time": "2022-03-17T22:14:44.368Z"
   },
   {
    "duration": 25,
    "start_time": "2022-03-17T22:14:44.377Z"
   },
   {
    "duration": 7,
    "start_time": "2022-03-17T22:14:44.403Z"
   },
   {
    "duration": 11,
    "start_time": "2022-03-17T22:14:44.412Z"
   },
   {
    "duration": 55,
    "start_time": "2022-03-17T22:14:44.425Z"
   },
   {
    "duration": 4,
    "start_time": "2022-03-17T22:14:44.482Z"
   },
   {
    "duration": 235,
    "start_time": "2022-03-17T22:14:49.006Z"
   },
   {
    "duration": 221,
    "start_time": "2022-03-17T22:16:27.702Z"
   },
   {
    "duration": 261,
    "start_time": "2022-03-17T22:16:34.887Z"
   },
   {
    "duration": 55,
    "start_time": "2022-03-17T22:26:07.167Z"
   },
   {
    "duration": 3,
    "start_time": "2022-03-17T22:26:12.923Z"
   },
   {
    "duration": 5,
    "start_time": "2022-03-17T22:26:12.929Z"
   },
   {
    "duration": 57,
    "start_time": "2022-03-17T22:26:12.936Z"
   },
   {
    "duration": 17,
    "start_time": "2022-03-17T22:26:12.995Z"
   },
   {
    "duration": 58,
    "start_time": "2022-03-17T22:26:13.015Z"
   },
   {
    "duration": 33,
    "start_time": "2022-03-17T22:26:13.075Z"
   },
   {
    "duration": 13,
    "start_time": "2022-03-17T22:26:13.110Z"
   },
   {
    "duration": 43,
    "start_time": "2022-03-17T22:26:13.125Z"
   },
   {
    "duration": 5,
    "start_time": "2022-03-17T22:26:13.170Z"
   },
   {
    "duration": 11,
    "start_time": "2022-03-17T22:26:13.177Z"
   },
   {
    "duration": 6,
    "start_time": "2022-03-17T22:26:13.191Z"
   },
   {
    "duration": 8,
    "start_time": "2022-03-17T22:26:13.198Z"
   },
   {
    "duration": 7,
    "start_time": "2022-03-17T22:26:13.208Z"
   },
   {
    "duration": 51,
    "start_time": "2022-03-17T22:26:13.216Z"
   },
   {
    "duration": 19,
    "start_time": "2022-03-17T22:26:13.269Z"
   },
   {
    "duration": 7,
    "start_time": "2022-03-17T22:26:13.290Z"
   },
   {
    "duration": 25,
    "start_time": "2022-03-17T22:26:13.298Z"
   },
   {
    "duration": 7,
    "start_time": "2022-03-17T22:26:13.324Z"
   },
   {
    "duration": 10,
    "start_time": "2022-03-17T22:26:13.364Z"
   },
   {
    "duration": 15,
    "start_time": "2022-03-17T22:26:13.376Z"
   },
   {
    "duration": 3,
    "start_time": "2022-03-17T22:26:13.393Z"
   },
   {
    "duration": 288,
    "start_time": "2022-03-17T22:26:13.398Z"
   },
   {
    "duration": 6,
    "start_time": "2022-03-17T22:26:13.688Z"
   },
   {
    "duration": 4,
    "start_time": "2022-03-17T22:26:13.695Z"
   },
   {
    "duration": 274,
    "start_time": "2022-03-17T22:26:13.701Z"
   },
   {
    "duration": 359,
    "start_time": "2022-03-17T22:26:13.977Z"
   },
   {
    "duration": 247,
    "start_time": "2022-03-17T22:26:14.337Z"
   },
   {
    "duration": 263,
    "start_time": "2022-03-17T22:26:14.585Z"
   },
   {
    "duration": 202,
    "start_time": "2022-03-17T22:26:14.851Z"
   },
   {
    "duration": 184,
    "start_time": "2022-03-17T22:26:15.063Z"
   },
   {
    "duration": 332,
    "start_time": "2022-03-17T22:26:15.249Z"
   },
   {
    "duration": 19,
    "start_time": "2022-03-17T22:26:15.583Z"
   },
   {
    "duration": 8,
    "start_time": "2022-03-17T22:26:15.603Z"
   },
   {
    "duration": 5,
    "start_time": "2022-03-17T22:26:15.613Z"
   },
   {
    "duration": 436,
    "start_time": "2022-03-17T22:26:15.620Z"
   },
   {
    "duration": 533,
    "start_time": "2022-03-17T22:26:16.063Z"
   },
   {
    "duration": 15,
    "start_time": "2022-03-17T22:26:16.598Z"
   },
   {
    "duration": 12,
    "start_time": "2022-03-17T22:26:16.615Z"
   },
   {
    "duration": 3,
    "start_time": "2022-03-17T22:26:16.629Z"
   },
   {
    "duration": 6,
    "start_time": "2022-03-17T22:26:16.634Z"
   },
   {
    "duration": 31,
    "start_time": "2022-03-17T22:26:16.641Z"
   },
   {
    "duration": 5,
    "start_time": "2022-03-17T22:26:16.674Z"
   },
   {
    "duration": 7,
    "start_time": "2022-03-17T22:45:50.425Z"
   },
   {
    "duration": 8,
    "start_time": "2022-03-17T22:46:01.310Z"
   },
   {
    "duration": 12,
    "start_time": "2022-03-17T22:47:15.681Z"
   },
   {
    "duration": 10,
    "start_time": "2022-03-17T22:47:24.626Z"
   },
   {
    "duration": 13,
    "start_time": "2022-03-17T22:47:50.030Z"
   },
   {
    "duration": 13,
    "start_time": "2022-03-17T22:48:09.664Z"
   },
   {
    "duration": 16,
    "start_time": "2022-03-17T22:55:59.064Z"
   },
   {
    "duration": 92,
    "start_time": "2022-03-18T20:29:01.712Z"
   },
   {
    "duration": 1838,
    "start_time": "2022-03-18T20:29:08.426Z"
   },
   {
    "duration": 3,
    "start_time": "2022-03-18T20:29:10.267Z"
   },
   {
    "duration": 95,
    "start_time": "2022-03-18T20:29:10.272Z"
   },
   {
    "duration": 21,
    "start_time": "2022-03-18T20:29:10.371Z"
   },
   {
    "duration": 62,
    "start_time": "2022-03-18T20:29:10.394Z"
   },
   {
    "duration": 47,
    "start_time": "2022-03-18T20:29:10.458Z"
   },
   {
    "duration": 17,
    "start_time": "2022-03-18T20:29:10.507Z"
   },
   {
    "duration": 41,
    "start_time": "2022-03-18T20:29:10.526Z"
   },
   {
    "duration": 8,
    "start_time": "2022-03-18T20:29:10.570Z"
   },
   {
    "duration": 16,
    "start_time": "2022-03-18T20:29:10.581Z"
   },
   {
    "duration": 12,
    "start_time": "2022-03-18T20:29:10.599Z"
   },
   {
    "duration": 41,
    "start_time": "2022-03-18T20:29:10.613Z"
   },
   {
    "duration": 17,
    "start_time": "2022-03-18T20:29:10.656Z"
   },
   {
    "duration": 33,
    "start_time": "2022-03-18T20:29:10.676Z"
   },
   {
    "duration": 42,
    "start_time": "2022-03-18T20:29:10.711Z"
   },
   {
    "duration": 10,
    "start_time": "2022-03-18T20:29:10.755Z"
   },
   {
    "duration": 37,
    "start_time": "2022-03-18T20:29:10.768Z"
   },
   {
    "duration": 9,
    "start_time": "2022-03-18T20:29:10.808Z"
   },
   {
    "duration": 20,
    "start_time": "2022-03-18T20:29:10.842Z"
   },
   {
    "duration": 24,
    "start_time": "2022-03-18T20:29:10.864Z"
   },
   {
    "duration": 6,
    "start_time": "2022-03-18T20:29:10.890Z"
   },
   {
    "duration": 421,
    "start_time": "2022-03-18T20:29:10.898Z"
   },
   {
    "duration": 9,
    "start_time": "2022-03-18T20:29:11.321Z"
   },
   {
    "duration": 19,
    "start_time": "2022-03-18T20:29:11.343Z"
   },
   {
    "duration": 466,
    "start_time": "2022-03-18T20:29:11.364Z"
   },
   {
    "duration": 506,
    "start_time": "2022-03-18T20:29:11.832Z"
   },
   {
    "duration": 447,
    "start_time": "2022-03-18T20:29:12.342Z"
   },
   {
    "duration": 477,
    "start_time": "2022-03-18T20:29:12.794Z"
   },
   {
    "duration": 359,
    "start_time": "2022-03-18T20:29:13.274Z"
   },
   {
    "duration": 384,
    "start_time": "2022-03-18T20:29:13.643Z"
   },
   {
    "duration": 470,
    "start_time": "2022-03-18T20:29:14.029Z"
   },
   {
    "duration": 44,
    "start_time": "2022-03-18T20:29:14.501Z"
   },
   {
    "duration": 23,
    "start_time": "2022-03-18T20:29:14.555Z"
   },
   {
    "duration": 5,
    "start_time": "2022-03-18T20:29:14.580Z"
   },
   {
    "duration": 753,
    "start_time": "2022-03-18T20:29:14.587Z"
   },
   {
    "duration": 788,
    "start_time": "2022-03-18T20:29:15.342Z"
   },
   {
    "duration": 30,
    "start_time": "2022-03-18T20:29:16.133Z"
   },
   {
    "duration": 14,
    "start_time": "2022-03-18T20:29:49.694Z"
   },
   {
    "duration": 38,
    "start_time": "2022-03-18T20:29:49.710Z"
   },
   {
    "duration": 15,
    "start_time": "2022-03-18T20:29:49.751Z"
   },
   {
    "duration": 22,
    "start_time": "2022-03-18T20:29:49.768Z"
   },
   {
    "duration": 7,
    "start_time": "2022-03-18T20:29:49.792Z"
   },
   {
    "duration": 299,
    "start_time": "2022-03-18T20:29:49.804Z"
   },
   {
    "duration": 784,
    "start_time": "2022-03-18T20:31:46.991Z"
   },
   {
    "duration": 339,
    "start_time": "2022-03-18T20:33:05.639Z"
   },
   {
    "duration": 272,
    "start_time": "2022-03-18T20:36:40.098Z"
   },
   {
    "duration": 912,
    "start_time": "2022-03-18T20:36:54.368Z"
   },
   {
    "duration": 5667,
    "start_time": "2022-03-18T20:37:26.563Z"
   },
   {
    "duration": 221,
    "start_time": "2022-03-18T20:37:40.636Z"
   },
   {
    "duration": 217,
    "start_time": "2022-03-18T20:38:18.765Z"
   },
   {
    "duration": 211,
    "start_time": "2022-03-18T20:38:24.300Z"
   },
   {
    "duration": 239,
    "start_time": "2022-03-18T20:38:39.692Z"
   },
   {
    "duration": 259,
    "start_time": "2022-03-18T20:38:45.968Z"
   },
   {
    "duration": 525,
    "start_time": "2022-03-18T20:38:59.596Z"
   },
   {
    "duration": 805,
    "start_time": "2022-03-18T20:40:44.756Z"
   },
   {
    "duration": 11,
    "start_time": "2022-03-18T20:41:15.523Z"
   },
   {
    "duration": 12,
    "start_time": "2022-03-18T20:42:27.418Z"
   },
   {
    "duration": 1007,
    "start_time": "2022-03-18T20:42:32.343Z"
   },
   {
    "duration": 813,
    "start_time": "2022-03-18T20:42:42.638Z"
   },
   {
    "duration": 821,
    "start_time": "2022-03-18T20:42:49.982Z"
   },
   {
    "duration": 13,
    "start_time": "2022-03-18T20:43:12.777Z"
   },
   {
    "duration": 12,
    "start_time": "2022-03-18T20:43:17.194Z"
   },
   {
    "duration": 13,
    "start_time": "2022-03-18T20:43:23.038Z"
   },
   {
    "duration": 807,
    "start_time": "2022-03-18T20:43:39.965Z"
   },
   {
    "duration": 828,
    "start_time": "2022-03-18T20:43:53.102Z"
   },
   {
    "duration": 2111,
    "start_time": "2022-03-18T20:44:25.032Z"
   },
   {
    "duration": 937,
    "start_time": "2022-03-18T20:44:31.937Z"
   },
   {
    "duration": 947,
    "start_time": "2022-03-18T20:44:35.400Z"
   },
   {
    "duration": 764,
    "start_time": "2022-03-18T20:44:40.495Z"
   },
   {
    "duration": 731,
    "start_time": "2022-03-18T20:45:33.237Z"
   }
  ],
  "kernelspec": {
   "display_name": "Python 3 (ipykernel)",
   "language": "python",
   "name": "python3"
  },
  "language_info": {
   "codemirror_mode": {
    "name": "ipython",
    "version": 3
   },
   "file_extension": ".py",
   "mimetype": "text/x-python",
   "name": "python",
   "nbconvert_exporter": "python",
   "pygments_lexer": "ipython3",
   "version": "3.9.12"
  },
  "toc": {
   "base_numbering": 1,
   "nav_menu": {},
   "number_sections": true,
   "sideBar": true,
   "skip_h1_title": true,
   "title_cell": "Table of Contents",
   "title_sidebar": "Contents",
   "toc_cell": false,
   "toc_position": {
    "height": "calc(100% - 180px)",
    "left": "10px",
    "top": "150px",
    "width": "183.391px"
   },
   "toc_section_display": true,
   "toc_window_display": false
  }
 },
 "nbformat": 4,
 "nbformat_minor": 5
}
